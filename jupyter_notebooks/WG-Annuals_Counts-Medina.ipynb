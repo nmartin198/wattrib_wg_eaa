{
 "cells": [
  {
   "cell_type": "markdown",
   "id": "d17701af-73e7-47b3-8cde-e5afb9dfdf23",
   "metadata": {},
   "source": [
    "# Weather Generator, Annual Averages and Counts: Medina"
   ]
  },
  {
   "cell_type": "markdown",
   "id": "fa4c8225-39c3-4591-8323-8e6ec503eaa9",
   "metadata": {},
   "source": [
    "The purpose of this notebook is to calculate annual average precipitation, PET, and deficit for comparison to 1991-2020 values and to count SPEI and SPI values below/above a threshold."
   ]
  },
  {
   "cell_type": "markdown",
   "id": "b84a9524-05c7-4c01-a94f-9195230b27a5",
   "metadata": {},
   "source": [
    "## Imports and Parameters"
   ]
  },
  {
   "cell_type": "code",
   "execution_count": 1,
   "id": "c6b88a2e-4a72-4087-b762-dcbf3fe3f0cf",
   "metadata": {},
   "outputs": [],
   "source": [
    "%matplotlib inline"
   ]
  },
  {
   "cell_type": "code",
   "execution_count": 2,
   "id": "553f2e5e-02fd-42f6-b25a-ff9ab2803a92",
   "metadata": {},
   "outputs": [],
   "source": [
    "import os\n",
    "from IPython.display import display, HTML\n",
    "import pandas as pd\n",
    "import numpy as np\n",
    "import matplotlib as mpl\n",
    "import matplotlib.pyplot as plt\n",
    "from scipy import stats as sstats\n",
    "from math import exp\n",
    "import datetime as dt\n",
    "import seaborn as sns\n",
    "import pickle\n",
    "from copy import deepcopy"
   ]
  },
  {
   "cell_type": "code",
   "execution_count": 3,
   "id": "a795dfa4-f5e5-479a-85e7-4298d189e5b4",
   "metadata": {},
   "outputs": [],
   "source": [
    "BasKey = \"Medina\""
   ]
  },
  {
   "cell_type": "code",
   "execution_count": 4,
   "id": "24768bd8-d0ee-4c66-8e9a-e80b6512cb42",
   "metadata": {},
   "outputs": [],
   "source": [
    "NumReal = 1000"
   ]
  },
  {
   "cell_type": "code",
   "execution_count": 5,
   "id": "9448731a-804d-449c-910c-488bb95a84cf",
   "metadata": {},
   "outputs": [],
   "source": [
    "plt.rcParams['svg.fonttype'] = 'none'"
   ]
  },
  {
   "cell_type": "code",
   "execution_count": 6,
   "id": "87aa9bc7-21e5-488b-901a-145117c3d1b7",
   "metadata": {},
   "outputs": [],
   "source": [
    "IN_DIR1 = r'C:\\Users\\nmartin\\Documents\\EAA_Drought_Future_Weather\\NumModels\\Final\\%s\\Results\\Simulated' % BasKey\n",
    "IN_DIR2 = r'C:\\Users\\nmartin\\Documents\\EAA_HCP\\Data\\SwRI_Processed\\LOCA2\\CN2031_2060'\n",
    "IN_DIR3 = r'C:\\Users\\nmartin\\Documents\\EAA_HCP\\Data\\SwRI_Processed\\Processed_Historical'\n",
    "OUT_DIR = r'C:\\Users\\nmartin\\Documents\\EAA_Drought_Future_Weather\\NumModels\\Final\\%s\\Results\\Processed' % BasKey"
   ]
  },
  {
   "cell_type": "code",
   "execution_count": 7,
   "id": "6c96ee83-328b-4d4f-82dc-002fcc744bae",
   "metadata": {},
   "outputs": [
    {
     "data": {
      "text/plain": [
       "30"
      ]
     },
     "execution_count": 7,
     "metadata": {},
     "output_type": "execute_result"
    }
   ],
   "source": [
    "CNStartTS = pd.Timestamp( 2031, 1, 1, )\n",
    "CNStopTS = pd.Timestamp( 2060, 12, 31, 23, 59, )\n",
    "CNAnnIndexer = pd.date_range( start=CNStartTS, end=CNStopTS, freq='AS' )\n",
    "len( CNAnnIndexer )"
   ]
  },
  {
   "cell_type": "code",
   "execution_count": 8,
   "id": "e12a7a69-4399-429b-857f-10f7ce3cd074",
   "metadata": {},
   "outputs": [
    {
     "data": {
      "text/plain": [
       "42"
      ]
     },
     "execution_count": 8,
     "metadata": {},
     "output_type": "execute_result"
    }
   ],
   "source": [
    "SimStartTS = pd.Timestamp(2024, 1, 1, 0, )\n",
    "SimStopTS = pd.Timestamp( 2065, 12, 31, 23, 59, )\n",
    "OAAnnIndexer = pd.date_range( start=SimStartTS, end=SimStopTS, freq='AS' )\n",
    "len( OAAnnIndexer )"
   ]
  },
  {
   "cell_type": "code",
   "execution_count": 9,
   "id": "d5e13543-1455-4f82-bb28-9dab7b5e6638",
   "metadata": {},
   "outputs": [],
   "source": [
    "ProjFileRoot = \"%s_R%d_DF.pickle\""
   ]
  },
  {
   "cell_type": "code",
   "execution_count": 10,
   "id": "d078d4e0-f628-4bcd-8c5d-5fcaf72b6a2f",
   "metadata": {},
   "outputs": [],
   "source": [
    "ColsList = list()\n",
    "for cR in range(1, NumReal+1):\n",
    "    ColsList.append( \"R%04d\" % cR )\n",
    "# end for"
   ]
  },
  {
   "cell_type": "code",
   "execution_count": 11,
   "id": "9b5e9b1d-0010-46ad-937d-50c19aefa911",
   "metadata": {},
   "outputs": [],
   "source": [
    "# our standard normal or ZScore parameters\n",
    "ZMu = 0.0\n",
    "ZStd = 1.0"
   ]
  },
  {
   "cell_type": "markdown",
   "id": "2b71ef3c-70d0-4f66-b994-e4b9d862f88e",
   "metadata": {},
   "source": [
    "## Collate Annual Averages"
   ]
  },
  {
   "cell_type": "markdown",
   "id": "d3fc85df-c804-4192-a199-98a563b5461d",
   "metadata": {},
   "source": [
    "Go through all realizations and get annual averages for the entire simulation period. Then get just for our analysis interval and get overall averages for the analysis window."
   ]
  },
  {
   "cell_type": "code",
   "execution_count": 12,
   "id": "f2d54ec2-b159-4712-b6d7-f27d76a690fb",
   "metadata": {},
   "outputs": [],
   "source": [
    "AnnPreDF = pd.DataFrame( 0.0, index=OAAnnIndexer, columns=ColsList, dtype=np.float32 )\n",
    "AnnEToDF = pd.DataFrame( 0.0, index=OAAnnIndexer, columns=ColsList, dtype=np.float32 )\n",
    "AnnDefDF = pd.DataFrame( 0.0, index=OAAnnIndexer, columns=ColsList, dtype=np.float32 )"
   ]
  },
  {
   "cell_type": "code",
   "execution_count": 13,
   "id": "f7a7fdfc-70fc-4dac-95a1-b719ccb97ee4",
   "metadata": {},
   "outputs": [],
   "source": [
    "CNAnnPreDF = pd.DataFrame( 0.0, index=CNAnnIndexer, columns=ColsList, dtype=np.float32 )\n",
    "CNAnnEToDF = pd.DataFrame( 0.0, index=CNAnnIndexer, columns=ColsList, dtype=np.float32 )\n",
    "CNAnnDefDF = pd.DataFrame( 0.0, index=CNAnnIndexer, columns=ColsList, dtype=np.float32 )"
   ]
  },
  {
   "cell_type": "code",
   "execution_count": 14,
   "id": "5b2a86b8-478c-486c-9b04-4f5851fbb606",
   "metadata": {},
   "outputs": [],
   "source": [
    "for cR in range(1, NumReal+1):\n",
    "    curCol = \"R%04d\" % cR\n",
    "    InFiler = os.path.normpath( os.path.join( IN_DIR1, ProjFileRoot % (BasKey, cR) ) )\n",
    "    curDF = pd.read_pickle( InFiler, compression='zip' )\n",
    "    cPreDF = curDF[[\"Precip_mm\"]].copy()\n",
    "    cPreDF.columns = [\"Pre_mm\"]\n",
    "    cEToDF = curDF[[\"ETo_mm\"]].copy()\n",
    "    cDefDF = curDF[[\"Def_mm\"]].copy()\n",
    "    curAnnPre = cPreDF.resample( 'AS' ).sum()\n",
    "    curAnnETo = cEToDF.resample( 'AS' ).sum()\n",
    "    curAnnDef = cDefDF.resample( 'AS' ).sum()\n",
    "    # set to the correct time durations\n",
    "    curCNAnnPre = curAnnPre.loc[CNStartTS:CNStopTS].copy()\n",
    "    curCNAnnETo = curAnnETo.loc[CNStartTS:CNStopTS].copy()\n",
    "    curCNAnnDef = curAnnDef.loc[CNStartTS:CNStopTS].copy()\n",
    "    # now assign to our columns in tracking DataFrames\n",
    "    AnnPreDF[curCol] = curAnnPre[\"Pre_mm\"].to_numpy(dtype=np.float32)\n",
    "    AnnEToDF[curCol] = curAnnETo[\"ETo_mm\"].to_numpy(dtype=np.float32)\n",
    "    AnnDefDF[curCol] = curAnnDef[\"Def_mm\"].to_numpy(dtype=np.float32)\n",
    "    CNAnnPreDF[curCol] = curCNAnnPre[\"Pre_mm\"].to_numpy(dtype=np.float32)\n",
    "    CNAnnEToDF[curCol] = curCNAnnETo[\"ETo_mm\"].to_numpy(dtype=np.float32)\n",
    "    CNAnnDefDF[curCol] = curCNAnnDef[\"Def_mm\"].to_numpy(dtype=np.float32)\n",
    "# end for"
   ]
  },
  {
   "cell_type": "code",
   "execution_count": 15,
   "id": "a2671d99-fad7-48c3-a8d3-7e855793d0f0",
   "metadata": {},
   "outputs": [],
   "source": [
    "AnnPreDF[\"EnsAve\"] = AnnPreDF.mean(axis=1)\n",
    "AnnEToDF[\"EnsAve\"] = AnnEToDF.mean(axis=1)\n",
    "AnnDefDF[\"EnsAve\"] = AnnDefDF.mean(axis=1)\n",
    "CNAnnPreDF[\"EnsAve\"] = CNAnnPreDF.mean(axis=1)\n",
    "CNAnnEToDF[\"EnsAve\"] = CNAnnEToDF.mean(axis=1)\n",
    "CNAnnDefDF[\"EnsAve\"] = CNAnnDefDF.mean(axis=1)\n",
    "ColsList.append( \"EnsAve\" )"
   ]
  },
  {
   "cell_type": "code",
   "execution_count": 16,
   "id": "cc1bfa57-d701-48e4-a0d6-efc09a3fd5e5",
   "metadata": {},
   "outputs": [],
   "source": [
    "AnnSummDF = pd.DataFrame( index=[BasKey], data={\"Pre_mm\" : [CNAnnPreDF[\"EnsAve\"].mean(),], \"ETo_mm\" : [CNAnnEToDF[\"EnsAve\"].mean(),], \n",
    "                                                \"Def_mm\" : [CNAnnDefDF[\"EnsAve\"].mean(),],} )"
   ]
  },
  {
   "cell_type": "markdown",
   "id": "68cc9dae-5833-4d8d-8fd2-4617e67080bf",
   "metadata": {},
   "source": [
    "Output to a spreadsheet"
   ]
  },
  {
   "cell_type": "code",
   "execution_count": 17,
   "id": "4083db5e-3a44-4fa6-b8ba-d6a7787eed39",
   "metadata": {},
   "outputs": [],
   "source": [
    "OutFiler = os.path.normpath( os.path.join( OUT_DIR, \"AnnualAverages_%s_%d-Real.xlsx\" % (BasKey, NumReal) ) )\n",
    "writer = pd.ExcelWriter( OutFiler )\n",
    "workbook  = writer.book\n",
    "format1 = workbook.add_format({'num_format': '#,##0.00'})\n",
    "cLabel = \"Summary\"\n",
    "AnnSummDF.to_excel( writer, sheet_name=cLabel, )\n",
    "# adjust columns\n",
    "writer.sheets[cLabel].set_column( 0, 0, 18 )\n",
    "for column in AnnSummDF:\n",
    "    column_width = max(AnnSummDF[column].astype(str).map(len).max()+6, len(column)+6)\n",
    "    col_idx = AnnSummDF.columns.get_loc(column)\n",
    "    writer.sheets[cLabel].set_column(col_idx+1, col_idx+1, column_width, format1)\n",
    "# end for\n",
    "cLabel = \"Pre_mm_all\"\n",
    "AnnPreDF.to_excel( writer, sheet_name=cLabel, index_label=\"DateTime\", columns=ColsList )\n",
    "# adjust columns\n",
    "writer.sheets[cLabel].set_column( 0, 0, 18 )\n",
    "for column in ColsList:\n",
    "    column_width = max(AnnPreDF[column].astype(str).map(len).max()+6, len(column)+6)\n",
    "    col_idx = AnnPreDF.columns.get_loc(column)\n",
    "    writer.sheets[cLabel].set_column(col_idx+1, col_idx+1, column_width, format1)\n",
    "# end for\n",
    "cLabel = \"ETo_mm_all\"\n",
    "AnnEToDF.to_excel( writer, sheet_name=cLabel, index_label=\"DateTime\", columns=ColsList )\n",
    "# adjust columns\n",
    "writer.sheets[cLabel].set_column( 0, 0, 18 )\n",
    "for column in ColsList:\n",
    "    column_width = max(AnnEToDF[column].astype(str).map(len).max()+6, len(column)+6)\n",
    "    col_idx = AnnEToDF.columns.get_loc(column)\n",
    "    writer.sheets[cLabel].set_column(col_idx+1, col_idx+1, column_width, format1)\n",
    "# end for\n",
    "cLabel = \"Def_mm_all\"\n",
    "AnnDefDF.to_excel( writer, sheet_name=cLabel, index_label=\"DateTime\", columns=ColsList )\n",
    "# adjust columns\n",
    "writer.sheets[cLabel].set_column( 0, 0, 18 )\n",
    "for column in ColsList:\n",
    "    column_width = max(AnnDefDF[column].astype(str).map(len).max()+6, len(column)+6)\n",
    "    col_idx = AnnDefDF.columns.get_loc(column)\n",
    "    writer.sheets[cLabel].set_column(col_idx+1, col_idx+1, column_width, format1)\n",
    "# end for\n",
    "cLabel = \"Pre_mm_CN\"\n",
    "CNAnnPreDF.to_excel( writer, sheet_name=cLabel, index_label=\"DateTime\", columns=ColsList )\n",
    "# adjust columns\n",
    "writer.sheets[cLabel].set_column( 0, 0, 18 )\n",
    "for column in ColsList:\n",
    "    column_width = max(CNAnnPreDF[column].astype(str).map(len).max()+6, len(column)+6)\n",
    "    col_idx = CNAnnPreDF.columns.get_loc(column)\n",
    "    writer.sheets[cLabel].set_column(col_idx+1, col_idx+1, column_width, format1)\n",
    "# end for\n",
    "cLabel = \"ETo_mm_CN\"\n",
    "CNAnnEToDF.to_excel( writer, sheet_name=cLabel, index_label=\"DateTime\", columns=ColsList )\n",
    "# adjust columns\n",
    "writer.sheets[cLabel].set_column( 0, 0, 18 )\n",
    "for column in ColsList:\n",
    "    column_width = max(CNAnnEToDF[column].astype(str).map(len).max()+6, len(column)+6)\n",
    "    col_idx = CNAnnEToDF.columns.get_loc(column)\n",
    "    writer.sheets[cLabel].set_column(col_idx+1, col_idx+1, column_width, format1)\n",
    "# end for\n",
    "cLabel = \"Def_mm_CN\"\n",
    "CNAnnDefDF.to_excel( writer, sheet_name=cLabel, index_label=\"DateTime\", columns=ColsList )\n",
    "# adjust columns\n",
    "writer.sheets[cLabel].set_column( 0, 0, 18 )\n",
    "for column in ColsList:\n",
    "    column_width = max(CNAnnDefDF[column].astype(str).map(len).max()+6, len(column)+6)\n",
    "    col_idx = CNAnnDefDF.columns.get_loc(column)\n",
    "    writer.sheets[cLabel].set_column(col_idx+1, col_idx+1, column_width, format1)\n",
    "# end for\n",
    "writer.close()"
   ]
  },
  {
   "cell_type": "markdown",
   "id": "8cc3ed6f-0207-4113-ac19-bc9da4cc1edd",
   "metadata": {},
   "source": [
    "## Get SPEI and SPI Counts"
   ]
  },
  {
   "cell_type": "markdown",
   "id": "5a30dc5e-3977-4eaf-8de2-9faee359fc1e",
   "metadata": {},
   "source": [
    "Get our counts for SPEI $\\le$ -1.5 and for SPI $\\ge$ 1.5"
   ]
  },
  {
   "cell_type": "code",
   "execution_count": 18,
   "id": "bc1b4225-5b47-429b-91e1-68579d75d744",
   "metadata": {},
   "outputs": [
    {
     "data": {
      "text/plain": [
       "(0.06680720126885807, 0.016666666666666666, 14.968446230453697)"
      ]
     },
     "execution_count": 18,
     "metadata": {},
     "output_type": "execute_result"
    }
   ],
   "source": [
    "F_SPEI = sstats.norm.cdf( -1.5, loc=ZMu, scale=ZStd )\n",
    "F_SPEI, 1.0/60.0, 1.0/F_SPEI"
   ]
  },
  {
   "cell_type": "code",
   "execution_count": 19,
   "id": "09377aa9-7641-40f2-ad6e-420cf927a656",
   "metadata": {},
   "outputs": [
    {
     "data": {
      "text/plain": [
       "(0.9331927987311419,\n",
       " 0.06680720126885809,\n",
       " 0.016666666666666666,\n",
       " 14.968446230453694)"
      ]
     },
     "execution_count": 19,
     "metadata": {},
     "output_type": "execute_result"
    }
   ],
   "source": [
    "F_SPI = sstats.norm.cdf( 1.5, loc=ZMu, scale=ZStd )\n",
    "F_SPI, (1.0 - F_SPI), 1.0/60.0, (1.0/(1.0-F_SPI))"
   ]
  },
  {
   "cell_type": "code",
   "execution_count": 20,
   "id": "d770a46f-efd3-4387-9dee-f8c21f2d3e3e",
   "metadata": {},
   "outputs": [],
   "source": [
    "InFiler = os.path.normpath( os.path.join( OUT_DIR, \"%s_SPEI.xlsx\" % BasKey ) )\n",
    "SpeiDF = pd.read_excel( InFiler, sheet_name=\"SPEI_3mo\", header=0, index_col=0, parse_dates=True )"
   ]
  },
  {
   "cell_type": "code",
   "execution_count": 21,
   "id": "e7f17f48-d42f-4099-8e7b-f00a4608f476",
   "metadata": {},
   "outputs": [],
   "source": [
    "InFiler = os.path.normpath( os.path.join( OUT_DIR, \"%s_SPI.xlsx\" % BasKey ) )\n",
    "SpiDF = pd.read_excel( InFiler, sheet_name=\"SPI_3mo\", header=0, index_col=0, parse_dates=True )"
   ]
  },
  {
   "cell_type": "code",
   "execution_count": 22,
   "id": "3f5a0a08-a7a5-48b0-a0c1-c2f616223999",
   "metadata": {},
   "outputs": [],
   "source": [
    "HistSPEIDF = SpeiDF[[\"SPEI (1981-2010)\"]].copy()\n",
    "L2SPEIDF = SpeiDF[[\"LOCA2 SPEI (2031-2060)\"]].copy()\n",
    "WGSPEIDF = SpeiDF[[\"WG SPEI (2031-2060)\"]].copy()"
   ]
  },
  {
   "cell_type": "code",
   "execution_count": 23,
   "id": "2efa42b2-d85d-4112-8357-def54e0a5150",
   "metadata": {},
   "outputs": [
    {
     "data": {
      "text/plain": [
       "27"
      ]
     },
     "execution_count": 23,
     "metadata": {},
     "output_type": "execute_result"
    }
   ],
   "source": [
    "HistSPEIDF = HistSPEIDF[HistSPEIDF[\"SPEI (1981-2010)\"] <= -1.5].copy()\n",
    "NumHist = len( HistSPEIDF )\n",
    "NumHist"
   ]
  },
  {
   "cell_type": "code",
   "execution_count": 24,
   "id": "e76d1b6c-94ce-4b1d-b3d3-652841d84b93",
   "metadata": {},
   "outputs": [
    {
     "data": {
      "text/html": [
       "<table border=\"1\" class=\"dataframe\">\n",
       "  <thead>\n",
       "    <tr style=\"text-align: right;\">\n",
       "      <th></th>\n",
       "      <th>SPEI (1981-2010)</th>\n",
       "    </tr>\n",
       "    <tr>\n",
       "      <th>DateTime</th>\n",
       "      <th></th>\n",
       "    </tr>\n",
       "  </thead>\n",
       "  <tbody>\n",
       "    <tr>\n",
       "      <th>1993-09-01</th>\n",
       "      <td>-1.532214</td>\n",
       "    </tr>\n",
       "    <tr>\n",
       "      <th>1996-03-01</th>\n",
       "      <td>-1.532991</td>\n",
       "    </tr>\n",
       "    <tr>\n",
       "      <th>1998-06-01</th>\n",
       "      <td>-1.568211</td>\n",
       "    </tr>\n",
       "    <tr>\n",
       "      <th>1999-10-01</th>\n",
       "      <td>-1.886143</td>\n",
       "    </tr>\n",
       "    <tr>\n",
       "      <th>1999-11-01</th>\n",
       "      <td>-1.828730</td>\n",
       "    </tr>\n",
       "    <tr>\n",
       "      <th>2000-01-01</th>\n",
       "      <td>-1.813645</td>\n",
       "    </tr>\n",
       "    <tr>\n",
       "      <th>2006-01-01</th>\n",
       "      <td>-1.508969</td>\n",
       "    </tr>\n",
       "    <tr>\n",
       "      <th>2006-02-01</th>\n",
       "      <td>-1.542725</td>\n",
       "    </tr>\n",
       "    <tr>\n",
       "      <th>2008-11-01</th>\n",
       "      <td>-1.631586</td>\n",
       "    </tr>\n",
       "    <tr>\n",
       "      <th>2009-01-01</th>\n",
       "      <td>-1.666097</td>\n",
       "    </tr>\n",
       "    <tr>\n",
       "      <th>2009-02-01</th>\n",
       "      <td>-1.600177</td>\n",
       "    </tr>\n",
       "    <tr>\n",
       "      <th>2009-08-01</th>\n",
       "      <td>-2.108703</td>\n",
       "    </tr>\n",
       "    <tr>\n",
       "      <th>2011-04-01</th>\n",
       "      <td>-2.128045</td>\n",
       "    </tr>\n",
       "    <tr>\n",
       "      <th>2011-05-01</th>\n",
       "      <td>-2.128045</td>\n",
       "    </tr>\n",
       "    <tr>\n",
       "      <th>2011-06-01</th>\n",
       "      <td>-1.977936</td>\n",
       "    </tr>\n",
       "    <tr>\n",
       "      <th>2011-07-01</th>\n",
       "      <td>-1.932433</td>\n",
       "    </tr>\n",
       "    <tr>\n",
       "      <th>2011-08-01</th>\n",
       "      <td>-2.128045</td>\n",
       "    </tr>\n",
       "    <tr>\n",
       "      <th>2011-09-01</th>\n",
       "      <td>-2.128045</td>\n",
       "    </tr>\n",
       "    <tr>\n",
       "      <th>2011-10-01</th>\n",
       "      <td>-1.738408</td>\n",
       "    </tr>\n",
       "    <tr>\n",
       "      <th>2015-09-01</th>\n",
       "      <td>-1.730366</td>\n",
       "    </tr>\n",
       "    <tr>\n",
       "      <th>2019-09-01</th>\n",
       "      <td>-1.614403</td>\n",
       "    </tr>\n",
       "    <tr>\n",
       "      <th>2020-10-01</th>\n",
       "      <td>-1.541673</td>\n",
       "    </tr>\n",
       "    <tr>\n",
       "      <th>2022-03-01</th>\n",
       "      <td>-1.628039</td>\n",
       "    </tr>\n",
       "    <tr>\n",
       "      <th>2022-04-01</th>\n",
       "      <td>-1.727479</td>\n",
       "    </tr>\n",
       "    <tr>\n",
       "      <th>2022-05-01</th>\n",
       "      <td>-1.721871</td>\n",
       "    </tr>\n",
       "    <tr>\n",
       "      <th>2022-06-01</th>\n",
       "      <td>-1.797218</td>\n",
       "    </tr>\n",
       "    <tr>\n",
       "      <th>2022-07-01</th>\n",
       "      <td>-1.924690</td>\n",
       "    </tr>\n",
       "  </tbody>\n",
       "</table>"
      ],
      "text/plain": [
       "<IPython.core.display.HTML object>"
      ]
     },
     "metadata": {},
     "output_type": "display_data"
    }
   ],
   "source": [
    "display( HTML( HistSPEIDF.to_html() ) )"
   ]
  },
  {
   "cell_type": "code",
   "execution_count": 25,
   "id": "20d7e24b-5ac5-45ea-8db1-15e66d6d63b0",
   "metadata": {},
   "outputs": [
    {
     "data": {
      "text/plain": [
       "-2.128045320510864"
      ]
     },
     "execution_count": 25,
     "metadata": {},
     "output_type": "execute_result"
    }
   ],
   "source": [
    "HistSPEIDF[\"SPEI (1981-2010)\"].min()"
   ]
  },
  {
   "cell_type": "code",
   "execution_count": 26,
   "id": "ebde906e-de7e-407b-9137-d03de7f87704",
   "metadata": {},
   "outputs": [
    {
     "data": {
      "text/plain": [
       "4"
      ]
     },
     "execution_count": 26,
     "metadata": {},
     "output_type": "execute_result"
    }
   ],
   "source": [
    "L2SPEIDF = L2SPEIDF[L2SPEIDF[\"LOCA2 SPEI (2031-2060)\"] <= -1.5].copy()\n",
    "NumL2 = len( L2SPEIDF )\n",
    "NumL2"
   ]
  },
  {
   "cell_type": "code",
   "execution_count": 27,
   "id": "6b129455-efe1-40cd-a3da-471c993b55a2",
   "metadata": {},
   "outputs": [
    {
     "data": {
      "text/html": [
       "<table border=\"1\" class=\"dataframe\">\n",
       "  <thead>\n",
       "    <tr style=\"text-align: right;\">\n",
       "      <th></th>\n",
       "      <th>LOCA2 SPEI (2031-2060)</th>\n",
       "    </tr>\n",
       "    <tr>\n",
       "      <th>DateTime</th>\n",
       "      <th></th>\n",
       "    </tr>\n",
       "  </thead>\n",
       "  <tbody>\n",
       "    <tr>\n",
       "      <th>2000-01-01</th>\n",
       "      <td>-1.585664</td>\n",
       "    </tr>\n",
       "    <tr>\n",
       "      <th>2011-04-01</th>\n",
       "      <td>-1.856091</td>\n",
       "    </tr>\n",
       "    <tr>\n",
       "      <th>2011-05-01</th>\n",
       "      <td>-1.860056</td>\n",
       "    </tr>\n",
       "    <tr>\n",
       "      <th>2011-06-01</th>\n",
       "      <td>-1.689032</td>\n",
       "    </tr>\n",
       "  </tbody>\n",
       "</table>"
      ],
      "text/plain": [
       "<IPython.core.display.HTML object>"
      ]
     },
     "metadata": {},
     "output_type": "display_data"
    }
   ],
   "source": [
    "display( HTML( L2SPEIDF.to_html() ) )"
   ]
  },
  {
   "cell_type": "code",
   "execution_count": 28,
   "id": "c303ac5e-3a06-4e1c-b596-444fc5a4953b",
   "metadata": {},
   "outputs": [
    {
     "data": {
      "text/plain": [
       "-1.860055685043335"
      ]
     },
     "execution_count": 28,
     "metadata": {},
     "output_type": "execute_result"
    }
   ],
   "source": [
    "L2SPEIDF[\"LOCA2 SPEI (2031-2060)\"].min()"
   ]
  },
  {
   "cell_type": "code",
   "execution_count": 29,
   "id": "998879b6-4571-4d14-904b-8b8a7080c67f",
   "metadata": {},
   "outputs": [
    {
     "data": {
      "text/plain": [
       "-1.534514904022217"
      ]
     },
     "execution_count": 29,
     "metadata": {},
     "output_type": "execute_result"
    }
   ],
   "source": [
    "WGSPEIDF[\"WG SPEI (2031-2060)\"].min()"
   ]
  },
  {
   "cell_type": "code",
   "execution_count": 30,
   "id": "2422c6e8-3296-434c-a675-b68a9f4bfb04",
   "metadata": {},
   "outputs": [
    {
     "data": {
      "text/plain": [
       "2"
      ]
     },
     "execution_count": 30,
     "metadata": {},
     "output_type": "execute_result"
    }
   ],
   "source": [
    "WGSPEIDF = WGSPEIDF[WGSPEIDF[\"WG SPEI (2031-2060)\"] <= -1.5].copy()\n",
    "NumWG = len( WGSPEIDF )\n",
    "NumWG"
   ]
  },
  {
   "cell_type": "code",
   "execution_count": 31,
   "id": "c49863ce-e983-492a-a8bf-0dd4c4cd0fdb",
   "metadata": {},
   "outputs": [
    {
     "data": {
      "text/html": [
       "<table border=\"1\" class=\"dataframe\">\n",
       "  <thead>\n",
       "    <tr style=\"text-align: right;\">\n",
       "      <th></th>\n",
       "      <th>WG SPEI (2031-2060)</th>\n",
       "    </tr>\n",
       "    <tr>\n",
       "      <th>DateTime</th>\n",
       "      <th></th>\n",
       "    </tr>\n",
       "  </thead>\n",
       "  <tbody>\n",
       "    <tr>\n",
       "      <th>2011-08-01</th>\n",
       "      <td>-1.525857</td>\n",
       "    </tr>\n",
       "    <tr>\n",
       "      <th>2011-09-01</th>\n",
       "      <td>-1.534515</td>\n",
       "    </tr>\n",
       "  </tbody>\n",
       "</table>"
      ],
      "text/plain": [
       "<IPython.core.display.HTML object>"
      ]
     },
     "metadata": {},
     "output_type": "display_data"
    }
   ],
   "source": [
    "display( HTML( WGSPEIDF.to_html() ) )"
   ]
  },
  {
   "cell_type": "markdown",
   "id": "e867e120-9e88-4cbb-b626-b993c6c868e9",
   "metadata": {},
   "source": [
    "SPI"
   ]
  },
  {
   "cell_type": "code",
   "execution_count": 32,
   "id": "822bd0aa-3b7e-48a0-936a-49b84b469279",
   "metadata": {},
   "outputs": [],
   "source": [
    "HistSPIDF = SpiDF[[\"SPI (1981-2010)\"]].copy()\n",
    "L2SPIDF = SpiDF[[\"LOCA2 SPI (2031-2060)\"]].copy()\n",
    "WGSPIDF = SpiDF[[\"WG SPI (2031-2060)\"]].copy()"
   ]
  },
  {
   "cell_type": "code",
   "execution_count": 33,
   "id": "eae815bb-0ba9-401d-a262-bc74bfb25f50",
   "metadata": {},
   "outputs": [
    {
     "data": {
      "text/plain": [
       "23"
      ]
     },
     "execution_count": 33,
     "metadata": {},
     "output_type": "execute_result"
    }
   ],
   "source": [
    "HistSPIDF = HistSPIDF[HistSPIDF[\"SPI (1981-2010)\"] >= 1.5].copy()\n",
    "NumHistSPI = len( HistSPIDF )\n",
    "NumHistSPI"
   ]
  },
  {
   "cell_type": "code",
   "execution_count": 34,
   "id": "1c0cbd65-b786-4f4f-ad54-db9298dc787c",
   "metadata": {},
   "outputs": [
    {
     "data": {
      "text/html": [
       "<table border=\"1\" class=\"dataframe\">\n",
       "  <thead>\n",
       "    <tr style=\"text-align: right;\">\n",
       "      <th></th>\n",
       "      <th>SPI (1981-2010)</th>\n",
       "    </tr>\n",
       "    <tr>\n",
       "      <th>DateTime</th>\n",
       "      <th></th>\n",
       "    </tr>\n",
       "  </thead>\n",
       "  <tbody>\n",
       "    <tr>\n",
       "      <th>1997-04-01</th>\n",
       "      <td>1.531093</td>\n",
       "    </tr>\n",
       "    <tr>\n",
       "      <th>1997-06-01</th>\n",
       "      <td>1.583901</td>\n",
       "    </tr>\n",
       "    <tr>\n",
       "      <th>1998-10-01</th>\n",
       "      <td>2.077875</td>\n",
       "    </tr>\n",
       "    <tr>\n",
       "      <th>2000-11-01</th>\n",
       "      <td>2.018947</td>\n",
       "    </tr>\n",
       "    <tr>\n",
       "      <th>2000-12-01</th>\n",
       "      <td>1.569906</td>\n",
       "    </tr>\n",
       "    <tr>\n",
       "      <th>2001-01-01</th>\n",
       "      <td>1.775573</td>\n",
       "    </tr>\n",
       "    <tr>\n",
       "      <th>2002-07-01</th>\n",
       "      <td>1.665823</td>\n",
       "    </tr>\n",
       "    <tr>\n",
       "      <th>2002-08-01</th>\n",
       "      <td>1.968268</td>\n",
       "    </tr>\n",
       "    <tr>\n",
       "      <th>2002-09-01</th>\n",
       "      <td>2.240437</td>\n",
       "    </tr>\n",
       "    <tr>\n",
       "      <th>2004-04-01</th>\n",
       "      <td>1.849682</td>\n",
       "    </tr>\n",
       "    <tr>\n",
       "      <th>2004-06-01</th>\n",
       "      <td>1.641733</td>\n",
       "    </tr>\n",
       "    <tr>\n",
       "      <th>2007-03-01</th>\n",
       "      <td>1.684005</td>\n",
       "    </tr>\n",
       "    <tr>\n",
       "      <th>2007-04-01</th>\n",
       "      <td>1.609451</td>\n",
       "    </tr>\n",
       "    <tr>\n",
       "      <th>2007-05-01</th>\n",
       "      <td>2.147266</td>\n",
       "    </tr>\n",
       "    <tr>\n",
       "      <th>2007-07-01</th>\n",
       "      <td>1.733489</td>\n",
       "    </tr>\n",
       "    <tr>\n",
       "      <th>2007-08-01</th>\n",
       "      <td>2.116089</td>\n",
       "    </tr>\n",
       "    <tr>\n",
       "      <th>2007-09-01</th>\n",
       "      <td>2.083907</td>\n",
       "    </tr>\n",
       "    <tr>\n",
       "      <th>2015-05-01</th>\n",
       "      <td>2.267653</td>\n",
       "    </tr>\n",
       "    <tr>\n",
       "      <th>2015-06-01</th>\n",
       "      <td>1.997766</td>\n",
       "    </tr>\n",
       "    <tr>\n",
       "      <th>2016-05-01</th>\n",
       "      <td>1.968886</td>\n",
       "    </tr>\n",
       "    <tr>\n",
       "      <th>2018-09-01</th>\n",
       "      <td>1.976295</td>\n",
       "    </tr>\n",
       "    <tr>\n",
       "      <th>2018-10-01</th>\n",
       "      <td>2.686231</td>\n",
       "    </tr>\n",
       "    <tr>\n",
       "      <th>2018-11-01</th>\n",
       "      <td>2.406861</td>\n",
       "    </tr>\n",
       "  </tbody>\n",
       "</table>"
      ],
      "text/plain": [
       "<IPython.core.display.HTML object>"
      ]
     },
     "metadata": {},
     "output_type": "display_data"
    }
   ],
   "source": [
    "display( HTML( HistSPIDF.to_html() ) )"
   ]
  },
  {
   "cell_type": "code",
   "execution_count": 35,
   "id": "fec88606-6529-4f2f-92fd-61711d9c66c0",
   "metadata": {},
   "outputs": [
    {
     "data": {
      "text/plain": [
       "2.686231136322021"
      ]
     },
     "execution_count": 35,
     "metadata": {},
     "output_type": "execute_result"
    }
   ],
   "source": [
    "HistSPIDF[\"SPI (1981-2010)\"].max()"
   ]
  },
  {
   "cell_type": "code",
   "execution_count": 36,
   "id": "784b194e-0f1e-4263-9e51-9e80dfeaab89",
   "metadata": {},
   "outputs": [
    {
     "data": {
      "text/plain": [
       "51"
      ]
     },
     "execution_count": 36,
     "metadata": {},
     "output_type": "execute_result"
    }
   ],
   "source": [
    "L2SPIDF = L2SPIDF[L2SPIDF[\"LOCA2 SPI (2031-2060)\"] >= 1.5].copy()\n",
    "NumL2SPI = len( L2SPIDF )\n",
    "NumL2SPI"
   ]
  },
  {
   "cell_type": "code",
   "execution_count": 37,
   "id": "2bd15730-24e0-4294-a30f-b14b64da1893",
   "metadata": {},
   "outputs": [
    {
     "data": {
      "text/html": [
       "<table border=\"1\" class=\"dataframe\">\n",
       "  <thead>\n",
       "    <tr style=\"text-align: right;\">\n",
       "      <th></th>\n",
       "      <th>LOCA2 SPI (2031-2060)</th>\n",
       "    </tr>\n",
       "    <tr>\n",
       "      <th>DateTime</th>\n",
       "      <th></th>\n",
       "    </tr>\n",
       "  </thead>\n",
       "  <tbody>\n",
       "    <tr>\n",
       "      <th>1993-01-01</th>\n",
       "      <td>1.595717</td>\n",
       "    </tr>\n",
       "    <tr>\n",
       "      <th>1997-03-01</th>\n",
       "      <td>1.610752</td>\n",
       "    </tr>\n",
       "    <tr>\n",
       "      <th>1997-04-01</th>\n",
       "      <td>2.350918</td>\n",
       "    </tr>\n",
       "    <tr>\n",
       "      <th>1997-05-01</th>\n",
       "      <td>1.529167</td>\n",
       "    </tr>\n",
       "    <tr>\n",
       "      <th>1997-06-01</th>\n",
       "      <td>2.300125</td>\n",
       "    </tr>\n",
       "    <tr>\n",
       "      <th>1998-02-01</th>\n",
       "      <td>2.021856</td>\n",
       "    </tr>\n",
       "    <tr>\n",
       "      <th>1998-03-01</th>\n",
       "      <td>1.886407</td>\n",
       "    </tr>\n",
       "    <tr>\n",
       "      <th>1998-10-01</th>\n",
       "      <td>2.009511</td>\n",
       "    </tr>\n",
       "    <tr>\n",
       "      <th>1998-12-01</th>\n",
       "      <td>1.840927</td>\n",
       "    </tr>\n",
       "    <tr>\n",
       "      <th>2000-11-01</th>\n",
       "      <td>2.144190</td>\n",
       "    </tr>\n",
       "    <tr>\n",
       "      <th>2000-12-01</th>\n",
       "      <td>2.961425</td>\n",
       "    </tr>\n",
       "    <tr>\n",
       "      <th>2001-01-01</th>\n",
       "      <td>2.825189</td>\n",
       "    </tr>\n",
       "    <tr>\n",
       "      <th>2002-01-01</th>\n",
       "      <td>1.567747</td>\n",
       "    </tr>\n",
       "    <tr>\n",
       "      <th>2002-07-01</th>\n",
       "      <td>2.532325</td>\n",
       "    </tr>\n",
       "    <tr>\n",
       "      <th>2002-08-01</th>\n",
       "      <td>2.477388</td>\n",
       "    </tr>\n",
       "    <tr>\n",
       "      <th>2002-09-01</th>\n",
       "      <td>2.415657</td>\n",
       "    </tr>\n",
       "    <tr>\n",
       "      <th>2002-11-01</th>\n",
       "      <td>1.547081</td>\n",
       "    </tr>\n",
       "    <tr>\n",
       "      <th>2002-12-01</th>\n",
       "      <td>1.693028</td>\n",
       "    </tr>\n",
       "    <tr>\n",
       "      <th>2004-03-01</th>\n",
       "      <td>1.961847</td>\n",
       "    </tr>\n",
       "    <tr>\n",
       "      <th>2004-04-01</th>\n",
       "      <td>2.775797</td>\n",
       "    </tr>\n",
       "    <tr>\n",
       "      <th>2004-05-01</th>\n",
       "      <td>1.558595</td>\n",
       "    </tr>\n",
       "    <tr>\n",
       "      <th>2004-06-01</th>\n",
       "      <td>2.382932</td>\n",
       "    </tr>\n",
       "    <tr>\n",
       "      <th>2004-08-01</th>\n",
       "      <td>1.686375</td>\n",
       "    </tr>\n",
       "    <tr>\n",
       "      <th>2004-12-01</th>\n",
       "      <td>1.620714</td>\n",
       "    </tr>\n",
       "    <tr>\n",
       "      <th>2005-01-01</th>\n",
       "      <td>1.523515</td>\n",
       "    </tr>\n",
       "    <tr>\n",
       "      <th>2007-03-01</th>\n",
       "      <td>2.849493</td>\n",
       "    </tr>\n",
       "    <tr>\n",
       "      <th>2007-04-01</th>\n",
       "      <td>2.455108</td>\n",
       "    </tr>\n",
       "    <tr>\n",
       "      <th>2007-05-01</th>\n",
       "      <td>2.875621</td>\n",
       "    </tr>\n",
       "    <tr>\n",
       "      <th>2007-06-01</th>\n",
       "      <td>1.924197</td>\n",
       "    </tr>\n",
       "    <tr>\n",
       "      <th>2007-07-01</th>\n",
       "      <td>2.635366</td>\n",
       "    </tr>\n",
       "    <tr>\n",
       "      <th>2007-08-01</th>\n",
       "      <td>2.642988</td>\n",
       "    </tr>\n",
       "    <tr>\n",
       "      <th>2007-09-01</th>\n",
       "      <td>2.245017</td>\n",
       "    </tr>\n",
       "    <tr>\n",
       "      <th>2009-11-01</th>\n",
       "      <td>1.511580</td>\n",
       "    </tr>\n",
       "    <tr>\n",
       "      <th>2009-12-01</th>\n",
       "      <td>1.734758</td>\n",
       "    </tr>\n",
       "    <tr>\n",
       "      <th>2010-01-01</th>\n",
       "      <td>1.614237</td>\n",
       "    </tr>\n",
       "    <tr>\n",
       "      <th>2010-02-01</th>\n",
       "      <td>1.998392</td>\n",
       "    </tr>\n",
       "    <tr>\n",
       "      <th>2010-03-01</th>\n",
       "      <td>1.935310</td>\n",
       "    </tr>\n",
       "    <tr>\n",
       "      <th>2010-04-01</th>\n",
       "      <td>2.008962</td>\n",
       "    </tr>\n",
       "    <tr>\n",
       "      <th>2012-02-01</th>\n",
       "      <td>1.712759</td>\n",
       "    </tr>\n",
       "    <tr>\n",
       "      <th>2012-03-01</th>\n",
       "      <td>1.627650</td>\n",
       "    </tr>\n",
       "    <tr>\n",
       "      <th>2015-05-01</th>\n",
       "      <td>3.031061</td>\n",
       "    </tr>\n",
       "    <tr>\n",
       "      <th>2015-06-01</th>\n",
       "      <td>2.897923</td>\n",
       "    </tr>\n",
       "    <tr>\n",
       "      <th>2015-07-01</th>\n",
       "      <td>1.952770</td>\n",
       "    </tr>\n",
       "    <tr>\n",
       "      <th>2015-12-01</th>\n",
       "      <td>1.685537</td>\n",
       "    </tr>\n",
       "    <tr>\n",
       "      <th>2016-05-01</th>\n",
       "      <td>2.646106</td>\n",
       "    </tr>\n",
       "    <tr>\n",
       "      <th>2016-06-01</th>\n",
       "      <td>2.086535</td>\n",
       "    </tr>\n",
       "    <tr>\n",
       "      <th>2017-01-01</th>\n",
       "      <td>1.668875</td>\n",
       "    </tr>\n",
       "    <tr>\n",
       "      <th>2017-02-01</th>\n",
       "      <td>1.827770</td>\n",
       "    </tr>\n",
       "    <tr>\n",
       "      <th>2018-09-01</th>\n",
       "      <td>2.127941</td>\n",
       "    </tr>\n",
       "    <tr>\n",
       "      <th>2018-10-01</th>\n",
       "      <td>2.527685</td>\n",
       "    </tr>\n",
       "    <tr>\n",
       "      <th>2018-11-01</th>\n",
       "      <td>2.507873</td>\n",
       "    </tr>\n",
       "  </tbody>\n",
       "</table>"
      ],
      "text/plain": [
       "<IPython.core.display.HTML object>"
      ]
     },
     "metadata": {},
     "output_type": "display_data"
    }
   ],
   "source": [
    "display( HTML( L2SPIDF.to_html() ) )"
   ]
  },
  {
   "cell_type": "code",
   "execution_count": 38,
   "id": "ae6d6cb6-5aae-4690-8602-61192b942124",
   "metadata": {},
   "outputs": [
    {
     "data": {
      "text/plain": [
       "3.031061172485352"
      ]
     },
     "execution_count": 38,
     "metadata": {},
     "output_type": "execute_result"
    }
   ],
   "source": [
    "L2SPIDF[\"LOCA2 SPI (2031-2060)\"].max()"
   ]
  },
  {
   "cell_type": "code",
   "execution_count": 39,
   "id": "44058602-4ad6-4761-bd3b-8035d9ac815c",
   "metadata": {},
   "outputs": [
    {
     "data": {
      "text/plain": [
       "44"
      ]
     },
     "execution_count": 39,
     "metadata": {},
     "output_type": "execute_result"
    }
   ],
   "source": [
    "WGSPIDF = WGSPIDF[WGSPIDF[\"WG SPI (2031-2060)\"] >= 1.5].copy()\n",
    "NumWGSPI = len( WGSPIDF )\n",
    "NumWGSPI"
   ]
  },
  {
   "cell_type": "code",
   "execution_count": 40,
   "id": "5a79d7f4-c5de-4c77-a52e-4610d5701d59",
   "metadata": {},
   "outputs": [
    {
     "data": {
      "text/html": [
       "<table border=\"1\" class=\"dataframe\">\n",
       "  <thead>\n",
       "    <tr style=\"text-align: right;\">\n",
       "      <th></th>\n",
       "      <th>WG SPI (2031-2060)</th>\n",
       "    </tr>\n",
       "    <tr>\n",
       "      <th>DateTime</th>\n",
       "      <th></th>\n",
       "    </tr>\n",
       "  </thead>\n",
       "  <tbody>\n",
       "    <tr>\n",
       "      <th>1994-12-01</th>\n",
       "      <td>3.145511</td>\n",
       "    </tr>\n",
       "    <tr>\n",
       "      <th>1996-12-01</th>\n",
       "      <td>2.367268</td>\n",
       "    </tr>\n",
       "    <tr>\n",
       "      <th>1997-06-01</th>\n",
       "      <td>2.200334</td>\n",
       "    </tr>\n",
       "    <tr>\n",
       "      <th>1997-07-01</th>\n",
       "      <td>1.530531</td>\n",
       "    </tr>\n",
       "    <tr>\n",
       "      <th>1997-12-01</th>\n",
       "      <td>2.360098</td>\n",
       "    </tr>\n",
       "    <tr>\n",
       "      <th>1998-10-01</th>\n",
       "      <td>3.187459</td>\n",
       "    </tr>\n",
       "    <tr>\n",
       "      <th>1998-11-01</th>\n",
       "      <td>1.854985</td>\n",
       "    </tr>\n",
       "    <tr>\n",
       "      <th>1998-12-01</th>\n",
       "      <td>3.683602</td>\n",
       "    </tr>\n",
       "    <tr>\n",
       "      <th>2000-11-01</th>\n",
       "      <td>3.761230</td>\n",
       "    </tr>\n",
       "    <tr>\n",
       "      <th>2000-12-01</th>\n",
       "      <td>5.369743</td>\n",
       "    </tr>\n",
       "    <tr>\n",
       "      <th>2001-01-01</th>\n",
       "      <td>1.939608</td>\n",
       "    </tr>\n",
       "    <tr>\n",
       "      <th>2001-11-01</th>\n",
       "      <td>1.720881</td>\n",
       "    </tr>\n",
       "    <tr>\n",
       "      <th>2001-12-01</th>\n",
       "      <td>3.090076</td>\n",
       "    </tr>\n",
       "    <tr>\n",
       "      <th>2002-07-01</th>\n",
       "      <td>3.305406</td>\n",
       "    </tr>\n",
       "    <tr>\n",
       "      <th>2002-08-01</th>\n",
       "      <td>3.217670</td>\n",
       "    </tr>\n",
       "    <tr>\n",
       "      <th>2002-09-01</th>\n",
       "      <td>3.930064</td>\n",
       "    </tr>\n",
       "    <tr>\n",
       "      <th>2002-10-01</th>\n",
       "      <td>2.118420</td>\n",
       "    </tr>\n",
       "    <tr>\n",
       "      <th>2002-11-01</th>\n",
       "      <td>2.726168</td>\n",
       "    </tr>\n",
       "    <tr>\n",
       "      <th>2002-12-01</th>\n",
       "      <td>3.461488</td>\n",
       "    </tr>\n",
       "    <tr>\n",
       "      <th>2004-04-01</th>\n",
       "      <td>1.815070</td>\n",
       "    </tr>\n",
       "    <tr>\n",
       "      <th>2004-06-01</th>\n",
       "      <td>2.300859</td>\n",
       "    </tr>\n",
       "    <tr>\n",
       "      <th>2004-08-01</th>\n",
       "      <td>1.615894</td>\n",
       "    </tr>\n",
       "    <tr>\n",
       "      <th>2004-11-01</th>\n",
       "      <td>2.257678</td>\n",
       "    </tr>\n",
       "    <tr>\n",
       "      <th>2004-12-01</th>\n",
       "      <td>3.352917</td>\n",
       "    </tr>\n",
       "    <tr>\n",
       "      <th>2007-04-01</th>\n",
       "      <td>1.539955</td>\n",
       "    </tr>\n",
       "    <tr>\n",
       "      <th>2007-05-01</th>\n",
       "      <td>2.688403</td>\n",
       "    </tr>\n",
       "    <tr>\n",
       "      <th>2007-06-01</th>\n",
       "      <td>1.742456</td>\n",
       "    </tr>\n",
       "    <tr>\n",
       "      <th>2007-07-01</th>\n",
       "      <td>3.470062</td>\n",
       "    </tr>\n",
       "    <tr>\n",
       "      <th>2007-08-01</th>\n",
       "      <td>3.552016</td>\n",
       "    </tr>\n",
       "    <tr>\n",
       "      <th>2007-09-01</th>\n",
       "      <td>3.548439</td>\n",
       "    </tr>\n",
       "    <tr>\n",
       "      <th>2009-11-01</th>\n",
       "      <td>2.665069</td>\n",
       "    </tr>\n",
       "    <tr>\n",
       "      <th>2009-12-01</th>\n",
       "      <td>3.524150</td>\n",
       "    </tr>\n",
       "    <tr>\n",
       "      <th>2011-12-01</th>\n",
       "      <td>1.983186</td>\n",
       "    </tr>\n",
       "    <tr>\n",
       "      <th>2015-05-01</th>\n",
       "      <td>2.850616</td>\n",
       "    </tr>\n",
       "    <tr>\n",
       "      <th>2015-06-01</th>\n",
       "      <td>2.923728</td>\n",
       "    </tr>\n",
       "    <tr>\n",
       "      <th>2015-07-01</th>\n",
       "      <td>2.378055</td>\n",
       "    </tr>\n",
       "    <tr>\n",
       "      <th>2015-12-01</th>\n",
       "      <td>3.450240</td>\n",
       "    </tr>\n",
       "    <tr>\n",
       "      <th>2016-05-01</th>\n",
       "      <td>2.448318</td>\n",
       "    </tr>\n",
       "    <tr>\n",
       "      <th>2016-06-01</th>\n",
       "      <td>1.940502</td>\n",
       "    </tr>\n",
       "    <tr>\n",
       "      <th>2016-12-01</th>\n",
       "      <td>1.779963</td>\n",
       "    </tr>\n",
       "    <tr>\n",
       "      <th>2018-09-01</th>\n",
       "      <td>3.286812</td>\n",
       "    </tr>\n",
       "    <tr>\n",
       "      <th>2018-10-01</th>\n",
       "      <td>4.197536</td>\n",
       "    </tr>\n",
       "    <tr>\n",
       "      <th>2018-11-01</th>\n",
       "      <td>4.397342</td>\n",
       "    </tr>\n",
       "    <tr>\n",
       "      <th>2018-12-01</th>\n",
       "      <td>3.082979</td>\n",
       "    </tr>\n",
       "  </tbody>\n",
       "</table>"
      ],
      "text/plain": [
       "<IPython.core.display.HTML object>"
      ]
     },
     "metadata": {},
     "output_type": "display_data"
    }
   ],
   "source": [
    "display( HTML( WGSPIDF.to_html() ) )"
   ]
  },
  {
   "cell_type": "code",
   "execution_count": 41,
   "id": "ea0db9da-9d24-40f8-9b28-3c4589a900ed",
   "metadata": {},
   "outputs": [
    {
     "data": {
      "text/plain": [
       "5.369743347167969"
      ]
     },
     "execution_count": 41,
     "metadata": {},
     "output_type": "execute_result"
    }
   ],
   "source": [
    "WGSPIDF[\"WG SPI (2031-2060)\"].max()"
   ]
  },
  {
   "cell_type": "markdown",
   "id": "100f7997-9549-49d9-8d89-0eec65e67d21",
   "metadata": {},
   "source": [
    "## Box and Whisker Plots of Annual Totals"
   ]
  },
  {
   "cell_type": "markdown",
   "id": "9f89d3ce-386b-41df-9e90-b505467d3cee",
   "metadata": {},
   "source": [
    "Make Box and Whisker Plot of the annual total precipitation depth collections."
   ]
  },
  {
   "cell_type": "code",
   "execution_count": 42,
   "id": "79d3e513-10f0-484a-bdb4-0d7e243fb2f0",
   "metadata": {},
   "outputs": [],
   "source": [
    "modColsLister = deepcopy( ColsList )\n",
    "modColsLister.remove( \"EnsAve\" )"
   ]
  },
  {
   "cell_type": "code",
   "execution_count": 43,
   "id": "eb9cdf39-a054-49d9-82e5-643295b39377",
   "metadata": {},
   "outputs": [],
   "source": [
    "WGAnnValuesList = list()"
   ]
  },
  {
   "cell_type": "code",
   "execution_count": 44,
   "id": "f0e43c4b-e3de-463f-9273-7aa663e7dc96",
   "metadata": {},
   "outputs": [],
   "source": [
    "for tCol in modColsLister:\n",
    "    WGAnnValuesList.append( CNAnnPreDF[tCol].to_numpy(dtype=np.float32).flatten() )\n",
    "# end for"
   ]
  },
  {
   "cell_type": "code",
   "execution_count": 45,
   "id": "207574c7-13e4-4faf-9f40-cfdf86a99cd8",
   "metadata": {},
   "outputs": [
    {
     "data": {
      "text/plain": [
       "30000"
      ]
     },
     "execution_count": 45,
     "metadata": {},
     "output_type": "execute_result"
    }
   ],
   "source": [
    "npWGAnnVals = np.concatenate( WGAnnValuesList )\n",
    "NumWG = len( npWGAnnVals )\n",
    "NumWG"
   ]
  },
  {
   "cell_type": "code",
   "execution_count": 46,
   "id": "fc7e21b7-a3be-4879-aa56-590d8d3d513f",
   "metadata": {},
   "outputs": [
    {
     "data": {
      "text/plain": [
       "(869.6649, 885.8201, 186.3104)"
      ]
     },
     "execution_count": 46,
     "metadata": {},
     "output_type": "execute_result"
    }
   ],
   "source": [
    "np.median( npWGAnnVals ), npWGAnnVals.mean(), npWGAnnVals.std()"
   ]
  },
  {
   "cell_type": "code",
   "execution_count": 47,
   "id": "20cdcac6-3974-4c16-8db8-0e878261f017",
   "metadata": {},
   "outputs": [],
   "source": [
    "WGLabelsList = [ \"WG 2031-2060\" for x in range(NumWG) ]"
   ]
  },
  {
   "cell_type": "code",
   "execution_count": 48,
   "id": "ed00b18d-d865-4f71-a274-ee7adb647219",
   "metadata": {},
   "outputs": [],
   "source": [
    "InFiler = os.path.normpath( os.path.join( IN_DIR2, \"%s_MonTS_2031to2060.xlsx\" % BasKey ) )\n",
    "MonTSDF = pd.read_excel( InFiler, sheet_name=\"Pre_mm\", index_col=0, header=0 )"
   ]
  },
  {
   "cell_type": "code",
   "execution_count": 49,
   "id": "f240beff-6097-4a83-860a-cd1c4664694e",
   "metadata": {},
   "outputs": [
    {
     "data": {
      "text/html": [
       "<table border=\"1\" class=\"dataframe\">\n",
       "  <thead>\n",
       "    <tr style=\"text-align: right;\">\n",
       "      <th></th>\n",
       "      <th>Year</th>\n",
       "      <th>Month</th>\n",
       "      <th>Ensemble Average</th>\n",
       "      <th>M51L</th>\n",
       "      <th>M51H</th>\n",
       "      <th>M52L</th>\n",
       "      <th>M52H</th>\n",
       "      <th>M53L</th>\n",
       "      <th>M53H</th>\n",
       "      <th>M55L</th>\n",
       "      <th>M55H</th>\n",
       "      <th>M56L</th>\n",
       "      <th>M56H</th>\n",
       "      <th>M57L</th>\n",
       "      <th>M57H</th>\n",
       "      <th>M58L</th>\n",
       "      <th>M58H</th>\n",
       "      <th>M59L</th>\n",
       "      <th>M59H</th>\n",
       "      <th>M60L</th>\n",
       "      <th>M60H</th>\n",
       "      <th>M61L</th>\n",
       "      <th>M61H</th>\n",
       "      <th>M62L</th>\n",
       "      <th>M62H</th>\n",
       "      <th>M63L</th>\n",
       "      <th>M63H</th>\n",
       "      <th>M64L</th>\n",
       "      <th>M64H</th>\n",
       "      <th>M65L</th>\n",
       "      <th>M65H</th>\n",
       "      <th>M66L</th>\n",
       "      <th>M66H</th>\n",
       "      <th>M67L</th>\n",
       "      <th>M67H</th>\n",
       "      <th>M68L</th>\n",
       "      <th>M68H</th>\n",
       "      <th>M69L</th>\n",
       "      <th>M69H</th>\n",
       "      <th>M70L</th>\n",
       "      <th>M70H</th>\n",
       "      <th>M71L</th>\n",
       "      <th>M71H</th>\n",
       "      <th>M72L</th>\n",
       "      <th>M72H</th>\n",
       "      <th>M73L</th>\n",
       "      <th>M73H</th>\n",
       "      <th>M74L</th>\n",
       "      <th>M74H</th>\n",
       "      <th>Check_EnsAve</th>\n",
       "    </tr>\n",
       "    <tr>\n",
       "      <th>YrMo</th>\n",
       "      <th></th>\n",
       "      <th></th>\n",
       "      <th></th>\n",
       "      <th></th>\n",
       "      <th></th>\n",
       "      <th></th>\n",
       "      <th></th>\n",
       "      <th></th>\n",
       "      <th></th>\n",
       "      <th></th>\n",
       "      <th></th>\n",
       "      <th></th>\n",
       "      <th></th>\n",
       "      <th></th>\n",
       "      <th></th>\n",
       "      <th></th>\n",
       "      <th></th>\n",
       "      <th></th>\n",
       "      <th></th>\n",
       "      <th></th>\n",
       "      <th></th>\n",
       "      <th></th>\n",
       "      <th></th>\n",
       "      <th></th>\n",
       "      <th></th>\n",
       "      <th></th>\n",
       "      <th></th>\n",
       "      <th></th>\n",
       "      <th></th>\n",
       "      <th></th>\n",
       "      <th></th>\n",
       "      <th></th>\n",
       "      <th></th>\n",
       "      <th></th>\n",
       "      <th></th>\n",
       "      <th></th>\n",
       "      <th></th>\n",
       "      <th></th>\n",
       "      <th></th>\n",
       "      <th></th>\n",
       "      <th></th>\n",
       "      <th></th>\n",
       "      <th></th>\n",
       "      <th></th>\n",
       "      <th></th>\n",
       "      <th></th>\n",
       "      <th></th>\n",
       "      <th></th>\n",
       "      <th></th>\n",
       "      <th></th>\n",
       "    </tr>\n",
       "  </thead>\n",
       "  <tbody>\n",
       "    <tr>\n",
       "      <th>203101</th>\n",
       "      <td>2031</td>\n",
       "      <td>1</td>\n",
       "      <td>41.869774</td>\n",
       "      <td>64.937607</td>\n",
       "      <td>4.682339</td>\n",
       "      <td>50.338249</td>\n",
       "      <td>52.497047</td>\n",
       "      <td>16.301079</td>\n",
       "      <td>39.629585</td>\n",
       "      <td>8.697809</td>\n",
       "      <td>6.846725</td>\n",
       "      <td>10.939123</td>\n",
       "      <td>42.764336</td>\n",
       "      <td>23.642532</td>\n",
       "      <td>19.326813</td>\n",
       "      <td>86.831894</td>\n",
       "      <td>46.694622</td>\n",
       "      <td>33.117886</td>\n",
       "      <td>49.772949</td>\n",
       "      <td>24.747404</td>\n",
       "      <td>96.519417</td>\n",
       "      <td>23.748802</td>\n",
       "      <td>55.637695</td>\n",
       "      <td>46.808556</td>\n",
       "      <td>20.172234</td>\n",
       "      <td>34.000122</td>\n",
       "      <td>19.790201</td>\n",
       "      <td>0.014744</td>\n",
       "      <td>36.608425</td>\n",
       "      <td>26.290253</td>\n",
       "      <td>9.459748</td>\n",
       "      <td>76.466576</td>\n",
       "      <td>41.540096</td>\n",
       "      <td>71.730515</td>\n",
       "      <td>133.693344</td>\n",
       "      <td>7.582389</td>\n",
       "      <td>38.675095</td>\n",
       "      <td>86.590584</td>\n",
       "      <td>147.691269</td>\n",
       "      <td>8.575006</td>\n",
       "      <td>5.481248</td>\n",
       "      <td>76.120117</td>\n",
       "      <td>9.896774</td>\n",
       "      <td>89.691292</td>\n",
       "      <td>115.655663</td>\n",
       "      <td>26.496485</td>\n",
       "      <td>5.794892</td>\n",
       "      <td>25.103245</td>\n",
       "      <td>8.406805</td>\n",
       "      <td>41.869770</td>\n",
       "    </tr>\n",
       "    <tr>\n",
       "      <th>203102</th>\n",
       "      <td>2031</td>\n",
       "      <td>2</td>\n",
       "      <td>37.054371</td>\n",
       "      <td>64.595276</td>\n",
       "      <td>39.010838</td>\n",
       "      <td>26.932348</td>\n",
       "      <td>12.933028</td>\n",
       "      <td>67.207306</td>\n",
       "      <td>18.884691</td>\n",
       "      <td>86.163956</td>\n",
       "      <td>57.467545</td>\n",
       "      <td>41.234398</td>\n",
       "      <td>27.508764</td>\n",
       "      <td>3.752947</td>\n",
       "      <td>30.696497</td>\n",
       "      <td>86.019920</td>\n",
       "      <td>10.568591</td>\n",
       "      <td>70.002510</td>\n",
       "      <td>13.635143</td>\n",
       "      <td>34.431721</td>\n",
       "      <td>66.994789</td>\n",
       "      <td>92.746620</td>\n",
       "      <td>12.705218</td>\n",
       "      <td>33.162994</td>\n",
       "      <td>87.310463</td>\n",
       "      <td>18.745770</td>\n",
       "      <td>11.947812</td>\n",
       "      <td>27.075861</td>\n",
       "      <td>12.317522</td>\n",
       "      <td>38.989307</td>\n",
       "      <td>48.278095</td>\n",
       "      <td>61.070366</td>\n",
       "      <td>16.384712</td>\n",
       "      <td>36.348732</td>\n",
       "      <td>35.132809</td>\n",
       "      <td>27.532139</td>\n",
       "      <td>0.263034</td>\n",
       "      <td>98.971054</td>\n",
       "      <td>17.461370</td>\n",
       "      <td>10.112093</td>\n",
       "      <td>0.124119</td>\n",
       "      <td>11.984172</td>\n",
       "      <td>26.485390</td>\n",
       "      <td>17.508230</td>\n",
       "      <td>44.991222</td>\n",
       "      <td>2.138200</td>\n",
       "      <td>57.664658</td>\n",
       "      <td>37.169182</td>\n",
       "      <td>61.839710</td>\n",
       "      <td>37.054371</td>\n",
       "    </tr>\n",
       "    <tr>\n",
       "      <th>203103</th>\n",
       "      <td>2031</td>\n",
       "      <td>3</td>\n",
       "      <td>50.149303</td>\n",
       "      <td>3.735133</td>\n",
       "      <td>72.150177</td>\n",
       "      <td>96.731087</td>\n",
       "      <td>63.302460</td>\n",
       "      <td>58.160255</td>\n",
       "      <td>44.026138</td>\n",
       "      <td>44.790958</td>\n",
       "      <td>29.014816</td>\n",
       "      <td>113.014656</td>\n",
       "      <td>29.987301</td>\n",
       "      <td>79.623108</td>\n",
       "      <td>1.680260</td>\n",
       "      <td>21.929579</td>\n",
       "      <td>8.800610</td>\n",
       "      <td>36.100651</td>\n",
       "      <td>14.207459</td>\n",
       "      <td>94.631203</td>\n",
       "      <td>0.379289</td>\n",
       "      <td>59.967655</td>\n",
       "      <td>21.298664</td>\n",
       "      <td>35.037323</td>\n",
       "      <td>15.358890</td>\n",
       "      <td>15.607019</td>\n",
       "      <td>16.580938</td>\n",
       "      <td>59.001343</td>\n",
       "      <td>30.298937</td>\n",
       "      <td>85.499275</td>\n",
       "      <td>33.105263</td>\n",
       "      <td>142.110672</td>\n",
       "      <td>20.224783</td>\n",
       "      <td>127.864525</td>\n",
       "      <td>69.849487</td>\n",
       "      <td>1.692321</td>\n",
       "      <td>52.102413</td>\n",
       "      <td>103.579819</td>\n",
       "      <td>3.402799</td>\n",
       "      <td>68.499596</td>\n",
       "      <td>33.331787</td>\n",
       "      <td>91.017609</td>\n",
       "      <td>106.865089</td>\n",
       "      <td>43.807632</td>\n",
       "      <td>94.818176</td>\n",
       "      <td>26.544144</td>\n",
       "      <td>63.637360</td>\n",
       "      <td>19.090906</td>\n",
       "      <td>54.408291</td>\n",
       "      <td>50.149296</td>\n",
       "    </tr>\n",
       "    <tr>\n",
       "      <th>203104</th>\n",
       "      <td>2031</td>\n",
       "      <td>4</td>\n",
       "      <td>54.419209</td>\n",
       "      <td>160.287033</td>\n",
       "      <td>83.355103</td>\n",
       "      <td>40.351578</td>\n",
       "      <td>49.224442</td>\n",
       "      <td>26.671030</td>\n",
       "      <td>71.134651</td>\n",
       "      <td>65.305931</td>\n",
       "      <td>21.781687</td>\n",
       "      <td>42.307789</td>\n",
       "      <td>105.713638</td>\n",
       "      <td>36.687763</td>\n",
       "      <td>56.312653</td>\n",
       "      <td>72.138237</td>\n",
       "      <td>45.380466</td>\n",
       "      <td>10.891647</td>\n",
       "      <td>116.570946</td>\n",
       "      <td>10.243416</td>\n",
       "      <td>78.611542</td>\n",
       "      <td>46.949146</td>\n",
       "      <td>42.072334</td>\n",
       "      <td>63.408421</td>\n",
       "      <td>48.353519</td>\n",
       "      <td>35.180233</td>\n",
       "      <td>52.357651</td>\n",
       "      <td>29.709425</td>\n",
       "      <td>53.808846</td>\n",
       "      <td>12.765829</td>\n",
       "      <td>38.532284</td>\n",
       "      <td>92.366707</td>\n",
       "      <td>69.337883</td>\n",
       "      <td>87.372169</td>\n",
       "      <td>57.595909</td>\n",
       "      <td>9.999886</td>\n",
       "      <td>18.001728</td>\n",
       "      <td>32.430599</td>\n",
       "      <td>61.433983</td>\n",
       "      <td>152.018051</td>\n",
       "      <td>20.696344</td>\n",
       "      <td>30.456371</td>\n",
       "      <td>23.868460</td>\n",
       "      <td>169.703857</td>\n",
       "      <td>74.797485</td>\n",
       "      <td>45.927612</td>\n",
       "      <td>16.651194</td>\n",
       "      <td>15.743001</td>\n",
       "      <td>8.775112</td>\n",
       "      <td>54.419205</td>\n",
       "    </tr>\n",
       "    <tr>\n",
       "      <th>203105</th>\n",
       "      <td>2031</td>\n",
       "      <td>5</td>\n",
       "      <td>106.622032</td>\n",
       "      <td>41.068630</td>\n",
       "      <td>75.780144</td>\n",
       "      <td>99.274597</td>\n",
       "      <td>22.950020</td>\n",
       "      <td>65.684692</td>\n",
       "      <td>102.088150</td>\n",
       "      <td>225.667862</td>\n",
       "      <td>41.783459</td>\n",
       "      <td>108.799660</td>\n",
       "      <td>312.423981</td>\n",
       "      <td>99.519791</td>\n",
       "      <td>61.559780</td>\n",
       "      <td>55.686623</td>\n",
       "      <td>266.134888</td>\n",
       "      <td>95.588821</td>\n",
       "      <td>166.009460</td>\n",
       "      <td>75.211716</td>\n",
       "      <td>271.490692</td>\n",
       "      <td>84.898720</td>\n",
       "      <td>13.256799</td>\n",
       "      <td>102.828239</td>\n",
       "      <td>114.707352</td>\n",
       "      <td>55.428799</td>\n",
       "      <td>51.385818</td>\n",
       "      <td>69.866638</td>\n",
       "      <td>149.097488</td>\n",
       "      <td>18.058252</td>\n",
       "      <td>187.148956</td>\n",
       "      <td>95.084381</td>\n",
       "      <td>70.010925</td>\n",
       "      <td>132.187469</td>\n",
       "      <td>178.274323</td>\n",
       "      <td>118.847420</td>\n",
       "      <td>59.321075</td>\n",
       "      <td>72.527901</td>\n",
       "      <td>110.428291</td>\n",
       "      <td>126.892639</td>\n",
       "      <td>122.337982</td>\n",
       "      <td>224.306992</td>\n",
       "      <td>20.405165</td>\n",
       "      <td>196.661545</td>\n",
       "      <td>22.120296</td>\n",
       "      <td>100.967232</td>\n",
       "      <td>110.321701</td>\n",
       "      <td>50.626652</td>\n",
       "      <td>59.891327</td>\n",
       "      <td>106.622025</td>\n",
       "    </tr>\n",
       "  </tbody>\n",
       "</table>"
      ],
      "text/plain": [
       "<IPython.core.display.HTML object>"
      ]
     },
     "metadata": {},
     "output_type": "display_data"
    }
   ],
   "source": [
    "display( HTML( MonTSDF.head().to_html() ) )"
   ]
  },
  {
   "cell_type": "code",
   "execution_count": 50,
   "id": "8785118a-a7a8-4484-86db-bd1561b18f1a",
   "metadata": {},
   "outputs": [],
   "source": [
    "dropCols = [\"Month\", \"Ensemble Average\", \"Check_EnsAve\" ]"
   ]
  },
  {
   "cell_type": "code",
   "execution_count": 51,
   "id": "0464eceb-4f41-4ab2-814c-6fcd7a6b894d",
   "metadata": {},
   "outputs": [],
   "source": [
    "MonTSDF.drop(columns=dropCols, inplace=True )"
   ]
  },
  {
   "cell_type": "code",
   "execution_count": 52,
   "id": "37946b94-c1ee-4c00-8678-ac9828143bf4",
   "metadata": {},
   "outputs": [],
   "source": [
    "L2Cols = list( MonTSDF.columns )\n",
    "L2Cols.remove(\"Year\")"
   ]
  },
  {
   "cell_type": "code",
   "execution_count": 53,
   "id": "38564451-f694-48ff-8aad-9c8f5486bd48",
   "metadata": {},
   "outputs": [],
   "source": [
    "L2AnnDF = MonTSDF.groupby(by=\"Year\").sum()"
   ]
  },
  {
   "cell_type": "code",
   "execution_count": 54,
   "id": "aecb1291-8004-4ea3-8f37-43e1455fca57",
   "metadata": {},
   "outputs": [
    {
     "data": {
      "text/html": [
       "<table border=\"1\" class=\"dataframe\">\n",
       "  <thead>\n",
       "    <tr style=\"text-align: right;\">\n",
       "      <th></th>\n",
       "      <th>M51L</th>\n",
       "      <th>M51H</th>\n",
       "      <th>M52L</th>\n",
       "      <th>M52H</th>\n",
       "      <th>M53L</th>\n",
       "      <th>M53H</th>\n",
       "      <th>M55L</th>\n",
       "      <th>M55H</th>\n",
       "      <th>M56L</th>\n",
       "      <th>M56H</th>\n",
       "      <th>M57L</th>\n",
       "      <th>M57H</th>\n",
       "      <th>M58L</th>\n",
       "      <th>M58H</th>\n",
       "      <th>M59L</th>\n",
       "      <th>M59H</th>\n",
       "      <th>M60L</th>\n",
       "      <th>M60H</th>\n",
       "      <th>M61L</th>\n",
       "      <th>M61H</th>\n",
       "      <th>M62L</th>\n",
       "      <th>M62H</th>\n",
       "      <th>M63L</th>\n",
       "      <th>M63H</th>\n",
       "      <th>M64L</th>\n",
       "      <th>M64H</th>\n",
       "      <th>M65L</th>\n",
       "      <th>M65H</th>\n",
       "      <th>M66L</th>\n",
       "      <th>M66H</th>\n",
       "      <th>M67L</th>\n",
       "      <th>M67H</th>\n",
       "      <th>M68L</th>\n",
       "      <th>M68H</th>\n",
       "      <th>M69L</th>\n",
       "      <th>M69H</th>\n",
       "      <th>M70L</th>\n",
       "      <th>M70H</th>\n",
       "      <th>M71L</th>\n",
       "      <th>M71H</th>\n",
       "      <th>M72L</th>\n",
       "      <th>M72H</th>\n",
       "      <th>M73L</th>\n",
       "      <th>M73H</th>\n",
       "      <th>M74L</th>\n",
       "      <th>M74H</th>\n",
       "    </tr>\n",
       "    <tr>\n",
       "      <th>Year</th>\n",
       "      <th></th>\n",
       "      <th></th>\n",
       "      <th></th>\n",
       "      <th></th>\n",
       "      <th></th>\n",
       "      <th></th>\n",
       "      <th></th>\n",
       "      <th></th>\n",
       "      <th></th>\n",
       "      <th></th>\n",
       "      <th></th>\n",
       "      <th></th>\n",
       "      <th></th>\n",
       "      <th></th>\n",
       "      <th></th>\n",
       "      <th></th>\n",
       "      <th></th>\n",
       "      <th></th>\n",
       "      <th></th>\n",
       "      <th></th>\n",
       "      <th></th>\n",
       "      <th></th>\n",
       "      <th></th>\n",
       "      <th></th>\n",
       "      <th></th>\n",
       "      <th></th>\n",
       "      <th></th>\n",
       "      <th></th>\n",
       "      <th></th>\n",
       "      <th></th>\n",
       "      <th></th>\n",
       "      <th></th>\n",
       "      <th></th>\n",
       "      <th></th>\n",
       "      <th></th>\n",
       "      <th></th>\n",
       "      <th></th>\n",
       "      <th></th>\n",
       "      <th></th>\n",
       "      <th></th>\n",
       "      <th></th>\n",
       "      <th></th>\n",
       "      <th></th>\n",
       "      <th></th>\n",
       "      <th></th>\n",
       "      <th></th>\n",
       "    </tr>\n",
       "  </thead>\n",
       "  <tbody>\n",
       "    <tr>\n",
       "      <th>2031</th>\n",
       "      <td>986.346030</td>\n",
       "      <td>696.083934</td>\n",
       "      <td>674.392836</td>\n",
       "      <td>673.237102</td>\n",
       "      <td>932.360228</td>\n",
       "      <td>755.663919</td>\n",
       "      <td>759.960460</td>\n",
       "      <td>640.151136</td>\n",
       "      <td>723.946287</td>\n",
       "      <td>861.480839</td>\n",
       "      <td>767.510710</td>\n",
       "      <td>717.995222</td>\n",
       "      <td>778.142295</td>\n",
       "      <td>408.241752</td>\n",
       "      <td>675.202593</td>\n",
       "      <td>829.663293</td>\n",
       "      <td>447.312030</td>\n",
       "      <td>681.766578</td>\n",
       "      <td>489.571082</td>\n",
       "      <td>328.120764</td>\n",
       "      <td>640.972331</td>\n",
       "      <td>551.921268</td>\n",
       "      <td>444.898514</td>\n",
       "      <td>567.117329</td>\n",
       "      <td>475.504396</td>\n",
       "      <td>955.765129</td>\n",
       "      <td>477.466656</td>\n",
       "      <td>1092.185842</td>\n",
       "      <td>1007.145336</td>\n",
       "      <td>717.791082</td>\n",
       "      <td>666.502892</td>\n",
       "      <td>1081.300892</td>\n",
       "      <td>668.841553</td>\n",
       "      <td>570.066076</td>\n",
       "      <td>688.162264</td>\n",
       "      <td>698.140715</td>\n",
       "      <td>753.355908</td>\n",
       "      <td>615.142859</td>\n",
       "      <td>858.129477</td>\n",
       "      <td>434.685478</td>\n",
       "      <td>788.176985</td>\n",
       "      <td>819.622668</td>\n",
       "      <td>721.069609</td>\n",
       "      <td>704.252139</td>\n",
       "      <td>460.651831</td>\n",
       "      <td>365.742167</td>\n",
       "    </tr>\n",
       "    <tr>\n",
       "      <th>2032</th>\n",
       "      <td>917.320658</td>\n",
       "      <td>1078.339081</td>\n",
       "      <td>993.650192</td>\n",
       "      <td>652.391981</td>\n",
       "      <td>490.435482</td>\n",
       "      <td>780.272632</td>\n",
       "      <td>732.032132</td>\n",
       "      <td>632.525339</td>\n",
       "      <td>757.723454</td>\n",
       "      <td>551.435213</td>\n",
       "      <td>886.206114</td>\n",
       "      <td>984.525311</td>\n",
       "      <td>931.125300</td>\n",
       "      <td>491.143992</td>\n",
       "      <td>646.142550</td>\n",
       "      <td>1070.756169</td>\n",
       "      <td>807.528104</td>\n",
       "      <td>1161.293922</td>\n",
       "      <td>1042.057574</td>\n",
       "      <td>428.919094</td>\n",
       "      <td>888.165334</td>\n",
       "      <td>685.955784</td>\n",
       "      <td>1142.479538</td>\n",
       "      <td>532.018159</td>\n",
       "      <td>744.700765</td>\n",
       "      <td>560.945159</td>\n",
       "      <td>1222.614627</td>\n",
       "      <td>516.457385</td>\n",
       "      <td>562.032204</td>\n",
       "      <td>737.000786</td>\n",
       "      <td>667.864270</td>\n",
       "      <td>894.510878</td>\n",
       "      <td>541.340750</td>\n",
       "      <td>342.584694</td>\n",
       "      <td>669.740432</td>\n",
       "      <td>918.178755</td>\n",
       "      <td>805.601140</td>\n",
       "      <td>527.465644</td>\n",
       "      <td>594.364008</td>\n",
       "      <td>426.189678</td>\n",
       "      <td>919.710843</td>\n",
       "      <td>496.851916</td>\n",
       "      <td>658.545000</td>\n",
       "      <td>956.148383</td>\n",
       "      <td>672.952742</td>\n",
       "      <td>512.202293</td>\n",
       "    </tr>\n",
       "    <tr>\n",
       "      <th>2033</th>\n",
       "      <td>739.464557</td>\n",
       "      <td>761.435686</td>\n",
       "      <td>588.985250</td>\n",
       "      <td>472.042779</td>\n",
       "      <td>412.216211</td>\n",
       "      <td>689.105829</td>\n",
       "      <td>530.360732</td>\n",
       "      <td>460.386976</td>\n",
       "      <td>894.592146</td>\n",
       "      <td>1295.463064</td>\n",
       "      <td>496.068637</td>\n",
       "      <td>413.975418</td>\n",
       "      <td>534.198480</td>\n",
       "      <td>1012.140368</td>\n",
       "      <td>493.655855</td>\n",
       "      <td>552.871732</td>\n",
       "      <td>570.731057</td>\n",
       "      <td>956.629877</td>\n",
       "      <td>499.800143</td>\n",
       "      <td>728.163548</td>\n",
       "      <td>663.159594</td>\n",
       "      <td>552.237317</td>\n",
       "      <td>365.982476</td>\n",
       "      <td>563.457159</td>\n",
       "      <td>840.282610</td>\n",
       "      <td>727.532668</td>\n",
       "      <td>866.013684</td>\n",
       "      <td>688.419632</td>\n",
       "      <td>435.357015</td>\n",
       "      <td>650.449473</td>\n",
       "      <td>463.350426</td>\n",
       "      <td>995.726023</td>\n",
       "      <td>571.347079</td>\n",
       "      <td>989.152500</td>\n",
       "      <td>623.246280</td>\n",
       "      <td>970.192230</td>\n",
       "      <td>853.177381</td>\n",
       "      <td>394.152763</td>\n",
       "      <td>553.051900</td>\n",
       "      <td>538.219263</td>\n",
       "      <td>900.746274</td>\n",
       "      <td>409.776756</td>\n",
       "      <td>653.600573</td>\n",
       "      <td>712.291097</td>\n",
       "      <td>833.771660</td>\n",
       "      <td>742.835096</td>\n",
       "    </tr>\n",
       "    <tr>\n",
       "      <th>2034</th>\n",
       "      <td>977.267006</td>\n",
       "      <td>1012.039895</td>\n",
       "      <td>1100.942420</td>\n",
       "      <td>638.697110</td>\n",
       "      <td>715.116502</td>\n",
       "      <td>417.950371</td>\n",
       "      <td>701.592276</td>\n",
       "      <td>633.134476</td>\n",
       "      <td>1509.265745</td>\n",
       "      <td>526.531792</td>\n",
       "      <td>1046.533270</td>\n",
       "      <td>1166.004002</td>\n",
       "      <td>423.372405</td>\n",
       "      <td>501.479961</td>\n",
       "      <td>555.043894</td>\n",
       "      <td>1252.608894</td>\n",
       "      <td>450.840059</td>\n",
       "      <td>553.118099</td>\n",
       "      <td>479.798447</td>\n",
       "      <td>848.228397</td>\n",
       "      <td>701.410454</td>\n",
       "      <td>593.901462</td>\n",
       "      <td>515.765436</td>\n",
       "      <td>420.939364</td>\n",
       "      <td>816.912302</td>\n",
       "      <td>402.159371</td>\n",
       "      <td>850.880744</td>\n",
       "      <td>867.145981</td>\n",
       "      <td>841.559252</td>\n",
       "      <td>887.897520</td>\n",
       "      <td>825.831868</td>\n",
       "      <td>462.658033</td>\n",
       "      <td>831.350839</td>\n",
       "      <td>869.071815</td>\n",
       "      <td>513.763567</td>\n",
       "      <td>667.583354</td>\n",
       "      <td>646.350852</td>\n",
       "      <td>682.847758</td>\n",
       "      <td>786.000940</td>\n",
       "      <td>913.908696</td>\n",
       "      <td>367.927811</td>\n",
       "      <td>435.835123</td>\n",
       "      <td>683.239310</td>\n",
       "      <td>682.817656</td>\n",
       "      <td>638.758208</td>\n",
       "      <td>745.669743</td>\n",
       "    </tr>\n",
       "    <tr>\n",
       "      <th>2035</th>\n",
       "      <td>787.840221</td>\n",
       "      <td>491.645628</td>\n",
       "      <td>839.372185</td>\n",
       "      <td>1016.485424</td>\n",
       "      <td>1348.723712</td>\n",
       "      <td>1187.769655</td>\n",
       "      <td>1196.423487</td>\n",
       "      <td>401.914125</td>\n",
       "      <td>404.880306</td>\n",
       "      <td>743.955261</td>\n",
       "      <td>1027.218245</td>\n",
       "      <td>767.941066</td>\n",
       "      <td>636.631270</td>\n",
       "      <td>516.061299</td>\n",
       "      <td>997.847355</td>\n",
       "      <td>658.437868</td>\n",
       "      <td>614.079935</td>\n",
       "      <td>338.615055</td>\n",
       "      <td>1308.408413</td>\n",
       "      <td>597.072001</td>\n",
       "      <td>638.653926</td>\n",
       "      <td>713.083601</td>\n",
       "      <td>1088.494634</td>\n",
       "      <td>682.501443</td>\n",
       "      <td>439.033253</td>\n",
       "      <td>963.424089</td>\n",
       "      <td>812.801394</td>\n",
       "      <td>517.610401</td>\n",
       "      <td>685.974815</td>\n",
       "      <td>845.270833</td>\n",
       "      <td>926.377885</td>\n",
       "      <td>805.314244</td>\n",
       "      <td>786.734143</td>\n",
       "      <td>1184.880134</td>\n",
       "      <td>541.508427</td>\n",
       "      <td>607.203322</td>\n",
       "      <td>728.819127</td>\n",
       "      <td>832.429319</td>\n",
       "      <td>855.134636</td>\n",
       "      <td>478.375799</td>\n",
       "      <td>1117.816031</td>\n",
       "      <td>491.805108</td>\n",
       "      <td>994.866642</td>\n",
       "      <td>839.884968</td>\n",
       "      <td>397.405021</td>\n",
       "      <td>859.250259</td>\n",
       "    </tr>\n",
       "  </tbody>\n",
       "</table>"
      ],
      "text/plain": [
       "<IPython.core.display.HTML object>"
      ]
     },
     "metadata": {},
     "output_type": "display_data"
    }
   ],
   "source": [
    "display( HTML( L2AnnDF.head().to_html() ) )"
   ]
  },
  {
   "cell_type": "code",
   "execution_count": 55,
   "id": "6fe81be2-956e-4042-858c-5b20cc08e3e1",
   "metadata": {},
   "outputs": [
    {
     "data": {
      "text/html": [
       "<table border=\"1\" class=\"dataframe\">\n",
       "  <thead>\n",
       "    <tr style=\"text-align: right;\">\n",
       "      <th></th>\n",
       "      <th>M51L</th>\n",
       "      <th>M51H</th>\n",
       "      <th>M52L</th>\n",
       "      <th>M52H</th>\n",
       "      <th>M53L</th>\n",
       "      <th>M53H</th>\n",
       "      <th>M55L</th>\n",
       "      <th>M55H</th>\n",
       "      <th>M56L</th>\n",
       "      <th>M56H</th>\n",
       "      <th>M57L</th>\n",
       "      <th>M57H</th>\n",
       "      <th>M58L</th>\n",
       "      <th>M58H</th>\n",
       "      <th>M59L</th>\n",
       "      <th>M59H</th>\n",
       "      <th>M60L</th>\n",
       "      <th>M60H</th>\n",
       "      <th>M61L</th>\n",
       "      <th>M61H</th>\n",
       "      <th>M62L</th>\n",
       "      <th>M62H</th>\n",
       "      <th>M63L</th>\n",
       "      <th>M63H</th>\n",
       "      <th>M64L</th>\n",
       "      <th>M64H</th>\n",
       "      <th>M65L</th>\n",
       "      <th>M65H</th>\n",
       "      <th>M66L</th>\n",
       "      <th>M66H</th>\n",
       "      <th>M67L</th>\n",
       "      <th>M67H</th>\n",
       "      <th>M68L</th>\n",
       "      <th>M68H</th>\n",
       "      <th>M69L</th>\n",
       "      <th>M69H</th>\n",
       "      <th>M70L</th>\n",
       "      <th>M70H</th>\n",
       "      <th>M71L</th>\n",
       "      <th>M71H</th>\n",
       "      <th>M72L</th>\n",
       "      <th>M72H</th>\n",
       "      <th>M73L</th>\n",
       "      <th>M73H</th>\n",
       "      <th>M74L</th>\n",
       "      <th>M74H</th>\n",
       "    </tr>\n",
       "    <tr>\n",
       "      <th>Year</th>\n",
       "      <th></th>\n",
       "      <th></th>\n",
       "      <th></th>\n",
       "      <th></th>\n",
       "      <th></th>\n",
       "      <th></th>\n",
       "      <th></th>\n",
       "      <th></th>\n",
       "      <th></th>\n",
       "      <th></th>\n",
       "      <th></th>\n",
       "      <th></th>\n",
       "      <th></th>\n",
       "      <th></th>\n",
       "      <th></th>\n",
       "      <th></th>\n",
       "      <th></th>\n",
       "      <th></th>\n",
       "      <th></th>\n",
       "      <th></th>\n",
       "      <th></th>\n",
       "      <th></th>\n",
       "      <th></th>\n",
       "      <th></th>\n",
       "      <th></th>\n",
       "      <th></th>\n",
       "      <th></th>\n",
       "      <th></th>\n",
       "      <th></th>\n",
       "      <th></th>\n",
       "      <th></th>\n",
       "      <th></th>\n",
       "      <th></th>\n",
       "      <th></th>\n",
       "      <th></th>\n",
       "      <th></th>\n",
       "      <th></th>\n",
       "      <th></th>\n",
       "      <th></th>\n",
       "      <th></th>\n",
       "      <th></th>\n",
       "      <th></th>\n",
       "      <th></th>\n",
       "      <th></th>\n",
       "      <th></th>\n",
       "      <th></th>\n",
       "    </tr>\n",
       "  </thead>\n",
       "  <tbody>\n",
       "    <tr>\n",
       "      <th>2056</th>\n",
       "      <td>835.024769</td>\n",
       "      <td>521.184892</td>\n",
       "      <td>999.878632</td>\n",
       "      <td>810.128738</td>\n",
       "      <td>1117.412971</td>\n",
       "      <td>992.622904</td>\n",
       "      <td>842.207295</td>\n",
       "      <td>669.754062</td>\n",
       "      <td>1195.113484</td>\n",
       "      <td>594.988592</td>\n",
       "      <td>925.973466</td>\n",
       "      <td>897.545243</td>\n",
       "      <td>462.627261</td>\n",
       "      <td>404.768646</td>\n",
       "      <td>604.827104</td>\n",
       "      <td>610.667547</td>\n",
       "      <td>696.048423</td>\n",
       "      <td>693.616250</td>\n",
       "      <td>595.516341</td>\n",
       "      <td>371.037635</td>\n",
       "      <td>693.469789</td>\n",
       "      <td>446.694693</td>\n",
       "      <td>527.146000</td>\n",
       "      <td>875.364803</td>\n",
       "      <td>990.867015</td>\n",
       "      <td>546.406809</td>\n",
       "      <td>688.152969</td>\n",
       "      <td>710.199019</td>\n",
       "      <td>664.055836</td>\n",
       "      <td>538.998044</td>\n",
       "      <td>870.374644</td>\n",
       "      <td>461.289405</td>\n",
       "      <td>637.059030</td>\n",
       "      <td>588.851386</td>\n",
       "      <td>802.224400</td>\n",
       "      <td>591.705623</td>\n",
       "      <td>668.670200</td>\n",
       "      <td>628.272232</td>\n",
       "      <td>399.859038</td>\n",
       "      <td>829.410139</td>\n",
       "      <td>604.982030</td>\n",
       "      <td>796.976297</td>\n",
       "      <td>992.300930</td>\n",
       "      <td>668.473403</td>\n",
       "      <td>1323.410193</td>\n",
       "      <td>750.528453</td>\n",
       "    </tr>\n",
       "    <tr>\n",
       "      <th>2057</th>\n",
       "      <td>522.009365</td>\n",
       "      <td>738.850798</td>\n",
       "      <td>784.123283</td>\n",
       "      <td>868.823870</td>\n",
       "      <td>897.019537</td>\n",
       "      <td>858.289554</td>\n",
       "      <td>757.055410</td>\n",
       "      <td>915.760965</td>\n",
       "      <td>1231.957044</td>\n",
       "      <td>1142.041599</td>\n",
       "      <td>636.327503</td>\n",
       "      <td>745.293848</td>\n",
       "      <td>792.478826</td>\n",
       "      <td>858.958743</td>\n",
       "      <td>584.689568</td>\n",
       "      <td>928.383781</td>\n",
       "      <td>528.292403</td>\n",
       "      <td>538.692193</td>\n",
       "      <td>584.733693</td>\n",
       "      <td>775.177261</td>\n",
       "      <td>716.542114</td>\n",
       "      <td>610.280400</td>\n",
       "      <td>478.694140</td>\n",
       "      <td>423.372008</td>\n",
       "      <td>649.696856</td>\n",
       "      <td>509.808426</td>\n",
       "      <td>558.655151</td>\n",
       "      <td>386.067694</td>\n",
       "      <td>544.163023</td>\n",
       "      <td>477.462794</td>\n",
       "      <td>605.224389</td>\n",
       "      <td>708.176488</td>\n",
       "      <td>738.030651</td>\n",
       "      <td>705.184024</td>\n",
       "      <td>462.149739</td>\n",
       "      <td>885.214651</td>\n",
       "      <td>726.285184</td>\n",
       "      <td>613.051656</td>\n",
       "      <td>798.917717</td>\n",
       "      <td>499.741733</td>\n",
       "      <td>558.500772</td>\n",
       "      <td>658.483974</td>\n",
       "      <td>768.359169</td>\n",
       "      <td>370.229576</td>\n",
       "      <td>707.991183</td>\n",
       "      <td>376.678333</td>\n",
       "    </tr>\n",
       "    <tr>\n",
       "      <th>2058</th>\n",
       "      <td>621.614903</td>\n",
       "      <td>485.427248</td>\n",
       "      <td>839.382582</td>\n",
       "      <td>522.551638</td>\n",
       "      <td>808.504224</td>\n",
       "      <td>595.895300</td>\n",
       "      <td>1086.164138</td>\n",
       "      <td>462.918977</td>\n",
       "      <td>955.625965</td>\n",
       "      <td>1378.970438</td>\n",
       "      <td>407.884830</td>\n",
       "      <td>598.936466</td>\n",
       "      <td>867.535942</td>\n",
       "      <td>743.068521</td>\n",
       "      <td>540.310898</td>\n",
       "      <td>469.141285</td>\n",
       "      <td>865.367776</td>\n",
       "      <td>900.522347</td>\n",
       "      <td>417.386152</td>\n",
       "      <td>797.939478</td>\n",
       "      <td>650.045960</td>\n",
       "      <td>965.194126</td>\n",
       "      <td>915.768169</td>\n",
       "      <td>687.759942</td>\n",
       "      <td>799.692858</td>\n",
       "      <td>644.643934</td>\n",
       "      <td>829.205686</td>\n",
       "      <td>655.226413</td>\n",
       "      <td>949.415055</td>\n",
       "      <td>755.514736</td>\n",
       "      <td>506.803128</td>\n",
       "      <td>796.391542</td>\n",
       "      <td>1044.390454</td>\n",
       "      <td>852.822998</td>\n",
       "      <td>854.375854</td>\n",
       "      <td>824.683696</td>\n",
       "      <td>520.439523</td>\n",
       "      <td>595.600514</td>\n",
       "      <td>666.367378</td>\n",
       "      <td>482.436023</td>\n",
       "      <td>550.292552</td>\n",
       "      <td>902.847379</td>\n",
       "      <td>1029.380343</td>\n",
       "      <td>696.208853</td>\n",
       "      <td>648.261217</td>\n",
       "      <td>731.392307</td>\n",
       "    </tr>\n",
       "    <tr>\n",
       "      <th>2059</th>\n",
       "      <td>377.012929</td>\n",
       "      <td>444.335411</td>\n",
       "      <td>757.212782</td>\n",
       "      <td>882.517404</td>\n",
       "      <td>1134.565447</td>\n",
       "      <td>617.925482</td>\n",
       "      <td>439.171878</td>\n",
       "      <td>434.401725</td>\n",
       "      <td>674.492416</td>\n",
       "      <td>902.739781</td>\n",
       "      <td>1205.990461</td>\n",
       "      <td>1126.302622</td>\n",
       "      <td>1024.530066</td>\n",
       "      <td>764.296282</td>\n",
       "      <td>389.120650</td>\n",
       "      <td>606.000724</td>\n",
       "      <td>816.509496</td>\n",
       "      <td>487.349131</td>\n",
       "      <td>707.449502</td>\n",
       "      <td>677.555035</td>\n",
       "      <td>460.737874</td>\n",
       "      <td>577.832386</td>\n",
       "      <td>1060.420317</td>\n",
       "      <td>850.332525</td>\n",
       "      <td>527.497274</td>\n",
       "      <td>779.761146</td>\n",
       "      <td>714.144973</td>\n",
       "      <td>663.142685</td>\n",
       "      <td>279.581473</td>\n",
       "      <td>1337.068226</td>\n",
       "      <td>436.580959</td>\n",
       "      <td>666.975168</td>\n",
       "      <td>424.985776</td>\n",
       "      <td>1124.480155</td>\n",
       "      <td>1134.235129</td>\n",
       "      <td>769.911335</td>\n",
       "      <td>899.126413</td>\n",
       "      <td>463.403450</td>\n",
       "      <td>963.088567</td>\n",
       "      <td>530.941289</td>\n",
       "      <td>509.735185</td>\n",
       "      <td>750.686426</td>\n",
       "      <td>585.332569</td>\n",
       "      <td>585.088377</td>\n",
       "      <td>764.930154</td>\n",
       "      <td>1092.708526</td>\n",
       "    </tr>\n",
       "    <tr>\n",
       "      <th>2060</th>\n",
       "      <td>731.436909</td>\n",
       "      <td>931.902791</td>\n",
       "      <td>799.950869</td>\n",
       "      <td>551.585321</td>\n",
       "      <td>997.164082</td>\n",
       "      <td>600.172232</td>\n",
       "      <td>425.364689</td>\n",
       "      <td>671.389529</td>\n",
       "      <td>570.421559</td>\n",
       "      <td>619.801342</td>\n",
       "      <td>764.741399</td>\n",
       "      <td>571.699009</td>\n",
       "      <td>492.368157</td>\n",
       "      <td>414.347494</td>\n",
       "      <td>457.960585</td>\n",
       "      <td>854.775041</td>\n",
       "      <td>527.520596</td>\n",
       "      <td>797.647374</td>\n",
       "      <td>777.383400</td>\n",
       "      <td>1166.682688</td>\n",
       "      <td>666.050507</td>\n",
       "      <td>733.498347</td>\n",
       "      <td>759.284368</td>\n",
       "      <td>858.419186</td>\n",
       "      <td>1017.884812</td>\n",
       "      <td>635.192621</td>\n",
       "      <td>479.162042</td>\n",
       "      <td>956.200253</td>\n",
       "      <td>958.512311</td>\n",
       "      <td>736.957915</td>\n",
       "      <td>769.814847</td>\n",
       "      <td>855.041197</td>\n",
       "      <td>717.245820</td>\n",
       "      <td>710.914123</td>\n",
       "      <td>883.361196</td>\n",
       "      <td>738.791121</td>\n",
       "      <td>1034.679720</td>\n",
       "      <td>856.797730</td>\n",
       "      <td>336.639033</td>\n",
       "      <td>674.014785</td>\n",
       "      <td>670.809547</td>\n",
       "      <td>325.400467</td>\n",
       "      <td>784.539000</td>\n",
       "      <td>1191.836761</td>\n",
       "      <td>941.748938</td>\n",
       "      <td>629.642847</td>\n",
       "    </tr>\n",
       "  </tbody>\n",
       "</table>"
      ],
      "text/plain": [
       "<IPython.core.display.HTML object>"
      ]
     },
     "metadata": {},
     "output_type": "display_data"
    }
   ],
   "source": [
    "display( HTML( L2AnnDF.tail().to_html() ) )"
   ]
  },
  {
   "cell_type": "code",
   "execution_count": 56,
   "id": "96eae3bb-d0d5-46be-a10b-4373b255f723",
   "metadata": {},
   "outputs": [],
   "source": [
    "L2AnnValuesList = list()"
   ]
  },
  {
   "cell_type": "code",
   "execution_count": 57,
   "id": "f51ecd98-b767-42c6-b6d2-d2bdfe82a3e9",
   "metadata": {},
   "outputs": [],
   "source": [
    "for tCol in L2Cols:\n",
    "    L2AnnValuesList.append( L2AnnDF[tCol].to_numpy(dtype=np.float32).flatten() )\n",
    "# end for"
   ]
  },
  {
   "cell_type": "code",
   "execution_count": 58,
   "id": "aa66fdfb-cbec-409d-b2fc-13d5c2f9d113",
   "metadata": {},
   "outputs": [
    {
     "data": {
      "text/plain": [
       "1380"
      ]
     },
     "execution_count": 58,
     "metadata": {},
     "output_type": "execute_result"
    }
   ],
   "source": [
    "npL2AnnVals = np.concatenate( L2AnnValuesList )\n",
    "NumL2 = len( npL2AnnVals )\n",
    "NumL2"
   ]
  },
  {
   "cell_type": "code",
   "execution_count": 59,
   "id": "013adbf7-ffe5-4977-a931-d16fea788fac",
   "metadata": {},
   "outputs": [
    {
     "data": {
      "text/plain": [
       "(692.7449, 718.7977, 230.0383)"
      ]
     },
     "execution_count": 59,
     "metadata": {},
     "output_type": "execute_result"
    }
   ],
   "source": [
    "np.median( npL2AnnVals ), npL2AnnVals.mean(), npL2AnnVals.std()"
   ]
  },
  {
   "cell_type": "code",
   "execution_count": 60,
   "id": "4128fb85-0e1a-43c1-87fe-6cc9e9f88af9",
   "metadata": {},
   "outputs": [],
   "source": [
    "L2LabelsList = [ \"LOCA2 2031-2060\" for x in range(NumL2) ]"
   ]
  },
  {
   "cell_type": "code",
   "execution_count": 61,
   "id": "81aa9ca1-c476-4b6a-a7d3-4032b302a92e",
   "metadata": {},
   "outputs": [],
   "source": [
    "InFiler = os.path.normpath( os.path.join( IN_DIR3, \"FBas_MetTS_1980to2020.xlsx\" ) )\n",
    "HODF = pd.read_excel( InFiler, sheet_name=BasKey, header=0, index_col=0, parse_dates=True )"
   ]
  },
  {
   "cell_type": "code",
   "execution_count": 62,
   "id": "80d2ff29-f9a3-42ec-9b93-5f0a53325f50",
   "metadata": {},
   "outputs": [
    {
     "data": {
      "text/html": [
       "<table border=\"1\" class=\"dataframe\">\n",
       "  <thead>\n",
       "    <tr style=\"text-align: right;\">\n",
       "      <th></th>\n",
       "      <th>Pre_mm</th>\n",
       "      <th>MaxT_C</th>\n",
       "      <th>MinT_C</th>\n",
       "      <th>AveT_C</th>\n",
       "      <th>ETo_mm</th>\n",
       "      <th>Def_mm</th>\n",
       "    </tr>\n",
       "    <tr>\n",
       "      <th>DateTime</th>\n",
       "      <th></th>\n",
       "      <th></th>\n",
       "      <th></th>\n",
       "      <th></th>\n",
       "      <th></th>\n",
       "      <th></th>\n",
       "    </tr>\n",
       "  </thead>\n",
       "  <tbody>\n",
       "    <tr>\n",
       "      <th>1980-01-01</th>\n",
       "      <td>0.0</td>\n",
       "      <td>17.584451</td>\n",
       "      <td>-3.466199</td>\n",
       "      <td>7.059126</td>\n",
       "      <td>1.754248</td>\n",
       "      <td>-1.754248</td>\n",
       "    </tr>\n",
       "    <tr>\n",
       "      <th>1980-01-02</th>\n",
       "      <td>0.0</td>\n",
       "      <td>19.147250</td>\n",
       "      <td>-0.041747</td>\n",
       "      <td>9.552752</td>\n",
       "      <td>1.934866</td>\n",
       "      <td>-1.934866</td>\n",
       "    </tr>\n",
       "    <tr>\n",
       "      <th>1980-01-03</th>\n",
       "      <td>0.0</td>\n",
       "      <td>13.812335</td>\n",
       "      <td>3.985529</td>\n",
       "      <td>8.898932</td>\n",
       "      <td>1.893642</td>\n",
       "      <td>-1.893642</td>\n",
       "    </tr>\n",
       "    <tr>\n",
       "      <th>1980-01-04</th>\n",
       "      <td>0.0</td>\n",
       "      <td>15.706053</td>\n",
       "      <td>-3.649390</td>\n",
       "      <td>6.028331</td>\n",
       "      <td>1.695076</td>\n",
       "      <td>-1.695076</td>\n",
       "    </tr>\n",
       "    <tr>\n",
       "      <th>1980-01-05</th>\n",
       "      <td>0.0</td>\n",
       "      <td>18.211214</td>\n",
       "      <td>-2.501751</td>\n",
       "      <td>7.854731</td>\n",
       "      <td>1.830231</td>\n",
       "      <td>-1.830231</td>\n",
       "    </tr>\n",
       "  </tbody>\n",
       "</table>"
      ],
      "text/plain": [
       "<IPython.core.display.HTML object>"
      ]
     },
     "metadata": {},
     "output_type": "display_data"
    }
   ],
   "source": [
    "display( HTML( HODF.head().to_html() ) )"
   ]
  },
  {
   "cell_type": "code",
   "execution_count": 63,
   "id": "26db5a44-5f76-4b80-98c6-cf437ba7e150",
   "metadata": {},
   "outputs": [],
   "source": [
    "HODF = HODF[[\"Pre_mm\"]].loc[pd.Timestamp( 1991, 1, 1, ):pd.Timestamp(2020, 12, 31, 23, 59, )].copy()"
   ]
  },
  {
   "cell_type": "code",
   "execution_count": 64,
   "id": "d874c437-f6f9-467e-a131-fc91b35c4932",
   "metadata": {},
   "outputs": [
    {
     "data": {
      "text/html": [
       "<table border=\"1\" class=\"dataframe\">\n",
       "  <thead>\n",
       "    <tr style=\"text-align: right;\">\n",
       "      <th></th>\n",
       "      <th>Pre_mm</th>\n",
       "    </tr>\n",
       "    <tr>\n",
       "      <th>DateTime</th>\n",
       "      <th></th>\n",
       "    </tr>\n",
       "  </thead>\n",
       "  <tbody>\n",
       "    <tr>\n",
       "      <th>1991-01-01</th>\n",
       "      <td>1.259789</td>\n",
       "    </tr>\n",
       "    <tr>\n",
       "      <th>1991-01-02</th>\n",
       "      <td>7.636476</td>\n",
       "    </tr>\n",
       "    <tr>\n",
       "      <th>1991-01-03</th>\n",
       "      <td>6.274023</td>\n",
       "    </tr>\n",
       "    <tr>\n",
       "      <th>1991-01-04</th>\n",
       "      <td>3.647594</td>\n",
       "    </tr>\n",
       "    <tr>\n",
       "      <th>1991-01-05</th>\n",
       "      <td>3.625093</td>\n",
       "    </tr>\n",
       "  </tbody>\n",
       "</table>"
      ],
      "text/plain": [
       "<IPython.core.display.HTML object>"
      ]
     },
     "metadata": {},
     "output_type": "display_data"
    }
   ],
   "source": [
    "display( HTML( HODF.head().to_html() ) )"
   ]
  },
  {
   "cell_type": "code",
   "execution_count": 65,
   "id": "abc43ece-cee7-4529-bc7f-1bf1ea379e40",
   "metadata": {},
   "outputs": [
    {
     "data": {
      "text/html": [
       "<table border=\"1\" class=\"dataframe\">\n",
       "  <thead>\n",
       "    <tr style=\"text-align: right;\">\n",
       "      <th></th>\n",
       "      <th>Pre_mm</th>\n",
       "    </tr>\n",
       "    <tr>\n",
       "      <th>DateTime</th>\n",
       "      <th></th>\n",
       "    </tr>\n",
       "  </thead>\n",
       "  <tbody>\n",
       "    <tr>\n",
       "      <th>2020-12-27</th>\n",
       "      <td>0.432948</td>\n",
       "    </tr>\n",
       "    <tr>\n",
       "      <th>2020-12-28</th>\n",
       "      <td>1.614956</td>\n",
       "    </tr>\n",
       "    <tr>\n",
       "      <th>2020-12-29</th>\n",
       "      <td>1.352918</td>\n",
       "    </tr>\n",
       "    <tr>\n",
       "      <th>2020-12-30</th>\n",
       "      <td>19.840774</td>\n",
       "    </tr>\n",
       "    <tr>\n",
       "      <th>2020-12-31</th>\n",
       "      <td>19.840774</td>\n",
       "    </tr>\n",
       "  </tbody>\n",
       "</table>"
      ],
      "text/plain": [
       "<IPython.core.display.HTML object>"
      ]
     },
     "metadata": {},
     "output_type": "display_data"
    }
   ],
   "source": [
    "display( HTML( HODF.tail().to_html() ) )"
   ]
  },
  {
   "cell_type": "code",
   "execution_count": 66,
   "id": "ab440b57-9736-4f9d-8a2a-3961e8cb5f5f",
   "metadata": {},
   "outputs": [],
   "source": [
    "HOAnnDF = HODF.resample( 'AS' ).sum()"
   ]
  },
  {
   "cell_type": "code",
   "execution_count": 67,
   "id": "9d7f4152-6d7a-4074-8f8d-ac92f6afe8f3",
   "metadata": {},
   "outputs": [
    {
     "data": {
      "text/html": [
       "<table border=\"1\" class=\"dataframe\">\n",
       "  <thead>\n",
       "    <tr style=\"text-align: right;\">\n",
       "      <th></th>\n",
       "      <th>Pre_mm</th>\n",
       "    </tr>\n",
       "    <tr>\n",
       "      <th>DateTime</th>\n",
       "      <th></th>\n",
       "    </tr>\n",
       "  </thead>\n",
       "  <tbody>\n",
       "    <tr>\n",
       "      <th>1991-01-01</th>\n",
       "      <td>1217.439064</td>\n",
       "    </tr>\n",
       "    <tr>\n",
       "      <th>1992-01-01</th>\n",
       "      <td>1256.841075</td>\n",
       "    </tr>\n",
       "    <tr>\n",
       "      <th>1993-01-01</th>\n",
       "      <td>589.956105</td>\n",
       "    </tr>\n",
       "    <tr>\n",
       "      <th>1994-01-01</th>\n",
       "      <td>898.054966</td>\n",
       "    </tr>\n",
       "    <tr>\n",
       "      <th>1995-01-01</th>\n",
       "      <td>745.902024</td>\n",
       "    </tr>\n",
       "  </tbody>\n",
       "</table>"
      ],
      "text/plain": [
       "<IPython.core.display.HTML object>"
      ]
     },
     "metadata": {},
     "output_type": "display_data"
    }
   ],
   "source": [
    "display( HTML( HOAnnDF.head().to_html() ) )"
   ]
  },
  {
   "cell_type": "code",
   "execution_count": 68,
   "id": "0f7b6586-fdda-4bad-8ed2-e88d81af5e5b",
   "metadata": {},
   "outputs": [
    {
     "data": {
      "text/html": [
       "<table border=\"1\" class=\"dataframe\">\n",
       "  <thead>\n",
       "    <tr style=\"text-align: right;\">\n",
       "      <th></th>\n",
       "      <th>Pre_mm</th>\n",
       "    </tr>\n",
       "    <tr>\n",
       "      <th>DateTime</th>\n",
       "      <th></th>\n",
       "    </tr>\n",
       "  </thead>\n",
       "  <tbody>\n",
       "    <tr>\n",
       "      <th>2016-01-01</th>\n",
       "      <td>1150.689693</td>\n",
       "    </tr>\n",
       "    <tr>\n",
       "      <th>2017-01-01</th>\n",
       "      <td>698.497979</td>\n",
       "    </tr>\n",
       "    <tr>\n",
       "      <th>2018-01-01</th>\n",
       "      <td>1169.098860</td>\n",
       "    </tr>\n",
       "    <tr>\n",
       "      <th>2019-01-01</th>\n",
       "      <td>600.813366</td>\n",
       "    </tr>\n",
       "    <tr>\n",
       "      <th>2020-01-01</th>\n",
       "      <td>693.191432</td>\n",
       "    </tr>\n",
       "  </tbody>\n",
       "</table>"
      ],
      "text/plain": [
       "<IPython.core.display.HTML object>"
      ]
     },
     "metadata": {},
     "output_type": "display_data"
    }
   ],
   "source": [
    "display( HTML( HOAnnDF.tail().to_html() ) )"
   ]
  },
  {
   "cell_type": "code",
   "execution_count": 69,
   "id": "870757dd-759a-45be-ab18-9ac1413a30cc",
   "metadata": {},
   "outputs": [
    {
     "data": {
      "text/plain": [
       "30"
      ]
     },
     "execution_count": 69,
     "metadata": {},
     "output_type": "execute_result"
    }
   ],
   "source": [
    "npHOAnnVals = HOAnnDF[\"Pre_mm\"].to_numpy(dtype=np.float32).flatten()\n",
    "NumHO = len( npHOAnnVals )\n",
    "NumHO"
   ]
  },
  {
   "cell_type": "code",
   "execution_count": 70,
   "id": "0a87f58b-e91d-4c9e-87e5-a6cca9dc87f2",
   "metadata": {},
   "outputs": [
    {
     "data": {
      "text/plain": [
       "(800.5198, 886.7052, 304.37503)"
      ]
     },
     "execution_count": 70,
     "metadata": {},
     "output_type": "execute_result"
    }
   ],
   "source": [
    "np.median( npHOAnnVals ), npHOAnnVals.mean(), npHOAnnVals.std()"
   ]
  },
  {
   "cell_type": "code",
   "execution_count": 71,
   "id": "178d4fbf-8134-4967-b730-8ea6872deea3",
   "metadata": {},
   "outputs": [],
   "source": [
    "HOLabelsList = [ \"Obs. 1991-2020\" for x in range(NumHO) ]"
   ]
  },
  {
   "cell_type": "markdown",
   "id": "011d3358-9171-4a4b-a64e-b163e81937d1",
   "metadata": {},
   "source": [
    "Make the combined DataFrame for plotting"
   ]
  },
  {
   "cell_type": "code",
   "execution_count": 72,
   "id": "1f6f02e3-0a7c-4662-8fa5-236cc01b56aa",
   "metadata": {},
   "outputs": [
    {
     "data": {
      "text/plain": [
       "31410"
      ]
     },
     "execution_count": 72,
     "metadata": {},
     "output_type": "execute_result"
    }
   ],
   "source": [
    "AllLabelsList = deepcopy( WGLabelsList )\n",
    "AllLabelsList.extend( L2LabelsList )\n",
    "AllLabelsList.extend( HOLabelsList )\n",
    "len( AllLabelsList )"
   ]
  },
  {
   "cell_type": "code",
   "execution_count": 73,
   "id": "62352c73-e5d5-4a62-8e99-e2b7ed98ece5",
   "metadata": {},
   "outputs": [
    {
     "data": {
      "text/plain": [
       "31410"
      ]
     },
     "execution_count": 73,
     "metadata": {},
     "output_type": "execute_result"
    }
   ],
   "source": [
    "npAllAnn = np.concatenate( [npWGAnnVals, npL2AnnVals, npHOAnnVals], )\n",
    "len( npAllAnn )"
   ]
  },
  {
   "cell_type": "code",
   "execution_count": 74,
   "id": "3df4bbc5-5136-44e6-91a8-8415d6d3cc65",
   "metadata": {},
   "outputs": [],
   "source": [
    "DataDict = { \"Labels\" : AllLabelsList, \"AnnPre_mm\" : npAllAnn, }\n",
    "BwDF = pd.DataFrame( data=DataDict )"
   ]
  },
  {
   "cell_type": "code",
   "execution_count": 83,
   "id": "b345bfd3-361c-4ba8-8ff4-f5222425924a",
   "metadata": {},
   "outputs": [],
   "source": [
    "OutFilePDF = os.path.normpath( os.path.join( OUT_DIR, \"Plots\", \"BW_AnnPrecipDepth_%s.pdf\" % BasKey ) )\n",
    "OutFileSVG = os.path.normpath( os.path.join( OUT_DIR, \"Plots\", \"BW_AnnPrecipDepth_%s.svg\" % BasKey ) )\n",
    "OutFilePNG = os.path.normpath( os.path.join( OUT_DIR, \"Plots\", \"BW_AnnPrecipDepth_%s.png\" % BasKey ) )"
   ]
  },
  {
   "cell_type": "code",
   "execution_count": 84,
   "id": "27ce1931-2bc1-491e-b2ae-6b73d557f582",
   "metadata": {},
   "outputs": [
    {
     "data": {
      "image/png": "[encoded data removed]",
      "text/plain": [
       "<Figure size 650x500 with 1 Axes>"
      ]
     },
     "metadata": {},
     "output_type": "display_data"
    }
   ],
   "source": [
    "Fig1 = plt.figure()\n",
    "Fig1.set_size_inches(6.5, 5.0)\n",
    "ax11 = Fig1.add_subplot(111)\n",
    "g1 = sns.boxplot( x=\"Labels\", y=\"AnnPre_mm\", hue=\"Labels\", orient=\"v\", \n",
    "                  linewidth=1.0, showmeans=True, dodge=False,\n",
    "                  palette={ \"Obs. 1991-2020\" : \"xkcd:sky blue\",\n",
    "                            \"LOCA2 2031-2060\" : \"xkcd:ocean blue\",\n",
    "                            \"WG 2031-2060\" : \"xkcd:pumpkin\", },\n",
    "                  data=BwDF, ax=ax11 )\n",
    "g1.legend(loc=\"lower center\", framealpha=1.0, ncol=3, fontsize=9 )\n",
    "#g1.set_yscale('log')\n",
    "g1.grid(visible=True, which=\"both\", axis='y')\n",
    "#g1.set_yticks( preTicks )\n",
    "g1.set_xlabel('', fontsize=10 )\n",
    "g1.set_ylabel('Annual Precipitation Depth ($mm$)', fontsize=10)\n",
    "g1.set_ylim( ( 0.0, 2000.0))\n",
    "g1.tick_params(axis='both', which='major', labelsize=10)\n",
    "g1.yaxis.set_major_formatter( mpl.ticker.StrMethodFormatter( \"{x:,.0f}\" ) )\n",
    "Fig1.savefig( OutFileSVG, dpi=600 )\n",
    "Fig1.savefig( OutFilePNG, dpi=600 )\n",
    "Fig1.savefig( OutFilePDF, dpi=600 )"
   ]
  },
  {
   "cell_type": "code",
   "execution_count": null,
   "id": "7af97a1a-19c5-4227-b2f8-eb0ca9e97b94",
   "metadata": {},
   "outputs": [],
   "source": []
  }
 ],
 "metadata": {
  "kernelspec": {
   "display_name": "Python 3 (ipykernel)",
   "language": "python",
   "name": "python3"
  },
  "language_info": {
   "codemirror_mode": {
    "name": "ipython",
    "version": 3
   },
   "file_extension": ".py",
   "mimetype": "text/x-python",
   "name": "python",
   "nbconvert_exporter": "python",
   "pygments_lexer": "ipython3",
   "version": "3.9.15"
  }
 },
 "nbformat": 4,
 "nbformat_minor": 5
}
