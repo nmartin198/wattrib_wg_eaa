{
 "cells": [
  {
   "cell_type": "markdown",
   "id": "4968d291-03f5-4471-9c4c-db5c4d19aef6",
   "metadata": {},
   "source": [
    "# Wet and Dry Spells Compare: Historical, CN1, CN2, and Custom CN"
   ]
  },
  {
   "cell_type": "markdown",
   "id": "3ec71dea-a640-4e6d-be6d-01c148e5e1be",
   "metadata": {},
   "source": [
    "The purpose of this notebook is to compare the monthly distributions of spell lengths obtained from historical observations and future climate model projections.\n",
    "\n",
    "There are two types of spells of contiguous days for each month: 1) wet and 2) dry. Empirical distributions are plotted and compared among the four sources. Empirical distributions are just normalized histograms. Additionally, negative binomial distributions are fit to each month and spell length.\n",
    "\n",
    "The four information sources are:\n",
    "\n",
    "1. Historical from DayMet\n",
    "2. CN1: 2021-2050 (selected downscaled climate model simulation results)\n",
    "3. CN2: 2021-2050 (selected downscaled climate model simulation results)\n",
    "4. Custom CN: 2031-2060 (selected downscaled climate model simulation results)\n"
   ]
  },
  {
   "cell_type": "markdown",
   "id": "e640e5bc-1e58-424c-b3ae-8cf427bd1a76",
   "metadata": {},
   "source": [
    "It is difficult to fit negative binomial distributions (and all discrete distributions). So use a simple workaround here where calculate the $n$ and $p$ parameters for this distribution from data. $n$ and $p$ are shape parameters where $n$ is the number of successes, $p$ is the probability of a single success, and $1-p$ is the probability of a single failure. These two parameters can be calculated from the sample mean, here $\\mu$, and variance, here $\\sigma^{2}$.\n",
    "\n",
    "\\begin{equation*}\n",
    "    n = \\frac{\\mu^{2}}{\\sigma^{2} - \\mu}\n",
    "\\end{equation*}\n",
    "\\begin{equation*}\n",
    "    p = \\frac{\\mu}{\\sigma^{2}}\n",
    "\\end{equation*}"
   ]
  },
  {
   "cell_type": "markdown",
   "id": "05d8fb76-dacb-4bbb-8c86-1a494dc18318",
   "metadata": {},
   "source": [
    "## Parameters and Imports"
   ]
  },
  {
   "cell_type": "code",
   "execution_count": 1,
   "id": "e500f8b2-75a8-49f1-8bcc-a348184a92ab",
   "metadata": {},
   "outputs": [],
   "source": [
    "%matplotlib inline"
   ]
  },
  {
   "cell_type": "code",
   "execution_count": 2,
   "id": "8303f202-8400-4fde-9d97-fa52afbc0df8",
   "metadata": {},
   "outputs": [],
   "source": [
    "import os\n",
    "import pickle\n",
    "import numpy as np\n",
    "import pandas as pd\n",
    "import matplotlib as mpl\n",
    "import matplotlib.pyplot as plt\n",
    "import matplotlib.patches as mpatches\n",
    "from matplotlib.lines import Line2D\n",
    "import datetime as dt\n",
    "from copy import deepcopy\n",
    "from IPython.display import display, HTML, Image\n",
    "from scipy import stats as sstats\n",
    "import math"
   ]
  },
  {
   "cell_type": "code",
   "execution_count": 3,
   "id": "63c6fa24-6004-4037-b73a-3c20055d8e36",
   "metadata": {},
   "outputs": [],
   "source": [
    "IN_DIR1 = r'C:\\Users\\nmartin\\Documents\\EAA_HCP\\Data\\SwRI_Processed\\Processed_Historical'\n",
    "IN_DIR2 = r'C:\\Users\\nmartin\\Documents\\EAA_HCP\\Data\\SwRI_Processed\\CombinedFuture'\n",
    "IN_DIR3 = r'C:\\Users\\nmartin\\Documents\\EAA_HCP\\Data\\SwRI_Processed\\DayMet_GridIntersect'\n",
    "OUT_DIR = r'C:\\Users\\nmartin\\Documents\\EAA_HCP\\Data\\SwRI_Processed\\CombinedFuture\\SpellLength'"
   ]
  },
  {
   "cell_type": "code",
   "execution_count": 4,
   "id": "c033b2b4-48de-438f-99ba-0efd79ad4f27",
   "metadata": {},
   "outputs": [],
   "source": [
    "# full basin intersection dictionary\n",
    "InFiler = os.path.normpath( os.path.join( IN_DIR3, \"BasWeightsGDF.pkl\" ) )\n",
    "with open( InFiler, 'rb' ) as IF:\n",
    "    BasWeightsDF = pickle.load( IF )\n",
    "# end with\n",
    "BAS_KEYS = sorted( BasWeightsDF.keys() )"
   ]
  },
  {
   "cell_type": "code",
   "execution_count": 5,
   "id": "e4b32c96-c920-4386-a680-84754901b94f",
   "metadata": {},
   "outputs": [],
   "source": [
    "# plotting stuff\n",
    "pmfYVals = np.linspace( 0.00, 1.0, 101, dtype=np.float32 )\n",
    "xPTicks = [0, 5, 10, 15, 20, 25, 30,]"
   ]
  },
  {
   "cell_type": "code",
   "execution_count": 6,
   "id": "53021575-9bd2-4d13-874f-33487e56e324",
   "metadata": {},
   "outputs": [],
   "source": [
    "colors = [ 'xkcd:cobalt blue', 'xkcd:ocean blue', 'xkcd:bright blue', 'xkcd:light grey blue', ]\n",
    "labels = [\"Obs. 1991-2020\", \"CN1 2021-2050\", \"CCN 2031-2060\", \"CN2 2051-2080\",]"
   ]
  },
  {
   "cell_type": "code",
   "execution_count": 7,
   "id": "36d257ff-42b9-4ad3-abe8-de8357c2ad0b",
   "metadata": {},
   "outputs": [],
   "source": [
    "MonDict = { 1 : \"Jan\", 2 : \"Feb\", 3 : \"Mar\", 4 : \"Apr\", 5 : \"May\", 6 : \"Jun\", 7 : \"Jul\", 8 : \"Aug\",\n",
    "            9 : \"Sep\", 10 : \"Oct\", 11 : \"Nov\", 12 : \"Dec\", }\n",
    "MonKeys = sorted( MonDict.keys() )"
   ]
  },
  {
   "cell_type": "markdown",
   "id": "c694fc69-d1f7-4db5-8eba-5a2533ca7fd2",
   "metadata": {},
   "source": [
    "## Dry Days"
   ]
  },
  {
   "cell_type": "code",
   "execution_count": 8,
   "id": "a4f4812a-7698-4523-9783-734e42858f90",
   "metadata": {},
   "outputs": [],
   "source": [
    "# load the dictionaries.\n",
    "InFiler = os.path.normpath( os.path.join( IN_DIR1, \"Hist_FullB_Cont_Dry_dict.pkl\" ) )\n",
    "with open( InFiler, 'rb' ) as IF:\n",
    "    HistDict = pickle.load( IF )\n",
    "# end with"
   ]
  },
  {
   "cell_type": "code",
   "execution_count": 9,
   "id": "756954a7-45e5-4db7-8ff9-e76a1f2afc86",
   "metadata": {},
   "outputs": [],
   "source": [
    "InFiler = os.path.normpath( os.path.join( IN_DIR2, \"CN1_FullB_Cont_Dry_dict.pkl\" ) )\n",
    "with open( InFiler, 'rb' ) as IF:\n",
    "    CN1Dict = pickle.load( IF )\n",
    "# end with"
   ]
  },
  {
   "cell_type": "code",
   "execution_count": 10,
   "id": "50f23d92-24fe-42f0-b2a8-cd118e10f1b1",
   "metadata": {},
   "outputs": [],
   "source": [
    "InFiler = os.path.normpath( os.path.join( IN_DIR2, \"CN2_FullB_Cont_Dry_dict.pkl\" ) )\n",
    "with open( InFiler, 'rb' ) as IF:\n",
    "    CN2Dict = pickle.load( IF )\n",
    "# end with"
   ]
  },
  {
   "cell_type": "code",
   "execution_count": 11,
   "id": "307fe3da-1123-4cbd-b7ba-4eb6254a77c2",
   "metadata": {},
   "outputs": [],
   "source": [
    "InFiler = os.path.normpath( os.path.join( IN_DIR2, \"CCN_FullB_Cont_Dry_dict.pkl\" ) )\n",
    "with open( InFiler, 'rb' ) as IF:\n",
    "    CCNDict = pickle.load( IF )\n",
    "# end with"
   ]
  },
  {
   "cell_type": "markdown",
   "id": "ff002934-5c44-4016-b9b4-90e4aa1d12a1",
   "metadata": {},
   "source": [
    "### Test"
   ]
  },
  {
   "cell_type": "code",
   "execution_count": 12,
   "id": "9df26306-9a24-42ed-aa48-6215cc8421d4",
   "metadata": {},
   "outputs": [
    {
     "data": {
      "text/plain": [
       "'Blanco'"
      ]
     },
     "execution_count": 12,
     "metadata": {},
     "output_type": "execute_result"
    }
   ],
   "source": [
    "bas = BAS_KEYS[0]\n",
    "bas"
   ]
  },
  {
   "cell_type": "code",
   "execution_count": 13,
   "id": "9f156b43-31ef-41f6-a54a-9e97742dbe89",
   "metadata": {},
   "outputs": [],
   "source": [
    "HistMCntsDict = HistDict[bas]\n",
    "CN1MCntsDict = CN1Dict[bas]\n",
    "CN2MCntsDict = CN2Dict[bas]\n",
    "CCNMCntsDict = CCNDict[bas]"
   ]
  },
  {
   "cell_type": "code",
   "execution_count": 14,
   "id": "139e6a2d-4966-4f3e-a65f-916929eddf02",
   "metadata": {},
   "outputs": [],
   "source": [
    "mon = 7"
   ]
  },
  {
   "cell_type": "code",
   "execution_count": 15,
   "id": "2392890b-096e-4cab-ae41-386797bac712",
   "metadata": {},
   "outputs": [],
   "source": [
    "cHistCnts = HistMCntsDict[mon]\n",
    "cCN1Cnts = CN1MCntsDict[mon]\n",
    "cCN2Cnts = CN2MCntsDict[mon]\n",
    "cCCNCnts = CCNMCntsDict[mon]"
   ]
  },
  {
   "cell_type": "code",
   "execution_count": 16,
   "id": "b028de5b-02e3-418c-8de3-53f58631ad9b",
   "metadata": {},
   "outputs": [],
   "source": [
    "# look at the fits first\n",
    "npHist = np.array( cHistCnts, dtype=np.int32 )\n",
    "npCN1 = np.array( cCN1Cnts, dtype=np.int32 )\n",
    "npCN2 = np.array( cCN2Cnts, dtype=np.int32 )\n",
    "npCCN = np.array( cCCNCnts, dtype=np.int32 )"
   ]
  },
  {
   "cell_type": "code",
   "execution_count": 17,
   "id": "a4474325-4262-4cc4-954a-2879cd29d450",
   "metadata": {},
   "outputs": [],
   "source": [
    "HistMax = npHist.max()\n",
    "CN1Max = npCN1.max()\n",
    "CN2Max = npCN2.max()\n",
    "CCNMax = npCCN.max()"
   ]
  },
  {
   "cell_type": "code",
   "execution_count": 18,
   "id": "300287b2-8301-4ca6-9f2c-556f77bd86ba",
   "metadata": {},
   "outputs": [],
   "source": [
    "HistMin = npHist.min()\n",
    "CN1Min = npCN1.min()\n",
    "CN2Min = npCN2.min()\n",
    "CCNMin = npCCN.min()"
   ]
  },
  {
   "cell_type": "code",
   "execution_count": 19,
   "id": "ec323690-4f48-4601-a8e2-00e10fce1b76",
   "metadata": {},
   "outputs": [],
   "source": [
    "HistMean = npHist.mean()\n",
    "CN1Mean = npCN1.mean()\n",
    "CN2Mean = npCN2.mean()\n",
    "CCNMean = npCCN.mean()"
   ]
  },
  {
   "cell_type": "code",
   "execution_count": 20,
   "id": "a5b51fbe-371e-407f-9205-274a53a029e8",
   "metadata": {},
   "outputs": [],
   "source": [
    "HistMed = np.median( npHist )\n",
    "CN1Med = np.median( npCN1 )\n",
    "CN2Med = np.median( npCN2 )\n",
    "CCNMed = np.median( npCCN )"
   ]
  },
  {
   "cell_type": "code",
   "execution_count": 21,
   "id": "6c9c347c-13a0-4d9c-8f75-1e60353514f9",
   "metadata": {},
   "outputs": [],
   "source": [
    "HistVar = npHist.var()\n",
    "CN1Var = npCN1.var()\n",
    "CN2Var = npCN2.var()\n",
    "CCNVar = npCCN.var()"
   ]
  },
  {
   "cell_type": "code",
   "execution_count": 22,
   "id": "7f8228d3-eee7-4727-ae9b-7064f3078a04",
   "metadata": {},
   "outputs": [],
   "source": [
    "HistCnt = len( npHist )\n",
    "CN1Cnt = len( npCN1 )\n",
    "CN2Cnt = len( npCN2 )\n",
    "CCNCnt = len( npCCN )"
   ]
  },
  {
   "cell_type": "code",
   "execution_count": 23,
   "id": "8a2e7bb3-fd0a-49a0-adb0-6fe5e43afcb6",
   "metadata": {},
   "outputs": [
    {
     "data": {
      "text/plain": [
       "(0.7764765355126799,\n",
       " 0.8564038580653116,\n",
       " 0.7850253460408412,\n",
       " 0.7963336816473915)"
      ]
     },
     "execution_count": 23,
     "metadata": {},
     "output_type": "execute_result"
    }
   ],
   "source": [
    "HistN = math.pow( HistMean, 2.0 ) / (HistVar - HistMean)\n",
    "CN1N = math.pow( CN1Mean, 2.0 ) / (CN1Var - CN1Mean)\n",
    "CN2N = math.pow( CN2Mean, 2.0 ) / (CN2Var - CN2Mean)\n",
    "CCNN = math.pow( CCNMean, 2.0 ) / (CCNVar - CCNMean)\n",
    "HistN, CN1N, CN2N, CCNN"
   ]
  },
  {
   "cell_type": "code",
   "execution_count": 24,
   "id": "32cc82b8-5759-4361-b8ce-2d6de75a4a7a",
   "metadata": {},
   "outputs": [
    {
     "data": {
      "text/plain": [
       "(0.07483046223400108,\n",
       " 0.07314105468961063,\n",
       " 0.06146744982936224,\n",
       " 0.06861944651219594)"
      ]
     },
     "execution_count": 24,
     "metadata": {},
     "output_type": "execute_result"
    }
   ],
   "source": [
    "HistP = HistMean / HistVar\n",
    "CN1P = CN1Mean / CN1Var\n",
    "CN2P = CN2Mean / CN2Var\n",
    "CCNP = CCNMean / CCNVar\n",
    "HistP, CN1P, CN2P, CCNP"
   ]
  },
  {
   "cell_type": "code",
   "execution_count": 25,
   "id": "12f7f32e-aca3-4c99-bd95-846bf2938d25",
   "metadata": {},
   "outputs": [],
   "source": [
    "HistNBinomRV = sstats.nbinom( HistN, HistP, loc=0 )\n",
    "CN1NBinomRV = sstats.nbinom( CN1N, CN1P, loc=0 )\n",
    "CN2NBinomRV = sstats.nbinom( CN2N, CN2P, loc=0 )\n",
    "CCNNBinomRV = sstats.nbinom( CCNN, CCNP, loc=0 )"
   ]
  },
  {
   "cell_type": "code",
   "execution_count": 26,
   "id": "97306964-3fff-47a8-b533-c4f4a9e5551b",
   "metadata": {},
   "outputs": [
    {
     "data": {
      "text/plain": [
       "((array(9.6), array(128.29)), 9.6, 128.29000000000002)"
      ]
     },
     "execution_count": 26,
     "metadata": {},
     "output_type": "execute_result"
    }
   ],
   "source": [
    "HistNBinomRV.stats(), HistMean, HistVar"
   ]
  },
  {
   "cell_type": "code",
   "execution_count": 27,
   "id": "0bbfb21b-61f7-494b-a05c-a1a15877aab8",
   "metadata": {},
   "outputs": [
    {
     "data": {
      "text/plain": [
       "117"
      ]
     },
     "execution_count": 27,
     "metadata": {},
     "output_type": "execute_result"
    }
   ],
   "source": [
    "MaxMax = max( [HistMax, CN1Max, CN2Max, CCNMax] )\n",
    "MaxMax"
   ]
  },
  {
   "cell_type": "code",
   "execution_count": 28,
   "id": "f7acd69f-4bf6-4525-95d2-5c4f17080959",
   "metadata": {},
   "outputs": [
    {
     "data": {
      "text/plain": [
       "array([  0,   1,   2,   3,   4,   5,   6,   7,   8,   9,  10,  11,  12,\n",
       "        13,  14,  15,  16,  17,  18,  19,  20,  21,  22,  23,  24,  25,\n",
       "        26,  27,  28,  29,  30,  31,  32,  33,  34,  35,  36,  37,  38,\n",
       "        39,  40,  41,  42,  43,  44,  45,  46,  47,  48,  49,  50,  51,\n",
       "        52,  53,  54,  55,  56,  57,  58,  59,  60,  61,  62,  63,  64,\n",
       "        65,  66,  67,  68,  69,  70,  71,  72,  73,  74,  75,  76,  77,\n",
       "        78,  79,  80,  81,  82,  83,  84,  85,  86,  87,  88,  89,  90,\n",
       "        91,  92,  93,  94,  95,  96,  97,  98,  99, 100, 101, 102, 103,\n",
       "       104, 105, 106, 107, 108, 109, 110, 111, 112, 113, 114, 115, 116,\n",
       "       117])"
      ]
     },
     "execution_count": 28,
     "metadata": {},
     "output_type": "execute_result"
    }
   ],
   "source": [
    "bins = np.linspace( 0, MaxMax, num=MaxMax+1, dtype=np.int32 )\n",
    "bins"
   ]
  },
  {
   "cell_type": "code",
   "execution_count": 29,
   "id": "9dc96ac3-946d-443f-89e2-cbbd9a505386",
   "metadata": {},
   "outputs": [],
   "source": [
    "yPTicks = [ 0.0, 0.05, 0.10, 0.15, 0.20, 0.25, ]"
   ]
  },
  {
   "cell_type": "code",
   "execution_count": 30,
   "id": "07db715a-c360-4c13-9fff-a7e895d11057",
   "metadata": {},
   "outputs": [
    {
     "data": {
      "image/png": "[encoded data removed]",
      "text/plain": [
       "<Figure size 800x450 with 1 Axes>"
      ]
     },
     "metadata": {},
     "output_type": "display_data"
    }
   ],
   "source": [
    "# plot normalized\n",
    "Fig1 = plt.figure()\n",
    "Fig1.set_size_inches(8.0, 4.5)\n",
    "ax11 = Fig1.add_subplot(111)\n",
    "histInfo = ax11.hist( [npHist, npCN1, npCCN, npCN2,], bins, density=True, histtype='bar', color=colors,\n",
    "                      label=labels, )\n",
    "ax11.set_xticks( xPTicks )\n",
    "ax11.set_yticks( yPTicks )\n",
    "ax11.set_ylabel('Probability Density', fontsize=10)\n",
    "ax11.set_ylim( (yPTicks[0], yPTicks[len(yPTicks)-1]) )\n",
    "ax11.set_xlim( (xPTicks[0], xPTicks[len(xPTicks)-1]) )\n",
    "ax11.tick_params(axis='both', which='major', labelsize=10)\n",
    "ax11.xaxis.set_major_formatter( mpl.ticker.StrMethodFormatter( \"{x:,.0f}\" ) )\n",
    "ax11.yaxis.set_major_formatter( mpl.ticker.StrMethodFormatter( \"{x:,.2f}\" ) )\n",
    "ax11.legend( loc='upper right', fontsize=9, ncol=2 )\n",
    "ax11.grid(visible=True, which='major', axis='y' )"
   ]
  },
  {
   "cell_type": "code",
   "execution_count": 31,
   "id": "f19fb64e-a48a-440a-8ad2-655329459126",
   "metadata": {},
   "outputs": [],
   "source": [
    "HistNBinomRVLoc1 = sstats.nbinom( HistN, HistP, loc=1 )\n",
    "HistNBinomRVLoc2 = sstats.nbinom( HistN, HistP, loc=2 )"
   ]
  },
  {
   "cell_type": "code",
   "execution_count": 32,
   "id": "cb519323-765b-45d4-b138-2d254079c08e",
   "metadata": {},
   "outputs": [
    {
     "data": {
      "image/png": "[encoded data removed]",
      "text/plain": [
       "<Figure size 800x450 with 1 Axes>"
      ]
     },
     "metadata": {},
     "output_type": "display_data"
    }
   ],
   "source": [
    "Fig1 = plt.figure()\n",
    "Fig1.set_size_inches(8.0, 4.5)\n",
    "ax11 = Fig1.add_subplot(111)\n",
    "histhist = ax11.hist( npHist, bins, density=True, histtype='bar', color='xkcd:medium grey',\n",
    "                      label=labels[0], zorder=5, ) \n",
    "histpmf, = ax11.plot( bins, HistNBinomRV.pmf( bins ), color=colors[0], label=labels[0],\n",
    "                      linewidth=1.5, linestyle='-', zorder=10, )\n",
    "hist1pmf, = ax11.plot( bins, HistNBinomRVLoc1.pmf( bins ), color=colors[0], label=labels[0],\n",
    "                       linewidth=1.5, linestyle=':', zorder=11, )\n",
    "hist2pmf, = ax11.plot( bins, HistNBinomRVLoc2.pmf( bins ), color=colors[0], label=labels[0],\n",
    "                       linewidth=1.5, linestyle='dashed', zorder=12, )\n",
    "ax11.set_xticks( xPTicks )\n",
    "ax11.set_yticks( yPTicks )\n",
    "ax11.set_ylabel('Probability Density', fontsize=10)\n",
    "ax11.set_ylim( (yPTicks[0], yPTicks[len(yPTicks)-1]) )\n",
    "ax11.set_xlim( (xPTicks[0], xPTicks[len(xPTicks)-1]) )\n",
    "ax11.tick_params(axis='both', which='major', labelsize=10)\n",
    "ax11.xaxis.set_major_formatter( mpl.ticker.StrMethodFormatter( \"{x:,.0f}\" ) )\n",
    "ax11.yaxis.set_major_formatter( mpl.ticker.StrMethodFormatter( \"{x:,.2f}\" ) )\n",
    "ax11.legend( loc='upper right', fontsize=9, ncol=2 )\n",
    "ax11.grid(visible=True, which='major', axis='y' )"
   ]
  },
  {
   "cell_type": "code",
   "execution_count": 33,
   "id": "60873b21-87f6-4a86-9d99-4dba8495139b",
   "metadata": {},
   "outputs": [
    {
     "data": {
      "text/plain": [
       "0.005518399909439109"
      ]
     },
     "execution_count": 33,
     "metadata": {},
     "output_type": "execute_result"
    }
   ],
   "source": [
    "HistNBinomRVLoc1.pmf( 30 )"
   ]
  },
  {
   "cell_type": "code",
   "execution_count": 34,
   "id": "465fa051-44b2-4021-b6b2-38bc355ec63d",
   "metadata": {},
   "outputs": [
    {
     "data": {
      "text/plain": [
       "0.13358211595072023"
      ]
     },
     "execution_count": 34,
     "metadata": {},
     "output_type": "execute_result"
    }
   ],
   "source": [
    "MaxMax = max( [HistNBinomRV.pmf( bins ).max(), CN1NBinomRV.pmf( bins ).max(), CCNNBinomRV.pmf( bins ).max(), CN2NBinomRV.pmf( bins ).max(), ] )\n",
    "MaxMax"
   ]
  },
  {
   "cell_type": "code",
   "execution_count": 35,
   "id": "aea69677-fd06-4364-adcf-516831073e2f",
   "metadata": {},
   "outputs": [],
   "source": [
    "yPTicks = [ 0.0, 0.03, 0.06, 0.09, 0.12, 0.15 ]"
   ]
  },
  {
   "cell_type": "code",
   "execution_count": 36,
   "id": "3e588ef2-4692-4c35-a8ff-931721e602c0",
   "metadata": {},
   "outputs": [
    {
     "data": {
      "image/png": "[encoded data removed]",
      "text/plain": [
       "<Figure size 800x450 with 1 Axes>"
      ]
     },
     "metadata": {},
     "output_type": "display_data"
    }
   ],
   "source": [
    "Fig1 = plt.figure()\n",
    "Fig1.set_size_inches(8.0, 4.5)\n",
    "ax11 = Fig1.add_subplot(111)\n",
    "histpmf, = ax11.plot( bins, HistNBinomRV.pmf( bins ), color=colors[0], label=labels[0],\n",
    "                      linewidth=1.5, linestyle='-', zorder=5, )\n",
    "histCN1, = ax11.plot( bins, CN1NBinomRV.pmf( bins ), color=colors[1], label=labels[1],\n",
    "                      linewidth=1.5, linestyle='-', zorder=7, )\n",
    "histCCN, = ax11.plot( bins, CCNNBinomRV.pmf( bins ), color=colors[2], label=labels[2],\n",
    "                      linewidth=1.5, linestyle='-', zorder=9, )\n",
    "histCN2, = ax11.plot( bins, CN2NBinomRV.pmf( bins ), color=colors[3], label=labels[3],\n",
    "                      linewidth=1.5, linestyle='-', zorder=11, )\n",
    "ax11.set_xticks( xPTicks )\n",
    "ax11.set_yticks( yPTicks )\n",
    "ax11.set_ylabel('Probability Density', fontsize=10)\n",
    "ax11.set_ylim( (yPTicks[0], yPTicks[len(yPTicks)-1]) )\n",
    "ax11.set_xlim( (xPTicks[0], xPTicks[len(xPTicks)-1]) )\n",
    "ax11.tick_params(axis='both', which='major', labelsize=10)\n",
    "ax11.xaxis.set_major_formatter( mpl.ticker.StrMethodFormatter( \"{x:,.0f}\" ) )\n",
    "ax11.yaxis.set_major_formatter( mpl.ticker.StrMethodFormatter( \"{x:,.2f}\" ) )\n",
    "ax11.legend( loc='upper right', fontsize=9, ncol=2 )\n",
    "ax11.grid(visible=True, which='major', axis='y' )"
   ]
  },
  {
   "cell_type": "markdown",
   "id": "e5200b8d-a705-425f-a118-83eef0b5a321",
   "metadata": {},
   "source": [
    "### Loop through All"
   ]
  },
  {
   "cell_type": "markdown",
   "id": "6afea779-ad88-4d80-ae97-41ccedd56115",
   "metadata": {},
   "source": [
    "Make the stats tracking DataFrame"
   ]
  },
  {
   "cell_type": "code",
   "execution_count": 37,
   "id": "d9d04d80-95db-4a45-b6ec-4725cf40bc22",
   "metadata": {},
   "outputs": [],
   "source": [
    "ColNames = [ \"HistObs_1991to2020\", \"CN1_2021to2050\", \"CCN_2031to2060\", \"CN2_2051to2080\" ]"
   ]
  },
  {
   "cell_type": "code",
   "execution_count": 38,
   "id": "fc0f54f7-458f-4f96-837a-85d5ac44065c",
   "metadata": {},
   "outputs": [],
   "source": [
    "RowIndNames = [ \"Counts (N)\", \"Max\", \"Mean\", \"Median\", \"Min\", \"Var\", \"nb_N\", \"nb_P\", \"loc\", \"prob_30d\" ]"
   ]
  },
  {
   "cell_type": "code",
   "execution_count": 39,
   "id": "d6bd0ce5-dcd7-4139-a936-3b4aa1576301",
   "metadata": {},
   "outputs": [],
   "source": [
    "StatsTrackTemplate = pd.DataFrame( 0, columns=ColNames, index=RowIndNames, dtype=np.float32 )"
   ]
  },
  {
   "cell_type": "markdown",
   "id": "b99a0a49-573c-4429-94c4-0d482eac6c89",
   "metadata": {},
   "source": [
    "Now loop through all months and collate and make our outputs"
   ]
  },
  {
   "cell_type": "code",
   "execution_count": 40,
   "id": "c23d9dd2-7799-42af-97c0-294ef0eb641b",
   "metadata": {},
   "outputs": [],
   "source": [
    "for bas in BAS_KEYS:\n",
    "    HistMCntsDict = HistDict[bas]\n",
    "    CN1MCntsDict = CN1Dict[bas]\n",
    "    CN2MCntsDict = CN2Dict[bas]\n",
    "    CCNMCntsDict = CCNDict[bas]\n",
    "    StatsTrackDict = dict()\n",
    "    for mon in MonKeys:\n",
    "        StatsTrackDict[mon] = StatsTrackTemplate.copy()\n",
    "    # end for\n",
    "    for mon in MonKeys:\n",
    "        cLabel = MonDict[mon]\n",
    "        cHistCnts = HistMCntsDict[mon]\n",
    "        cCN1Cnts = CN1MCntsDict[mon]\n",
    "        cCN2Cnts = CN2MCntsDict[mon]\n",
    "        cCCNCnts = CCNMCntsDict[mon]\n",
    "        npHist = np.array( cHistCnts, dtype=np.int32 )\n",
    "        npCN1 = np.array( cCN1Cnts, dtype=np.int32 )\n",
    "        npCN2 = np.array( cCN2Cnts, dtype=np.int32 )\n",
    "        npCCN = np.array( cCCNCnts, dtype=np.int32 )\n",
    "        # maximums\n",
    "        HistMax = npHist.max()\n",
    "        CN1Max = npCN1.max()\n",
    "        CN2Max = npCN2.max()\n",
    "        CCNMax = npCCN.max()\n",
    "        StatsTrackDict[mon].at[\"Max\", ColNames[0]] = HistMax\n",
    "        StatsTrackDict[mon].at[\"Max\", ColNames[1]] = CN1Max\n",
    "        StatsTrackDict[mon].at[\"Max\", ColNames[2]] = CCNMax\n",
    "        StatsTrackDict[mon].at[\"Max\", ColNames[3]] = CN2Max\n",
    "        DaysMax = max( [HistMax, CN1Max, CN2Max, CCNMax ] )\n",
    "        bins = np.linspace( 0, DaysMax, num=DaysMax+1, dtype=np.int32 )\n",
    "        # minimums\n",
    "        HistMin = npHist.min()\n",
    "        CN1Min = npCN1.min()\n",
    "        CN2Min = npCN2.min()\n",
    "        CCNMin = npCCN.min()\n",
    "        StatsTrackDict[mon].at[\"Min\", ColNames[0]] = HistMin\n",
    "        StatsTrackDict[mon].at[\"Min\", ColNames[1]] = CN1Min\n",
    "        StatsTrackDict[mon].at[\"Min\", ColNames[2]] = CCNMin\n",
    "        StatsTrackDict[mon].at[\"Min\", ColNames[3]] = CN2Min\n",
    "        # means\n",
    "        HistMean = npHist.mean()\n",
    "        CN1Mean = npCN1.mean()\n",
    "        CN2Mean = npCN2.mean()\n",
    "        CCNMean = npCCN.mean()\n",
    "        StatsTrackDict[mon].at[\"Mean\", ColNames[0]] = HistMean\n",
    "        StatsTrackDict[mon].at[\"Mean\", ColNames[1]] = CN1Mean\n",
    "        StatsTrackDict[mon].at[\"Mean\", ColNames[2]] = CCNMean\n",
    "        StatsTrackDict[mon].at[\"Mean\", ColNames[3]] = CN2Mean\n",
    "        # medians\n",
    "        HistMed = np.median( npHist )\n",
    "        CN1Med = np.median( npCN1 )\n",
    "        CN2Med = np.median( npCN2 )\n",
    "        CCNMed = np.median( npCCN )\n",
    "        StatsTrackDict[mon].at[\"Median\", ColNames[0]] = HistMed\n",
    "        StatsTrackDict[mon].at[\"Median\", ColNames[1]] = CN1Med\n",
    "        StatsTrackDict[mon].at[\"Median\", ColNames[2]] = CCNMed\n",
    "        StatsTrackDict[mon].at[\"Median\", ColNames[3]] = CN2Med\n",
    "        # variances\n",
    "        HistVar = npHist.var()\n",
    "        CN1Var = npCN1.var()\n",
    "        CN2Var = npCN2.var()\n",
    "        CCNVar = npCCN.var()\n",
    "        StatsTrackDict[mon].at[\"Var\", ColNames[0]] = HistVar\n",
    "        StatsTrackDict[mon].at[\"Var\", ColNames[1]] = CN1Var\n",
    "        StatsTrackDict[mon].at[\"Var\", ColNames[2]] = CCNVar\n",
    "        StatsTrackDict[mon].at[\"Var\", ColNames[3]] = CN2Var\n",
    "        # counts\n",
    "        HistCnt = len( npHist )\n",
    "        CN1Cnt = len( npCN1 )\n",
    "        CN2Cnt = len( npCN2 )\n",
    "        CCNCnt = len( npCCN )\n",
    "        StatsTrackDict[mon].at[\"Counts (N)\", ColNames[0]] = HistCnt\n",
    "        StatsTrackDict[mon].at[\"Counts (N)\", ColNames[1]] = CN1Cnt\n",
    "        StatsTrackDict[mon].at[\"Counts (N)\", ColNames[2]] = CCNCnt\n",
    "        StatsTrackDict[mon].at[\"Counts (N)\", ColNames[3]] = CN2Cnt\n",
    "        # NB, N parameter\n",
    "        HistN = math.pow( HistMean, 2.0 ) / (HistVar - HistMean)\n",
    "        CN1N = math.pow( CN1Mean, 2.0 ) / (CN1Var - CN1Mean)\n",
    "        CN2N = math.pow( CN2Mean, 2.0 ) / (CN2Var - CN2Mean)\n",
    "        CCNN = math.pow( CCNMean, 2.0 ) / (CCNVar - CCNMean)\n",
    "        StatsTrackDict[mon].at[\"nb_N\", ColNames[0]] = HistN\n",
    "        StatsTrackDict[mon].at[\"nb_N\", ColNames[1]] = CN1N\n",
    "        StatsTrackDict[mon].at[\"nb_N\", ColNames[2]] = CCNN\n",
    "        StatsTrackDict[mon].at[\"nb_N\", ColNames[3]] = CN2N\n",
    "        # NB, P parameter\n",
    "        HistP = HistMean / HistVar\n",
    "        CN1P = CN1Mean / CN1Var\n",
    "        CN2P = CN2Mean / CN2Var\n",
    "        CCNP = CCNMean / CCNVar\n",
    "        StatsTrackDict[mon].at[\"nb_P\", ColNames[0]] = HistP\n",
    "        StatsTrackDict[mon].at[\"nb_P\", ColNames[1]] = CN1P\n",
    "        StatsTrackDict[mon].at[\"nb_P\", ColNames[2]] = CCNP\n",
    "        StatsTrackDict[mon].at[\"nb_P\", ColNames[3]] = CN2P\n",
    "        # distributions\n",
    "        HistNBinomRV = sstats.nbinom( HistN, HistP, loc=1 )\n",
    "        CN1NBinomRV = sstats.nbinom( CN1N, CN1P, loc=1 )\n",
    "        CN2NBinomRV = sstats.nbinom( CN2N, CN2P, loc=1 )\n",
    "        CCNNBinomRV = sstats.nbinom( CCNN, CCNP, loc=1 )\n",
    "        StatsTrackDict[mon].at[\"loc\", ColNames[0]] = 1.0\n",
    "        StatsTrackDict[mon].at[\"loc\", ColNames[1]] = 1.0\n",
    "        StatsTrackDict[mon].at[\"loc\", ColNames[2]] = 1.0\n",
    "        StatsTrackDict[mon].at[\"loc\", ColNames[3]] = 1.0\n",
    "        StatsTrackDict[mon].at[\"prob_30d\", ColNames[0]] = HistNBinomRV.pmf( 30 )\n",
    "        StatsTrackDict[mon].at[\"prob_30d\", ColNames[1]] = CN1NBinomRV.pmf( 30 )\n",
    "        StatsTrackDict[mon].at[\"prob_30d\", ColNames[2]] = CCNNBinomRV.pmf( 30 )\n",
    "        StatsTrackDict[mon].at[\"prob_30d\", ColNames[3]] = CN2NBinomRV.pmf( 30 )\n",
    "        # get the maximum probability density\n",
    "        MaxPDen = max( [HistNBinomRV.pmf( bins ).max(), CN1NBinomRV.pmf( bins ).max(), CCNNBinomRV.pmf( bins ).max(), \n",
    "                        CN2NBinomRV.pmf( bins ).max(), ] )\n",
    "        # allocate maximum pDen\n",
    "        if MaxPDen < 0.15:\n",
    "            MaxYPlot = 0.15\n",
    "            yPTicks = [ 0.0, 0.03, 0.06, 0.09, 0.12, 0.15 ]\n",
    "        elif MaxPDen < 0.20:\n",
    "            MaxYPlot = 0.20\n",
    "            yPTicks = [0.0, 0.05, 0.10, 0.15, 0.20]\n",
    "        elif MaxPDen < 0.30:\n",
    "            MaxYPlot = 0.30\n",
    "            yPTicks = [0.0, 0.05, 0.10, 0.15, 0.20, 0.25, 0.30, ]\n",
    "        elif MaxPDen < 0.40:\n",
    "            MaxYPlot = 0.40\n",
    "            yPTicks = [0.0, 0.10, 0.20, 0.30, 0.40, ]\n",
    "        else:\n",
    "            MaxYPlot = 0.50\n",
    "            yPTicks = [0.0, 0.10, 0.20, 0.30, 0.40, 0.50, ]\n",
    "        # end if\n",
    "        # do the plots\n",
    "        #     plot normalized histograms\n",
    "        OutSVG = os.path.normpath( os.path.join( OUT_DIR, \"Plots\", \"%s_DryDays_Hist_%s.svg\" % (bas, cLabel ) ) )\n",
    "        OutPNG = os.path.normpath( os.path.join( OUT_DIR, \"Plots\", \"%s_DryDays_Hist_%s.png\" % (bas, cLabel ) ) )\n",
    "        OutPDF = os.path.normpath( os.path.join( OUT_DIR, \"Plots\", \"%s_DryDays_Hist_%s.pdf\" % (bas, cLabel ) ) )\n",
    "        Fig1 = plt.figure()\n",
    "        Fig1.set_size_inches(8.0, 4.5)\n",
    "        ax11 = Fig1.add_subplot(111)\n",
    "        histInfo = ax11.hist( [npHist, npCN1, npCCN, npCN2,], bins, density=True, histtype='bar', color=colors,\n",
    "                              label=labels, )\n",
    "        ax11.set_xticks( xPTicks )\n",
    "        ax11.set_yticks( yPTicks )\n",
    "        ax11.set_ylabel('Probability Density', fontsize=10)\n",
    "        ax11.set_xlabel('%s Dry Spell Length (days)' % cLabel, fontsize=10)\n",
    "        ax11.set_ylim( (yPTicks[0], yPTicks[len(yPTicks)-1]) )\n",
    "        ax11.set_xlim( (xPTicks[0], xPTicks[len(xPTicks)-1]) )\n",
    "        ax11.tick_params(axis='both', which='major', labelsize=10)\n",
    "        ax11.xaxis.set_major_formatter( mpl.ticker.StrMethodFormatter( \"{x:,.0f}\" ) )\n",
    "        ax11.yaxis.set_major_formatter( mpl.ticker.StrMethodFormatter( \"{x:,.2f}\" ) )\n",
    "        ax11.legend( loc='upper right', fontsize=9, ncol=2 )\n",
    "        ax11.grid(visible=True, which='major', axis='y' )\n",
    "        Fig1.savefig( OutSVG, dpi=600.0 )\n",
    "        Fig1.savefig( OutPNG, dpi=600.0 )\n",
    "        Fig1.savefig( OutPDF, dpi=600.0 )\n",
    "        # clear the figures\n",
    "        plt.cla()\n",
    "        plt.close(Fig1)\n",
    "        #     plot PDFs\n",
    "        OutSVG = os.path.normpath( os.path.join( OUT_DIR, \"Plots\", \"%s_DryDays_PDFs_%s.svg\" % (bas, cLabel ) ) )\n",
    "        OutPNG = os.path.normpath( os.path.join( OUT_DIR, \"Plots\", \"%s_DryDays_PDFs_%s.png\" % (bas, cLabel ) ) )\n",
    "        OutPDF = os.path.normpath( os.path.join( OUT_DIR, \"Plots\", \"%s_DryDays_PDFs_%s.pdf\" % (bas, cLabel ) ) )\n",
    "        Fig1 = plt.figure()\n",
    "        Fig1.set_size_inches(8.0, 4.5)\n",
    "        ax11 = Fig1.add_subplot(111)\n",
    "        histpmf, = ax11.plot( bins, HistNBinomRV.pmf( bins ), color=colors[0], label=labels[0],\n",
    "                              linewidth=1.5, linestyle='-', zorder=5, )\n",
    "        histCN1, = ax11.plot( bins, CN1NBinomRV.pmf( bins ), color=colors[1], label=labels[1],\n",
    "                              linewidth=1.5, linestyle='-', zorder=7, )\n",
    "        histCCN, = ax11.plot( bins, CCNNBinomRV.pmf( bins ), color=colors[2], label=labels[2],\n",
    "                              linewidth=1.5, linestyle='-', zorder=9, )\n",
    "        histCN2, = ax11.plot( bins, CN2NBinomRV.pmf( bins ), color=colors[3], label=labels[3],\n",
    "                              linewidth=1.5, linestyle='-', zorder=11, )\n",
    "        ax11.set_xticks( xPTicks )\n",
    "        ax11.set_yticks( yPTicks )\n",
    "        ax11.set_ylabel('Probability Density', fontsize=10)\n",
    "        ax11.set_xlabel('%s Dry Spell Length (days)' % cLabel, fontsize=10)\n",
    "        ax11.set_ylim( (yPTicks[0], yPTicks[len(yPTicks)-1]) )\n",
    "        ax11.set_xlim( (xPTicks[0], xPTicks[len(xPTicks)-1]) )\n",
    "        ax11.tick_params(axis='both', which='major', labelsize=10)\n",
    "        ax11.xaxis.set_major_formatter( mpl.ticker.StrMethodFormatter( \"{x:,.0f}\" ) )\n",
    "        ax11.yaxis.set_major_formatter( mpl.ticker.StrMethodFormatter( \"{x:,.2f}\" ) )\n",
    "        ax11.legend( loc='upper right', fontsize=9, ncol=2 )\n",
    "        ax11.grid(visible=True, which='major', axis='y' )\n",
    "        Fig1.savefig( OutSVG, dpi=600.0 )\n",
    "        Fig1.savefig( OutPNG, dpi=600.0 )\n",
    "        Fig1.savefig( OutPDF, dpi=600.0 )\n",
    "        # clear the figures\n",
    "        plt.cla()\n",
    "        plt.close(Fig1)\n",
    "    # end of month for\n",
    "    # now output the stats to a spreadsheet\n",
    "    outXLSX = os.path.normpath( os.path.join( OUT_DIR, \"%s_DryDays_Stats.xlsx\" % bas ) )\n",
    "    writer = pd.ExcelWriter( outXLSX )\n",
    "    workbook  = writer.book\n",
    "    format1 = workbook.add_format({'num_format': '#,##0.00000'})\n",
    "    for mon in MonKeys:\n",
    "        cLabel = MonDict[mon]\n",
    "        curDF = StatsTrackDict[mon]\n",
    "        curDF.to_excel( writer, sheet_name=cLabel, index_label=\"Statistic\" )\n",
    "        # adjust columns\n",
    "        writer.sheets[cLabel].set_column( 0, 0, 15 )\n",
    "        for column in curDF:\n",
    "            column_width = max(curDF[column].astype(str).map(len).max()+6, len(column)+6)\n",
    "            col_idx = curDF.columns.get_loc(column)\n",
    "            writer.sheets[cLabel].set_column(col_idx+1, col_idx+1, column_width, format1)\n",
    "        # end column for\n",
    "    # end month for\n",
    "    writer.close()\n",
    "# end basin for"
   ]
  },
  {
   "cell_type": "markdown",
   "id": "edbd8421-5eb8-443c-8a36-5f4395ef4cbf",
   "metadata": {},
   "source": [
    "## Wet Days"
   ]
  },
  {
   "cell_type": "code",
   "execution_count": 41,
   "id": "d51dc4fe-1d55-4b7c-8461-9333673078bc",
   "metadata": {},
   "outputs": [],
   "source": [
    "# load the dictionaries.\n",
    "InFiler = os.path.normpath( os.path.join( IN_DIR1, \"Hist_FullB_Cont_Wet_dict.pkl\" ) )\n",
    "with open( InFiler, 'rb' ) as IF:\n",
    "    HistDict = pickle.load( IF )\n",
    "# end with"
   ]
  },
  {
   "cell_type": "code",
   "execution_count": 42,
   "id": "d1148153-6758-4735-9646-e97300ba45a1",
   "metadata": {},
   "outputs": [],
   "source": [
    "InFiler = os.path.normpath( os.path.join( IN_DIR2, \"CN1_FullB_Cont_Wet_dict.pkl\" ) )\n",
    "with open( InFiler, 'rb' ) as IF:\n",
    "    CN1Dict = pickle.load( IF )\n",
    "# end with"
   ]
  },
  {
   "cell_type": "code",
   "execution_count": 43,
   "id": "f73831c3-7f33-4088-9efe-9fb52230054a",
   "metadata": {},
   "outputs": [],
   "source": [
    "InFiler = os.path.normpath( os.path.join( IN_DIR2, \"CN2_FullB_Cont_Wet_dict.pkl\" ) )\n",
    "with open( InFiler, 'rb' ) as IF:\n",
    "    CN2Dict = pickle.load( IF )\n",
    "# end with"
   ]
  },
  {
   "cell_type": "code",
   "execution_count": 44,
   "id": "dca3580f-4113-4528-8624-70ca890a6cf1",
   "metadata": {},
   "outputs": [],
   "source": [
    "InFiler = os.path.normpath( os.path.join( IN_DIR2, \"CCN_FullB_Cont_Wet_dict.pkl\" ) )\n",
    "with open( InFiler, 'rb' ) as IF:\n",
    "    CCNDict = pickle.load( IF )\n",
    "# end with"
   ]
  },
  {
   "cell_type": "markdown",
   "id": "ce628037-b614-4405-b770-0b7eb10f6c0c",
   "metadata": {},
   "source": [
    "### Loop Through All"
   ]
  },
  {
   "cell_type": "code",
   "execution_count": 45,
   "id": "b5e3c6ab-82b9-4393-bcf8-8c09986b40e9",
   "metadata": {},
   "outputs": [],
   "source": [
    "RowIndNames = [ \"Counts (N)\", \"Max\", \"Mean\", \"Median\", \"Min\", \"Var\", \"nb_N\", \"nb_P\", \"loc\", \"prob_4d\" ]"
   ]
  },
  {
   "cell_type": "code",
   "execution_count": 46,
   "id": "3ffa617b-6452-4bae-8d87-dd97732ea969",
   "metadata": {},
   "outputs": [],
   "source": [
    "StatsTrackTemplate = pd.DataFrame( 0, columns=ColNames, index=RowIndNames, dtype=np.float32 )"
   ]
  },
  {
   "cell_type": "code",
   "execution_count": 47,
   "id": "1010f49a-170c-407b-b0f4-6a3c68951881",
   "metadata": {},
   "outputs": [],
   "source": [
    "xPTicks = [0, 2, 4, 6, 8, 10, 12, 14]"
   ]
  },
  {
   "cell_type": "code",
   "execution_count": 48,
   "id": "a68dae8c-f237-42d7-886a-b8dd43202569",
   "metadata": {},
   "outputs": [],
   "source": [
    "for bas in BAS_KEYS:\n",
    "    HistMCntsDict = HistDict[bas]\n",
    "    CN1MCntsDict = CN1Dict[bas]\n",
    "    CN2MCntsDict = CN2Dict[bas]\n",
    "    CCNMCntsDict = CCNDict[bas]\n",
    "    StatsTrackDict = dict()\n",
    "    for mon in MonKeys:\n",
    "        StatsTrackDict[mon] = StatsTrackTemplate.copy()\n",
    "    # end for\n",
    "    for mon in MonKeys:\n",
    "        cLabel = MonDict[mon]\n",
    "        cHistCnts = HistMCntsDict[mon]\n",
    "        cCN1Cnts = CN1MCntsDict[mon]\n",
    "        cCN2Cnts = CN2MCntsDict[mon]\n",
    "        cCCNCnts = CCNMCntsDict[mon]\n",
    "        npHist = np.array( cHistCnts, dtype=np.int32 )\n",
    "        npCN1 = np.array( cCN1Cnts, dtype=np.int32 )\n",
    "        npCN2 = np.array( cCN2Cnts, dtype=np.int32 )\n",
    "        npCCN = np.array( cCCNCnts, dtype=np.int32 )\n",
    "        # maximums\n",
    "        HistMax = npHist.max()\n",
    "        CN1Max = npCN1.max()\n",
    "        CN2Max = npCN2.max()\n",
    "        CCNMax = npCCN.max()\n",
    "        StatsTrackDict[mon].at[\"Max\", ColNames[0]] = HistMax\n",
    "        StatsTrackDict[mon].at[\"Max\", ColNames[1]] = CN1Max\n",
    "        StatsTrackDict[mon].at[\"Max\", ColNames[2]] = CCNMax\n",
    "        StatsTrackDict[mon].at[\"Max\", ColNames[3]] = CN2Max\n",
    "        DaysMax = max( [HistMax, CN1Max, CN2Max, CCNMax ] )\n",
    "        bins = np.linspace( 0, DaysMax, num=DaysMax+1, dtype=np.int32 )\n",
    "        # minimums\n",
    "        HistMin = npHist.min()\n",
    "        CN1Min = npCN1.min()\n",
    "        CN2Min = npCN2.min()\n",
    "        CCNMin = npCCN.min()\n",
    "        StatsTrackDict[mon].at[\"Min\", ColNames[0]] = HistMin\n",
    "        StatsTrackDict[mon].at[\"Min\", ColNames[1]] = CN1Min\n",
    "        StatsTrackDict[mon].at[\"Min\", ColNames[2]] = CCNMin\n",
    "        StatsTrackDict[mon].at[\"Min\", ColNames[3]] = CN2Min\n",
    "        # means\n",
    "        HistMean = npHist.mean()\n",
    "        CN1Mean = npCN1.mean()\n",
    "        CN2Mean = npCN2.mean()\n",
    "        CCNMean = npCCN.mean()\n",
    "        StatsTrackDict[mon].at[\"Mean\", ColNames[0]] = HistMean\n",
    "        StatsTrackDict[mon].at[\"Mean\", ColNames[1]] = CN1Mean\n",
    "        StatsTrackDict[mon].at[\"Mean\", ColNames[2]] = CCNMean\n",
    "        StatsTrackDict[mon].at[\"Mean\", ColNames[3]] = CN2Mean\n",
    "        # medians\n",
    "        HistMed = np.median( npHist )\n",
    "        CN1Med = np.median( npCN1 )\n",
    "        CN2Med = np.median( npCN2 )\n",
    "        CCNMed = np.median( npCCN )\n",
    "        StatsTrackDict[mon].at[\"Median\", ColNames[0]] = HistMed\n",
    "        StatsTrackDict[mon].at[\"Median\", ColNames[1]] = CN1Med\n",
    "        StatsTrackDict[mon].at[\"Median\", ColNames[2]] = CCNMed\n",
    "        StatsTrackDict[mon].at[\"Median\", ColNames[3]] = CN2Med\n",
    "        # variances\n",
    "        HistVar = npHist.var()\n",
    "        CN1Var = npCN1.var()\n",
    "        CN2Var = npCN2.var()\n",
    "        CCNVar = npCCN.var()\n",
    "        StatsTrackDict[mon].at[\"Var\", ColNames[0]] = HistVar\n",
    "        StatsTrackDict[mon].at[\"Var\", ColNames[1]] = CN1Var\n",
    "        StatsTrackDict[mon].at[\"Var\", ColNames[2]] = CCNVar\n",
    "        StatsTrackDict[mon].at[\"Var\", ColNames[3]] = CN2Var\n",
    "        # counts\n",
    "        HistCnt = len( npHist )\n",
    "        CN1Cnt = len( npCN1 )\n",
    "        CN2Cnt = len( npCN2 )\n",
    "        CCNCnt = len( npCCN )\n",
    "        StatsTrackDict[mon].at[\"Counts (N)\", ColNames[0]] = HistCnt\n",
    "        StatsTrackDict[mon].at[\"Counts (N)\", ColNames[1]] = CN1Cnt\n",
    "        StatsTrackDict[mon].at[\"Counts (N)\", ColNames[2]] = CCNCnt\n",
    "        StatsTrackDict[mon].at[\"Counts (N)\", ColNames[3]] = CN2Cnt\n",
    "        # NB, N parameter\n",
    "        HistN = math.pow( HistMean, 2.0 ) / (HistVar - HistMean)\n",
    "        CN1N = math.pow( CN1Mean, 2.0 ) / (CN1Var - CN1Mean)\n",
    "        CN2N = math.pow( CN2Mean, 2.0 ) / (CN2Var - CN2Mean)\n",
    "        CCNN = math.pow( CCNMean, 2.0 ) / (CCNVar - CCNMean)\n",
    "        StatsTrackDict[mon].at[\"nb_N\", ColNames[0]] = HistN\n",
    "        StatsTrackDict[mon].at[\"nb_N\", ColNames[1]] = CN1N\n",
    "        StatsTrackDict[mon].at[\"nb_N\", ColNames[2]] = CCNN\n",
    "        StatsTrackDict[mon].at[\"nb_N\", ColNames[3]] = CN2N\n",
    "        # NB, P parameter\n",
    "        HistP = HistMean / HistVar\n",
    "        CN1P = CN1Mean / CN1Var\n",
    "        CN2P = CN2Mean / CN2Var\n",
    "        CCNP = CCNMean / CCNVar\n",
    "        StatsTrackDict[mon].at[\"nb_P\", ColNames[0]] = HistP\n",
    "        StatsTrackDict[mon].at[\"nb_P\", ColNames[1]] = CN1P\n",
    "        StatsTrackDict[mon].at[\"nb_P\", ColNames[2]] = CCNP\n",
    "        StatsTrackDict[mon].at[\"nb_P\", ColNames[3]] = CN2P\n",
    "        # distributions\n",
    "        HistNBinomRV = sstats.nbinom( HistN, HistP, loc=1 )\n",
    "        CN1NBinomRV = sstats.nbinom( CN1N, CN1P, loc=1 )\n",
    "        CN2NBinomRV = sstats.nbinom( CN2N, CN2P, loc=1 )\n",
    "        CCNNBinomRV = sstats.nbinom( CCNN, CCNP, loc=1 )\n",
    "        StatsTrackDict[mon].at[\"loc\", ColNames[0]] = 1.0\n",
    "        StatsTrackDict[mon].at[\"loc\", ColNames[1]] = 1.0\n",
    "        StatsTrackDict[mon].at[\"loc\", ColNames[2]] = 1.0\n",
    "        StatsTrackDict[mon].at[\"loc\", ColNames[3]] = 1.0\n",
    "        StatsTrackDict[mon].at[\"prob_4d\", ColNames[0]] = HistNBinomRV.pmf( 4 )\n",
    "        StatsTrackDict[mon].at[\"prob_4d\", ColNames[1]] = CN1NBinomRV.pmf( 4 )\n",
    "        StatsTrackDict[mon].at[\"prob_4d\", ColNames[2]] = CCNNBinomRV.pmf( 4 )\n",
    "        StatsTrackDict[mon].at[\"prob_4d\", ColNames[3]] = CN2NBinomRV.pmf( 4 )\n",
    "        # get the maximum probability density\n",
    "        MaxPDen = max( [HistNBinomRV.pmf( bins ).max(), CN1NBinomRV.pmf( bins ).max(), CCNNBinomRV.pmf( bins ).max(), \n",
    "                        CN2NBinomRV.pmf( bins ).max(), ] )\n",
    "        # allocate maximum pDen\n",
    "        if MaxPDen < 0.15:\n",
    "            MaxYPlot = 0.15\n",
    "            yPTicks = [ 0.0, 0.03, 0.06, 0.09, 0.12, 0.15 ]\n",
    "        elif MaxPDen < 0.20:\n",
    "            MaxYPlot = 0.20\n",
    "            yPTicks = [0.0, 0.05, 0.10, 0.15, 0.20]\n",
    "        elif MaxPDen < 0.30:\n",
    "            MaxYPlot = 0.30\n",
    "            yPTicks = [0.0, 0.05, 0.10, 0.15, 0.20, 0.25, 0.30, ]\n",
    "        elif MaxPDen < 0.40:\n",
    "            MaxYPlot = 0.40\n",
    "            yPTicks = [0.0, 0.10, 0.20, 0.30, 0.40, ]\n",
    "        else:\n",
    "            MaxYPlot = 0.50\n",
    "            yPTicks = [0.0, 0.10, 0.20, 0.30, 0.40, 0.50, ]\n",
    "        # end if\n",
    "        # do the plots\n",
    "        #     plot normalized histograms\n",
    "        OutSVG = os.path.normpath( os.path.join( OUT_DIR, \"Plots\", \"%s_WetDays_Hist_%s.svg\" % (bas, cLabel ) ) )\n",
    "        OutPNG = os.path.normpath( os.path.join( OUT_DIR, \"Plots\", \"%s_WetDays_Hist_%s.png\" % (bas, cLabel ) ) )\n",
    "        OutPDF = os.path.normpath( os.path.join( OUT_DIR, \"Plots\", \"%s_WetDays_Hist_%s.pdf\" % (bas, cLabel ) ) )\n",
    "        Fig1 = plt.figure()\n",
    "        Fig1.set_size_inches(8.0, 4.5)\n",
    "        ax11 = Fig1.add_subplot(111)\n",
    "        histInfo = ax11.hist( [npHist, npCN1, npCCN, npCN2,], bins, density=True, histtype='bar', color=colors,\n",
    "                              label=labels, )\n",
    "        ax11.set_xticks( xPTicks )\n",
    "        ax11.set_yticks( yPTicks )\n",
    "        ax11.set_ylabel('Probability Density', fontsize=10)\n",
    "        ax11.set_xlabel('%s Wet Spell Length (days)' % cLabel, fontsize=10)\n",
    "        ax11.set_ylim( (yPTicks[0], yPTicks[len(yPTicks)-1]) )\n",
    "        ax11.set_xlim( (xPTicks[0], xPTicks[len(xPTicks)-1]) )\n",
    "        ax11.tick_params(axis='both', which='major', labelsize=10)\n",
    "        ax11.xaxis.set_major_formatter( mpl.ticker.StrMethodFormatter( \"{x:,.0f}\" ) )\n",
    "        ax11.yaxis.set_major_formatter( mpl.ticker.StrMethodFormatter( \"{x:,.2f}\" ) )\n",
    "        ax11.legend( loc='upper right', fontsize=9, ncol=2 )\n",
    "        ax11.grid(visible=True, which='major', axis='y' )\n",
    "        Fig1.savefig( OutSVG, dpi=600.0 )\n",
    "        Fig1.savefig( OutPNG, dpi=600.0 )\n",
    "        Fig1.savefig( OutPDF, dpi=600.0 )\n",
    "        # clear the figures\n",
    "        plt.cla()\n",
    "        plt.close(Fig1)\n",
    "        #     plot PDFs\n",
    "        OutSVG = os.path.normpath( os.path.join( OUT_DIR, \"Plots\", \"%s_WetDays_PDFs_%s.svg\" % (bas, cLabel ) ) )\n",
    "        OutPNG = os.path.normpath( os.path.join( OUT_DIR, \"Plots\", \"%s_WetDays_PDFs_%s.png\" % (bas, cLabel ) ) )\n",
    "        OutPDF = os.path.normpath( os.path.join( OUT_DIR, \"Plots\", \"%s_WetDays_PDFs_%s.pdf\" % (bas, cLabel ) ) )\n",
    "        Fig1 = plt.figure()\n",
    "        Fig1.set_size_inches(8.0, 4.5)\n",
    "        ax11 = Fig1.add_subplot(111)\n",
    "        histpmf, = ax11.plot( bins, HistNBinomRV.pmf( bins ), color=colors[0], label=labels[0],\n",
    "                              linewidth=1.5, linestyle='-', zorder=5, )\n",
    "        histCN1, = ax11.plot( bins, CN1NBinomRV.pmf( bins ), color=colors[1], label=labels[1],\n",
    "                              linewidth=1.5, linestyle='-', zorder=7, )\n",
    "        histCCN, = ax11.plot( bins, CCNNBinomRV.pmf( bins ), color=colors[2], label=labels[2],\n",
    "                              linewidth=1.5, linestyle='-', zorder=9, )\n",
    "        histCN2, = ax11.plot( bins, CN2NBinomRV.pmf( bins ), color=colors[3], label=labels[3],\n",
    "                              linewidth=1.5, linestyle='-', zorder=11, )\n",
    "        ax11.set_xticks( xPTicks )\n",
    "        ax11.set_yticks( yPTicks )\n",
    "        ax11.set_ylabel('Probability Density', fontsize=10)\n",
    "        ax11.set_xlabel('%s Wet Spell Length (days)' % cLabel, fontsize=10)\n",
    "        ax11.set_ylim( (yPTicks[0], yPTicks[len(yPTicks)-1]) )\n",
    "        ax11.set_xlim( (xPTicks[0], xPTicks[len(xPTicks)-1]) )\n",
    "        ax11.tick_params(axis='both', which='major', labelsize=10)\n",
    "        ax11.xaxis.set_major_formatter( mpl.ticker.StrMethodFormatter( \"{x:,.0f}\" ) )\n",
    "        ax11.yaxis.set_major_formatter( mpl.ticker.StrMethodFormatter( \"{x:,.2f}\" ) )\n",
    "        ax11.legend( loc='upper right', fontsize=9, ncol=2 )\n",
    "        ax11.grid(visible=True, which='major', axis='y' )\n",
    "        Fig1.savefig( OutSVG, dpi=600.0 )\n",
    "        Fig1.savefig( OutPNG, dpi=600.0 )\n",
    "        Fig1.savefig( OutPDF, dpi=600.0 )\n",
    "        # clear the figures\n",
    "        plt.cla()\n",
    "        plt.close(Fig1)\n",
    "    # end of month for\n",
    "    # now output the stats to a spreadsheet\n",
    "    outXLSX = os.path.normpath( os.path.join( OUT_DIR, \"%s_WetDays_Stats.xlsx\" % bas ) )\n",
    "    writer = pd.ExcelWriter( outXLSX )\n",
    "    workbook  = writer.book\n",
    "    format1 = workbook.add_format({'num_format': '#,##0.00000'})\n",
    "    for mon in MonKeys:\n",
    "        cLabel = MonDict[mon]\n",
    "        curDF = StatsTrackDict[mon]\n",
    "        curDF.to_excel( writer, sheet_name=cLabel, index_label=\"Statistic\" )\n",
    "        # adjust columns\n",
    "        writer.sheets[cLabel].set_column( 0, 0, 15 )\n",
    "        for column in curDF:\n",
    "            column_width = max(curDF[column].astype(str).map(len).max()+6, len(column)+6)\n",
    "            col_idx = curDF.columns.get_loc(column)\n",
    "            writer.sheets[cLabel].set_column(col_idx+1, col_idx+1, column_width, format1)\n",
    "        # end column for\n",
    "    # end month for\n",
    "    writer.close()\n",
    "# end basin for"
   ]
  },
  {
   "cell_type": "code",
   "execution_count": null,
   "id": "b5e04cca-f8b1-4e67-82b3-617bd0e47906",
   "metadata": {},
   "outputs": [],
   "source": []
  }
 ],
 "metadata": {
  "kernelspec": {
   "display_name": "Python 3 (ipykernel)",
   "language": "python",
   "name": "python3"
  },
  "language_info": {
   "codemirror_mode": {
    "name": "ipython",
    "version": 3
   },
   "file_extension": ".py",
   "mimetype": "text/x-python",
   "name": "python",
   "nbconvert_exporter": "python",
   "pygments_lexer": "ipython3",
   "version": "3.9.15"
  }
 },
 "nbformat": 4,
 "nbformat_minor": 5
}
