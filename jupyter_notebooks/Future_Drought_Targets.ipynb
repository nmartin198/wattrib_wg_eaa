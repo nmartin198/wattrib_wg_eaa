{
 "cells": [
  {
   "cell_type": "markdown",
   "id": "924ca696-0af5-4696-b4da-4d806f4591cf",
   "metadata": {},
   "source": [
    "# Future Drought Targets"
   ]
  },
  {
   "cell_type": "markdown",
   "id": "ec34bff4-f868-42cd-be82-e5255eb9f7b1",
   "metadata": {},
   "source": [
    "The purpose of this notebook is to derive the future drought targets for \"calibrating\" a custom weather generator."
   ]
  },
  {
   "cell_type": "markdown",
   "id": "4a907cc6-39b5-4c35-b35d-70317959785e",
   "metadata": {},
   "source": [
    "## Imports and Parameters"
   ]
  },
  {
   "cell_type": "code",
   "execution_count": 1,
   "id": "e601fcb7-fa19-4513-b981-8225af97062d",
   "metadata": {},
   "outputs": [],
   "source": [
    "%matplotlib inline"
   ]
  },
  {
   "cell_type": "code",
   "execution_count": 2,
   "id": "b4032e35-754a-48f1-8823-d576afe9c217",
   "metadata": {},
   "outputs": [],
   "source": [
    "import os\n",
    "from IPython.display import display, HTML\n",
    "import pandas as pd\n",
    "import numpy as np\n",
    "import matplotlib as mpl\n",
    "import matplotlib.pyplot as plt\n",
    "from scipy import stats as sstats\n",
    "from math import exp, log, pow\n",
    "import datetime as dt\n",
    "import seaborn as sns\n",
    "import pickle"
   ]
  },
  {
   "cell_type": "code",
   "execution_count": 3,
   "id": "2d596733-bfd1-4e65-81ba-44cf3f09fee7",
   "metadata": {},
   "outputs": [],
   "source": [
    "plt.rcParams['svg.fonttype'] = 'none'"
   ]
  },
  {
   "cell_type": "code",
   "execution_count": 4,
   "id": "9b53aec8-e43f-4a50-9459-6a7e8a817b4b",
   "metadata": {},
   "outputs": [],
   "source": [
    "IN_DIR1 = r'C:\\Users\\nmartin\\Documents\\EAA_HCP\\Data\\SwRI_Processed\\Processed_Historical\\SPEI'\n",
    "IN_DIR2 = r'C:\\Users\\nmartin\\Documents\\EAA_HCP\\Data\\SwRI_Processed\\DayMet_GridIntersect'\n",
    "OUT_DIR = r'C:\\Users\\nmartin\\Documents\\EAA_HCP\\Data\\SwRI_Processed\\Processed_Historical\\SPEI'"
   ]
  },
  {
   "cell_type": "code",
   "execution_count": 5,
   "id": "d0cb3e01-3927-499c-9034-067862ac0e63",
   "metadata": {},
   "outputs": [],
   "source": [
    "# full basin intersection dictionary\n",
    "InFiler = os.path.normpath( os.path.join( IN_DIR2, \"BasWeightsGDF.pkl\" ) )\n",
    "with open( InFiler, 'rb' ) as IF:\n",
    "    BasWeightsDF = pickle.load( IF )\n",
    "# end with\n",
    "BAS_KEYS = sorted( BasWeightsDF.keys() )"
   ]
  },
  {
   "cell_type": "code",
   "execution_count": 6,
   "id": "f743f70f-f4ef-4149-a9bc-74edfabe52a9",
   "metadata": {},
   "outputs": [],
   "source": [
    "ExtractTS = pd.Timestamp( 2022, 7, 1, 0 )"
   ]
  },
  {
   "cell_type": "code",
   "execution_count": 7,
   "id": "6c45b889-c395-45fb-8315-69332589dbb1",
   "metadata": {},
   "outputs": [],
   "source": [
    "MonDict = { 1 : \"Jan\", 2 : \"Feb\", 3 : \"Mar\", 4 : \"Apr\", 5 : \"May\", 6 : \"Jun\", 7 : \"Jul\", 8 : \"Aug\",\n",
    "            9 : \"Sep\", 10 : \"Oct\", 11 : \"Nov\", 12 : \"Dec\", }\n",
    "MonKeys = sorted( MonDict.keys() )"
   ]
  },
  {
   "cell_type": "markdown",
   "id": "ee1ecfb1-5f25-40c0-8142-7bab2127e952",
   "metadata": {},
   "source": [
    "## Custom Functions"
   ]
  },
  {
   "cell_type": "code",
   "execution_count": 8,
   "id": "4f85fd51-2e45-4b72-9214-2920dfef5133",
   "metadata": {},
   "outputs": [],
   "source": [
    "def probDistLLogis( paramDict, npArray ):\n",
    "    \"\"\"Uses generalized logistic probability distribution to estimate cumulative\n",
    "    probilities for each value in the Numpy array, npArray.\n",
    "    \n",
    "    Args:\n",
    "        paramDict (dict): dictionary with best-fit parameter values for a \n",
    "                log-logisitic distribution. Must have keys: \"k\", \"scale\",\n",
    "                \"loc\" which are the 3 required parameters\n",
    "        npArray (np.ndarray): array from time series of monthly, rolling\n",
    "                average values\n",
    "    \n",
    "    Returns:\n",
    "        retArray (np.ndarray): cumulative probabilies for each npArray value\n",
    "    \"\"\"\n",
    "    shape = paramDict[\"k\"]\n",
    "    location = paramDict[\"loc\"]\n",
    "    scale = paramDict[\"scale\"]\n",
    "    if shape == 0.0:\n",
    "        # this is the special case of a logistic distribution with 2 params\n",
    "        y = ( npArray - location ) / scale\n",
    "    else:\n",
    "        # this is the general case of the log-logistic distribution\n",
    "        takeLogArray = 1.0 - ( shape * ( npArray - location ) / scale )\n",
    "        useLogArray = np.where( takeLogArray <= 0.0, 1e-7, takeLogArray )\n",
    "        y = ( -1.0 * ( 1.0 / shape ) ) * np.log( useLogArray )\n",
    "    # end if\n",
    "    retArray = 1.0 / ( 1.0 + np.exp( -1.0 * y  ) )\n",
    "    # return\n",
    "    return retArray"
   ]
  },
  {
   "cell_type": "code",
   "execution_count": 9,
   "id": "193e5afb-7354-4502-a644-079c2f085de3",
   "metadata": {},
   "outputs": [],
   "source": [
    "def ppfLLogis( paramDict, npArray ):\n",
    "    \"\"\"Uses generalized logistic probability distribution to estimate cumulative\n",
    "    probilities for each value in the Numpy array, npArray.\n",
    "    \n",
    "    Args:\n",
    "        paramDict (dict): dictionary with best-fit parameter values for a \n",
    "                log-logisitic distribution. Must have keys: \"k\", \"scale\",\n",
    "                \"loc\" which are the 3 required parameters\n",
    "        npArray (np.ndarray): array from time series of cumulative probability\n",
    "                values. All values must be greater than zero and less than or equal to one.\n",
    "    \n",
    "    Returns:\n",
    "        retArray (np.ndarray): cumulative deficit values corresponding to cumulative\n",
    "                               probabilities\n",
    "    \"\"\"\n",
    "    shape = paramDict[\"k\"]\n",
    "    location = paramDict[\"loc\"]\n",
    "    scale = paramDict[\"scale\"]\n",
    "    if shape == 0.0:\n",
    "        # this is the special case of a logistic distribution with 2 params\n",
    "        retArray = location - ( scale *  np.log( ( 1.0 - npArray ) / npArray ) )\n",
    "    else:\n",
    "        # this is the general case of the log-logistic distribution\n",
    "        retArray = location + ( scale * ( ( 1.0 - np.power( ( ( 1.0 - npArray ) / npArray ), shape ) ) / shape ) )\n",
    "    # end if\n",
    "    # return\n",
    "    return retArray"
   ]
  },
  {
   "cell_type": "markdown",
   "id": "90153d2f-dfa8-4174-8492-b59aabb129ef",
   "metadata": {},
   "source": [
    "## Test"
   ]
  },
  {
   "cell_type": "code",
   "execution_count": 10,
   "id": "729b33df-c283-4127-8635-6ab2bd22da19",
   "metadata": {},
   "outputs": [
    {
     "data": {
      "text/plain": [
       "'Blanco'"
      ]
     },
     "execution_count": 10,
     "metadata": {},
     "output_type": "execute_result"
    }
   ],
   "source": [
    "bas = BAS_KEYS[0]\n",
    "bas"
   ]
  },
  {
   "cell_type": "code",
   "execution_count": 11,
   "id": "40c9b3a2-ff8c-4d19-a16d-6b212e12cd59",
   "metadata": {},
   "outputs": [],
   "source": [
    "InFiler = os.path.normpath( os.path.join( IN_DIR1, bas, \"%s_SPEI.xlsx\" % bas ) )"
   ]
  },
  {
   "cell_type": "code",
   "execution_count": 12,
   "id": "56cfe2b2-8cd4-4903-a63c-cf1cd45e8b59",
   "metadata": {},
   "outputs": [],
   "source": [
    "llDistParamsDF = pd.read_excel( InFiler, sheet_name=\"Stats_3mo\", header=0, index_col=0 )"
   ]
  },
  {
   "cell_type": "code",
   "execution_count": 13,
   "id": "aeb18b8f-cf5f-4547-9072-489ae0aaa343",
   "metadata": {},
   "outputs": [
    {
     "data": {
      "text/html": [
       "<table border=\"1\" class=\"dataframe\">\n",
       "  <thead>\n",
       "    <tr style=\"text-align: right;\">\n",
       "      <th></th>\n",
       "      <th>SPEI Fit Stats</th>\n",
       "    </tr>\n",
       "    <tr>\n",
       "      <th>DateTime</th>\n",
       "      <th></th>\n",
       "    </tr>\n",
       "  </thead>\n",
       "  <tbody>\n",
       "    <tr>\n",
       "      <th>shape_1</th>\n",
       "      <td>-0.081375</td>\n",
       "    </tr>\n",
       "    <tr>\n",
       "      <th>scale_1</th>\n",
       "      <td>71.449400</td>\n",
       "    </tr>\n",
       "    <tr>\n",
       "      <th>loc_1</th>\n",
       "      <td>-0.420170</td>\n",
       "    </tr>\n",
       "    <tr>\n",
       "      <th>shape_2</th>\n",
       "      <td>-0.173454</td>\n",
       "    </tr>\n",
       "    <tr>\n",
       "      <th>scale_2</th>\n",
       "      <td>68.012194</td>\n",
       "    </tr>\n",
       "  </tbody>\n",
       "</table>"
      ],
      "text/plain": [
       "<IPython.core.display.HTML object>"
      ]
     },
     "metadata": {},
     "output_type": "display_data"
    }
   ],
   "source": [
    "display( HTML( llDistParamsDF.head().to_html() ) )"
   ]
  },
  {
   "cell_type": "code",
   "execution_count": 14,
   "id": "89384380-4188-4ec9-937e-a614f5f76dae",
   "metadata": {},
   "outputs": [
    {
     "data": {
      "text/html": [
       "<table border=\"1\" class=\"dataframe\">\n",
       "  <thead>\n",
       "    <tr style=\"text-align: right;\">\n",
       "      <th></th>\n",
       "      <th>SPEI Fit Stats</th>\n",
       "    </tr>\n",
       "    <tr>\n",
       "      <th>DateTime</th>\n",
       "      <th></th>\n",
       "    </tr>\n",
       "  </thead>\n",
       "  <tbody>\n",
       "    <tr>\n",
       "      <th>scale_11</th>\n",
       "      <td>90.023368</td>\n",
       "    </tr>\n",
       "    <tr>\n",
       "      <th>loc_11</th>\n",
       "      <td>-84.404699</td>\n",
       "    </tr>\n",
       "    <tr>\n",
       "      <th>shape_12</th>\n",
       "      <td>-0.106177</td>\n",
       "    </tr>\n",
       "    <tr>\n",
       "      <th>scale_12</th>\n",
       "      <td>97.857679</td>\n",
       "    </tr>\n",
       "    <tr>\n",
       "      <th>loc_12</th>\n",
       "      <td>-2.890737</td>\n",
       "    </tr>\n",
       "  </tbody>\n",
       "</table>"
      ],
      "text/plain": [
       "<IPython.core.display.HTML object>"
      ]
     },
     "metadata": {},
     "output_type": "display_data"
    }
   ],
   "source": [
    "display( HTML( llDistParamsDF.tail().to_html() ) )"
   ]
  },
  {
   "cell_type": "code",
   "execution_count": 15,
   "id": "d838745e-d223-4b55-836b-52c21bb7a8d6",
   "metadata": {},
   "outputs": [],
   "source": [
    "speiResultsDF = pd.read_excel( InFiler, sheet_name=\"SPEI_3mo\", header=0, index_col=0, parse_dates=True )"
   ]
  },
  {
   "cell_type": "code",
   "execution_count": 16,
   "id": "e2146db1-3e5e-436e-8321-ccee9770c460",
   "metadata": {},
   "outputs": [
    {
     "data": {
      "text/html": [
       "<table border=\"1\" class=\"dataframe\">\n",
       "  <thead>\n",
       "    <tr style=\"text-align: right;\">\n",
       "      <th></th>\n",
       "      <th>CumDef</th>\n",
       "      <th>CumProb</th>\n",
       "      <th>SPEI</th>\n",
       "      <th>5xCumProb</th>\n",
       "    </tr>\n",
       "    <tr>\n",
       "      <th>DateTime</th>\n",
       "      <th></th>\n",
       "      <th></th>\n",
       "      <th></th>\n",
       "      <th></th>\n",
       "    </tr>\n",
       "  </thead>\n",
       "  <tbody>\n",
       "    <tr>\n",
       "      <th>1981-01-01</th>\n",
       "      <td>-30.056408</td>\n",
       "      <td>0.396051</td>\n",
       "      <td>-0.263583</td>\n",
       "      <td>1.980253</td>\n",
       "    </tr>\n",
       "    <tr>\n",
       "      <th>1981-02-01</th>\n",
       "      <td>-67.786949</td>\n",
       "      <td>0.351531</td>\n",
       "      <td>-0.381191</td>\n",
       "      <td>1.757653</td>\n",
       "    </tr>\n",
       "    <tr>\n",
       "      <th>1981-03-01</th>\n",
       "      <td>-47.938759</td>\n",
       "      <td>0.551958</td>\n",
       "      <td>0.130610</td>\n",
       "      <td>2.759791</td>\n",
       "    </tr>\n",
       "    <tr>\n",
       "      <th>1981-04-01</th>\n",
       "      <td>-115.340317</td>\n",
       "      <td>0.580186</td>\n",
       "      <td>0.202371</td>\n",
       "      <td>2.900932</td>\n",
       "    </tr>\n",
       "    <tr>\n",
       "      <th>1981-05-01</th>\n",
       "      <td>-145.696564</td>\n",
       "      <td>0.588437</td>\n",
       "      <td>0.223526</td>\n",
       "      <td>2.942184</td>\n",
       "    </tr>\n",
       "  </tbody>\n",
       "</table>"
      ],
      "text/plain": [
       "<IPython.core.display.HTML object>"
      ]
     },
     "metadata": {},
     "output_type": "display_data"
    }
   ],
   "source": [
    "display( HTML( speiResultsDF.head().to_html() ) )"
   ]
  },
  {
   "cell_type": "code",
   "execution_count": 17,
   "id": "0b186103-edd3-4190-a945-4d16e3cbfb4e",
   "metadata": {},
   "outputs": [
    {
     "data": {
      "text/html": [
       "<table border=\"1\" class=\"dataframe\">\n",
       "  <thead>\n",
       "    <tr style=\"text-align: right;\">\n",
       "      <th></th>\n",
       "      <th>CumDef</th>\n",
       "      <th>CumProb</th>\n",
       "      <th>SPEI</th>\n",
       "      <th>5xCumProb</th>\n",
       "    </tr>\n",
       "    <tr>\n",
       "      <th>DateTime</th>\n",
       "      <th></th>\n",
       "      <th></th>\n",
       "      <th></th>\n",
       "      <th></th>\n",
       "    </tr>\n",
       "  </thead>\n",
       "  <tbody>\n",
       "    <tr>\n",
       "      <th>2022-08-01</th>\n",
       "      <td>-364.142273</td>\n",
       "      <td>0.470958</td>\n",
       "      <td>-0.072862</td>\n",
       "      <td>2.354789</td>\n",
       "    </tr>\n",
       "    <tr>\n",
       "      <th>2022-09-01</th>\n",
       "      <td>-286.355835</td>\n",
       "      <td>0.685661</td>\n",
       "      <td>0.483587</td>\n",
       "      <td>3.428303</td>\n",
       "    </tr>\n",
       "    <tr>\n",
       "      <th>2022-10-01</th>\n",
       "      <td>-178.918564</td>\n",
       "      <td>0.624979</td>\n",
       "      <td>0.318583</td>\n",
       "      <td>3.124894</td>\n",
       "    </tr>\n",
       "    <tr>\n",
       "      <th>2022-11-01</th>\n",
       "      <td>-201.438919</td>\n",
       "      <td>0.184381</td>\n",
       "      <td>-0.898796</td>\n",
       "      <td>0.921903</td>\n",
       "    </tr>\n",
       "    <tr>\n",
       "      <th>2022-12-01</th>\n",
       "      <td>-130.513306</td>\n",
       "      <td>0.197219</td>\n",
       "      <td>-0.851598</td>\n",
       "      <td>0.986093</td>\n",
       "    </tr>\n",
       "  </tbody>\n",
       "</table>"
      ],
      "text/plain": [
       "<IPython.core.display.HTML object>"
      ]
     },
     "metadata": {},
     "output_type": "display_data"
    }
   ],
   "source": [
    "display( HTML( speiResultsDF.tail().to_html() ) )"
   ]
  },
  {
   "cell_type": "code",
   "execution_count": 18,
   "id": "dabf1a69-98cf-42ea-a6ab-4d88dff72554",
   "metadata": {},
   "outputs": [
    {
     "data": {
      "text/plain": [
       "(0.03496904671192169, -1.812311410903931, 0.1748452335596085)"
      ]
     },
     "execution_count": 18,
     "metadata": {},
     "output_type": "execute_result"
    }
   ],
   "source": [
    "speiResultsDF.at[ExtractTS, \"CumProb\"], speiResultsDF.at[ExtractTS, \"SPEI\"], speiResultsDF.at[ExtractTS, \"5xCumProb\"]"
   ]
  },
  {
   "cell_type": "code",
   "execution_count": 19,
   "id": "d4986106-b9ba-4c5c-bad5-de33a2609c00",
   "metadata": {},
   "outputs": [
    {
     "data": {
      "text/plain": [
       "(-534.3901977539062, 0.03496904671192169, 0.1748452335596085)"
      ]
     },
     "execution_count": 19,
     "metadata": {},
     "output_type": "execute_result"
    }
   ],
   "source": [
    "exCumDef = speiResultsDF.at[ExtractTS, \"CumDef\"]\n",
    "exCumProb = speiResultsDF.at[ExtractTS, \"CumProb\"]\n",
    "ex5xCP = speiResultsDF.at[ExtractTS, \"5xCumProb\"]\n",
    "exCumDef, exCumProb, ex5xCP"
   ]
  },
  {
   "cell_type": "code",
   "execution_count": 20,
   "id": "a0385750-8925-4bd8-8947-230d7e761a21",
   "metadata": {},
   "outputs": [
    {
     "data": {
      "text/plain": [
       "(-0.1302565917240379, 100.42793207277, -263.8543363491371)"
      ]
     },
     "execution_count": 20,
     "metadata": {},
     "output_type": "execute_result"
    }
   ],
   "source": [
    "mon = 7\n",
    "cParam = llDistParamsDF.at[\"shape_%d\" % mon, \"SPEI Fit Stats\" ]\n",
    "cScale = llDistParamsDF.at[\"scale_%d\" % mon, \"SPEI Fit Stats\" ]\n",
    "cLoc = llDistParamsDF.at[\"loc_%d\" % mon, \"SPEI Fit Stats\" ]\n",
    "cParam, cScale, cLoc"
   ]
  },
  {
   "cell_type": "code",
   "execution_count": 21,
   "id": "a289c8a2-e3af-4020-a6bd-6da6bcdf99ac",
   "metadata": {},
   "outputs": [
    {
     "data": {
      "text/plain": [
       "{'k': -0.1302565917240379, 'loc': -263.8543363491371, 'scale': 100.42793207277}"
      ]
     },
     "execution_count": 21,
     "metadata": {},
     "output_type": "execute_result"
    }
   ],
   "source": [
    "paramDict7 = { \"k\" : cParam, \"loc\" : cLoc, \"scale\" : cScale }\n",
    "paramDict7"
   ]
  },
  {
   "cell_type": "code",
   "execution_count": 22,
   "id": "b74c16b1-22bd-4987-bf0e-e7cf8c946f09",
   "metadata": {},
   "outputs": [
    {
     "data": {
      "text/plain": [
       "array([0.03496906], dtype=float32)"
      ]
     },
     "execution_count": 22,
     "metadata": {},
     "output_type": "execute_result"
    }
   ],
   "source": [
    "probDistLLogis( paramDict7, np.array( [exCumDef], dtype=np.float32 ) )"
   ]
  },
  {
   "cell_type": "code",
   "execution_count": 23,
   "id": "be4bbf3e-3748-4ce7-a20a-50f32739cd19",
   "metadata": {},
   "outputs": [
    {
     "data": {
      "text/plain": [
       "array([-534.3902], dtype=float32)"
      ]
     },
     "execution_count": 23,
     "metadata": {},
     "output_type": "execute_result"
    }
   ],
   "source": [
    "ppfLLogis( paramDict7, np.array( [exCumProb], dtype=np.float32 ) )"
   ]
  },
  {
   "cell_type": "code",
   "execution_count": 24,
   "id": "ef281a87-0f0a-4b01-984d-c18e35832879",
   "metadata": {},
   "outputs": [
    {
     "data": {
      "text/plain": [
       "(1, 'Jan')"
      ]
     },
     "execution_count": 24,
     "metadata": {},
     "output_type": "execute_result"
    }
   ],
   "source": [
    "mon = MonKeys[0]\n",
    "mon, MonDict[mon]"
   ]
  },
  {
   "cell_type": "code",
   "execution_count": 25,
   "id": "e4d62eea-761b-46c1-a08d-e63a886c1b15",
   "metadata": {},
   "outputs": [
    {
     "data": {
      "text/plain": [
       "(-0.0813747739699357, 71.44939958636274, -0.4201702207401237)"
      ]
     },
     "execution_count": 25,
     "metadata": {},
     "output_type": "execute_result"
    }
   ],
   "source": [
    "cParam = llDistParamsDF.at[\"shape_%d\" % mon, \"SPEI Fit Stats\" ]\n",
    "cScale = llDistParamsDF.at[\"scale_%d\" % mon, \"SPEI Fit Stats\" ]\n",
    "cLoc = llDistParamsDF.at[\"loc_%d\" % mon, \"SPEI Fit Stats\" ]\n",
    "cParam, cScale, cLoc"
   ]
  },
  {
   "cell_type": "code",
   "execution_count": 26,
   "id": "7eaee9f6-593b-4aba-98a4-7f83cbca6554",
   "metadata": {},
   "outputs": [
    {
     "data": {
      "text/plain": [
       "{'k': -0.0813747739699357,\n",
       " 'loc': -0.4201702207401237,\n",
       " 'scale': 71.44939958636274}"
      ]
     },
     "execution_count": 26,
     "metadata": {},
     "output_type": "execute_result"
    }
   ],
   "source": [
    "paramDict1 = { \"k\" : cParam, \"loc\" : cLoc, \"scale\" : cScale }\n",
    "paramDict1"
   ]
  },
  {
   "cell_type": "code",
   "execution_count": 27,
   "id": "2113754f-b7c2-4649-95ca-22b18a122fab",
   "metadata": {},
   "outputs": [
    {
     "data": {
      "text/plain": [
       "(array([-208.16429], dtype=float32), 0.03496904671192169)"
      ]
     },
     "execution_count": 27,
     "metadata": {},
     "output_type": "execute_result"
    }
   ],
   "source": [
    "tMonCumDef = ppfLLogis( paramDict1, np.array( [exCumProb], dtype=np.float32 ) ) \n",
    "tMonCumDef, exCumProb"
   ]
  },
  {
   "cell_type": "markdown",
   "id": "b55d1973-da5c-44e5-89de-4820a0b65fba",
   "metadata": {},
   "source": [
    "## All Basins Collate"
   ]
  },
  {
   "cell_type": "markdown",
   "id": "fa0370ed-b4b0-4342-be56-ec56a7f9f849",
   "metadata": {},
   "source": [
    "Loop through and process all basins and months"
   ]
  },
  {
   "cell_type": "code",
   "execution_count": 28,
   "id": "344476db-4a97-4b35-9d0a-1dbe057d4917",
   "metadata": {},
   "outputs": [
    {
     "name": "stdout",
     "output_type": "stream",
     "text": [
      "Original cumulative deficit -534.39 and new cumulative deficit -534.39\n",
      "Original cumulative deficit -533.06 and new cumulative deficit -533.06\n",
      "Original cumulative deficit -539.55 and new cumulative deficit -539.55\n",
      "Original cumulative deficit -528.91 and new cumulative deficit -528.91\n",
      "Original cumulative deficit -549.22 and new cumulative deficit -549.22\n",
      "Original cumulative deficit -542.80 and new cumulative deficit -542.80\n",
      "Original cumulative deficit -538.58 and new cumulative deficit -538.58\n",
      "Original cumulative deficit -543.72 and new cumulative deficit -543.72\n",
      "Original cumulative deficit -531.50 and new cumulative deficit -531.50\n"
     ]
    }
   ],
   "source": [
    "for bas in BAS_KEYS:\n",
    "    # get the month to use to set all months and associated information\n",
    "    InFiler = os.path.normpath( os.path.join( IN_DIR1, bas, \"%s_SPEI.xlsx\" % bas ) )\n",
    "    llDistParamsDF = pd.read_excel( InFiler, sheet_name=\"Stats_3mo\", header=0, index_col=0 )\n",
    "    speiResultsDF = pd.read_excel( InFiler, sheet_name=\"SPEI_3mo\", header=0, index_col=0, parse_dates=True )\n",
    "    exCumDef = speiResultsDF.at[ExtractTS, \"CumDef\"]\n",
    "    exCumProb = speiResultsDF.at[ExtractTS, \"CumProb\"]\n",
    "    ex5xCP = speiResultsDF.at[ExtractTS, \"5xCumProb\"]\n",
    "    exMon = ExtractTS.month\n",
    "    # initialize the tracking lists\n",
    "    exCumProbList = list()\n",
    "    exCumDefList = list()\n",
    "    new5xCumProbList = list()\n",
    "    newCumDefList = list()\n",
    "    for mon in MonKeys:\n",
    "        cParam = llDistParamsDF.at[\"shape_%d\" % mon, \"SPEI Fit Stats\" ]\n",
    "        cScale = llDistParamsDF.at[\"scale_%d\" % mon, \"SPEI Fit Stats\" ]\n",
    "        cLoc = llDistParamsDF.at[\"loc_%d\" % mon, \"SPEI Fit Stats\" ]\n",
    "        paramDict = { \"k\" : cParam, \"loc\" : cLoc, \"scale\" : cScale }\n",
    "        tMonCumDef = ppfLLogis( paramDict, np.array( [exCumProb], dtype=np.float32 ) )\n",
    "        svCumDef = float( tMonCumDef[0] )\n",
    "        exCumProbList.append( exCumProb )\n",
    "        exCumDefList.append( svCumDef )\n",
    "        new5xCumProbList.append( ex5xCP )\n",
    "        newCumDefList.append( svCumDef )\n",
    "        if mon == 7:\n",
    "            print(\"Original cumulative deficit %7.2f and new cumulative deficit %7.2f\" %\n",
    "                  (exCumDef, svCumDef) )\n",
    "        # endif\n",
    "    # end for\n",
    "    DataDict = { \"2022 Cum Prob\" : np.array( exCumProbList, dtype=np.float32 ),\n",
    "                 \"2022 Cum Def\" : np.array( exCumDefList, dtype=np.float32 ),\n",
    "                 \"5X Cum Prob\" : np.array( new5xCumProbList, dtype=np.float32 ),\n",
    "                 \"Cum Def for 5X prob\" : np.array( newCumDefList, dtype=np.float32 ), }\n",
    "    curDF = pd.DataFrame( index=MonKeys, data=DataDict )\n",
    "    outXLSX = os.path.normpath( os.path.join( OUT_DIR, bas, \"%s_drought_targets.xlsx\" % bas ) )\n",
    "    writer = pd.ExcelWriter( outXLSX )\n",
    "    workbook  = writer.book\n",
    "    format1 = workbook.add_format({'num_format': '#,##0.000'})\n",
    "    cLabel = \"Targets\"\n",
    "    curDF.to_excel( writer, sheet_name=cLabel, index_label=\"Month\" )\n",
    "    # adjust columns\n",
    "    writer.sheets[cLabel].set_column( 0, 0, 10 )\n",
    "    for column in curDF:\n",
    "        column_width = max(curDF[column].astype(str).map(len).max()+6, len(column)+6)\n",
    "        col_idx = curDF.columns.get_loc(column)\n",
    "        writer.sheets[cLabel].set_column(col_idx+1, col_idx+1, column_width, format1)\n",
    "    # end for\n",
    "    writer.close()\n",
    "# end of basin for"
   ]
  },
  {
   "cell_type": "code",
   "execution_count": null,
   "id": "4e32de97-b7fb-4797-b2ab-a7975f743065",
   "metadata": {},
   "outputs": [],
   "source": []
  }
 ],
 "metadata": {
  "kernelspec": {
   "display_name": "Python 3 (ipykernel)",
   "language": "python",
   "name": "python3"
  },
  "language_info": {
   "codemirror_mode": {
    "name": "ipython",
    "version": 3
   },
   "file_extension": ".py",
   "mimetype": "text/x-python",
   "name": "python",
   "nbconvert_exporter": "python",
   "pygments_lexer": "ipython3",
   "version": "3.9.15"
  }
 },
 "nbformat": 4,
 "nbformat_minor": 5
}
