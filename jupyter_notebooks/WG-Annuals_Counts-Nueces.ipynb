{
 "cells": [
  {
   "cell_type": "markdown",
   "id": "d17701af-73e7-47b3-8cde-e5afb9dfdf23",
   "metadata": {},
   "source": [
    "# Weather Generator, Annual Averages and Counts: Nueces"
   ]
  },
  {
   "cell_type": "markdown",
   "id": "fa4c8225-39c3-4591-8323-8e6ec503eaa9",
   "metadata": {},
   "source": [
    "The purpose of this notebook is to calculate annual average precipitation, PET, and deficit for comparison to 1991-2020 values and to count SPEI and SPI values below/above a threshold."
   ]
  },
  {
   "cell_type": "markdown",
   "id": "b84a9524-05c7-4c01-a94f-9195230b27a5",
   "metadata": {},
   "source": [
    "## Imports and Parameters"
   ]
  },
  {
   "cell_type": "code",
   "execution_count": 1,
   "id": "c6b88a2e-4a72-4087-b762-dcbf3fe3f0cf",
   "metadata": {},
   "outputs": [],
   "source": [
    "%matplotlib inline"
   ]
  },
  {
   "cell_type": "code",
   "execution_count": 2,
   "id": "553f2e5e-02fd-42f6-b25a-ff9ab2803a92",
   "metadata": {},
   "outputs": [],
   "source": [
    "import os\n",
    "from IPython.display import display, HTML\n",
    "import pandas as pd\n",
    "import numpy as np\n",
    "import matplotlib as mpl\n",
    "import matplotlib.pyplot as plt\n",
    "from scipy import stats as sstats\n",
    "from math import exp\n",
    "import datetime as dt\n",
    "import seaborn as sns\n",
    "import pickle\n",
    "from copy import deepcopy"
   ]
  },
  {
   "cell_type": "code",
   "execution_count": 3,
   "id": "a795dfa4-f5e5-479a-85e7-4298d189e5b4",
   "metadata": {},
   "outputs": [],
   "source": [
    "BasKey = \"Nueces\""
   ]
  },
  {
   "cell_type": "code",
   "execution_count": 4,
   "id": "24768bd8-d0ee-4c66-8e9a-e80b6512cb42",
   "metadata": {},
   "outputs": [],
   "source": [
    "NumReal = 1000"
   ]
  },
  {
   "cell_type": "code",
   "execution_count": 5,
   "id": "9448731a-804d-449c-910c-488bb95a84cf",
   "metadata": {},
   "outputs": [],
   "source": [
    "plt.rcParams['svg.fonttype'] = 'none'"
   ]
  },
  {
   "cell_type": "code",
   "execution_count": 6,
   "id": "87aa9bc7-21e5-488b-901a-145117c3d1b7",
   "metadata": {},
   "outputs": [],
   "source": [
    "IN_DIR1 = r'C:\\Users\\nmartin\\Documents\\EAA_Drought_Future_Weather\\NumModels\\Final\\%s\\Results\\Simulated' % BasKey\n",
    "IN_DIR2 = r'C:\\Users\\nmartin\\Documents\\EAA_HCP\\Data\\SwRI_Processed\\LOCA2\\CN2031_2060'\n",
    "IN_DIR3 = r'C:\\Users\\nmartin\\Documents\\EAA_HCP\\Data\\SwRI_Processed\\Processed_Historical'\n",
    "OUT_DIR = r'C:\\Users\\nmartin\\Documents\\EAA_Drought_Future_Weather\\NumModels\\Final\\%s\\Results\\Processed' % BasKey"
   ]
  },
  {
   "cell_type": "code",
   "execution_count": 7,
   "id": "6c96ee83-328b-4d4f-82dc-002fcc744bae",
   "metadata": {},
   "outputs": [
    {
     "data": {
      "text/plain": [
       "30"
      ]
     },
     "execution_count": 7,
     "metadata": {},
     "output_type": "execute_result"
    }
   ],
   "source": [
    "CNStartTS = pd.Timestamp( 2031, 1, 1, )\n",
    "CNStopTS = pd.Timestamp( 2060, 12, 31, 23, 59, )\n",
    "CNAnnIndexer = pd.date_range( start=CNStartTS, end=CNStopTS, freq='AS' )\n",
    "len( CNAnnIndexer )"
   ]
  },
  {
   "cell_type": "code",
   "execution_count": 8,
   "id": "e12a7a69-4399-429b-857f-10f7ce3cd074",
   "metadata": {},
   "outputs": [
    {
     "data": {
      "text/plain": [
       "42"
      ]
     },
     "execution_count": 8,
     "metadata": {},
     "output_type": "execute_result"
    }
   ],
   "source": [
    "SimStartTS = pd.Timestamp(2024, 1, 1, 0, )\n",
    "SimStopTS = pd.Timestamp( 2065, 12, 31, 23, 59, )\n",
    "OAAnnIndexer = pd.date_range( start=SimStartTS, end=SimStopTS, freq='AS' )\n",
    "len( OAAnnIndexer )"
   ]
  },
  {
   "cell_type": "code",
   "execution_count": 9,
   "id": "d5e13543-1455-4f82-bb28-9dab7b5e6638",
   "metadata": {},
   "outputs": [],
   "source": [
    "ProjFileRoot = \"%s_R%d_DF.pickle\""
   ]
  },
  {
   "cell_type": "code",
   "execution_count": 10,
   "id": "d078d4e0-f628-4bcd-8c5d-5fcaf72b6a2f",
   "metadata": {},
   "outputs": [],
   "source": [
    "ColsList = list()\n",
    "for cR in range(1, NumReal+1):\n",
    "    ColsList.append( \"R%04d\" % cR )\n",
    "# end for"
   ]
  },
  {
   "cell_type": "code",
   "execution_count": 11,
   "id": "9b5e9b1d-0010-46ad-937d-50c19aefa911",
   "metadata": {},
   "outputs": [],
   "source": [
    "# our standard normal or ZScore parameters\n",
    "ZMu = 0.0\n",
    "ZStd = 1.0"
   ]
  },
  {
   "cell_type": "markdown",
   "id": "2b71ef3c-70d0-4f66-b994-e4b9d862f88e",
   "metadata": {},
   "source": [
    "## Collate Annual Averages"
   ]
  },
  {
   "cell_type": "markdown",
   "id": "d3fc85df-c804-4192-a199-98a563b5461d",
   "metadata": {},
   "source": [
    "Go through all realizations and get annual averages for the entire simulation period. Then get just for our analysis interval and get overall averages for the analysis window."
   ]
  },
  {
   "cell_type": "code",
   "execution_count": 12,
   "id": "f2d54ec2-b159-4712-b6d7-f27d76a690fb",
   "metadata": {},
   "outputs": [],
   "source": [
    "AnnPreDF = pd.DataFrame( 0.0, index=OAAnnIndexer, columns=ColsList, dtype=np.float32 )\n",
    "AnnEToDF = pd.DataFrame( 0.0, index=OAAnnIndexer, columns=ColsList, dtype=np.float32 )\n",
    "AnnDefDF = pd.DataFrame( 0.0, index=OAAnnIndexer, columns=ColsList, dtype=np.float32 )"
   ]
  },
  {
   "cell_type": "code",
   "execution_count": 13,
   "id": "f7a7fdfc-70fc-4dac-95a1-b719ccb97ee4",
   "metadata": {},
   "outputs": [],
   "source": [
    "CNAnnPreDF = pd.DataFrame( 0.0, index=CNAnnIndexer, columns=ColsList, dtype=np.float32 )\n",
    "CNAnnEToDF = pd.DataFrame( 0.0, index=CNAnnIndexer, columns=ColsList, dtype=np.float32 )\n",
    "CNAnnDefDF = pd.DataFrame( 0.0, index=CNAnnIndexer, columns=ColsList, dtype=np.float32 )"
   ]
  },
  {
   "cell_type": "code",
   "execution_count": 14,
   "id": "5b2a86b8-478c-486c-9b04-4f5851fbb606",
   "metadata": {},
   "outputs": [],
   "source": [
    "for cR in range(1, NumReal+1):\n",
    "    curCol = \"R%04d\" % cR\n",
    "    InFiler = os.path.normpath( os.path.join( IN_DIR1, ProjFileRoot % (BasKey, cR) ) )\n",
    "    curDF = pd.read_pickle( InFiler, compression='zip' )\n",
    "    cPreDF = curDF[[\"Precip_mm\"]].copy()\n",
    "    cPreDF.columns = [\"Pre_mm\"]\n",
    "    cEToDF = curDF[[\"ETo_mm\"]].copy()\n",
    "    cDefDF = curDF[[\"Def_mm\"]].copy()\n",
    "    curAnnPre = cPreDF.resample( 'AS' ).sum()\n",
    "    curAnnETo = cEToDF.resample( 'AS' ).sum()\n",
    "    curAnnDef = cDefDF.resample( 'AS' ).sum()\n",
    "    # set to the correct time durations\n",
    "    curCNAnnPre = curAnnPre.loc[CNStartTS:CNStopTS].copy()\n",
    "    curCNAnnETo = curAnnETo.loc[CNStartTS:CNStopTS].copy()\n",
    "    curCNAnnDef = curAnnDef.loc[CNStartTS:CNStopTS].copy()\n",
    "    # now assign to our columns in tracking DataFrames\n",
    "    AnnPreDF[curCol] = curAnnPre[\"Pre_mm\"].to_numpy(dtype=np.float32)\n",
    "    AnnEToDF[curCol] = curAnnETo[\"ETo_mm\"].to_numpy(dtype=np.float32)\n",
    "    AnnDefDF[curCol] = curAnnDef[\"Def_mm\"].to_numpy(dtype=np.float32)\n",
    "    CNAnnPreDF[curCol] = curCNAnnPre[\"Pre_mm\"].to_numpy(dtype=np.float32)\n",
    "    CNAnnEToDF[curCol] = curCNAnnETo[\"ETo_mm\"].to_numpy(dtype=np.float32)\n",
    "    CNAnnDefDF[curCol] = curCNAnnDef[\"Def_mm\"].to_numpy(dtype=np.float32)\n",
    "# end for"
   ]
  },
  {
   "cell_type": "code",
   "execution_count": 15,
   "id": "a2671d99-fad7-48c3-a8d3-7e855793d0f0",
   "metadata": {},
   "outputs": [],
   "source": [
    "AnnPreDF[\"EnsAve\"] = AnnPreDF.mean(axis=1)\n",
    "AnnEToDF[\"EnsAve\"] = AnnEToDF.mean(axis=1)\n",
    "AnnDefDF[\"EnsAve\"] = AnnDefDF.mean(axis=1)\n",
    "CNAnnPreDF[\"EnsAve\"] = CNAnnPreDF.mean(axis=1)\n",
    "CNAnnEToDF[\"EnsAve\"] = CNAnnEToDF.mean(axis=1)\n",
    "CNAnnDefDF[\"EnsAve\"] = CNAnnDefDF.mean(axis=1)\n",
    "ColsList.append( \"EnsAve\" )"
   ]
  },
  {
   "cell_type": "code",
   "execution_count": 16,
   "id": "cc1bfa57-d701-48e4-a0d6-efc09a3fd5e5",
   "metadata": {},
   "outputs": [],
   "source": [
    "AnnSummDF = pd.DataFrame( index=[BasKey], data={\"Pre_mm\" : [CNAnnPreDF[\"EnsAve\"].mean(),], \"ETo_mm\" : [CNAnnEToDF[\"EnsAve\"].mean(),], \n",
    "                                                \"Def_mm\" : [CNAnnDefDF[\"EnsAve\"].mean(),],} )"
   ]
  },
  {
   "cell_type": "markdown",
   "id": "68cc9dae-5833-4d8d-8fd2-4617e67080bf",
   "metadata": {},
   "source": [
    "Output to a spreadsheet"
   ]
  },
  {
   "cell_type": "code",
   "execution_count": 17,
   "id": "4083db5e-3a44-4fa6-b8ba-d6a7787eed39",
   "metadata": {},
   "outputs": [],
   "source": [
    "OutFiler = os.path.normpath( os.path.join( OUT_DIR, \"AnnualAverages_%s_%d-Real.xlsx\" % (BasKey, NumReal) ) )\n",
    "writer = pd.ExcelWriter( OutFiler )\n",
    "workbook  = writer.book\n",
    "format1 = workbook.add_format({'num_format': '#,##0.00'})\n",
    "cLabel = \"Summary\"\n",
    "AnnSummDF.to_excel( writer, sheet_name=cLabel, )\n",
    "# adjust columns\n",
    "writer.sheets[cLabel].set_column( 0, 0, 18 )\n",
    "for column in AnnSummDF:\n",
    "    column_width = max(AnnSummDF[column].astype(str).map(len).max()+6, len(column)+6)\n",
    "    col_idx = AnnSummDF.columns.get_loc(column)\n",
    "    writer.sheets[cLabel].set_column(col_idx+1, col_idx+1, column_width, format1)\n",
    "# end for\n",
    "cLabel = \"Pre_mm_all\"\n",
    "AnnPreDF.to_excel( writer, sheet_name=cLabel, index_label=\"DateTime\", columns=ColsList )\n",
    "# adjust columns\n",
    "writer.sheets[cLabel].set_column( 0, 0, 18 )\n",
    "for column in ColsList:\n",
    "    column_width = max(AnnPreDF[column].astype(str).map(len).max()+6, len(column)+6)\n",
    "    col_idx = AnnPreDF.columns.get_loc(column)\n",
    "    writer.sheets[cLabel].set_column(col_idx+1, col_idx+1, column_width, format1)\n",
    "# end for\n",
    "cLabel = \"ETo_mm_all\"\n",
    "AnnEToDF.to_excel( writer, sheet_name=cLabel, index_label=\"DateTime\", columns=ColsList )\n",
    "# adjust columns\n",
    "writer.sheets[cLabel].set_column( 0, 0, 18 )\n",
    "for column in ColsList:\n",
    "    column_width = max(AnnEToDF[column].astype(str).map(len).max()+6, len(column)+6)\n",
    "    col_idx = AnnEToDF.columns.get_loc(column)\n",
    "    writer.sheets[cLabel].set_column(col_idx+1, col_idx+1, column_width, format1)\n",
    "# end for\n",
    "cLabel = \"Def_mm_all\"\n",
    "AnnDefDF.to_excel( writer, sheet_name=cLabel, index_label=\"DateTime\", columns=ColsList )\n",
    "# adjust columns\n",
    "writer.sheets[cLabel].set_column( 0, 0, 18 )\n",
    "for column in ColsList:\n",
    "    column_width = max(AnnDefDF[column].astype(str).map(len).max()+6, len(column)+6)\n",
    "    col_idx = AnnDefDF.columns.get_loc(column)\n",
    "    writer.sheets[cLabel].set_column(col_idx+1, col_idx+1, column_width, format1)\n",
    "# end for\n",
    "cLabel = \"Pre_mm_CN\"\n",
    "CNAnnPreDF.to_excel( writer, sheet_name=cLabel, index_label=\"DateTime\", columns=ColsList )\n",
    "# adjust columns\n",
    "writer.sheets[cLabel].set_column( 0, 0, 18 )\n",
    "for column in ColsList:\n",
    "    column_width = max(CNAnnPreDF[column].astype(str).map(len).max()+6, len(column)+6)\n",
    "    col_idx = CNAnnPreDF.columns.get_loc(column)\n",
    "    writer.sheets[cLabel].set_column(col_idx+1, col_idx+1, column_width, format1)\n",
    "# end for\n",
    "cLabel = \"ETo_mm_CN\"\n",
    "CNAnnEToDF.to_excel( writer, sheet_name=cLabel, index_label=\"DateTime\", columns=ColsList )\n",
    "# adjust columns\n",
    "writer.sheets[cLabel].set_column( 0, 0, 18 )\n",
    "for column in ColsList:\n",
    "    column_width = max(CNAnnEToDF[column].astype(str).map(len).max()+6, len(column)+6)\n",
    "    col_idx = CNAnnEToDF.columns.get_loc(column)\n",
    "    writer.sheets[cLabel].set_column(col_idx+1, col_idx+1, column_width, format1)\n",
    "# end for\n",
    "cLabel = \"Def_mm_CN\"\n",
    "CNAnnDefDF.to_excel( writer, sheet_name=cLabel, index_label=\"DateTime\", columns=ColsList )\n",
    "# adjust columns\n",
    "writer.sheets[cLabel].set_column( 0, 0, 18 )\n",
    "for column in ColsList:\n",
    "    column_width = max(CNAnnDefDF[column].astype(str).map(len).max()+6, len(column)+6)\n",
    "    col_idx = CNAnnDefDF.columns.get_loc(column)\n",
    "    writer.sheets[cLabel].set_column(col_idx+1, col_idx+1, column_width, format1)\n",
    "# end for\n",
    "writer.close()"
   ]
  },
  {
   "cell_type": "markdown",
   "id": "8cc3ed6f-0207-4113-ac19-bc9da4cc1edd",
   "metadata": {},
   "source": [
    "## Get SPEI and SPI Counts"
   ]
  },
  {
   "cell_type": "markdown",
   "id": "5a30dc5e-3977-4eaf-8de2-9faee359fc1e",
   "metadata": {},
   "source": [
    "Get our counts for SPEI $\\le$ -1.5 and for SPI $\\ge$ 1.5"
   ]
  },
  {
   "cell_type": "code",
   "execution_count": 18,
   "id": "bc1b4225-5b47-429b-91e1-68579d75d744",
   "metadata": {},
   "outputs": [
    {
     "data": {
      "text/plain": [
       "(0.06680720126885807, 0.016666666666666666, 14.968446230453697)"
      ]
     },
     "execution_count": 18,
     "metadata": {},
     "output_type": "execute_result"
    }
   ],
   "source": [
    "F_SPEI = sstats.norm.cdf( -1.5, loc=ZMu, scale=ZStd )\n",
    "F_SPEI, 1.0/60.0, 1.0/F_SPEI"
   ]
  },
  {
   "cell_type": "code",
   "execution_count": 19,
   "id": "09377aa9-7641-40f2-ad6e-420cf927a656",
   "metadata": {},
   "outputs": [
    {
     "data": {
      "text/plain": [
       "(0.9331927987311419,\n",
       " 0.06680720126885809,\n",
       " 0.016666666666666666,\n",
       " 14.968446230453694)"
      ]
     },
     "execution_count": 19,
     "metadata": {},
     "output_type": "execute_result"
    }
   ],
   "source": [
    "F_SPI = sstats.norm.cdf( 1.5, loc=ZMu, scale=ZStd )\n",
    "F_SPI, (1.0 - F_SPI), 1.0/60.0, (1.0/(1.0-F_SPI))"
   ]
  },
  {
   "cell_type": "code",
   "execution_count": 20,
   "id": "d770a46f-efd3-4387-9dee-f8c21f2d3e3e",
   "metadata": {},
   "outputs": [],
   "source": [
    "InFiler = os.path.normpath( os.path.join( OUT_DIR, \"%s_SPEI.xlsx\" % BasKey ) )\n",
    "SpeiDF = pd.read_excel( InFiler, sheet_name=\"SPEI_3mo\", header=0, index_col=0, parse_dates=True )"
   ]
  },
  {
   "cell_type": "code",
   "execution_count": 21,
   "id": "e7f17f48-d42f-4099-8e7b-f00a4608f476",
   "metadata": {},
   "outputs": [],
   "source": [
    "InFiler = os.path.normpath( os.path.join( OUT_DIR, \"%s_SPI.xlsx\" % BasKey ) )\n",
    "SpiDF = pd.read_excel( InFiler, sheet_name=\"SPI_3mo\", header=0, index_col=0, parse_dates=True )"
   ]
  },
  {
   "cell_type": "code",
   "execution_count": 22,
   "id": "3f5a0a08-a7a5-48b0-a0c1-c2f616223999",
   "metadata": {},
   "outputs": [],
   "source": [
    "HistSPEIDF = SpeiDF[[\"SPEI (1981-2010)\"]].copy()\n",
    "L2SPEIDF = SpeiDF[[\"LOCA2 SPEI (2031-2060)\"]].copy()\n",
    "WGSPEIDF = SpeiDF[[\"WG SPEI (2031-2060)\"]].copy()"
   ]
  },
  {
   "cell_type": "code",
   "execution_count": 23,
   "id": "2efa42b2-d85d-4112-8357-def54e0a5150",
   "metadata": {},
   "outputs": [
    {
     "data": {
      "text/plain": [
       "18"
      ]
     },
     "execution_count": 23,
     "metadata": {},
     "output_type": "execute_result"
    }
   ],
   "source": [
    "HistSPEIDF = HistSPEIDF[HistSPEIDF[\"SPEI (1981-2010)\"] <= -1.5].copy()\n",
    "NumHist = len( HistSPEIDF )\n",
    "NumHist"
   ]
  },
  {
   "cell_type": "code",
   "execution_count": 24,
   "id": "e76d1b6c-94ce-4b1d-b3d3-652841d84b93",
   "metadata": {},
   "outputs": [
    {
     "data": {
      "text/html": [
       "<table border=\"1\" class=\"dataframe\">\n",
       "  <thead>\n",
       "    <tr style=\"text-align: right;\">\n",
       "      <th></th>\n",
       "      <th>SPEI (1981-2010)</th>\n",
       "    </tr>\n",
       "    <tr>\n",
       "      <th>DateTime</th>\n",
       "      <th></th>\n",
       "    </tr>\n",
       "  </thead>\n",
       "  <tbody>\n",
       "    <tr>\n",
       "      <th>1998-07-01</th>\n",
       "      <td>-1.681966</td>\n",
       "    </tr>\n",
       "    <tr>\n",
       "      <th>1999-02-01</th>\n",
       "      <td>-1.537625</td>\n",
       "    </tr>\n",
       "    <tr>\n",
       "      <th>1999-10-01</th>\n",
       "      <td>-1.876192</td>\n",
       "    </tr>\n",
       "    <tr>\n",
       "      <th>1999-11-01</th>\n",
       "      <td>-1.717754</td>\n",
       "    </tr>\n",
       "    <tr>\n",
       "      <th>2000-01-01</th>\n",
       "      <td>-1.830180</td>\n",
       "    </tr>\n",
       "    <tr>\n",
       "      <th>2006-01-01</th>\n",
       "      <td>-1.602291</td>\n",
       "    </tr>\n",
       "    <tr>\n",
       "      <th>2009-01-01</th>\n",
       "      <td>-1.574885</td>\n",
       "    </tr>\n",
       "    <tr>\n",
       "      <th>2009-02-01</th>\n",
       "      <td>-1.653968</td>\n",
       "    </tr>\n",
       "    <tr>\n",
       "      <th>2009-08-01</th>\n",
       "      <td>-1.731537</td>\n",
       "    </tr>\n",
       "    <tr>\n",
       "      <th>2010-12-01</th>\n",
       "      <td>-1.732126</td>\n",
       "    </tr>\n",
       "    <tr>\n",
       "      <th>2011-04-01</th>\n",
       "      <td>-1.979054</td>\n",
       "    </tr>\n",
       "    <tr>\n",
       "      <th>2011-05-01</th>\n",
       "      <td>-1.672843</td>\n",
       "    </tr>\n",
       "    <tr>\n",
       "      <th>2011-06-01</th>\n",
       "      <td>-1.745951</td>\n",
       "    </tr>\n",
       "    <tr>\n",
       "      <th>2011-07-01</th>\n",
       "      <td>-1.553892</td>\n",
       "    </tr>\n",
       "    <tr>\n",
       "      <th>2011-08-01</th>\n",
       "      <td>-1.647734</td>\n",
       "    </tr>\n",
       "    <tr>\n",
       "      <th>2019-09-01</th>\n",
       "      <td>-1.653822</td>\n",
       "    </tr>\n",
       "    <tr>\n",
       "      <th>2019-10-01</th>\n",
       "      <td>-1.675254</td>\n",
       "    </tr>\n",
       "    <tr>\n",
       "      <th>2022-07-01</th>\n",
       "      <td>-1.680195</td>\n",
       "    </tr>\n",
       "  </tbody>\n",
       "</table>"
      ],
      "text/plain": [
       "<IPython.core.display.HTML object>"
      ]
     },
     "metadata": {},
     "output_type": "display_data"
    }
   ],
   "source": [
    "display( HTML( HistSPEIDF.to_html() ) )"
   ]
  },
  {
   "cell_type": "code",
   "execution_count": 25,
   "id": "20d7e24b-5ac5-45ea-8db1-15e66d6d63b0",
   "metadata": {},
   "outputs": [
    {
     "data": {
      "text/plain": [
       "-1.979054093360901"
      ]
     },
     "execution_count": 25,
     "metadata": {},
     "output_type": "execute_result"
    }
   ],
   "source": [
    "HistSPEIDF[\"SPEI (1981-2010)\"].min()"
   ]
  },
  {
   "cell_type": "code",
   "execution_count": 26,
   "id": "ebde906e-de7e-407b-9137-d03de7f87704",
   "metadata": {},
   "outputs": [
    {
     "data": {
      "text/plain": [
       "8"
      ]
     },
     "execution_count": 26,
     "metadata": {},
     "output_type": "execute_result"
    }
   ],
   "source": [
    "L2SPEIDF = L2SPEIDF[L2SPEIDF[\"LOCA2 SPEI (2031-2060)\"] <= -1.5].copy()\n",
    "NumL2 = len( L2SPEIDF )\n",
    "NumL2"
   ]
  },
  {
   "cell_type": "code",
   "execution_count": 27,
   "id": "6b129455-efe1-40cd-a3da-471c993b55a2",
   "metadata": {},
   "outputs": [
    {
     "data": {
      "text/html": [
       "<table border=\"1\" class=\"dataframe\">\n",
       "  <thead>\n",
       "    <tr style=\"text-align: right;\">\n",
       "      <th></th>\n",
       "      <th>LOCA2 SPEI (2031-2060)</th>\n",
       "    </tr>\n",
       "    <tr>\n",
       "      <th>DateTime</th>\n",
       "      <th></th>\n",
       "    </tr>\n",
       "  </thead>\n",
       "  <tbody>\n",
       "    <tr>\n",
       "      <th>2000-01-01</th>\n",
       "      <td>-1.757407</td>\n",
       "    </tr>\n",
       "    <tr>\n",
       "      <th>2006-01-01</th>\n",
       "      <td>-1.535131</td>\n",
       "    </tr>\n",
       "    <tr>\n",
       "      <th>2009-01-01</th>\n",
       "      <td>-1.508035</td>\n",
       "    </tr>\n",
       "    <tr>\n",
       "      <th>2009-02-01</th>\n",
       "      <td>-1.590058</td>\n",
       "    </tr>\n",
       "    <tr>\n",
       "      <th>2010-12-01</th>\n",
       "      <td>-1.599311</td>\n",
       "    </tr>\n",
       "    <tr>\n",
       "      <th>2011-04-01</th>\n",
       "      <td>-1.950118</td>\n",
       "    </tr>\n",
       "    <tr>\n",
       "      <th>2011-05-01</th>\n",
       "      <td>-1.736887</td>\n",
       "    </tr>\n",
       "    <tr>\n",
       "      <th>2011-06-01</th>\n",
       "      <td>-1.746237</td>\n",
       "    </tr>\n",
       "  </tbody>\n",
       "</table>"
      ],
      "text/plain": [
       "<IPython.core.display.HTML object>"
      ]
     },
     "metadata": {},
     "output_type": "display_data"
    }
   ],
   "source": [
    "display( HTML( L2SPEIDF.to_html() ) )"
   ]
  },
  {
   "cell_type": "code",
   "execution_count": 28,
   "id": "c303ac5e-3a06-4e1c-b596-444fc5a4953b",
   "metadata": {},
   "outputs": [
    {
     "data": {
      "text/plain": [
       "-1.950117588043213"
      ]
     },
     "execution_count": 28,
     "metadata": {},
     "output_type": "execute_result"
    }
   ],
   "source": [
    "L2SPEIDF[\"LOCA2 SPEI (2031-2060)\"].min()"
   ]
  },
  {
   "cell_type": "code",
   "execution_count": 29,
   "id": "998879b6-4571-4d14-904b-8b8a7080c67f",
   "metadata": {},
   "outputs": [
    {
     "data": {
      "text/plain": [
       "-1.094823956489563"
      ]
     },
     "execution_count": 29,
     "metadata": {},
     "output_type": "execute_result"
    }
   ],
   "source": [
    "WGSPEIDF[\"WG SPEI (2031-2060)\"].min()"
   ]
  },
  {
   "cell_type": "code",
   "execution_count": 30,
   "id": "2422c6e8-3296-434c-a675-b68a9f4bfb04",
   "metadata": {},
   "outputs": [
    {
     "data": {
      "text/plain": [
       "0"
      ]
     },
     "execution_count": 30,
     "metadata": {},
     "output_type": "execute_result"
    }
   ],
   "source": [
    "WGSPEIDF = WGSPEIDF[WGSPEIDF[\"WG SPEI (2031-2060)\"] <= -1.5].copy()\n",
    "NumWG = len( WGSPEIDF )\n",
    "NumWG"
   ]
  },
  {
   "cell_type": "code",
   "execution_count": 31,
   "id": "c49863ce-e983-492a-a8bf-0dd4c4cd0fdb",
   "metadata": {},
   "outputs": [
    {
     "data": {
      "text/html": [
       "<table border=\"1\" class=\"dataframe\">\n",
       "  <thead>\n",
       "    <tr style=\"text-align: right;\">\n",
       "      <th></th>\n",
       "      <th>WG SPEI (2031-2060)</th>\n",
       "    </tr>\n",
       "    <tr>\n",
       "      <th>DateTime</th>\n",
       "      <th></th>\n",
       "    </tr>\n",
       "  </thead>\n",
       "  <tbody>\n",
       "  </tbody>\n",
       "</table>"
      ],
      "text/plain": [
       "<IPython.core.display.HTML object>"
      ]
     },
     "metadata": {},
     "output_type": "display_data"
    }
   ],
   "source": [
    "display( HTML( WGSPEIDF.to_html() ) )"
   ]
  },
  {
   "cell_type": "markdown",
   "id": "e867e120-9e88-4cbb-b626-b993c6c868e9",
   "metadata": {},
   "source": [
    "SPI"
   ]
  },
  {
   "cell_type": "code",
   "execution_count": 32,
   "id": "822bd0aa-3b7e-48a0-936a-49b84b469279",
   "metadata": {},
   "outputs": [],
   "source": [
    "HistSPIDF = SpiDF[[\"SPI (1981-2010)\"]].copy()\n",
    "L2SPIDF = SpiDF[[\"LOCA2 SPI (2031-2060)\"]].copy()\n",
    "WGSPIDF = SpiDF[[\"WG SPI (2031-2060)\"]].copy()"
   ]
  },
  {
   "cell_type": "code",
   "execution_count": 33,
   "id": "eae815bb-0ba9-401d-a262-bc74bfb25f50",
   "metadata": {},
   "outputs": [
    {
     "data": {
      "text/plain": [
       "17"
      ]
     },
     "execution_count": 33,
     "metadata": {},
     "output_type": "execute_result"
    }
   ],
   "source": [
    "HistSPIDF = HistSPIDF[HistSPIDF[\"SPI (1981-2010)\"] >= 1.5].copy()\n",
    "NumHistSPI = len( HistSPIDF )\n",
    "NumHistSPI"
   ]
  },
  {
   "cell_type": "code",
   "execution_count": 34,
   "id": "1c0cbd65-b786-4f4f-ad54-db9298dc787c",
   "metadata": {},
   "outputs": [
    {
     "data": {
      "text/html": [
       "<table border=\"1\" class=\"dataframe\">\n",
       "  <thead>\n",
       "    <tr style=\"text-align: right;\">\n",
       "      <th></th>\n",
       "      <th>SPI (1981-2010)</th>\n",
       "    </tr>\n",
       "    <tr>\n",
       "      <th>DateTime</th>\n",
       "      <th></th>\n",
       "    </tr>\n",
       "  </thead>\n",
       "  <tbody>\n",
       "    <tr>\n",
       "      <th>1998-08-01</th>\n",
       "      <td>1.851981</td>\n",
       "    </tr>\n",
       "    <tr>\n",
       "      <th>1998-09-01</th>\n",
       "      <td>1.619229</td>\n",
       "    </tr>\n",
       "    <tr>\n",
       "      <th>1998-10-01</th>\n",
       "      <td>2.617761</td>\n",
       "    </tr>\n",
       "    <tr>\n",
       "      <th>2000-11-01</th>\n",
       "      <td>1.930606</td>\n",
       "    </tr>\n",
       "    <tr>\n",
       "      <th>2000-12-01</th>\n",
       "      <td>1.830437</td>\n",
       "    </tr>\n",
       "    <tr>\n",
       "      <th>2004-04-01</th>\n",
       "      <td>1.866948</td>\n",
       "    </tr>\n",
       "    <tr>\n",
       "      <th>2005-01-01</th>\n",
       "      <td>1.642524</td>\n",
       "    </tr>\n",
       "    <tr>\n",
       "      <th>2007-05-01</th>\n",
       "      <td>1.966155</td>\n",
       "    </tr>\n",
       "    <tr>\n",
       "      <th>2007-06-01</th>\n",
       "      <td>1.891491</td>\n",
       "    </tr>\n",
       "    <tr>\n",
       "      <th>2007-07-01</th>\n",
       "      <td>2.461470</td>\n",
       "    </tr>\n",
       "    <tr>\n",
       "      <th>2007-08-01</th>\n",
       "      <td>2.125071</td>\n",
       "    </tr>\n",
       "    <tr>\n",
       "      <th>2015-05-01</th>\n",
       "      <td>2.125773</td>\n",
       "    </tr>\n",
       "    <tr>\n",
       "      <th>2015-06-01</th>\n",
       "      <td>2.018791</td>\n",
       "    </tr>\n",
       "    <tr>\n",
       "      <th>2018-09-01</th>\n",
       "      <td>1.608854</td>\n",
       "    </tr>\n",
       "    <tr>\n",
       "      <th>2018-10-01</th>\n",
       "      <td>3.116029</td>\n",
       "    </tr>\n",
       "    <tr>\n",
       "      <th>2018-11-01</th>\n",
       "      <td>2.651126</td>\n",
       "    </tr>\n",
       "    <tr>\n",
       "      <th>2018-12-01</th>\n",
       "      <td>1.792869</td>\n",
       "    </tr>\n",
       "  </tbody>\n",
       "</table>"
      ],
      "text/plain": [
       "<IPython.core.display.HTML object>"
      ]
     },
     "metadata": {},
     "output_type": "display_data"
    }
   ],
   "source": [
    "display( HTML( HistSPIDF.to_html() ) )"
   ]
  },
  {
   "cell_type": "code",
   "execution_count": 35,
   "id": "fec88606-6529-4f2f-92fd-61711d9c66c0",
   "metadata": {},
   "outputs": [
    {
     "data": {
      "text/plain": [
       "3.116029024124146"
      ]
     },
     "execution_count": 35,
     "metadata": {},
     "output_type": "execute_result"
    }
   ],
   "source": [
    "HistSPIDF[\"SPI (1981-2010)\"].max()"
   ]
  },
  {
   "cell_type": "code",
   "execution_count": 36,
   "id": "784b194e-0f1e-4263-9e51-9e80dfeaab89",
   "metadata": {},
   "outputs": [
    {
     "data": {
      "text/plain": [
       "22"
      ]
     },
     "execution_count": 36,
     "metadata": {},
     "output_type": "execute_result"
    }
   ],
   "source": [
    "L2SPIDF = L2SPIDF[L2SPIDF[\"LOCA2 SPI (2031-2060)\"] >= 1.5].copy()\n",
    "NumL2SPI = len( L2SPIDF )\n",
    "NumL2SPI"
   ]
  },
  {
   "cell_type": "code",
   "execution_count": 37,
   "id": "2bd15730-24e0-4294-a30f-b14b64da1893",
   "metadata": {},
   "outputs": [
    {
     "data": {
      "text/html": [
       "<table border=\"1\" class=\"dataframe\">\n",
       "  <thead>\n",
       "    <tr style=\"text-align: right;\">\n",
       "      <th></th>\n",
       "      <th>LOCA2 SPI (2031-2060)</th>\n",
       "    </tr>\n",
       "    <tr>\n",
       "      <th>DateTime</th>\n",
       "      <th></th>\n",
       "    </tr>\n",
       "  </thead>\n",
       "  <tbody>\n",
       "    <tr>\n",
       "      <th>1998-08-01</th>\n",
       "      <td>1.851063</td>\n",
       "    </tr>\n",
       "    <tr>\n",
       "      <th>1998-09-01</th>\n",
       "      <td>1.652114</td>\n",
       "    </tr>\n",
       "    <tr>\n",
       "      <th>1998-10-01</th>\n",
       "      <td>2.286660</td>\n",
       "    </tr>\n",
       "    <tr>\n",
       "      <th>2000-11-01</th>\n",
       "      <td>1.707927</td>\n",
       "    </tr>\n",
       "    <tr>\n",
       "      <th>2000-12-01</th>\n",
       "      <td>2.402752</td>\n",
       "    </tr>\n",
       "    <tr>\n",
       "      <th>2001-01-01</th>\n",
       "      <td>1.600066</td>\n",
       "    </tr>\n",
       "    <tr>\n",
       "      <th>2004-04-01</th>\n",
       "      <td>2.220833</td>\n",
       "    </tr>\n",
       "    <tr>\n",
       "      <th>2004-06-01</th>\n",
       "      <td>1.560452</td>\n",
       "    </tr>\n",
       "    <tr>\n",
       "      <th>2005-01-01</th>\n",
       "      <td>1.900418</td>\n",
       "    </tr>\n",
       "    <tr>\n",
       "      <th>2007-03-01</th>\n",
       "      <td>1.604383</td>\n",
       "    </tr>\n",
       "    <tr>\n",
       "      <th>2007-05-01</th>\n",
       "      <td>2.186556</td>\n",
       "    </tr>\n",
       "    <tr>\n",
       "      <th>2007-06-01</th>\n",
       "      <td>2.084953</td>\n",
       "    </tr>\n",
       "    <tr>\n",
       "      <th>2007-07-01</th>\n",
       "      <td>2.498191</td>\n",
       "    </tr>\n",
       "    <tr>\n",
       "      <th>2007-08-01</th>\n",
       "      <td>2.108167</td>\n",
       "    </tr>\n",
       "    <tr>\n",
       "      <th>2010-02-01</th>\n",
       "      <td>1.507124</td>\n",
       "    </tr>\n",
       "    <tr>\n",
       "      <th>2015-05-01</th>\n",
       "      <td>2.389989</td>\n",
       "    </tr>\n",
       "    <tr>\n",
       "      <th>2015-06-01</th>\n",
       "      <td>2.240450</td>\n",
       "    </tr>\n",
       "    <tr>\n",
       "      <th>2015-12-01</th>\n",
       "      <td>1.796870</td>\n",
       "    </tr>\n",
       "    <tr>\n",
       "      <th>2018-09-01</th>\n",
       "      <td>1.638348</td>\n",
       "    </tr>\n",
       "    <tr>\n",
       "      <th>2018-10-01</th>\n",
       "      <td>2.745510</td>\n",
       "    </tr>\n",
       "    <tr>\n",
       "      <th>2018-11-01</th>\n",
       "      <td>2.477643</td>\n",
       "    </tr>\n",
       "    <tr>\n",
       "      <th>2018-12-01</th>\n",
       "      <td>2.349094</td>\n",
       "    </tr>\n",
       "  </tbody>\n",
       "</table>"
      ],
      "text/plain": [
       "<IPython.core.display.HTML object>"
      ]
     },
     "metadata": {},
     "output_type": "display_data"
    }
   ],
   "source": [
    "display( HTML( L2SPIDF.to_html() ) )"
   ]
  },
  {
   "cell_type": "code",
   "execution_count": 38,
   "id": "ae6d6cb6-5aae-4690-8602-61192b942124",
   "metadata": {},
   "outputs": [
    {
     "data": {
      "text/plain": [
       "2.745509624481201"
      ]
     },
     "execution_count": 38,
     "metadata": {},
     "output_type": "execute_result"
    }
   ],
   "source": [
    "L2SPIDF[\"LOCA2 SPI (2031-2060)\"].max()"
   ]
  },
  {
   "cell_type": "code",
   "execution_count": 39,
   "id": "44058602-4ad6-4761-bd3b-8035d9ac815c",
   "metadata": {},
   "outputs": [
    {
     "data": {
      "text/plain": [
       "34"
      ]
     },
     "execution_count": 39,
     "metadata": {},
     "output_type": "execute_result"
    }
   ],
   "source": [
    "WGSPIDF = WGSPIDF[WGSPIDF[\"WG SPI (2031-2060)\"] >= 1.5].copy()\n",
    "NumWGSPI = len( WGSPIDF )\n",
    "NumWGSPI"
   ]
  },
  {
   "cell_type": "code",
   "execution_count": 40,
   "id": "5a79d7f4-c5de-4c77-a52e-4610d5701d59",
   "metadata": {},
   "outputs": [
    {
     "data": {
      "text/html": [
       "<table border=\"1\" class=\"dataframe\">\n",
       "  <thead>\n",
       "    <tr style=\"text-align: right;\">\n",
       "      <th></th>\n",
       "      <th>WG SPI (2031-2060)</th>\n",
       "    </tr>\n",
       "    <tr>\n",
       "      <th>DateTime</th>\n",
       "      <th></th>\n",
       "    </tr>\n",
       "  </thead>\n",
       "  <tbody>\n",
       "    <tr>\n",
       "      <th>1994-12-01</th>\n",
       "      <td>1.669272</td>\n",
       "    </tr>\n",
       "    <tr>\n",
       "      <th>1996-10-01</th>\n",
       "      <td>1.693693</td>\n",
       "    </tr>\n",
       "    <tr>\n",
       "      <th>1996-11-01</th>\n",
       "      <td>2.155934</td>\n",
       "    </tr>\n",
       "    <tr>\n",
       "      <th>1996-12-01</th>\n",
       "      <td>1.898630</td>\n",
       "    </tr>\n",
       "    <tr>\n",
       "      <th>1998-08-01</th>\n",
       "      <td>2.460060</td>\n",
       "    </tr>\n",
       "    <tr>\n",
       "      <th>1998-09-01</th>\n",
       "      <td>2.879015</td>\n",
       "    </tr>\n",
       "    <tr>\n",
       "      <th>1998-10-01</th>\n",
       "      <td>3.957487</td>\n",
       "    </tr>\n",
       "    <tr>\n",
       "      <th>1998-12-01</th>\n",
       "      <td>1.760466</td>\n",
       "    </tr>\n",
       "    <tr>\n",
       "      <th>2000-11-01</th>\n",
       "      <td>3.457190</td>\n",
       "    </tr>\n",
       "    <tr>\n",
       "      <th>2000-12-01</th>\n",
       "      <td>4.262197</td>\n",
       "    </tr>\n",
       "    <tr>\n",
       "      <th>2001-12-01</th>\n",
       "      <td>2.369994</td>\n",
       "    </tr>\n",
       "    <tr>\n",
       "      <th>2002-11-01</th>\n",
       "      <td>2.054202</td>\n",
       "    </tr>\n",
       "    <tr>\n",
       "      <th>2002-12-01</th>\n",
       "      <td>2.820612</td>\n",
       "    </tr>\n",
       "    <tr>\n",
       "      <th>2004-04-01</th>\n",
       "      <td>1.718673</td>\n",
       "    </tr>\n",
       "    <tr>\n",
       "      <th>2004-06-01</th>\n",
       "      <td>1.843108</td>\n",
       "    </tr>\n",
       "    <tr>\n",
       "      <th>2004-11-01</th>\n",
       "      <td>2.310616</td>\n",
       "    </tr>\n",
       "    <tr>\n",
       "      <th>2004-12-01</th>\n",
       "      <td>2.840470</td>\n",
       "    </tr>\n",
       "    <tr>\n",
       "      <th>2005-01-01</th>\n",
       "      <td>1.640470</td>\n",
       "    </tr>\n",
       "    <tr>\n",
       "      <th>2007-05-01</th>\n",
       "      <td>2.285648</td>\n",
       "    </tr>\n",
       "    <tr>\n",
       "      <th>2007-06-01</th>\n",
       "      <td>2.402927</td>\n",
       "    </tr>\n",
       "    <tr>\n",
       "      <th>2007-07-01</th>\n",
       "      <td>3.468526</td>\n",
       "    </tr>\n",
       "    <tr>\n",
       "      <th>2007-08-01</th>\n",
       "      <td>2.914463</td>\n",
       "    </tr>\n",
       "    <tr>\n",
       "      <th>2007-09-01</th>\n",
       "      <td>2.516777</td>\n",
       "    </tr>\n",
       "    <tr>\n",
       "      <th>2015-05-01</th>\n",
       "      <td>2.472918</td>\n",
       "    </tr>\n",
       "    <tr>\n",
       "      <th>2015-06-01</th>\n",
       "      <td>2.568009</td>\n",
       "    </tr>\n",
       "    <tr>\n",
       "      <th>2015-07-01</th>\n",
       "      <td>2.005476</td>\n",
       "    </tr>\n",
       "    <tr>\n",
       "      <th>2015-11-01</th>\n",
       "      <td>1.924982</td>\n",
       "    </tr>\n",
       "    <tr>\n",
       "      <th>2015-12-01</th>\n",
       "      <td>3.405054</td>\n",
       "    </tr>\n",
       "    <tr>\n",
       "      <th>2016-09-01</th>\n",
       "      <td>1.906606</td>\n",
       "    </tr>\n",
       "    <tr>\n",
       "      <th>2016-10-01</th>\n",
       "      <td>1.571928</td>\n",
       "    </tr>\n",
       "    <tr>\n",
       "      <th>2018-09-01</th>\n",
       "      <td>2.853461</td>\n",
       "    </tr>\n",
       "    <tr>\n",
       "      <th>2018-10-01</th>\n",
       "      <td>4.742074</td>\n",
       "    </tr>\n",
       "    <tr>\n",
       "      <th>2018-11-01</th>\n",
       "      <td>4.707596</td>\n",
       "    </tr>\n",
       "    <tr>\n",
       "      <th>2018-12-01</th>\n",
       "      <td>4.186248</td>\n",
       "    </tr>\n",
       "  </tbody>\n",
       "</table>"
      ],
      "text/plain": [
       "<IPython.core.display.HTML object>"
      ]
     },
     "metadata": {},
     "output_type": "display_data"
    }
   ],
   "source": [
    "display( HTML( WGSPIDF.to_html() ) )"
   ]
  },
  {
   "cell_type": "code",
   "execution_count": 41,
   "id": "ea0db9da-9d24-40f8-9b28-3c4589a900ed",
   "metadata": {},
   "outputs": [
    {
     "data": {
      "text/plain": [
       "4.742074012756348"
      ]
     },
     "execution_count": 41,
     "metadata": {},
     "output_type": "execute_result"
    }
   ],
   "source": [
    "WGSPIDF[\"WG SPI (2031-2060)\"].max()"
   ]
  },
  {
   "cell_type": "markdown",
   "id": "100f7997-9549-49d9-8d89-0eec65e67d21",
   "metadata": {},
   "source": [
    "## Box and Whisker Plots of Annual Totals"
   ]
  },
  {
   "cell_type": "markdown",
   "id": "9f89d3ce-386b-41df-9e90-b505467d3cee",
   "metadata": {},
   "source": [
    "Make Box and Whisker Plot of the annual total precipitation depth collections."
   ]
  },
  {
   "cell_type": "code",
   "execution_count": 42,
   "id": "79d3e513-10f0-484a-bdb4-0d7e243fb2f0",
   "metadata": {},
   "outputs": [],
   "source": [
    "modColsLister = deepcopy( ColsList )\n",
    "modColsLister.remove( \"EnsAve\" )"
   ]
  },
  {
   "cell_type": "code",
   "execution_count": 43,
   "id": "eb9cdf39-a054-49d9-82e5-643295b39377",
   "metadata": {},
   "outputs": [],
   "source": [
    "WGAnnValuesList = list()"
   ]
  },
  {
   "cell_type": "code",
   "execution_count": 44,
   "id": "f0e43c4b-e3de-463f-9273-7aa663e7dc96",
   "metadata": {},
   "outputs": [],
   "source": [
    "for tCol in modColsLister:\n",
    "    WGAnnValuesList.append( CNAnnPreDF[tCol].to_numpy(dtype=np.float32).flatten() )\n",
    "# end for"
   ]
  },
  {
   "cell_type": "code",
   "execution_count": 45,
   "id": "207574c7-13e4-4faf-9f40-cfdf86a99cd8",
   "metadata": {},
   "outputs": [
    {
     "data": {
      "text/plain": [
       "30000"
      ]
     },
     "execution_count": 45,
     "metadata": {},
     "output_type": "execute_result"
    }
   ],
   "source": [
    "npWGAnnVals = np.concatenate( WGAnnValuesList )\n",
    "NumWG = len( npWGAnnVals )\n",
    "NumWG"
   ]
  },
  {
   "cell_type": "code",
   "execution_count": 84,
   "id": "fc7e21b7-a3be-4879-aa56-590d8d3d513f",
   "metadata": {},
   "outputs": [
    {
     "data": {
      "text/plain": [
       "(648.04895, 666.32587, 162.25185)"
      ]
     },
     "execution_count": 84,
     "metadata": {},
     "output_type": "execute_result"
    }
   ],
   "source": [
    "np.median( npWGAnnVals ), npWGAnnVals.mean(), npWGAnnVals.std()"
   ]
  },
  {
   "cell_type": "code",
   "execution_count": 46,
   "id": "20cdcac6-3974-4c16-8db8-0e878261f017",
   "metadata": {},
   "outputs": [],
   "source": [
    "WGLabelsList = [ \"WG 2031-2060\" for x in range(NumWG) ]"
   ]
  },
  {
   "cell_type": "code",
   "execution_count": 53,
   "id": "ed00b18d-d865-4f71-a274-ee7adb647219",
   "metadata": {},
   "outputs": [],
   "source": [
    "InFiler = os.path.normpath( os.path.join( IN_DIR2, \"%s_MonTS_2031to2060.xlsx\" % BasKey ) )\n",
    "MonTSDF = pd.read_excel( InFiler, sheet_name=\"Pre_mm\", index_col=0, header=0 )"
   ]
  },
  {
   "cell_type": "code",
   "execution_count": 54,
   "id": "f240beff-6097-4a83-860a-cd1c4664694e",
   "metadata": {},
   "outputs": [
    {
     "data": {
      "text/html": [
       "<table border=\"1\" class=\"dataframe\">\n",
       "  <thead>\n",
       "    <tr style=\"text-align: right;\">\n",
       "      <th></th>\n",
       "      <th>Year</th>\n",
       "      <th>Month</th>\n",
       "      <th>Ensemble Average</th>\n",
       "      <th>M51L</th>\n",
       "      <th>M51H</th>\n",
       "      <th>M52L</th>\n",
       "      <th>M52H</th>\n",
       "      <th>M53L</th>\n",
       "      <th>M53H</th>\n",
       "      <th>M55L</th>\n",
       "      <th>M55H</th>\n",
       "      <th>M56L</th>\n",
       "      <th>M56H</th>\n",
       "      <th>M57L</th>\n",
       "      <th>M57H</th>\n",
       "      <th>M58L</th>\n",
       "      <th>M58H</th>\n",
       "      <th>M59L</th>\n",
       "      <th>M59H</th>\n",
       "      <th>M60L</th>\n",
       "      <th>M60H</th>\n",
       "      <th>M61L</th>\n",
       "      <th>M61H</th>\n",
       "      <th>M62L</th>\n",
       "      <th>M62H</th>\n",
       "      <th>M63L</th>\n",
       "      <th>M63H</th>\n",
       "      <th>M64L</th>\n",
       "      <th>M64H</th>\n",
       "      <th>M65L</th>\n",
       "      <th>M65H</th>\n",
       "      <th>M66L</th>\n",
       "      <th>M66H</th>\n",
       "      <th>M67L</th>\n",
       "      <th>M67H</th>\n",
       "      <th>M68L</th>\n",
       "      <th>M68H</th>\n",
       "      <th>M69L</th>\n",
       "      <th>M69H</th>\n",
       "      <th>M70L</th>\n",
       "      <th>M70H</th>\n",
       "      <th>M71L</th>\n",
       "      <th>M71H</th>\n",
       "      <th>M72L</th>\n",
       "      <th>M72H</th>\n",
       "      <th>M73L</th>\n",
       "      <th>M73H</th>\n",
       "      <th>M74L</th>\n",
       "      <th>M74H</th>\n",
       "      <th>Check_EnsAve</th>\n",
       "    </tr>\n",
       "    <tr>\n",
       "      <th>YrMo</th>\n",
       "      <th></th>\n",
       "      <th></th>\n",
       "      <th></th>\n",
       "      <th></th>\n",
       "      <th></th>\n",
       "      <th></th>\n",
       "      <th></th>\n",
       "      <th></th>\n",
       "      <th></th>\n",
       "      <th></th>\n",
       "      <th></th>\n",
       "      <th></th>\n",
       "      <th></th>\n",
       "      <th></th>\n",
       "      <th></th>\n",
       "      <th></th>\n",
       "      <th></th>\n",
       "      <th></th>\n",
       "      <th></th>\n",
       "      <th></th>\n",
       "      <th></th>\n",
       "      <th></th>\n",
       "      <th></th>\n",
       "      <th></th>\n",
       "      <th></th>\n",
       "      <th></th>\n",
       "      <th></th>\n",
       "      <th></th>\n",
       "      <th></th>\n",
       "      <th></th>\n",
       "      <th></th>\n",
       "      <th></th>\n",
       "      <th></th>\n",
       "      <th></th>\n",
       "      <th></th>\n",
       "      <th></th>\n",
       "      <th></th>\n",
       "      <th></th>\n",
       "      <th></th>\n",
       "      <th></th>\n",
       "      <th></th>\n",
       "      <th></th>\n",
       "      <th></th>\n",
       "      <th></th>\n",
       "      <th></th>\n",
       "      <th></th>\n",
       "      <th></th>\n",
       "      <th></th>\n",
       "      <th></th>\n",
       "      <th></th>\n",
       "    </tr>\n",
       "  </thead>\n",
       "  <tbody>\n",
       "    <tr>\n",
       "      <th>203101</th>\n",
       "      <td>2031</td>\n",
       "      <td>1</td>\n",
       "      <td>37.693588</td>\n",
       "      <td>59.280472</td>\n",
       "      <td>3.530814</td>\n",
       "      <td>40.882420</td>\n",
       "      <td>47.580715</td>\n",
       "      <td>12.748872</td>\n",
       "      <td>42.896690</td>\n",
       "      <td>7.677851</td>\n",
       "      <td>5.461242</td>\n",
       "      <td>9.733829</td>\n",
       "      <td>43.249687</td>\n",
       "      <td>21.896545</td>\n",
       "      <td>27.805195</td>\n",
       "      <td>82.754128</td>\n",
       "      <td>44.944801</td>\n",
       "      <td>35.707054</td>\n",
       "      <td>51.523243</td>\n",
       "      <td>26.256056</td>\n",
       "      <td>86.537186</td>\n",
       "      <td>21.117350</td>\n",
       "      <td>44.535595</td>\n",
       "      <td>43.773438</td>\n",
       "      <td>17.520954</td>\n",
       "      <td>27.578524</td>\n",
       "      <td>16.992052</td>\n",
       "      <td>0.014543</td>\n",
       "      <td>35.158001</td>\n",
       "      <td>24.628302</td>\n",
       "      <td>11.168406</td>\n",
       "      <td>64.930260</td>\n",
       "      <td>40.498280</td>\n",
       "      <td>60.931393</td>\n",
       "      <td>120.497566</td>\n",
       "      <td>6.946795</td>\n",
       "      <td>36.446701</td>\n",
       "      <td>59.699795</td>\n",
       "      <td>110.430275</td>\n",
       "      <td>7.906696</td>\n",
       "      <td>5.228949</td>\n",
       "      <td>59.173828</td>\n",
       "      <td>11.309069</td>\n",
       "      <td>89.194267</td>\n",
       "      <td>108.852547</td>\n",
       "      <td>25.178795</td>\n",
       "      <td>5.398922</td>\n",
       "      <td>20.466200</td>\n",
       "      <td>7.860787</td>\n",
       "      <td>37.693592</td>\n",
       "    </tr>\n",
       "    <tr>\n",
       "      <th>203102</th>\n",
       "      <td>2031</td>\n",
       "      <td>2</td>\n",
       "      <td>33.862106</td>\n",
       "      <td>60.557083</td>\n",
       "      <td>30.806435</td>\n",
       "      <td>23.485771</td>\n",
       "      <td>13.204066</td>\n",
       "      <td>67.389008</td>\n",
       "      <td>15.796836</td>\n",
       "      <td>84.577408</td>\n",
       "      <td>48.967823</td>\n",
       "      <td>35.202511</td>\n",
       "      <td>28.974819</td>\n",
       "      <td>8.238890</td>\n",
       "      <td>29.950495</td>\n",
       "      <td>65.656586</td>\n",
       "      <td>10.119483</td>\n",
       "      <td>63.530937</td>\n",
       "      <td>13.386261</td>\n",
       "      <td>34.663185</td>\n",
       "      <td>70.044029</td>\n",
       "      <td>75.600906</td>\n",
       "      <td>10.993681</td>\n",
       "      <td>30.291611</td>\n",
       "      <td>76.414085</td>\n",
       "      <td>17.030512</td>\n",
       "      <td>11.033878</td>\n",
       "      <td>25.392822</td>\n",
       "      <td>10.075806</td>\n",
       "      <td>39.611183</td>\n",
       "      <td>40.453068</td>\n",
       "      <td>58.173447</td>\n",
       "      <td>16.598721</td>\n",
       "      <td>44.603733</td>\n",
       "      <td>31.202724</td>\n",
       "      <td>25.903753</td>\n",
       "      <td>0.858096</td>\n",
       "      <td>86.384888</td>\n",
       "      <td>11.136685</td>\n",
       "      <td>10.639368</td>\n",
       "      <td>0.035796</td>\n",
       "      <td>12.287714</td>\n",
       "      <td>26.004839</td>\n",
       "      <td>18.916798</td>\n",
       "      <td>41.620079</td>\n",
       "      <td>2.006414</td>\n",
       "      <td>48.927765</td>\n",
       "      <td>28.514107</td>\n",
       "      <td>52.392826</td>\n",
       "      <td>33.862118</td>\n",
       "    </tr>\n",
       "    <tr>\n",
       "      <th>203103</th>\n",
       "      <td>2031</td>\n",
       "      <td>3</td>\n",
       "      <td>46.142586</td>\n",
       "      <td>5.583013</td>\n",
       "      <td>63.676674</td>\n",
       "      <td>82.967010</td>\n",
       "      <td>60.574360</td>\n",
       "      <td>56.857857</td>\n",
       "      <td>47.483845</td>\n",
       "      <td>45.649071</td>\n",
       "      <td>25.750702</td>\n",
       "      <td>83.947754</td>\n",
       "      <td>31.708630</td>\n",
       "      <td>66.755577</td>\n",
       "      <td>1.986500</td>\n",
       "      <td>17.526716</td>\n",
       "      <td>8.660831</td>\n",
       "      <td>49.213310</td>\n",
       "      <td>12.493741</td>\n",
       "      <td>93.733177</td>\n",
       "      <td>0.486181</td>\n",
       "      <td>55.804581</td>\n",
       "      <td>19.819508</td>\n",
       "      <td>40.497883</td>\n",
       "      <td>14.108965</td>\n",
       "      <td>12.738517</td>\n",
       "      <td>12.251415</td>\n",
       "      <td>52.663109</td>\n",
       "      <td>32.409870</td>\n",
       "      <td>73.429863</td>\n",
       "      <td>29.208820</td>\n",
       "      <td>133.479782</td>\n",
       "      <td>16.641445</td>\n",
       "      <td>116.866943</td>\n",
       "      <td>66.470474</td>\n",
       "      <td>3.924988</td>\n",
       "      <td>48.493652</td>\n",
       "      <td>74.527634</td>\n",
       "      <td>7.672070</td>\n",
       "      <td>66.405754</td>\n",
       "      <td>38.098206</td>\n",
       "      <td>81.364120</td>\n",
       "      <td>93.498390</td>\n",
       "      <td>43.357174</td>\n",
       "      <td>81.491570</td>\n",
       "      <td>25.825598</td>\n",
       "      <td>60.233742</td>\n",
       "      <td>20.973896</td>\n",
       "      <td>45.246014</td>\n",
       "      <td>46.142582</td>\n",
       "    </tr>\n",
       "    <tr>\n",
       "      <th>203104</th>\n",
       "      <td>2031</td>\n",
       "      <td>4</td>\n",
       "      <td>52.440746</td>\n",
       "      <td>134.729355</td>\n",
       "      <td>84.120148</td>\n",
       "      <td>32.329170</td>\n",
       "      <td>42.815735</td>\n",
       "      <td>27.726999</td>\n",
       "      <td>64.827202</td>\n",
       "      <td>54.468445</td>\n",
       "      <td>24.994833</td>\n",
       "      <td>47.732471</td>\n",
       "      <td>89.700829</td>\n",
       "      <td>41.650475</td>\n",
       "      <td>53.427357</td>\n",
       "      <td>72.610527</td>\n",
       "      <td>36.710838</td>\n",
       "      <td>9.968402</td>\n",
       "      <td>113.512871</td>\n",
       "      <td>15.341690</td>\n",
       "      <td>67.511192</td>\n",
       "      <td>56.001431</td>\n",
       "      <td>34.904804</td>\n",
       "      <td>58.234135</td>\n",
       "      <td>45.790726</td>\n",
       "      <td>50.108837</td>\n",
       "      <td>33.986710</td>\n",
       "      <td>30.513872</td>\n",
       "      <td>47.427574</td>\n",
       "      <td>12.331471</td>\n",
       "      <td>40.278912</td>\n",
       "      <td>79.587379</td>\n",
       "      <td>70.250702</td>\n",
       "      <td>93.964447</td>\n",
       "      <td>69.428284</td>\n",
       "      <td>11.079035</td>\n",
       "      <td>24.194212</td>\n",
       "      <td>50.962364</td>\n",
       "      <td>67.369911</td>\n",
       "      <td>135.621567</td>\n",
       "      <td>21.885998</td>\n",
       "      <td>27.987087</td>\n",
       "      <td>19.113956</td>\n",
       "      <td>147.826630</td>\n",
       "      <td>71.911423</td>\n",
       "      <td>47.790253</td>\n",
       "      <td>21.789074</td>\n",
       "      <td>16.678022</td>\n",
       "      <td>11.077048</td>\n",
       "      <td>52.440754</td>\n",
       "    </tr>\n",
       "    <tr>\n",
       "      <th>203105</th>\n",
       "      <td>2031</td>\n",
       "      <td>5</td>\n",
       "      <td>99.770172</td>\n",
       "      <td>52.044086</td>\n",
       "      <td>58.442345</td>\n",
       "      <td>119.851250</td>\n",
       "      <td>18.746143</td>\n",
       "      <td>48.593651</td>\n",
       "      <td>97.397133</td>\n",
       "      <td>208.025940</td>\n",
       "      <td>41.206860</td>\n",
       "      <td>90.080002</td>\n",
       "      <td>273.474091</td>\n",
       "      <td>91.186699</td>\n",
       "      <td>47.710678</td>\n",
       "      <td>39.111702</td>\n",
       "      <td>257.428925</td>\n",
       "      <td>104.304962</td>\n",
       "      <td>147.893356</td>\n",
       "      <td>73.338753</td>\n",
       "      <td>259.233643</td>\n",
       "      <td>94.798019</td>\n",
       "      <td>15.282781</td>\n",
       "      <td>86.748634</td>\n",
       "      <td>90.234039</td>\n",
       "      <td>53.024467</td>\n",
       "      <td>51.305798</td>\n",
       "      <td>67.977539</td>\n",
       "      <td>136.334320</td>\n",
       "      <td>18.275934</td>\n",
       "      <td>149.065445</td>\n",
       "      <td>96.586403</td>\n",
       "      <td>67.766197</td>\n",
       "      <td>135.098282</td>\n",
       "      <td>179.837326</td>\n",
       "      <td>116.466980</td>\n",
       "      <td>50.536972</td>\n",
       "      <td>75.275696</td>\n",
       "      <td>93.473343</td>\n",
       "      <td>116.776779</td>\n",
       "      <td>126.313553</td>\n",
       "      <td>203.202133</td>\n",
       "      <td>21.956713</td>\n",
       "      <td>179.339249</td>\n",
       "      <td>28.458366</td>\n",
       "      <td>84.520508</td>\n",
       "      <td>111.157661</td>\n",
       "      <td>54.274483</td>\n",
       "      <td>57.269875</td>\n",
       "      <td>99.770164</td>\n",
       "    </tr>\n",
       "  </tbody>\n",
       "</table>"
      ],
      "text/plain": [
       "<IPython.core.display.HTML object>"
      ]
     },
     "metadata": {},
     "output_type": "display_data"
    }
   ],
   "source": [
    "display( HTML( MonTSDF.head().to_html() ) )"
   ]
  },
  {
   "cell_type": "code",
   "execution_count": 55,
   "id": "8785118a-a7a8-4484-86db-bd1561b18f1a",
   "metadata": {},
   "outputs": [],
   "source": [
    "dropCols = [\"Month\", \"Ensemble Average\", \"Check_EnsAve\" ]"
   ]
  },
  {
   "cell_type": "code",
   "execution_count": 56,
   "id": "0464eceb-4f41-4ab2-814c-6fcd7a6b894d",
   "metadata": {},
   "outputs": [],
   "source": [
    "MonTSDF.drop(columns=dropCols, inplace=True )"
   ]
  },
  {
   "cell_type": "code",
   "execution_count": 57,
   "id": "37946b94-c1ee-4c00-8678-ac9828143bf4",
   "metadata": {},
   "outputs": [],
   "source": [
    "L2Cols = list( MonTSDF.columns )\n",
    "L2Cols.remove(\"Year\")"
   ]
  },
  {
   "cell_type": "code",
   "execution_count": 58,
   "id": "38564451-f694-48ff-8aad-9c8f5486bd48",
   "metadata": {},
   "outputs": [],
   "source": [
    "L2AnnDF = MonTSDF.groupby(by=\"Year\").sum()"
   ]
  },
  {
   "cell_type": "code",
   "execution_count": 59,
   "id": "aecb1291-8004-4ea3-8f37-43e1455fca57",
   "metadata": {},
   "outputs": [
    {
     "data": {
      "text/html": [
       "<table border=\"1\" class=\"dataframe\">\n",
       "  <thead>\n",
       "    <tr style=\"text-align: right;\">\n",
       "      <th></th>\n",
       "      <th>M51L</th>\n",
       "      <th>M51H</th>\n",
       "      <th>M52L</th>\n",
       "      <th>M52H</th>\n",
       "      <th>M53L</th>\n",
       "      <th>M53H</th>\n",
       "      <th>M55L</th>\n",
       "      <th>M55H</th>\n",
       "      <th>M56L</th>\n",
       "      <th>M56H</th>\n",
       "      <th>M57L</th>\n",
       "      <th>M57H</th>\n",
       "      <th>M58L</th>\n",
       "      <th>M58H</th>\n",
       "      <th>M59L</th>\n",
       "      <th>M59H</th>\n",
       "      <th>M60L</th>\n",
       "      <th>M60H</th>\n",
       "      <th>M61L</th>\n",
       "      <th>M61H</th>\n",
       "      <th>M62L</th>\n",
       "      <th>M62H</th>\n",
       "      <th>M63L</th>\n",
       "      <th>M63H</th>\n",
       "      <th>M64L</th>\n",
       "      <th>M64H</th>\n",
       "      <th>M65L</th>\n",
       "      <th>M65H</th>\n",
       "      <th>M66L</th>\n",
       "      <th>M66H</th>\n",
       "      <th>M67L</th>\n",
       "      <th>M67H</th>\n",
       "      <th>M68L</th>\n",
       "      <th>M68H</th>\n",
       "      <th>M69L</th>\n",
       "      <th>M69H</th>\n",
       "      <th>M70L</th>\n",
       "      <th>M70H</th>\n",
       "      <th>M71L</th>\n",
       "      <th>M71H</th>\n",
       "      <th>M72L</th>\n",
       "      <th>M72H</th>\n",
       "      <th>M73L</th>\n",
       "      <th>M73H</th>\n",
       "      <th>M74L</th>\n",
       "      <th>M74H</th>\n",
       "    </tr>\n",
       "    <tr>\n",
       "      <th>Year</th>\n",
       "      <th></th>\n",
       "      <th></th>\n",
       "      <th></th>\n",
       "      <th></th>\n",
       "      <th></th>\n",
       "      <th></th>\n",
       "      <th></th>\n",
       "      <th></th>\n",
       "      <th></th>\n",
       "      <th></th>\n",
       "      <th></th>\n",
       "      <th></th>\n",
       "      <th></th>\n",
       "      <th></th>\n",
       "      <th></th>\n",
       "      <th></th>\n",
       "      <th></th>\n",
       "      <th></th>\n",
       "      <th></th>\n",
       "      <th></th>\n",
       "      <th></th>\n",
       "      <th></th>\n",
       "      <th></th>\n",
       "      <th></th>\n",
       "      <th></th>\n",
       "      <th></th>\n",
       "      <th></th>\n",
       "      <th></th>\n",
       "      <th></th>\n",
       "      <th></th>\n",
       "      <th></th>\n",
       "      <th></th>\n",
       "      <th></th>\n",
       "      <th></th>\n",
       "      <th></th>\n",
       "      <th></th>\n",
       "      <th></th>\n",
       "      <th></th>\n",
       "      <th></th>\n",
       "      <th></th>\n",
       "      <th></th>\n",
       "      <th></th>\n",
       "      <th></th>\n",
       "      <th></th>\n",
       "      <th></th>\n",
       "      <th></th>\n",
       "    </tr>\n",
       "  </thead>\n",
       "  <tbody>\n",
       "    <tr>\n",
       "      <th>2031</th>\n",
       "      <td>966.822738</td>\n",
       "      <td>695.490200</td>\n",
       "      <td>664.218067</td>\n",
       "      <td>627.147349</td>\n",
       "      <td>809.669914</td>\n",
       "      <td>733.483377</td>\n",
       "      <td>753.226624</td>\n",
       "      <td>568.034842</td>\n",
       "      <td>615.765281</td>\n",
       "      <td>747.366667</td>\n",
       "      <td>726.662508</td>\n",
       "      <td>681.613434</td>\n",
       "      <td>691.039336</td>\n",
       "      <td>400.115065</td>\n",
       "      <td>648.194785</td>\n",
       "      <td>834.549649</td>\n",
       "      <td>461.775548</td>\n",
       "      <td>651.945970</td>\n",
       "      <td>490.440397</td>\n",
       "      <td>307.433055</td>\n",
       "      <td>627.065251</td>\n",
       "      <td>523.962797</td>\n",
       "      <td>451.068578</td>\n",
       "      <td>534.371870</td>\n",
       "      <td>438.516739</td>\n",
       "      <td>952.907391</td>\n",
       "      <td>478.110119</td>\n",
       "      <td>1003.765821</td>\n",
       "      <td>940.303181</td>\n",
       "      <td>659.825712</td>\n",
       "      <td>637.999936</td>\n",
       "      <td>1021.956997</td>\n",
       "      <td>636.784187</td>\n",
       "      <td>594.944646</td>\n",
       "      <td>640.088254</td>\n",
       "      <td>640.667866</td>\n",
       "      <td>717.987625</td>\n",
       "      <td>633.108278</td>\n",
       "      <td>788.616920</td>\n",
       "      <td>397.879201</td>\n",
       "      <td>749.320445</td>\n",
       "      <td>786.340730</td>\n",
       "      <td>659.122705</td>\n",
       "      <td>667.634523</td>\n",
       "      <td>473.857739</td>\n",
       "      <td>322.609550</td>\n",
       "    </tr>\n",
       "    <tr>\n",
       "      <th>2032</th>\n",
       "      <td>825.403923</td>\n",
       "      <td>964.665822</td>\n",
       "      <td>1034.922178</td>\n",
       "      <td>636.034553</td>\n",
       "      <td>485.838577</td>\n",
       "      <td>695.631645</td>\n",
       "      <td>684.562399</td>\n",
       "      <td>621.192583</td>\n",
       "      <td>768.216948</td>\n",
       "      <td>558.824590</td>\n",
       "      <td>841.760793</td>\n",
       "      <td>907.109788</td>\n",
       "      <td>906.093717</td>\n",
       "      <td>475.542513</td>\n",
       "      <td>662.168206</td>\n",
       "      <td>1098.235229</td>\n",
       "      <td>774.058042</td>\n",
       "      <td>1096.708328</td>\n",
       "      <td>976.900738</td>\n",
       "      <td>460.870820</td>\n",
       "      <td>797.190505</td>\n",
       "      <td>706.389646</td>\n",
       "      <td>1045.769373</td>\n",
       "      <td>535.710958</td>\n",
       "      <td>757.256421</td>\n",
       "      <td>559.359432</td>\n",
       "      <td>1164.028493</td>\n",
       "      <td>472.564294</td>\n",
       "      <td>495.570206</td>\n",
       "      <td>702.856583</td>\n",
       "      <td>642.214753</td>\n",
       "      <td>909.702049</td>\n",
       "      <td>577.865210</td>\n",
       "      <td>321.709444</td>\n",
       "      <td>615.955504</td>\n",
       "      <td>825.556256</td>\n",
       "      <td>825.306821</td>\n",
       "      <td>485.704383</td>\n",
       "      <td>643.770790</td>\n",
       "      <td>447.250798</td>\n",
       "      <td>926.569973</td>\n",
       "      <td>482.725938</td>\n",
       "      <td>631.486546</td>\n",
       "      <td>892.788143</td>\n",
       "      <td>669.446310</td>\n",
       "      <td>520.668032</td>\n",
       "    </tr>\n",
       "    <tr>\n",
       "      <th>2033</th>\n",
       "      <td>704.783799</td>\n",
       "      <td>686.977839</td>\n",
       "      <td>579.013428</td>\n",
       "      <td>422.933518</td>\n",
       "      <td>404.207435</td>\n",
       "      <td>653.749116</td>\n",
       "      <td>541.507132</td>\n",
       "      <td>444.883872</td>\n",
       "      <td>862.653869</td>\n",
       "      <td>1263.485268</td>\n",
       "      <td>488.976287</td>\n",
       "      <td>367.513487</td>\n",
       "      <td>473.608605</td>\n",
       "      <td>942.898515</td>\n",
       "      <td>477.857392</td>\n",
       "      <td>552.434691</td>\n",
       "      <td>572.904463</td>\n",
       "      <td>955.294872</td>\n",
       "      <td>480.111502</td>\n",
       "      <td>630.583807</td>\n",
       "      <td>606.911379</td>\n",
       "      <td>565.612933</td>\n",
       "      <td>392.786836</td>\n",
       "      <td>578.911701</td>\n",
       "      <td>790.909386</td>\n",
       "      <td>766.649491</td>\n",
       "      <td>820.042903</td>\n",
       "      <td>654.300645</td>\n",
       "      <td>396.919674</td>\n",
       "      <td>632.823883</td>\n",
       "      <td>418.849165</td>\n",
       "      <td>904.634071</td>\n",
       "      <td>566.636515</td>\n",
       "      <td>904.379683</td>\n",
       "      <td>611.715493</td>\n",
       "      <td>954.736804</td>\n",
       "      <td>798.437315</td>\n",
       "      <td>418.318114</td>\n",
       "      <td>552.283674</td>\n",
       "      <td>523.674114</td>\n",
       "      <td>809.466524</td>\n",
       "      <td>402.565579</td>\n",
       "      <td>623.271611</td>\n",
       "      <td>660.304128</td>\n",
       "      <td>782.731066</td>\n",
       "      <td>695.503780</td>\n",
       "    </tr>\n",
       "    <tr>\n",
       "      <th>2034</th>\n",
       "      <td>855.947052</td>\n",
       "      <td>980.329502</td>\n",
       "      <td>1029.065075</td>\n",
       "      <td>588.941355</td>\n",
       "      <td>649.742228</td>\n",
       "      <td>412.407610</td>\n",
       "      <td>678.149258</td>\n",
       "      <td>629.180799</td>\n",
       "      <td>1410.117237</td>\n",
       "      <td>526.671520</td>\n",
       "      <td>984.702724</td>\n",
       "      <td>1045.730391</td>\n",
       "      <td>432.322519</td>\n",
       "      <td>474.097514</td>\n",
       "      <td>544.710618</td>\n",
       "      <td>1199.492654</td>\n",
       "      <td>433.361799</td>\n",
       "      <td>567.816376</td>\n",
       "      <td>471.493935</td>\n",
       "      <td>815.702691</td>\n",
       "      <td>687.255127</td>\n",
       "      <td>617.671395</td>\n",
       "      <td>446.506692</td>\n",
       "      <td>408.305159</td>\n",
       "      <td>746.951290</td>\n",
       "      <td>472.008656</td>\n",
       "      <td>779.915846</td>\n",
       "      <td>860.106649</td>\n",
       "      <td>837.382946</td>\n",
       "      <td>798.629516</td>\n",
       "      <td>786.886659</td>\n",
       "      <td>453.647811</td>\n",
       "      <td>806.107100</td>\n",
       "      <td>852.947098</td>\n",
       "      <td>519.773694</td>\n",
       "      <td>615.711903</td>\n",
       "      <td>617.861029</td>\n",
       "      <td>683.425690</td>\n",
       "      <td>725.722105</td>\n",
       "      <td>861.588676</td>\n",
       "      <td>346.475009</td>\n",
       "      <td>419.718117</td>\n",
       "      <td>650.142756</td>\n",
       "      <td>613.513706</td>\n",
       "      <td>645.365649</td>\n",
       "      <td>738.423222</td>\n",
       "    </tr>\n",
       "    <tr>\n",
       "      <th>2035</th>\n",
       "      <td>812.538284</td>\n",
       "      <td>540.926687</td>\n",
       "      <td>781.993549</td>\n",
       "      <td>965.475500</td>\n",
       "      <td>1252.421633</td>\n",
       "      <td>1197.071953</td>\n",
       "      <td>1128.385223</td>\n",
       "      <td>409.841455</td>\n",
       "      <td>415.150858</td>\n",
       "      <td>686.075419</td>\n",
       "      <td>957.251083</td>\n",
       "      <td>673.483433</td>\n",
       "      <td>656.817694</td>\n",
       "      <td>488.188002</td>\n",
       "      <td>951.082565</td>\n",
       "      <td>658.112866</td>\n",
       "      <td>577.041739</td>\n",
       "      <td>333.735104</td>\n",
       "      <td>1149.358185</td>\n",
       "      <td>553.894991</td>\n",
       "      <td>579.678890</td>\n",
       "      <td>653.099128</td>\n",
       "      <td>989.744450</td>\n",
       "      <td>614.391237</td>\n",
       "      <td>423.475558</td>\n",
       "      <td>904.207129</td>\n",
       "      <td>801.385812</td>\n",
       "      <td>505.084607</td>\n",
       "      <td>633.434379</td>\n",
       "      <td>765.323179</td>\n",
       "      <td>841.275737</td>\n",
       "      <td>727.864441</td>\n",
       "      <td>746.964868</td>\n",
       "      <td>1119.834846</td>\n",
       "      <td>557.198319</td>\n",
       "      <td>609.610975</td>\n",
       "      <td>655.096140</td>\n",
       "      <td>781.896369</td>\n",
       "      <td>804.419565</td>\n",
       "      <td>439.197021</td>\n",
       "      <td>1115.648866</td>\n",
       "      <td>465.427594</td>\n",
       "      <td>959.446133</td>\n",
       "      <td>788.456293</td>\n",
       "      <td>381.221787</td>\n",
       "      <td>828.998785</td>\n",
       "    </tr>\n",
       "  </tbody>\n",
       "</table>"
      ],
      "text/plain": [
       "<IPython.core.display.HTML object>"
      ]
     },
     "metadata": {},
     "output_type": "display_data"
    }
   ],
   "source": [
    "display( HTML( L2AnnDF.head().to_html() ) )"
   ]
  },
  {
   "cell_type": "code",
   "execution_count": 60,
   "id": "6fe81be2-956e-4042-858c-5b20cc08e3e1",
   "metadata": {},
   "outputs": [
    {
     "data": {
      "text/html": [
       "<table border=\"1\" class=\"dataframe\">\n",
       "  <thead>\n",
       "    <tr style=\"text-align: right;\">\n",
       "      <th></th>\n",
       "      <th>M51L</th>\n",
       "      <th>M51H</th>\n",
       "      <th>M52L</th>\n",
       "      <th>M52H</th>\n",
       "      <th>M53L</th>\n",
       "      <th>M53H</th>\n",
       "      <th>M55L</th>\n",
       "      <th>M55H</th>\n",
       "      <th>M56L</th>\n",
       "      <th>M56H</th>\n",
       "      <th>M57L</th>\n",
       "      <th>M57H</th>\n",
       "      <th>M58L</th>\n",
       "      <th>M58H</th>\n",
       "      <th>M59L</th>\n",
       "      <th>M59H</th>\n",
       "      <th>M60L</th>\n",
       "      <th>M60H</th>\n",
       "      <th>M61L</th>\n",
       "      <th>M61H</th>\n",
       "      <th>M62L</th>\n",
       "      <th>M62H</th>\n",
       "      <th>M63L</th>\n",
       "      <th>M63H</th>\n",
       "      <th>M64L</th>\n",
       "      <th>M64H</th>\n",
       "      <th>M65L</th>\n",
       "      <th>M65H</th>\n",
       "      <th>M66L</th>\n",
       "      <th>M66H</th>\n",
       "      <th>M67L</th>\n",
       "      <th>M67H</th>\n",
       "      <th>M68L</th>\n",
       "      <th>M68H</th>\n",
       "      <th>M69L</th>\n",
       "      <th>M69H</th>\n",
       "      <th>M70L</th>\n",
       "      <th>M70H</th>\n",
       "      <th>M71L</th>\n",
       "      <th>M71H</th>\n",
       "      <th>M72L</th>\n",
       "      <th>M72H</th>\n",
       "      <th>M73L</th>\n",
       "      <th>M73H</th>\n",
       "      <th>M74L</th>\n",
       "      <th>M74H</th>\n",
       "    </tr>\n",
       "    <tr>\n",
       "      <th>Year</th>\n",
       "      <th></th>\n",
       "      <th></th>\n",
       "      <th></th>\n",
       "      <th></th>\n",
       "      <th></th>\n",
       "      <th></th>\n",
       "      <th></th>\n",
       "      <th></th>\n",
       "      <th></th>\n",
       "      <th></th>\n",
       "      <th></th>\n",
       "      <th></th>\n",
       "      <th></th>\n",
       "      <th></th>\n",
       "      <th></th>\n",
       "      <th></th>\n",
       "      <th></th>\n",
       "      <th></th>\n",
       "      <th></th>\n",
       "      <th></th>\n",
       "      <th></th>\n",
       "      <th></th>\n",
       "      <th></th>\n",
       "      <th></th>\n",
       "      <th></th>\n",
       "      <th></th>\n",
       "      <th></th>\n",
       "      <th></th>\n",
       "      <th></th>\n",
       "      <th></th>\n",
       "      <th></th>\n",
       "      <th></th>\n",
       "      <th></th>\n",
       "      <th></th>\n",
       "      <th></th>\n",
       "      <th></th>\n",
       "      <th></th>\n",
       "      <th></th>\n",
       "      <th></th>\n",
       "      <th></th>\n",
       "      <th></th>\n",
       "      <th></th>\n",
       "      <th></th>\n",
       "      <th></th>\n",
       "      <th></th>\n",
       "      <th></th>\n",
       "    </tr>\n",
       "  </thead>\n",
       "  <tbody>\n",
       "    <tr>\n",
       "      <th>2056</th>\n",
       "      <td>816.276442</td>\n",
       "      <td>527.815373</td>\n",
       "      <td>985.158319</td>\n",
       "      <td>759.430017</td>\n",
       "      <td>1068.799450</td>\n",
       "      <td>863.340013</td>\n",
       "      <td>791.455161</td>\n",
       "      <td>678.712884</td>\n",
       "      <td>1072.699419</td>\n",
       "      <td>523.176710</td>\n",
       "      <td>867.770105</td>\n",
       "      <td>848.070941</td>\n",
       "      <td>430.556697</td>\n",
       "      <td>370.513134</td>\n",
       "      <td>595.221025</td>\n",
       "      <td>624.701287</td>\n",
       "      <td>643.276213</td>\n",
       "      <td>588.254865</td>\n",
       "      <td>612.858804</td>\n",
       "      <td>365.354665</td>\n",
       "      <td>644.523043</td>\n",
       "      <td>455.332304</td>\n",
       "      <td>524.541539</td>\n",
       "      <td>852.935827</td>\n",
       "      <td>953.120800</td>\n",
       "      <td>502.846629</td>\n",
       "      <td>669.994466</td>\n",
       "      <td>712.598252</td>\n",
       "      <td>677.534215</td>\n",
       "      <td>557.731305</td>\n",
       "      <td>779.656498</td>\n",
       "      <td>439.348179</td>\n",
       "      <td>633.141324</td>\n",
       "      <td>551.461914</td>\n",
       "      <td>783.879360</td>\n",
       "      <td>615.704290</td>\n",
       "      <td>646.722159</td>\n",
       "      <td>613.962281</td>\n",
       "      <td>392.594874</td>\n",
       "      <td>830.856870</td>\n",
       "      <td>625.655691</td>\n",
       "      <td>794.474575</td>\n",
       "      <td>933.585370</td>\n",
       "      <td>645.395755</td>\n",
       "      <td>1212.077758</td>\n",
       "      <td>758.287755</td>\n",
       "    </tr>\n",
       "    <tr>\n",
       "      <th>2057</th>\n",
       "      <td>527.918587</td>\n",
       "      <td>697.805368</td>\n",
       "      <td>703.332755</td>\n",
       "      <td>866.386353</td>\n",
       "      <td>842.924692</td>\n",
       "      <td>829.265150</td>\n",
       "      <td>667.083298</td>\n",
       "      <td>876.247915</td>\n",
       "      <td>1169.901202</td>\n",
       "      <td>1047.717503</td>\n",
       "      <td>585.765565</td>\n",
       "      <td>707.259844</td>\n",
       "      <td>756.921333</td>\n",
       "      <td>744.690591</td>\n",
       "      <td>567.090964</td>\n",
       "      <td>879.981251</td>\n",
       "      <td>518.493140</td>\n",
       "      <td>512.068605</td>\n",
       "      <td>558.855554</td>\n",
       "      <td>724.167237</td>\n",
       "      <td>664.407156</td>\n",
       "      <td>633.061457</td>\n",
       "      <td>478.802232</td>\n",
       "      <td>400.106737</td>\n",
       "      <td>634.647047</td>\n",
       "      <td>509.543927</td>\n",
       "      <td>577.157955</td>\n",
       "      <td>415.441121</td>\n",
       "      <td>521.466425</td>\n",
       "      <td>426.986645</td>\n",
       "      <td>549.899713</td>\n",
       "      <td>669.791039</td>\n",
       "      <td>749.707023</td>\n",
       "      <td>654.821556</td>\n",
       "      <td>442.459574</td>\n",
       "      <td>871.357883</td>\n",
       "      <td>732.573886</td>\n",
       "      <td>627.836769</td>\n",
       "      <td>752.095396</td>\n",
       "      <td>497.447749</td>\n",
       "      <td>542.214292</td>\n",
       "      <td>657.277705</td>\n",
       "      <td>736.010816</td>\n",
       "      <td>407.221800</td>\n",
       "      <td>667.714443</td>\n",
       "      <td>357.774637</td>\n",
       "    </tr>\n",
       "    <tr>\n",
       "      <th>2058</th>\n",
       "      <td>536.861864</td>\n",
       "      <td>458.644637</td>\n",
       "      <td>899.408658</td>\n",
       "      <td>519.500086</td>\n",
       "      <td>707.393654</td>\n",
       "      <td>579.668599</td>\n",
       "      <td>1020.375097</td>\n",
       "      <td>445.027786</td>\n",
       "      <td>922.691505</td>\n",
       "      <td>1186.616656</td>\n",
       "      <td>425.604057</td>\n",
       "      <td>562.354768</td>\n",
       "      <td>824.328860</td>\n",
       "      <td>697.598367</td>\n",
       "      <td>559.585093</td>\n",
       "      <td>463.106913</td>\n",
       "      <td>794.380060</td>\n",
       "      <td>876.666751</td>\n",
       "      <td>395.477516</td>\n",
       "      <td>761.944887</td>\n",
       "      <td>637.131394</td>\n",
       "      <td>892.532899</td>\n",
       "      <td>812.564350</td>\n",
       "      <td>668.070468</td>\n",
       "      <td>747.513877</td>\n",
       "      <td>667.151233</td>\n",
       "      <td>774.075131</td>\n",
       "      <td>658.088278</td>\n",
       "      <td>946.457016</td>\n",
       "      <td>701.681349</td>\n",
       "      <td>476.033132</td>\n",
       "      <td>769.634980</td>\n",
       "      <td>1012.582241</td>\n",
       "      <td>786.418190</td>\n",
       "      <td>831.839375</td>\n",
       "      <td>782.129049</td>\n",
       "      <td>485.498778</td>\n",
       "      <td>581.035989</td>\n",
       "      <td>607.741321</td>\n",
       "      <td>511.825314</td>\n",
       "      <td>506.033567</td>\n",
       "      <td>894.600139</td>\n",
       "      <td>1087.623021</td>\n",
       "      <td>656.276987</td>\n",
       "      <td>631.673450</td>\n",
       "      <td>700.162421</td>\n",
       "    </tr>\n",
       "    <tr>\n",
       "      <th>2059</th>\n",
       "      <td>340.770517</td>\n",
       "      <td>419.532904</td>\n",
       "      <td>761.988389</td>\n",
       "      <td>863.272365</td>\n",
       "      <td>1041.555220</td>\n",
       "      <td>640.504381</td>\n",
       "      <td>419.196474</td>\n",
       "      <td>390.077946</td>\n",
       "      <td>633.890991</td>\n",
       "      <td>827.790082</td>\n",
       "      <td>1121.927675</td>\n",
       "      <td>1047.832325</td>\n",
       "      <td>977.098816</td>\n",
       "      <td>741.430927</td>\n",
       "      <td>351.246233</td>\n",
       "      <td>576.713336</td>\n",
       "      <td>813.907866</td>\n",
       "      <td>447.381495</td>\n",
       "      <td>693.129402</td>\n",
       "      <td>623.111347</td>\n",
       "      <td>464.919031</td>\n",
       "      <td>544.430942</td>\n",
       "      <td>992.084174</td>\n",
       "      <td>773.954122</td>\n",
       "      <td>484.912640</td>\n",
       "      <td>769.296762</td>\n",
       "      <td>712.957280</td>\n",
       "      <td>632.930960</td>\n",
       "      <td>282.899912</td>\n",
       "      <td>1310.006195</td>\n",
       "      <td>432.053082</td>\n",
       "      <td>642.344771</td>\n",
       "      <td>453.837848</td>\n",
       "      <td>1102.884735</td>\n",
       "      <td>1073.822961</td>\n",
       "      <td>753.491568</td>\n",
       "      <td>836.799159</td>\n",
       "      <td>449.207298</td>\n",
       "      <td>911.865078</td>\n",
       "      <td>512.245657</td>\n",
       "      <td>508.371101</td>\n",
       "      <td>713.467065</td>\n",
       "      <td>553.889746</td>\n",
       "      <td>598.269926</td>\n",
       "      <td>712.828804</td>\n",
       "      <td>1045.956862</td>\n",
       "    </tr>\n",
       "    <tr>\n",
       "      <th>2060</th>\n",
       "      <td>695.513072</td>\n",
       "      <td>866.285117</td>\n",
       "      <td>810.838591</td>\n",
       "      <td>542.650971</td>\n",
       "      <td>951.170334</td>\n",
       "      <td>541.037403</td>\n",
       "      <td>446.772781</td>\n",
       "      <td>643.989317</td>\n",
       "      <td>552.494189</td>\n",
       "      <td>627.473597</td>\n",
       "      <td>711.475534</td>\n",
       "      <td>597.093513</td>\n",
       "      <td>476.956618</td>\n",
       "      <td>404.785356</td>\n",
       "      <td>414.039633</td>\n",
       "      <td>835.609556</td>\n",
       "      <td>522.622012</td>\n",
       "      <td>736.929130</td>\n",
       "      <td>762.518612</td>\n",
       "      <td>1137.950295</td>\n",
       "      <td>657.288426</td>\n",
       "      <td>683.818371</td>\n",
       "      <td>751.188532</td>\n",
       "      <td>897.151168</td>\n",
       "      <td>970.185813</td>\n",
       "      <td>624.152807</td>\n",
       "      <td>486.574503</td>\n",
       "      <td>910.188934</td>\n",
       "      <td>933.015515</td>\n",
       "      <td>704.795767</td>\n",
       "      <td>734.691081</td>\n",
       "      <td>834.576920</td>\n",
       "      <td>649.413224</td>\n",
       "      <td>717.591714</td>\n",
       "      <td>855.518493</td>\n",
       "      <td>640.818466</td>\n",
       "      <td>991.521900</td>\n",
       "      <td>853.732533</td>\n",
       "      <td>305.470937</td>\n",
       "      <td>629.477756</td>\n",
       "      <td>621.376135</td>\n",
       "      <td>311.288291</td>\n",
       "      <td>777.709429</td>\n",
       "      <td>1062.401631</td>\n",
       "      <td>861.652362</td>\n",
       "      <td>588.884835</td>\n",
       "    </tr>\n",
       "  </tbody>\n",
       "</table>"
      ],
      "text/plain": [
       "<IPython.core.display.HTML object>"
      ]
     },
     "metadata": {},
     "output_type": "display_data"
    }
   ],
   "source": [
    "display( HTML( L2AnnDF.tail().to_html() ) )"
   ]
  },
  {
   "cell_type": "code",
   "execution_count": 61,
   "id": "96eae3bb-d0d5-46be-a10b-4373b255f723",
   "metadata": {},
   "outputs": [],
   "source": [
    "L2AnnValuesList = list()"
   ]
  },
  {
   "cell_type": "code",
   "execution_count": 62,
   "id": "f51ecd98-b767-42c6-b6d2-d2bdfe82a3e9",
   "metadata": {},
   "outputs": [],
   "source": [
    "for tCol in L2Cols:\n",
    "    L2AnnValuesList.append( L2AnnDF[tCol].to_numpy(dtype=np.float32).flatten() )\n",
    "# end for"
   ]
  },
  {
   "cell_type": "code",
   "execution_count": 63,
   "id": "aa66fdfb-cbec-409d-b2fc-13d5c2f9d113",
   "metadata": {},
   "outputs": [
    {
     "data": {
      "text/plain": [
       "1380"
      ]
     },
     "execution_count": 63,
     "metadata": {},
     "output_type": "execute_result"
    }
   ],
   "source": [
    "npL2AnnVals = np.concatenate( L2AnnValuesList )\n",
    "NumL2 = len( npL2AnnVals )\n",
    "NumL2"
   ]
  },
  {
   "cell_type": "code",
   "execution_count": 85,
   "id": "013adbf7-ffe5-4977-a931-d16fea788fac",
   "metadata": {},
   "outputs": [
    {
     "data": {
      "text/plain": [
       "(665.9795, 688.4946, 211.18112)"
      ]
     },
     "execution_count": 85,
     "metadata": {},
     "output_type": "execute_result"
    }
   ],
   "source": [
    "np.median( npL2AnnVals ), npL2AnnVals.mean(), npL2AnnVals.std()"
   ]
  },
  {
   "cell_type": "code",
   "execution_count": 64,
   "id": "4128fb85-0e1a-43c1-87fe-6cc9e9f88af9",
   "metadata": {},
   "outputs": [],
   "source": [
    "L2LabelsList = [ \"LOCA2 2031-2060\" for x in range(NumL2) ]"
   ]
  },
  {
   "cell_type": "code",
   "execution_count": 65,
   "id": "81aa9ca1-c476-4b6a-a7d3-4032b302a92e",
   "metadata": {},
   "outputs": [],
   "source": [
    "InFiler = os.path.normpath( os.path.join( IN_DIR3, \"FBas_MetTS_1980to2020.xlsx\" ) )\n",
    "HODF = pd.read_excel( InFiler, sheet_name=BasKey, header=0, index_col=0, parse_dates=True )"
   ]
  },
  {
   "cell_type": "code",
   "execution_count": 66,
   "id": "80d2ff29-f9a3-42ec-9b93-5f0a53325f50",
   "metadata": {},
   "outputs": [
    {
     "data": {
      "text/html": [
       "<table border=\"1\" class=\"dataframe\">\n",
       "  <thead>\n",
       "    <tr style=\"text-align: right;\">\n",
       "      <th></th>\n",
       "      <th>Pre_mm</th>\n",
       "      <th>MaxT_C</th>\n",
       "      <th>MinT_C</th>\n",
       "      <th>AveT_C</th>\n",
       "      <th>ETo_mm</th>\n",
       "      <th>Def_mm</th>\n",
       "    </tr>\n",
       "    <tr>\n",
       "      <th>DateTime</th>\n",
       "      <th></th>\n",
       "      <th></th>\n",
       "      <th></th>\n",
       "      <th></th>\n",
       "      <th></th>\n",
       "      <th></th>\n",
       "    </tr>\n",
       "  </thead>\n",
       "  <tbody>\n",
       "    <tr>\n",
       "      <th>1980-01-01</th>\n",
       "      <td>0.0</td>\n",
       "      <td>17.639760</td>\n",
       "      <td>-2.093293</td>\n",
       "      <td>7.773233</td>\n",
       "      <td>1.808953</td>\n",
       "      <td>-1.808953</td>\n",
       "    </tr>\n",
       "    <tr>\n",
       "      <th>1980-01-02</th>\n",
       "      <td>0.0</td>\n",
       "      <td>17.775069</td>\n",
       "      <td>2.362587</td>\n",
       "      <td>10.068828</td>\n",
       "      <td>1.976076</td>\n",
       "      <td>-1.976076</td>\n",
       "    </tr>\n",
       "    <tr>\n",
       "      <th>1980-01-03</th>\n",
       "      <td>0.0</td>\n",
       "      <td>13.989642</td>\n",
       "      <td>2.688177</td>\n",
       "      <td>8.338910</td>\n",
       "      <td>1.858288</td>\n",
       "      <td>-1.858288</td>\n",
       "    </tr>\n",
       "    <tr>\n",
       "      <th>1980-01-04</th>\n",
       "      <td>0.0</td>\n",
       "      <td>16.050801</td>\n",
       "      <td>-2.628509</td>\n",
       "      <td>6.711146</td>\n",
       "      <td>1.747395</td>\n",
       "      <td>-1.747395</td>\n",
       "    </tr>\n",
       "    <tr>\n",
       "      <th>1980-01-05</th>\n",
       "      <td>0.0</td>\n",
       "      <td>18.629301</td>\n",
       "      <td>-0.571212</td>\n",
       "      <td>9.029045</td>\n",
       "      <td>1.918359</td>\n",
       "      <td>-1.918359</td>\n",
       "    </tr>\n",
       "  </tbody>\n",
       "</table>"
      ],
      "text/plain": [
       "<IPython.core.display.HTML object>"
      ]
     },
     "metadata": {},
     "output_type": "display_data"
    }
   ],
   "source": [
    "display( HTML( HODF.head().to_html() ) )"
   ]
  },
  {
   "cell_type": "code",
   "execution_count": 67,
   "id": "26db5a44-5f76-4b80-98c6-cf437ba7e150",
   "metadata": {},
   "outputs": [],
   "source": [
    "HODF = HODF[[\"Pre_mm\"]].loc[pd.Timestamp( 1991, 1, 1, ):pd.Timestamp(2020, 12, 31, 23, 59, )].copy()"
   ]
  },
  {
   "cell_type": "code",
   "execution_count": 68,
   "id": "d874c437-f6f9-467e-a131-fc91b35c4932",
   "metadata": {},
   "outputs": [
    {
     "data": {
      "text/html": [
       "<table border=\"1\" class=\"dataframe\">\n",
       "  <thead>\n",
       "    <tr style=\"text-align: right;\">\n",
       "      <th></th>\n",
       "      <th>Pre_mm</th>\n",
       "    </tr>\n",
       "    <tr>\n",
       "      <th>DateTime</th>\n",
       "      <th></th>\n",
       "    </tr>\n",
       "  </thead>\n",
       "  <tbody>\n",
       "    <tr>\n",
       "      <th>1991-01-01</th>\n",
       "      <td>0.021017</td>\n",
       "    </tr>\n",
       "    <tr>\n",
       "      <th>1991-01-02</th>\n",
       "      <td>2.866819</td>\n",
       "    </tr>\n",
       "    <tr>\n",
       "      <th>1991-01-03</th>\n",
       "      <td>1.411239</td>\n",
       "    </tr>\n",
       "    <tr>\n",
       "      <th>1991-01-04</th>\n",
       "      <td>1.598852</td>\n",
       "    </tr>\n",
       "    <tr>\n",
       "      <th>1991-01-05</th>\n",
       "      <td>0.279667</td>\n",
       "    </tr>\n",
       "  </tbody>\n",
       "</table>"
      ],
      "text/plain": [
       "<IPython.core.display.HTML object>"
      ]
     },
     "metadata": {},
     "output_type": "display_data"
    }
   ],
   "source": [
    "display( HTML( HODF.head().to_html() ) )"
   ]
  },
  {
   "cell_type": "code",
   "execution_count": 69,
   "id": "abc43ece-cee7-4529-bc7f-1bf1ea379e40",
   "metadata": {},
   "outputs": [
    {
     "data": {
      "text/html": [
       "<table border=\"1\" class=\"dataframe\">\n",
       "  <thead>\n",
       "    <tr style=\"text-align: right;\">\n",
       "      <th></th>\n",
       "      <th>Pre_mm</th>\n",
       "    </tr>\n",
       "    <tr>\n",
       "      <th>DateTime</th>\n",
       "      <th></th>\n",
       "    </tr>\n",
       "  </thead>\n",
       "  <tbody>\n",
       "    <tr>\n",
       "      <th>2020-12-27</th>\n",
       "      <td>0.000000</td>\n",
       "    </tr>\n",
       "    <tr>\n",
       "      <th>2020-12-28</th>\n",
       "      <td>0.423642</td>\n",
       "    </tr>\n",
       "    <tr>\n",
       "      <th>2020-12-29</th>\n",
       "      <td>0.000000</td>\n",
       "    </tr>\n",
       "    <tr>\n",
       "      <th>2020-12-30</th>\n",
       "      <td>37.109350</td>\n",
       "    </tr>\n",
       "    <tr>\n",
       "      <th>2020-12-31</th>\n",
       "      <td>37.109350</td>\n",
       "    </tr>\n",
       "  </tbody>\n",
       "</table>"
      ],
      "text/plain": [
       "<IPython.core.display.HTML object>"
      ]
     },
     "metadata": {},
     "output_type": "display_data"
    }
   ],
   "source": [
    "display( HTML( HODF.tail().to_html() ) )"
   ]
  },
  {
   "cell_type": "code",
   "execution_count": 70,
   "id": "ab440b57-9736-4f9d-8a2a-3961e8cb5f5f",
   "metadata": {},
   "outputs": [],
   "source": [
    "HOAnnDF = HODF.resample( 'AS' ).sum()"
   ]
  },
  {
   "cell_type": "code",
   "execution_count": 71,
   "id": "9d7f4152-6d7a-4074-8f8d-ac92f6afe8f3",
   "metadata": {},
   "outputs": [
    {
     "data": {
      "text/html": [
       "<table border=\"1\" class=\"dataframe\">\n",
       "  <thead>\n",
       "    <tr style=\"text-align: right;\">\n",
       "      <th></th>\n",
       "      <th>Pre_mm</th>\n",
       "    </tr>\n",
       "    <tr>\n",
       "      <th>DateTime</th>\n",
       "      <th></th>\n",
       "    </tr>\n",
       "  </thead>\n",
       "  <tbody>\n",
       "    <tr>\n",
       "      <th>1991-01-01</th>\n",
       "      <td>819.936921</td>\n",
       "    </tr>\n",
       "    <tr>\n",
       "      <th>1992-01-01</th>\n",
       "      <td>740.109990</td>\n",
       "    </tr>\n",
       "    <tr>\n",
       "      <th>1993-01-01</th>\n",
       "      <td>365.591091</td>\n",
       "    </tr>\n",
       "    <tr>\n",
       "      <th>1994-01-01</th>\n",
       "      <td>716.388445</td>\n",
       "    </tr>\n",
       "    <tr>\n",
       "      <th>1995-01-01</th>\n",
       "      <td>552.478275</td>\n",
       "    </tr>\n",
       "  </tbody>\n",
       "</table>"
      ],
      "text/plain": [
       "<IPython.core.display.HTML object>"
      ]
     },
     "metadata": {},
     "output_type": "display_data"
    }
   ],
   "source": [
    "display( HTML( HOAnnDF.head().to_html() ) )"
   ]
  },
  {
   "cell_type": "code",
   "execution_count": 72,
   "id": "0f7b6586-fdda-4bad-8ed2-e88d81af5e5b",
   "metadata": {},
   "outputs": [
    {
     "data": {
      "text/html": [
       "<table border=\"1\" class=\"dataframe\">\n",
       "  <thead>\n",
       "    <tr style=\"text-align: right;\">\n",
       "      <th></th>\n",
       "      <th>Pre_mm</th>\n",
       "    </tr>\n",
       "    <tr>\n",
       "      <th>DateTime</th>\n",
       "      <th></th>\n",
       "    </tr>\n",
       "  </thead>\n",
       "  <tbody>\n",
       "    <tr>\n",
       "      <th>2016-01-01</th>\n",
       "      <td>867.531661</td>\n",
       "    </tr>\n",
       "    <tr>\n",
       "      <th>2017-01-01</th>\n",
       "      <td>672.073808</td>\n",
       "    </tr>\n",
       "    <tr>\n",
       "      <th>2018-01-01</th>\n",
       "      <td>1009.162811</td>\n",
       "    </tr>\n",
       "    <tr>\n",
       "      <th>2019-01-01</th>\n",
       "      <td>482.157345</td>\n",
       "    </tr>\n",
       "    <tr>\n",
       "      <th>2020-01-01</th>\n",
       "      <td>639.695705</td>\n",
       "    </tr>\n",
       "  </tbody>\n",
       "</table>"
      ],
      "text/plain": [
       "<IPython.core.display.HTML object>"
      ]
     },
     "metadata": {},
     "output_type": "display_data"
    }
   ],
   "source": [
    "display( HTML( HOAnnDF.tail().to_html() ) )"
   ]
  },
  {
   "cell_type": "code",
   "execution_count": 73,
   "id": "870757dd-759a-45be-ab18-9ac1413a30cc",
   "metadata": {},
   "outputs": [
    {
     "data": {
      "text/plain": [
       "30"
      ]
     },
     "execution_count": 73,
     "metadata": {},
     "output_type": "execute_result"
    }
   ],
   "source": [
    "npHOAnnVals = HOAnnDF[\"Pre_mm\"].to_numpy(dtype=np.float32).flatten()\n",
    "NumHO = len( npHOAnnVals )\n",
    "NumHO"
   ]
  },
  {
   "cell_type": "code",
   "execution_count": 86,
   "id": "0a87f58b-e91d-4c9e-87e5-a6cca9dc87f2",
   "metadata": {},
   "outputs": [
    {
     "data": {
      "text/plain": [
       "(665.73193, 669.8627, 208.2158)"
      ]
     },
     "execution_count": 86,
     "metadata": {},
     "output_type": "execute_result"
    }
   ],
   "source": [
    "np.median( npHOAnnVals ), npHOAnnVals.mean(), npHOAnnVals.std()"
   ]
  },
  {
   "cell_type": "code",
   "execution_count": 74,
   "id": "178d4fbf-8134-4967-b730-8ea6872deea3",
   "metadata": {},
   "outputs": [],
   "source": [
    "HOLabelsList = [ \"Obs. 1991-2020\" for x in range(NumHO) ]"
   ]
  },
  {
   "cell_type": "markdown",
   "id": "011d3358-9171-4a4b-a64e-b163e81937d1",
   "metadata": {},
   "source": [
    "Make the combined DataFrame for plotting"
   ]
  },
  {
   "cell_type": "code",
   "execution_count": 75,
   "id": "1f6f02e3-0a7c-4662-8fa5-236cc01b56aa",
   "metadata": {},
   "outputs": [
    {
     "data": {
      "text/plain": [
       "31410"
      ]
     },
     "execution_count": 75,
     "metadata": {},
     "output_type": "execute_result"
    }
   ],
   "source": [
    "AllLabelsList = deepcopy( WGLabelsList )\n",
    "AllLabelsList.extend( L2LabelsList )\n",
    "AllLabelsList.extend( HOLabelsList )\n",
    "len( AllLabelsList )"
   ]
  },
  {
   "cell_type": "code",
   "execution_count": 76,
   "id": "62352c73-e5d5-4a62-8e99-e2b7ed98ece5",
   "metadata": {},
   "outputs": [
    {
     "data": {
      "text/plain": [
       "31410"
      ]
     },
     "execution_count": 76,
     "metadata": {},
     "output_type": "execute_result"
    }
   ],
   "source": [
    "npAllAnn = np.concatenate( [npWGAnnVals, npL2AnnVals, npHOAnnVals], )\n",
    "len( npAllAnn )"
   ]
  },
  {
   "cell_type": "code",
   "execution_count": 77,
   "id": "3df4bbc5-5136-44e6-91a8-8415d6d3cc65",
   "metadata": {},
   "outputs": [],
   "source": [
    "DataDict = { \"Labels\" : AllLabelsList, \"AnnPre_mm\" : npAllAnn, }\n",
    "BwDF = pd.DataFrame( data=DataDict )"
   ]
  },
  {
   "cell_type": "code",
   "execution_count": 88,
   "id": "b345bfd3-361c-4ba8-8ff4-f5222425924a",
   "metadata": {},
   "outputs": [],
   "source": [
    "OutFilePDF = os.path.normpath( os.path.join( OUT_DIR, \"Plots\", \"BW_AnnPrecipDepth_%s.pdf\" % BasKey ) )\n",
    "OutFileSVG = os.path.normpath( os.path.join( OUT_DIR, \"Plots\", \"BW_AnnPrecipDepth_%s.svg\" % BasKey ) )\n",
    "OutFilePNG = os.path.normpath( os.path.join( OUT_DIR, \"Plots\", \"BW_AnnPrecipDepth_%s.png\" % BasKey ) )"
   ]
  },
  {
   "cell_type": "code",
   "execution_count": 89,
   "id": "27ce1931-2bc1-491e-b2ae-6b73d557f582",
   "metadata": {},
   "outputs": [
    {
     "data": {
      "image/png": "[encoded data removed]",
      "text/plain": [
       "<Figure size 650x500 with 1 Axes>"
      ]
     },
     "metadata": {},
     "output_type": "display_data"
    }
   ],
   "source": [
    "Fig1 = plt.figure()\n",
    "Fig1.set_size_inches(6.5, 5.0)\n",
    "ax11 = Fig1.add_subplot(111)\n",
    "g1 = sns.boxplot( x=\"Labels\", y=\"AnnPre_mm\", hue=\"Labels\", orient=\"v\", \n",
    "                  linewidth=1.0, showmeans=True, dodge=False,\n",
    "                  palette={ \"Obs. 1991-2020\" : \"xkcd:sky blue\",\n",
    "                            \"LOCA2 2031-2060\" : \"xkcd:ocean blue\",\n",
    "                            \"WG 2031-2060\" : \"xkcd:pumpkin\", },\n",
    "                  data=BwDF, ax=ax11 )\n",
    "g1.legend(loc=\"upper right\", framealpha=1.0, fontsize=9 )\n",
    "#g1.set_yscale('log')\n",
    "g1.grid(visible=True, which=\"both\", axis='y')\n",
    "#g1.set_yticks( preTicks )\n",
    "g1.set_xlabel('', fontsize=10 )\n",
    "g1.set_ylabel('Annual Precipitation Depth ($mm$)', fontsize=10)\n",
    "g1.set_ylim( ( 0.0, 1850.0))\n",
    "g1.tick_params(axis='both', which='major', labelsize=10)\n",
    "g1.yaxis.set_major_formatter( mpl.ticker.StrMethodFormatter( \"{x:,.0f}\" ) )\n",
    "Fig1.savefig( OutFileSVG, dpi=600 )\n",
    "Fig1.savefig( OutFilePNG, dpi=600 )\n",
    "Fig1.savefig( OutFilePDF, dpi=600 )"
   ]
  },
  {
   "cell_type": "code",
   "execution_count": null,
   "id": "7af97a1a-19c5-4227-b2f8-eb0ca9e97b94",
   "metadata": {},
   "outputs": [],
   "source": []
  }
 ],
 "metadata": {
  "kernelspec": {
   "display_name": "Python 3 (ipykernel)",
   "language": "python",
   "name": "python3"
  },
  "language_info": {
   "codemirror_mode": {
    "name": "ipython",
    "version": 3
   },
   "file_extension": ".py",
   "mimetype": "text/x-python",
   "name": "python",
   "nbconvert_exporter": "python",
   "pygments_lexer": "ipython3",
   "version": "3.9.15"
  }
 },
 "nbformat": 4,
 "nbformat_minor": 5
}
