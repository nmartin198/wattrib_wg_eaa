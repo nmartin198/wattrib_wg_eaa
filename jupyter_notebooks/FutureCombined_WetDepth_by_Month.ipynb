{
 "cells": [
  {
   "cell_type": "markdown",
   "id": "f48a65f7-3473-4363-88c7-c3635c147110",
   "metadata": {},
   "source": [
    "# Collate Collections of Wet Depths by Month for Future Conditions: CN1, Custom Climate Normal 2031-2060, and CN2"
   ]
  },
  {
   "cell_type": "markdown",
   "id": "6b9f3f58-9fb7-4e55-a073-c1a0f08298c8",
   "metadata": {},
   "source": [
    "The purpose of this notebook is to collate collections of wet day depths by month."
   ]
  },
  {
   "cell_type": "markdown",
   "id": "64ef079d-afda-4000-8bff-6b3d82055b1c",
   "metadata": {},
   "source": [
    "## Imports and Parameters"
   ]
  },
  {
   "cell_type": "code",
   "execution_count": 1,
   "id": "f86817ea-6ea6-4688-a5fe-2835c5372e61",
   "metadata": {},
   "outputs": [],
   "source": [
    "%matplotlib inline"
   ]
  },
  {
   "cell_type": "code",
   "execution_count": 2,
   "id": "199322b9-96ee-4351-b7e3-1f885b5e18b0",
   "metadata": {},
   "outputs": [],
   "source": [
    "import os\n",
    "import pickle\n",
    "import numpy as np\n",
    "import pandas as pd\n",
    "import geopandas as gpd\n",
    "import matplotlib as mpl\n",
    "import matplotlib.pyplot as plt\n",
    "import matplotlib.patches as mpatches\n",
    "from matplotlib.lines import Line2D\n",
    "import datetime as dt\n",
    "from copy import deepcopy\n",
    "from IPython.display import display, HTML, Image"
   ]
  },
  {
   "cell_type": "code",
   "execution_count": 3,
   "id": "86bc1d78-b5de-479d-86dc-9dad63d6e68c",
   "metadata": {},
   "outputs": [],
   "source": [
    "IN_DIR1 = r'C:\\Users\\nmartin\\Documents\\EAA_HCP\\Data\\SwRI_Processed\\CMIP6'\n",
    "IN_DIR2 = r'C:\\Users\\nmartin\\Documents\\EAA_HCP\\Data\\SwRI_Processed\\CMIP5'\n",
    "IN_DIR3 = r'C:\\Users\\nmartin\\Documents\\EAA_HCP\\Data\\SwRI_Processed\\DayMet_GridIntersect'"
   ]
  },
  {
   "cell_type": "code",
   "execution_count": 4,
   "id": "b7add610-2864-4251-a32c-d60fd259e695",
   "metadata": {},
   "outputs": [],
   "source": [
    "OUT_DIR = r'C:\\Users\\nmartin\\Documents\\EAA_HCP\\Data\\SwRI_Processed\\CombinedFuture'"
   ]
  },
  {
   "cell_type": "code",
   "execution_count": 5,
   "id": "8ca2950b-3c92-4ebc-be60-d2bea967e78f",
   "metadata": {},
   "outputs": [],
   "source": [
    "# load the regular day indexes\n",
    "DAY_INDEX_FILE = \"Future_RegYr_Index_DF.pkl\"\n",
    "InFiler = os.path.normpath( os.path.join( IN_DIR3, DAY_INDEX_FILE ) )\n",
    "DAYIND_DF_C6 = pd.read_pickle( InFiler )\n",
    "START_2021_C6 = 2190\n",
    "START_2051_C6 = 13140\n",
    "START_2081_C6 = 24090\n",
    "DAY_INDEX_FILE = \"CMIP5Future_RegYr_Index_DF.pkl\"\n",
    "InFiler = os.path.normpath( os.path.join( IN_DIR3, DAY_INDEX_FILE ) )\n",
    "DAYIND_DF_C5 = pd.read_pickle( InFiler )\n",
    "START_2021_C5 = 5475\n",
    "START_2051_C5 = 16425\n",
    "START_2081_C5 = 27375"
   ]
  },
  {
   "cell_type": "code",
   "execution_count": 6,
   "id": "8b8da08a-cdbd-4789-8692-ffd11e6c9e5c",
   "metadata": {},
   "outputs": [],
   "source": [
    "CCNStartTS = pd.Timestamp( 2031, 1, 1, )\n",
    "CCNStartYr = CCNStartTS.year\n",
    "CCNStopTS = pd.Timestamp( 2060, 12, 31, 23, 59, )\n",
    "CCNStopYr = CCNStopTS.year"
   ]
  },
  {
   "cell_type": "code",
   "execution_count": 7,
   "id": "ceda717f-8352-49d4-9f90-cf590b6c9bce",
   "metadata": {},
   "outputs": [],
   "source": [
    "MODEL_DICT = { 2 : [\"CMIP6\", [\"ssp245\", \"ssp585\"], ], \n",
    "               3 : [\"CMIP6\", [\"ssp245\", \"ssp585\"], ], \n",
    "               4 : [\"CMIP6\", [\"ssp245\", \"ssp585\"], ], \n",
    "               5 : [\"CMIP6\", [\"ssp245\", \"ssp585\"], ], \n",
    "               11 : [\"CMIP6\", [\"ssp245\", \"ssp585\"], ], \n",
    "               12 : [\"CMIP6\", [\"ssp245\", \"ssp585\"], ], \n",
    "               7 : [\"CMIP5\", [\"rcp45\", \"rcp85\"], ], \n",
    "               8 : [\"CMIP5\", [\"rcp45\", \"rcp85\"], ], \n",
    "               9 : [\"CMIP5\", [\"rcp45\", \"rcp85\"], ], \n",
    "               10 : [\"CMIP5\", [\"rcp85\"], ], }\n",
    "MODEL_KEYS = list( MODEL_DICT.keys() )"
   ]
  },
  {
   "cell_type": "code",
   "execution_count": 8,
   "id": "0184034a-0756-4ac9-bb99-7f111b958a7e",
   "metadata": {},
   "outputs": [],
   "source": [
    "# full basin intersection dictionary\n",
    "InFiler = os.path.normpath( os.path.join( IN_DIR3, \"BasWeightsGDF.pkl\" ) )\n",
    "with open( InFiler, 'rb' ) as IF:\n",
    "    BasWeightsDF = pickle.load( IF )\n",
    "# end with\n",
    "BAS_KEYS = sorted( BasWeightsDF.keys() )"
   ]
  },
  {
   "cell_type": "code",
   "execution_count": 9,
   "id": "b88e6328-b90e-4a8c-9efd-13c10e610726",
   "metadata": {},
   "outputs": [],
   "source": [
    "# cutoff threshold depth for precipitation in millimeters\n",
    "#    equivalent to 0.01 inch\n",
    "CutThresh = 0.255"
   ]
  },
  {
   "cell_type": "markdown",
   "id": "be8d5ec3-5a28-43d8-9fbb-28eb5c95f0a5",
   "metadata": {},
   "source": [
    "## Custom CN, 2031-2060"
   ]
  },
  {
   "cell_type": "markdown",
   "id": "b388fb0d-c449-46fe-bf03-7f5c11e1658a",
   "metadata": {},
   "source": [
    "### Make Storage Dictionaries"
   ]
  },
  {
   "cell_type": "markdown",
   "id": "3618f837-ec28-46ba-b219-0e6471d7c07c",
   "metadata": {},
   "source": [
    "For these values will store as lists in a dictionary with keys that are integer months."
   ]
  },
  {
   "cell_type": "code",
   "execution_count": 10,
   "id": "bf852840-917e-4b50-b5e9-4e8bfbd39b26",
   "metadata": {},
   "outputs": [],
   "source": [
    "FB_Wet_Depth = dict()"
   ]
  },
  {
   "cell_type": "code",
   "execution_count": 11,
   "id": "eec18131-243c-45fd-882a-514bf0c07ac4",
   "metadata": {},
   "outputs": [],
   "source": [
    "for bas in BAS_KEYS:\n",
    "    localDict = dict()\n",
    "    for mM in range(1, 13, 1):\n",
    "        localDict[mM] = list()\n",
    "    # end for\n",
    "    FB_Wet_Depth[bas] = deepcopy( localDict )\n",
    "# end for"
   ]
  },
  {
   "cell_type": "markdown",
   "id": "b099ff5e-7f86-4569-aaec-c74c9e39f82e",
   "metadata": {
    "tags": []
   },
   "source": [
    "### Collate Basins"
   ]
  },
  {
   "cell_type": "markdown",
   "id": "1c3a85d4-7a3f-40c3-a2af-89e09d8ee417",
   "metadata": {
    "tags": []
   },
   "source": [
    "Loop through the keys and do one basin at a time. Iterate through the DataFrame and allocate contiguous counts to month"
   ]
  },
  {
   "cell_type": "code",
   "execution_count": 12,
   "id": "d9e161df-f14a-4059-9fbc-b55947876ab4",
   "metadata": {},
   "outputs": [],
   "source": [
    "for bas in BAS_KEYS:\n",
    "    for mKey in MODEL_KEYS:\n",
    "        modelMeta = MODEL_DICT[mKey]\n",
    "        scenList = modelMeta[1]\n",
    "        if modelMeta[0] == \"CMIP6\":\n",
    "            inDir = IN_DIR1\n",
    "            DayIndDF1 = DAYIND_DF_C6.loc[START_2021_C6:(START_2051_C6-1)].copy()\n",
    "            DayIndDF2 = DAYIND_DF_C6.loc[START_2051_C6:(START_2081_C6-1)].copy()\n",
    "        elif modelMeta[0] == \"CMIP5\":\n",
    "            inDir = IN_DIR2\n",
    "            DayIndDF1 = DAYIND_DF_C5.loc[START_2021_C5:(START_2051_C5-1)].copy()\n",
    "            DayIndDF2 = DAYIND_DF_C5.loc[START_2051_C5:(START_2081_C5-1)].copy()\n",
    "        else:\n",
    "            errMsg = \"Invalid CMIP of %s!!!\" % modelMeta[0]\n",
    "            print(\"%s\" % errMsg)\n",
    "        for tSen in scenList:\n",
    "            iFileName = \"Mod_%02d_%s-CN1_2021to2050_%s_DF.pkl\" % ( mKey, tSen, bas )\n",
    "            InFiler = os.path.normpath( os.path.join( inDir, iFileName ) )\n",
    "            cBasDF1 = pd.read_pickle( InFiler )\n",
    "            cBasDF1 = DayIndDF1.merge( cBasDF1, how='inner', left_index=True, right_index=True )\n",
    "            iFileName = \"Mod_%02d_%s-CN2_2051to2080_%s_DF.pkl\" % ( mKey, tSen, bas )\n",
    "            InFiler = os.path.normpath( os.path.join( inDir, iFileName ) )\n",
    "            cBasDF2 = pd.read_pickle( InFiler )\n",
    "            cBasDF2 = DayIndDF2.merge( cBasDF2, how='inner', left_index=True, right_index=True )\n",
    "            cBasDF = pd.concat( [cBasDF1, cBasDF2], )\n",
    "            cMetDF = cBasDF[(cBasDF[\"Year\"] >= CCNStartYr) & (cBasDF[\"Year\"] <= CCNStopYr)].copy()\n",
    "            if len(cMetDF) != (30*365):\n",
    "                # this is an error\n",
    "                print(\"Custom CN met has length %d and %d was expected!!!\" % (len(cMetDF),(30*365)))\n",
    "            # end if\n",
    "            # start calculations for this model\n",
    "            oCnt = 0\n",
    "            for indx, row in cMetDF.iterrows():\n",
    "                curMonth = int( row[\"Month\"] )\n",
    "                curPre = float( row[\"Pre_mm\"] )\n",
    "                if curPre >= CutThresh:\n",
    "                    # then current day is wet\n",
    "                    FB_Wet_Depth[bas][curMonth].append( curPre )\n",
    "                # increment the overall counter\n",
    "                oCnt += 1\n",
    "            # end of DataFrame iteration for\n",
    "        # end of scenario for\n",
    "    # end of model for\n",
    "# end of basin iteration for"
   ]
  },
  {
   "cell_type": "markdown",
   "id": "a051bb73-0ce0-4868-8d54-2c67a78b7752",
   "metadata": {},
   "source": [
    "Now serialize for future use"
   ]
  },
  {
   "cell_type": "code",
   "execution_count": 13,
   "id": "286a97d9-3690-4556-bf8d-fcfecbe2128f",
   "metadata": {},
   "outputs": [],
   "source": [
    "OutFiler = os.path.normpath( os.path.join( OUT_DIR, \"CCN_FullB_WetDepth_2031through2060_MonDict.pkl\" ) )\n",
    "with open( OutFiler, 'wb' ) as OF:\n",
    "    pickle.dump( FB_Wet_Depth, OF, protocol=pickle.HIGHEST_PROTOCOL )\n",
    "# end with"
   ]
  },
  {
   "cell_type": "markdown",
   "id": "921d5968-2e8f-4b71-a8a7-01f20075f9b2",
   "metadata": {},
   "source": [
    "## CN1, 2021-2050"
   ]
  },
  {
   "cell_type": "markdown",
   "id": "da1a3772-0b87-424b-8eec-f10a763ff55f",
   "metadata": {},
   "source": [
    "### Make Storage Dictionaries"
   ]
  },
  {
   "cell_type": "markdown",
   "id": "f21d9fbc-4d95-4aa0-bddc-79af7ef4fece",
   "metadata": {},
   "source": [
    "For these values will store as lists in a dictionary with keys that are integer months."
   ]
  },
  {
   "cell_type": "code",
   "execution_count": 14,
   "id": "577b3abc-0f45-4308-b6a4-0613013e943e",
   "metadata": {},
   "outputs": [],
   "source": [
    "FB_Wet_Depth = dict()"
   ]
  },
  {
   "cell_type": "code",
   "execution_count": 15,
   "id": "2a27feb5-9fa8-4750-b611-8946b657b910",
   "metadata": {},
   "outputs": [],
   "source": [
    "for bas in BAS_KEYS:\n",
    "    localDict = dict()\n",
    "    for mM in range(1, 13, 1):\n",
    "        localDict[mM] = list()\n",
    "    # end for\n",
    "    FB_Wet_Depth[bas] = deepcopy( localDict )\n",
    "# end for"
   ]
  },
  {
   "cell_type": "markdown",
   "id": "44a7e494-2280-4fbf-a4d1-debb8217eb4e",
   "metadata": {
    "tags": []
   },
   "source": [
    "### Collate Basins"
   ]
  },
  {
   "cell_type": "markdown",
   "id": "500d15c3-50fe-460f-94ba-a07c0e915cd6",
   "metadata": {
    "tags": []
   },
   "source": [
    "Loop through the keys and do one basin at a time. Iterate through the DataFrame and allocate contiguous counts to month"
   ]
  },
  {
   "cell_type": "code",
   "execution_count": 16,
   "id": "cfba14b3-528c-4c2e-9f0f-eb844884871a",
   "metadata": {},
   "outputs": [],
   "source": [
    "for bas in BAS_KEYS:\n",
    "    for mKey in MODEL_KEYS:\n",
    "        modelMeta = MODEL_DICT[mKey]\n",
    "        scenList = modelMeta[1]\n",
    "        if modelMeta[0] == \"CMIP6\":\n",
    "            inDir = IN_DIR1\n",
    "            DayIndDF = DAYIND_DF_C6.loc[START_2021_C6:(START_2051_C6-1)].copy()\n",
    "        elif modelMeta[0] == \"CMIP5\":\n",
    "            inDir = IN_DIR2\n",
    "            DayIndDF = DAYIND_DF_C5.loc[START_2021_C5:(START_2051_C5-1)].copy()\n",
    "        else:\n",
    "            errMsg = \"Invalid CMIP of %s!!!\" % modelMeta[0]\n",
    "            print(\"%s\" % errMsg)\n",
    "        # end if\n",
    "        for tSen in scenList:\n",
    "            iFileName = \"Mod_%02d_%s-CN1_2021to2050_%s_DF.pkl\" % ( mKey, tSen, bas )\n",
    "            InFiler = os.path.normpath( os.path.join( inDir, iFileName ) )\n",
    "            cBasDF = pd.read_pickle( InFiler )\n",
    "            cMetDF = DayIndDF.merge( cBasDF, how='inner', left_index=True,\n",
    "                                     right_index=True )\n",
    "            # start calculations for this model\n",
    "            oCnt = 0\n",
    "            for indx, row in cMetDF.iterrows():\n",
    "                curMonth = int( row[\"Month\"] )\n",
    "                curPre = float( row[\"Pre_mm\"] )\n",
    "                if curPre >= CutThresh:\n",
    "                    # then current day is wet\n",
    "                    FB_Wet_Depth[bas][curMonth].append( curPre )\n",
    "                # increment the overall counter\n",
    "                oCnt += 1\n",
    "            # end of DataFrame iteration for\n",
    "        # end of scenario for\n",
    "    # end of model for\n",
    "# end of basin iteration for"
   ]
  },
  {
   "cell_type": "markdown",
   "id": "f0995c83-e9ef-4ed4-b05b-2f14654ec36c",
   "metadata": {},
   "source": [
    "Now serialize for future use"
   ]
  },
  {
   "cell_type": "code",
   "execution_count": 17,
   "id": "44eaa80d-0584-4555-87ea-224909265722",
   "metadata": {},
   "outputs": [],
   "source": [
    "OutFiler = os.path.normpath( os.path.join( OUT_DIR, \"CN1_FullB_WetDepth_2021through2050_MonDict.pkl\" ) )\n",
    "with open( OutFiler, 'wb' ) as OF:\n",
    "    pickle.dump( FB_Wet_Depth, OF, protocol=pickle.HIGHEST_PROTOCOL )\n",
    "# end with"
   ]
  },
  {
   "cell_type": "markdown",
   "id": "25263fb5-3648-4815-b66a-d674d4945fc3",
   "metadata": {},
   "source": [
    "## CN2, 2051-2080"
   ]
  },
  {
   "cell_type": "markdown",
   "id": "37bec713-033c-461d-8409-fb484cbe1d8c",
   "metadata": {},
   "source": [
    "### Make Storage Dictionaries"
   ]
  },
  {
   "cell_type": "markdown",
   "id": "d7db00e4-4b90-49dd-b882-2dddb7408b84",
   "metadata": {},
   "source": [
    "For these values will store as lists in a dictionary with keys that are integer months."
   ]
  },
  {
   "cell_type": "code",
   "execution_count": 18,
   "id": "a0042d63-5f49-4f88-bc71-3e553c93db85",
   "metadata": {},
   "outputs": [],
   "source": [
    "FB_Wet_Depth = dict()"
   ]
  },
  {
   "cell_type": "code",
   "execution_count": 19,
   "id": "0d473410-8872-4f74-994b-d9be7a381a15",
   "metadata": {},
   "outputs": [],
   "source": [
    "for bas in BAS_KEYS:\n",
    "    localDict = dict()\n",
    "    for mM in range(1, 13, 1):\n",
    "        localDict[mM] = list()\n",
    "    # end for\n",
    "    FB_Wet_Depth[bas] = deepcopy( localDict )\n",
    "# end for"
   ]
  },
  {
   "cell_type": "markdown",
   "id": "db8cdc2e-8ce4-4e35-8663-bf60b08fbece",
   "metadata": {
    "tags": []
   },
   "source": [
    "### Collate Basins"
   ]
  },
  {
   "cell_type": "markdown",
   "id": "c70ca12b-3de2-4873-b85e-5db22a152056",
   "metadata": {
    "tags": []
   },
   "source": [
    "Loop through the keys and do one basin at a time. Iterate through the DataFrame and allocate contiguous counts to month"
   ]
  },
  {
   "cell_type": "code",
   "execution_count": 20,
   "id": "41020649-e063-4b73-8fb2-76b9721d2b07",
   "metadata": {},
   "outputs": [],
   "source": [
    "for bas in BAS_KEYS:\n",
    "    for mKey in MODEL_KEYS:\n",
    "        modelMeta = MODEL_DICT[mKey]\n",
    "        scenList = modelMeta[1]\n",
    "        if modelMeta[0] == \"CMIP6\":\n",
    "            inDir = IN_DIR1\n",
    "            DayIndDF = DAYIND_DF_C6.loc[START_2051_C6:(START_2081_C6-1)].copy()\n",
    "        elif modelMeta[0] == \"CMIP5\":\n",
    "            inDir = IN_DIR2\n",
    "            DayIndDF = DAYIND_DF_C5.loc[START_2051_C5:(START_2081_C5-1)].copy()\n",
    "        else:\n",
    "            errMsg = \"Invalid CMIP of %s!!!\" % modelMeta[0]\n",
    "            print(\"%s\" % errMsg)\n",
    "        # end if\n",
    "        for tSen in scenList:\n",
    "            iFileName = \"Mod_%02d_%s-CN2_2051to2080_%s_DF.pkl\" % ( mKey, tSen, bas )\n",
    "            InFiler = os.path.normpath( os.path.join( inDir, iFileName ) )\n",
    "            cBasDF = pd.read_pickle( InFiler )\n",
    "            cMetDF = DayIndDF.merge( cBasDF, how='inner', left_index=True,\n",
    "                                     right_index=True )\n",
    "            # start calculations for this model\n",
    "            oCnt = 0\n",
    "            for indx, row in cMetDF.iterrows():\n",
    "                curMonth = int( row[\"Month\"] )\n",
    "                curPre = float( row[\"Pre_mm\"] )\n",
    "                if curPre >= CutThresh:\n",
    "                    # then current day is wet\n",
    "                    FB_Wet_Depth[bas][curMonth].append( curPre )\n",
    "                # increment the overall counter\n",
    "                oCnt += 1\n",
    "            # end of DataFrame iteration for\n",
    "        # end of scenario for\n",
    "    # end of model for\n",
    "# end of basin iteration for"
   ]
  },
  {
   "cell_type": "markdown",
   "id": "30eb9bc2-1546-4e8a-ba00-d29717213b51",
   "metadata": {},
   "source": [
    "Now serialize for future use"
   ]
  },
  {
   "cell_type": "code",
   "execution_count": 21,
   "id": "3a376f41-a0ac-47a3-81d3-cc11b97ff0f2",
   "metadata": {},
   "outputs": [],
   "source": [
    "OutFiler = os.path.normpath( os.path.join( OUT_DIR, \"CN2_FullB_WetDepth_2051through2080_MonDict.pkl\" ) )\n",
    "with open( OutFiler, 'wb' ) as OF:\n",
    "    pickle.dump( FB_Wet_Depth, OF, protocol=pickle.HIGHEST_PROTOCOL )\n",
    "# end with"
   ]
  },
  {
   "cell_type": "code",
   "execution_count": null,
   "id": "bbe6f7d7-2dfa-404c-9e28-34551d31995d",
   "metadata": {},
   "outputs": [],
   "source": []
  }
 ],
 "metadata": {
  "kernelspec": {
   "display_name": "Python 3 (ipykernel)",
   "language": "python",
   "name": "python3"
  },
  "language_info": {
   "codemirror_mode": {
    "name": "ipython",
    "version": 3
   },
   "file_extension": ".py",
   "mimetype": "text/x-python",
   "name": "python",
   "nbconvert_exporter": "python",
   "pygments_lexer": "ipython3",
   "version": "3.9.15"
  }
 },
 "nbformat": 4,
 "nbformat_minor": 5
}
