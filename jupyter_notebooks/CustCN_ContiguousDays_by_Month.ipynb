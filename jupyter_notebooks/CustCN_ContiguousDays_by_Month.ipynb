{
 "cells": [
  {
   "cell_type": "markdown",
   "id": "f48a65f7-3473-4363-88c7-c3635c147110",
   "metadata": {},
   "source": [
    "# Collate Collections of Contiguous Days by Month: Custom Climate Normal 2031-2060, CN1, and CN2"
   ]
  },
  {
   "cell_type": "markdown",
   "id": "6b9f3f58-9fb7-4e55-a073-c1a0f08298c8",
   "metadata": {},
   "source": [
    "The purpose of this notebook is to collate the contiguous days (wet and dry) for each month by basin during 2031-2060\n",
    "\n",
    "Contiguous count is allocated to the month when it begins."
   ]
  },
  {
   "cell_type": "markdown",
   "id": "64ef079d-afda-4000-8bff-6b3d82055b1c",
   "metadata": {},
   "source": [
    "## Imports and Parameters"
   ]
  },
  {
   "cell_type": "code",
   "execution_count": 1,
   "id": "f86817ea-6ea6-4688-a5fe-2835c5372e61",
   "metadata": {},
   "outputs": [],
   "source": [
    "%matplotlib inline"
   ]
  },
  {
   "cell_type": "code",
   "execution_count": 2,
   "id": "199322b9-96ee-4351-b7e3-1f885b5e18b0",
   "metadata": {},
   "outputs": [],
   "source": [
    "import os\n",
    "import pickle\n",
    "import numpy as np\n",
    "import pandas as pd\n",
    "import geopandas as gpd\n",
    "import matplotlib as mpl\n",
    "import matplotlib.pyplot as plt\n",
    "import matplotlib.patches as mpatches\n",
    "from matplotlib.lines import Line2D\n",
    "import datetime as dt\n",
    "from copy import deepcopy\n",
    "from IPython.display import display, HTML, Image"
   ]
  },
  {
   "cell_type": "code",
   "execution_count": 3,
   "id": "86bc1d78-b5de-479d-86dc-9dad63d6e68c",
   "metadata": {},
   "outputs": [],
   "source": [
    "IN_DIR1 = r'C:\\Users\\nmartin\\Documents\\EAA_HCP\\Data\\SwRI_Processed\\CMIP6'\n",
    "IN_DIR2 = r'C:\\Users\\nmartin\\Documents\\EAA_HCP\\Data\\SwRI_Processed\\CMIP5'\n",
    "IN_DIR3 = r'C:\\Users\\nmartin\\Documents\\EAA_HCP\\Data\\SwRI_Processed\\DayMet_GridIntersect'"
   ]
  },
  {
   "cell_type": "code",
   "execution_count": 4,
   "id": "b7add610-2864-4251-a32c-d60fd259e695",
   "metadata": {},
   "outputs": [],
   "source": [
    "OUT_DIR = r'C:\\Users\\nmartin\\Documents\\EAA_HCP\\Data\\SwRI_Processed\\CombinedFuture'"
   ]
  },
  {
   "cell_type": "code",
   "execution_count": 5,
   "id": "8ca2950b-3c92-4ebc-be60-d2bea967e78f",
   "metadata": {},
   "outputs": [],
   "source": [
    "# load the regular day indexes\n",
    "DAY_INDEX_FILE = \"Future_RegYr_Index_DF.pkl\"\n",
    "InFiler = os.path.normpath( os.path.join( IN_DIR3, DAY_INDEX_FILE ) )\n",
    "DAYIND_DF_C6 = pd.read_pickle( InFiler )\n",
    "START_2021_C6 = 2190\n",
    "START_2051_C6 = 13140\n",
    "START_2081_C6 = 24090\n",
    "DAY_INDEX_FILE = \"CMIP5Future_RegYr_Index_DF.pkl\"\n",
    "InFiler = os.path.normpath( os.path.join( IN_DIR3, DAY_INDEX_FILE ) )\n",
    "DAYIND_DF_C5 = pd.read_pickle( InFiler )\n",
    "START_2021_C5 = 5475\n",
    "START_2051_C5 = 16425\n",
    "START_2081_C5 = 27375"
   ]
  },
  {
   "cell_type": "code",
   "execution_count": 6,
   "id": "8b8da08a-cdbd-4789-8692-ffd11e6c9e5c",
   "metadata": {},
   "outputs": [],
   "source": [
    "CCNStartTS = pd.Timestamp( 2031, 1, 1, )\n",
    "CCNStartYr = CCNStartTS.year\n",
    "CCNStopTS = pd.Timestamp( 2060, 12, 31, 23, 59, )\n",
    "CCNStopYr = CCNStopTS.year"
   ]
  },
  {
   "cell_type": "code",
   "execution_count": 7,
   "id": "ceda717f-8352-49d4-9f90-cf590b6c9bce",
   "metadata": {},
   "outputs": [],
   "source": [
    "MODEL_DICT = { 2 : [\"CMIP6\", [\"ssp245\", \"ssp585\"], ], \n",
    "               3 : [\"CMIP6\", [\"ssp245\", \"ssp585\"], ], \n",
    "               4 : [\"CMIP6\", [\"ssp245\", \"ssp585\"], ], \n",
    "               5 : [\"CMIP6\", [\"ssp245\", \"ssp585\"], ], \n",
    "               11 : [\"CMIP6\", [\"ssp245\", \"ssp585\"], ], \n",
    "               12 : [\"CMIP6\", [\"ssp245\", \"ssp585\"], ], \n",
    "               7 : [\"CMIP5\", [\"rcp45\", \"rcp85\"], ], \n",
    "               8 : [\"CMIP5\", [\"rcp45\", \"rcp85\"], ], \n",
    "               9 : [\"CMIP5\", [\"rcp45\", \"rcp85\"], ], \n",
    "               10 : [\"CMIP5\", [\"rcp85\"], ], }\n",
    "MODEL_KEYS = list( MODEL_DICT.keys() )"
   ]
  },
  {
   "cell_type": "code",
   "execution_count": 8,
   "id": "0184034a-0756-4ac9-bb99-7f111b958a7e",
   "metadata": {},
   "outputs": [],
   "source": [
    "# full basin intersection dictionary\n",
    "InFiler = os.path.normpath( os.path.join( IN_DIR3, \"BasWeightsGDF.pkl\" ) )\n",
    "with open( InFiler, 'rb' ) as IF:\n",
    "    BasWeightsDF = pickle.load( IF )\n",
    "# end with\n",
    "BAS_KEYS = sorted( BasWeightsDF.keys() )"
   ]
  },
  {
   "cell_type": "code",
   "execution_count": 9,
   "id": "b88e6328-b90e-4a8c-9efd-13c10e610726",
   "metadata": {},
   "outputs": [],
   "source": [
    "# cutoff threshold depth for precipitation in millimeters\n",
    "#    equivalent to 0.01 inch\n",
    "CutThresh = 0.255"
   ]
  },
  {
   "cell_type": "markdown",
   "id": "b388fb0d-c449-46fe-bf03-7f5c11e1658a",
   "metadata": {},
   "source": [
    "## Make Storage Dictionaries"
   ]
  },
  {
   "cell_type": "markdown",
   "id": "3618f837-ec28-46ba-b219-0e6471d7c07c",
   "metadata": {},
   "source": [
    "For these values will store as lists in a dictionary with keys that are integer months."
   ]
  },
  {
   "cell_type": "code",
   "execution_count": 10,
   "id": "bf852840-917e-4b50-b5e9-4e8bfbd39b26",
   "metadata": {},
   "outputs": [],
   "source": [
    "FB_Cont_Dry = dict()\n",
    "FB_Cont_Wet = dict()"
   ]
  },
  {
   "cell_type": "code",
   "execution_count": 11,
   "id": "eec18131-243c-45fd-882a-514bf0c07ac4",
   "metadata": {},
   "outputs": [],
   "source": [
    "for bas in BAS_KEYS:\n",
    "    localDict = dict()\n",
    "    for mM in range(1, 13, 1):\n",
    "        localDict[mM] = list()\n",
    "    # end for\n",
    "    FB_Cont_Dry[bas] = deepcopy( localDict )\n",
    "    FB_Cont_Wet[bas] = deepcopy( localDict )\n",
    "# end for"
   ]
  },
  {
   "cell_type": "markdown",
   "id": "b099ff5e-7f86-4569-aaec-c74c9e39f82e",
   "metadata": {
    "tags": []
   },
   "source": [
    "## Collate Basins"
   ]
  },
  {
   "cell_type": "markdown",
   "id": "1c3a85d4-7a3f-40c3-a2af-89e09d8ee417",
   "metadata": {
    "tags": []
   },
   "source": [
    "Loop through the keys and do one basin at a time. Iterate through the DataFrame and allocate contiguous counts to month"
   ]
  },
  {
   "cell_type": "code",
   "execution_count": 12,
   "id": "d9e161df-f14a-4059-9fbc-b55947876ab4",
   "metadata": {},
   "outputs": [],
   "source": [
    "for bas in BAS_KEYS:\n",
    "    for mKey in MODEL_KEYS:\n",
    "        modelMeta = MODEL_DICT[mKey]\n",
    "        scenList = modelMeta[1]\n",
    "        if modelMeta[0] == \"CMIP6\":\n",
    "            inDir = IN_DIR1\n",
    "            DayIndDF1 = DAYIND_DF_C6.loc[START_2021_C6:(START_2051_C6-1)].copy()\n",
    "            DayIndDF2 = DAYIND_DF_C6.loc[START_2051_C6:(START_2081_C6-1)].copy()\n",
    "        elif modelMeta[0] == \"CMIP5\":\n",
    "            inDir = IN_DIR2\n",
    "            DayIndDF1 = DAYIND_DF_C5.loc[START_2021_C5:(START_2051_C5-1)].copy()\n",
    "            DayIndDF2 = DAYIND_DF_C5.loc[START_2051_C5:(START_2081_C5-1)].copy()\n",
    "        else:\n",
    "            errMsg = \"Invalid CMIP of %s!!!\" % modelMeta[0]\n",
    "            print(\"%s\" % errMsg)\n",
    "        for tSen in scenList:\n",
    "            iFileName = \"Mod_%02d_%s-CN1_2021to2050_%s_DF.pkl\" % ( mKey, tSen, bas )\n",
    "            InFiler = os.path.normpath( os.path.join( inDir, iFileName ) )\n",
    "            cBasDF1 = pd.read_pickle( InFiler )\n",
    "            cBasDF1 = DayIndDF1.merge( cBasDF1, how='inner', left_index=True, right_index=True )\n",
    "            iFileName = \"Mod_%02d_%s-CN2_2051to2080_%s_DF.pkl\" % ( mKey, tSen, bas )\n",
    "            InFiler = os.path.normpath( os.path.join( inDir, iFileName ) )\n",
    "            cBasDF2 = pd.read_pickle( InFiler )\n",
    "            cBasDF2 = DayIndDF2.merge( cBasDF2, how='inner', left_index=True, right_index=True )\n",
    "            cBasDF = pd.concat( [cBasDF1, cBasDF2], )\n",
    "            cMetDF = cBasDF[(cBasDF[\"Year\"] >= CCNStartYr) & (cBasDF[\"Year\"] <= CCNStopYr)].copy()\n",
    "            if len(cMetDF) != (30*365):\n",
    "                # this is an error\n",
    "                print(\"Custom CN met has length %d and %d was expected!!!\" % (len(cMetDF),(30*365)))\n",
    "            # end if\n",
    "            # start calculations for this model\n",
    "            IsWet = False\n",
    "            IsDry = False\n",
    "            cCntDays = 0\n",
    "            cStartMo = 0\n",
    "            oCnt = 0\n",
    "            for indx, row in cMetDF.iterrows():\n",
    "                curMonth = int( row[\"Month\"] )\n",
    "                curPre = float( row[\"Pre_mm\"] )\n",
    "                if curPre > CutThresh:\n",
    "                    # then current day is wet\n",
    "                    if IsWet:\n",
    "                        # add to contiguous count\n",
    "                        cCntDays += 1\n",
    "                    else:\n",
    "                        # start a wet day count and add to dry days\n",
    "                        if oCnt > 0:\n",
    "                            FB_Cont_Dry[bas][cStartMo].append( cCntDays )\n",
    "                        # end if\n",
    "                        IsWet = True\n",
    "                        IsDry = False\n",
    "                        cStartMo = curMonth\n",
    "                        cCntDays = 1\n",
    "                    # end inner if\n",
    "                else:\n",
    "                    # then current counter is dry\n",
    "                    if IsDry:\n",
    "                        # add to contiguous days\n",
    "                        cCntDays += 1\n",
    "                    else:\n",
    "                        # add previous to wet and start a dry day count\n",
    "                        if oCnt > 0:\n",
    "                            FB_Cont_Wet[bas][cStartMo].append( cCntDays )\n",
    "                        # end if\n",
    "                        IsWet = False\n",
    "                        IsDry = True\n",
    "                        cStartMo = curMonth\n",
    "                        cCntDays = 1\n",
    "                    # end inner if\n",
    "                # end wet or dry if\n",
    "                # increment the overall counter\n",
    "                oCnt += 1\n",
    "            # end of DataFrame iteration for\n",
    "        # end of scenario for\n",
    "    # end of model for\n",
    "# end of basin iteration for"
   ]
  },
  {
   "cell_type": "markdown",
   "id": "a051bb73-0ce0-4868-8d54-2c67a78b7752",
   "metadata": {},
   "source": [
    "Now serialize for future use"
   ]
  },
  {
   "cell_type": "code",
   "execution_count": 13,
   "id": "286a97d9-3690-4556-bf8d-fcfecbe2128f",
   "metadata": {},
   "outputs": [],
   "source": [
    "OutFiler = os.path.normpath( os.path.join( OUT_DIR, \"CCN_FullB_Cont_Wet_dict.pkl\" ) )\n",
    "with open( OutFiler, 'wb' ) as OF:\n",
    "    pickle.dump( FB_Cont_Wet, OF, protocol=pickle.HIGHEST_PROTOCOL )\n",
    "# end with\n",
    "OutFiler = os.path.normpath( os.path.join( OUT_DIR, \"CCN_FullB_Cont_Dry_dict.pkl\" ) )\n",
    "with open( OutFiler, 'wb' ) as OF:\n",
    "    pickle.dump( FB_Cont_Dry, OF, protocol=pickle.HIGHEST_PROTOCOL )\n",
    "# end with"
   ]
  },
  {
   "cell_type": "markdown",
   "id": "a3d9af71-ca7e-4a58-9881-e7f65d318207",
   "metadata": {},
   "source": [
    "## Do CN1 Counts"
   ]
  },
  {
   "cell_type": "code",
   "execution_count": 14,
   "id": "116f7e67-4031-4e4c-9180-514db986f8c9",
   "metadata": {},
   "outputs": [],
   "source": [
    "CN1_Cont_Dry = dict()\n",
    "CN1_Cont_Wet = dict()"
   ]
  },
  {
   "cell_type": "code",
   "execution_count": 15,
   "id": "fc7e4b42-58de-4a1d-a1b2-606d41d3d2fc",
   "metadata": {},
   "outputs": [],
   "source": [
    "for bas in BAS_KEYS:\n",
    "    localDict = dict()\n",
    "    for mM in range(1, 13, 1):\n",
    "        localDict[mM] = list()\n",
    "    # end for\n",
    "    CN1_Cont_Dry[bas] = deepcopy( localDict )\n",
    "    CN1_Cont_Wet[bas] = deepcopy( localDict )\n",
    "# end for"
   ]
  },
  {
   "cell_type": "code",
   "execution_count": 16,
   "id": "19458ac9-4f0a-48ce-a118-2f06c697fdc8",
   "metadata": {},
   "outputs": [],
   "source": [
    "for bas in BAS_KEYS:\n",
    "    for mKey in MODEL_KEYS:\n",
    "        modelMeta = MODEL_DICT[mKey]\n",
    "        scenList = modelMeta[1]\n",
    "        if modelMeta[0] == \"CMIP6\":\n",
    "            inDir = IN_DIR1\n",
    "            DayIndDF = DAYIND_DF_C6.loc[START_2021_C6:(START_2051_C6-1)].copy()\n",
    "        elif modelMeta[0] == \"CMIP5\":\n",
    "            inDir = IN_DIR2\n",
    "            DayIndDF = DAYIND_DF_C5.loc[START_2021_C5:(START_2051_C5-1)].copy()\n",
    "        else:\n",
    "            errMsg = \"Invalid CMIP of %s!!!\" % modelMeta[0]\n",
    "            print(\"%s\" % errMsg)\n",
    "        # end if\n",
    "        for tSen in scenList:\n",
    "            iFileName = \"Mod_%02d_%s-CN1_2021to2050_%s_DF.pkl\" % ( mKey, tSen, bas )\n",
    "            InFiler = os.path.normpath( os.path.join( inDir, iFileName ) )\n",
    "            cBasDF = pd.read_pickle( InFiler )\n",
    "            cMetDF = DayIndDF.merge( cBasDF, how='inner', left_index=True,\n",
    "                                     right_index=True )\n",
    "            # start calculations for this model\n",
    "            IsWet = False\n",
    "            IsDry = False\n",
    "            cCntDays = 0\n",
    "            cStartMo = 0\n",
    "            oCnt = 0\n",
    "            for indx, row in cMetDF.iterrows():\n",
    "                curMonth = int( row[\"Month\"] )\n",
    "                curPre = float( row[\"Pre_mm\"] )\n",
    "                if curPre > CutThresh:\n",
    "                    # then current day is wet\n",
    "                    if IsWet:\n",
    "                        # add to contiguous count\n",
    "                        cCntDays += 1\n",
    "                    else:\n",
    "                        # start a wet day count and add to dry days\n",
    "                        if oCnt > 0:\n",
    "                            CN1_Cont_Dry[bas][cStartMo].append( cCntDays )\n",
    "                        # end if\n",
    "                        IsWet = True\n",
    "                        IsDry = False\n",
    "                        cStartMo = curMonth\n",
    "                        cCntDays = 1\n",
    "                    # end inner if\n",
    "                else:\n",
    "                    # then current counter is dry\n",
    "                    if IsDry:\n",
    "                        # add to contiguous days\n",
    "                        cCntDays += 1\n",
    "                    else:\n",
    "                        # add previous to wet and start a dry day count\n",
    "                        if oCnt > 0:\n",
    "                            CN1_Cont_Wet[bas][cStartMo].append( cCntDays )\n",
    "                        # end if\n",
    "                        IsWet = False\n",
    "                        IsDry = True\n",
    "                        cStartMo = curMonth\n",
    "                        cCntDays = 1\n",
    "                    # end inner if\n",
    "                # end wet or dry if\n",
    "                # increment the overall counter\n",
    "                oCnt += 1\n",
    "            # end of DataFrame iteration for\n",
    "        # end of scenario for\n",
    "    # end of model for\n",
    "# end of basin iteration for"
   ]
  },
  {
   "cell_type": "code",
   "execution_count": 17,
   "id": "9f763c36-f206-45d4-a8aa-14cce00e3b7b",
   "metadata": {},
   "outputs": [],
   "source": [
    "OutFiler = os.path.normpath( os.path.join( OUT_DIR, \"CN1_FullB_Cont_Wet_dict.pkl\" ) )\n",
    "with open( OutFiler, 'wb' ) as OF:\n",
    "    pickle.dump( CN1_Cont_Wet, OF, protocol=pickle.HIGHEST_PROTOCOL )\n",
    "# end with\n",
    "OutFiler = os.path.normpath( os.path.join( OUT_DIR, \"CN1_FullB_Cont_Dry_dict.pkl\" ) )\n",
    "with open( OutFiler, 'wb' ) as OF:\n",
    "    pickle.dump( CN1_Cont_Dry, OF, protocol=pickle.HIGHEST_PROTOCOL )\n",
    "# end with"
   ]
  },
  {
   "cell_type": "markdown",
   "id": "9b892447-0e55-4531-ae01-2a1f16e76ece",
   "metadata": {},
   "source": [
    "## Do CN2 Counts"
   ]
  },
  {
   "cell_type": "code",
   "execution_count": 21,
   "id": "e0e0f00e-053a-460b-b0ad-fe4d0b3a4446",
   "metadata": {},
   "outputs": [],
   "source": [
    "CN2_Cont_Dry = dict()\n",
    "CN2_Cont_Wet = dict()"
   ]
  },
  {
   "cell_type": "code",
   "execution_count": 22,
   "id": "e397777a-0bc2-4271-bad0-e118481704aa",
   "metadata": {},
   "outputs": [],
   "source": [
    "for bas in BAS_KEYS:\n",
    "    localDict = dict()\n",
    "    for mM in range(1, 13, 1):\n",
    "        localDict[mM] = list()\n",
    "    # end for\n",
    "    CN2_Cont_Dry[bas] = deepcopy( localDict )\n",
    "    CN2_Cont_Wet[bas] = deepcopy( localDict )\n",
    "# end for"
   ]
  },
  {
   "cell_type": "code",
   "execution_count": 23,
   "id": "0de4d52b-00fa-40a9-a0ae-871c1ac62a63",
   "metadata": {},
   "outputs": [],
   "source": [
    "for bas in BAS_KEYS:\n",
    "    for mKey in MODEL_KEYS:\n",
    "        modelMeta = MODEL_DICT[mKey]\n",
    "        scenList = modelMeta[1]\n",
    "        if modelMeta[0] == \"CMIP6\":\n",
    "            inDir = IN_DIR1\n",
    "            DayIndDF = DAYIND_DF_C6.loc[START_2051_C6:(START_2081_C6-1)].copy()\n",
    "        elif modelMeta[0] == \"CMIP5\":\n",
    "            inDir = IN_DIR2\n",
    "            DayIndDF = DAYIND_DF_C5.loc[START_2051_C5:(START_2081_C5-1)].copy()\n",
    "        else:\n",
    "            errMsg = \"Invalid CMIP of %s!!!\" % modelMeta[0]\n",
    "            print(\"%s\" % errMsg)\n",
    "        # end if\n",
    "        for tSen in scenList:\n",
    "            iFileName = \"Mod_%02d_%s-CN2_2051to2080_%s_DF.pkl\" % ( mKey, tSen, bas )\n",
    "            InFiler = os.path.normpath( os.path.join( inDir, iFileName ) )\n",
    "            cBasDF = pd.read_pickle( InFiler )\n",
    "            cMetDF = DayIndDF.merge( cBasDF, how='inner', left_index=True,\n",
    "                                     right_index=True )\n",
    "            # start calculations for this model\n",
    "            IsWet = False\n",
    "            IsDry = False\n",
    "            cCntDays = 0\n",
    "            cStartMo = 0\n",
    "            oCnt = 0\n",
    "            for indx, row in cMetDF.iterrows():\n",
    "                curMonth = int( row[\"Month\"] )\n",
    "                curPre = float( row[\"Pre_mm\"] )\n",
    "                if curPre > CutThresh:\n",
    "                    # then current day is wet\n",
    "                    if IsWet:\n",
    "                        # add to contiguous count\n",
    "                        cCntDays += 1\n",
    "                    else:\n",
    "                        # start a wet day count and add to dry days\n",
    "                        if oCnt > 0:\n",
    "                            CN2_Cont_Dry[bas][cStartMo].append( cCntDays )\n",
    "                        # end if\n",
    "                        IsWet = True\n",
    "                        IsDry = False\n",
    "                        cStartMo = curMonth\n",
    "                        cCntDays = 1\n",
    "                    # end inner if\n",
    "                else:\n",
    "                    # then current counter is dry\n",
    "                    if IsDry:\n",
    "                        # add to contiguous days\n",
    "                        cCntDays += 1\n",
    "                    else:\n",
    "                        # add previous to wet and start a dry day count\n",
    "                        if oCnt > 0:\n",
    "                            CN2_Cont_Wet[bas][cStartMo].append( cCntDays )\n",
    "                        # end if\n",
    "                        IsWet = False\n",
    "                        IsDry = True\n",
    "                        cStartMo = curMonth\n",
    "                        cCntDays = 1\n",
    "                    # end inner if\n",
    "                # end wet or dry if\n",
    "                # increment the overall counter\n",
    "                oCnt += 1\n",
    "            # end of DataFrame iteration for\n",
    "        # end of scenario for\n",
    "    # end of model for\n",
    "# end of basin iteration for"
   ]
  },
  {
   "cell_type": "code",
   "execution_count": 24,
   "id": "b20881b0-0b72-431d-82d4-44b994f26cb1",
   "metadata": {},
   "outputs": [],
   "source": [
    "OutFiler = os.path.normpath( os.path.join( OUT_DIR, \"CN2_FullB_Cont_Wet_dict.pkl\" ) )\n",
    "with open( OutFiler, 'wb' ) as OF:\n",
    "    pickle.dump( CN2_Cont_Wet, OF, protocol=pickle.HIGHEST_PROTOCOL )\n",
    "# end with\n",
    "OutFiler = os.path.normpath( os.path.join( OUT_DIR, \"CN2_FullB_Cont_Dry_dict.pkl\" ) )\n",
    "with open( OutFiler, 'wb' ) as OF:\n",
    "    pickle.dump( CN2_Cont_Dry, OF, protocol=pickle.HIGHEST_PROTOCOL )\n",
    "# end with"
   ]
  },
  {
   "cell_type": "code",
   "execution_count": null,
   "id": "bbe6f7d7-2dfa-404c-9e28-34551d31995d",
   "metadata": {},
   "outputs": [],
   "source": []
  }
 ],
 "metadata": {
  "kernelspec": {
   "display_name": "Python 3 (ipykernel)",
   "language": "python",
   "name": "python3"
  },
  "language_info": {
   "codemirror_mode": {
    "name": "ipython",
    "version": 3
   },
   "file_extension": ".py",
   "mimetype": "text/x-python",
   "name": "python",
   "nbconvert_exporter": "python",
   "pygments_lexer": "ipython3",
   "version": "3.9.15"
  }
 },
 "nbformat": 4,
 "nbformat_minor": 5
}
