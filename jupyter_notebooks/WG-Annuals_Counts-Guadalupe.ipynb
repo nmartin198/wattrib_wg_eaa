{
 "cells": [
  {
   "cell_type": "markdown",
   "id": "d17701af-73e7-47b3-8cde-e5afb9dfdf23",
   "metadata": {},
   "source": [
    "# Weather Generator, Annual Averages and Counts: Guadalupe"
   ]
  },
  {
   "cell_type": "markdown",
   "id": "fa4c8225-39c3-4591-8323-8e6ec503eaa9",
   "metadata": {},
   "source": [
    "The purpose of this notebook is to calculate annual average precipitation, PET, and deficit for comparison to 1991-2020 values and to count SPEI and SPI values below/above a threshold."
   ]
  },
  {
   "cell_type": "markdown",
   "id": "b84a9524-05c7-4c01-a94f-9195230b27a5",
   "metadata": {},
   "source": [
    "## Imports and Parameters"
   ]
  },
  {
   "cell_type": "code",
   "execution_count": 1,
   "id": "c6b88a2e-4a72-4087-b762-dcbf3fe3f0cf",
   "metadata": {},
   "outputs": [],
   "source": [
    "%matplotlib inline"
   ]
  },
  {
   "cell_type": "code",
   "execution_count": 2,
   "id": "553f2e5e-02fd-42f6-b25a-ff9ab2803a92",
   "metadata": {},
   "outputs": [],
   "source": [
    "import os\n",
    "from IPython.display import display, HTML\n",
    "import pandas as pd\n",
    "import numpy as np\n",
    "import matplotlib as mpl\n",
    "import matplotlib.pyplot as plt\n",
    "from scipy import stats as sstats\n",
    "from math import exp\n",
    "import datetime as dt\n",
    "import seaborn as sns\n",
    "import pickle\n",
    "from copy import deepcopy"
   ]
  },
  {
   "cell_type": "code",
   "execution_count": 3,
   "id": "a795dfa4-f5e5-479a-85e7-4298d189e5b4",
   "metadata": {},
   "outputs": [],
   "source": [
    "BasKey = \"Guadalupe\""
   ]
  },
  {
   "cell_type": "code",
   "execution_count": 4,
   "id": "24768bd8-d0ee-4c66-8e9a-e80b6512cb42",
   "metadata": {},
   "outputs": [],
   "source": [
    "NumReal = 1000"
   ]
  },
  {
   "cell_type": "code",
   "execution_count": 5,
   "id": "9448731a-804d-449c-910c-488bb95a84cf",
   "metadata": {},
   "outputs": [],
   "source": [
    "plt.rcParams['svg.fonttype'] = 'none'"
   ]
  },
  {
   "cell_type": "code",
   "execution_count": 6,
   "id": "87aa9bc7-21e5-488b-901a-145117c3d1b7",
   "metadata": {},
   "outputs": [],
   "source": [
    "IN_DIR1 = r'C:\\Users\\nmartin\\Documents\\EAA_Drought_Future_Weather\\NumModels\\Final\\%s\\Results\\Simulated' % BasKey\n",
    "IN_DIR2 = r'C:\\Users\\nmartin\\Documents\\EAA_HCP\\Data\\SwRI_Processed\\LOCA2\\CN2031_2060'\n",
    "IN_DIR3 = r'C:\\Users\\nmartin\\Documents\\EAA_HCP\\Data\\SwRI_Processed\\Processed_Historical'\n",
    "OUT_DIR = r'C:\\Users\\nmartin\\Documents\\EAA_Drought_Future_Weather\\NumModels\\Final\\%s\\Results\\Processed' % BasKey"
   ]
  },
  {
   "cell_type": "code",
   "execution_count": 7,
   "id": "6c96ee83-328b-4d4f-82dc-002fcc744bae",
   "metadata": {},
   "outputs": [
    {
     "data": {
      "text/plain": [
       "30"
      ]
     },
     "execution_count": 7,
     "metadata": {},
     "output_type": "execute_result"
    }
   ],
   "source": [
    "CNStartTS = pd.Timestamp( 2031, 1, 1, )\n",
    "CNStopTS = pd.Timestamp( 2060, 12, 31, 23, 59, )\n",
    "CNAnnIndexer = pd.date_range( start=CNStartTS, end=CNStopTS, freq='AS' )\n",
    "len( CNAnnIndexer )"
   ]
  },
  {
   "cell_type": "code",
   "execution_count": 8,
   "id": "e12a7a69-4399-429b-857f-10f7ce3cd074",
   "metadata": {},
   "outputs": [
    {
     "data": {
      "text/plain": [
       "42"
      ]
     },
     "execution_count": 8,
     "metadata": {},
     "output_type": "execute_result"
    }
   ],
   "source": [
    "SimStartTS = pd.Timestamp(2024, 1, 1, 0, )\n",
    "SimStopTS = pd.Timestamp( 2065, 12, 31, 23, 59, )\n",
    "OAAnnIndexer = pd.date_range( start=SimStartTS, end=SimStopTS, freq='AS' )\n",
    "len( OAAnnIndexer )"
   ]
  },
  {
   "cell_type": "code",
   "execution_count": 9,
   "id": "d5e13543-1455-4f82-bb28-9dab7b5e6638",
   "metadata": {},
   "outputs": [],
   "source": [
    "ProjFileRoot = \"%s_R%d_DF.pickle\""
   ]
  },
  {
   "cell_type": "code",
   "execution_count": 10,
   "id": "d078d4e0-f628-4bcd-8c5d-5fcaf72b6a2f",
   "metadata": {},
   "outputs": [],
   "source": [
    "ColsList = list()\n",
    "for cR in range(1, NumReal+1):\n",
    "    ColsList.append( \"R%04d\" % cR )\n",
    "# end for"
   ]
  },
  {
   "cell_type": "code",
   "execution_count": 11,
   "id": "9b5e9b1d-0010-46ad-937d-50c19aefa911",
   "metadata": {},
   "outputs": [],
   "source": [
    "# our standard normal or ZScore parameters\n",
    "ZMu = 0.0\n",
    "ZStd = 1.0"
   ]
  },
  {
   "cell_type": "markdown",
   "id": "2b71ef3c-70d0-4f66-b994-e4b9d862f88e",
   "metadata": {},
   "source": [
    "## Collate Annual Averages"
   ]
  },
  {
   "cell_type": "markdown",
   "id": "d3fc85df-c804-4192-a199-98a563b5461d",
   "metadata": {},
   "source": [
    "Go through all realizations and get annual averages for the entire simulation period. Then get just for our analysis interval and get overall averages for the analysis window."
   ]
  },
  {
   "cell_type": "code",
   "execution_count": 12,
   "id": "f2d54ec2-b159-4712-b6d7-f27d76a690fb",
   "metadata": {},
   "outputs": [],
   "source": [
    "AnnPreDF = pd.DataFrame( 0.0, index=OAAnnIndexer, columns=ColsList, dtype=np.float32 )\n",
    "AnnEToDF = pd.DataFrame( 0.0, index=OAAnnIndexer, columns=ColsList, dtype=np.float32 )\n",
    "AnnDefDF = pd.DataFrame( 0.0, index=OAAnnIndexer, columns=ColsList, dtype=np.float32 )"
   ]
  },
  {
   "cell_type": "code",
   "execution_count": 13,
   "id": "f7a7fdfc-70fc-4dac-95a1-b719ccb97ee4",
   "metadata": {},
   "outputs": [],
   "source": [
    "CNAnnPreDF = pd.DataFrame( 0.0, index=CNAnnIndexer, columns=ColsList, dtype=np.float32 )\n",
    "CNAnnEToDF = pd.DataFrame( 0.0, index=CNAnnIndexer, columns=ColsList, dtype=np.float32 )\n",
    "CNAnnDefDF = pd.DataFrame( 0.0, index=CNAnnIndexer, columns=ColsList, dtype=np.float32 )"
   ]
  },
  {
   "cell_type": "code",
   "execution_count": 14,
   "id": "5b2a86b8-478c-486c-9b04-4f5851fbb606",
   "metadata": {},
   "outputs": [],
   "source": [
    "for cR in range(1, NumReal+1):\n",
    "    curCol = \"R%04d\" % cR\n",
    "    InFiler = os.path.normpath( os.path.join( IN_DIR1, ProjFileRoot % (BasKey, cR) ) )\n",
    "    curDF = pd.read_pickle( InFiler, compression='zip' )\n",
    "    cPreDF = curDF[[\"Precip_mm\"]].copy()\n",
    "    cPreDF.columns = [\"Pre_mm\"]\n",
    "    cEToDF = curDF[[\"ETo_mm\"]].copy()\n",
    "    cDefDF = curDF[[\"Def_mm\"]].copy()\n",
    "    curAnnPre = cPreDF.resample( 'AS' ).sum()\n",
    "    curAnnETo = cEToDF.resample( 'AS' ).sum()\n",
    "    curAnnDef = cDefDF.resample( 'AS' ).sum()\n",
    "    # set to the correct time durations\n",
    "    curCNAnnPre = curAnnPre.loc[CNStartTS:CNStopTS].copy()\n",
    "    curCNAnnETo = curAnnETo.loc[CNStartTS:CNStopTS].copy()\n",
    "    curCNAnnDef = curAnnDef.loc[CNStartTS:CNStopTS].copy()\n",
    "    # now assign to our columns in tracking DataFrames\n",
    "    AnnPreDF[curCol] = curAnnPre[\"Pre_mm\"].to_numpy(dtype=np.float32)\n",
    "    AnnEToDF[curCol] = curAnnETo[\"ETo_mm\"].to_numpy(dtype=np.float32)\n",
    "    AnnDefDF[curCol] = curAnnDef[\"Def_mm\"].to_numpy(dtype=np.float32)\n",
    "    CNAnnPreDF[curCol] = curCNAnnPre[\"Pre_mm\"].to_numpy(dtype=np.float32)\n",
    "    CNAnnEToDF[curCol] = curCNAnnETo[\"ETo_mm\"].to_numpy(dtype=np.float32)\n",
    "    CNAnnDefDF[curCol] = curCNAnnDef[\"Def_mm\"].to_numpy(dtype=np.float32)\n",
    "# end for"
   ]
  },
  {
   "cell_type": "code",
   "execution_count": 15,
   "id": "a2671d99-fad7-48c3-a8d3-7e855793d0f0",
   "metadata": {},
   "outputs": [],
   "source": [
    "AnnPreDF[\"EnsAve\"] = AnnPreDF.mean(axis=1)\n",
    "AnnEToDF[\"EnsAve\"] = AnnEToDF.mean(axis=1)\n",
    "AnnDefDF[\"EnsAve\"] = AnnDefDF.mean(axis=1)\n",
    "CNAnnPreDF[\"EnsAve\"] = CNAnnPreDF.mean(axis=1)\n",
    "CNAnnEToDF[\"EnsAve\"] = CNAnnEToDF.mean(axis=1)\n",
    "CNAnnDefDF[\"EnsAve\"] = CNAnnDefDF.mean(axis=1)\n",
    "ColsList.append( \"EnsAve\" )"
   ]
  },
  {
   "cell_type": "code",
   "execution_count": 16,
   "id": "cc1bfa57-d701-48e4-a0d6-efc09a3fd5e5",
   "metadata": {},
   "outputs": [],
   "source": [
    "AnnSummDF = pd.DataFrame( index=[BasKey], data={\"Pre_mm\" : [CNAnnPreDF[\"EnsAve\"].mean(),], \"ETo_mm\" : [CNAnnEToDF[\"EnsAve\"].mean(),], \n",
    "                                                \"Def_mm\" : [CNAnnDefDF[\"EnsAve\"].mean(),],} )"
   ]
  },
  {
   "cell_type": "markdown",
   "id": "68cc9dae-5833-4d8d-8fd2-4617e67080bf",
   "metadata": {},
   "source": [
    "Output to a spreadsheet"
   ]
  },
  {
   "cell_type": "code",
   "execution_count": 17,
   "id": "4083db5e-3a44-4fa6-b8ba-d6a7787eed39",
   "metadata": {},
   "outputs": [],
   "source": [
    "OutFiler = os.path.normpath( os.path.join( OUT_DIR, \"AnnualAverages_%s_%d-Real.xlsx\" % (BasKey, NumReal) ) )\n",
    "writer = pd.ExcelWriter( OutFiler )\n",
    "workbook  = writer.book\n",
    "format1 = workbook.add_format({'num_format': '#,##0.00'})\n",
    "cLabel = \"Summary\"\n",
    "AnnSummDF.to_excel( writer, sheet_name=cLabel, )\n",
    "# adjust columns\n",
    "writer.sheets[cLabel].set_column( 0, 0, 18 )\n",
    "for column in AnnSummDF:\n",
    "    column_width = max(AnnSummDF[column].astype(str).map(len).max()+6, len(column)+6)\n",
    "    col_idx = AnnSummDF.columns.get_loc(column)\n",
    "    writer.sheets[cLabel].set_column(col_idx+1, col_idx+1, column_width, format1)\n",
    "# end for\n",
    "cLabel = \"Pre_mm_all\"\n",
    "AnnPreDF.to_excel( writer, sheet_name=cLabel, index_label=\"DateTime\", columns=ColsList )\n",
    "# adjust columns\n",
    "writer.sheets[cLabel].set_column( 0, 0, 18 )\n",
    "for column in ColsList:\n",
    "    column_width = max(AnnPreDF[column].astype(str).map(len).max()+6, len(column)+6)\n",
    "    col_idx = AnnPreDF.columns.get_loc(column)\n",
    "    writer.sheets[cLabel].set_column(col_idx+1, col_idx+1, column_width, format1)\n",
    "# end for\n",
    "cLabel = \"ETo_mm_all\"\n",
    "AnnEToDF.to_excel( writer, sheet_name=cLabel, index_label=\"DateTime\", columns=ColsList )\n",
    "# adjust columns\n",
    "writer.sheets[cLabel].set_column( 0, 0, 18 )\n",
    "for column in ColsList:\n",
    "    column_width = max(AnnEToDF[column].astype(str).map(len).max()+6, len(column)+6)\n",
    "    col_idx = AnnEToDF.columns.get_loc(column)\n",
    "    writer.sheets[cLabel].set_column(col_idx+1, col_idx+1, column_width, format1)\n",
    "# end for\n",
    "cLabel = \"Def_mm_all\"\n",
    "AnnDefDF.to_excel( writer, sheet_name=cLabel, index_label=\"DateTime\", columns=ColsList )\n",
    "# adjust columns\n",
    "writer.sheets[cLabel].set_column( 0, 0, 18 )\n",
    "for column in ColsList:\n",
    "    column_width = max(AnnDefDF[column].astype(str).map(len).max()+6, len(column)+6)\n",
    "    col_idx = AnnDefDF.columns.get_loc(column)\n",
    "    writer.sheets[cLabel].set_column(col_idx+1, col_idx+1, column_width, format1)\n",
    "# end for\n",
    "cLabel = \"Pre_mm_CN\"\n",
    "CNAnnPreDF.to_excel( writer, sheet_name=cLabel, index_label=\"DateTime\", columns=ColsList )\n",
    "# adjust columns\n",
    "writer.sheets[cLabel].set_column( 0, 0, 18 )\n",
    "for column in ColsList:\n",
    "    column_width = max(CNAnnPreDF[column].astype(str).map(len).max()+6, len(column)+6)\n",
    "    col_idx = CNAnnPreDF.columns.get_loc(column)\n",
    "    writer.sheets[cLabel].set_column(col_idx+1, col_idx+1, column_width, format1)\n",
    "# end for\n",
    "cLabel = \"ETo_mm_CN\"\n",
    "CNAnnEToDF.to_excel( writer, sheet_name=cLabel, index_label=\"DateTime\", columns=ColsList )\n",
    "# adjust columns\n",
    "writer.sheets[cLabel].set_column( 0, 0, 18 )\n",
    "for column in ColsList:\n",
    "    column_width = max(CNAnnEToDF[column].astype(str).map(len).max()+6, len(column)+6)\n",
    "    col_idx = CNAnnEToDF.columns.get_loc(column)\n",
    "    writer.sheets[cLabel].set_column(col_idx+1, col_idx+1, column_width, format1)\n",
    "# end for\n",
    "cLabel = \"Def_mm_CN\"\n",
    "CNAnnDefDF.to_excel( writer, sheet_name=cLabel, index_label=\"DateTime\", columns=ColsList )\n",
    "# adjust columns\n",
    "writer.sheets[cLabel].set_column( 0, 0, 18 )\n",
    "for column in ColsList:\n",
    "    column_width = max(CNAnnDefDF[column].astype(str).map(len).max()+6, len(column)+6)\n",
    "    col_idx = CNAnnDefDF.columns.get_loc(column)\n",
    "    writer.sheets[cLabel].set_column(col_idx+1, col_idx+1, column_width, format1)\n",
    "# end for\n",
    "writer.close()"
   ]
  },
  {
   "cell_type": "markdown",
   "id": "8cc3ed6f-0207-4113-ac19-bc9da4cc1edd",
   "metadata": {},
   "source": [
    "## Get SPEI and SPI Counts"
   ]
  },
  {
   "cell_type": "markdown",
   "id": "5a30dc5e-3977-4eaf-8de2-9faee359fc1e",
   "metadata": {},
   "source": [
    "Get our counts for SPEI $\\le$ -1.5 and for SPI $\\ge$ 1.5"
   ]
  },
  {
   "cell_type": "code",
   "execution_count": 18,
   "id": "bc1b4225-5b47-429b-91e1-68579d75d744",
   "metadata": {},
   "outputs": [
    {
     "data": {
      "text/plain": [
       "(0.06680720126885807, 0.016666666666666666, 14.968446230453697)"
      ]
     },
     "execution_count": 18,
     "metadata": {},
     "output_type": "execute_result"
    }
   ],
   "source": [
    "F_SPEI = sstats.norm.cdf( -1.5, loc=ZMu, scale=ZStd )\n",
    "F_SPEI, 1.0/60.0, 1.0/F_SPEI"
   ]
  },
  {
   "cell_type": "code",
   "execution_count": 19,
   "id": "09377aa9-7641-40f2-ad6e-420cf927a656",
   "metadata": {},
   "outputs": [
    {
     "data": {
      "text/plain": [
       "(0.9331927987311419,\n",
       " 0.06680720126885809,\n",
       " 0.016666666666666666,\n",
       " 14.968446230453694)"
      ]
     },
     "execution_count": 19,
     "metadata": {},
     "output_type": "execute_result"
    }
   ],
   "source": [
    "F_SPI = sstats.norm.cdf( 1.5, loc=ZMu, scale=ZStd )\n",
    "F_SPI, (1.0 - F_SPI), 1.0/60.0, (1.0/(1.0-F_SPI))"
   ]
  },
  {
   "cell_type": "code",
   "execution_count": 20,
   "id": "d770a46f-efd3-4387-9dee-f8c21f2d3e3e",
   "metadata": {},
   "outputs": [],
   "source": [
    "InFiler = os.path.normpath( os.path.join( OUT_DIR, \"%s_SPEI.xlsx\" % BasKey ) )\n",
    "SpeiDF = pd.read_excel( InFiler, sheet_name=\"SPEI_3mo\", header=0, index_col=0, parse_dates=True )"
   ]
  },
  {
   "cell_type": "code",
   "execution_count": 21,
   "id": "e7f17f48-d42f-4099-8e7b-f00a4608f476",
   "metadata": {},
   "outputs": [],
   "source": [
    "InFiler = os.path.normpath( os.path.join( OUT_DIR, \"%s_SPI.xlsx\" % BasKey ) )\n",
    "SpiDF = pd.read_excel( InFiler, sheet_name=\"SPI_3mo\", header=0, index_col=0, parse_dates=True )"
   ]
  },
  {
   "cell_type": "code",
   "execution_count": 22,
   "id": "3f5a0a08-a7a5-48b0-a0c1-c2f616223999",
   "metadata": {},
   "outputs": [],
   "source": [
    "HistSPEIDF = SpeiDF[[\"SPEI (1981-2010)\"]].copy()\n",
    "L2SPEIDF = SpeiDF[[\"LOCA2 SPEI (2031-2060)\"]].copy()\n",
    "WGSPEIDF = SpeiDF[[\"WG SPEI (2031-2060)\"]].copy()"
   ]
  },
  {
   "cell_type": "code",
   "execution_count": 23,
   "id": "2efa42b2-d85d-4112-8357-def54e0a5150",
   "metadata": {},
   "outputs": [
    {
     "data": {
      "text/plain": [
       "31"
      ]
     },
     "execution_count": 23,
     "metadata": {},
     "output_type": "execute_result"
    }
   ],
   "source": [
    "HistSPEIDF = HistSPEIDF[HistSPEIDF[\"SPEI (1981-2010)\"] <= -1.5].copy()\n",
    "NumHist = len( HistSPEIDF )\n",
    "NumHist"
   ]
  },
  {
   "cell_type": "code",
   "execution_count": 24,
   "id": "e76d1b6c-94ce-4b1d-b3d3-652841d84b93",
   "metadata": {},
   "outputs": [
    {
     "data": {
      "text/html": [
       "<table border=\"1\" class=\"dataframe\">\n",
       "  <thead>\n",
       "    <tr style=\"text-align: right;\">\n",
       "      <th></th>\n",
       "      <th>SPEI (1981-2010)</th>\n",
       "    </tr>\n",
       "    <tr>\n",
       "      <th>DateTime</th>\n",
       "      <th></th>\n",
       "    </tr>\n",
       "  </thead>\n",
       "  <tbody>\n",
       "    <tr>\n",
       "      <th>1996-03-01</th>\n",
       "      <td>-1.580391</td>\n",
       "    </tr>\n",
       "    <tr>\n",
       "      <th>1998-06-01</th>\n",
       "      <td>-1.785529</td>\n",
       "    </tr>\n",
       "    <tr>\n",
       "      <th>1998-07-01</th>\n",
       "      <td>-1.709620</td>\n",
       "    </tr>\n",
       "    <tr>\n",
       "      <th>1999-02-01</th>\n",
       "      <td>-1.510192</td>\n",
       "    </tr>\n",
       "    <tr>\n",
       "      <th>1999-10-01</th>\n",
       "      <td>-1.999262</td>\n",
       "    </tr>\n",
       "    <tr>\n",
       "      <th>1999-11-01</th>\n",
       "      <td>-1.805317</td>\n",
       "    </tr>\n",
       "    <tr>\n",
       "      <th>2000-01-01</th>\n",
       "      <td>-1.518262</td>\n",
       "    </tr>\n",
       "    <tr>\n",
       "      <th>2000-09-01</th>\n",
       "      <td>-1.608277</td>\n",
       "    </tr>\n",
       "    <tr>\n",
       "      <th>2003-05-01</th>\n",
       "      <td>-1.722705</td>\n",
       "    </tr>\n",
       "    <tr>\n",
       "      <th>2006-01-01</th>\n",
       "      <td>-1.530909</td>\n",
       "    </tr>\n",
       "    <tr>\n",
       "      <th>2008-06-01</th>\n",
       "      <td>-1.568559</td>\n",
       "    </tr>\n",
       "    <tr>\n",
       "      <th>2008-11-01</th>\n",
       "      <td>-1.709431</td>\n",
       "    </tr>\n",
       "    <tr>\n",
       "      <th>2009-01-01</th>\n",
       "      <td>-1.645045</td>\n",
       "    </tr>\n",
       "    <tr>\n",
       "      <th>2009-02-01</th>\n",
       "      <td>-1.594970</td>\n",
       "    </tr>\n",
       "    <tr>\n",
       "      <th>2009-08-01</th>\n",
       "      <td>-1.755086</td>\n",
       "    </tr>\n",
       "    <tr>\n",
       "      <th>2011-04-01</th>\n",
       "      <td>-2.128045</td>\n",
       "    </tr>\n",
       "    <tr>\n",
       "      <th>2011-05-01</th>\n",
       "      <td>-2.128045</td>\n",
       "    </tr>\n",
       "    <tr>\n",
       "      <th>2011-06-01</th>\n",
       "      <td>-2.128045</td>\n",
       "    </tr>\n",
       "    <tr>\n",
       "      <th>2011-07-01</th>\n",
       "      <td>-1.976064</td>\n",
       "    </tr>\n",
       "    <tr>\n",
       "      <th>2011-08-01</th>\n",
       "      <td>-2.128045</td>\n",
       "    </tr>\n",
       "    <tr>\n",
       "      <th>2011-09-01</th>\n",
       "      <td>-1.988738</td>\n",
       "    </tr>\n",
       "    <tr>\n",
       "      <th>2011-10-01</th>\n",
       "      <td>-1.785491</td>\n",
       "    </tr>\n",
       "    <tr>\n",
       "      <th>2014-03-01</th>\n",
       "      <td>-1.551013</td>\n",
       "    </tr>\n",
       "    <tr>\n",
       "      <th>2015-09-01</th>\n",
       "      <td>-1.619808</td>\n",
       "    </tr>\n",
       "    <tr>\n",
       "      <th>2019-09-01</th>\n",
       "      <td>-1.509289</td>\n",
       "    </tr>\n",
       "    <tr>\n",
       "      <th>2022-02-01</th>\n",
       "      <td>-1.583847</td>\n",
       "    </tr>\n",
       "    <tr>\n",
       "      <th>2022-03-01</th>\n",
       "      <td>-1.844239</td>\n",
       "    </tr>\n",
       "    <tr>\n",
       "      <th>2022-04-01</th>\n",
       "      <td>-1.987156</td>\n",
       "    </tr>\n",
       "    <tr>\n",
       "      <th>2022-05-01</th>\n",
       "      <td>-2.079178</td>\n",
       "    </tr>\n",
       "    <tr>\n",
       "      <th>2022-06-01</th>\n",
       "      <td>-2.017519</td>\n",
       "    </tr>\n",
       "    <tr>\n",
       "      <th>2022-07-01</th>\n",
       "      <td>-1.919339</td>\n",
       "    </tr>\n",
       "  </tbody>\n",
       "</table>"
      ],
      "text/plain": [
       "<IPython.core.display.HTML object>"
      ]
     },
     "metadata": {},
     "output_type": "display_data"
    }
   ],
   "source": [
    "display( HTML( HistSPEIDF.to_html() ) )"
   ]
  },
  {
   "cell_type": "code",
   "execution_count": 25,
   "id": "20d7e24b-5ac5-45ea-8db1-15e66d6d63b0",
   "metadata": {},
   "outputs": [
    {
     "data": {
      "text/plain": [
       "-2.128045320510864"
      ]
     },
     "execution_count": 25,
     "metadata": {},
     "output_type": "execute_result"
    }
   ],
   "source": [
    "HistSPEIDF[\"SPEI (1981-2010)\"].min()"
   ]
  },
  {
   "cell_type": "code",
   "execution_count": 26,
   "id": "ebde906e-de7e-407b-9137-d03de7f87704",
   "metadata": {},
   "outputs": [
    {
     "data": {
      "text/plain": [
       "4"
      ]
     },
     "execution_count": 26,
     "metadata": {},
     "output_type": "execute_result"
    }
   ],
   "source": [
    "L2SPEIDF = L2SPEIDF[L2SPEIDF[\"LOCA2 SPEI (2031-2060)\"] <= -1.5].copy()\n",
    "NumL2 = len( L2SPEIDF )\n",
    "NumL2"
   ]
  },
  {
   "cell_type": "code",
   "execution_count": 27,
   "id": "6b129455-efe1-40cd-a3da-471c993b55a2",
   "metadata": {},
   "outputs": [
    {
     "data": {
      "text/html": [
       "<table border=\"1\" class=\"dataframe\">\n",
       "  <thead>\n",
       "    <tr style=\"text-align: right;\">\n",
       "      <th></th>\n",
       "      <th>LOCA2 SPEI (2031-2060)</th>\n",
       "    </tr>\n",
       "    <tr>\n",
       "      <th>DateTime</th>\n",
       "      <th></th>\n",
       "    </tr>\n",
       "  </thead>\n",
       "  <tbody>\n",
       "    <tr>\n",
       "      <th>2011-04-01</th>\n",
       "      <td>-1.747939</td>\n",
       "    </tr>\n",
       "    <tr>\n",
       "      <th>2011-05-01</th>\n",
       "      <td>-1.761278</td>\n",
       "    </tr>\n",
       "    <tr>\n",
       "      <th>2011-06-01</th>\n",
       "      <td>-1.683201</td>\n",
       "    </tr>\n",
       "    <tr>\n",
       "      <th>2022-06-01</th>\n",
       "      <td>-1.555324</td>\n",
       "    </tr>\n",
       "  </tbody>\n",
       "</table>"
      ],
      "text/plain": [
       "<IPython.core.display.HTML object>"
      ]
     },
     "metadata": {},
     "output_type": "display_data"
    }
   ],
   "source": [
    "display( HTML( L2SPEIDF.to_html() ) )"
   ]
  },
  {
   "cell_type": "code",
   "execution_count": 28,
   "id": "c303ac5e-3a06-4e1c-b596-444fc5a4953b",
   "metadata": {},
   "outputs": [
    {
     "data": {
      "text/plain": [
       "-1.761278390884399"
      ]
     },
     "execution_count": 28,
     "metadata": {},
     "output_type": "execute_result"
    }
   ],
   "source": [
    "L2SPEIDF[\"LOCA2 SPEI (2031-2060)\"].min()"
   ]
  },
  {
   "cell_type": "code",
   "execution_count": 29,
   "id": "998879b6-4571-4d14-904b-8b8a7080c67f",
   "metadata": {},
   "outputs": [
    {
     "data": {
      "text/plain": [
       "-1.695295453071594"
      ]
     },
     "execution_count": 29,
     "metadata": {},
     "output_type": "execute_result"
    }
   ],
   "source": [
    "WGSPEIDF[\"WG SPEI (2031-2060)\"].min()"
   ]
  },
  {
   "cell_type": "code",
   "execution_count": 30,
   "id": "2422c6e8-3296-434c-a675-b68a9f4bfb04",
   "metadata": {},
   "outputs": [
    {
     "data": {
      "text/plain": [
       "5"
      ]
     },
     "execution_count": 30,
     "metadata": {},
     "output_type": "execute_result"
    }
   ],
   "source": [
    "WGSPEIDF = WGSPEIDF[WGSPEIDF[\"WG SPEI (2031-2060)\"] <= -1.5].copy()\n",
    "NumWG = len( WGSPEIDF )\n",
    "NumWG"
   ]
  },
  {
   "cell_type": "code",
   "execution_count": 31,
   "id": "c49863ce-e983-492a-a8bf-0dd4c4cd0fdb",
   "metadata": {},
   "outputs": [
    {
     "data": {
      "text/html": [
       "<table border=\"1\" class=\"dataframe\">\n",
       "  <thead>\n",
       "    <tr style=\"text-align: right;\">\n",
       "      <th></th>\n",
       "      <th>WG SPEI (2031-2060)</th>\n",
       "    </tr>\n",
       "    <tr>\n",
       "      <th>DateTime</th>\n",
       "      <th></th>\n",
       "    </tr>\n",
       "  </thead>\n",
       "  <tbody>\n",
       "    <tr>\n",
       "      <th>2011-04-01</th>\n",
       "      <td>-1.508221</td>\n",
       "    </tr>\n",
       "    <tr>\n",
       "      <th>2011-05-01</th>\n",
       "      <td>-1.597252</td>\n",
       "    </tr>\n",
       "    <tr>\n",
       "      <th>2011-06-01</th>\n",
       "      <td>-1.695295</td>\n",
       "    </tr>\n",
       "    <tr>\n",
       "      <th>2011-08-01</th>\n",
       "      <td>-1.645937</td>\n",
       "    </tr>\n",
       "    <tr>\n",
       "      <th>2022-06-01</th>\n",
       "      <td>-1.517172</td>\n",
       "    </tr>\n",
       "  </tbody>\n",
       "</table>"
      ],
      "text/plain": [
       "<IPython.core.display.HTML object>"
      ]
     },
     "metadata": {},
     "output_type": "display_data"
    }
   ],
   "source": [
    "display( HTML( WGSPEIDF.to_html() ) )"
   ]
  },
  {
   "cell_type": "markdown",
   "id": "e867e120-9e88-4cbb-b626-b993c6c868e9",
   "metadata": {},
   "source": [
    "SPI"
   ]
  },
  {
   "cell_type": "code",
   "execution_count": 32,
   "id": "822bd0aa-3b7e-48a0-936a-49b84b469279",
   "metadata": {},
   "outputs": [],
   "source": [
    "HistSPIDF = SpiDF[[\"SPI (1981-2010)\"]].copy()\n",
    "L2SPIDF = SpiDF[[\"LOCA2 SPI (2031-2060)\"]].copy()\n",
    "WGSPIDF = SpiDF[[\"WG SPI (2031-2060)\"]].copy()"
   ]
  },
  {
   "cell_type": "code",
   "execution_count": 33,
   "id": "eae815bb-0ba9-401d-a262-bc74bfb25f50",
   "metadata": {},
   "outputs": [
    {
     "data": {
      "text/plain": [
       "21"
      ]
     },
     "execution_count": 33,
     "metadata": {},
     "output_type": "execute_result"
    }
   ],
   "source": [
    "HistSPIDF = HistSPIDF[HistSPIDF[\"SPI (1981-2010)\"] >= 1.5].copy()\n",
    "NumHistSPI = len( HistSPIDF )\n",
    "NumHistSPI"
   ]
  },
  {
   "cell_type": "code",
   "execution_count": 34,
   "id": "1c0cbd65-b786-4f4f-ad54-db9298dc787c",
   "metadata": {},
   "outputs": [
    {
     "data": {
      "text/html": [
       "<table border=\"1\" class=\"dataframe\">\n",
       "  <thead>\n",
       "    <tr style=\"text-align: right;\">\n",
       "      <th></th>\n",
       "      <th>SPI (1981-2010)</th>\n",
       "    </tr>\n",
       "    <tr>\n",
       "      <th>DateTime</th>\n",
       "      <th></th>\n",
       "    </tr>\n",
       "  </thead>\n",
       "  <tbody>\n",
       "    <tr>\n",
       "      <th>1997-04-01</th>\n",
       "      <td>1.806480</td>\n",
       "    </tr>\n",
       "    <tr>\n",
       "      <th>1997-06-01</th>\n",
       "      <td>1.901136</td>\n",
       "    </tr>\n",
       "    <tr>\n",
       "      <th>1998-10-01</th>\n",
       "      <td>2.261055</td>\n",
       "    </tr>\n",
       "    <tr>\n",
       "      <th>2000-11-01</th>\n",
       "      <td>1.991090</td>\n",
       "    </tr>\n",
       "    <tr>\n",
       "      <th>2001-01-01</th>\n",
       "      <td>1.619344</td>\n",
       "    </tr>\n",
       "    <tr>\n",
       "      <th>2002-07-01</th>\n",
       "      <td>1.781034</td>\n",
       "    </tr>\n",
       "    <tr>\n",
       "      <th>2002-08-01</th>\n",
       "      <td>1.847511</td>\n",
       "    </tr>\n",
       "    <tr>\n",
       "      <th>2002-09-01</th>\n",
       "      <td>1.914480</td>\n",
       "    </tr>\n",
       "    <tr>\n",
       "      <th>2004-04-01</th>\n",
       "      <td>1.660033</td>\n",
       "    </tr>\n",
       "    <tr>\n",
       "      <th>2004-06-01</th>\n",
       "      <td>1.617573</td>\n",
       "    </tr>\n",
       "    <tr>\n",
       "      <th>2007-03-01</th>\n",
       "      <td>1.695870</td>\n",
       "    </tr>\n",
       "    <tr>\n",
       "      <th>2007-05-01</th>\n",
       "      <td>2.357701</td>\n",
       "    </tr>\n",
       "    <tr>\n",
       "      <th>2007-07-01</th>\n",
       "      <td>1.734201</td>\n",
       "    </tr>\n",
       "    <tr>\n",
       "      <th>2007-08-01</th>\n",
       "      <td>1.851528</td>\n",
       "    </tr>\n",
       "    <tr>\n",
       "      <th>2007-09-01</th>\n",
       "      <td>1.866671</td>\n",
       "    </tr>\n",
       "    <tr>\n",
       "      <th>2015-05-01</th>\n",
       "      <td>2.684495</td>\n",
       "    </tr>\n",
       "    <tr>\n",
       "      <th>2015-06-01</th>\n",
       "      <td>2.013737</td>\n",
       "    </tr>\n",
       "    <tr>\n",
       "      <th>2016-05-01</th>\n",
       "      <td>2.284752</td>\n",
       "    </tr>\n",
       "    <tr>\n",
       "      <th>2018-09-01</th>\n",
       "      <td>1.519652</td>\n",
       "    </tr>\n",
       "    <tr>\n",
       "      <th>2018-10-01</th>\n",
       "      <td>2.491964</td>\n",
       "    </tr>\n",
       "    <tr>\n",
       "      <th>2018-11-01</th>\n",
       "      <td>2.068970</td>\n",
       "    </tr>\n",
       "  </tbody>\n",
       "</table>"
      ],
      "text/plain": [
       "<IPython.core.display.HTML object>"
      ]
     },
     "metadata": {},
     "output_type": "display_data"
    }
   ],
   "source": [
    "display( HTML( HistSPIDF.to_html() ) )"
   ]
  },
  {
   "cell_type": "code",
   "execution_count": 35,
   "id": "fec88606-6529-4f2f-92fd-61711d9c66c0",
   "metadata": {},
   "outputs": [
    {
     "data": {
      "text/plain": [
       "2.684494972229004"
      ]
     },
     "execution_count": 35,
     "metadata": {},
     "output_type": "execute_result"
    }
   ],
   "source": [
    "HistSPIDF[\"SPI (1981-2010)\"].max()"
   ]
  },
  {
   "cell_type": "code",
   "execution_count": 36,
   "id": "784b194e-0f1e-4263-9e51-9e80dfeaab89",
   "metadata": {},
   "outputs": [
    {
     "data": {
      "text/plain": [
       "43"
      ]
     },
     "execution_count": 36,
     "metadata": {},
     "output_type": "execute_result"
    }
   ],
   "source": [
    "L2SPIDF = L2SPIDF[L2SPIDF[\"LOCA2 SPI (2031-2060)\"] >= 1.5].copy()\n",
    "NumL2SPI = len( L2SPIDF )\n",
    "NumL2SPI"
   ]
  },
  {
   "cell_type": "code",
   "execution_count": 37,
   "id": "2bd15730-24e0-4294-a30f-b14b64da1893",
   "metadata": {},
   "outputs": [
    {
     "data": {
      "text/html": [
       "<table border=\"1\" class=\"dataframe\">\n",
       "  <thead>\n",
       "    <tr style=\"text-align: right;\">\n",
       "      <th></th>\n",
       "      <th>LOCA2 SPI (2031-2060)</th>\n",
       "    </tr>\n",
       "    <tr>\n",
       "      <th>DateTime</th>\n",
       "      <th></th>\n",
       "    </tr>\n",
       "  </thead>\n",
       "  <tbody>\n",
       "    <tr>\n",
       "      <th>1997-03-01</th>\n",
       "      <td>1.532912</td>\n",
       "    </tr>\n",
       "    <tr>\n",
       "      <th>1997-04-01</th>\n",
       "      <td>2.477806</td>\n",
       "    </tr>\n",
       "    <tr>\n",
       "      <th>1997-05-01</th>\n",
       "      <td>1.599656</td>\n",
       "    </tr>\n",
       "    <tr>\n",
       "      <th>1997-06-01</th>\n",
       "      <td>2.427313</td>\n",
       "    </tr>\n",
       "    <tr>\n",
       "      <th>1998-02-01</th>\n",
       "      <td>1.806588</td>\n",
       "    </tr>\n",
       "    <tr>\n",
       "      <th>1998-03-01</th>\n",
       "      <td>1.845180</td>\n",
       "    </tr>\n",
       "    <tr>\n",
       "      <th>1998-10-01</th>\n",
       "      <td>1.900947</td>\n",
       "    </tr>\n",
       "    <tr>\n",
       "      <th>1998-12-01</th>\n",
       "      <td>1.827107</td>\n",
       "    </tr>\n",
       "    <tr>\n",
       "      <th>2000-11-01</th>\n",
       "      <td>1.837873</td>\n",
       "    </tr>\n",
       "    <tr>\n",
       "      <th>2000-12-01</th>\n",
       "      <td>2.664743</td>\n",
       "    </tr>\n",
       "    <tr>\n",
       "      <th>2001-01-01</th>\n",
       "      <td>2.654517</td>\n",
       "    </tr>\n",
       "    <tr>\n",
       "      <th>2002-07-01</th>\n",
       "      <td>2.260571</td>\n",
       "    </tr>\n",
       "    <tr>\n",
       "      <th>2002-08-01</th>\n",
       "      <td>2.314528</td>\n",
       "    </tr>\n",
       "    <tr>\n",
       "      <th>2002-09-01</th>\n",
       "      <td>1.868640</td>\n",
       "    </tr>\n",
       "    <tr>\n",
       "      <th>2002-12-01</th>\n",
       "      <td>1.572565</td>\n",
       "    </tr>\n",
       "    <tr>\n",
       "      <th>2004-04-01</th>\n",
       "      <td>2.308140</td>\n",
       "    </tr>\n",
       "    <tr>\n",
       "      <th>2004-06-01</th>\n",
       "      <td>2.089136</td>\n",
       "    </tr>\n",
       "    <tr>\n",
       "      <th>2004-08-01</th>\n",
       "      <td>1.551978</td>\n",
       "    </tr>\n",
       "    <tr>\n",
       "      <th>2004-12-01</th>\n",
       "      <td>1.785762</td>\n",
       "    </tr>\n",
       "    <tr>\n",
       "      <th>2005-01-01</th>\n",
       "      <td>1.592409</td>\n",
       "    </tr>\n",
       "    <tr>\n",
       "      <th>2007-03-01</th>\n",
       "      <td>2.728591</td>\n",
       "    </tr>\n",
       "    <tr>\n",
       "      <th>2007-04-01</th>\n",
       "      <td>2.033988</td>\n",
       "    </tr>\n",
       "    <tr>\n",
       "      <th>2007-05-01</th>\n",
       "      <td>2.489884</td>\n",
       "    </tr>\n",
       "    <tr>\n",
       "      <th>2007-06-01</th>\n",
       "      <td>1.573085</td>\n",
       "    </tr>\n",
       "    <tr>\n",
       "      <th>2007-07-01</th>\n",
       "      <td>2.204479</td>\n",
       "    </tr>\n",
       "    <tr>\n",
       "      <th>2007-08-01</th>\n",
       "      <td>2.319328</td>\n",
       "    </tr>\n",
       "    <tr>\n",
       "      <th>2007-09-01</th>\n",
       "      <td>1.817551</td>\n",
       "    </tr>\n",
       "    <tr>\n",
       "      <th>2010-02-01</th>\n",
       "      <td>1.835527</td>\n",
       "    </tr>\n",
       "    <tr>\n",
       "      <th>2010-03-01</th>\n",
       "      <td>1.831928</td>\n",
       "    </tr>\n",
       "    <tr>\n",
       "      <th>2010-04-01</th>\n",
       "      <td>1.611020</td>\n",
       "    </tr>\n",
       "    <tr>\n",
       "      <th>2012-02-01</th>\n",
       "      <td>1.643734</td>\n",
       "    </tr>\n",
       "    <tr>\n",
       "      <th>2012-03-01</th>\n",
       "      <td>1.632646</td>\n",
       "    </tr>\n",
       "    <tr>\n",
       "      <th>2015-05-01</th>\n",
       "      <td>2.784317</td>\n",
       "    </tr>\n",
       "    <tr>\n",
       "      <th>2015-06-01</th>\n",
       "      <td>2.562510</td>\n",
       "    </tr>\n",
       "    <tr>\n",
       "      <th>2015-07-01</th>\n",
       "      <td>1.767775</td>\n",
       "    </tr>\n",
       "    <tr>\n",
       "      <th>2015-12-01</th>\n",
       "      <td>1.931187</td>\n",
       "    </tr>\n",
       "    <tr>\n",
       "      <th>2016-04-01</th>\n",
       "      <td>1.564331</td>\n",
       "    </tr>\n",
       "    <tr>\n",
       "      <th>2016-05-01</th>\n",
       "      <td>2.424058</td>\n",
       "    </tr>\n",
       "    <tr>\n",
       "      <th>2016-06-01</th>\n",
       "      <td>1.793445</td>\n",
       "    </tr>\n",
       "    <tr>\n",
       "      <th>2017-02-01</th>\n",
       "      <td>1.657218</td>\n",
       "    </tr>\n",
       "    <tr>\n",
       "      <th>2018-10-01</th>\n",
       "      <td>2.072531</td>\n",
       "    </tr>\n",
       "    <tr>\n",
       "      <th>2018-11-01</th>\n",
       "      <td>1.902141</td>\n",
       "    </tr>\n",
       "    <tr>\n",
       "      <th>2018-12-01</th>\n",
       "      <td>1.620686</td>\n",
       "    </tr>\n",
       "  </tbody>\n",
       "</table>"
      ],
      "text/plain": [
       "<IPython.core.display.HTML object>"
      ]
     },
     "metadata": {},
     "output_type": "display_data"
    }
   ],
   "source": [
    "display( HTML( L2SPIDF.to_html() ) )"
   ]
  },
  {
   "cell_type": "code",
   "execution_count": 38,
   "id": "ae6d6cb6-5aae-4690-8602-61192b942124",
   "metadata": {},
   "outputs": [
    {
     "data": {
      "text/plain": [
       "2.784317016601562"
      ]
     },
     "execution_count": 38,
     "metadata": {},
     "output_type": "execute_result"
    }
   ],
   "source": [
    "L2SPIDF[\"LOCA2 SPI (2031-2060)\"].max()"
   ]
  },
  {
   "cell_type": "code",
   "execution_count": 39,
   "id": "44058602-4ad6-4761-bd3b-8035d9ac815c",
   "metadata": {},
   "outputs": [
    {
     "data": {
      "text/plain": [
       "46"
      ]
     },
     "execution_count": 39,
     "metadata": {},
     "output_type": "execute_result"
    }
   ],
   "source": [
    "WGSPIDF = WGSPIDF[WGSPIDF[\"WG SPI (2031-2060)\"] >= 1.5].copy()\n",
    "NumWGSPI = len( WGSPIDF )\n",
    "NumWGSPI"
   ]
  },
  {
   "cell_type": "code",
   "execution_count": 40,
   "id": "5a79d7f4-c5de-4c77-a52e-4610d5701d59",
   "metadata": {},
   "outputs": [
    {
     "data": {
      "text/html": [
       "<table border=\"1\" class=\"dataframe\">\n",
       "  <thead>\n",
       "    <tr style=\"text-align: right;\">\n",
       "      <th></th>\n",
       "      <th>WG SPI (2031-2060)</th>\n",
       "    </tr>\n",
       "    <tr>\n",
       "      <th>DateTime</th>\n",
       "      <th></th>\n",
       "    </tr>\n",
       "  </thead>\n",
       "  <tbody>\n",
       "    <tr>\n",
       "      <th>1994-11-01</th>\n",
       "      <td>1.783682</td>\n",
       "    </tr>\n",
       "    <tr>\n",
       "      <th>1994-12-01</th>\n",
       "      <td>3.347283</td>\n",
       "    </tr>\n",
       "    <tr>\n",
       "      <th>1996-11-01</th>\n",
       "      <td>1.804406</td>\n",
       "    </tr>\n",
       "    <tr>\n",
       "      <th>1996-12-01</th>\n",
       "      <td>2.737886</td>\n",
       "    </tr>\n",
       "    <tr>\n",
       "      <th>1997-06-01</th>\n",
       "      <td>2.393750</td>\n",
       "    </tr>\n",
       "    <tr>\n",
       "      <th>1997-07-01</th>\n",
       "      <td>1.812595</td>\n",
       "    </tr>\n",
       "    <tr>\n",
       "      <th>1997-12-01</th>\n",
       "      <td>2.399478</td>\n",
       "    </tr>\n",
       "    <tr>\n",
       "      <th>1998-10-01</th>\n",
       "      <td>3.330446</td>\n",
       "    </tr>\n",
       "    <tr>\n",
       "      <th>1998-11-01</th>\n",
       "      <td>2.758671</td>\n",
       "    </tr>\n",
       "    <tr>\n",
       "      <th>1998-12-01</th>\n",
       "      <td>3.875608</td>\n",
       "    </tr>\n",
       "    <tr>\n",
       "      <th>2000-11-01</th>\n",
       "      <td>3.907282</td>\n",
       "    </tr>\n",
       "    <tr>\n",
       "      <th>2000-12-01</th>\n",
       "      <td>5.118559</td>\n",
       "    </tr>\n",
       "    <tr>\n",
       "      <th>2001-01-01</th>\n",
       "      <td>2.105273</td>\n",
       "    </tr>\n",
       "    <tr>\n",
       "      <th>2001-11-01</th>\n",
       "      <td>2.131758</td>\n",
       "    </tr>\n",
       "    <tr>\n",
       "      <th>2001-12-01</th>\n",
       "      <td>3.166652</td>\n",
       "    </tr>\n",
       "    <tr>\n",
       "      <th>2002-07-01</th>\n",
       "      <td>3.039362</td>\n",
       "    </tr>\n",
       "    <tr>\n",
       "      <th>2002-08-01</th>\n",
       "      <td>3.034158</td>\n",
       "    </tr>\n",
       "    <tr>\n",
       "      <th>2002-09-01</th>\n",
       "      <td>3.246090</td>\n",
       "    </tr>\n",
       "    <tr>\n",
       "      <th>2002-11-01</th>\n",
       "      <td>2.226193</td>\n",
       "    </tr>\n",
       "    <tr>\n",
       "      <th>2002-12-01</th>\n",
       "      <td>3.499211</td>\n",
       "    </tr>\n",
       "    <tr>\n",
       "      <th>2004-06-01</th>\n",
       "      <td>1.978430</td>\n",
       "    </tr>\n",
       "    <tr>\n",
       "      <th>2004-11-01</th>\n",
       "      <td>2.849000</td>\n",
       "    </tr>\n",
       "    <tr>\n",
       "      <th>2004-12-01</th>\n",
       "      <td>3.814428</td>\n",
       "    </tr>\n",
       "    <tr>\n",
       "      <th>2007-05-01</th>\n",
       "      <td>2.150603</td>\n",
       "    </tr>\n",
       "    <tr>\n",
       "      <th>2007-07-01</th>\n",
       "      <td>2.949562</td>\n",
       "    </tr>\n",
       "    <tr>\n",
       "      <th>2007-08-01</th>\n",
       "      <td>3.044204</td>\n",
       "    </tr>\n",
       "    <tr>\n",
       "      <th>2007-09-01</th>\n",
       "      <td>3.125909</td>\n",
       "    </tr>\n",
       "    <tr>\n",
       "      <th>2009-10-01</th>\n",
       "      <td>1.722824</td>\n",
       "    </tr>\n",
       "    <tr>\n",
       "      <th>2009-11-01</th>\n",
       "      <td>2.957499</td>\n",
       "    </tr>\n",
       "    <tr>\n",
       "      <th>2009-12-01</th>\n",
       "      <td>3.102643</td>\n",
       "    </tr>\n",
       "    <tr>\n",
       "      <th>2011-12-01</th>\n",
       "      <td>2.208577</td>\n",
       "    </tr>\n",
       "    <tr>\n",
       "      <th>2013-11-01</th>\n",
       "      <td>1.953087</td>\n",
       "    </tr>\n",
       "    <tr>\n",
       "      <th>2013-12-01</th>\n",
       "      <td>2.362614</td>\n",
       "    </tr>\n",
       "    <tr>\n",
       "      <th>2014-12-01</th>\n",
       "      <td>1.636940</td>\n",
       "    </tr>\n",
       "    <tr>\n",
       "      <th>2015-05-01</th>\n",
       "      <td>2.469808</td>\n",
       "    </tr>\n",
       "    <tr>\n",
       "      <th>2015-06-01</th>\n",
       "      <td>2.558889</td>\n",
       "    </tr>\n",
       "    <tr>\n",
       "      <th>2015-07-01</th>\n",
       "      <td>2.248548</td>\n",
       "    </tr>\n",
       "    <tr>\n",
       "      <th>2015-11-01</th>\n",
       "      <td>2.186580</td>\n",
       "    </tr>\n",
       "    <tr>\n",
       "      <th>2015-12-01</th>\n",
       "      <td>4.029690</td>\n",
       "    </tr>\n",
       "    <tr>\n",
       "      <th>2016-05-01</th>\n",
       "      <td>2.079079</td>\n",
       "    </tr>\n",
       "    <tr>\n",
       "      <th>2016-06-01</th>\n",
       "      <td>1.612264</td>\n",
       "    </tr>\n",
       "    <tr>\n",
       "      <th>2016-12-01</th>\n",
       "      <td>1.608194</td>\n",
       "    </tr>\n",
       "    <tr>\n",
       "      <th>2018-09-01</th>\n",
       "      <td>2.262268</td>\n",
       "    </tr>\n",
       "    <tr>\n",
       "      <th>2018-10-01</th>\n",
       "      <td>3.683156</td>\n",
       "    </tr>\n",
       "    <tr>\n",
       "      <th>2018-11-01</th>\n",
       "      <td>4.022861</td>\n",
       "    </tr>\n",
       "    <tr>\n",
       "      <th>2018-12-01</th>\n",
       "      <td>3.570321</td>\n",
       "    </tr>\n",
       "  </tbody>\n",
       "</table>"
      ],
      "text/plain": [
       "<IPython.core.display.HTML object>"
      ]
     },
     "metadata": {},
     "output_type": "display_data"
    }
   ],
   "source": [
    "display( HTML( WGSPIDF.to_html() ) )"
   ]
  },
  {
   "cell_type": "code",
   "execution_count": 41,
   "id": "ea0db9da-9d24-40f8-9b28-3c4589a900ed",
   "metadata": {},
   "outputs": [
    {
     "data": {
      "text/plain": [
       "5.11855936050415"
      ]
     },
     "execution_count": 41,
     "metadata": {},
     "output_type": "execute_result"
    }
   ],
   "source": [
    "WGSPIDF[\"WG SPI (2031-2060)\"].max()"
   ]
  },
  {
   "cell_type": "markdown",
   "id": "100f7997-9549-49d9-8d89-0eec65e67d21",
   "metadata": {},
   "source": [
    "## Box and Whisker Plots of Annual Totals"
   ]
  },
  {
   "cell_type": "markdown",
   "id": "9f89d3ce-386b-41df-9e90-b505467d3cee",
   "metadata": {},
   "source": [
    "Make Box and Whisker Plot of the annual total precipitation depth collections."
   ]
  },
  {
   "cell_type": "code",
   "execution_count": 42,
   "id": "79d3e513-10f0-484a-bdb4-0d7e243fb2f0",
   "metadata": {},
   "outputs": [],
   "source": [
    "modColsLister = deepcopy( ColsList )\n",
    "modColsLister.remove( \"EnsAve\" )"
   ]
  },
  {
   "cell_type": "code",
   "execution_count": 43,
   "id": "eb9cdf39-a054-49d9-82e5-643295b39377",
   "metadata": {},
   "outputs": [],
   "source": [
    "WGAnnValuesList = list()"
   ]
  },
  {
   "cell_type": "code",
   "execution_count": 44,
   "id": "f0e43c4b-e3de-463f-9273-7aa663e7dc96",
   "metadata": {},
   "outputs": [],
   "source": [
    "for tCol in modColsLister:\n",
    "    WGAnnValuesList.append( CNAnnPreDF[tCol].to_numpy(dtype=np.float32).flatten() )\n",
    "# end for"
   ]
  },
  {
   "cell_type": "code",
   "execution_count": 45,
   "id": "207574c7-13e4-4faf-9f40-cfdf86a99cd8",
   "metadata": {},
   "outputs": [
    {
     "data": {
      "text/plain": [
       "30000"
      ]
     },
     "execution_count": 45,
     "metadata": {},
     "output_type": "execute_result"
    }
   ],
   "source": [
    "npWGAnnVals = np.concatenate( WGAnnValuesList )\n",
    "NumWG = len( npWGAnnVals )\n",
    "NumWG"
   ]
  },
  {
   "cell_type": "code",
   "execution_count": 46,
   "id": "fc7e21b7-a3be-4879-aa56-590d8d3d513f",
   "metadata": {},
   "outputs": [
    {
     "data": {
      "text/plain": [
       "(847.6752, 863.7113, 177.47719)"
      ]
     },
     "execution_count": 46,
     "metadata": {},
     "output_type": "execute_result"
    }
   ],
   "source": [
    "np.median( npWGAnnVals ), npWGAnnVals.mean(), npWGAnnVals.std()"
   ]
  },
  {
   "cell_type": "code",
   "execution_count": 47,
   "id": "20cdcac6-3974-4c16-8db8-0e878261f017",
   "metadata": {},
   "outputs": [],
   "source": [
    "WGLabelsList = [ \"WG 2031-2060\" for x in range(NumWG) ]"
   ]
  },
  {
   "cell_type": "code",
   "execution_count": 48,
   "id": "ed00b18d-d865-4f71-a274-ee7adb647219",
   "metadata": {},
   "outputs": [],
   "source": [
    "InFiler = os.path.normpath( os.path.join( IN_DIR2, \"%s_MonTS_2031to2060.xlsx\" % BasKey ) )\n",
    "MonTSDF = pd.read_excel( InFiler, sheet_name=\"Pre_mm\", index_col=0, header=0 )"
   ]
  },
  {
   "cell_type": "code",
   "execution_count": 49,
   "id": "f240beff-6097-4a83-860a-cd1c4664694e",
   "metadata": {},
   "outputs": [
    {
     "data": {
      "text/html": [
       "<table border=\"1\" class=\"dataframe\">\n",
       "  <thead>\n",
       "    <tr style=\"text-align: right;\">\n",
       "      <th></th>\n",
       "      <th>Year</th>\n",
       "      <th>Month</th>\n",
       "      <th>Ensemble Average</th>\n",
       "      <th>M51L</th>\n",
       "      <th>M51H</th>\n",
       "      <th>M52L</th>\n",
       "      <th>M52H</th>\n",
       "      <th>M53L</th>\n",
       "      <th>M53H</th>\n",
       "      <th>M55L</th>\n",
       "      <th>M55H</th>\n",
       "      <th>M56L</th>\n",
       "      <th>M56H</th>\n",
       "      <th>M57L</th>\n",
       "      <th>M57H</th>\n",
       "      <th>M58L</th>\n",
       "      <th>M58H</th>\n",
       "      <th>M59L</th>\n",
       "      <th>M59H</th>\n",
       "      <th>M60L</th>\n",
       "      <th>M60H</th>\n",
       "      <th>M61L</th>\n",
       "      <th>M61H</th>\n",
       "      <th>M62L</th>\n",
       "      <th>M62H</th>\n",
       "      <th>M63L</th>\n",
       "      <th>M63H</th>\n",
       "      <th>M64L</th>\n",
       "      <th>M64H</th>\n",
       "      <th>M65L</th>\n",
       "      <th>M65H</th>\n",
       "      <th>M66L</th>\n",
       "      <th>M66H</th>\n",
       "      <th>M67L</th>\n",
       "      <th>M67H</th>\n",
       "      <th>M68L</th>\n",
       "      <th>M68H</th>\n",
       "      <th>M69L</th>\n",
       "      <th>M69H</th>\n",
       "      <th>M70L</th>\n",
       "      <th>M70H</th>\n",
       "      <th>M71L</th>\n",
       "      <th>M71H</th>\n",
       "      <th>M72L</th>\n",
       "      <th>M72H</th>\n",
       "      <th>M73L</th>\n",
       "      <th>M73H</th>\n",
       "      <th>M74L</th>\n",
       "      <th>M74H</th>\n",
       "      <th>Check_EnsAve</th>\n",
       "    </tr>\n",
       "    <tr>\n",
       "      <th>YrMo</th>\n",
       "      <th></th>\n",
       "      <th></th>\n",
       "      <th></th>\n",
       "      <th></th>\n",
       "      <th></th>\n",
       "      <th></th>\n",
       "      <th></th>\n",
       "      <th></th>\n",
       "      <th></th>\n",
       "      <th></th>\n",
       "      <th></th>\n",
       "      <th></th>\n",
       "      <th></th>\n",
       "      <th></th>\n",
       "      <th></th>\n",
       "      <th></th>\n",
       "      <th></th>\n",
       "      <th></th>\n",
       "      <th></th>\n",
       "      <th></th>\n",
       "      <th></th>\n",
       "      <th></th>\n",
       "      <th></th>\n",
       "      <th></th>\n",
       "      <th></th>\n",
       "      <th></th>\n",
       "      <th></th>\n",
       "      <th></th>\n",
       "      <th></th>\n",
       "      <th></th>\n",
       "      <th></th>\n",
       "      <th></th>\n",
       "      <th></th>\n",
       "      <th></th>\n",
       "      <th></th>\n",
       "      <th></th>\n",
       "      <th></th>\n",
       "      <th></th>\n",
       "      <th></th>\n",
       "      <th></th>\n",
       "      <th></th>\n",
       "      <th></th>\n",
       "      <th></th>\n",
       "      <th></th>\n",
       "      <th></th>\n",
       "      <th></th>\n",
       "      <th></th>\n",
       "      <th></th>\n",
       "      <th></th>\n",
       "      <th></th>\n",
       "    </tr>\n",
       "  </thead>\n",
       "  <tbody>\n",
       "    <tr>\n",
       "      <th>203101</th>\n",
       "      <td>2031</td>\n",
       "      <td>1</td>\n",
       "      <td>43.349121</td>\n",
       "      <td>55.186054</td>\n",
       "      <td>4.861324</td>\n",
       "      <td>49.178093</td>\n",
       "      <td>58.466438</td>\n",
       "      <td>17.275408</td>\n",
       "      <td>60.451794</td>\n",
       "      <td>9.636695</td>\n",
       "      <td>8.199945</td>\n",
       "      <td>16.013403</td>\n",
       "      <td>65.424599</td>\n",
       "      <td>32.656948</td>\n",
       "      <td>17.662237</td>\n",
       "      <td>93.409012</td>\n",
       "      <td>50.734241</td>\n",
       "      <td>35.772842</td>\n",
       "      <td>43.299114</td>\n",
       "      <td>27.845495</td>\n",
       "      <td>88.850250</td>\n",
       "      <td>21.976274</td>\n",
       "      <td>63.557568</td>\n",
       "      <td>42.789547</td>\n",
       "      <td>18.828562</td>\n",
       "      <td>37.296951</td>\n",
       "      <td>24.665501</td>\n",
       "      <td>0.105398</td>\n",
       "      <td>46.375710</td>\n",
       "      <td>22.267128</td>\n",
       "      <td>9.932904</td>\n",
       "      <td>78.925964</td>\n",
       "      <td>41.130894</td>\n",
       "      <td>64.603271</td>\n",
       "      <td>142.833755</td>\n",
       "      <td>8.102352</td>\n",
       "      <td>42.791935</td>\n",
       "      <td>74.740837</td>\n",
       "      <td>133.212189</td>\n",
       "      <td>10.877075</td>\n",
       "      <td>8.278578</td>\n",
       "      <td>66.024330</td>\n",
       "      <td>13.936042</td>\n",
       "      <td>79.258644</td>\n",
       "      <td>120.724350</td>\n",
       "      <td>36.197445</td>\n",
       "      <td>8.613229</td>\n",
       "      <td>28.007233</td>\n",
       "      <td>13.082069</td>\n",
       "      <td>43.349121</td>\n",
       "    </tr>\n",
       "    <tr>\n",
       "      <th>203102</th>\n",
       "      <td>2031</td>\n",
       "      <td>2</td>\n",
       "      <td>39.735008</td>\n",
       "      <td>52.065125</td>\n",
       "      <td>36.282845</td>\n",
       "      <td>21.402044</td>\n",
       "      <td>16.379789</td>\n",
       "      <td>63.400379</td>\n",
       "      <td>18.327156</td>\n",
       "      <td>98.604385</td>\n",
       "      <td>56.903687</td>\n",
       "      <td>42.988876</td>\n",
       "      <td>30.370874</td>\n",
       "      <td>8.210537</td>\n",
       "      <td>27.504347</td>\n",
       "      <td>75.908348</td>\n",
       "      <td>11.861514</td>\n",
       "      <td>80.385323</td>\n",
       "      <td>18.094790</td>\n",
       "      <td>40.286152</td>\n",
       "      <td>66.220703</td>\n",
       "      <td>80.639488</td>\n",
       "      <td>14.953513</td>\n",
       "      <td>57.550442</td>\n",
       "      <td>95.551170</td>\n",
       "      <td>22.711096</td>\n",
       "      <td>17.599237</td>\n",
       "      <td>26.973129</td>\n",
       "      <td>12.937478</td>\n",
       "      <td>41.357697</td>\n",
       "      <td>58.622673</td>\n",
       "      <td>62.055222</td>\n",
       "      <td>16.117439</td>\n",
       "      <td>43.298325</td>\n",
       "      <td>37.822674</td>\n",
       "      <td>42.387657</td>\n",
       "      <td>3.453363</td>\n",
       "      <td>112.877716</td>\n",
       "      <td>16.325972</td>\n",
       "      <td>13.513223</td>\n",
       "      <td>0.220222</td>\n",
       "      <td>20.512312</td>\n",
       "      <td>28.713017</td>\n",
       "      <td>26.773634</td>\n",
       "      <td>40.005009</td>\n",
       "      <td>2.358442</td>\n",
       "      <td>54.470139</td>\n",
       "      <td>39.861649</td>\n",
       "      <td>72.951538</td>\n",
       "      <td>39.735001</td>\n",
       "    </tr>\n",
       "    <tr>\n",
       "      <th>203103</th>\n",
       "      <td>2031</td>\n",
       "      <td>3</td>\n",
       "      <td>46.959248</td>\n",
       "      <td>5.247294</td>\n",
       "      <td>87.597847</td>\n",
       "      <td>81.335930</td>\n",
       "      <td>61.090305</td>\n",
       "      <td>47.508213</td>\n",
       "      <td>52.457073</td>\n",
       "      <td>42.485706</td>\n",
       "      <td>22.036575</td>\n",
       "      <td>99.417610</td>\n",
       "      <td>33.044308</td>\n",
       "      <td>72.912636</td>\n",
       "      <td>4.274355</td>\n",
       "      <td>23.534718</td>\n",
       "      <td>13.024433</td>\n",
       "      <td>44.127583</td>\n",
       "      <td>12.749380</td>\n",
       "      <td>81.803337</td>\n",
       "      <td>0.747531</td>\n",
       "      <td>55.351414</td>\n",
       "      <td>17.133472</td>\n",
       "      <td>36.066666</td>\n",
       "      <td>16.331675</td>\n",
       "      <td>13.532522</td>\n",
       "      <td>17.629868</td>\n",
       "      <td>40.776779</td>\n",
       "      <td>33.292507</td>\n",
       "      <td>67.593781</td>\n",
       "      <td>35.993534</td>\n",
       "      <td>126.716873</td>\n",
       "      <td>23.955437</td>\n",
       "      <td>103.135872</td>\n",
       "      <td>64.473381</td>\n",
       "      <td>4.347072</td>\n",
       "      <td>52.721863</td>\n",
       "      <td>101.333038</td>\n",
       "      <td>5.979011</td>\n",
       "      <td>70.047798</td>\n",
       "      <td>18.636263</td>\n",
       "      <td>88.423088</td>\n",
       "      <td>85.080482</td>\n",
       "      <td>67.386536</td>\n",
       "      <td>81.493408</td>\n",
       "      <td>29.587717</td>\n",
       "      <td>55.141129</td>\n",
       "      <td>19.804171</td>\n",
       "      <td>42.765274</td>\n",
       "      <td>46.959255</td>\n",
       "    </tr>\n",
       "    <tr>\n",
       "      <th>203104</th>\n",
       "      <td>2031</td>\n",
       "      <td>4</td>\n",
       "      <td>58.793602</td>\n",
       "      <td>173.488602</td>\n",
       "      <td>94.602417</td>\n",
       "      <td>41.107285</td>\n",
       "      <td>45.960136</td>\n",
       "      <td>18.539762</td>\n",
       "      <td>76.904900</td>\n",
       "      <td>62.262718</td>\n",
       "      <td>21.940725</td>\n",
       "      <td>47.879585</td>\n",
       "      <td>90.785446</td>\n",
       "      <td>58.809406</td>\n",
       "      <td>64.350922</td>\n",
       "      <td>54.805901</td>\n",
       "      <td>53.342552</td>\n",
       "      <td>15.755148</td>\n",
       "      <td>141.393768</td>\n",
       "      <td>12.050295</td>\n",
       "      <td>84.966835</td>\n",
       "      <td>35.173561</td>\n",
       "      <td>45.782879</td>\n",
       "      <td>51.775276</td>\n",
       "      <td>55.428310</td>\n",
       "      <td>49.214725</td>\n",
       "      <td>35.403370</td>\n",
       "      <td>39.982475</td>\n",
       "      <td>52.077660</td>\n",
       "      <td>17.864841</td>\n",
       "      <td>41.903072</td>\n",
       "      <td>125.403542</td>\n",
       "      <td>86.687103</td>\n",
       "      <td>84.406685</td>\n",
       "      <td>54.340721</td>\n",
       "      <td>11.763877</td>\n",
       "      <td>21.373808</td>\n",
       "      <td>38.779358</td>\n",
       "      <td>58.440079</td>\n",
       "      <td>124.848999</td>\n",
       "      <td>37.164200</td>\n",
       "      <td>32.962105</td>\n",
       "      <td>13.595881</td>\n",
       "      <td>193.179901</td>\n",
       "      <td>130.680206</td>\n",
       "      <td>61.668282</td>\n",
       "      <td>15.723720</td>\n",
       "      <td>15.321876</td>\n",
       "      <td>14.612724</td>\n",
       "      <td>58.793602</td>\n",
       "    </tr>\n",
       "    <tr>\n",
       "      <th>203105</th>\n",
       "      <td>2031</td>\n",
       "      <td>5</td>\n",
       "      <td>103.764244</td>\n",
       "      <td>41.162518</td>\n",
       "      <td>62.610516</td>\n",
       "      <td>76.313339</td>\n",
       "      <td>31.235506</td>\n",
       "      <td>66.189079</td>\n",
       "      <td>103.755577</td>\n",
       "      <td>204.869720</td>\n",
       "      <td>33.517014</td>\n",
       "      <td>96.861313</td>\n",
       "      <td>322.986206</td>\n",
       "      <td>92.683372</td>\n",
       "      <td>59.884827</td>\n",
       "      <td>50.790855</td>\n",
       "      <td>332.501617</td>\n",
       "      <td>107.657059</td>\n",
       "      <td>144.386902</td>\n",
       "      <td>77.686081</td>\n",
       "      <td>235.541779</td>\n",
       "      <td>86.628929</td>\n",
       "      <td>13.022128</td>\n",
       "      <td>67.139137</td>\n",
       "      <td>77.477577</td>\n",
       "      <td>79.579475</td>\n",
       "      <td>39.942684</td>\n",
       "      <td>83.912437</td>\n",
       "      <td>169.199509</td>\n",
       "      <td>24.742725</td>\n",
       "      <td>149.864792</td>\n",
       "      <td>130.148895</td>\n",
       "      <td>62.561924</td>\n",
       "      <td>117.815346</td>\n",
       "      <td>185.660172</td>\n",
       "      <td>123.014320</td>\n",
       "      <td>57.821064</td>\n",
       "      <td>81.279564</td>\n",
       "      <td>92.662964</td>\n",
       "      <td>109.789200</td>\n",
       "      <td>118.064651</td>\n",
       "      <td>180.641830</td>\n",
       "      <td>16.418941</td>\n",
       "      <td>206.195831</td>\n",
       "      <td>29.345898</td>\n",
       "      <td>83.679024</td>\n",
       "      <td>105.443329</td>\n",
       "      <td>60.480358</td>\n",
       "      <td>79.989182</td>\n",
       "      <td>103.764244</td>\n",
       "    </tr>\n",
       "  </tbody>\n",
       "</table>"
      ],
      "text/plain": [
       "<IPython.core.display.HTML object>"
      ]
     },
     "metadata": {},
     "output_type": "display_data"
    }
   ],
   "source": [
    "display( HTML( MonTSDF.head().to_html() ) )"
   ]
  },
  {
   "cell_type": "code",
   "execution_count": 50,
   "id": "8785118a-a7a8-4484-86db-bd1561b18f1a",
   "metadata": {},
   "outputs": [],
   "source": [
    "dropCols = [\"Month\", \"Ensemble Average\", \"Check_EnsAve\" ]"
   ]
  },
  {
   "cell_type": "code",
   "execution_count": 51,
   "id": "0464eceb-4f41-4ab2-814c-6fcd7a6b894d",
   "metadata": {},
   "outputs": [],
   "source": [
    "MonTSDF.drop(columns=dropCols, inplace=True )"
   ]
  },
  {
   "cell_type": "code",
   "execution_count": 52,
   "id": "37946b94-c1ee-4c00-8678-ac9828143bf4",
   "metadata": {},
   "outputs": [],
   "source": [
    "L2Cols = list( MonTSDF.columns )\n",
    "L2Cols.remove(\"Year\")"
   ]
  },
  {
   "cell_type": "code",
   "execution_count": 53,
   "id": "38564451-f694-48ff-8aad-9c8f5486bd48",
   "metadata": {},
   "outputs": [],
   "source": [
    "L2AnnDF = MonTSDF.groupby(by=\"Year\").sum()"
   ]
  },
  {
   "cell_type": "code",
   "execution_count": 54,
   "id": "aecb1291-8004-4ea3-8f37-43e1455fca57",
   "metadata": {},
   "outputs": [
    {
     "data": {
      "text/html": [
       "<table border=\"1\" class=\"dataframe\">\n",
       "  <thead>\n",
       "    <tr style=\"text-align: right;\">\n",
       "      <th></th>\n",
       "      <th>M51L</th>\n",
       "      <th>M51H</th>\n",
       "      <th>M52L</th>\n",
       "      <th>M52H</th>\n",
       "      <th>M53L</th>\n",
       "      <th>M53H</th>\n",
       "      <th>M55L</th>\n",
       "      <th>M55H</th>\n",
       "      <th>M56L</th>\n",
       "      <th>M56H</th>\n",
       "      <th>M57L</th>\n",
       "      <th>M57H</th>\n",
       "      <th>M58L</th>\n",
       "      <th>M58H</th>\n",
       "      <th>M59L</th>\n",
       "      <th>M59H</th>\n",
       "      <th>M60L</th>\n",
       "      <th>M60H</th>\n",
       "      <th>M61L</th>\n",
       "      <th>M61H</th>\n",
       "      <th>M62L</th>\n",
       "      <th>M62H</th>\n",
       "      <th>M63L</th>\n",
       "      <th>M63H</th>\n",
       "      <th>M64L</th>\n",
       "      <th>M64H</th>\n",
       "      <th>M65L</th>\n",
       "      <th>M65H</th>\n",
       "      <th>M66L</th>\n",
       "      <th>M66H</th>\n",
       "      <th>M67L</th>\n",
       "      <th>M67H</th>\n",
       "      <th>M68L</th>\n",
       "      <th>M68H</th>\n",
       "      <th>M69L</th>\n",
       "      <th>M69H</th>\n",
       "      <th>M70L</th>\n",
       "      <th>M70H</th>\n",
       "      <th>M71L</th>\n",
       "      <th>M71H</th>\n",
       "      <th>M72L</th>\n",
       "      <th>M72H</th>\n",
       "      <th>M73L</th>\n",
       "      <th>M73H</th>\n",
       "      <th>M74L</th>\n",
       "      <th>M74H</th>\n",
       "    </tr>\n",
       "    <tr>\n",
       "      <th>Year</th>\n",
       "      <th></th>\n",
       "      <th></th>\n",
       "      <th></th>\n",
       "      <th></th>\n",
       "      <th></th>\n",
       "      <th></th>\n",
       "      <th></th>\n",
       "      <th></th>\n",
       "      <th></th>\n",
       "      <th></th>\n",
       "      <th></th>\n",
       "      <th></th>\n",
       "      <th></th>\n",
       "      <th></th>\n",
       "      <th></th>\n",
       "      <th></th>\n",
       "      <th></th>\n",
       "      <th></th>\n",
       "      <th></th>\n",
       "      <th></th>\n",
       "      <th></th>\n",
       "      <th></th>\n",
       "      <th></th>\n",
       "      <th></th>\n",
       "      <th></th>\n",
       "      <th></th>\n",
       "      <th></th>\n",
       "      <th></th>\n",
       "      <th></th>\n",
       "      <th></th>\n",
       "      <th></th>\n",
       "      <th></th>\n",
       "      <th></th>\n",
       "      <th></th>\n",
       "      <th></th>\n",
       "      <th></th>\n",
       "      <th></th>\n",
       "      <th></th>\n",
       "      <th></th>\n",
       "      <th></th>\n",
       "      <th></th>\n",
       "      <th></th>\n",
       "      <th></th>\n",
       "      <th></th>\n",
       "      <th></th>\n",
       "      <th></th>\n",
       "    </tr>\n",
       "  </thead>\n",
       "  <tbody>\n",
       "    <tr>\n",
       "      <th>2031</th>\n",
       "      <td>955.496708</td>\n",
       "      <td>763.700169</td>\n",
       "      <td>621.573252</td>\n",
       "      <td>702.595253</td>\n",
       "      <td>939.301437</td>\n",
       "      <td>841.787371</td>\n",
       "      <td>761.787987</td>\n",
       "      <td>640.543863</td>\n",
       "      <td>749.413960</td>\n",
       "      <td>869.039583</td>\n",
       "      <td>890.859353</td>\n",
       "      <td>699.856907</td>\n",
       "      <td>735.179006</td>\n",
       "      <td>495.255120</td>\n",
       "      <td>776.651579</td>\n",
       "      <td>807.239233</td>\n",
       "      <td>479.025916</td>\n",
       "      <td>684.380803</td>\n",
       "      <td>468.746845</td>\n",
       "      <td>318.677056</td>\n",
       "      <td>562.966359</td>\n",
       "      <td>515.147436</td>\n",
       "      <td>514.896364</td>\n",
       "      <td>625.693223</td>\n",
       "      <td>515.556166</td>\n",
       "      <td>1143.785432</td>\n",
       "      <td>477.728966</td>\n",
       "      <td>1204.950215</td>\n",
       "      <td>1067.464098</td>\n",
       "      <td>671.701849</td>\n",
       "      <td>617.024556</td>\n",
       "      <td>1040.908293</td>\n",
       "      <td>815.665036</td>\n",
       "      <td>564.434649</td>\n",
       "      <td>720.067574</td>\n",
       "      <td>688.957163</td>\n",
       "      <td>682.600893</td>\n",
       "      <td>624.701888</td>\n",
       "      <td>801.669911</td>\n",
       "      <td>450.975168</td>\n",
       "      <td>908.188540</td>\n",
       "      <td>852.365361</td>\n",
       "      <td>758.487814</td>\n",
       "      <td>725.476451</td>\n",
       "      <td>546.638647</td>\n",
       "      <td>392.198198</td>\n",
       "    </tr>\n",
       "    <tr>\n",
       "      <th>2032</th>\n",
       "      <td>945.080174</td>\n",
       "      <td>1090.869421</td>\n",
       "      <td>1088.794303</td>\n",
       "      <td>698.842516</td>\n",
       "      <td>508.705488</td>\n",
       "      <td>845.718036</td>\n",
       "      <td>764.673476</td>\n",
       "      <td>679.173301</td>\n",
       "      <td>728.218861</td>\n",
       "      <td>610.801674</td>\n",
       "      <td>933.072422</td>\n",
       "      <td>995.986613</td>\n",
       "      <td>1032.158553</td>\n",
       "      <td>474.295845</td>\n",
       "      <td>765.141537</td>\n",
       "      <td>1127.771718</td>\n",
       "      <td>841.235969</td>\n",
       "      <td>1288.565752</td>\n",
       "      <td>1038.773333</td>\n",
       "      <td>433.374647</td>\n",
       "      <td>813.866711</td>\n",
       "      <td>669.005617</td>\n",
       "      <td>1238.953991</td>\n",
       "      <td>651.882101</td>\n",
       "      <td>777.585046</td>\n",
       "      <td>641.183141</td>\n",
       "      <td>1212.264067</td>\n",
       "      <td>496.550383</td>\n",
       "      <td>565.062315</td>\n",
       "      <td>762.577503</td>\n",
       "      <td>693.880743</td>\n",
       "      <td>934.115839</td>\n",
       "      <td>603.171211</td>\n",
       "      <td>363.474429</td>\n",
       "      <td>707.906747</td>\n",
       "      <td>994.392037</td>\n",
       "      <td>800.751965</td>\n",
       "      <td>532.823728</td>\n",
       "      <td>675.943260</td>\n",
       "      <td>457.053590</td>\n",
       "      <td>944.354914</td>\n",
       "      <td>488.361418</td>\n",
       "      <td>703.588003</td>\n",
       "      <td>1020.227304</td>\n",
       "      <td>671.432329</td>\n",
       "      <td>446.664865</td>\n",
       "    </tr>\n",
       "    <tr>\n",
       "      <th>2033</th>\n",
       "      <td>841.375194</td>\n",
       "      <td>805.573016</td>\n",
       "      <td>598.809327</td>\n",
       "      <td>500.475263</td>\n",
       "      <td>446.943675</td>\n",
       "      <td>650.211002</td>\n",
       "      <td>549.071066</td>\n",
       "      <td>436.669079</td>\n",
       "      <td>887.017505</td>\n",
       "      <td>1285.749881</td>\n",
       "      <td>559.636791</td>\n",
       "      <td>403.159660</td>\n",
       "      <td>543.517286</td>\n",
       "      <td>896.862669</td>\n",
       "      <td>434.524868</td>\n",
       "      <td>591.324850</td>\n",
       "      <td>575.445578</td>\n",
       "      <td>960.183165</td>\n",
       "      <td>558.567181</td>\n",
       "      <td>789.404278</td>\n",
       "      <td>666.924790</td>\n",
       "      <td>574.884483</td>\n",
       "      <td>409.819471</td>\n",
       "      <td>554.918040</td>\n",
       "      <td>877.891346</td>\n",
       "      <td>761.331384</td>\n",
       "      <td>933.568879</td>\n",
       "      <td>758.374446</td>\n",
       "      <td>434.746366</td>\n",
       "      <td>636.397684</td>\n",
       "      <td>425.633831</td>\n",
       "      <td>985.298641</td>\n",
       "      <td>677.183382</td>\n",
       "      <td>1069.008381</td>\n",
       "      <td>636.061178</td>\n",
       "      <td>900.929529</td>\n",
       "      <td>888.235997</td>\n",
       "      <td>443.829336</td>\n",
       "      <td>620.376876</td>\n",
       "      <td>468.565934</td>\n",
       "      <td>877.836693</td>\n",
       "      <td>447.570937</td>\n",
       "      <td>606.654218</td>\n",
       "      <td>778.710183</td>\n",
       "      <td>880.299223</td>\n",
       "      <td>690.120366</td>\n",
       "    </tr>\n",
       "    <tr>\n",
       "      <th>2034</th>\n",
       "      <td>907.056039</td>\n",
       "      <td>1009.343625</td>\n",
       "      <td>1144.950629</td>\n",
       "      <td>685.596494</td>\n",
       "      <td>770.375540</td>\n",
       "      <td>369.314244</td>\n",
       "      <td>663.242957</td>\n",
       "      <td>690.313491</td>\n",
       "      <td>1400.973606</td>\n",
       "      <td>490.897596</td>\n",
       "      <td>1097.255554</td>\n",
       "      <td>1198.225275</td>\n",
       "      <td>448.453596</td>\n",
       "      <td>597.149993</td>\n",
       "      <td>563.882508</td>\n",
       "      <td>1181.887722</td>\n",
       "      <td>511.670310</td>\n",
       "      <td>692.866717</td>\n",
       "      <td>484.894333</td>\n",
       "      <td>880.183230</td>\n",
       "      <td>692.980219</td>\n",
       "      <td>587.384485</td>\n",
       "      <td>572.026675</td>\n",
       "      <td>487.568775</td>\n",
       "      <td>856.964397</td>\n",
       "      <td>463.297143</td>\n",
       "      <td>867.439344</td>\n",
       "      <td>876.871492</td>\n",
       "      <td>825.800958</td>\n",
       "      <td>793.099753</td>\n",
       "      <td>943.064268</td>\n",
       "      <td>472.756063</td>\n",
       "      <td>802.749119</td>\n",
       "      <td>901.544058</td>\n",
       "      <td>510.796625</td>\n",
       "      <td>621.923564</td>\n",
       "      <td>613.604136</td>\n",
       "      <td>750.193183</td>\n",
       "      <td>821.148575</td>\n",
       "      <td>991.010840</td>\n",
       "      <td>402.391041</td>\n",
       "      <td>481.398632</td>\n",
       "      <td>719.448087</td>\n",
       "      <td>822.947453</td>\n",
       "      <td>684.015249</td>\n",
       "      <td>718.545605</td>\n",
       "    </tr>\n",
       "    <tr>\n",
       "      <th>2035</th>\n",
       "      <td>815.830427</td>\n",
       "      <td>617.276660</td>\n",
       "      <td>874.340012</td>\n",
       "      <td>1000.971031</td>\n",
       "      <td>1226.321954</td>\n",
       "      <td>1298.478263</td>\n",
       "      <td>1240.850468</td>\n",
       "      <td>407.015822</td>\n",
       "      <td>445.386133</td>\n",
       "      <td>789.676592</td>\n",
       "      <td>1080.238293</td>\n",
       "      <td>776.134565</td>\n",
       "      <td>722.053545</td>\n",
       "      <td>550.337822</td>\n",
       "      <td>919.913050</td>\n",
       "      <td>622.634162</td>\n",
       "      <td>673.727384</td>\n",
       "      <td>365.806528</td>\n",
       "      <td>1258.928354</td>\n",
       "      <td>642.723909</td>\n",
       "      <td>630.531474</td>\n",
       "      <td>761.342001</td>\n",
       "      <td>1043.519018</td>\n",
       "      <td>611.902637</td>\n",
       "      <td>507.560245</td>\n",
       "      <td>889.266633</td>\n",
       "      <td>844.074542</td>\n",
       "      <td>505.484373</td>\n",
       "      <td>751.364581</td>\n",
       "      <td>878.907148</td>\n",
       "      <td>935.669761</td>\n",
       "      <td>761.489564</td>\n",
       "      <td>821.202111</td>\n",
       "      <td>1208.763854</td>\n",
       "      <td>550.454720</td>\n",
       "      <td>676.315317</td>\n",
       "      <td>598.949041</td>\n",
       "      <td>937.597797</td>\n",
       "      <td>843.961681</td>\n",
       "      <td>487.806826</td>\n",
       "      <td>1075.755805</td>\n",
       "      <td>554.470923</td>\n",
       "      <td>1130.696814</td>\n",
       "      <td>749.075070</td>\n",
       "      <td>489.054482</td>\n",
       "      <td>854.086140</td>\n",
       "    </tr>\n",
       "  </tbody>\n",
       "</table>"
      ],
      "text/plain": [
       "<IPython.core.display.HTML object>"
      ]
     },
     "metadata": {},
     "output_type": "display_data"
    }
   ],
   "source": [
    "display( HTML( L2AnnDF.head().to_html() ) )"
   ]
  },
  {
   "cell_type": "code",
   "execution_count": 55,
   "id": "6fe81be2-956e-4042-858c-5b20cc08e3e1",
   "metadata": {},
   "outputs": [
    {
     "data": {
      "text/html": [
       "<table border=\"1\" class=\"dataframe\">\n",
       "  <thead>\n",
       "    <tr style=\"text-align: right;\">\n",
       "      <th></th>\n",
       "      <th>M51L</th>\n",
       "      <th>M51H</th>\n",
       "      <th>M52L</th>\n",
       "      <th>M52H</th>\n",
       "      <th>M53L</th>\n",
       "      <th>M53H</th>\n",
       "      <th>M55L</th>\n",
       "      <th>M55H</th>\n",
       "      <th>M56L</th>\n",
       "      <th>M56H</th>\n",
       "      <th>M57L</th>\n",
       "      <th>M57H</th>\n",
       "      <th>M58L</th>\n",
       "      <th>M58H</th>\n",
       "      <th>M59L</th>\n",
       "      <th>M59H</th>\n",
       "      <th>M60L</th>\n",
       "      <th>M60H</th>\n",
       "      <th>M61L</th>\n",
       "      <th>M61H</th>\n",
       "      <th>M62L</th>\n",
       "      <th>M62H</th>\n",
       "      <th>M63L</th>\n",
       "      <th>M63H</th>\n",
       "      <th>M64L</th>\n",
       "      <th>M64H</th>\n",
       "      <th>M65L</th>\n",
       "      <th>M65H</th>\n",
       "      <th>M66L</th>\n",
       "      <th>M66H</th>\n",
       "      <th>M67L</th>\n",
       "      <th>M67H</th>\n",
       "      <th>M68L</th>\n",
       "      <th>M68H</th>\n",
       "      <th>M69L</th>\n",
       "      <th>M69H</th>\n",
       "      <th>M70L</th>\n",
       "      <th>M70H</th>\n",
       "      <th>M71L</th>\n",
       "      <th>M71H</th>\n",
       "      <th>M72L</th>\n",
       "      <th>M72H</th>\n",
       "      <th>M73L</th>\n",
       "      <th>M73H</th>\n",
       "      <th>M74L</th>\n",
       "      <th>M74H</th>\n",
       "    </tr>\n",
       "    <tr>\n",
       "      <th>Year</th>\n",
       "      <th></th>\n",
       "      <th></th>\n",
       "      <th></th>\n",
       "      <th></th>\n",
       "      <th></th>\n",
       "      <th></th>\n",
       "      <th></th>\n",
       "      <th></th>\n",
       "      <th></th>\n",
       "      <th></th>\n",
       "      <th></th>\n",
       "      <th></th>\n",
       "      <th></th>\n",
       "      <th></th>\n",
       "      <th></th>\n",
       "      <th></th>\n",
       "      <th></th>\n",
       "      <th></th>\n",
       "      <th></th>\n",
       "      <th></th>\n",
       "      <th></th>\n",
       "      <th></th>\n",
       "      <th></th>\n",
       "      <th></th>\n",
       "      <th></th>\n",
       "      <th></th>\n",
       "      <th></th>\n",
       "      <th></th>\n",
       "      <th></th>\n",
       "      <th></th>\n",
       "      <th></th>\n",
       "      <th></th>\n",
       "      <th></th>\n",
       "      <th></th>\n",
       "      <th></th>\n",
       "      <th></th>\n",
       "      <th></th>\n",
       "      <th></th>\n",
       "      <th></th>\n",
       "      <th></th>\n",
       "      <th></th>\n",
       "      <th></th>\n",
       "      <th></th>\n",
       "      <th></th>\n",
       "      <th></th>\n",
       "      <th></th>\n",
       "    </tr>\n",
       "  </thead>\n",
       "  <tbody>\n",
       "    <tr>\n",
       "      <th>2056</th>\n",
       "      <td>851.997259</td>\n",
       "      <td>503.845071</td>\n",
       "      <td>1105.831344</td>\n",
       "      <td>813.577665</td>\n",
       "      <td>1093.989737</td>\n",
       "      <td>988.257002</td>\n",
       "      <td>740.437962</td>\n",
       "      <td>686.591506</td>\n",
       "      <td>978.444576</td>\n",
       "      <td>575.773056</td>\n",
       "      <td>866.119856</td>\n",
       "      <td>943.203417</td>\n",
       "      <td>467.622170</td>\n",
       "      <td>488.586266</td>\n",
       "      <td>640.932548</td>\n",
       "      <td>680.986769</td>\n",
       "      <td>740.042523</td>\n",
       "      <td>700.625621</td>\n",
       "      <td>629.152927</td>\n",
       "      <td>444.352258</td>\n",
       "      <td>676.222388</td>\n",
       "      <td>468.010992</td>\n",
       "      <td>536.058294</td>\n",
       "      <td>1064.153299</td>\n",
       "      <td>964.675704</td>\n",
       "      <td>513.427643</td>\n",
       "      <td>732.043526</td>\n",
       "      <td>755.059676</td>\n",
       "      <td>669.606739</td>\n",
       "      <td>534.313504</td>\n",
       "      <td>845.165354</td>\n",
       "      <td>493.903136</td>\n",
       "      <td>738.773610</td>\n",
       "      <td>624.331438</td>\n",
       "      <td>902.371396</td>\n",
       "      <td>619.822244</td>\n",
       "      <td>670.853590</td>\n",
       "      <td>645.688262</td>\n",
       "      <td>488.949089</td>\n",
       "      <td>884.479481</td>\n",
       "      <td>651.483728</td>\n",
       "      <td>820.823326</td>\n",
       "      <td>917.794619</td>\n",
       "      <td>741.040442</td>\n",
       "      <td>1138.281870</td>\n",
       "      <td>878.232434</td>\n",
       "    </tr>\n",
       "    <tr>\n",
       "      <th>2057</th>\n",
       "      <td>636.782966</td>\n",
       "      <td>788.033255</td>\n",
       "      <td>816.916457</td>\n",
       "      <td>991.003040</td>\n",
       "      <td>926.580795</td>\n",
       "      <td>793.264674</td>\n",
       "      <td>688.098635</td>\n",
       "      <td>1009.662933</td>\n",
       "      <td>1033.815810</td>\n",
       "      <td>1231.476748</td>\n",
       "      <td>597.669922</td>\n",
       "      <td>768.065102</td>\n",
       "      <td>866.791140</td>\n",
       "      <td>806.414083</td>\n",
       "      <td>562.554311</td>\n",
       "      <td>823.550350</td>\n",
       "      <td>553.476571</td>\n",
       "      <td>529.053174</td>\n",
       "      <td>621.473863</td>\n",
       "      <td>799.760024</td>\n",
       "      <td>810.916185</td>\n",
       "      <td>602.533851</td>\n",
       "      <td>562.922098</td>\n",
       "      <td>470.149613</td>\n",
       "      <td>640.322133</td>\n",
       "      <td>492.807252</td>\n",
       "      <td>601.945213</td>\n",
       "      <td>371.943183</td>\n",
       "      <td>582.144988</td>\n",
       "      <td>498.220296</td>\n",
       "      <td>587.272331</td>\n",
       "      <td>720.765824</td>\n",
       "      <td>816.951442</td>\n",
       "      <td>856.625787</td>\n",
       "      <td>475.585500</td>\n",
       "      <td>797.991693</td>\n",
       "      <td>863.343827</td>\n",
       "      <td>658.422003</td>\n",
       "      <td>892.461432</td>\n",
       "      <td>558.278669</td>\n",
       "      <td>508.947702</td>\n",
       "      <td>659.034883</td>\n",
       "      <td>851.746307</td>\n",
       "      <td>415.738190</td>\n",
       "      <td>685.480500</td>\n",
       "      <td>343.994940</td>\n",
       "    </tr>\n",
       "    <tr>\n",
       "      <th>2058</th>\n",
       "      <td>590.174613</td>\n",
       "      <td>479.192593</td>\n",
       "      <td>802.431536</td>\n",
       "      <td>555.180300</td>\n",
       "      <td>816.881914</td>\n",
       "      <td>614.781253</td>\n",
       "      <td>1130.574250</td>\n",
       "      <td>431.743595</td>\n",
       "      <td>970.411015</td>\n",
       "      <td>1188.927444</td>\n",
       "      <td>421.630501</td>\n",
       "      <td>606.085887</td>\n",
       "      <td>933.909708</td>\n",
       "      <td>761.894077</td>\n",
       "      <td>512.543794</td>\n",
       "      <td>465.230466</td>\n",
       "      <td>915.053522</td>\n",
       "      <td>951.393395</td>\n",
       "      <td>465.709007</td>\n",
       "      <td>842.723054</td>\n",
       "      <td>702.239113</td>\n",
       "      <td>1011.091434</td>\n",
       "      <td>918.274588</td>\n",
       "      <td>737.020519</td>\n",
       "      <td>864.071070</td>\n",
       "      <td>701.181766</td>\n",
       "      <td>907.241819</td>\n",
       "      <td>640.346398</td>\n",
       "      <td>1000.840413</td>\n",
       "      <td>757.212304</td>\n",
       "      <td>526.369502</td>\n",
       "      <td>834.178667</td>\n",
       "      <td>1101.938951</td>\n",
       "      <td>853.495268</td>\n",
       "      <td>811.600042</td>\n",
       "      <td>873.061132</td>\n",
       "      <td>567.442330</td>\n",
       "      <td>656.451365</td>\n",
       "      <td>674.863931</td>\n",
       "      <td>516.745087</td>\n",
       "      <td>511.556915</td>\n",
       "      <td>881.962999</td>\n",
       "      <td>1029.408374</td>\n",
       "      <td>665.733145</td>\n",
       "      <td>734.529440</td>\n",
       "      <td>771.757699</td>\n",
       "    </tr>\n",
       "    <tr>\n",
       "      <th>2059</th>\n",
       "      <td>316.835142</td>\n",
       "      <td>468.488144</td>\n",
       "      <td>712.478041</td>\n",
       "      <td>920.120903</td>\n",
       "      <td>1167.055956</td>\n",
       "      <td>671.569277</td>\n",
       "      <td>508.902661</td>\n",
       "      <td>412.894275</td>\n",
       "      <td>700.235651</td>\n",
       "      <td>703.791936</td>\n",
       "      <td>1372.184040</td>\n",
       "      <td>1070.790561</td>\n",
       "      <td>1001.720104</td>\n",
       "      <td>798.777796</td>\n",
       "      <td>442.940844</td>\n",
       "      <td>647.630431</td>\n",
       "      <td>806.711029</td>\n",
       "      <td>500.450968</td>\n",
       "      <td>754.921152</td>\n",
       "      <td>724.136493</td>\n",
       "      <td>510.503656</td>\n",
       "      <td>547.942141</td>\n",
       "      <td>1084.203158</td>\n",
       "      <td>841.409723</td>\n",
       "      <td>537.334112</td>\n",
       "      <td>891.222905</td>\n",
       "      <td>738.078550</td>\n",
       "      <td>676.482615</td>\n",
       "      <td>308.624381</td>\n",
       "      <td>1431.939550</td>\n",
       "      <td>421.526027</td>\n",
       "      <td>708.144619</td>\n",
       "      <td>451.213753</td>\n",
       "      <td>1111.191915</td>\n",
       "      <td>1102.959390</td>\n",
       "      <td>908.151698</td>\n",
       "      <td>906.578285</td>\n",
       "      <td>494.852470</td>\n",
       "      <td>1011.890447</td>\n",
       "      <td>606.564389</td>\n",
       "      <td>564.008451</td>\n",
       "      <td>767.854015</td>\n",
       "      <td>617.591725</td>\n",
       "      <td>650.577584</td>\n",
       "      <td>785.463824</td>\n",
       "      <td>1153.906583</td>\n",
       "    </tr>\n",
       "    <tr>\n",
       "      <th>2060</th>\n",
       "      <td>742.111598</td>\n",
       "      <td>904.312251</td>\n",
       "      <td>747.192420</td>\n",
       "      <td>641.559467</td>\n",
       "      <td>1087.671797</td>\n",
       "      <td>619.765415</td>\n",
       "      <td>435.981947</td>\n",
       "      <td>702.727727</td>\n",
       "      <td>517.355886</td>\n",
       "      <td>616.283103</td>\n",
       "      <td>774.770022</td>\n",
       "      <td>560.504417</td>\n",
       "      <td>468.434739</td>\n",
       "      <td>422.050699</td>\n",
       "      <td>432.357682</td>\n",
       "      <td>866.387090</td>\n",
       "      <td>563.531835</td>\n",
       "      <td>798.334300</td>\n",
       "      <td>806.808342</td>\n",
       "      <td>1109.636908</td>\n",
       "      <td>720.395500</td>\n",
       "      <td>756.675742</td>\n",
       "      <td>852.263824</td>\n",
       "      <td>987.930784</td>\n",
       "      <td>1044.652798</td>\n",
       "      <td>637.251830</td>\n",
       "      <td>531.131943</td>\n",
       "      <td>1101.494356</td>\n",
       "      <td>1053.233175</td>\n",
       "      <td>737.869010</td>\n",
       "      <td>768.957340</td>\n",
       "      <td>851.029068</td>\n",
       "      <td>766.288230</td>\n",
       "      <td>775.075789</td>\n",
       "      <td>1011.493876</td>\n",
       "      <td>776.802203</td>\n",
       "      <td>996.152357</td>\n",
       "      <td>921.054904</td>\n",
       "      <td>335.268635</td>\n",
       "      <td>659.871597</td>\n",
       "      <td>690.128740</td>\n",
       "      <td>287.953756</td>\n",
       "      <td>800.516957</td>\n",
       "      <td>1179.665295</td>\n",
       "      <td>793.145460</td>\n",
       "      <td>729.812794</td>\n",
       "    </tr>\n",
       "  </tbody>\n",
       "</table>"
      ],
      "text/plain": [
       "<IPython.core.display.HTML object>"
      ]
     },
     "metadata": {},
     "output_type": "display_data"
    }
   ],
   "source": [
    "display( HTML( L2AnnDF.tail().to_html() ) )"
   ]
  },
  {
   "cell_type": "code",
   "execution_count": 56,
   "id": "96eae3bb-d0d5-46be-a10b-4373b255f723",
   "metadata": {},
   "outputs": [],
   "source": [
    "L2AnnValuesList = list()"
   ]
  },
  {
   "cell_type": "code",
   "execution_count": 57,
   "id": "f51ecd98-b767-42c6-b6d2-d2bdfe82a3e9",
   "metadata": {},
   "outputs": [],
   "source": [
    "for tCol in L2Cols:\n",
    "    L2AnnValuesList.append( L2AnnDF[tCol].to_numpy(dtype=np.float32).flatten() )\n",
    "# end for"
   ]
  },
  {
   "cell_type": "code",
   "execution_count": 58,
   "id": "aa66fdfb-cbec-409d-b2fc-13d5c2f9d113",
   "metadata": {},
   "outputs": [
    {
     "data": {
      "text/plain": [
       "1380"
      ]
     },
     "execution_count": 58,
     "metadata": {},
     "output_type": "execute_result"
    }
   ],
   "source": [
    "npL2AnnVals = np.concatenate( L2AnnValuesList )\n",
    "NumL2 = len( npL2AnnVals )\n",
    "NumL2"
   ]
  },
  {
   "cell_type": "code",
   "execution_count": 59,
   "id": "013adbf7-ffe5-4977-a931-d16fea788fac",
   "metadata": {},
   "outputs": [
    {
     "data": {
      "text/plain": [
       "(723.38574, 740.8161, 227.87924)"
      ]
     },
     "execution_count": 59,
     "metadata": {},
     "output_type": "execute_result"
    }
   ],
   "source": [
    "np.median( npL2AnnVals ), npL2AnnVals.mean(), npL2AnnVals.std()"
   ]
  },
  {
   "cell_type": "code",
   "execution_count": 60,
   "id": "4128fb85-0e1a-43c1-87fe-6cc9e9f88af9",
   "metadata": {},
   "outputs": [],
   "source": [
    "L2LabelsList = [ \"LOCA2 2031-2060\" for x in range(NumL2) ]"
   ]
  },
  {
   "cell_type": "code",
   "execution_count": 61,
   "id": "81aa9ca1-c476-4b6a-a7d3-4032b302a92e",
   "metadata": {},
   "outputs": [],
   "source": [
    "InFiler = os.path.normpath( os.path.join( IN_DIR3, \"FBas_MetTS_1980to2020.xlsx\" ) )\n",
    "HODF = pd.read_excel( InFiler, sheet_name=BasKey, header=0, index_col=0, parse_dates=True )"
   ]
  },
  {
   "cell_type": "code",
   "execution_count": 62,
   "id": "80d2ff29-f9a3-42ec-9b93-5f0a53325f50",
   "metadata": {},
   "outputs": [
    {
     "data": {
      "text/html": [
       "<table border=\"1\" class=\"dataframe\">\n",
       "  <thead>\n",
       "    <tr style=\"text-align: right;\">\n",
       "      <th></th>\n",
       "      <th>Pre_mm</th>\n",
       "      <th>MaxT_C</th>\n",
       "      <th>MinT_C</th>\n",
       "      <th>AveT_C</th>\n",
       "      <th>ETo_mm</th>\n",
       "      <th>Def_mm</th>\n",
       "    </tr>\n",
       "    <tr>\n",
       "      <th>DateTime</th>\n",
       "      <th></th>\n",
       "      <th></th>\n",
       "      <th></th>\n",
       "      <th></th>\n",
       "      <th></th>\n",
       "      <th></th>\n",
       "    </tr>\n",
       "  </thead>\n",
       "  <tbody>\n",
       "    <tr>\n",
       "      <th>1980-01-01</th>\n",
       "      <td>0.0</td>\n",
       "      <td>17.303859</td>\n",
       "      <td>-3.592553</td>\n",
       "      <td>6.855653</td>\n",
       "      <td>1.707794</td>\n",
       "      <td>-1.707794</td>\n",
       "    </tr>\n",
       "    <tr>\n",
       "      <th>1980-01-02</th>\n",
       "      <td>0.0</td>\n",
       "      <td>18.565935</td>\n",
       "      <td>-0.769848</td>\n",
       "      <td>8.898044</td>\n",
       "      <td>1.854324</td>\n",
       "      <td>-1.854324</td>\n",
       "    </tr>\n",
       "    <tr>\n",
       "      <th>1980-01-03</th>\n",
       "      <td>0.0</td>\n",
       "      <td>12.745626</td>\n",
       "      <td>3.440633</td>\n",
       "      <td>8.093129</td>\n",
       "      <td>1.803282</td>\n",
       "      <td>-1.803282</td>\n",
       "    </tr>\n",
       "    <tr>\n",
       "      <th>1980-01-04</th>\n",
       "      <td>0.0</td>\n",
       "      <td>15.502990</td>\n",
       "      <td>-4.111332</td>\n",
       "      <td>5.695829</td>\n",
       "      <td>1.641585</td>\n",
       "      <td>-1.641585</td>\n",
       "    </tr>\n",
       "    <tr>\n",
       "      <th>1980-01-05</th>\n",
       "      <td>0.0</td>\n",
       "      <td>17.375581</td>\n",
       "      <td>-2.772713</td>\n",
       "      <td>7.301434</td>\n",
       "      <td>1.759256</td>\n",
       "      <td>-1.759256</td>\n",
       "    </tr>\n",
       "  </tbody>\n",
       "</table>"
      ],
      "text/plain": [
       "<IPython.core.display.HTML object>"
      ]
     },
     "metadata": {},
     "output_type": "display_data"
    }
   ],
   "source": [
    "display( HTML( HODF.head().to_html() ) )"
   ]
  },
  {
   "cell_type": "code",
   "execution_count": 63,
   "id": "26db5a44-5f76-4b80-98c6-cf437ba7e150",
   "metadata": {},
   "outputs": [],
   "source": [
    "HODF = HODF[[\"Pre_mm\"]].loc[pd.Timestamp( 1991, 1, 1, ):pd.Timestamp(2020, 12, 31, 23, 59, )].copy()"
   ]
  },
  {
   "cell_type": "code",
   "execution_count": 64,
   "id": "d874c437-f6f9-467e-a131-fc91b35c4932",
   "metadata": {},
   "outputs": [
    {
     "data": {
      "text/html": [
       "<table border=\"1\" class=\"dataframe\">\n",
       "  <thead>\n",
       "    <tr style=\"text-align: right;\">\n",
       "      <th></th>\n",
       "      <th>Pre_mm</th>\n",
       "    </tr>\n",
       "    <tr>\n",
       "      <th>DateTime</th>\n",
       "      <th></th>\n",
       "    </tr>\n",
       "  </thead>\n",
       "  <tbody>\n",
       "    <tr>\n",
       "      <th>1991-01-01</th>\n",
       "      <td>7.660768</td>\n",
       "    </tr>\n",
       "    <tr>\n",
       "      <th>1991-01-02</th>\n",
       "      <td>10.388101</td>\n",
       "    </tr>\n",
       "    <tr>\n",
       "      <th>1991-01-03</th>\n",
       "      <td>7.127173</td>\n",
       "    </tr>\n",
       "    <tr>\n",
       "      <th>1991-01-04</th>\n",
       "      <td>4.344425</td>\n",
       "    </tr>\n",
       "    <tr>\n",
       "      <th>1991-01-05</th>\n",
       "      <td>3.715259</td>\n",
       "    </tr>\n",
       "  </tbody>\n",
       "</table>"
      ],
      "text/plain": [
       "<IPython.core.display.HTML object>"
      ]
     },
     "metadata": {},
     "output_type": "display_data"
    }
   ],
   "source": [
    "display( HTML( HODF.head().to_html() ) )"
   ]
  },
  {
   "cell_type": "code",
   "execution_count": 65,
   "id": "abc43ece-cee7-4529-bc7f-1bf1ea379e40",
   "metadata": {},
   "outputs": [
    {
     "data": {
      "text/html": [
       "<table border=\"1\" class=\"dataframe\">\n",
       "  <thead>\n",
       "    <tr style=\"text-align: right;\">\n",
       "      <th></th>\n",
       "      <th>Pre_mm</th>\n",
       "    </tr>\n",
       "    <tr>\n",
       "      <th>DateTime</th>\n",
       "      <th></th>\n",
       "    </tr>\n",
       "  </thead>\n",
       "  <tbody>\n",
       "    <tr>\n",
       "      <th>2020-12-27</th>\n",
       "      <td>0.079390</td>\n",
       "    </tr>\n",
       "    <tr>\n",
       "      <th>2020-12-28</th>\n",
       "      <td>2.457424</td>\n",
       "    </tr>\n",
       "    <tr>\n",
       "      <th>2020-12-29</th>\n",
       "      <td>0.620907</td>\n",
       "    </tr>\n",
       "    <tr>\n",
       "      <th>2020-12-30</th>\n",
       "      <td>19.214696</td>\n",
       "    </tr>\n",
       "    <tr>\n",
       "      <th>2020-12-31</th>\n",
       "      <td>19.214696</td>\n",
       "    </tr>\n",
       "  </tbody>\n",
       "</table>"
      ],
      "text/plain": [
       "<IPython.core.display.HTML object>"
      ]
     },
     "metadata": {},
     "output_type": "display_data"
    }
   ],
   "source": [
    "display( HTML( HODF.tail().to_html() ) )"
   ]
  },
  {
   "cell_type": "code",
   "execution_count": 66,
   "id": "ab440b57-9736-4f9d-8a2a-3961e8cb5f5f",
   "metadata": {},
   "outputs": [],
   "source": [
    "HOAnnDF = HODF.resample( 'AS' ).sum()"
   ]
  },
  {
   "cell_type": "code",
   "execution_count": 67,
   "id": "9d7f4152-6d7a-4074-8f8d-ac92f6afe8f3",
   "metadata": {},
   "outputs": [
    {
     "data": {
      "text/html": [
       "<table border=\"1\" class=\"dataframe\">\n",
       "  <thead>\n",
       "    <tr style=\"text-align: right;\">\n",
       "      <th></th>\n",
       "      <th>Pre_mm</th>\n",
       "    </tr>\n",
       "    <tr>\n",
       "      <th>DateTime</th>\n",
       "      <th></th>\n",
       "    </tr>\n",
       "  </thead>\n",
       "  <tbody>\n",
       "    <tr>\n",
       "      <th>1991-01-01</th>\n",
       "      <td>1141.431636</td>\n",
       "    </tr>\n",
       "    <tr>\n",
       "      <th>1992-01-01</th>\n",
       "      <td>1185.570883</td>\n",
       "    </tr>\n",
       "    <tr>\n",
       "      <th>1993-01-01</th>\n",
       "      <td>624.570023</td>\n",
       "    </tr>\n",
       "    <tr>\n",
       "      <th>1994-01-01</th>\n",
       "      <td>937.118209</td>\n",
       "    </tr>\n",
       "    <tr>\n",
       "      <th>1995-01-01</th>\n",
       "      <td>743.702054</td>\n",
       "    </tr>\n",
       "  </tbody>\n",
       "</table>"
      ],
      "text/plain": [
       "<IPython.core.display.HTML object>"
      ]
     },
     "metadata": {},
     "output_type": "display_data"
    }
   ],
   "source": [
    "display( HTML( HOAnnDF.head().to_html() ) )"
   ]
  },
  {
   "cell_type": "code",
   "execution_count": 68,
   "id": "0f7b6586-fdda-4bad-8ed2-e88d81af5e5b",
   "metadata": {},
   "outputs": [
    {
     "data": {
      "text/html": [
       "<table border=\"1\" class=\"dataframe\">\n",
       "  <thead>\n",
       "    <tr style=\"text-align: right;\">\n",
       "      <th></th>\n",
       "      <th>Pre_mm</th>\n",
       "    </tr>\n",
       "    <tr>\n",
       "      <th>DateTime</th>\n",
       "      <th></th>\n",
       "    </tr>\n",
       "  </thead>\n",
       "  <tbody>\n",
       "    <tr>\n",
       "      <th>2016-01-01</th>\n",
       "      <td>1097.159992</td>\n",
       "    </tr>\n",
       "    <tr>\n",
       "      <th>2017-01-01</th>\n",
       "      <td>739.799837</td>\n",
       "    </tr>\n",
       "    <tr>\n",
       "      <th>2018-01-01</th>\n",
       "      <td>998.358529</td>\n",
       "    </tr>\n",
       "    <tr>\n",
       "      <th>2019-01-01</th>\n",
       "      <td>638.187628</td>\n",
       "    </tr>\n",
       "    <tr>\n",
       "      <th>2020-01-01</th>\n",
       "      <td>765.246631</td>\n",
       "    </tr>\n",
       "  </tbody>\n",
       "</table>"
      ],
      "text/plain": [
       "<IPython.core.display.HTML object>"
      ]
     },
     "metadata": {},
     "output_type": "display_data"
    }
   ],
   "source": [
    "display( HTML( HOAnnDF.tail().to_html() ) )"
   ]
  },
  {
   "cell_type": "code",
   "execution_count": 69,
   "id": "870757dd-759a-45be-ab18-9ac1413a30cc",
   "metadata": {},
   "outputs": [
    {
     "data": {
      "text/plain": [
       "30"
      ]
     },
     "execution_count": 69,
     "metadata": {},
     "output_type": "execute_result"
    }
   ],
   "source": [
    "npHOAnnVals = HOAnnDF[\"Pre_mm\"].to_numpy(dtype=np.float32).flatten()\n",
    "NumHO = len( npHOAnnVals )\n",
    "NumHO"
   ]
  },
  {
   "cell_type": "code",
   "execution_count": 70,
   "id": "0a87f58b-e91d-4c9e-87e5-a6cca9dc87f2",
   "metadata": {},
   "outputs": [
    {
     "data": {
      "text/plain": [
       "(810.9795, 862.9069, 260.91217)"
      ]
     },
     "execution_count": 70,
     "metadata": {},
     "output_type": "execute_result"
    }
   ],
   "source": [
    "np.median( npHOAnnVals ), npHOAnnVals.mean(), npHOAnnVals.std()"
   ]
  },
  {
   "cell_type": "code",
   "execution_count": 71,
   "id": "178d4fbf-8134-4967-b730-8ea6872deea3",
   "metadata": {},
   "outputs": [],
   "source": [
    "HOLabelsList = [ \"Obs. 1991-2020\" for x in range(NumHO) ]"
   ]
  },
  {
   "cell_type": "markdown",
   "id": "011d3358-9171-4a4b-a64e-b163e81937d1",
   "metadata": {},
   "source": [
    "Make the combined DataFrame for plotting"
   ]
  },
  {
   "cell_type": "code",
   "execution_count": 72,
   "id": "1f6f02e3-0a7c-4662-8fa5-236cc01b56aa",
   "metadata": {},
   "outputs": [
    {
     "data": {
      "text/plain": [
       "31410"
      ]
     },
     "execution_count": 72,
     "metadata": {},
     "output_type": "execute_result"
    }
   ],
   "source": [
    "AllLabelsList = deepcopy( WGLabelsList )\n",
    "AllLabelsList.extend( L2LabelsList )\n",
    "AllLabelsList.extend( HOLabelsList )\n",
    "len( AllLabelsList )"
   ]
  },
  {
   "cell_type": "code",
   "execution_count": 73,
   "id": "62352c73-e5d5-4a62-8e99-e2b7ed98ece5",
   "metadata": {},
   "outputs": [
    {
     "data": {
      "text/plain": [
       "31410"
      ]
     },
     "execution_count": 73,
     "metadata": {},
     "output_type": "execute_result"
    }
   ],
   "source": [
    "npAllAnn = np.concatenate( [npWGAnnVals, npL2AnnVals, npHOAnnVals], )\n",
    "len( npAllAnn )"
   ]
  },
  {
   "cell_type": "code",
   "execution_count": 74,
   "id": "3df4bbc5-5136-44e6-91a8-8415d6d3cc65",
   "metadata": {},
   "outputs": [],
   "source": [
    "DataDict = { \"Labels\" : AllLabelsList, \"AnnPre_mm\" : npAllAnn, }\n",
    "BwDF = pd.DataFrame( data=DataDict )"
   ]
  },
  {
   "cell_type": "code",
   "execution_count": 77,
   "id": "b345bfd3-361c-4ba8-8ff4-f5222425924a",
   "metadata": {},
   "outputs": [],
   "source": [
    "OutFilePDF = os.path.normpath( os.path.join( OUT_DIR, \"Plots\", \"BW_AnnPrecipDepth_%s.pdf\" % BasKey ) )\n",
    "OutFileSVG = os.path.normpath( os.path.join( OUT_DIR, \"Plots\", \"BW_AnnPrecipDepth_%s.svg\" % BasKey ) )\n",
    "OutFilePNG = os.path.normpath( os.path.join( OUT_DIR, \"Plots\", \"BW_AnnPrecipDepth_%s.png\" % BasKey ) )"
   ]
  },
  {
   "cell_type": "code",
   "execution_count": 78,
   "id": "27ce1931-2bc1-491e-b2ae-6b73d557f582",
   "metadata": {},
   "outputs": [
    {
     "data": {
      "image/png": "[encoded data removed]",
      "text/plain": [
       "<Figure size 650x500 with 1 Axes>"
      ]
     },
     "metadata": {},
     "output_type": "display_data"
    }
   ],
   "source": [
    "Fig1 = plt.figure()\n",
    "Fig1.set_size_inches(6.5, 5.0)\n",
    "ax11 = Fig1.add_subplot(111)\n",
    "g1 = sns.boxplot( x=\"Labels\", y=\"AnnPre_mm\", hue=\"Labels\", orient=\"v\", \n",
    "                  linewidth=1.0, showmeans=True, dodge=False,\n",
    "                  palette={ \"Obs. 1991-2020\" : \"xkcd:sky blue\",\n",
    "                            \"LOCA2 2031-2060\" : \"xkcd:ocean blue\",\n",
    "                            \"WG 2031-2060\" : \"xkcd:pumpkin\", },\n",
    "                  data=BwDF, ax=ax11 )\n",
    "g1.legend(loc=\"upper right\", framealpha=1.0, fontsize=9 )\n",
    "#g1.set_yscale('log')\n",
    "g1.grid(visible=True, which=\"both\", axis='y')\n",
    "#g1.set_yticks( preTicks )\n",
    "g1.set_xlabel('', fontsize=10 )\n",
    "g1.set_ylabel('Annual Precipitation Depth ($mm$)', fontsize=10)\n",
    "g1.set_ylim( ( 0.0, 2000.0))\n",
    "g1.tick_params(axis='both', which='major', labelsize=10)\n",
    "g1.yaxis.set_major_formatter( mpl.ticker.StrMethodFormatter( \"{x:,.0f}\" ) )\n",
    "Fig1.savefig( OutFileSVG, dpi=600 )\n",
    "Fig1.savefig( OutFilePNG, dpi=600 )\n",
    "Fig1.savefig( OutFilePDF, dpi=600 )"
   ]
  },
  {
   "cell_type": "code",
   "execution_count": null,
   "id": "7af97a1a-19c5-4227-b2f8-eb0ca9e97b94",
   "metadata": {},
   "outputs": [],
   "source": []
  }
 ],
 "metadata": {
  "kernelspec": {
   "display_name": "Python 3 (ipykernel)",
   "language": "python",
   "name": "python3"
  },
  "language_info": {
   "codemirror_mode": {
    "name": "ipython",
    "version": 3
   },
   "file_extension": ".py",
   "mimetype": "text/x-python",
   "name": "python",
   "nbconvert_exporter": "python",
   "pygments_lexer": "ipython3",
   "version": "3.9.15"
  }
 },
 "nbformat": 4,
 "nbformat_minor": 5
}
