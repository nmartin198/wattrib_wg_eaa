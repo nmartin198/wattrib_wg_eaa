{
 "cells": [
  {
   "cell_type": "markdown",
   "id": "d17701af-73e7-47b3-8cde-e5afb9dfdf23",
   "metadata": {},
   "source": [
    "# Weather Generator, Annual Averages and Counts: Blanco"
   ]
  },
  {
   "cell_type": "markdown",
   "id": "fa4c8225-39c3-4591-8323-8e6ec503eaa9",
   "metadata": {},
   "source": [
    "The purpose of this notebook is to calculate annual average precipitation, PET, and deficit for comparison to 1991-2020 values and to count SPEI and SPI values below/above a threshold."
   ]
  },
  {
   "cell_type": "markdown",
   "id": "b84a9524-05c7-4c01-a94f-9195230b27a5",
   "metadata": {},
   "source": [
    "## Imports and Parameters"
   ]
  },
  {
   "cell_type": "code",
   "execution_count": 1,
   "id": "c6b88a2e-4a72-4087-b762-dcbf3fe3f0cf",
   "metadata": {},
   "outputs": [],
   "source": [
    "%matplotlib inline"
   ]
  },
  {
   "cell_type": "code",
   "execution_count": 2,
   "id": "553f2e5e-02fd-42f6-b25a-ff9ab2803a92",
   "metadata": {},
   "outputs": [],
   "source": [
    "import os\n",
    "from IPython.display import display, HTML\n",
    "import pandas as pd\n",
    "import numpy as np\n",
    "import matplotlib as mpl\n",
    "import matplotlib.pyplot as plt\n",
    "from scipy import stats as sstats\n",
    "from math import exp\n",
    "import datetime as dt\n",
    "import seaborn as sns\n",
    "import pickle\n",
    "from copy import deepcopy"
   ]
  },
  {
   "cell_type": "code",
   "execution_count": 3,
   "id": "a795dfa4-f5e5-479a-85e7-4298d189e5b4",
   "metadata": {},
   "outputs": [],
   "source": [
    "BasKey = \"Blanco\""
   ]
  },
  {
   "cell_type": "code",
   "execution_count": 4,
   "id": "24768bd8-d0ee-4c66-8e9a-e80b6512cb42",
   "metadata": {},
   "outputs": [],
   "source": [
    "NumReal = 1000"
   ]
  },
  {
   "cell_type": "code",
   "execution_count": 5,
   "id": "9448731a-804d-449c-910c-488bb95a84cf",
   "metadata": {},
   "outputs": [],
   "source": [
    "plt.rcParams['svg.fonttype'] = 'none'"
   ]
  },
  {
   "cell_type": "code",
   "execution_count": 6,
   "id": "87aa9bc7-21e5-488b-901a-145117c3d1b7",
   "metadata": {},
   "outputs": [],
   "source": [
    "IN_DIR1 = r'C:\\Users\\nmartin\\Documents\\EAA_Drought_Future_Weather\\NumModels\\Final\\%s\\Results\\Simulated' % BasKey\n",
    "IN_DIR2 = r'C:\\Users\\nmartin\\Documents\\EAA_HCP\\Data\\SwRI_Processed\\LOCA2\\CN2031_2060'\n",
    "IN_DIR3 = r'C:\\Users\\nmartin\\Documents\\EAA_HCP\\Data\\SwRI_Processed\\Processed_Historical'\n",
    "OUT_DIR = r'C:\\Users\\nmartin\\Documents\\EAA_Drought_Future_Weather\\NumModels\\Final\\%s\\Results\\Processed' % BasKey"
   ]
  },
  {
   "cell_type": "code",
   "execution_count": 7,
   "id": "6c96ee83-328b-4d4f-82dc-002fcc744bae",
   "metadata": {},
   "outputs": [
    {
     "data": {
      "text/plain": [
       "30"
      ]
     },
     "execution_count": 7,
     "metadata": {},
     "output_type": "execute_result"
    }
   ],
   "source": [
    "CNStartTS = pd.Timestamp( 2031, 1, 1, )\n",
    "CNStopTS = pd.Timestamp( 2060, 12, 31, 23, 59, )\n",
    "CNAnnIndexer = pd.date_range( start=CNStartTS, end=CNStopTS, freq='AS' )\n",
    "len( CNAnnIndexer )"
   ]
  },
  {
   "cell_type": "code",
   "execution_count": 8,
   "id": "e12a7a69-4399-429b-857f-10f7ce3cd074",
   "metadata": {},
   "outputs": [
    {
     "data": {
      "text/plain": [
       "42"
      ]
     },
     "execution_count": 8,
     "metadata": {},
     "output_type": "execute_result"
    }
   ],
   "source": [
    "SimStartTS = pd.Timestamp(2024, 1, 1, 0, )\n",
    "SimStopTS = pd.Timestamp( 2065, 12, 31, 23, 59, )\n",
    "OAAnnIndexer = pd.date_range( start=SimStartTS, end=SimStopTS, freq='AS' )\n",
    "len( OAAnnIndexer )"
   ]
  },
  {
   "cell_type": "code",
   "execution_count": 9,
   "id": "d5e13543-1455-4f82-bb28-9dab7b5e6638",
   "metadata": {},
   "outputs": [],
   "source": [
    "ProjFileRoot = \"%s_R%d_DF.pickle\""
   ]
  },
  {
   "cell_type": "code",
   "execution_count": 10,
   "id": "d078d4e0-f628-4bcd-8c5d-5fcaf72b6a2f",
   "metadata": {},
   "outputs": [],
   "source": [
    "ColsList = list()\n",
    "for cR in range(1, NumReal+1):\n",
    "    ColsList.append( \"R%04d\" % cR )\n",
    "# end for"
   ]
  },
  {
   "cell_type": "code",
   "execution_count": 11,
   "id": "9b5e9b1d-0010-46ad-937d-50c19aefa911",
   "metadata": {},
   "outputs": [],
   "source": [
    "# our standard normal or ZScore parameters\n",
    "ZMu = 0.0\n",
    "ZStd = 1.0"
   ]
  },
  {
   "cell_type": "markdown",
   "id": "2b71ef3c-70d0-4f66-b994-e4b9d862f88e",
   "metadata": {},
   "source": [
    "## Collate Annual Averages"
   ]
  },
  {
   "cell_type": "markdown",
   "id": "d3fc85df-c804-4192-a199-98a563b5461d",
   "metadata": {},
   "source": [
    "Go through all realizations and get annual averages for the entire simulation period. Then get just for our analysis interval and get overall averages for the analysis window."
   ]
  },
  {
   "cell_type": "code",
   "execution_count": 12,
   "id": "f2d54ec2-b159-4712-b6d7-f27d76a690fb",
   "metadata": {},
   "outputs": [],
   "source": [
    "AnnPreDF = pd.DataFrame( 0.0, index=OAAnnIndexer, columns=ColsList, dtype=np.float32 )\n",
    "AnnEToDF = pd.DataFrame( 0.0, index=OAAnnIndexer, columns=ColsList, dtype=np.float32 )\n",
    "AnnDefDF = pd.DataFrame( 0.0, index=OAAnnIndexer, columns=ColsList, dtype=np.float32 )"
   ]
  },
  {
   "cell_type": "code",
   "execution_count": 13,
   "id": "f7a7fdfc-70fc-4dac-95a1-b719ccb97ee4",
   "metadata": {},
   "outputs": [],
   "source": [
    "CNAnnPreDF = pd.DataFrame( 0.0, index=CNAnnIndexer, columns=ColsList, dtype=np.float32 )\n",
    "CNAnnEToDF = pd.DataFrame( 0.0, index=CNAnnIndexer, columns=ColsList, dtype=np.float32 )\n",
    "CNAnnDefDF = pd.DataFrame( 0.0, index=CNAnnIndexer, columns=ColsList, dtype=np.float32 )"
   ]
  },
  {
   "cell_type": "code",
   "execution_count": 14,
   "id": "5b2a86b8-478c-486c-9b04-4f5851fbb606",
   "metadata": {},
   "outputs": [],
   "source": [
    "for cR in range(1, NumReal+1):\n",
    "    curCol = \"R%04d\" % cR\n",
    "    InFiler = os.path.normpath( os.path.join( IN_DIR1, ProjFileRoot % (BasKey, cR) ) )\n",
    "    curDF = pd.read_pickle( InFiler, compression='zip' )\n",
    "    cPreDF = curDF[[\"Precip_mm\"]].copy()\n",
    "    cPreDF.columns = [\"Pre_mm\"]\n",
    "    cEToDF = curDF[[\"ETo_mm\"]].copy()\n",
    "    cDefDF = curDF[[\"Def_mm\"]].copy()\n",
    "    curAnnPre = cPreDF.resample( 'AS' ).sum()\n",
    "    curAnnETo = cEToDF.resample( 'AS' ).sum()\n",
    "    curAnnDef = cDefDF.resample( 'AS' ).sum()\n",
    "    # set to the correct time durations\n",
    "    curCNAnnPre = curAnnPre.loc[CNStartTS:CNStopTS].copy()\n",
    "    curCNAnnETo = curAnnETo.loc[CNStartTS:CNStopTS].copy()\n",
    "    curCNAnnDef = curAnnDef.loc[CNStartTS:CNStopTS].copy()\n",
    "    # now assign to our columns in tracking DataFrames\n",
    "    AnnPreDF[curCol] = curAnnPre[\"Pre_mm\"].to_numpy(dtype=np.float32)\n",
    "    AnnEToDF[curCol] = curAnnETo[\"ETo_mm\"].to_numpy(dtype=np.float32)\n",
    "    AnnDefDF[curCol] = curAnnDef[\"Def_mm\"].to_numpy(dtype=np.float32)\n",
    "    CNAnnPreDF[curCol] = curCNAnnPre[\"Pre_mm\"].to_numpy(dtype=np.float32)\n",
    "    CNAnnEToDF[curCol] = curCNAnnETo[\"ETo_mm\"].to_numpy(dtype=np.float32)\n",
    "    CNAnnDefDF[curCol] = curCNAnnDef[\"Def_mm\"].to_numpy(dtype=np.float32)\n",
    "# end for"
   ]
  },
  {
   "cell_type": "code",
   "execution_count": 15,
   "id": "a2671d99-fad7-48c3-a8d3-7e855793d0f0",
   "metadata": {},
   "outputs": [],
   "source": [
    "AnnPreDF[\"EnsAve\"] = AnnPreDF.mean(axis=1)\n",
    "AnnEToDF[\"EnsAve\"] = AnnEToDF.mean(axis=1)\n",
    "AnnDefDF[\"EnsAve\"] = AnnDefDF.mean(axis=1)\n",
    "CNAnnPreDF[\"EnsAve\"] = CNAnnPreDF.mean(axis=1)\n",
    "CNAnnEToDF[\"EnsAve\"] = CNAnnEToDF.mean(axis=1)\n",
    "CNAnnDefDF[\"EnsAve\"] = CNAnnDefDF.mean(axis=1)\n",
    "ColsList.append( \"EnsAve\" )"
   ]
  },
  {
   "cell_type": "code",
   "execution_count": 16,
   "id": "cc1bfa57-d701-48e4-a0d6-efc09a3fd5e5",
   "metadata": {},
   "outputs": [],
   "source": [
    "AnnSummDF = pd.DataFrame( index=[BasKey], data={\"Pre_mm\" : [CNAnnPreDF[\"EnsAve\"].mean(),], \"ETo_mm\" : [CNAnnEToDF[\"EnsAve\"].mean(),], \n",
    "                                                \"Def_mm\" : [CNAnnDefDF[\"EnsAve\"].mean(),],} )"
   ]
  },
  {
   "cell_type": "markdown",
   "id": "68cc9dae-5833-4d8d-8fd2-4617e67080bf",
   "metadata": {},
   "source": [
    "Output to a spreadsheet"
   ]
  },
  {
   "cell_type": "code",
   "execution_count": 17,
   "id": "4083db5e-3a44-4fa6-b8ba-d6a7787eed39",
   "metadata": {},
   "outputs": [],
   "source": [
    "OutFiler = os.path.normpath( os.path.join( OUT_DIR, \"AnnualAverages_%s_%d-Real.xlsx\" % (BasKey, NumReal) ) )\n",
    "writer = pd.ExcelWriter( OutFiler )\n",
    "workbook  = writer.book\n",
    "format1 = workbook.add_format({'num_format': '#,##0.00'})\n",
    "cLabel = \"Summary\"\n",
    "AnnSummDF.to_excel( writer, sheet_name=cLabel, )\n",
    "# adjust columns\n",
    "writer.sheets[cLabel].set_column( 0, 0, 18 )\n",
    "for column in AnnSummDF:\n",
    "    column_width = max(AnnSummDF[column].astype(str).map(len).max()+6, len(column)+6)\n",
    "    col_idx = AnnSummDF.columns.get_loc(column)\n",
    "    writer.sheets[cLabel].set_column(col_idx+1, col_idx+1, column_width, format1)\n",
    "# end for\n",
    "cLabel = \"Pre_mm_all\"\n",
    "AnnPreDF.to_excel( writer, sheet_name=cLabel, index_label=\"DateTime\", columns=ColsList )\n",
    "# adjust columns\n",
    "writer.sheets[cLabel].set_column( 0, 0, 18 )\n",
    "for column in ColsList:\n",
    "    column_width = max(AnnPreDF[column].astype(str).map(len).max()+6, len(column)+6)\n",
    "    col_idx = AnnPreDF.columns.get_loc(column)\n",
    "    writer.sheets[cLabel].set_column(col_idx+1, col_idx+1, column_width, format1)\n",
    "# end for\n",
    "cLabel = \"ETo_mm_all\"\n",
    "AnnEToDF.to_excel( writer, sheet_name=cLabel, index_label=\"DateTime\", columns=ColsList )\n",
    "# adjust columns\n",
    "writer.sheets[cLabel].set_column( 0, 0, 18 )\n",
    "for column in ColsList:\n",
    "    column_width = max(AnnEToDF[column].astype(str).map(len).max()+6, len(column)+6)\n",
    "    col_idx = AnnEToDF.columns.get_loc(column)\n",
    "    writer.sheets[cLabel].set_column(col_idx+1, col_idx+1, column_width, format1)\n",
    "# end for\n",
    "cLabel = \"Def_mm_all\"\n",
    "AnnDefDF.to_excel( writer, sheet_name=cLabel, index_label=\"DateTime\", columns=ColsList )\n",
    "# adjust columns\n",
    "writer.sheets[cLabel].set_column( 0, 0, 18 )\n",
    "for column in ColsList:\n",
    "    column_width = max(AnnDefDF[column].astype(str).map(len).max()+6, len(column)+6)\n",
    "    col_idx = AnnDefDF.columns.get_loc(column)\n",
    "    writer.sheets[cLabel].set_column(col_idx+1, col_idx+1, column_width, format1)\n",
    "# end for\n",
    "cLabel = \"Pre_mm_CN\"\n",
    "CNAnnPreDF.to_excel( writer, sheet_name=cLabel, index_label=\"DateTime\", columns=ColsList )\n",
    "# adjust columns\n",
    "writer.sheets[cLabel].set_column( 0, 0, 18 )\n",
    "for column in ColsList:\n",
    "    column_width = max(CNAnnPreDF[column].astype(str).map(len).max()+6, len(column)+6)\n",
    "    col_idx = CNAnnPreDF.columns.get_loc(column)\n",
    "    writer.sheets[cLabel].set_column(col_idx+1, col_idx+1, column_width, format1)\n",
    "# end for\n",
    "cLabel = \"ETo_mm_CN\"\n",
    "CNAnnEToDF.to_excel( writer, sheet_name=cLabel, index_label=\"DateTime\", columns=ColsList )\n",
    "# adjust columns\n",
    "writer.sheets[cLabel].set_column( 0, 0, 18 )\n",
    "for column in ColsList:\n",
    "    column_width = max(CNAnnEToDF[column].astype(str).map(len).max()+6, len(column)+6)\n",
    "    col_idx = CNAnnEToDF.columns.get_loc(column)\n",
    "    writer.sheets[cLabel].set_column(col_idx+1, col_idx+1, column_width, format1)\n",
    "# end for\n",
    "cLabel = \"Def_mm_CN\"\n",
    "CNAnnDefDF.to_excel( writer, sheet_name=cLabel, index_label=\"DateTime\", columns=ColsList )\n",
    "# adjust columns\n",
    "writer.sheets[cLabel].set_column( 0, 0, 18 )\n",
    "for column in ColsList:\n",
    "    column_width = max(CNAnnDefDF[column].astype(str).map(len).max()+6, len(column)+6)\n",
    "    col_idx = CNAnnDefDF.columns.get_loc(column)\n",
    "    writer.sheets[cLabel].set_column(col_idx+1, col_idx+1, column_width, format1)\n",
    "# end for\n",
    "writer.close()"
   ]
  },
  {
   "cell_type": "markdown",
   "id": "8cc3ed6f-0207-4113-ac19-bc9da4cc1edd",
   "metadata": {},
   "source": [
    "## Get SPEI and SPI Counts"
   ]
  },
  {
   "cell_type": "markdown",
   "id": "5a30dc5e-3977-4eaf-8de2-9faee359fc1e",
   "metadata": {},
   "source": [
    "Get our counts for SPEI $\\le$ -1.5 and for SPI $\\ge$ 1.5"
   ]
  },
  {
   "cell_type": "code",
   "execution_count": 18,
   "id": "bc1b4225-5b47-429b-91e1-68579d75d744",
   "metadata": {},
   "outputs": [
    {
     "data": {
      "text/plain": [
       "(0.06680720126885807, 0.016666666666666666, 14.968446230453697)"
      ]
     },
     "execution_count": 18,
     "metadata": {},
     "output_type": "execute_result"
    }
   ],
   "source": [
    "F_SPEI = sstats.norm.cdf( -1.5, loc=ZMu, scale=ZStd )\n",
    "F_SPEI, 1.0/60.0, 1.0/F_SPEI"
   ]
  },
  {
   "cell_type": "code",
   "execution_count": 19,
   "id": "09377aa9-7641-40f2-ad6e-420cf927a656",
   "metadata": {},
   "outputs": [
    {
     "data": {
      "text/plain": [
       "(0.9331927987311419,\n",
       " 0.06680720126885809,\n",
       " 0.016666666666666666,\n",
       " 14.968446230453694)"
      ]
     },
     "execution_count": 19,
     "metadata": {},
     "output_type": "execute_result"
    }
   ],
   "source": [
    "F_SPI = sstats.norm.cdf( 1.5, loc=ZMu, scale=ZStd )\n",
    "F_SPI, (1.0 - F_SPI), 1.0/60.0, (1.0/(1.0-F_SPI))"
   ]
  },
  {
   "cell_type": "code",
   "execution_count": 20,
   "id": "d770a46f-efd3-4387-9dee-f8c21f2d3e3e",
   "metadata": {},
   "outputs": [],
   "source": [
    "InFiler = os.path.normpath( os.path.join( OUT_DIR, \"%s_SPEI.xlsx\" % BasKey ) )\n",
    "SpeiDF = pd.read_excel( InFiler, sheet_name=\"SPEI_3mo\", header=0, index_col=0, parse_dates=True )"
   ]
  },
  {
   "cell_type": "code",
   "execution_count": 21,
   "id": "e7f17f48-d42f-4099-8e7b-f00a4608f476",
   "metadata": {},
   "outputs": [],
   "source": [
    "InFiler = os.path.normpath( os.path.join( OUT_DIR, \"%s_SPI.xlsx\" % BasKey ) )\n",
    "SpiDF = pd.read_excel( InFiler, sheet_name=\"SPI_3mo\", header=0, index_col=0, parse_dates=True )"
   ]
  },
  {
   "cell_type": "code",
   "execution_count": 22,
   "id": "3f5a0a08-a7a5-48b0-a0c1-c2f616223999",
   "metadata": {},
   "outputs": [],
   "source": [
    "HistSPEIDF = SpeiDF[[\"SPEI (1981-2010)\"]].copy()\n",
    "L2SPEIDF = SpeiDF[[\"LOCA2 SPEI (2031-2060)\"]].copy()\n",
    "WGSPEIDF = SpeiDF[[\"WG SPEI (2031-2060)\"]].copy()"
   ]
  },
  {
   "cell_type": "code",
   "execution_count": 23,
   "id": "2efa42b2-d85d-4112-8357-def54e0a5150",
   "metadata": {},
   "outputs": [
    {
     "data": {
      "text/plain": [
       "27"
      ]
     },
     "execution_count": 23,
     "metadata": {},
     "output_type": "execute_result"
    }
   ],
   "source": [
    "HistSPEIDF = HistSPEIDF[HistSPEIDF[\"SPEI (1981-2010)\"] <= -1.5].copy()\n",
    "NumHist = len( HistSPEIDF )\n",
    "NumHist"
   ]
  },
  {
   "cell_type": "code",
   "execution_count": 24,
   "id": "e76d1b6c-94ce-4b1d-b3d3-652841d84b93",
   "metadata": {},
   "outputs": [
    {
     "data": {
      "text/html": [
       "<table border=\"1\" class=\"dataframe\">\n",
       "  <thead>\n",
       "    <tr style=\"text-align: right;\">\n",
       "      <th></th>\n",
       "      <th>SPEI (1981-2010)</th>\n",
       "    </tr>\n",
       "    <tr>\n",
       "      <th>DateTime</th>\n",
       "      <th></th>\n",
       "    </tr>\n",
       "  </thead>\n",
       "  <tbody>\n",
       "    <tr>\n",
       "      <th>1996-03-01</th>\n",
       "      <td>-1.674177</td>\n",
       "    </tr>\n",
       "    <tr>\n",
       "      <th>1998-06-01</th>\n",
       "      <td>-1.840720</td>\n",
       "    </tr>\n",
       "    <tr>\n",
       "      <th>1998-07-01</th>\n",
       "      <td>-1.572227</td>\n",
       "    </tr>\n",
       "    <tr>\n",
       "      <th>1999-10-01</th>\n",
       "      <td>-2.128045</td>\n",
       "    </tr>\n",
       "    <tr>\n",
       "      <th>1999-11-01</th>\n",
       "      <td>-1.825247</td>\n",
       "    </tr>\n",
       "    <tr>\n",
       "      <th>2000-09-01</th>\n",
       "      <td>-1.580927</td>\n",
       "    </tr>\n",
       "    <tr>\n",
       "      <th>2003-05-01</th>\n",
       "      <td>-1.913185</td>\n",
       "    </tr>\n",
       "    <tr>\n",
       "      <th>2006-01-01</th>\n",
       "      <td>-1.606320</td>\n",
       "    </tr>\n",
       "    <tr>\n",
       "      <th>2008-06-01</th>\n",
       "      <td>-1.567194</td>\n",
       "    </tr>\n",
       "    <tr>\n",
       "      <th>2008-11-01</th>\n",
       "      <td>-1.826070</td>\n",
       "    </tr>\n",
       "    <tr>\n",
       "      <th>2009-01-01</th>\n",
       "      <td>-1.612056</td>\n",
       "    </tr>\n",
       "    <tr>\n",
       "      <th>2009-07-01</th>\n",
       "      <td>-1.513710</td>\n",
       "    </tr>\n",
       "    <tr>\n",
       "      <th>2009-08-01</th>\n",
       "      <td>-1.949647</td>\n",
       "    </tr>\n",
       "    <tr>\n",
       "      <th>2011-04-01</th>\n",
       "      <td>-2.128045</td>\n",
       "    </tr>\n",
       "    <tr>\n",
       "      <th>2011-05-01</th>\n",
       "      <td>-2.128045</td>\n",
       "    </tr>\n",
       "    <tr>\n",
       "      <th>2011-06-01</th>\n",
       "      <td>-1.781453</td>\n",
       "    </tr>\n",
       "    <tr>\n",
       "      <th>2011-07-01</th>\n",
       "      <td>-1.663466</td>\n",
       "    </tr>\n",
       "    <tr>\n",
       "      <th>2011-08-01</th>\n",
       "      <td>-2.128045</td>\n",
       "    </tr>\n",
       "    <tr>\n",
       "      <th>2011-09-01</th>\n",
       "      <td>-2.021024</td>\n",
       "    </tr>\n",
       "    <tr>\n",
       "      <th>2011-10-01</th>\n",
       "      <td>-1.823174</td>\n",
       "    </tr>\n",
       "    <tr>\n",
       "      <th>2022-01-01</th>\n",
       "      <td>-1.620592</td>\n",
       "    </tr>\n",
       "    <tr>\n",
       "      <th>2022-02-01</th>\n",
       "      <td>-1.754955</td>\n",
       "    </tr>\n",
       "    <tr>\n",
       "      <th>2022-03-01</th>\n",
       "      <td>-2.033366</td>\n",
       "    </tr>\n",
       "    <tr>\n",
       "      <th>2022-04-01</th>\n",
       "      <td>-2.128045</td>\n",
       "    </tr>\n",
       "    <tr>\n",
       "      <th>2022-05-01</th>\n",
       "      <td>-2.128045</td>\n",
       "    </tr>\n",
       "    <tr>\n",
       "      <th>2022-06-01</th>\n",
       "      <td>-1.923215</td>\n",
       "    </tr>\n",
       "    <tr>\n",
       "      <th>2022-07-01</th>\n",
       "      <td>-1.812311</td>\n",
       "    </tr>\n",
       "  </tbody>\n",
       "</table>"
      ],
      "text/plain": [
       "<IPython.core.display.HTML object>"
      ]
     },
     "metadata": {},
     "output_type": "display_data"
    }
   ],
   "source": [
    "display( HTML( HistSPEIDF.to_html() ) )"
   ]
  },
  {
   "cell_type": "code",
   "execution_count": 25,
   "id": "20d7e24b-5ac5-45ea-8db1-15e66d6d63b0",
   "metadata": {},
   "outputs": [
    {
     "data": {
      "text/plain": [
       "-2.128045320510864"
      ]
     },
     "execution_count": 25,
     "metadata": {},
     "output_type": "execute_result"
    }
   ],
   "source": [
    "HistSPEIDF[\"SPEI (1981-2010)\"].min()"
   ]
  },
  {
   "cell_type": "code",
   "execution_count": 26,
   "id": "ebde906e-de7e-407b-9137-d03de7f87704",
   "metadata": {},
   "outputs": [
    {
     "data": {
      "text/plain": [
       "14"
      ]
     },
     "execution_count": 26,
     "metadata": {},
     "output_type": "execute_result"
    }
   ],
   "source": [
    "L2SPEIDF = L2SPEIDF[L2SPEIDF[\"LOCA2 SPEI (2031-2060)\"] <= -1.5].copy()\n",
    "NumL2 = len( L2SPEIDF )\n",
    "NumL2"
   ]
  },
  {
   "cell_type": "code",
   "execution_count": 27,
   "id": "6b129455-efe1-40cd-a3da-471c993b55a2",
   "metadata": {},
   "outputs": [
    {
     "data": {
      "text/html": [
       "<table border=\"1\" class=\"dataframe\">\n",
       "  <thead>\n",
       "    <tr style=\"text-align: right;\">\n",
       "      <th></th>\n",
       "      <th>LOCA2 SPEI (2031-2060)</th>\n",
       "    </tr>\n",
       "    <tr>\n",
       "      <th>DateTime</th>\n",
       "      <th></th>\n",
       "    </tr>\n",
       "  </thead>\n",
       "  <tbody>\n",
       "    <tr>\n",
       "      <th>1998-06-01</th>\n",
       "      <td>-1.623324</td>\n",
       "    </tr>\n",
       "    <tr>\n",
       "      <th>1999-11-01</th>\n",
       "      <td>-1.517400</td>\n",
       "    </tr>\n",
       "    <tr>\n",
       "      <th>2006-01-01</th>\n",
       "      <td>-1.507338</td>\n",
       "    </tr>\n",
       "    <tr>\n",
       "      <th>2008-11-01</th>\n",
       "      <td>-1.518122</td>\n",
       "    </tr>\n",
       "    <tr>\n",
       "      <th>2009-01-01</th>\n",
       "      <td>-1.516372</td>\n",
       "    </tr>\n",
       "    <tr>\n",
       "      <th>2011-04-01</th>\n",
       "      <td>-1.764434</td>\n",
       "    </tr>\n",
       "    <tr>\n",
       "      <th>2011-05-01</th>\n",
       "      <td>-1.706906</td>\n",
       "    </tr>\n",
       "    <tr>\n",
       "      <th>2011-06-01</th>\n",
       "      <td>-1.545835</td>\n",
       "    </tr>\n",
       "    <tr>\n",
       "      <th>2022-01-01</th>\n",
       "      <td>-1.529813</td>\n",
       "    </tr>\n",
       "    <tr>\n",
       "      <th>2022-02-01</th>\n",
       "      <td>-1.694290</td>\n",
       "    </tr>\n",
       "    <tr>\n",
       "      <th>2022-03-01</th>\n",
       "      <td>-1.733824</td>\n",
       "    </tr>\n",
       "    <tr>\n",
       "      <th>2022-04-01</th>\n",
       "      <td>-1.692123</td>\n",
       "    </tr>\n",
       "    <tr>\n",
       "      <th>2022-05-01</th>\n",
       "      <td>-1.733278</td>\n",
       "    </tr>\n",
       "    <tr>\n",
       "      <th>2022-06-01</th>\n",
       "      <td>-1.731465</td>\n",
       "    </tr>\n",
       "  </tbody>\n",
       "</table>"
      ],
      "text/plain": [
       "<IPython.core.display.HTML object>"
      ]
     },
     "metadata": {},
     "output_type": "display_data"
    }
   ],
   "source": [
    "display( HTML( L2SPEIDF.to_html() ) )"
   ]
  },
  {
   "cell_type": "code",
   "execution_count": 28,
   "id": "c303ac5e-3a06-4e1c-b596-444fc5a4953b",
   "metadata": {},
   "outputs": [
    {
     "data": {
      "text/plain": [
       "-1.764434099197388"
      ]
     },
     "execution_count": 28,
     "metadata": {},
     "output_type": "execute_result"
    }
   ],
   "source": [
    "L2SPEIDF[\"LOCA2 SPEI (2031-2060)\"].min()"
   ]
  },
  {
   "cell_type": "code",
   "execution_count": 29,
   "id": "998879b6-4571-4d14-904b-8b8a7080c67f",
   "metadata": {},
   "outputs": [
    {
     "data": {
      "text/plain": [
       "-1.516964197158813"
      ]
     },
     "execution_count": 29,
     "metadata": {},
     "output_type": "execute_result"
    }
   ],
   "source": [
    "WGSPEIDF[\"WG SPEI (2031-2060)\"].min()"
   ]
  },
  {
   "cell_type": "code",
   "execution_count": 30,
   "id": "2422c6e8-3296-434c-a675-b68a9f4bfb04",
   "metadata": {},
   "outputs": [
    {
     "data": {
      "text/plain": [
       "2"
      ]
     },
     "execution_count": 30,
     "metadata": {},
     "output_type": "execute_result"
    }
   ],
   "source": [
    "WGSPEIDF = WGSPEIDF[WGSPEIDF[\"WG SPEI (2031-2060)\"] <= -1.5].copy()\n",
    "NumWG = len( WGSPEIDF )\n",
    "NumWG"
   ]
  },
  {
   "cell_type": "code",
   "execution_count": 31,
   "id": "c49863ce-e983-492a-a8bf-0dd4c4cd0fdb",
   "metadata": {},
   "outputs": [
    {
     "data": {
      "text/html": [
       "<table border=\"1\" class=\"dataframe\">\n",
       "  <thead>\n",
       "    <tr style=\"text-align: right;\">\n",
       "      <th></th>\n",
       "      <th>WG SPEI (2031-2060)</th>\n",
       "    </tr>\n",
       "    <tr>\n",
       "      <th>DateTime</th>\n",
       "      <th></th>\n",
       "    </tr>\n",
       "  </thead>\n",
       "  <tbody>\n",
       "    <tr>\n",
       "      <th>2011-04-01</th>\n",
       "      <td>-1.509673</td>\n",
       "    </tr>\n",
       "    <tr>\n",
       "      <th>2022-03-01</th>\n",
       "      <td>-1.516964</td>\n",
       "    </tr>\n",
       "  </tbody>\n",
       "</table>"
      ],
      "text/plain": [
       "<IPython.core.display.HTML object>"
      ]
     },
     "metadata": {},
     "output_type": "display_data"
    }
   ],
   "source": [
    "display( HTML( WGSPEIDF.to_html() ) )"
   ]
  },
  {
   "cell_type": "markdown",
   "id": "e867e120-9e88-4cbb-b626-b993c6c868e9",
   "metadata": {},
   "source": [
    "SPI"
   ]
  },
  {
   "cell_type": "code",
   "execution_count": 32,
   "id": "822bd0aa-3b7e-48a0-936a-49b84b469279",
   "metadata": {},
   "outputs": [],
   "source": [
    "HistSPIDF = SpiDF[[\"SPI (1981-2010)\"]].copy()\n",
    "L2SPIDF = SpiDF[[\"LOCA2 SPI (2031-2060)\"]].copy()\n",
    "WGSPIDF = SpiDF[[\"WG SPI (2031-2060)\"]].copy()"
   ]
  },
  {
   "cell_type": "code",
   "execution_count": 33,
   "id": "eae815bb-0ba9-401d-a262-bc74bfb25f50",
   "metadata": {},
   "outputs": [
    {
     "data": {
      "text/plain": [
       "21"
      ]
     },
     "execution_count": 33,
     "metadata": {},
     "output_type": "execute_result"
    }
   ],
   "source": [
    "HistSPIDF = HistSPIDF[HistSPIDF[\"SPI (1981-2010)\"] >= 1.5].copy()\n",
    "NumHistSPI = len( HistSPIDF )\n",
    "NumHistSPI"
   ]
  },
  {
   "cell_type": "code",
   "execution_count": 34,
   "id": "1c0cbd65-b786-4f4f-ad54-db9298dc787c",
   "metadata": {},
   "outputs": [
    {
     "data": {
      "text/html": [
       "<table border=\"1\" class=\"dataframe\">\n",
       "  <thead>\n",
       "    <tr style=\"text-align: right;\">\n",
       "      <th></th>\n",
       "      <th>SPI (1981-2010)</th>\n",
       "    </tr>\n",
       "    <tr>\n",
       "      <th>DateTime</th>\n",
       "      <th></th>\n",
       "    </tr>\n",
       "  </thead>\n",
       "  <tbody>\n",
       "    <tr>\n",
       "      <th>1997-04-01</th>\n",
       "      <td>2.022666</td>\n",
       "    </tr>\n",
       "    <tr>\n",
       "      <th>1997-05-01</th>\n",
       "      <td>1.914303</td>\n",
       "    </tr>\n",
       "    <tr>\n",
       "      <th>1997-06-01</th>\n",
       "      <td>2.293851</td>\n",
       "    </tr>\n",
       "    <tr>\n",
       "      <th>1998-10-01</th>\n",
       "      <td>2.633278</td>\n",
       "    </tr>\n",
       "    <tr>\n",
       "      <th>1998-11-01</th>\n",
       "      <td>1.939943</td>\n",
       "    </tr>\n",
       "    <tr>\n",
       "      <th>2001-01-01</th>\n",
       "      <td>1.581827</td>\n",
       "    </tr>\n",
       "    <tr>\n",
       "      <th>2002-08-01</th>\n",
       "      <td>1.709662</td>\n",
       "    </tr>\n",
       "    <tr>\n",
       "      <th>2002-09-01</th>\n",
       "      <td>1.555980</td>\n",
       "    </tr>\n",
       "    <tr>\n",
       "      <th>2004-06-01</th>\n",
       "      <td>1.533446</td>\n",
       "    </tr>\n",
       "    <tr>\n",
       "      <th>2004-11-01</th>\n",
       "      <td>1.683690</td>\n",
       "    </tr>\n",
       "    <tr>\n",
       "      <th>2007-03-01</th>\n",
       "      <td>1.744094</td>\n",
       "    </tr>\n",
       "    <tr>\n",
       "      <th>2007-05-01</th>\n",
       "      <td>2.235269</td>\n",
       "    </tr>\n",
       "    <tr>\n",
       "      <th>2007-08-01</th>\n",
       "      <td>1.710224</td>\n",
       "    </tr>\n",
       "    <tr>\n",
       "      <th>2007-09-01</th>\n",
       "      <td>1.602411</td>\n",
       "    </tr>\n",
       "    <tr>\n",
       "      <th>2009-10-01</th>\n",
       "      <td>1.513401</td>\n",
       "    </tr>\n",
       "    <tr>\n",
       "      <th>2009-11-01</th>\n",
       "      <td>1.562612</td>\n",
       "    </tr>\n",
       "    <tr>\n",
       "      <th>2015-05-01</th>\n",
       "      <td>3.393011</td>\n",
       "    </tr>\n",
       "    <tr>\n",
       "      <th>2015-06-01</th>\n",
       "      <td>2.123022</td>\n",
       "    </tr>\n",
       "    <tr>\n",
       "      <th>2016-05-01</th>\n",
       "      <td>2.323627</td>\n",
       "    </tr>\n",
       "    <tr>\n",
       "      <th>2018-10-01</th>\n",
       "      <td>1.763946</td>\n",
       "    </tr>\n",
       "    <tr>\n",
       "      <th>2020-05-01</th>\n",
       "      <td>1.773354</td>\n",
       "    </tr>\n",
       "  </tbody>\n",
       "</table>"
      ],
      "text/plain": [
       "<IPython.core.display.HTML object>"
      ]
     },
     "metadata": {},
     "output_type": "display_data"
    }
   ],
   "source": [
    "display( HTML( HistSPIDF.to_html() ) )"
   ]
  },
  {
   "cell_type": "code",
   "execution_count": 35,
   "id": "fec88606-6529-4f2f-92fd-61711d9c66c0",
   "metadata": {},
   "outputs": [
    {
     "data": {
      "text/plain": [
       "3.393011093139648"
      ]
     },
     "execution_count": 35,
     "metadata": {},
     "output_type": "execute_result"
    }
   ],
   "source": [
    "HistSPIDF[\"SPI (1981-2010)\"].max()"
   ]
  },
  {
   "cell_type": "code",
   "execution_count": 36,
   "id": "784b194e-0f1e-4263-9e51-9e80dfeaab89",
   "metadata": {},
   "outputs": [
    {
     "data": {
      "text/plain": [
       "51"
      ]
     },
     "execution_count": 36,
     "metadata": {},
     "output_type": "execute_result"
    }
   ],
   "source": [
    "L2SPIDF = L2SPIDF[L2SPIDF[\"LOCA2 SPI (2031-2060)\"] >= 1.5].copy()\n",
    "NumL2SPI = len( L2SPIDF )\n",
    "NumL2SPI"
   ]
  },
  {
   "cell_type": "code",
   "execution_count": 37,
   "id": "2bd15730-24e0-4294-a30f-b14b64da1893",
   "metadata": {},
   "outputs": [
    {
     "data": {
      "text/html": [
       "<table border=\"1\" class=\"dataframe\">\n",
       "  <thead>\n",
       "    <tr style=\"text-align: right;\">\n",
       "      <th></th>\n",
       "      <th>LOCA2 SPI (2031-2060)</th>\n",
       "    </tr>\n",
       "    <tr>\n",
       "      <th>DateTime</th>\n",
       "      <th></th>\n",
       "    </tr>\n",
       "  </thead>\n",
       "  <tbody>\n",
       "    <tr>\n",
       "      <th>1994-12-01</th>\n",
       "      <td>1.616174</td>\n",
       "    </tr>\n",
       "    <tr>\n",
       "      <th>1997-04-01</th>\n",
       "      <td>2.201932</td>\n",
       "    </tr>\n",
       "    <tr>\n",
       "      <th>1997-05-01</th>\n",
       "      <td>1.851592</td>\n",
       "    </tr>\n",
       "    <tr>\n",
       "      <th>1997-06-01</th>\n",
       "      <td>2.735499</td>\n",
       "    </tr>\n",
       "    <tr>\n",
       "      <th>1997-07-01</th>\n",
       "      <td>1.666998</td>\n",
       "    </tr>\n",
       "    <tr>\n",
       "      <th>1998-01-01</th>\n",
       "      <td>1.645042</td>\n",
       "    </tr>\n",
       "    <tr>\n",
       "      <th>1998-02-01</th>\n",
       "      <td>2.180903</td>\n",
       "    </tr>\n",
       "    <tr>\n",
       "      <th>1998-03-01</th>\n",
       "      <td>2.088282</td>\n",
       "    </tr>\n",
       "    <tr>\n",
       "      <th>1998-10-01</th>\n",
       "      <td>2.466311</td>\n",
       "    </tr>\n",
       "    <tr>\n",
       "      <th>1998-11-01</th>\n",
       "      <td>2.166179</td>\n",
       "    </tr>\n",
       "    <tr>\n",
       "      <th>1998-12-01</th>\n",
       "      <td>2.547131</td>\n",
       "    </tr>\n",
       "    <tr>\n",
       "      <th>2000-12-01</th>\n",
       "      <td>2.277560</td>\n",
       "    </tr>\n",
       "    <tr>\n",
       "      <th>2001-01-01</th>\n",
       "      <td>2.736346</td>\n",
       "    </tr>\n",
       "    <tr>\n",
       "      <th>2001-12-01</th>\n",
       "      <td>1.588026</td>\n",
       "    </tr>\n",
       "    <tr>\n",
       "      <th>2002-01-01</th>\n",
       "      <td>1.682935</td>\n",
       "    </tr>\n",
       "    <tr>\n",
       "      <th>2002-07-01</th>\n",
       "      <td>1.912857</td>\n",
       "    </tr>\n",
       "    <tr>\n",
       "      <th>2002-08-01</th>\n",
       "      <td>2.091940</td>\n",
       "    </tr>\n",
       "    <tr>\n",
       "      <th>2002-09-01</th>\n",
       "      <td>1.526423</td>\n",
       "    </tr>\n",
       "    <tr>\n",
       "      <th>2002-12-01</th>\n",
       "      <td>1.793666</td>\n",
       "    </tr>\n",
       "    <tr>\n",
       "      <th>2004-04-01</th>\n",
       "      <td>1.607594</td>\n",
       "    </tr>\n",
       "    <tr>\n",
       "      <th>2004-06-01</th>\n",
       "      <td>1.926043</td>\n",
       "    </tr>\n",
       "    <tr>\n",
       "      <th>2004-11-01</th>\n",
       "      <td>1.884548</td>\n",
       "    </tr>\n",
       "    <tr>\n",
       "      <th>2004-12-01</th>\n",
       "      <td>2.552549</td>\n",
       "    </tr>\n",
       "    <tr>\n",
       "      <th>2005-01-01</th>\n",
       "      <td>2.219272</td>\n",
       "    </tr>\n",
       "    <tr>\n",
       "      <th>2007-03-01</th>\n",
       "      <td>2.634232</td>\n",
       "    </tr>\n",
       "    <tr>\n",
       "      <th>2007-04-01</th>\n",
       "      <td>1.689649</td>\n",
       "    </tr>\n",
       "    <tr>\n",
       "      <th>2007-05-01</th>\n",
       "      <td>2.073220</td>\n",
       "    </tr>\n",
       "    <tr>\n",
       "      <th>2007-07-01</th>\n",
       "      <td>2.065176</td>\n",
       "    </tr>\n",
       "    <tr>\n",
       "      <th>2007-08-01</th>\n",
       "      <td>2.092618</td>\n",
       "    </tr>\n",
       "    <tr>\n",
       "      <th>2007-09-01</th>\n",
       "      <td>1.583305</td>\n",
       "    </tr>\n",
       "    <tr>\n",
       "      <th>2009-11-01</th>\n",
       "      <td>1.751767</td>\n",
       "    </tr>\n",
       "    <tr>\n",
       "      <th>2009-12-01</th>\n",
       "      <td>1.857201</td>\n",
       "    </tr>\n",
       "    <tr>\n",
       "      <th>2010-01-01</th>\n",
       "      <td>1.602224</td>\n",
       "    </tr>\n",
       "    <tr>\n",
       "      <th>2010-02-01</th>\n",
       "      <td>2.005504</td>\n",
       "    </tr>\n",
       "    <tr>\n",
       "      <th>2010-03-01</th>\n",
       "      <td>1.801305</td>\n",
       "    </tr>\n",
       "    <tr>\n",
       "      <th>2012-01-01</th>\n",
       "      <td>1.713178</td>\n",
       "    </tr>\n",
       "    <tr>\n",
       "      <th>2012-02-01</th>\n",
       "      <td>2.107288</td>\n",
       "    </tr>\n",
       "    <tr>\n",
       "      <th>2012-03-01</th>\n",
       "      <td>2.031791</td>\n",
       "    </tr>\n",
       "    <tr>\n",
       "      <th>2013-12-01</th>\n",
       "      <td>1.590989</td>\n",
       "    </tr>\n",
       "    <tr>\n",
       "      <th>2015-01-01</th>\n",
       "      <td>1.770024</td>\n",
       "    </tr>\n",
       "    <tr>\n",
       "      <th>2015-05-01</th>\n",
       "      <td>2.833398</td>\n",
       "    </tr>\n",
       "    <tr>\n",
       "      <th>2015-06-01</th>\n",
       "      <td>2.553663</td>\n",
       "    </tr>\n",
       "    <tr>\n",
       "      <th>2015-07-01</th>\n",
       "      <td>1.775502</td>\n",
       "    </tr>\n",
       "    <tr>\n",
       "      <th>2015-12-01</th>\n",
       "      <td>2.399198</td>\n",
       "    </tr>\n",
       "    <tr>\n",
       "      <th>2016-04-01</th>\n",
       "      <td>1.543247</td>\n",
       "    </tr>\n",
       "    <tr>\n",
       "      <th>2016-05-01</th>\n",
       "      <td>2.133292</td>\n",
       "    </tr>\n",
       "    <tr>\n",
       "      <th>2016-06-01</th>\n",
       "      <td>1.523037</td>\n",
       "    </tr>\n",
       "    <tr>\n",
       "      <th>2017-02-01</th>\n",
       "      <td>1.533562</td>\n",
       "    </tr>\n",
       "    <tr>\n",
       "      <th>2018-10-01</th>\n",
       "      <td>1.685037</td>\n",
       "    </tr>\n",
       "    <tr>\n",
       "      <th>2018-11-01</th>\n",
       "      <td>1.653041</td>\n",
       "    </tr>\n",
       "    <tr>\n",
       "      <th>2020-05-01</th>\n",
       "      <td>1.752448</td>\n",
       "    </tr>\n",
       "  </tbody>\n",
       "</table>"
      ],
      "text/plain": [
       "<IPython.core.display.HTML object>"
      ]
     },
     "metadata": {},
     "output_type": "display_data"
    }
   ],
   "source": [
    "display( HTML( L2SPIDF.to_html() ) )"
   ]
  },
  {
   "cell_type": "code",
   "execution_count": 38,
   "id": "ae6d6cb6-5aae-4690-8602-61192b942124",
   "metadata": {},
   "outputs": [
    {
     "data": {
      "text/plain": [
       "2.833398342132568"
      ]
     },
     "execution_count": 38,
     "metadata": {},
     "output_type": "execute_result"
    }
   ],
   "source": [
    "L2SPIDF[\"LOCA2 SPI (2031-2060)\"].max()"
   ]
  },
  {
   "cell_type": "code",
   "execution_count": 39,
   "id": "44058602-4ad6-4761-bd3b-8035d9ac815c",
   "metadata": {},
   "outputs": [
    {
     "data": {
      "text/plain": [
       "27"
      ]
     },
     "execution_count": 39,
     "metadata": {},
     "output_type": "execute_result"
    }
   ],
   "source": [
    "WGSPIDF = WGSPIDF[WGSPIDF[\"WG SPI (2031-2060)\"] >= 1.5].copy()\n",
    "NumWGSPI = len( WGSPIDF )\n",
    "NumWGSPI"
   ]
  },
  {
   "cell_type": "code",
   "execution_count": 40,
   "id": "5a79d7f4-c5de-4c77-a52e-4610d5701d59",
   "metadata": {},
   "outputs": [
    {
     "data": {
      "text/html": [
       "<table border=\"1\" class=\"dataframe\">\n",
       "  <thead>\n",
       "    <tr style=\"text-align: right;\">\n",
       "      <th></th>\n",
       "      <th>WG SPI (2031-2060)</th>\n",
       "    </tr>\n",
       "    <tr>\n",
       "      <th>DateTime</th>\n",
       "      <th></th>\n",
       "    </tr>\n",
       "  </thead>\n",
       "  <tbody>\n",
       "    <tr>\n",
       "      <th>1995-06-01</th>\n",
       "      <td>1.632042</td>\n",
       "    </tr>\n",
       "    <tr>\n",
       "      <th>1997-05-01</th>\n",
       "      <td>1.538333</td>\n",
       "    </tr>\n",
       "    <tr>\n",
       "      <th>1997-06-01</th>\n",
       "      <td>3.333170</td>\n",
       "    </tr>\n",
       "    <tr>\n",
       "      <th>1997-07-01</th>\n",
       "      <td>2.246456</td>\n",
       "    </tr>\n",
       "    <tr>\n",
       "      <th>1998-10-01</th>\n",
       "      <td>1.904707</td>\n",
       "    </tr>\n",
       "    <tr>\n",
       "      <th>1998-11-01</th>\n",
       "      <td>1.814746</td>\n",
       "    </tr>\n",
       "    <tr>\n",
       "      <th>1998-12-01</th>\n",
       "      <td>1.662049</td>\n",
       "    </tr>\n",
       "    <tr>\n",
       "      <th>2000-12-01</th>\n",
       "      <td>1.509677</td>\n",
       "    </tr>\n",
       "    <tr>\n",
       "      <th>2001-01-01</th>\n",
       "      <td>1.594639</td>\n",
       "    </tr>\n",
       "    <tr>\n",
       "      <th>2002-07-01</th>\n",
       "      <td>2.575723</td>\n",
       "    </tr>\n",
       "    <tr>\n",
       "      <th>2002-08-01</th>\n",
       "      <td>1.843087</td>\n",
       "    </tr>\n",
       "    <tr>\n",
       "      <th>2004-06-01</th>\n",
       "      <td>2.464026</td>\n",
       "    </tr>\n",
       "    <tr>\n",
       "      <th>2004-07-01</th>\n",
       "      <td>1.524612</td>\n",
       "    </tr>\n",
       "    <tr>\n",
       "      <th>2004-11-01</th>\n",
       "      <td>1.599821</td>\n",
       "    </tr>\n",
       "    <tr>\n",
       "      <th>2004-12-01</th>\n",
       "      <td>1.665109</td>\n",
       "    </tr>\n",
       "    <tr>\n",
       "      <th>2007-05-01</th>\n",
       "      <td>1.750888</td>\n",
       "    </tr>\n",
       "    <tr>\n",
       "      <th>2007-06-01</th>\n",
       "      <td>1.695102</td>\n",
       "    </tr>\n",
       "    <tr>\n",
       "      <th>2007-07-01</th>\n",
       "      <td>2.779671</td>\n",
       "    </tr>\n",
       "    <tr>\n",
       "      <th>2007-08-01</th>\n",
       "      <td>1.844001</td>\n",
       "    </tr>\n",
       "    <tr>\n",
       "      <th>2015-05-01</th>\n",
       "      <td>2.476590</td>\n",
       "    </tr>\n",
       "    <tr>\n",
       "      <th>2015-06-01</th>\n",
       "      <td>3.138429</td>\n",
       "    </tr>\n",
       "    <tr>\n",
       "      <th>2015-07-01</th>\n",
       "      <td>2.391782</td>\n",
       "    </tr>\n",
       "    <tr>\n",
       "      <th>2015-12-01</th>\n",
       "      <td>1.578459</td>\n",
       "    </tr>\n",
       "    <tr>\n",
       "      <th>2016-05-01</th>\n",
       "      <td>1.808417</td>\n",
       "    </tr>\n",
       "    <tr>\n",
       "      <th>2016-06-01</th>\n",
       "      <td>2.028558</td>\n",
       "    </tr>\n",
       "    <tr>\n",
       "      <th>2019-06-01</th>\n",
       "      <td>1.975755</td>\n",
       "    </tr>\n",
       "    <tr>\n",
       "      <th>2020-06-01</th>\n",
       "      <td>1.566249</td>\n",
       "    </tr>\n",
       "  </tbody>\n",
       "</table>"
      ],
      "text/plain": [
       "<IPython.core.display.HTML object>"
      ]
     },
     "metadata": {},
     "output_type": "display_data"
    }
   ],
   "source": [
    "display( HTML( WGSPIDF.to_html() ) )"
   ]
  },
  {
   "cell_type": "code",
   "execution_count": 41,
   "id": "ea0db9da-9d24-40f8-9b28-3c4589a900ed",
   "metadata": {},
   "outputs": [
    {
     "data": {
      "text/plain": [
       "3.333170413970947"
      ]
     },
     "execution_count": 41,
     "metadata": {},
     "output_type": "execute_result"
    }
   ],
   "source": [
    "WGSPIDF[\"WG SPI (2031-2060)\"].max()"
   ]
  },
  {
   "cell_type": "markdown",
   "id": "100f7997-9549-49d9-8d89-0eec65e67d21",
   "metadata": {},
   "source": [
    "## Box and Whisker Plots of Annual Totals"
   ]
  },
  {
   "cell_type": "markdown",
   "id": "9f89d3ce-386b-41df-9e90-b505467d3cee",
   "metadata": {},
   "source": [
    "Make Box and Whisker Plot of the annual total precipitation depth collections."
   ]
  },
  {
   "cell_type": "code",
   "execution_count": 42,
   "id": "79d3e513-10f0-484a-bdb4-0d7e243fb2f0",
   "metadata": {},
   "outputs": [],
   "source": [
    "modColsLister = deepcopy( ColsList )\n",
    "modColsLister.remove( \"EnsAve\" )"
   ]
  },
  {
   "cell_type": "code",
   "execution_count": 43,
   "id": "eb9cdf39-a054-49d9-82e5-643295b39377",
   "metadata": {},
   "outputs": [],
   "source": [
    "WGAnnValuesList = list()"
   ]
  },
  {
   "cell_type": "code",
   "execution_count": 44,
   "id": "f0e43c4b-e3de-463f-9273-7aa663e7dc96",
   "metadata": {},
   "outputs": [],
   "source": [
    "for tCol in modColsLister:\n",
    "    WGAnnValuesList.append( CNAnnPreDF[tCol].to_numpy(dtype=np.float32).flatten() )\n",
    "# end for"
   ]
  },
  {
   "cell_type": "code",
   "execution_count": 45,
   "id": "207574c7-13e4-4faf-9f40-cfdf86a99cd8",
   "metadata": {},
   "outputs": [
    {
     "data": {
      "text/plain": [
       "30000"
      ]
     },
     "execution_count": 45,
     "metadata": {},
     "output_type": "execute_result"
    }
   ],
   "source": [
    "npWGAnnVals = np.concatenate( WGAnnValuesList )\n",
    "NumWG = len( npWGAnnVals )\n",
    "NumWG"
   ]
  },
  {
   "cell_type": "code",
   "execution_count": 46,
   "id": "fc7e21b7-a3be-4879-aa56-590d8d3d513f",
   "metadata": {},
   "outputs": [
    {
     "data": {
      "text/plain": [
       "(936.3009, 952.94556, 270.85046)"
      ]
     },
     "execution_count": 46,
     "metadata": {},
     "output_type": "execute_result"
    }
   ],
   "source": [
    "np.median( npWGAnnVals ), npWGAnnVals.mean(), npWGAnnVals.std()"
   ]
  },
  {
   "cell_type": "code",
   "execution_count": 47,
   "id": "20cdcac6-3974-4c16-8db8-0e878261f017",
   "metadata": {},
   "outputs": [],
   "source": [
    "WGLabelsList = [ \"WG 2031-2060\" for x in range(NumWG) ]"
   ]
  },
  {
   "cell_type": "code",
   "execution_count": 48,
   "id": "ed00b18d-d865-4f71-a274-ee7adb647219",
   "metadata": {},
   "outputs": [],
   "source": [
    "InFiler = os.path.normpath( os.path.join( IN_DIR2, \"%s_MonTS_2031to2060.xlsx\" % BasKey ) )\n",
    "MonTSDF = pd.read_excel( InFiler, sheet_name=\"Pre_mm\", index_col=0, header=0 )"
   ]
  },
  {
   "cell_type": "code",
   "execution_count": 49,
   "id": "f240beff-6097-4a83-860a-cd1c4664694e",
   "metadata": {},
   "outputs": [
    {
     "data": {
      "text/html": [
       "<table border=\"1\" class=\"dataframe\">\n",
       "  <thead>\n",
       "    <tr style=\"text-align: right;\">\n",
       "      <th></th>\n",
       "      <th>Year</th>\n",
       "      <th>Month</th>\n",
       "      <th>Ensemble Average</th>\n",
       "      <th>M51L</th>\n",
       "      <th>M51H</th>\n",
       "      <th>M52L</th>\n",
       "      <th>M52H</th>\n",
       "      <th>M53L</th>\n",
       "      <th>M53H</th>\n",
       "      <th>M55L</th>\n",
       "      <th>M55H</th>\n",
       "      <th>M56L</th>\n",
       "      <th>M56H</th>\n",
       "      <th>M57L</th>\n",
       "      <th>M57H</th>\n",
       "      <th>M58L</th>\n",
       "      <th>M58H</th>\n",
       "      <th>M59L</th>\n",
       "      <th>M59H</th>\n",
       "      <th>M60L</th>\n",
       "      <th>M60H</th>\n",
       "      <th>M61L</th>\n",
       "      <th>M61H</th>\n",
       "      <th>M62L</th>\n",
       "      <th>M62H</th>\n",
       "      <th>M63L</th>\n",
       "      <th>M63H</th>\n",
       "      <th>M64L</th>\n",
       "      <th>M64H</th>\n",
       "      <th>M65L</th>\n",
       "      <th>M65H</th>\n",
       "      <th>M66L</th>\n",
       "      <th>M66H</th>\n",
       "      <th>M67L</th>\n",
       "      <th>M67H</th>\n",
       "      <th>M68L</th>\n",
       "      <th>M68H</th>\n",
       "      <th>M69L</th>\n",
       "      <th>M69H</th>\n",
       "      <th>M70L</th>\n",
       "      <th>M70H</th>\n",
       "      <th>M71L</th>\n",
       "      <th>M71H</th>\n",
       "      <th>M72L</th>\n",
       "      <th>M72H</th>\n",
       "      <th>M73L</th>\n",
       "      <th>M73H</th>\n",
       "      <th>M74L</th>\n",
       "      <th>M74H</th>\n",
       "      <th>Check_EnsAve</th>\n",
       "    </tr>\n",
       "    <tr>\n",
       "      <th>YrMo</th>\n",
       "      <th></th>\n",
       "      <th></th>\n",
       "      <th></th>\n",
       "      <th></th>\n",
       "      <th></th>\n",
       "      <th></th>\n",
       "      <th></th>\n",
       "      <th></th>\n",
       "      <th></th>\n",
       "      <th></th>\n",
       "      <th></th>\n",
       "      <th></th>\n",
       "      <th></th>\n",
       "      <th></th>\n",
       "      <th></th>\n",
       "      <th></th>\n",
       "      <th></th>\n",
       "      <th></th>\n",
       "      <th></th>\n",
       "      <th></th>\n",
       "      <th></th>\n",
       "      <th></th>\n",
       "      <th></th>\n",
       "      <th></th>\n",
       "      <th></th>\n",
       "      <th></th>\n",
       "      <th></th>\n",
       "      <th></th>\n",
       "      <th></th>\n",
       "      <th></th>\n",
       "      <th></th>\n",
       "      <th></th>\n",
       "      <th></th>\n",
       "      <th></th>\n",
       "      <th></th>\n",
       "      <th></th>\n",
       "      <th></th>\n",
       "      <th></th>\n",
       "      <th></th>\n",
       "      <th></th>\n",
       "      <th></th>\n",
       "      <th></th>\n",
       "      <th></th>\n",
       "      <th></th>\n",
       "      <th></th>\n",
       "      <th></th>\n",
       "      <th></th>\n",
       "      <th></th>\n",
       "      <th></th>\n",
       "      <th></th>\n",
       "    </tr>\n",
       "  </thead>\n",
       "  <tbody>\n",
       "    <tr>\n",
       "      <th>203101</th>\n",
       "      <td>2031</td>\n",
       "      <td>1</td>\n",
       "      <td>49.390537</td>\n",
       "      <td>70.757164</td>\n",
       "      <td>7.956925</td>\n",
       "      <td>67.200378</td>\n",
       "      <td>49.743130</td>\n",
       "      <td>17.839884</td>\n",
       "      <td>59.853233</td>\n",
       "      <td>13.132415</td>\n",
       "      <td>8.613313</td>\n",
       "      <td>15.864574</td>\n",
       "      <td>55.323109</td>\n",
       "      <td>31.483826</td>\n",
       "      <td>12.860886</td>\n",
       "      <td>87.578033</td>\n",
       "      <td>64.175171</td>\n",
       "      <td>50.378304</td>\n",
       "      <td>43.900772</td>\n",
       "      <td>44.368233</td>\n",
       "      <td>96.181740</td>\n",
       "      <td>22.713297</td>\n",
       "      <td>76.108780</td>\n",
       "      <td>52.574516</td>\n",
       "      <td>25.836216</td>\n",
       "      <td>44.909531</td>\n",
       "      <td>23.208551</td>\n",
       "      <td>0.314200</td>\n",
       "      <td>39.695450</td>\n",
       "      <td>31.293583</td>\n",
       "      <td>12.460076</td>\n",
       "      <td>87.268715</td>\n",
       "      <td>66.056702</td>\n",
       "      <td>73.591743</td>\n",
       "      <td>185.889160</td>\n",
       "      <td>8.488213</td>\n",
       "      <td>53.498142</td>\n",
       "      <td>92.444069</td>\n",
       "      <td>172.149811</td>\n",
       "      <td>7.621124</td>\n",
       "      <td>9.705037</td>\n",
       "      <td>83.596039</td>\n",
       "      <td>19.754429</td>\n",
       "      <td>75.636200</td>\n",
       "      <td>123.542221</td>\n",
       "      <td>41.616600</td>\n",
       "      <td>9.346514</td>\n",
       "      <td>22.070255</td>\n",
       "      <td>13.364407</td>\n",
       "      <td>49.390541</td>\n",
       "    </tr>\n",
       "    <tr>\n",
       "      <th>203102</th>\n",
       "      <td>2031</td>\n",
       "      <td>2</td>\n",
       "      <td>45.522057</td>\n",
       "      <td>66.883751</td>\n",
       "      <td>44.868137</td>\n",
       "      <td>28.128317</td>\n",
       "      <td>18.806765</td>\n",
       "      <td>82.390587</td>\n",
       "      <td>30.663982</td>\n",
       "      <td>90.225319</td>\n",
       "      <td>82.003929</td>\n",
       "      <td>67.492233</td>\n",
       "      <td>25.702780</td>\n",
       "      <td>6.570131</td>\n",
       "      <td>34.387558</td>\n",
       "      <td>76.062187</td>\n",
       "      <td>12.075003</td>\n",
       "      <td>79.900536</td>\n",
       "      <td>19.433229</td>\n",
       "      <td>48.123169</td>\n",
       "      <td>76.700279</td>\n",
       "      <td>113.465164</td>\n",
       "      <td>18.455635</td>\n",
       "      <td>41.052090</td>\n",
       "      <td>112.071304</td>\n",
       "      <td>26.571850</td>\n",
       "      <td>20.439920</td>\n",
       "      <td>28.543558</td>\n",
       "      <td>12.299670</td>\n",
       "      <td>47.467705</td>\n",
       "      <td>62.425026</td>\n",
       "      <td>84.220123</td>\n",
       "      <td>23.954376</td>\n",
       "      <td>51.535019</td>\n",
       "      <td>36.402050</td>\n",
       "      <td>45.295174</td>\n",
       "      <td>2.664787</td>\n",
       "      <td>100.038689</td>\n",
       "      <td>36.742348</td>\n",
       "      <td>9.327316</td>\n",
       "      <td>0.203312</td>\n",
       "      <td>19.823650</td>\n",
       "      <td>46.324512</td>\n",
       "      <td>27.783039</td>\n",
       "      <td>47.506062</td>\n",
       "      <td>2.206654</td>\n",
       "      <td>77.561775</td>\n",
       "      <td>38.967918</td>\n",
       "      <td>70.248032</td>\n",
       "      <td>45.522057</td>\n",
       "    </tr>\n",
       "    <tr>\n",
       "      <th>203103</th>\n",
       "      <td>2031</td>\n",
       "      <td>3</td>\n",
       "      <td>56.747700</td>\n",
       "      <td>6.597389</td>\n",
       "      <td>98.742165</td>\n",
       "      <td>108.480965</td>\n",
       "      <td>78.475075</td>\n",
       "      <td>62.843891</td>\n",
       "      <td>67.100388</td>\n",
       "      <td>50.763901</td>\n",
       "      <td>16.740614</td>\n",
       "      <td>100.306572</td>\n",
       "      <td>36.037704</td>\n",
       "      <td>102.612854</td>\n",
       "      <td>4.064351</td>\n",
       "      <td>33.341282</td>\n",
       "      <td>9.954967</td>\n",
       "      <td>55.697262</td>\n",
       "      <td>17.002592</td>\n",
       "      <td>83.658134</td>\n",
       "      <td>0.995894</td>\n",
       "      <td>70.834297</td>\n",
       "      <td>12.265539</td>\n",
       "      <td>37.523220</td>\n",
       "      <td>15.540661</td>\n",
       "      <td>23.748152</td>\n",
       "      <td>35.785820</td>\n",
       "      <td>54.512363</td>\n",
       "      <td>28.804203</td>\n",
       "      <td>100.100540</td>\n",
       "      <td>53.548637</td>\n",
       "      <td>190.902145</td>\n",
       "      <td>35.866604</td>\n",
       "      <td>125.363190</td>\n",
       "      <td>75.712280</td>\n",
       "      <td>4.290465</td>\n",
       "      <td>52.304550</td>\n",
       "      <td>117.214394</td>\n",
       "      <td>7.702739</td>\n",
       "      <td>55.115433</td>\n",
       "      <td>22.665600</td>\n",
       "      <td>74.270508</td>\n",
       "      <td>119.109467</td>\n",
       "      <td>69.484673</td>\n",
       "      <td>119.526077</td>\n",
       "      <td>35.643929</td>\n",
       "      <td>68.507454</td>\n",
       "      <td>19.532995</td>\n",
       "      <td>51.102295</td>\n",
       "      <td>56.747696</td>\n",
       "    </tr>\n",
       "    <tr>\n",
       "      <th>203104</th>\n",
       "      <td>2031</td>\n",
       "      <td>4</td>\n",
       "      <td>62.496506</td>\n",
       "      <td>207.169159</td>\n",
       "      <td>98.766602</td>\n",
       "      <td>55.810966</td>\n",
       "      <td>67.662094</td>\n",
       "      <td>20.763990</td>\n",
       "      <td>70.277756</td>\n",
       "      <td>89.502037</td>\n",
       "      <td>25.122400</td>\n",
       "      <td>71.019508</td>\n",
       "      <td>113.092506</td>\n",
       "      <td>56.740349</td>\n",
       "      <td>66.501656</td>\n",
       "      <td>56.411644</td>\n",
       "      <td>56.148254</td>\n",
       "      <td>16.893181</td>\n",
       "      <td>167.001862</td>\n",
       "      <td>18.434141</td>\n",
       "      <td>100.994408</td>\n",
       "      <td>46.675617</td>\n",
       "      <td>44.802998</td>\n",
       "      <td>68.928383</td>\n",
       "      <td>26.912655</td>\n",
       "      <td>53.589470</td>\n",
       "      <td>33.146683</td>\n",
       "      <td>31.646368</td>\n",
       "      <td>40.371208</td>\n",
       "      <td>15.559835</td>\n",
       "      <td>55.153187</td>\n",
       "      <td>104.107574</td>\n",
       "      <td>127.933090</td>\n",
       "      <td>85.041000</td>\n",
       "      <td>63.723629</td>\n",
       "      <td>6.693147</td>\n",
       "      <td>17.066010</td>\n",
       "      <td>50.107674</td>\n",
       "      <td>45.701038</td>\n",
       "      <td>159.337585</td>\n",
       "      <td>36.011528</td>\n",
       "      <td>34.281769</td>\n",
       "      <td>18.599154</td>\n",
       "      <td>205.875214</td>\n",
       "      <td>57.552597</td>\n",
       "      <td>29.247381</td>\n",
       "      <td>20.948669</td>\n",
       "      <td>24.165047</td>\n",
       "      <td>13.348257</td>\n",
       "      <td>62.496490</td>\n",
       "    </tr>\n",
       "    <tr>\n",
       "      <th>203105</th>\n",
       "      <td>2031</td>\n",
       "      <td>5</td>\n",
       "      <td>112.348610</td>\n",
       "      <td>50.448582</td>\n",
       "      <td>66.059082</td>\n",
       "      <td>92.260246</td>\n",
       "      <td>35.806801</td>\n",
       "      <td>71.338341</td>\n",
       "      <td>113.233894</td>\n",
       "      <td>196.991135</td>\n",
       "      <td>45.419468</td>\n",
       "      <td>133.070068</td>\n",
       "      <td>420.934662</td>\n",
       "      <td>82.205170</td>\n",
       "      <td>84.574867</td>\n",
       "      <td>57.274284</td>\n",
       "      <td>323.527283</td>\n",
       "      <td>130.267929</td>\n",
       "      <td>125.353142</td>\n",
       "      <td>63.337368</td>\n",
       "      <td>240.118546</td>\n",
       "      <td>75.528000</td>\n",
       "      <td>6.379941</td>\n",
       "      <td>90.952301</td>\n",
       "      <td>59.931446</td>\n",
       "      <td>82.589607</td>\n",
       "      <td>40.581951</td>\n",
       "      <td>72.593750</td>\n",
       "      <td>181.317291</td>\n",
       "      <td>16.317389</td>\n",
       "      <td>140.008026</td>\n",
       "      <td>130.723068</td>\n",
       "      <td>57.140736</td>\n",
       "      <td>107.147614</td>\n",
       "      <td>184.184464</td>\n",
       "      <td>127.124641</td>\n",
       "      <td>84.142006</td>\n",
       "      <td>86.628975</td>\n",
       "      <td>116.046768</td>\n",
       "      <td>152.522995</td>\n",
       "      <td>178.737656</td>\n",
       "      <td>190.586914</td>\n",
       "      <td>16.027052</td>\n",
       "      <td>205.598312</td>\n",
       "      <td>24.393793</td>\n",
       "      <td>91.554649</td>\n",
       "      <td>121.201721</td>\n",
       "      <td>76.381592</td>\n",
       "      <td>119.472588</td>\n",
       "      <td>112.348610</td>\n",
       "    </tr>\n",
       "  </tbody>\n",
       "</table>"
      ],
      "text/plain": [
       "<IPython.core.display.HTML object>"
      ]
     },
     "metadata": {},
     "output_type": "display_data"
    }
   ],
   "source": [
    "display( HTML( MonTSDF.head().to_html() ) )"
   ]
  },
  {
   "cell_type": "code",
   "execution_count": 50,
   "id": "8785118a-a7a8-4484-86db-bd1561b18f1a",
   "metadata": {},
   "outputs": [],
   "source": [
    "dropCols = [\"Month\", \"Ensemble Average\", \"Check_EnsAve\" ]"
   ]
  },
  {
   "cell_type": "code",
   "execution_count": 51,
   "id": "0464eceb-4f41-4ab2-814c-6fcd7a6b894d",
   "metadata": {},
   "outputs": [],
   "source": [
    "MonTSDF.drop(columns=dropCols, inplace=True )"
   ]
  },
  {
   "cell_type": "code",
   "execution_count": 52,
   "id": "37946b94-c1ee-4c00-8678-ac9828143bf4",
   "metadata": {},
   "outputs": [],
   "source": [
    "L2Cols = list( MonTSDF.columns )\n",
    "L2Cols.remove(\"Year\")"
   ]
  },
  {
   "cell_type": "code",
   "execution_count": 53,
   "id": "38564451-f694-48ff-8aad-9c8f5486bd48",
   "metadata": {},
   "outputs": [],
   "source": [
    "L2AnnDF = MonTSDF.groupby(by=\"Year\").sum()"
   ]
  },
  {
   "cell_type": "code",
   "execution_count": 54,
   "id": "aecb1291-8004-4ea3-8f37-43e1455fca57",
   "metadata": {},
   "outputs": [
    {
     "data": {
      "text/html": [
       "<table border=\"1\" class=\"dataframe\">\n",
       "  <thead>\n",
       "    <tr style=\"text-align: right;\">\n",
       "      <th></th>\n",
       "      <th>M51L</th>\n",
       "      <th>M51H</th>\n",
       "      <th>M52L</th>\n",
       "      <th>M52H</th>\n",
       "      <th>M53L</th>\n",
       "      <th>M53H</th>\n",
       "      <th>M55L</th>\n",
       "      <th>M55H</th>\n",
       "      <th>M56L</th>\n",
       "      <th>M56H</th>\n",
       "      <th>M57L</th>\n",
       "      <th>M57H</th>\n",
       "      <th>M58L</th>\n",
       "      <th>M58H</th>\n",
       "      <th>M59L</th>\n",
       "      <th>M59H</th>\n",
       "      <th>M60L</th>\n",
       "      <th>M60H</th>\n",
       "      <th>M61L</th>\n",
       "      <th>M61H</th>\n",
       "      <th>M62L</th>\n",
       "      <th>M62H</th>\n",
       "      <th>M63L</th>\n",
       "      <th>M63H</th>\n",
       "      <th>M64L</th>\n",
       "      <th>M64H</th>\n",
       "      <th>M65L</th>\n",
       "      <th>M65H</th>\n",
       "      <th>M66L</th>\n",
       "      <th>M66H</th>\n",
       "      <th>M67L</th>\n",
       "      <th>M67H</th>\n",
       "      <th>M68L</th>\n",
       "      <th>M68H</th>\n",
       "      <th>M69L</th>\n",
       "      <th>M69H</th>\n",
       "      <th>M70L</th>\n",
       "      <th>M70H</th>\n",
       "      <th>M71L</th>\n",
       "      <th>M71H</th>\n",
       "      <th>M72L</th>\n",
       "      <th>M72H</th>\n",
       "      <th>M73L</th>\n",
       "      <th>M73H</th>\n",
       "      <th>M74L</th>\n",
       "      <th>M74H</th>\n",
       "    </tr>\n",
       "    <tr>\n",
       "      <th>Year</th>\n",
       "      <th></th>\n",
       "      <th></th>\n",
       "      <th></th>\n",
       "      <th></th>\n",
       "      <th></th>\n",
       "      <th></th>\n",
       "      <th></th>\n",
       "      <th></th>\n",
       "      <th></th>\n",
       "      <th></th>\n",
       "      <th></th>\n",
       "      <th></th>\n",
       "      <th></th>\n",
       "      <th></th>\n",
       "      <th></th>\n",
       "      <th></th>\n",
       "      <th></th>\n",
       "      <th></th>\n",
       "      <th></th>\n",
       "      <th></th>\n",
       "      <th></th>\n",
       "      <th></th>\n",
       "      <th></th>\n",
       "      <th></th>\n",
       "      <th></th>\n",
       "      <th></th>\n",
       "      <th></th>\n",
       "      <th></th>\n",
       "      <th></th>\n",
       "      <th></th>\n",
       "      <th></th>\n",
       "      <th></th>\n",
       "      <th></th>\n",
       "      <th></th>\n",
       "      <th></th>\n",
       "      <th></th>\n",
       "      <th></th>\n",
       "      <th></th>\n",
       "      <th></th>\n",
       "      <th></th>\n",
       "      <th></th>\n",
       "      <th></th>\n",
       "      <th></th>\n",
       "      <th></th>\n",
       "      <th></th>\n",
       "      <th></th>\n",
       "    </tr>\n",
       "  </thead>\n",
       "  <tbody>\n",
       "    <tr>\n",
       "      <th>2031</th>\n",
       "      <td>1016.258516</td>\n",
       "      <td>861.656392</td>\n",
       "      <td>747.928231</td>\n",
       "      <td>785.370811</td>\n",
       "      <td>970.693956</td>\n",
       "      <td>842.247408</td>\n",
       "      <td>800.065039</td>\n",
       "      <td>728.255274</td>\n",
       "      <td>880.417229</td>\n",
       "      <td>1055.779898</td>\n",
       "      <td>898.931139</td>\n",
       "      <td>748.686480</td>\n",
       "      <td>844.839890</td>\n",
       "      <td>509.983081</td>\n",
       "      <td>825.059717</td>\n",
       "      <td>859.160095</td>\n",
       "      <td>526.129961</td>\n",
       "      <td>730.021220</td>\n",
       "      <td>534.176522</td>\n",
       "      <td>361.112151</td>\n",
       "      <td>548.963943</td>\n",
       "      <td>454.533549</td>\n",
       "      <td>564.294342</td>\n",
       "      <td>688.687670</td>\n",
       "      <td>502.014304</td>\n",
       "      <td>1062.583529</td>\n",
       "      <td>560.987221</td>\n",
       "      <td>1314.150151</td>\n",
       "      <td>1186.186903</td>\n",
       "      <td>848.851127</td>\n",
       "      <td>644.520828</td>\n",
       "      <td>1259.475704</td>\n",
       "      <td>911.983121</td>\n",
       "      <td>637.970663</td>\n",
       "      <td>827.258577</td>\n",
       "      <td>766.496253</td>\n",
       "      <td>736.018382</td>\n",
       "      <td>720.265021</td>\n",
       "      <td>809.798449</td>\n",
       "      <td>582.388722</td>\n",
       "      <td>923.848843</td>\n",
       "      <td>846.984510</td>\n",
       "      <td>885.063836</td>\n",
       "      <td>719.141892</td>\n",
       "      <td>528.838001</td>\n",
       "      <td>463.308892</td>\n",
       "    </tr>\n",
       "    <tr>\n",
       "      <th>2032</th>\n",
       "      <td>1135.969401</td>\n",
       "      <td>1275.388846</td>\n",
       "      <td>1056.721962</td>\n",
       "      <td>753.811898</td>\n",
       "      <td>517.816885</td>\n",
       "      <td>976.694454</td>\n",
       "      <td>779.087528</td>\n",
       "      <td>680.046447</td>\n",
       "      <td>709.392478</td>\n",
       "      <td>679.744314</td>\n",
       "      <td>1019.989374</td>\n",
       "      <td>1030.836255</td>\n",
       "      <td>1044.413588</td>\n",
       "      <td>511.754077</td>\n",
       "      <td>727.248891</td>\n",
       "      <td>1221.553982</td>\n",
       "      <td>889.831968</td>\n",
       "      <td>1412.045031</td>\n",
       "      <td>1227.589992</td>\n",
       "      <td>449.125763</td>\n",
       "      <td>914.353562</td>\n",
       "      <td>675.086915</td>\n",
       "      <td>1259.057629</td>\n",
       "      <td>693.899536</td>\n",
       "      <td>812.549264</td>\n",
       "      <td>689.016539</td>\n",
       "      <td>1287.423882</td>\n",
       "      <td>575.197800</td>\n",
       "      <td>594.601105</td>\n",
       "      <td>887.255064</td>\n",
       "      <td>757.568120</td>\n",
       "      <td>981.234627</td>\n",
       "      <td>606.158418</td>\n",
       "      <td>376.179631</td>\n",
       "      <td>701.510446</td>\n",
       "      <td>966.586316</td>\n",
       "      <td>777.662965</td>\n",
       "      <td>618.975430</td>\n",
       "      <td>656.176101</td>\n",
       "      <td>506.786593</td>\n",
       "      <td>964.716852</td>\n",
       "      <td>497.816236</td>\n",
       "      <td>765.442049</td>\n",
       "      <td>1160.159380</td>\n",
       "      <td>692.231508</td>\n",
       "      <td>477.783344</td>\n",
       "    </tr>\n",
       "    <tr>\n",
       "      <th>2033</th>\n",
       "      <td>809.842628</td>\n",
       "      <td>860.680328</td>\n",
       "      <td>675.652248</td>\n",
       "      <td>562.034940</td>\n",
       "      <td>486.304314</td>\n",
       "      <td>671.800849</td>\n",
       "      <td>500.466291</td>\n",
       "      <td>472.296850</td>\n",
       "      <td>1061.386303</td>\n",
       "      <td>1370.634919</td>\n",
       "      <td>721.767115</td>\n",
       "      <td>417.047863</td>\n",
       "      <td>601.605345</td>\n",
       "      <td>940.080050</td>\n",
       "      <td>479.691703</td>\n",
       "      <td>744.853776</td>\n",
       "      <td>619.929575</td>\n",
       "      <td>983.511848</td>\n",
       "      <td>654.977569</td>\n",
       "      <td>867.392607</td>\n",
       "      <td>685.184290</td>\n",
       "      <td>590.100386</td>\n",
       "      <td>427.310322</td>\n",
       "      <td>605.282378</td>\n",
       "      <td>961.974489</td>\n",
       "      <td>774.065224</td>\n",
       "      <td>973.518823</td>\n",
       "      <td>828.521405</td>\n",
       "      <td>517.551250</td>\n",
       "      <td>642.068852</td>\n",
       "      <td>508.582089</td>\n",
       "      <td>1090.513884</td>\n",
       "      <td>673.197572</td>\n",
       "      <td>1243.272322</td>\n",
       "      <td>765.504511</td>\n",
       "      <td>959.971275</td>\n",
       "      <td>920.058165</td>\n",
       "      <td>463.102029</td>\n",
       "      <td>639.425637</td>\n",
       "      <td>522.150927</td>\n",
       "      <td>946.058933</td>\n",
       "      <td>443.656108</td>\n",
       "      <td>696.831614</td>\n",
       "      <td>889.106731</td>\n",
       "      <td>949.906996</td>\n",
       "      <td>730.379263</td>\n",
       "    </tr>\n",
       "    <tr>\n",
       "      <th>2034</th>\n",
       "      <td>1073.911065</td>\n",
       "      <td>1039.407358</td>\n",
       "      <td>1185.147756</td>\n",
       "      <td>720.015461</td>\n",
       "      <td>841.748900</td>\n",
       "      <td>420.756618</td>\n",
       "      <td>765.987149</td>\n",
       "      <td>734.300357</td>\n",
       "      <td>1568.103048</td>\n",
       "      <td>551.664272</td>\n",
       "      <td>1296.220695</td>\n",
       "      <td>1422.143262</td>\n",
       "      <td>474.296596</td>\n",
       "      <td>652.975226</td>\n",
       "      <td>612.866251</td>\n",
       "      <td>1442.142601</td>\n",
       "      <td>549.073111</td>\n",
       "      <td>785.066911</td>\n",
       "      <td>569.130444</td>\n",
       "      <td>873.773871</td>\n",
       "      <td>661.110895</td>\n",
       "      <td>696.371372</td>\n",
       "      <td>728.490565</td>\n",
       "      <td>508.718969</td>\n",
       "      <td>898.259591</td>\n",
       "      <td>478.469818</td>\n",
       "      <td>962.936952</td>\n",
       "      <td>1048.096807</td>\n",
       "      <td>868.825332</td>\n",
       "      <td>883.319933</td>\n",
       "      <td>1027.101109</td>\n",
       "      <td>537.792325</td>\n",
       "      <td>856.081745</td>\n",
       "      <td>972.108439</td>\n",
       "      <td>623.186942</td>\n",
       "      <td>756.868136</td>\n",
       "      <td>661.291086</td>\n",
       "      <td>737.668765</td>\n",
       "      <td>838.586933</td>\n",
       "      <td>1102.443720</td>\n",
       "      <td>415.356241</td>\n",
       "      <td>553.867228</td>\n",
       "      <td>784.473938</td>\n",
       "      <td>932.108999</td>\n",
       "      <td>677.212455</td>\n",
       "      <td>823.799412</td>\n",
       "    </tr>\n",
       "    <tr>\n",
       "      <th>2035</th>\n",
       "      <td>880.776138</td>\n",
       "      <td>614.945599</td>\n",
       "      <td>1026.044771</td>\n",
       "      <td>1165.835014</td>\n",
       "      <td>1176.467178</td>\n",
       "      <td>1213.524133</td>\n",
       "      <td>1315.998008</td>\n",
       "      <td>471.890156</td>\n",
       "      <td>498.161580</td>\n",
       "      <td>738.841966</td>\n",
       "      <td>1148.771437</td>\n",
       "      <td>829.201112</td>\n",
       "      <td>831.021893</td>\n",
       "      <td>585.904842</td>\n",
       "      <td>1109.230239</td>\n",
       "      <td>700.880760</td>\n",
       "      <td>714.727301</td>\n",
       "      <td>400.438431</td>\n",
       "      <td>1343.029593</td>\n",
       "      <td>736.530312</td>\n",
       "      <td>613.711751</td>\n",
       "      <td>817.641724</td>\n",
       "      <td>1266.564602</td>\n",
       "      <td>630.698632</td>\n",
       "      <td>631.132660</td>\n",
       "      <td>1104.471097</td>\n",
       "      <td>944.999803</td>\n",
       "      <td>490.170726</td>\n",
       "      <td>919.702750</td>\n",
       "      <td>953.565500</td>\n",
       "      <td>1039.881160</td>\n",
       "      <td>823.503399</td>\n",
       "      <td>746.259142</td>\n",
       "      <td>1331.749892</td>\n",
       "      <td>646.547225</td>\n",
       "      <td>677.161722</td>\n",
       "      <td>631.496062</td>\n",
       "      <td>975.737959</td>\n",
       "      <td>903.307451</td>\n",
       "      <td>567.073587</td>\n",
       "      <td>1187.683272</td>\n",
       "      <td>620.263749</td>\n",
       "      <td>1258.861124</td>\n",
       "      <td>752.990466</td>\n",
       "      <td>476.417016</td>\n",
       "      <td>910.903278</td>\n",
       "    </tr>\n",
       "  </tbody>\n",
       "</table>"
      ],
      "text/plain": [
       "<IPython.core.display.HTML object>"
      ]
     },
     "metadata": {},
     "output_type": "display_data"
    }
   ],
   "source": [
    "display( HTML( L2AnnDF.head().to_html() ) )"
   ]
  },
  {
   "cell_type": "code",
   "execution_count": 55,
   "id": "6fe81be2-956e-4042-858c-5b20cc08e3e1",
   "metadata": {},
   "outputs": [
    {
     "data": {
      "text/html": [
       "<table border=\"1\" class=\"dataframe\">\n",
       "  <thead>\n",
       "    <tr style=\"text-align: right;\">\n",
       "      <th></th>\n",
       "      <th>M51L</th>\n",
       "      <th>M51H</th>\n",
       "      <th>M52L</th>\n",
       "      <th>M52H</th>\n",
       "      <th>M53L</th>\n",
       "      <th>M53H</th>\n",
       "      <th>M55L</th>\n",
       "      <th>M55H</th>\n",
       "      <th>M56L</th>\n",
       "      <th>M56H</th>\n",
       "      <th>M57L</th>\n",
       "      <th>M57H</th>\n",
       "      <th>M58L</th>\n",
       "      <th>M58H</th>\n",
       "      <th>M59L</th>\n",
       "      <th>M59H</th>\n",
       "      <th>M60L</th>\n",
       "      <th>M60H</th>\n",
       "      <th>M61L</th>\n",
       "      <th>M61H</th>\n",
       "      <th>M62L</th>\n",
       "      <th>M62H</th>\n",
       "      <th>M63L</th>\n",
       "      <th>M63H</th>\n",
       "      <th>M64L</th>\n",
       "      <th>M64H</th>\n",
       "      <th>M65L</th>\n",
       "      <th>M65H</th>\n",
       "      <th>M66L</th>\n",
       "      <th>M66H</th>\n",
       "      <th>M67L</th>\n",
       "      <th>M67H</th>\n",
       "      <th>M68L</th>\n",
       "      <th>M68H</th>\n",
       "      <th>M69L</th>\n",
       "      <th>M69H</th>\n",
       "      <th>M70L</th>\n",
       "      <th>M70H</th>\n",
       "      <th>M71L</th>\n",
       "      <th>M71H</th>\n",
       "      <th>M72L</th>\n",
       "      <th>M72H</th>\n",
       "      <th>M73L</th>\n",
       "      <th>M73H</th>\n",
       "      <th>M74L</th>\n",
       "      <th>M74H</th>\n",
       "    </tr>\n",
       "    <tr>\n",
       "      <th>Year</th>\n",
       "      <th></th>\n",
       "      <th></th>\n",
       "      <th></th>\n",
       "      <th></th>\n",
       "      <th></th>\n",
       "      <th></th>\n",
       "      <th></th>\n",
       "      <th></th>\n",
       "      <th></th>\n",
       "      <th></th>\n",
       "      <th></th>\n",
       "      <th></th>\n",
       "      <th></th>\n",
       "      <th></th>\n",
       "      <th></th>\n",
       "      <th></th>\n",
       "      <th></th>\n",
       "      <th></th>\n",
       "      <th></th>\n",
       "      <th></th>\n",
       "      <th></th>\n",
       "      <th></th>\n",
       "      <th></th>\n",
       "      <th></th>\n",
       "      <th></th>\n",
       "      <th></th>\n",
       "      <th></th>\n",
       "      <th></th>\n",
       "      <th></th>\n",
       "      <th></th>\n",
       "      <th></th>\n",
       "      <th></th>\n",
       "      <th></th>\n",
       "      <th></th>\n",
       "      <th></th>\n",
       "      <th></th>\n",
       "      <th></th>\n",
       "      <th></th>\n",
       "      <th></th>\n",
       "      <th></th>\n",
       "      <th></th>\n",
       "      <th></th>\n",
       "      <th></th>\n",
       "      <th></th>\n",
       "      <th></th>\n",
       "      <th></th>\n",
       "    </tr>\n",
       "  </thead>\n",
       "  <tbody>\n",
       "    <tr>\n",
       "      <th>2056</th>\n",
       "      <td>944.847273</td>\n",
       "      <td>546.604874</td>\n",
       "      <td>984.187048</td>\n",
       "      <td>904.641884</td>\n",
       "      <td>1209.682594</td>\n",
       "      <td>981.853543</td>\n",
       "      <td>791.048226</td>\n",
       "      <td>869.910393</td>\n",
       "      <td>982.457293</td>\n",
       "      <td>686.350659</td>\n",
       "      <td>971.603798</td>\n",
       "      <td>990.047312</td>\n",
       "      <td>557.872451</td>\n",
       "      <td>526.954026</td>\n",
       "      <td>684.307079</td>\n",
       "      <td>826.476545</td>\n",
       "      <td>776.738642</td>\n",
       "      <td>777.663971</td>\n",
       "      <td>596.359527</td>\n",
       "      <td>483.140123</td>\n",
       "      <td>687.687405</td>\n",
       "      <td>610.574620</td>\n",
       "      <td>653.997560</td>\n",
       "      <td>1088.476099</td>\n",
       "      <td>1013.988449</td>\n",
       "      <td>591.876801</td>\n",
       "      <td>725.054191</td>\n",
       "      <td>792.275888</td>\n",
       "      <td>692.910664</td>\n",
       "      <td>533.784283</td>\n",
       "      <td>867.846341</td>\n",
       "      <td>544.111001</td>\n",
       "      <td>779.916904</td>\n",
       "      <td>631.342958</td>\n",
       "      <td>1014.872799</td>\n",
       "      <td>703.047354</td>\n",
       "      <td>619.097128</td>\n",
       "      <td>657.930943</td>\n",
       "      <td>532.783835</td>\n",
       "      <td>927.379908</td>\n",
       "      <td>651.549091</td>\n",
       "      <td>953.773523</td>\n",
       "      <td>948.656258</td>\n",
       "      <td>827.907623</td>\n",
       "      <td>1115.203737</td>\n",
       "      <td>942.919729</td>\n",
       "    </tr>\n",
       "    <tr>\n",
       "      <th>2057</th>\n",
       "      <td>747.742239</td>\n",
       "      <td>816.144106</td>\n",
       "      <td>854.892599</td>\n",
       "      <td>1002.858143</td>\n",
       "      <td>1050.496615</td>\n",
       "      <td>884.073260</td>\n",
       "      <td>727.678074</td>\n",
       "      <td>1152.447741</td>\n",
       "      <td>1057.662827</td>\n",
       "      <td>1382.509331</td>\n",
       "      <td>646.615797</td>\n",
       "      <td>762.556623</td>\n",
       "      <td>908.841274</td>\n",
       "      <td>873.246691</td>\n",
       "      <td>666.572775</td>\n",
       "      <td>932.786581</td>\n",
       "      <td>590.934627</td>\n",
       "      <td>560.997698</td>\n",
       "      <td>631.375616</td>\n",
       "      <td>997.840037</td>\n",
       "      <td>962.557164</td>\n",
       "      <td>675.008018</td>\n",
       "      <td>674.139268</td>\n",
       "      <td>486.446143</td>\n",
       "      <td>673.745169</td>\n",
       "      <td>588.011181</td>\n",
       "      <td>650.989360</td>\n",
       "      <td>410.128773</td>\n",
       "      <td>669.503398</td>\n",
       "      <td>551.914331</td>\n",
       "      <td>732.787684</td>\n",
       "      <td>883.023858</td>\n",
       "      <td>808.973496</td>\n",
       "      <td>829.649100</td>\n",
       "      <td>531.083681</td>\n",
       "      <td>1057.347983</td>\n",
       "      <td>838.531198</td>\n",
       "      <td>690.808407</td>\n",
       "      <td>997.692562</td>\n",
       "      <td>587.568664</td>\n",
       "      <td>599.619537</td>\n",
       "      <td>720.344807</td>\n",
       "      <td>941.763471</td>\n",
       "      <td>438.773408</td>\n",
       "      <td>755.386135</td>\n",
       "      <td>403.834118</td>\n",
       "    </tr>\n",
       "    <tr>\n",
       "      <th>2058</th>\n",
       "      <td>652.155578</td>\n",
       "      <td>509.298440</td>\n",
       "      <td>801.183416</td>\n",
       "      <td>681.116487</td>\n",
       "      <td>885.818026</td>\n",
       "      <td>723.458080</td>\n",
       "      <td>1336.235970</td>\n",
       "      <td>488.869254</td>\n",
       "      <td>1033.229880</td>\n",
       "      <td>1240.557168</td>\n",
       "      <td>417.221992</td>\n",
       "      <td>605.809991</td>\n",
       "      <td>1000.190152</td>\n",
       "      <td>830.008629</td>\n",
       "      <td>603.769222</td>\n",
       "      <td>516.586241</td>\n",
       "      <td>997.066132</td>\n",
       "      <td>1094.097341</td>\n",
       "      <td>433.082630</td>\n",
       "      <td>857.506376</td>\n",
       "      <td>632.220494</td>\n",
       "      <td>986.337628</td>\n",
       "      <td>874.542429</td>\n",
       "      <td>767.136196</td>\n",
       "      <td>926.539238</td>\n",
       "      <td>724.927404</td>\n",
       "      <td>1095.466160</td>\n",
       "      <td>776.710027</td>\n",
       "      <td>1069.824348</td>\n",
       "      <td>832.410213</td>\n",
       "      <td>654.713700</td>\n",
       "      <td>868.275998</td>\n",
       "      <td>1074.536101</td>\n",
       "      <td>940.206425</td>\n",
       "      <td>849.044709</td>\n",
       "      <td>1017.651670</td>\n",
       "      <td>597.395987</td>\n",
       "      <td>745.122029</td>\n",
       "      <td>744.784732</td>\n",
       "      <td>544.158413</td>\n",
       "      <td>558.440556</td>\n",
       "      <td>964.613235</td>\n",
       "      <td>1136.862004</td>\n",
       "      <td>696.681399</td>\n",
       "      <td>793.090435</td>\n",
       "      <td>772.176441</td>\n",
       "    </tr>\n",
       "    <tr>\n",
       "      <th>2059</th>\n",
       "      <td>352.411403</td>\n",
       "      <td>566.954407</td>\n",
       "      <td>803.952286</td>\n",
       "      <td>935.548167</td>\n",
       "      <td>1203.659704</td>\n",
       "      <td>809.896895</td>\n",
       "      <td>532.133571</td>\n",
       "      <td>485.806268</td>\n",
       "      <td>762.170342</td>\n",
       "      <td>823.066823</td>\n",
       "      <td>1546.137714</td>\n",
       "      <td>1118.300089</td>\n",
       "      <td>1119.864254</td>\n",
       "      <td>861.819960</td>\n",
       "      <td>582.306809</td>\n",
       "      <td>679.406082</td>\n",
       "      <td>753.343275</td>\n",
       "      <td>595.366324</td>\n",
       "      <td>728.648867</td>\n",
       "      <td>796.389911</td>\n",
       "      <td>550.607109</td>\n",
       "      <td>597.553167</td>\n",
       "      <td>1067.209669</td>\n",
       "      <td>910.146333</td>\n",
       "      <td>579.894776</td>\n",
       "      <td>988.379625</td>\n",
       "      <td>848.489924</td>\n",
       "      <td>763.979786</td>\n",
       "      <td>335.185232</td>\n",
       "      <td>1510.131172</td>\n",
       "      <td>414.633692</td>\n",
       "      <td>677.441930</td>\n",
       "      <td>493.024297</td>\n",
       "      <td>1155.392751</td>\n",
       "      <td>1174.211635</td>\n",
       "      <td>1134.709940</td>\n",
       "      <td>960.138200</td>\n",
       "      <td>599.373813</td>\n",
       "      <td>1119.315162</td>\n",
       "      <td>701.263094</td>\n",
       "      <td>592.737420</td>\n",
       "      <td>873.899658</td>\n",
       "      <td>632.310511</td>\n",
       "      <td>787.876679</td>\n",
       "      <td>818.971950</td>\n",
       "      <td>1157.814677</td>\n",
       "    </tr>\n",
       "    <tr>\n",
       "      <th>2060</th>\n",
       "      <td>734.250387</td>\n",
       "      <td>980.503953</td>\n",
       "      <td>843.921231</td>\n",
       "      <td>730.344808</td>\n",
       "      <td>1062.630154</td>\n",
       "      <td>738.297222</td>\n",
       "      <td>499.804866</td>\n",
       "      <td>747.602397</td>\n",
       "      <td>538.635372</td>\n",
       "      <td>637.247738</td>\n",
       "      <td>836.151946</td>\n",
       "      <td>509.370680</td>\n",
       "      <td>570.907850</td>\n",
       "      <td>482.224111</td>\n",
       "      <td>498.145379</td>\n",
       "      <td>926.861311</td>\n",
       "      <td>603.143341</td>\n",
       "      <td>798.991014</td>\n",
       "      <td>751.484644</td>\n",
       "      <td>1266.488154</td>\n",
       "      <td>878.116340</td>\n",
       "      <td>751.167163</td>\n",
       "      <td>814.090858</td>\n",
       "      <td>1126.678993</td>\n",
       "      <td>1311.974386</td>\n",
       "      <td>712.076149</td>\n",
       "      <td>538.067252</td>\n",
       "      <td>1142.502129</td>\n",
       "      <td>926.269249</td>\n",
       "      <td>829.138859</td>\n",
       "      <td>906.934855</td>\n",
       "      <td>912.429262</td>\n",
       "      <td>801.284154</td>\n",
       "      <td>748.474148</td>\n",
       "      <td>958.230593</td>\n",
       "      <td>957.103297</td>\n",
       "      <td>1084.978313</td>\n",
       "      <td>926.218788</td>\n",
       "      <td>349.671489</td>\n",
       "      <td>703.742585</td>\n",
       "      <td>736.499339</td>\n",
       "      <td>343.189298</td>\n",
       "      <td>901.182836</td>\n",
       "      <td>1275.282158</td>\n",
       "      <td>809.445265</td>\n",
       "      <td>871.088350</td>\n",
       "    </tr>\n",
       "  </tbody>\n",
       "</table>"
      ],
      "text/plain": [
       "<IPython.core.display.HTML object>"
      ]
     },
     "metadata": {},
     "output_type": "display_data"
    }
   ],
   "source": [
    "display( HTML( L2AnnDF.tail().to_html() ) )"
   ]
  },
  {
   "cell_type": "code",
   "execution_count": 56,
   "id": "96eae3bb-d0d5-46be-a10b-4373b255f723",
   "metadata": {},
   "outputs": [],
   "source": [
    "L2AnnValuesList = list()"
   ]
  },
  {
   "cell_type": "code",
   "execution_count": 57,
   "id": "f51ecd98-b767-42c6-b6d2-d2bdfe82a3e9",
   "metadata": {},
   "outputs": [],
   "source": [
    "for tCol in L2Cols:\n",
    "    L2AnnValuesList.append( L2AnnDF[tCol].to_numpy(dtype=np.float32).flatten() )\n",
    "# end for"
   ]
  },
  {
   "cell_type": "code",
   "execution_count": 58,
   "id": "aa66fdfb-cbec-409d-b2fc-13d5c2f9d113",
   "metadata": {},
   "outputs": [
    {
     "data": {
      "text/plain": [
       "1380"
      ]
     },
     "execution_count": 58,
     "metadata": {},
     "output_type": "execute_result"
    }
   ],
   "source": [
    "npL2AnnVals = np.concatenate( L2AnnValuesList )\n",
    "NumL2 = len( npL2AnnVals )\n",
    "NumL2"
   ]
  },
  {
   "cell_type": "code",
   "execution_count": 59,
   "id": "013adbf7-ffe5-4977-a931-d16fea788fac",
   "metadata": {},
   "outputs": [
    {
     "data": {
      "text/plain": [
       "(777.66345, 800.4491, 245.66559)"
      ]
     },
     "execution_count": 59,
     "metadata": {},
     "output_type": "execute_result"
    }
   ],
   "source": [
    "np.median( npL2AnnVals ), npL2AnnVals.mean(), npL2AnnVals.std()"
   ]
  },
  {
   "cell_type": "code",
   "execution_count": 60,
   "id": "4128fb85-0e1a-43c1-87fe-6cc9e9f88af9",
   "metadata": {},
   "outputs": [],
   "source": [
    "L2LabelsList = [ \"LOCA2 2031-2060\" for x in range(NumL2) ]"
   ]
  },
  {
   "cell_type": "code",
   "execution_count": 61,
   "id": "81aa9ca1-c476-4b6a-a7d3-4032b302a92e",
   "metadata": {},
   "outputs": [],
   "source": [
    "InFiler = os.path.normpath( os.path.join( IN_DIR3, \"FBas_MetTS_1980to2020.xlsx\" ) )\n",
    "HODF = pd.read_excel( InFiler, sheet_name=BasKey, header=0, index_col=0, parse_dates=True )"
   ]
  },
  {
   "cell_type": "code",
   "execution_count": 62,
   "id": "80d2ff29-f9a3-42ec-9b93-5f0a53325f50",
   "metadata": {},
   "outputs": [
    {
     "data": {
      "text/html": [
       "<table border=\"1\" class=\"dataframe\">\n",
       "  <thead>\n",
       "    <tr style=\"text-align: right;\">\n",
       "      <th></th>\n",
       "      <th>Pre_mm</th>\n",
       "      <th>MaxT_C</th>\n",
       "      <th>MinT_C</th>\n",
       "      <th>AveT_C</th>\n",
       "      <th>ETo_mm</th>\n",
       "      <th>Def_mm</th>\n",
       "    </tr>\n",
       "    <tr>\n",
       "      <th>DateTime</th>\n",
       "      <th></th>\n",
       "      <th></th>\n",
       "      <th></th>\n",
       "      <th></th>\n",
       "      <th></th>\n",
       "      <th></th>\n",
       "    </tr>\n",
       "  </thead>\n",
       "  <tbody>\n",
       "    <tr>\n",
       "      <th>1980-01-01</th>\n",
       "      <td>0.0</td>\n",
       "      <td>17.610422</td>\n",
       "      <td>-2.075120</td>\n",
       "      <td>7.767651</td>\n",
       "      <td>1.685782</td>\n",
       "      <td>-1.685782</td>\n",
       "    </tr>\n",
       "    <tr>\n",
       "      <th>1980-01-02</th>\n",
       "      <td>0.0</td>\n",
       "      <td>19.211334</td>\n",
       "      <td>-0.456059</td>\n",
       "      <td>9.377638</td>\n",
       "      <td>1.796094</td>\n",
       "      <td>-1.796094</td>\n",
       "    </tr>\n",
       "    <tr>\n",
       "      <th>1980-01-03</th>\n",
       "      <td>0.0</td>\n",
       "      <td>12.009898</td>\n",
       "      <td>4.774196</td>\n",
       "      <td>8.392047</td>\n",
       "      <td>1.736009</td>\n",
       "      <td>-1.736009</td>\n",
       "    </tr>\n",
       "    <tr>\n",
       "      <th>1980-01-04</th>\n",
       "      <td>0.0</td>\n",
       "      <td>15.329858</td>\n",
       "      <td>-4.117468</td>\n",
       "      <td>5.606195</td>\n",
       "      <td>1.555695</td>\n",
       "      <td>-1.555695</td>\n",
       "    </tr>\n",
       "    <tr>\n",
       "      <th>1980-01-05</th>\n",
       "      <td>0.0</td>\n",
       "      <td>16.535498</td>\n",
       "      <td>-2.985706</td>\n",
       "      <td>6.774896</td>\n",
       "      <td>1.638573</td>\n",
       "      <td>-1.638573</td>\n",
       "    </tr>\n",
       "  </tbody>\n",
       "</table>"
      ],
      "text/plain": [
       "<IPython.core.display.HTML object>"
      ]
     },
     "metadata": {},
     "output_type": "display_data"
    }
   ],
   "source": [
    "display( HTML( HODF.head().to_html() ) )"
   ]
  },
  {
   "cell_type": "code",
   "execution_count": 63,
   "id": "26db5a44-5f76-4b80-98c6-cf437ba7e150",
   "metadata": {},
   "outputs": [],
   "source": [
    "HODF = HODF[[\"Pre_mm\"]].loc[pd.Timestamp( 1991, 1, 1, ):pd.Timestamp(2020, 12, 31, 23, 59, )].copy()"
   ]
  },
  {
   "cell_type": "code",
   "execution_count": 64,
   "id": "d874c437-f6f9-467e-a131-fc91b35c4932",
   "metadata": {},
   "outputs": [
    {
     "data": {
      "text/html": [
       "<table border=\"1\" class=\"dataframe\">\n",
       "  <thead>\n",
       "    <tr style=\"text-align: right;\">\n",
       "      <th></th>\n",
       "      <th>Pre_mm</th>\n",
       "    </tr>\n",
       "    <tr>\n",
       "      <th>DateTime</th>\n",
       "      <th></th>\n",
       "    </tr>\n",
       "  </thead>\n",
       "  <tbody>\n",
       "    <tr>\n",
       "      <th>1991-01-01</th>\n",
       "      <td>23.407175</td>\n",
       "    </tr>\n",
       "    <tr>\n",
       "      <th>1991-01-02</th>\n",
       "      <td>24.883199</td>\n",
       "    </tr>\n",
       "    <tr>\n",
       "      <th>1991-01-03</th>\n",
       "      <td>6.669282</td>\n",
       "    </tr>\n",
       "    <tr>\n",
       "      <th>1991-01-04</th>\n",
       "      <td>4.743228</td>\n",
       "    </tr>\n",
       "    <tr>\n",
       "      <th>1991-01-05</th>\n",
       "      <td>4.015730</td>\n",
       "    </tr>\n",
       "  </tbody>\n",
       "</table>"
      ],
      "text/plain": [
       "<IPython.core.display.HTML object>"
      ]
     },
     "metadata": {},
     "output_type": "display_data"
    }
   ],
   "source": [
    "display( HTML( HODF.head().to_html() ) )"
   ]
  },
  {
   "cell_type": "code",
   "execution_count": 65,
   "id": "abc43ece-cee7-4529-bc7f-1bf1ea379e40",
   "metadata": {},
   "outputs": [
    {
     "data": {
      "text/html": [
       "<table border=\"1\" class=\"dataframe\">\n",
       "  <thead>\n",
       "    <tr style=\"text-align: right;\">\n",
       "      <th></th>\n",
       "      <th>Pre_mm</th>\n",
       "    </tr>\n",
       "    <tr>\n",
       "      <th>DateTime</th>\n",
       "      <th></th>\n",
       "    </tr>\n",
       "  </thead>\n",
       "  <tbody>\n",
       "    <tr>\n",
       "      <th>2020-12-27</th>\n",
       "      <td>0.061230</td>\n",
       "    </tr>\n",
       "    <tr>\n",
       "      <th>2020-12-28</th>\n",
       "      <td>1.822676</td>\n",
       "    </tr>\n",
       "    <tr>\n",
       "      <th>2020-12-29</th>\n",
       "      <td>0.439237</td>\n",
       "    </tr>\n",
       "    <tr>\n",
       "      <th>2020-12-30</th>\n",
       "      <td>19.943268</td>\n",
       "    </tr>\n",
       "    <tr>\n",
       "      <th>2020-12-31</th>\n",
       "      <td>19.943268</td>\n",
       "    </tr>\n",
       "  </tbody>\n",
       "</table>"
      ],
      "text/plain": [
       "<IPython.core.display.HTML object>"
      ]
     },
     "metadata": {},
     "output_type": "display_data"
    }
   ],
   "source": [
    "display( HTML( HODF.tail().to_html() ) )"
   ]
  },
  {
   "cell_type": "code",
   "execution_count": 66,
   "id": "ab440b57-9736-4f9d-8a2a-3961e8cb5f5f",
   "metadata": {},
   "outputs": [],
   "source": [
    "HOAnnDF = HODF.resample( 'AS' ).sum()"
   ]
  },
  {
   "cell_type": "code",
   "execution_count": 67,
   "id": "9d7f4152-6d7a-4074-8f8d-ac92f6afe8f3",
   "metadata": {},
   "outputs": [
    {
     "data": {
      "text/html": [
       "<table border=\"1\" class=\"dataframe\">\n",
       "  <thead>\n",
       "    <tr style=\"text-align: right;\">\n",
       "      <th></th>\n",
       "      <th>Pre_mm</th>\n",
       "    </tr>\n",
       "    <tr>\n",
       "      <th>DateTime</th>\n",
       "      <th></th>\n",
       "    </tr>\n",
       "  </thead>\n",
       "  <tbody>\n",
       "    <tr>\n",
       "      <th>1991-01-01</th>\n",
       "      <td>1231.025629</td>\n",
       "    </tr>\n",
       "    <tr>\n",
       "      <th>1992-01-01</th>\n",
       "      <td>1212.853415</td>\n",
       "    </tr>\n",
       "    <tr>\n",
       "      <th>1993-01-01</th>\n",
       "      <td>770.004506</td>\n",
       "    </tr>\n",
       "    <tr>\n",
       "      <th>1994-01-01</th>\n",
       "      <td>977.343460</td>\n",
       "    </tr>\n",
       "    <tr>\n",
       "      <th>1995-01-01</th>\n",
       "      <td>831.883873</td>\n",
       "    </tr>\n",
       "  </tbody>\n",
       "</table>"
      ],
      "text/plain": [
       "<IPython.core.display.HTML object>"
      ]
     },
     "metadata": {},
     "output_type": "display_data"
    }
   ],
   "source": [
    "display( HTML( HOAnnDF.head().to_html() ) )"
   ]
  },
  {
   "cell_type": "code",
   "execution_count": 68,
   "id": "0f7b6586-fdda-4bad-8ed2-e88d81af5e5b",
   "metadata": {},
   "outputs": [
    {
     "data": {
      "text/html": [
       "<table border=\"1\" class=\"dataframe\">\n",
       "  <thead>\n",
       "    <tr style=\"text-align: right;\">\n",
       "      <th></th>\n",
       "      <th>Pre_mm</th>\n",
       "    </tr>\n",
       "    <tr>\n",
       "      <th>DateTime</th>\n",
       "      <th></th>\n",
       "    </tr>\n",
       "  </thead>\n",
       "  <tbody>\n",
       "    <tr>\n",
       "      <th>2016-01-01</th>\n",
       "      <td>1176.394603</td>\n",
       "    </tr>\n",
       "    <tr>\n",
       "      <th>2017-01-01</th>\n",
       "      <td>893.457926</td>\n",
       "    </tr>\n",
       "    <tr>\n",
       "      <th>2018-01-01</th>\n",
       "      <td>1022.327755</td>\n",
       "    </tr>\n",
       "    <tr>\n",
       "      <th>2019-01-01</th>\n",
       "      <td>775.321072</td>\n",
       "    </tr>\n",
       "    <tr>\n",
       "      <th>2020-01-01</th>\n",
       "      <td>931.897460</td>\n",
       "    </tr>\n",
       "  </tbody>\n",
       "</table>"
      ],
      "text/plain": [
       "<IPython.core.display.HTML object>"
      ]
     },
     "metadata": {},
     "output_type": "display_data"
    }
   ],
   "source": [
    "display( HTML( HOAnnDF.tail().to_html() ) )"
   ]
  },
  {
   "cell_type": "code",
   "execution_count": 69,
   "id": "870757dd-759a-45be-ab18-9ac1413a30cc",
   "metadata": {},
   "outputs": [
    {
     "data": {
      "text/plain": [
       "30"
      ]
     },
     "execution_count": 69,
     "metadata": {},
     "output_type": "execute_result"
    }
   ],
   "source": [
    "npHOAnnVals = HOAnnDF[\"Pre_mm\"].to_numpy(dtype=np.float32).flatten()\n",
    "NumHO = len( npHOAnnVals )\n",
    "NumHO"
   ]
  },
  {
   "cell_type": "code",
   "execution_count": 70,
   "id": "0a87f58b-e91d-4c9e-87e5-a6cca9dc87f2",
   "metadata": {},
   "outputs": [
    {
     "data": {
      "text/plain": [
       "(974.6553, 953.87054, 292.58276)"
      ]
     },
     "execution_count": 70,
     "metadata": {},
     "output_type": "execute_result"
    }
   ],
   "source": [
    "np.median( npHOAnnVals ), npHOAnnVals.mean(), npHOAnnVals.std()"
   ]
  },
  {
   "cell_type": "code",
   "execution_count": 71,
   "id": "178d4fbf-8134-4967-b730-8ea6872deea3",
   "metadata": {},
   "outputs": [],
   "source": [
    "HOLabelsList = [ \"Obs. 1991-2020\" for x in range(NumHO) ]"
   ]
  },
  {
   "cell_type": "markdown",
   "id": "011d3358-9171-4a4b-a64e-b163e81937d1",
   "metadata": {},
   "source": [
    "Make the combined DataFrame for plotting"
   ]
  },
  {
   "cell_type": "code",
   "execution_count": 72,
   "id": "1f6f02e3-0a7c-4662-8fa5-236cc01b56aa",
   "metadata": {},
   "outputs": [
    {
     "data": {
      "text/plain": [
       "31410"
      ]
     },
     "execution_count": 72,
     "metadata": {},
     "output_type": "execute_result"
    }
   ],
   "source": [
    "AllLabelsList = deepcopy( WGLabelsList )\n",
    "AllLabelsList.extend( L2LabelsList )\n",
    "AllLabelsList.extend( HOLabelsList )\n",
    "len( AllLabelsList )"
   ]
  },
  {
   "cell_type": "code",
   "execution_count": 73,
   "id": "62352c73-e5d5-4a62-8e99-e2b7ed98ece5",
   "metadata": {},
   "outputs": [
    {
     "data": {
      "text/plain": [
       "31410"
      ]
     },
     "execution_count": 73,
     "metadata": {},
     "output_type": "execute_result"
    }
   ],
   "source": [
    "npAllAnn = np.concatenate( [npWGAnnVals, npL2AnnVals, npHOAnnVals], )\n",
    "len( npAllAnn )"
   ]
  },
  {
   "cell_type": "code",
   "execution_count": 74,
   "id": "3df4bbc5-5136-44e6-91a8-8415d6d3cc65",
   "metadata": {},
   "outputs": [],
   "source": [
    "DataDict = { \"Labels\" : AllLabelsList, \"AnnPre_mm\" : npAllAnn, }\n",
    "BwDF = pd.DataFrame( data=DataDict )"
   ]
  },
  {
   "cell_type": "code",
   "execution_count": 79,
   "id": "b345bfd3-361c-4ba8-8ff4-f5222425924a",
   "metadata": {},
   "outputs": [],
   "source": [
    "OutFilePDF = os.path.normpath( os.path.join( OUT_DIR, \"Plots\", \"BW_AnnPrecipDepth_%s.pdf\" % BasKey ) )\n",
    "OutFileSVG = os.path.normpath( os.path.join( OUT_DIR, \"Plots\", \"BW_AnnPrecipDepth_%s.svg\" % BasKey ) )\n",
    "OutFilePNG = os.path.normpath( os.path.join( OUT_DIR, \"Plots\", \"BW_AnnPrecipDepth_%s.png\" % BasKey ) )"
   ]
  },
  {
   "cell_type": "code",
   "execution_count": 80,
   "id": "27ce1931-2bc1-491e-b2ae-6b73d557f582",
   "metadata": {},
   "outputs": [
    {
     "data": {
      "image/png": "[encoded data removed]",
      "text/plain": [
       "<Figure size 650x500 with 1 Axes>"
      ]
     },
     "metadata": {},
     "output_type": "display_data"
    }
   ],
   "source": [
    "Fig1 = plt.figure()\n",
    "Fig1.set_size_inches(6.5, 5.0)\n",
    "ax11 = Fig1.add_subplot(111)\n",
    "g1 = sns.boxplot( x=\"Labels\", y=\"AnnPre_mm\", hue=\"Labels\", orient=\"v\", \n",
    "                  linewidth=1.0, showmeans=True, dodge=False,\n",
    "                  palette={ \"Obs. 1991-2020\" : \"xkcd:sky blue\",\n",
    "                            \"LOCA2 2031-2060\" : \"xkcd:ocean blue\",\n",
    "                            \"WG 2031-2060\" : \"xkcd:pumpkin\", },\n",
    "                  data=BwDF, ax=ax11 )\n",
    "g1.legend(loc=\"upper right\", framealpha=1.0, fontsize=9 )\n",
    "#g1.set_yscale('log')\n",
    "g1.grid(visible=True, which=\"both\", axis='y')\n",
    "#g1.set_yticks( preTicks )\n",
    "g1.set_xlabel('', fontsize=10 )\n",
    "g1.set_ylabel('Annual Precipitation Depth ($mm$)', fontsize=10)\n",
    "g1.set_ylim( ( 0.0, 2500.0))\n",
    "g1.tick_params(axis='both', which='major', labelsize=10)\n",
    "g1.yaxis.set_major_formatter( mpl.ticker.StrMethodFormatter( \"{x:,.0f}\" ) )\n",
    "Fig1.savefig( OutFileSVG, dpi=600 )\n",
    "Fig1.savefig( OutFilePNG, dpi=600 )\n",
    "Fig1.savefig( OutFilePDF, dpi=600 )"
   ]
  },
  {
   "cell_type": "code",
   "execution_count": null,
   "id": "7af97a1a-19c5-4227-b2f8-eb0ca9e97b94",
   "metadata": {},
   "outputs": [],
   "source": []
  }
 ],
 "metadata": {
  "kernelspec": {
   "display_name": "Python 3 (ipykernel)",
   "language": "python",
   "name": "python3"
  },
  "language_info": {
   "codemirror_mode": {
    "name": "ipython",
    "version": 3
   },
   "file_extension": ".py",
   "mimetype": "text/x-python",
   "name": "python",
   "nbconvert_exporter": "python",
   "pygments_lexer": "ipython3",
   "version": "3.9.15"
  }
 },
 "nbformat": 4,
 "nbformat_minor": 5
}
