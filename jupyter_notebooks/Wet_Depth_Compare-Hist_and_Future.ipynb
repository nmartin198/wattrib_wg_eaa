{
 "cells": [
  {
   "cell_type": "markdown",
   "id": "4968d291-03f5-4471-9c4c-db5c4d19aef6",
   "metadata": {},
   "source": [
    "# Wet Depth Compare: Historical, CN1, CN2, and Custom CN"
   ]
  },
  {
   "cell_type": "markdown",
   "id": "3ec71dea-a640-4e6d-be6d-01c148e5e1be",
   "metadata": {},
   "source": [
    "The purpose of this notebook is to compare the monthly distributions of wet depths obtained from historical observations and future climate model projections.\n",
    "\n",
    "Weather generators derived from these data sets use a generalized, 2 parameter gamma distribution to represent the distribution of daily precipitation depth within each calendar month.\n",
    "\n",
    "The four information sources are:\n",
    "\n",
    "1. Historical from DayMet\n",
    "2. CN1: 2021-2050 (selected downscaled climate model simulation results)\n",
    "3. CN2: 2021-2050 (selected downscaled climate model simulation results)\n",
    "4. Custom CN: 2031-2060 (selected downscaled climate model simulation results)\n"
   ]
  },
  {
   "cell_type": "markdown",
   "id": "e640e5bc-1e58-424c-b3ae-8cf427bd1a76",
   "metadata": {},
   "source": [
    "The generalized gamma distribution (SciPy gengamma) is defined using two shape parameters: 1) $a$ and 2) $c$. Because it is a generalized form, the location ($loc$) and scale ($scale$) can also be specified. The gamma distribution is a continuous distribution and can be fit to arbitrary data sets using the SciPy tools.\n",
    "\n",
    "\\begin{equation*}\n",
    "    a > 0\n",
    "\\end{equation*}\n",
    "\\begin{equation*}\n",
    "    c \\ne 0\n",
    "\\end{equation*}"
   ]
  },
  {
   "cell_type": "markdown",
   "id": "05d8fb76-dacb-4bbb-8c86-1a494dc18318",
   "metadata": {},
   "source": [
    "## Parameters and Imports"
   ]
  },
  {
   "cell_type": "code",
   "execution_count": 1,
   "id": "e500f8b2-75a8-49f1-8bcc-a348184a92ab",
   "metadata": {},
   "outputs": [],
   "source": [
    "%matplotlib inline"
   ]
  },
  {
   "cell_type": "code",
   "execution_count": 2,
   "id": "8303f202-8400-4fde-9d97-fa52afbc0df8",
   "metadata": {},
   "outputs": [],
   "source": [
    "import os\n",
    "import pickle\n",
    "import numpy as np\n",
    "import pandas as pd\n",
    "import matplotlib as mpl\n",
    "import matplotlib.pyplot as plt\n",
    "import matplotlib.patches as mpatches\n",
    "from matplotlib.lines import Line2D\n",
    "import datetime as dt\n",
    "from copy import deepcopy\n",
    "from IPython.display import display, HTML, Image\n",
    "from scipy import stats as sstats\n",
    "import math"
   ]
  },
  {
   "cell_type": "code",
   "execution_count": 3,
   "id": "63c6fa24-6004-4037-b73a-3c20055d8e36",
   "metadata": {},
   "outputs": [],
   "source": [
    "IN_DIR1 = r'C:\\Users\\nmartin\\Documents\\EAA_HCP\\Data\\SwRI_Processed\\Processed_Historical'\n",
    "IN_DIR2 = r'C:\\Users\\nmartin\\Documents\\EAA_HCP\\Data\\SwRI_Processed\\CombinedFuture'\n",
    "IN_DIR3 = r'C:\\Users\\nmartin\\Documents\\EAA_HCP\\Data\\SwRI_Processed\\DayMet_GridIntersect'\n",
    "OUT_DIR = r'C:\\Users\\nmartin\\Documents\\EAA_HCP\\Data\\SwRI_Processed\\CombinedFuture\\WetDepth'"
   ]
  },
  {
   "cell_type": "code",
   "execution_count": 4,
   "id": "c033b2b4-48de-438f-99ba-0efd79ad4f27",
   "metadata": {},
   "outputs": [],
   "source": [
    "# full basin intersection dictionary\n",
    "InFiler = os.path.normpath( os.path.join( IN_DIR3, \"BasWeightsGDF.pkl\" ) )\n",
    "with open( InFiler, 'rb' ) as IF:\n",
    "    BasWeightsDF = pickle.load( IF )\n",
    "# end with\n",
    "BAS_KEYS = sorted( BasWeightsDF.keys() )"
   ]
  },
  {
   "cell_type": "code",
   "execution_count": 5,
   "id": "e4b32c96-c920-4386-a680-84754901b94f",
   "metadata": {},
   "outputs": [],
   "source": [
    "# plotting stuff\n",
    "pmfYVals = np.linspace( 0.00, 1.0, 101, dtype=np.float32 )\n",
    "xPTicks = [ 0.0, 10.0, 20.0, 30.0, 40.0, 50.0, ]"
   ]
  },
  {
   "cell_type": "code",
   "execution_count": 6,
   "id": "53021575-9bd2-4d13-874f-33487e56e324",
   "metadata": {},
   "outputs": [],
   "source": [
    "colors = [ 'xkcd:cobalt blue', 'xkcd:ocean blue', 'xkcd:bright blue', 'xkcd:light grey blue', ]\n",
    "labels = [\"Obs. 1991-2020\", \"CN1 2021-2050\", \"CCN 2031-2060\", \"CN2 2051-2080\",]"
   ]
  },
  {
   "cell_type": "code",
   "execution_count": 7,
   "id": "36d257ff-42b9-4ad3-abe8-de8357c2ad0b",
   "metadata": {},
   "outputs": [],
   "source": [
    "MonDict = { 1 : \"Jan\", 2 : \"Feb\", 3 : \"Mar\", 4 : \"Apr\", 5 : \"May\", 6 : \"Jun\", 7 : \"Jul\", 8 : \"Aug\",\n",
    "            9 : \"Sep\", 10 : \"Oct\", 11 : \"Nov\", 12 : \"Dec\", }\n",
    "MonKeys = sorted( MonDict.keys() )"
   ]
  },
  {
   "cell_type": "code",
   "execution_count": 8,
   "id": "9d5e126d-0d52-49f9-b01a-beb9738c5a54",
   "metadata": {},
   "outputs": [],
   "source": [
    "CutThresh = 0.255"
   ]
  },
  {
   "cell_type": "markdown",
   "id": "c694fc69-d1f7-4db5-8eba-5a2533ca7fd2",
   "metadata": {},
   "source": [
    "## Wet Depths"
   ]
  },
  {
   "cell_type": "code",
   "execution_count": 9,
   "id": "a4f4812a-7698-4523-9783-734e42858f90",
   "metadata": {},
   "outputs": [],
   "source": [
    "# load the dictionaries.\n",
    "InFiler = os.path.normpath( os.path.join( IN_DIR1, \"Hist_FullB_WetDepth_1991through2020_MonDict.pkl\" ) )\n",
    "with open( InFiler, 'rb' ) as IF:\n",
    "    HistDict = pickle.load( IF )\n",
    "# end with"
   ]
  },
  {
   "cell_type": "code",
   "execution_count": 10,
   "id": "756954a7-45e5-4db7-8ff9-e76a1f2afc86",
   "metadata": {},
   "outputs": [],
   "source": [
    "InFiler = os.path.normpath( os.path.join( IN_DIR2, \"CN1_FullB_WetDepth_2021through2050_MonDict.pkl\" ) )\n",
    "with open( InFiler, 'rb' ) as IF:\n",
    "    CN1Dict = pickle.load( IF )\n",
    "# end with"
   ]
  },
  {
   "cell_type": "code",
   "execution_count": 11,
   "id": "50f23d92-24fe-42f0-b2a8-cd118e10f1b1",
   "metadata": {},
   "outputs": [],
   "source": [
    "InFiler = os.path.normpath( os.path.join( IN_DIR2, \"CN2_FullB_WetDepth_2051through2080_MonDict.pkl\" ) )\n",
    "with open( InFiler, 'rb' ) as IF:\n",
    "    CN2Dict = pickle.load( IF )\n",
    "# end with"
   ]
  },
  {
   "cell_type": "code",
   "execution_count": 12,
   "id": "307fe3da-1123-4cbd-b7ba-4eb6254a77c2",
   "metadata": {},
   "outputs": [],
   "source": [
    "InFiler = os.path.normpath( os.path.join( IN_DIR2, \"CCN_FullB_WetDepth_2031through2060_MonDict.pkl\" ) )\n",
    "with open( InFiler, 'rb' ) as IF:\n",
    "    CCNDict = pickle.load( IF )\n",
    "# end with"
   ]
  },
  {
   "cell_type": "markdown",
   "id": "ff002934-5c44-4016-b9b4-90e4aa1d12a1",
   "metadata": {},
   "source": [
    "### Test"
   ]
  },
  {
   "cell_type": "code",
   "execution_count": 13,
   "id": "9df26306-9a24-42ed-aa48-6215cc8421d4",
   "metadata": {},
   "outputs": [
    {
     "data": {
      "text/plain": [
       "'Blanco'"
      ]
     },
     "execution_count": 13,
     "metadata": {},
     "output_type": "execute_result"
    }
   ],
   "source": [
    "bas = BAS_KEYS[0]\n",
    "bas"
   ]
  },
  {
   "cell_type": "code",
   "execution_count": 14,
   "id": "9f156b43-31ef-41f6-a54a-9e97742dbe89",
   "metadata": {},
   "outputs": [],
   "source": [
    "HistMDepsDict = HistDict[bas]\n",
    "CN1MDepsDict = CN1Dict[bas]\n",
    "CN2MDepsDict = CN2Dict[bas]\n",
    "CCNMDepsDict = CCNDict[bas]"
   ]
  },
  {
   "cell_type": "code",
   "execution_count": 15,
   "id": "139e6a2d-4966-4f3e-a65f-916929eddf02",
   "metadata": {},
   "outputs": [],
   "source": [
    "mon = 7"
   ]
  },
  {
   "cell_type": "code",
   "execution_count": 16,
   "id": "2392890b-096e-4cab-ae41-386797bac712",
   "metadata": {},
   "outputs": [],
   "source": [
    "cHistDeps = HistMDepsDict[mon]\n",
    "cCN1Deps = CN1MDepsDict[mon]\n",
    "cCN2Deps = CN2MDepsDict[mon]\n",
    "cCCNDeps = CCNMDepsDict[mon]"
   ]
  },
  {
   "cell_type": "code",
   "execution_count": 17,
   "id": "b028de5b-02e3-418c-8de3-53f58631ad9b",
   "metadata": {},
   "outputs": [],
   "source": [
    "# look at the fits first\n",
    "npHist = np.array( cHistDeps, dtype=np.float32 )\n",
    "npCN1 = np.array( cCN1Deps, dtype=np.float32 )\n",
    "npCN2 = np.array( cCN2Deps, dtype=np.float32 )\n",
    "npCCN = np.array( cCCNDeps, dtype=np.float32 )"
   ]
  },
  {
   "cell_type": "code",
   "execution_count": 18,
   "id": "a4474325-4262-4cc4-954a-2879cd29d450",
   "metadata": {},
   "outputs": [],
   "source": [
    "HistMax = npHist.max()\n",
    "CN1Max = npCN1.max()\n",
    "CN2Max = npCN2.max()\n",
    "CCNMax = npCCN.max()"
   ]
  },
  {
   "cell_type": "code",
   "execution_count": 19,
   "id": "300287b2-8301-4ca6-9f2c-556f77bd86ba",
   "metadata": {},
   "outputs": [],
   "source": [
    "HistMin = npHist.min()\n",
    "CN1Min = npCN1.min()\n",
    "CN2Min = npCN2.min()\n",
    "CCNMin = npCCN.min()"
   ]
  },
  {
   "cell_type": "code",
   "execution_count": 20,
   "id": "ec323690-4f48-4601-a8e2-00e10fce1b76",
   "metadata": {},
   "outputs": [],
   "source": [
    "HistMean = npHist.mean()\n",
    "CN1Mean = npCN1.mean()\n",
    "CN2Mean = npCN2.mean()\n",
    "CCNMean = npCCN.mean()"
   ]
  },
  {
   "cell_type": "code",
   "execution_count": 21,
   "id": "a5b51fbe-371e-407f-9205-274a53a029e8",
   "metadata": {},
   "outputs": [],
   "source": [
    "HistMed = np.median( npHist )\n",
    "CN1Med = np.median( npCN1 )\n",
    "CN2Med = np.median( npCN2 )\n",
    "CCNMed = np.median( npCCN )"
   ]
  },
  {
   "cell_type": "code",
   "execution_count": 22,
   "id": "6c9c347c-13a0-4d9c-8f75-1e60353514f9",
   "metadata": {},
   "outputs": [],
   "source": [
    "HistVar = npHist.var()\n",
    "CN1Var = npCN1.var()\n",
    "CN2Var = npCN2.var()\n",
    "CCNVar = npCCN.var()"
   ]
  },
  {
   "cell_type": "code",
   "execution_count": 23,
   "id": "7f8228d3-eee7-4727-ae9b-7064f3078a04",
   "metadata": {},
   "outputs": [],
   "source": [
    "HistCnt = len( npHist )\n",
    "CN1Cnt = len( npCN1 )\n",
    "CN2Cnt = len( npCN2 )\n",
    "CCNCnt = len( npCCN )"
   ]
  },
  {
   "cell_type": "code",
   "execution_count": 24,
   "id": "e6067bcc-56f6-454d-b08d-c4cb1596e54e",
   "metadata": {},
   "outputs": [],
   "source": [
    "fitsHist = sstats.gengamma.fit( npHist )\n",
    "fitsCN1 = sstats.gengamma.fit( npCN1 )\n",
    "fitsCN2 = sstats.gengamma.fit( npCN2 )\n",
    "fitsCCN = sstats.gengamma.fit( npCCN )"
   ]
  },
  {
   "cell_type": "code",
   "execution_count": 25,
   "id": "f39ee393-09d4-460b-b32b-2e951f07a0eb",
   "metadata": {},
   "outputs": [
    {
     "data": {
      "text/plain": [
       "(1.8537877499036086, 0.5426035488742231, 0.2747434333508115, 2.122773063967214)"
      ]
     },
     "execution_count": 25,
     "metadata": {},
     "output_type": "execute_result"
    }
   ],
   "source": [
    "fitsHist"
   ]
  },
  {
   "cell_type": "code",
   "execution_count": 26,
   "id": "96a9788d-044f-4308-b256-ec7fb3e26268",
   "metadata": {},
   "outputs": [
    {
     "data": {
      "text/plain": [
       "(0.7902135004585895, 1.0223864832258922, 0.264507415109303, 17.65248970435158)"
      ]
     },
     "execution_count": 26,
     "metadata": {},
     "output_type": "execute_result"
    }
   ],
   "source": [
    "fitsCN1"
   ]
  },
  {
   "cell_type": "code",
   "execution_count": 27,
   "id": "0f929cd1-b4d8-48b6-900f-03ff4646e2b7",
   "metadata": {},
   "outputs": [
    {
     "data": {
      "text/plain": [
       "(0.8037710369313933,\n",
       " 0.9679584077732657,\n",
       " 0.2575081614575114,\n",
       " 18.128396307087165)"
      ]
     },
     "execution_count": 27,
     "metadata": {},
     "output_type": "execute_result"
    }
   ],
   "source": [
    "fitsCN2"
   ]
  },
  {
   "cell_type": "code",
   "execution_count": 28,
   "id": "53dfe67a-6ac9-434f-940f-fe46d00d769d",
   "metadata": {},
   "outputs": [
    {
     "data": {
      "text/plain": [
       "(1.0145262664384442,\n",
       " 0.8683908031310524,\n",
       " 0.2575081728212413,\n",
       " 12.046239412083406)"
      ]
     },
     "execution_count": 28,
     "metadata": {},
     "output_type": "execute_result"
    }
   ],
   "source": [
    "fitsCCN"
   ]
  },
  {
   "cell_type": "code",
   "execution_count": 29,
   "id": "de1b4088-ddcb-48ce-9b55-b5c8efe99e5a",
   "metadata": {},
   "outputs": [
    {
     "data": {
      "text/plain": [
       "(array(9.59053232), array(178.84819016), array(3.86898113), array(27.02615585))"
      ]
     },
     "execution_count": 29,
     "metadata": {},
     "output_type": "execute_result"
    }
   ],
   "source": [
    "sstats.gengamma.stats(fitsHist[0], fitsHist[1], loc=fitsHist[2], scale=fitsHist[3], moments='mvsk' )"
   ]
  },
  {
   "cell_type": "code",
   "execution_count": 30,
   "id": "bdc04d1f-e760-4830-ba3b-c6d7953ba4b9",
   "metadata": {},
   "outputs": [
    {
     "data": {
      "text/plain": [
       "(array(9.57078889), array(178.84819016), array(3.86898113), array(27.02615585))"
      ]
     },
     "execution_count": 30,
     "metadata": {},
     "output_type": "execute_result"
    }
   ],
   "source": [
    "sstats.gengamma.stats(fitsHist[0], fitsHist[1], loc=CutThresh, scale=fitsHist[3], moments='mvsk' )"
   ]
  },
  {
   "cell_type": "code",
   "execution_count": 31,
   "id": "4826f1dd-71e5-42f9-bfbd-296774600875",
   "metadata": {},
   "outputs": [
    {
     "data": {
      "text/plain": [
       "(9.374065, 162.43916)"
      ]
     },
     "execution_count": 31,
     "metadata": {},
     "output_type": "execute_result"
    }
   ],
   "source": [
    "HistMean, HistVar"
   ]
  },
  {
   "cell_type": "code",
   "execution_count": 32,
   "id": "8a2e7bb3-fd0a-49a0-adb0-6fe5e43afcb6",
   "metadata": {},
   "outputs": [],
   "source": [
    "# hist\n",
    "Hist_a = fitsHist[0]\n",
    "Hist_c = fitsHist[1]\n",
    "Hist_fLoc = fitsHist[2]\n",
    "Hist_uLoc = CutThresh\n",
    "Hist_scale = fitsHist[3]\n",
    "# CN1\n",
    "CN1_a = fitsCN1[0]\n",
    "CN1_c = fitsCN1[1]\n",
    "CN1_fLoc = fitsCN1[2]\n",
    "CN1_uLoc = CutThresh\n",
    "CN1_scale = fitsCN1[3]\n",
    "# CN2\n",
    "CN2_a = fitsCN2[0]\n",
    "CN2_c = fitsCN2[1]\n",
    "CN2_fLoc = fitsCN2[2]\n",
    "CN2_uLoc = CutThresh\n",
    "CN2_scale = fitsCN2[3]\n",
    "# CCN\n",
    "CCN_a = fitsCCN[0]\n",
    "CCN_c = fitsCCN[1]\n",
    "CCN_fLoc = fitsCCN[2]\n",
    "CCN_uLoc = CutThresh\n",
    "CCN_scale = fitsCCN[3]"
   ]
  },
  {
   "cell_type": "code",
   "execution_count": 33,
   "id": "0bbfb21b-61f7-494b-a05c-a1a15877aab8",
   "metadata": {},
   "outputs": [
    {
     "data": {
      "text/plain": [
       "180.0"
      ]
     },
     "execution_count": 33,
     "metadata": {},
     "output_type": "execute_result"
    }
   ],
   "source": [
    "MaxMax = round( max( [HistMax, CN1Max, CN2Max, CCNMax] ), -1 )\n",
    "MaxMax"
   ]
  },
  {
   "cell_type": "code",
   "execution_count": 34,
   "id": "f7acd69f-4bf6-4525-95d2-5c4f17080959",
   "metadata": {},
   "outputs": [
    {
     "data": {
      "text/plain": [
       "array([  0.,   2.,   4.,   6.,   8.,  10.,  12.,  14.,  16.,  18.,  20.,\n",
       "        22.,  24.,  26.,  28.,  30.,  32.,  34.,  36.,  38.,  40.,  42.,\n",
       "        44.,  46.,  48.,  50.,  52.,  54.,  56.,  58.,  60.,  62.,  64.,\n",
       "        66.,  68.,  70.,  72.,  74.,  76.,  78.,  80.,  82.,  84.,  86.,\n",
       "        88.,  90.,  92.,  94.,  96.,  98., 100., 102., 104., 106., 108.,\n",
       "       110., 112., 114., 116., 118., 120., 122., 124., 126., 128., 130.,\n",
       "       132., 134., 136., 138., 140., 142., 144., 146., 148., 150., 152.,\n",
       "       154., 156., 158., 160., 162., 164., 166., 168., 170., 172., 174.,\n",
       "       176., 178., 180.], dtype=float32)"
      ]
     },
     "execution_count": 34,
     "metadata": {},
     "output_type": "execute_result"
    }
   ],
   "source": [
    "bins = np.arange( 0.0, MaxMax+2.0, step=2.0, dtype=np.float32 )\n",
    "bins"
   ]
  },
  {
   "cell_type": "code",
   "execution_count": 35,
   "id": "9dc96ac3-946d-443f-89e2-cbbd9a505386",
   "metadata": {},
   "outputs": [],
   "source": [
    "yPTicks = [ 0.0, 0.05, 0.10, 0.15, ]"
   ]
  },
  {
   "cell_type": "code",
   "execution_count": 36,
   "id": "07db715a-c360-4c13-9fff-a7e895d11057",
   "metadata": {},
   "outputs": [
    {
     "data": {
      "image/png": "[encoded data removed]",
      "text/plain": [
       "<Figure size 800x450 with 1 Axes>"
      ]
     },
     "metadata": {},
     "output_type": "display_data"
    }
   ],
   "source": [
    "# plot normalized\n",
    "Fig1 = plt.figure()\n",
    "Fig1.set_size_inches(8.0, 4.5)\n",
    "ax11 = Fig1.add_subplot(111)\n",
    "histInfo = ax11.hist( [npHist, npCN1, npCCN, npCN2,], bins, density=True, histtype='bar', color=colors,\n",
    "                      label=labels, )\n",
    "ax11.set_xticks( xPTicks )\n",
    "ax11.set_yticks( yPTicks )\n",
    "ax11.set_ylabel('Probability Density', fontsize=10)\n",
    "ax11.set_xlabel('Wet Day Depth (mm)', fontsize=10)\n",
    "ax11.set_ylim( (yPTicks[0], yPTicks[len(yPTicks)-1]) )\n",
    "ax11.set_xlim( (xPTicks[0], xPTicks[len(xPTicks)-1]) )\n",
    "ax11.tick_params(axis='both', which='major', labelsize=10)\n",
    "ax11.xaxis.set_major_formatter( mpl.ticker.StrMethodFormatter( \"{x:,.1f}\" ) )\n",
    "ax11.yaxis.set_major_formatter( mpl.ticker.StrMethodFormatter( \"{x:,.2f}\" ) )\n",
    "ax11.legend( loc='upper right', fontsize=9, ncol=2 )\n",
    "ax11.grid(visible=True, which='major', axis='y' )"
   ]
  },
  {
   "cell_type": "code",
   "execution_count": 37,
   "id": "f1fd7f44-66c0-4be0-8453-5704cb93ab0b",
   "metadata": {},
   "outputs": [],
   "source": [
    "HistFrG = sstats.gengamma( Hist_a, Hist_c, loc=Hist_uLoc, scale=Hist_scale )\n",
    "CN1FrG = sstats.gengamma( CN1_a, CN1_c, loc=CN1_uLoc, scale=CN1_scale )\n",
    "CCNFrG = sstats.gengamma( CCN_a, CCN_c, loc=CCN_uLoc, scale=CCN_scale )\n",
    "CN2FrG = sstats.gengamma( CN2_a, CN2_c, loc=CN2_uLoc, scale=CN2_scale )"
   ]
  },
  {
   "cell_type": "code",
   "execution_count": 38,
   "id": "60873b21-87f6-4a86-9d99-4dba8495139b",
   "metadata": {},
   "outputs": [
    {
     "data": {
      "text/plain": [
       "(0.9348137151502032,\n",
       " 0.9643295879344984,\n",
       " 0.9793648942461896,\n",
       " 0.9875591418798555,\n",
       " 0.9922524822179256)"
      ]
     },
     "execution_count": 38,
     "metadata": {},
     "output_type": "execute_result"
    }
   ],
   "source": [
    "HistFrG.cdf( 30.0 ), HistFrG.cdf( 40.0 ), HistFrG.cdf( 50.0 ), HistFrG.cdf( 60.0 ), HistFrG.cdf( 70.0 )"
   ]
  },
  {
   "cell_type": "code",
   "execution_count": 39,
   "id": "0bba9263-feb7-433f-ba1b-711ca3ac56bb",
   "metadata": {},
   "outputs": [
    {
     "data": {
      "text/plain": [
       "(64.53533312066232, 70.52157440030464, 70.75711700245787, 78.90502841391779)"
      ]
     },
     "execution_count": 39,
     "metadata": {},
     "output_type": "execute_result"
    }
   ],
   "source": [
    "HistFrG.ppf( 0.99 ), CN1FrG.ppf( 0.99 ), CCNFrG.ppf( 0.99 ), CN2FrG.ppf( 0.99 )"
   ]
  },
  {
   "cell_type": "code",
   "execution_count": 40,
   "id": "14072605-3386-4f23-8c13-363b57aeb0e6",
   "metadata": {},
   "outputs": [
    {
     "data": {
      "text/plain": [
       "(34.265116630880385, 44.774398210778685, 43.331048697919016, 48.96099754153154)"
      ]
     },
     "execution_count": 40,
     "metadata": {},
     "output_type": "execute_result"
    }
   ],
   "source": [
    "HistFrG.ppf( 0.95 ), CN1FrG.ppf( 0.95 ), CCNFrG.ppf( 0.95 ), CN2FrG.ppf( 0.95 )"
   ]
  },
  {
   "cell_type": "code",
   "execution_count": 41,
   "id": "0f04c13c-ff2f-45e1-832c-a7939cbcab92",
   "metadata": {},
   "outputs": [
    {
     "data": {
      "text/plain": [
       "(0.48349545849509523,\n",
       " 0.6546327275220191,\n",
       " 0.6723352988538562,\n",
       " 0.6119324878837618)"
      ]
     },
     "execution_count": 41,
     "metadata": {},
     "output_type": "execute_result"
    }
   ],
   "source": [
    "HistFrG.ppf( 0.05 ), CN1FrG.ppf( 0.05 ), CCNFrG.ppf( 0.05 ), CN2FrG.ppf( 0.05 )"
   ]
  },
  {
   "cell_type": "code",
   "execution_count": 42,
   "id": "79094bdc-5615-434d-aa08-de5494ef8ce4",
   "metadata": {},
   "outputs": [
    {
     "data": {
      "text/plain": [
       "(0.9117976218051574,\n",
       " 0.8292879721756002,\n",
       " 0.8461402307279142,\n",
       " 0.8126178808704487)"
      ]
     },
     "execution_count": 42,
     "metadata": {},
     "output_type": "execute_result"
    }
   ],
   "source": [
    "HistFrG.cdf( 25.4 ), CN1FrG.cdf( 25.4 ), CCNFrG.cdf( 25.4 ), CN2FrG.cdf( 25.4 )"
   ]
  },
  {
   "cell_type": "code",
   "execution_count": 43,
   "id": "465fa051-44b2-4021-b6b2-38bc355ec63d",
   "metadata": {},
   "outputs": [
    {
     "data": {
      "text/plain": [
       "0.10973651743465915"
      ]
     },
     "execution_count": 43,
     "metadata": {},
     "output_type": "execute_result"
    }
   ],
   "source": [
    "MaxMax = max( [HistFrG.pdf( bins ).max(), CN1FrG.pdf( bins ).max(), CCNFrG.pdf( bins ).max(), CN2FrG.pdf( bins ).max(), ] )\n",
    "MaxMax"
   ]
  },
  {
   "cell_type": "code",
   "execution_count": 44,
   "id": "aea69677-fd06-4364-adcf-516831073e2f",
   "metadata": {},
   "outputs": [],
   "source": [
    "yPTicks = [ 0.0, 0.03, 0.06, 0.09, 0.12, 0.15 ]"
   ]
  },
  {
   "cell_type": "code",
   "execution_count": 45,
   "id": "3e588ef2-4692-4c35-a8ff-931721e602c0",
   "metadata": {},
   "outputs": [
    {
     "data": {
      "image/png": "[encoded data removed]",
      "text/plain": [
       "<Figure size 800x450 with 1 Axes>"
      ]
     },
     "metadata": {},
     "output_type": "display_data"
    }
   ],
   "source": [
    "Fig1 = plt.figure()\n",
    "Fig1.set_size_inches(8.0, 4.5)\n",
    "ax11 = Fig1.add_subplot(111)\n",
    "pdfHist, = ax11.plot( bins, HistFrG.pdf( bins ), color=colors[0], label=labels[0], \n",
    "                      linewidth=1.5, linestyle='-', zorder=5, )\n",
    "pdfCN1, = ax11.plot( bins, CN1FrG.pdf( bins ), color=colors[1], label=labels[1], \n",
    "                     linewidth=1.5, linestyle='-', zorder=7, )\n",
    "pdfCCN, = ax11.plot( bins, CCNFrG.pdf( bins ), color=colors[2], label=labels[2], \n",
    "                     linewidth=1.5, linestyle='-', zorder=9, )\n",
    "pdfCN2, = ax11.plot( bins, CN2FrG.pdf( bins ), color=colors[3], label=labels[3], \n",
    "                     linewidth=1.5, linestyle='-', zorder=11, )\n",
    "ax11.set_xticks( xPTicks )\n",
    "ax11.set_yticks( yPTicks )\n",
    "ax11.set_ylabel('Probability Density', fontsize=10)\n",
    "ax11.set_xlabel('Wet Day Depth (mm)', fontsize=10)\n",
    "ax11.set_ylim( (yPTicks[0], yPTicks[len(yPTicks)-1]) )\n",
    "ax11.set_xlim( (xPTicks[0], xPTicks[len(xPTicks)-1]) )\n",
    "ax11.tick_params(axis='both', which='major', labelsize=10)\n",
    "ax11.xaxis.set_major_formatter( mpl.ticker.StrMethodFormatter( \"{x:,.1f}\" ) )\n",
    "ax11.yaxis.set_major_formatter( mpl.ticker.StrMethodFormatter( \"{x:,.2f}\" ) )\n",
    "ax11.legend( loc='upper right', fontsize=9, ncol=2 )\n",
    "ax11.grid(visible=True, which='major', axis='y' )"
   ]
  },
  {
   "cell_type": "markdown",
   "id": "e5200b8d-a705-425f-a118-83eef0b5a321",
   "metadata": {},
   "source": [
    "### Loop through All"
   ]
  },
  {
   "cell_type": "markdown",
   "id": "6afea779-ad88-4d80-ae97-41ccedd56115",
   "metadata": {},
   "source": [
    "Make the stats tracking DataFrame"
   ]
  },
  {
   "cell_type": "code",
   "execution_count": 46,
   "id": "d9d04d80-95db-4a45-b6ec-4725cf40bc22",
   "metadata": {},
   "outputs": [],
   "source": [
    "ColNames = [ \"HistObs_1991to2020\", \"CN1_2021to2050\", \"CCN_2031to2060\", \"CN2_2051to2080\" ]"
   ]
  },
  {
   "cell_type": "code",
   "execution_count": 47,
   "id": "fc0f54f7-458f-4f96-837a-85d5ac44065c",
   "metadata": {},
   "outputs": [],
   "source": [
    "RowIndNames = [ \"Counts (N)\", \"Max\", \"Mean\", \"Median\", \"Min\", \"Var\", \"gg_a\", \"gg_c\", \"gg_loc\", \"mt_loc\", \"gg_scale\", \"p0_05\", \"p0_50\", \"p0_95\", \"cp_1in\" ]"
   ]
  },
  {
   "cell_type": "code",
   "execution_count": 48,
   "id": "d6bd0ce5-dcd7-4139-a936-3b4aa1576301",
   "metadata": {},
   "outputs": [],
   "source": [
    "StatsTrackTemplate = pd.DataFrame( 0, columns=ColNames, index=RowIndNames, dtype=np.float32 )"
   ]
  },
  {
   "cell_type": "markdown",
   "id": "b99a0a49-573c-4429-94c4-0d482eac6c89",
   "metadata": {},
   "source": [
    "Now loop through all months and collate and make our outputs"
   ]
  },
  {
   "cell_type": "code",
   "execution_count": 49,
   "id": "c23d9dd2-7799-42af-97c0-294ef0eb641b",
   "metadata": {},
   "outputs": [],
   "source": [
    "for bas in BAS_KEYS:\n",
    "    HistMDepsDict = HistDict[bas]\n",
    "    CN1MDepsDict = CN1Dict[bas]\n",
    "    CN2MDepsDict = CN2Dict[bas]\n",
    "    CCNMDepsDict = CCNDict[bas]\n",
    "    StatsTrackDict = dict()\n",
    "    for mon in MonKeys:\n",
    "        StatsTrackDict[mon] = StatsTrackTemplate.copy()\n",
    "    # end for\n",
    "    for mon in MonKeys:\n",
    "        cLabel = MonDict[mon]\n",
    "        cHistDeps = HistMDepsDict[mon]\n",
    "        cCN1Deps = CN1MDepsDict[mon]\n",
    "        cCN2Deps = CN2MDepsDict[mon]\n",
    "        cCCNDeps = CCNMDepsDict[mon]\n",
    "        npHist = np.array( cHistDeps, dtype=np.float32 )\n",
    "        npCN1 = np.array( cCN1Deps, dtype=np.float32 )\n",
    "        npCN2 = np.array( cCN2Deps, dtype=np.float32 )\n",
    "        npCCN = np.array( cCCNDeps, dtype=np.float32 )\n",
    "        # maximums\n",
    "        HistMax = npHist.max()\n",
    "        CN1Max = npCN1.max()\n",
    "        CN2Max = npCN2.max()\n",
    "        CCNMax = npCCN.max()\n",
    "        StatsTrackDict[mon].at[\"Max\", ColNames[0]] = HistMax\n",
    "        StatsTrackDict[mon].at[\"Max\", ColNames[1]] = CN1Max\n",
    "        StatsTrackDict[mon].at[\"Max\", ColNames[2]] = CCNMax\n",
    "        StatsTrackDict[mon].at[\"Max\", ColNames[3]] = CN2Max\n",
    "        DepMax = round( max( [HistMax, CN1Max, CN2Max, CCNMax] ), -1 )\n",
    "        bins = np.arange( 0.0, DepMax+1.0, step=1.0, dtype=np.float32 )\n",
    "        # minimums\n",
    "        HistMin = npHist.min()\n",
    "        CN1Min = npCN1.min()\n",
    "        CN2Min = npCN2.min()\n",
    "        CCNMin = npCCN.min()\n",
    "        StatsTrackDict[mon].at[\"Min\", ColNames[0]] = HistMin\n",
    "        StatsTrackDict[mon].at[\"Min\", ColNames[1]] = CN1Min\n",
    "        StatsTrackDict[mon].at[\"Min\", ColNames[2]] = CCNMin\n",
    "        StatsTrackDict[mon].at[\"Min\", ColNames[3]] = CN2Min\n",
    "        # means\n",
    "        HistMean = npHist.mean()\n",
    "        CN1Mean = npCN1.mean()\n",
    "        CN2Mean = npCN2.mean()\n",
    "        CCNMean = npCCN.mean()\n",
    "        StatsTrackDict[mon].at[\"Mean\", ColNames[0]] = HistMean\n",
    "        StatsTrackDict[mon].at[\"Mean\", ColNames[1]] = CN1Mean\n",
    "        StatsTrackDict[mon].at[\"Mean\", ColNames[2]] = CCNMean\n",
    "        StatsTrackDict[mon].at[\"Mean\", ColNames[3]] = CN2Mean\n",
    "        # medians\n",
    "        HistMed = np.median( npHist )\n",
    "        CN1Med = np.median( npCN1 )\n",
    "        CN2Med = np.median( npCN2 )\n",
    "        CCNMed = np.median( npCCN )\n",
    "        StatsTrackDict[mon].at[\"Median\", ColNames[0]] = HistMed\n",
    "        StatsTrackDict[mon].at[\"Median\", ColNames[1]] = CN1Med\n",
    "        StatsTrackDict[mon].at[\"Median\", ColNames[2]] = CCNMed\n",
    "        StatsTrackDict[mon].at[\"Median\", ColNames[3]] = CN2Med\n",
    "        # variances\n",
    "        HistVar = npHist.var()\n",
    "        CN1Var = npCN1.var()\n",
    "        CN2Var = npCN2.var()\n",
    "        CCNVar = npCCN.var()\n",
    "        StatsTrackDict[mon].at[\"Var\", ColNames[0]] = HistVar\n",
    "        StatsTrackDict[mon].at[\"Var\", ColNames[1]] = CN1Var\n",
    "        StatsTrackDict[mon].at[\"Var\", ColNames[2]] = CCNVar\n",
    "        StatsTrackDict[mon].at[\"Var\", ColNames[3]] = CN2Var\n",
    "        # counts\n",
    "        HistCnt = len( npHist )\n",
    "        CN1Cnt = len( npCN1 )\n",
    "        CN2Cnt = len( npCN2 )\n",
    "        CCNCnt = len( npCCN )\n",
    "        StatsTrackDict[mon].at[\"Counts (N)\", ColNames[0]] = HistCnt\n",
    "        StatsTrackDict[mon].at[\"Counts (N)\", ColNames[1]] = CN1Cnt\n",
    "        StatsTrackDict[mon].at[\"Counts (N)\", ColNames[2]] = CCNCnt\n",
    "        StatsTrackDict[mon].at[\"Counts (N)\", ColNames[3]] = CN2Cnt\n",
    "        # now do fits and extract parameters\n",
    "        fitsHist = sstats.gengamma.fit( npHist )\n",
    "        fitsCN1 = sstats.gengamma.fit( npCN1 )\n",
    "        fitsCN2 = sstats.gengamma.fit( npCN2 )\n",
    "        fitsCCN = sstats.gengamma.fit( npCCN )\n",
    "        #   parameters extract\n",
    "        #       hist\n",
    "        Hist_a = fitsHist[0]\n",
    "        Hist_c = fitsHist[1]\n",
    "        Hist_fLoc = fitsHist[2]\n",
    "        Hist_uLoc = CutThresh\n",
    "        Hist_scale = fitsHist[3]\n",
    "        StatsTrackDict[mon].at[\"gg_a\", ColNames[0]] = Hist_a\n",
    "        StatsTrackDict[mon].at[\"gg_c\", ColNames[0]] = Hist_c\n",
    "        StatsTrackDict[mon].at[\"gg_loc\", ColNames[0]] = Hist_fLoc\n",
    "        StatsTrackDict[mon].at[\"mt_loc\", ColNames[0]] = Hist_uLoc\n",
    "        StatsTrackDict[mon].at[\"gg_scale\", ColNames[0]] = Hist_scale\n",
    "        #       CN1\n",
    "        CN1_a = fitsCN1[0]\n",
    "        CN1_c = fitsCN1[1]\n",
    "        CN1_fLoc = fitsCN1[2]\n",
    "        CN1_uLoc = CutThresh\n",
    "        CN1_scale = fitsCN1[3]\n",
    "        StatsTrackDict[mon].at[\"gg_a\", ColNames[1]] = CN1_a\n",
    "        StatsTrackDict[mon].at[\"gg_c\", ColNames[1]] = CN1_c\n",
    "        StatsTrackDict[mon].at[\"gg_loc\", ColNames[1]] = CN1_fLoc\n",
    "        StatsTrackDict[mon].at[\"mt_loc\", ColNames[1]] = CN1_uLoc\n",
    "        StatsTrackDict[mon].at[\"gg_scale\", ColNames[1]] = CN1_scale\n",
    "        #       CN2\n",
    "        CN2_a = fitsCN2[0]\n",
    "        CN2_c = fitsCN2[1]\n",
    "        CN2_fLoc = fitsCN2[2]\n",
    "        CN2_uLoc = CutThresh\n",
    "        CN2_scale = fitsCN2[3]\n",
    "        StatsTrackDict[mon].at[\"gg_a\", ColNames[3]] = CN2_a\n",
    "        StatsTrackDict[mon].at[\"gg_c\", ColNames[3]] = CN2_c\n",
    "        StatsTrackDict[mon].at[\"gg_loc\", ColNames[3]] = CN2_fLoc\n",
    "        StatsTrackDict[mon].at[\"mt_loc\", ColNames[3]] = CN2_uLoc\n",
    "        StatsTrackDict[mon].at[\"gg_scale\", ColNames[3]] = CN2_scale\n",
    "        #       CCN\n",
    "        CCN_a = fitsCCN[0]\n",
    "        CCN_c = fitsCCN[1]\n",
    "        CCN_fLoc = fitsCCN[2]\n",
    "        CCN_uLoc = CutThresh\n",
    "        CCN_scale = fitsCCN[3]\n",
    "        StatsTrackDict[mon].at[\"gg_a\", ColNames[2]] = CCN_a\n",
    "        StatsTrackDict[mon].at[\"gg_c\", ColNames[2]] = CCN_c\n",
    "        StatsTrackDict[mon].at[\"gg_loc\", ColNames[2]] = CCN_fLoc\n",
    "        StatsTrackDict[mon].at[\"mt_loc\", ColNames[2]] = CCN_uLoc\n",
    "        StatsTrackDict[mon].at[\"gg_scale\", ColNames[2]] = CCN_scale\n",
    "        # make frozen theoretical\n",
    "        HistFrG = sstats.gengamma( Hist_a, Hist_c, loc=Hist_uLoc, scale=Hist_scale )\n",
    "        CN1FrG = sstats.gengamma( CN1_a, CN1_c, loc=CN1_uLoc, scale=CN1_scale )\n",
    "        CCNFrG = sstats.gengamma( CCN_a, CCN_c, loc=CCN_uLoc, scale=CCN_scale )\n",
    "        CN2FrG = sstats.gengamma( CN2_a, CN2_c, loc=CN2_uLoc, scale=CN2_scale )\n",
    "        #   get the PPF values for important probabilities\n",
    "        Hist_p05 = HistFrG.ppf( 0.05 )\n",
    "        CN1_p05 = CN1FrG.ppf( 0.05 )\n",
    "        CCN_p05 = CCNFrG.ppf( 0.05 )\n",
    "        CN2_p05 = CN2FrG.ppf( 0.05 )\n",
    "        StatsTrackDict[mon].at[\"p0_05\", ColNames[0]] = Hist_p05\n",
    "        StatsTrackDict[mon].at[\"p0_05\", ColNames[1]] = CN1_p05\n",
    "        StatsTrackDict[mon].at[\"p0_05\", ColNames[2]] = CCN_p05\n",
    "        StatsTrackDict[mon].at[\"p0_05\", ColNames[3]] = CN2_p05\n",
    "        Hist_p50 = HistFrG.ppf( 0.50 )\n",
    "        CN1_p50 = CN1FrG.ppf( 0.50 )\n",
    "        CCN_p50 = CCNFrG.ppf( 0.50 )\n",
    "        CN2_p50 = CN2FrG.ppf( 0.50 )\n",
    "        StatsTrackDict[mon].at[\"p0_50\", ColNames[0]] = Hist_p50\n",
    "        StatsTrackDict[mon].at[\"p0_50\", ColNames[1]] = CN1_p50\n",
    "        StatsTrackDict[mon].at[\"p0_50\", ColNames[2]] = CCN_p50\n",
    "        StatsTrackDict[mon].at[\"p0_50\", ColNames[3]] = CN2_p50\n",
    "        Hist_p95 = HistFrG.ppf( 0.95 )\n",
    "        CN1_p95 = CN1FrG.ppf( 0.95 )\n",
    "        CCN_p95 = CCNFrG.ppf( 0.95 )\n",
    "        CN2_p95 = CN2FrG.ppf( 0.95 )\n",
    "        StatsTrackDict[mon].at[\"p0_95\", ColNames[0]] = Hist_p95\n",
    "        StatsTrackDict[mon].at[\"p0_95\", ColNames[1]] = CN1_p95\n",
    "        StatsTrackDict[mon].at[\"p0_95\", ColNames[2]] = CCN_p95\n",
    "        StatsTrackDict[mon].at[\"p0_95\", ColNames[3]] = CN2_p95\n",
    "        #    get cumulative probability for 1 inch\n",
    "        Hist_1in = HistFrG.cdf( 25.4 )\n",
    "        CN1_1in = CN1FrG.cdf( 25.4 )\n",
    "        CCN_1in = CCNFrG.cdf( 25.4 )\n",
    "        CN2_1in = CN2FrG.cdf( 25.4 )\n",
    "        StatsTrackDict[mon].at[\"cp_1in\", ColNames[0]] = Hist_1in\n",
    "        StatsTrackDict[mon].at[\"cp_1in\", ColNames[1]] = CN1_1in\n",
    "        StatsTrackDict[mon].at[\"cp_1in\", ColNames[2]] = CCN_1in\n",
    "        StatsTrackDict[mon].at[\"cp_1in\", ColNames[3]] = CN2_1in        \n",
    "        # get the maximum probability density\n",
    "        MaxPDen = max( [HistFrG.pdf( bins ).max(), CN1FrG.pdf( bins ).max(), CCNFrG.pdf( bins ).max(), \n",
    "                        CN2FrG.pdf( bins ).max(), ] )\n",
    "        # allocate maximum pDen\n",
    "        if MaxPDen < 0.15:\n",
    "            MaxYPlot = 0.15\n",
    "            yPTicks = [ 0.0, 0.03, 0.06, 0.09, 0.12, 0.15 ]\n",
    "        elif MaxPDen < 0.20:\n",
    "            MaxYPlot = 0.20\n",
    "            yPTicks = [0.0, 0.05, 0.10, 0.15, 0.20]\n",
    "        elif MaxPDen < 0.30:\n",
    "            MaxYPlot = 0.30\n",
    "            yPTicks = [0.0, 0.05, 0.10, 0.15, 0.20, 0.25, 0.30, ]\n",
    "        elif MaxPDen < 0.40:\n",
    "            MaxYPlot = 0.40\n",
    "            yPTicks = [0.0, 0.10, 0.20, 0.30, 0.40, ]\n",
    "        else:\n",
    "            MaxYPlot = 0.50\n",
    "            yPTicks = [0.0, 0.10, 0.20, 0.30, 0.40, 0.50, ]\n",
    "        # end if\n",
    "        # do the plots\n",
    "        #     plot normalized histograms\n",
    "        OutSVG = os.path.normpath( os.path.join( OUT_DIR, \"Plots\", \"%s_WetDep_Hist_%s.svg\" % (bas, cLabel ) ) )\n",
    "        OutPNG = os.path.normpath( os.path.join( OUT_DIR, \"Plots\", \"%s_WetDep_Hist_%s.png\" % (bas, cLabel ) ) )\n",
    "        OutPDF = os.path.normpath( os.path.join( OUT_DIR, \"Plots\", \"%s_WetDep_Hist_%s.pdf\" % (bas, cLabel ) ) )\n",
    "        Fig1 = plt.figure()\n",
    "        Fig1.set_size_inches(8.0, 4.5)\n",
    "        ax11 = Fig1.add_subplot(111)\n",
    "        histInfo = ax11.hist( [npHist, npCN1, npCCN, npCN2,], bins, density=True, histtype='bar', color=colors,\n",
    "                              label=labels, )\n",
    "        ax11.set_xticks( xPTicks )\n",
    "        ax11.set_yticks( yPTicks )\n",
    "        ax11.set_ylabel('Probability Density', fontsize=10)\n",
    "        ax11.set_xlabel('%s Wet Day Depth (mm)' % cLabel, fontsize=10)\n",
    "        ax11.set_ylim( (yPTicks[0], yPTicks[len(yPTicks)-1]) )\n",
    "        ax11.set_xlim( (xPTicks[0], xPTicks[len(xPTicks)-1]) )\n",
    "        ax11.tick_params(axis='both', which='major', labelsize=10)\n",
    "        ax11.xaxis.set_major_formatter( mpl.ticker.StrMethodFormatter( \"{x:,.1f}\" ) )\n",
    "        ax11.yaxis.set_major_formatter( mpl.ticker.StrMethodFormatter( \"{x:,.2f}\" ) )\n",
    "        ax11.legend( loc='upper right', fontsize=9, ncol=2 )\n",
    "        ax11.grid(visible=True, which='major', axis='y' )\n",
    "        Fig1.savefig( OutSVG, dpi=600.0 )\n",
    "        Fig1.savefig( OutPNG, dpi=600.0 )\n",
    "        Fig1.savefig( OutPDF, dpi=600.0 )\n",
    "        # clear the figures\n",
    "        plt.cla()\n",
    "        plt.close(Fig1)\n",
    "        #     plot PDFs\n",
    "        OutSVG = os.path.normpath( os.path.join( OUT_DIR, \"Plots\", \"%s_WetDep_PDFs_%s.svg\" % (bas, cLabel ) ) )\n",
    "        OutPNG = os.path.normpath( os.path.join( OUT_DIR, \"Plots\", \"%s_WetDep_PDFs_%s.png\" % (bas, cLabel ) ) )\n",
    "        OutPDF = os.path.normpath( os.path.join( OUT_DIR, \"Plots\", \"%s_WetDep_PDFs_%s.pdf\" % (bas, cLabel ) ) )\n",
    "        Fig1 = plt.figure()\n",
    "        Fig1.set_size_inches(8.0, 4.5)\n",
    "        ax11 = Fig1.add_subplot(111)\n",
    "        pdfHist, = ax11.plot( bins, HistFrG.pdf( bins ), color=colors[0], label=labels[0], \n",
    "                              linewidth=1.5, linestyle='-', zorder=5, )\n",
    "        pdfCN1, = ax11.plot( bins, CN1FrG.pdf( bins ), color=colors[1], label=labels[1], \n",
    "                             linewidth=1.5, linestyle='-', zorder=7, )\n",
    "        pdfCCN, = ax11.plot( bins, CCNFrG.pdf( bins ), color=colors[2], label=labels[2], \n",
    "                             linewidth=1.5, linestyle='-', zorder=9, )\n",
    "        pdfCN2, = ax11.plot( bins, CN2FrG.pdf( bins ), color=colors[3], label=labels[3], \n",
    "                             linewidth=1.5, linestyle='-', zorder=11, )\n",
    "        ax11.set_xticks( xPTicks )\n",
    "        ax11.set_yticks( yPTicks )\n",
    "        ax11.set_ylabel('Probability Density', fontsize=10)\n",
    "        ax11.set_xlabel('%s Wet Day Depth (mm)' % cLabel, fontsize=10)\n",
    "        ax11.set_ylim( (yPTicks[0], yPTicks[len(yPTicks)-1]) )\n",
    "        ax11.set_xlim( (xPTicks[0], xPTicks[len(xPTicks)-1]) )\n",
    "        ax11.tick_params(axis='both', which='major', labelsize=10)\n",
    "        ax11.xaxis.set_major_formatter( mpl.ticker.StrMethodFormatter( \"{x:,.1f}\" ) )\n",
    "        ax11.yaxis.set_major_formatter( mpl.ticker.StrMethodFormatter( \"{x:,.2f}\" ) )\n",
    "        ax11.legend( loc='upper right', fontsize=9, ncol=2 )\n",
    "        ax11.grid(visible=True, which='major', axis='y' )\n",
    "        Fig1.savefig( OutSVG, dpi=600.0 )\n",
    "        Fig1.savefig( OutPNG, dpi=600.0 )\n",
    "        Fig1.savefig( OutPDF, dpi=600.0 )\n",
    "        # clear the figures\n",
    "        plt.cla()\n",
    "        plt.close(Fig1)\n",
    "    # end of month for\n",
    "    # now output the stats to a spreadsheet\n",
    "    outXLSX = os.path.normpath( os.path.join( OUT_DIR, \"%s_WetDayDepth_Stats.xlsx\" % bas ) )\n",
    "    writer = pd.ExcelWriter( outXLSX )\n",
    "    workbook  = writer.book\n",
    "    format1 = workbook.add_format({'num_format': '#,##0.00000'})\n",
    "    for mon in MonKeys:\n",
    "        cLabel = MonDict[mon]\n",
    "        curDF = StatsTrackDict[mon]\n",
    "        curDF.to_excel( writer, sheet_name=cLabel, index_label=\"Statistic\" )\n",
    "        # adjust columns\n",
    "        writer.sheets[cLabel].set_column( 0, 0, 15 )\n",
    "        for column in curDF:\n",
    "            column_width = max(curDF[column].astype(str).map(len).max()+6, len(column)+6)\n",
    "            col_idx = curDF.columns.get_loc(column)\n",
    "            writer.sheets[cLabel].set_column(col_idx+1, col_idx+1, column_width, format1)\n",
    "        # end column for\n",
    "    # end month for\n",
    "    writer.close()\n",
    "# end basin for"
   ]
  },
  {
   "cell_type": "code",
   "execution_count": null,
   "id": "b5e04cca-f8b1-4e67-82b3-617bd0e47906",
   "metadata": {},
   "outputs": [],
   "source": []
  }
 ],
 "metadata": {
  "kernelspec": {
   "display_name": "Python 3 (ipykernel)",
   "language": "python",
   "name": "python3"
  },
  "language_info": {
   "codemirror_mode": {
    "name": "ipython",
    "version": 3
   },
   "file_extension": ".py",
   "mimetype": "text/x-python",
   "name": "python",
   "nbconvert_exporter": "python",
   "pygments_lexer": "ipython3",
   "version": "3.9.15"
  }
 },
 "nbformat": 4,
 "nbformat_minor": 5
}
