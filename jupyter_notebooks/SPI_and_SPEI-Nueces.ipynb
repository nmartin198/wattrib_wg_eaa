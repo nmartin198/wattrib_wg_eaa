{
 "cells": [
  {
   "cell_type": "markdown",
   "metadata": {},
   "source": [
    "# Nueces Basin: SPI and SPEI Calculations"
   ]
  },
  {
   "cell_type": "markdown",
   "metadata": {},
   "source": [
    "This workbook calculates the 3-, 4-, 6-, and 12-month Standardized Precipitation Index (SPI) and Standardized Precipitation Evapotranspiration Index (SPEI) for the Nueces basin.\n",
    "\n",
    "These two 'standardized' indices are calculated by:\n",
    "\n",
    "1. Fitting a probability distribution to the data set\n",
    "2. Determining a probability value for each value in the data set\n",
    "3. Transforming this probability to an equivalent ZScore from the standard normal distribution.\n",
    "    * The ZScore value provides the index value\n",
    "\n",
    "The SPI is calculated from monthly total precipitation. The monthly totals are aggregated to 3-, 6-, and 12-month rolling windows to create the data set value generates the SPI.\n",
    "* Pearson Type III (or 3 parameter Gamma) distribution is used for SPI\n",
    "\n",
    "The SPEI uses the total monthly deficit and aggregated monthly deficits using 3-, 6-, and 12-month rolling windows to create the data set values for the SPEI.\n",
    "* Log-logistic distribution (3 parameter) is used for SPEI\n",
    "\n",
    "The deficit ($D$) is:"
   ]
  },
  {
   "cell_type": "markdown",
   "metadata": {},
   "source": [
    "\\begin{equation*}\n",
    "    D_{i} = P_{i} - PET_{i}\n",
    "\\end{equation*}"
   ]
  },
  {
   "cell_type": "markdown",
   "metadata": {},
   "source": [
    "## Imports and Parameters"
   ]
  },
  {
   "cell_type": "code",
   "execution_count": 1,
   "metadata": {},
   "outputs": [],
   "source": [
    "%matplotlib inline"
   ]
  },
  {
   "cell_type": "code",
   "execution_count": 2,
   "metadata": {},
   "outputs": [],
   "source": [
    "import os\n",
    "from IPython.display import display, HTML\n",
    "import pandas as pd\n",
    "import numpy as np\n",
    "import matplotlib as mpl\n",
    "import matplotlib.pyplot as plt\n",
    "from scipy import stats as sstats\n",
    "from math import exp\n",
    "import datetime as dt\n",
    "import seaborn as sns\n",
    "import pickle"
   ]
  },
  {
   "cell_type": "code",
   "execution_count": 3,
   "metadata": {},
   "outputs": [],
   "source": [
    "plt.rcParams['svg.fonttype'] = 'none'"
   ]
  },
  {
   "cell_type": "code",
   "execution_count": 4,
   "metadata": {},
   "outputs": [],
   "source": [
    "IN_DIR = r'C:\\Users\\nmartin\\Documents\\EAA_HCP\\Data\\SwRI_Processed\\Processed_Historical'\n",
    "OUT_DIR = r'C:\\Users\\nmartin\\Documents\\EAA_HCP\\Data\\SwRI_Processed\\Processed_Historical\\SPEI'"
   ]
  },
  {
   "cell_type": "code",
   "execution_count": 5,
   "metadata": {},
   "outputs": [],
   "source": [
    "StartTS = pd.Timestamp( 1980, 1, 1, 0, )\n",
    "StopTS = pd.Timestamp( 2010, 12, 31, 23, )"
   ]
  },
  {
   "cell_type": "code",
   "execution_count": 6,
   "metadata": {},
   "outputs": [],
   "source": [
    "# our standard normal or ZScore parameters\n",
    "ZMu = 0.0\n",
    "ZStd = 1.0"
   ]
  },
  {
   "cell_type": "code",
   "execution_count": 7,
   "metadata": {},
   "outputs": [],
   "source": [
    "BasKey = \"Nueces\""
   ]
  },
  {
   "cell_type": "markdown",
   "metadata": {},
   "source": [
    "Lambdas"
   ]
  },
  {
   "cell_type": "code",
   "execution_count": 8,
   "metadata": {},
   "outputs": [],
   "source": [
    "# lambdas\n",
    "ConvCFStoM3D = lambda cfs: ( cfs * ( ( 24.0 * 60.0 * 60.0 ) / 1.0 ) ) * ( pow(1.0, 3.0) / pow( 3.280839895, 3.0 ) )"
   ]
  },
  {
   "cell_type": "markdown",
   "metadata": {},
   "source": [
    "## Load the Data"
   ]
  },
  {
   "cell_type": "markdown",
   "metadata": {},
   "source": [
    "Need to load the values from multiple spreadsheets, 1 per HRU. Want to collect the individual HRU DataFrames to a single DataFrame containing values for all HRUs"
   ]
  },
  {
   "cell_type": "code",
   "execution_count": 9,
   "metadata": {},
   "outputs": [],
   "source": [
    "InFiler = os.path.normpath( os.path.join( IN_DIR, \"FBas_MetTS_1980through2020_Dict.pkl\" ) )\n",
    "with open( InFiler, 'rb' ) as IF:\n",
    "    BasinsDFDict = pickle.load( IF )\n",
    "# end with\n",
    "medDF = BasinsDFDict[BasKey]"
   ]
  },
  {
   "cell_type": "code",
   "execution_count": 10,
   "metadata": {},
   "outputs": [
    {
     "data": {
      "text/html": [
       "<table border=\"1\" class=\"dataframe\">\n",
       "  <thead>\n",
       "    <tr style=\"text-align: right;\">\n",
       "      <th></th>\n",
       "      <th>Pre_mm</th>\n",
       "      <th>MaxT_C</th>\n",
       "      <th>MinT_C</th>\n",
       "      <th>AveT_C</th>\n",
       "      <th>ETo_mm</th>\n",
       "      <th>Def_mm</th>\n",
       "    </tr>\n",
       "  </thead>\n",
       "  <tbody>\n",
       "    <tr>\n",
       "      <th>1980-01-01</th>\n",
       "      <td>0.0</td>\n",
       "      <td>17.639760</td>\n",
       "      <td>-2.093293</td>\n",
       "      <td>7.773233</td>\n",
       "      <td>1.808953</td>\n",
       "      <td>-1.808953</td>\n",
       "    </tr>\n",
       "    <tr>\n",
       "      <th>1980-01-02</th>\n",
       "      <td>0.0</td>\n",
       "      <td>17.775069</td>\n",
       "      <td>2.362587</td>\n",
       "      <td>10.068828</td>\n",
       "      <td>1.976076</td>\n",
       "      <td>-1.976076</td>\n",
       "    </tr>\n",
       "    <tr>\n",
       "      <th>1980-01-03</th>\n",
       "      <td>0.0</td>\n",
       "      <td>13.989642</td>\n",
       "      <td>2.688177</td>\n",
       "      <td>8.338910</td>\n",
       "      <td>1.858288</td>\n",
       "      <td>-1.858288</td>\n",
       "    </tr>\n",
       "    <tr>\n",
       "      <th>1980-01-04</th>\n",
       "      <td>0.0</td>\n",
       "      <td>16.050801</td>\n",
       "      <td>-2.628509</td>\n",
       "      <td>6.711146</td>\n",
       "      <td>1.747395</td>\n",
       "      <td>-1.747395</td>\n",
       "    </tr>\n",
       "    <tr>\n",
       "      <th>1980-01-05</th>\n",
       "      <td>0.0</td>\n",
       "      <td>18.629301</td>\n",
       "      <td>-0.571212</td>\n",
       "      <td>9.029045</td>\n",
       "      <td>1.918359</td>\n",
       "      <td>-1.918359</td>\n",
       "    </tr>\n",
       "  </tbody>\n",
       "</table>"
      ],
      "text/plain": [
       "<IPython.core.display.HTML object>"
      ]
     },
     "metadata": {},
     "output_type": "display_data"
    }
   ],
   "source": [
    "display( HTML( medDF.head().to_html() ) )"
   ]
  },
  {
   "cell_type": "code",
   "execution_count": 11,
   "metadata": {},
   "outputs": [
    {
     "data": {
      "text/html": [
       "<table border=\"1\" class=\"dataframe\">\n",
       "  <thead>\n",
       "    <tr style=\"text-align: right;\">\n",
       "      <th></th>\n",
       "      <th>Pre_mm</th>\n",
       "      <th>MaxT_C</th>\n",
       "      <th>MinT_C</th>\n",
       "      <th>AveT_C</th>\n",
       "      <th>ETo_mm</th>\n",
       "      <th>Def_mm</th>\n",
       "    </tr>\n",
       "  </thead>\n",
       "  <tbody>\n",
       "    <tr>\n",
       "      <th>2020-12-27</th>\n",
       "      <td>0.000000</td>\n",
       "      <td>24.319174</td>\n",
       "      <td>-0.306802</td>\n",
       "      <td>12.006186</td>\n",
       "      <td>2.420889</td>\n",
       "      <td>-2.420889</td>\n",
       "    </tr>\n",
       "    <tr>\n",
       "      <th>2020-12-28</th>\n",
       "      <td>0.423642</td>\n",
       "      <td>22.191194</td>\n",
       "      <td>2.141386</td>\n",
       "      <td>12.166290</td>\n",
       "      <td>2.438010</td>\n",
       "      <td>-2.014369</td>\n",
       "    </tr>\n",
       "    <tr>\n",
       "      <th>2020-12-29</th>\n",
       "      <td>0.000000</td>\n",
       "      <td>23.078202</td>\n",
       "      <td>9.846962</td>\n",
       "      <td>16.462582</td>\n",
       "      <td>2.792585</td>\n",
       "      <td>-2.792585</td>\n",
       "    </tr>\n",
       "    <tr>\n",
       "      <th>2020-12-30</th>\n",
       "      <td>37.109350</td>\n",
       "      <td>13.431058</td>\n",
       "      <td>6.535061</td>\n",
       "      <td>9.983060</td>\n",
       "      <td>2.269348</td>\n",
       "      <td>34.840003</td>\n",
       "    </tr>\n",
       "    <tr>\n",
       "      <th>2020-12-31</th>\n",
       "      <td>37.109350</td>\n",
       "      <td>13.431058</td>\n",
       "      <td>6.535061</td>\n",
       "      <td>9.983060</td>\n",
       "      <td>2.269348</td>\n",
       "      <td>34.840003</td>\n",
       "    </tr>\n",
       "  </tbody>\n",
       "</table>"
      ],
      "text/plain": [
       "<IPython.core.display.HTML object>"
      ]
     },
     "metadata": {},
     "output_type": "display_data"
    }
   ],
   "source": [
    "display( HTML( medDF.tail().to_html() ) )"
   ]
  },
  {
   "cell_type": "code",
   "execution_count": 12,
   "metadata": {},
   "outputs": [],
   "source": [
    "InFiler = os.path.normpath( os.path.join( IN_DIR, \"FBas_MetTS_2021through2022_Dict.pkl\" ) )\n",
    "with open( InFiler, 'rb' ) as IF:\n",
    "    BasinsDFDict = pickle.load( IF )\n",
    "# end with\n",
    "newMedDF = BasinsDFDict[BasKey]"
   ]
  },
  {
   "cell_type": "code",
   "execution_count": 13,
   "metadata": {},
   "outputs": [],
   "source": [
    "fullMedDF = pd.concat( [ medDF, newMedDF ], )"
   ]
  },
  {
   "cell_type": "code",
   "execution_count": 14,
   "metadata": {},
   "outputs": [
    {
     "data": {
      "text/html": [
       "<table border=\"1\" class=\"dataframe\">\n",
       "  <thead>\n",
       "    <tr style=\"text-align: right;\">\n",
       "      <th></th>\n",
       "      <th>Pre_mm</th>\n",
       "      <th>MaxT_C</th>\n",
       "      <th>MinT_C</th>\n",
       "      <th>AveT_C</th>\n",
       "      <th>ETo_mm</th>\n",
       "      <th>Def_mm</th>\n",
       "    </tr>\n",
       "  </thead>\n",
       "  <tbody>\n",
       "    <tr>\n",
       "      <th>1980-01-01</th>\n",
       "      <td>0.0</td>\n",
       "      <td>17.639760</td>\n",
       "      <td>-2.093293</td>\n",
       "      <td>7.773233</td>\n",
       "      <td>1.808953</td>\n",
       "      <td>-1.808953</td>\n",
       "    </tr>\n",
       "    <tr>\n",
       "      <th>1980-01-02</th>\n",
       "      <td>0.0</td>\n",
       "      <td>17.775069</td>\n",
       "      <td>2.362587</td>\n",
       "      <td>10.068828</td>\n",
       "      <td>1.976076</td>\n",
       "      <td>-1.976076</td>\n",
       "    </tr>\n",
       "    <tr>\n",
       "      <th>1980-01-03</th>\n",
       "      <td>0.0</td>\n",
       "      <td>13.989642</td>\n",
       "      <td>2.688177</td>\n",
       "      <td>8.338910</td>\n",
       "      <td>1.858288</td>\n",
       "      <td>-1.858288</td>\n",
       "    </tr>\n",
       "    <tr>\n",
       "      <th>1980-01-04</th>\n",
       "      <td>0.0</td>\n",
       "      <td>16.050801</td>\n",
       "      <td>-2.628509</td>\n",
       "      <td>6.711146</td>\n",
       "      <td>1.747395</td>\n",
       "      <td>-1.747395</td>\n",
       "    </tr>\n",
       "    <tr>\n",
       "      <th>1980-01-05</th>\n",
       "      <td>0.0</td>\n",
       "      <td>18.629301</td>\n",
       "      <td>-0.571212</td>\n",
       "      <td>9.029045</td>\n",
       "      <td>1.918359</td>\n",
       "      <td>-1.918359</td>\n",
       "    </tr>\n",
       "  </tbody>\n",
       "</table>"
      ],
      "text/plain": [
       "<IPython.core.display.HTML object>"
      ]
     },
     "metadata": {},
     "output_type": "display_data"
    }
   ],
   "source": [
    "display( HTML( fullMedDF.head().to_html() ) )"
   ]
  },
  {
   "cell_type": "code",
   "execution_count": 15,
   "metadata": {},
   "outputs": [
    {
     "data": {
      "text/html": [
       "<table border=\"1\" class=\"dataframe\">\n",
       "  <thead>\n",
       "    <tr style=\"text-align: right;\">\n",
       "      <th></th>\n",
       "      <th>Pre_mm</th>\n",
       "      <th>MaxT_C</th>\n",
       "      <th>MinT_C</th>\n",
       "      <th>AveT_C</th>\n",
       "      <th>ETo_mm</th>\n",
       "      <th>Def_mm</th>\n",
       "    </tr>\n",
       "  </thead>\n",
       "  <tbody>\n",
       "    <tr>\n",
       "      <th>2022-12-27</th>\n",
       "      <td>0.000000</td>\n",
       "      <td>17.425548</td>\n",
       "      <td>-3.292989</td>\n",
       "      <td>7.066279</td>\n",
       "      <td>1.629987</td>\n",
       "      <td>-1.629987</td>\n",
       "    </tr>\n",
       "    <tr>\n",
       "      <th>2022-12-28</th>\n",
       "      <td>0.000000</td>\n",
       "      <td>22.903291</td>\n",
       "      <td>0.536199</td>\n",
       "      <td>11.719745</td>\n",
       "      <td>1.937418</td>\n",
       "      <td>-1.937418</td>\n",
       "    </tr>\n",
       "    <tr>\n",
       "      <th>2022-12-29</th>\n",
       "      <td>0.000000</td>\n",
       "      <td>21.211823</td>\n",
       "      <td>7.517959</td>\n",
       "      <td>14.364891</td>\n",
       "      <td>2.114270</td>\n",
       "      <td>-2.114270</td>\n",
       "    </tr>\n",
       "    <tr>\n",
       "      <th>2022-12-30</th>\n",
       "      <td>0.650601</td>\n",
       "      <td>19.431616</td>\n",
       "      <td>5.997381</td>\n",
       "      <td>12.714498</td>\n",
       "      <td>2.009420</td>\n",
       "      <td>-1.358819</td>\n",
       "    </tr>\n",
       "    <tr>\n",
       "      <th>2022-12-31</th>\n",
       "      <td>0.650601</td>\n",
       "      <td>19.431616</td>\n",
       "      <td>5.997381</td>\n",
       "      <td>12.714498</td>\n",
       "      <td>2.013444</td>\n",
       "      <td>-1.362843</td>\n",
       "    </tr>\n",
       "  </tbody>\n",
       "</table>"
      ],
      "text/plain": [
       "<IPython.core.display.HTML object>"
      ]
     },
     "metadata": {},
     "output_type": "display_data"
    }
   ],
   "source": [
    "display( HTML( fullMedDF.tail().to_html() ) )"
   ]
  },
  {
   "cell_type": "code",
   "execution_count": 16,
   "metadata": {},
   "outputs": [],
   "source": [
    "medDF = medDF.loc[StartTS:StopTS].copy()"
   ]
  },
  {
   "cell_type": "code",
   "execution_count": 17,
   "metadata": {},
   "outputs": [],
   "source": [
    "baPre = medDF[\"Pre_mm\"].to_numpy(dtype=np.float32)\n",
    "baDef = medDF[\"Def_mm\"].to_numpy(dtype=np.float32)"
   ]
  },
  {
   "cell_type": "markdown",
   "metadata": {},
   "source": [
    "## Aggregate to Desired Durations or Windows"
   ]
  },
  {
   "cell_type": "markdown",
   "metadata": {},
   "source": [
    "Use 3-, 6-, and 12-month durations. These are moving average windows so first make monthly precipitation and deficit total time series."
   ]
  },
  {
   "cell_type": "code",
   "execution_count": 18,
   "metadata": {},
   "outputs": [],
   "source": [
    "MonDF = medDF.resample( 'MS', ).sum()\n",
    "ExtMonDF = fullMedDF.resample( 'MS', ).sum()"
   ]
  },
  {
   "cell_type": "code",
   "execution_count": 19,
   "metadata": {},
   "outputs": [],
   "source": [
    "PreMonDF = MonDF[[\"Pre_mm\"]].copy()\n",
    "ExtPreMonDF = ExtMonDF[[\"Pre_mm\"]].copy()"
   ]
  },
  {
   "cell_type": "markdown",
   "metadata": {},
   "source": [
    "### Precipitation"
   ]
  },
  {
   "cell_type": "code",
   "execution_count": 20,
   "metadata": {},
   "outputs": [],
   "source": [
    "P3DF = PreMonDF.rolling(window=3,).sum()\n",
    "P4DF = PreMonDF.rolling(window=4,).sum()\n",
    "P6DF = PreMonDF.rolling(window=6,).sum()\n",
    "P12DF = PreMonDF.rolling(window=12,).sum()"
   ]
  },
  {
   "cell_type": "code",
   "execution_count": 21,
   "metadata": {},
   "outputs": [],
   "source": [
    "extP3DF = ExtPreMonDF.rolling(window=3,).sum()\n",
    "extP4DF = ExtPreMonDF.rolling(window=4,).sum()\n",
    "extP6DF = ExtPreMonDF.rolling(window=6,).sum()\n",
    "extP12DF = ExtPreMonDF.rolling(window=12,).sum()"
   ]
  },
  {
   "cell_type": "markdown",
   "metadata": {},
   "source": [
    "Now chop off the first year to get rid of the 'NaN' values. Assume that meteorology data sets always start on the first day of the calendar year."
   ]
  },
  {
   "cell_type": "code",
   "execution_count": 22,
   "metadata": {},
   "outputs": [
    {
     "data": {
      "text/plain": [
       "Timestamp('1981-01-01 00:00:00')"
      ]
     },
     "execution_count": 22,
     "metadata": {},
     "output_type": "execute_result"
    }
   ],
   "source": [
    "OrgStartTS = PreMonDF.index[0]\n",
    "NewStartTS = pd.Timestamp( OrgStartTS.year + 1, 1, 1 )\n",
    "NewStartTS"
   ]
  },
  {
   "cell_type": "code",
   "execution_count": 23,
   "metadata": {},
   "outputs": [],
   "source": [
    "PreMonDF = PreMonDF.loc[NewStartTS:].copy()\n",
    "P3DF = P3DF.loc[NewStartTS:].copy()\n",
    "P4DF = P4DF.loc[NewStartTS:].copy()\n",
    "P6DF = P6DF.loc[NewStartTS:].copy()\n",
    "P12DF = P12DF.loc[NewStartTS:].copy()"
   ]
  },
  {
   "cell_type": "code",
   "execution_count": 24,
   "metadata": {},
   "outputs": [],
   "source": [
    "ExtPreMonDF = ExtPreMonDF.loc[NewStartTS:].copy()\n",
    "extP3DF = extP3DF.loc[NewStartTS:].copy()\n",
    "extP4DF = extP4DF.loc[NewStartTS:].copy()\n",
    "extP6DF = extP6DF.loc[NewStartTS:].copy()\n",
    "extP12DF = extP12DF.loc[NewStartTS:].copy()"
   ]
  },
  {
   "cell_type": "markdown",
   "metadata": {},
   "source": [
    "Add an integer month column to facilitate processing"
   ]
  },
  {
   "cell_type": "code",
   "execution_count": 25,
   "metadata": {},
   "outputs": [],
   "source": [
    "PreMonDF[\"Month\"] = PreMonDF.index.month\n",
    "P3DF[\"Month\"] = P3DF.index.month\n",
    "P4DF[\"Month\"] = P4DF.index.month\n",
    "P6DF[\"Month\"] = P6DF.index.month\n",
    "P12DF[\"Month\"] = P12DF.index.month"
   ]
  },
  {
   "cell_type": "code",
   "execution_count": 26,
   "metadata": {},
   "outputs": [],
   "source": [
    "ExtPreMonDF[\"Month\"] = ExtPreMonDF.index.month\n",
    "extP3DF[\"Month\"] = extP3DF.index.month\n",
    "extP4DF[\"Month\"] = extP4DF.index.month\n",
    "extP6DF[\"Month\"] = extP6DF.index.month\n",
    "extP12DF[\"Month\"] = extP12DF.index.month"
   ]
  },
  {
   "cell_type": "markdown",
   "metadata": {},
   "source": [
    "### Deficit"
   ]
  },
  {
   "cell_type": "code",
   "execution_count": 27,
   "metadata": {},
   "outputs": [],
   "source": [
    "DefMonDF = MonDF[[\"Def_mm\"]].copy()\n",
    "ExtDefMonDF = ExtMonDF[[\"Def_mm\"]].copy()"
   ]
  },
  {
   "cell_type": "code",
   "execution_count": 28,
   "metadata": {},
   "outputs": [],
   "source": [
    "D3DF = DefMonDF.rolling(window=3,).sum()\n",
    "D4DF = DefMonDF.rolling(window=4,).sum()\n",
    "D6DF = DefMonDF.rolling(window=6,).sum()\n",
    "D12DF = DefMonDF.rolling(window=12,).sum()"
   ]
  },
  {
   "cell_type": "code",
   "execution_count": 29,
   "metadata": {},
   "outputs": [],
   "source": [
    "extD3DF = ExtDefMonDF.rolling(window=3,).sum()\n",
    "extD4DF = ExtDefMonDF.rolling(window=4,).sum()\n",
    "extD6DF = ExtDefMonDF.rolling(window=6,).sum()\n",
    "extD12DF = ExtDefMonDF.rolling(window=12,).sum()"
   ]
  },
  {
   "cell_type": "code",
   "execution_count": 30,
   "metadata": {},
   "outputs": [],
   "source": [
    "DefMonDF = DefMonDF.loc[NewStartTS:].copy()\n",
    "D3DF = D3DF.loc[NewStartTS:].copy()\n",
    "D4DF = D4DF.loc[NewStartTS:].copy()\n",
    "D6DF = D6DF.loc[NewStartTS:].copy()\n",
    "D12DF = D12DF.loc[NewStartTS:].copy()"
   ]
  },
  {
   "cell_type": "code",
   "execution_count": 31,
   "metadata": {},
   "outputs": [],
   "source": [
    "ExtDefMonDF = ExtDefMonDF.loc[NewStartTS:].copy()\n",
    "extD3DF = extD3DF.loc[NewStartTS:].copy()\n",
    "extD4DF = extD4DF.loc[NewStartTS:].copy()\n",
    "extD6DF = extD6DF.loc[NewStartTS:].copy()\n",
    "extD12DF = extD12DF.loc[NewStartTS:].copy()"
   ]
  },
  {
   "cell_type": "code",
   "execution_count": 32,
   "metadata": {},
   "outputs": [],
   "source": [
    "DefMonDF[\"Month\"] = DefMonDF.index.month\n",
    "D3DF[\"Month\"] = D3DF.index.month\n",
    "D4DF[\"Month\"] = D4DF.index.month\n",
    "D6DF[\"Month\"] = D6DF.index.month\n",
    "D12DF[\"Month\"] = D12DF.index.month"
   ]
  },
  {
   "cell_type": "code",
   "execution_count": 33,
   "metadata": {},
   "outputs": [],
   "source": [
    "ExtDefMonDF[\"Month\"] = ExtDefMonDF.index.month\n",
    "extD3DF[\"Month\"] = extD3DF.index.month\n",
    "extD4DF[\"Month\"] = extD4DF.index.month\n",
    "extD6DF[\"Month\"] = extD6DF.index.month\n",
    "extD12DF[\"Month\"] = extD12DF.index.month"
   ]
  },
  {
   "cell_type": "markdown",
   "metadata": {},
   "source": [
    "## Fit Distributions and Calculate Indices"
   ]
  },
  {
   "cell_type": "markdown",
   "metadata": {},
   "source": [
    "### SPI: Pearson Type III"
   ]
  },
  {
   "cell_type": "markdown",
   "metadata": {},
   "source": [
    "Fit Pearson Type III Distributions to each month and each window length.\n",
    "\n",
    "Scipy stats fit for Pearson Type III returns a tuple with:\n",
    "\n",
    "0. **skew**\n",
    "1. **location**\n",
    "2. **scale**\n",
    "\n",
    "The cumulative distribution function (for Pearson Type III) is then used to estimate a cumulative probability for each moving sum value (i.e., each calendar month across all years in the data set). The cumulative probability is then transformed into a Z-Score using the standard normal distribution."
   ]
  },
  {
   "cell_type": "code",
   "execution_count": 34,
   "metadata": {},
   "outputs": [],
   "source": [
    "procCols = list( PreMonDF.columns )"
   ]
  },
  {
   "cell_type": "code",
   "execution_count": 35,
   "metadata": {},
   "outputs": [],
   "source": [
    "procCols.remove( \"Month\" )"
   ]
  },
  {
   "cell_type": "code",
   "execution_count": 36,
   "metadata": {},
   "outputs": [
    {
     "data": {
      "text/plain": [
       "['Pre_mm']"
      ]
     },
     "execution_count": 36,
     "metadata": {},
     "output_type": "execute_result"
    }
   ],
   "source": [
    "procCols"
   ]
  },
  {
   "cell_type": "code",
   "execution_count": 37,
   "metadata": {},
   "outputs": [
    {
     "data": {
      "text/plain": [
       "30"
      ]
     },
     "execution_count": 37,
     "metadata": {},
     "output_type": "execute_result"
    }
   ],
   "source": [
    "TotYears = ( 2010 - 1981 ) + 1\n",
    "TotYears"
   ]
  },
  {
   "cell_type": "code",
   "execution_count": 38,
   "metadata": {},
   "outputs": [
    {
     "data": {
      "text/plain": [
       "42"
      ]
     },
     "execution_count": 38,
     "metadata": {},
     "output_type": "execute_result"
    }
   ],
   "source": [
    "TotEstYears = (2022 - 1981) + 1\n",
    "TotEstYears"
   ]
  },
  {
   "cell_type": "code",
   "execution_count": 39,
   "metadata": {},
   "outputs": [
    {
     "name": "stdout",
     "output_type": "stream",
     "text": [
      "Working on Pre_mm\n"
     ]
    }
   ],
   "source": [
    "# outer loop by DataFrame columns\n",
    "hCnt = 0\n",
    "for tHdr in procCols:\n",
    "    print(\"Working on %s\" % tHdr)\n",
    "    # get the full arrays\n",
    "    extCols = [ tHdr, \"Month\"]\n",
    "    c3DF = P3DF[extCols].copy()\n",
    "    c4DF = P4DF[extCols].copy()\n",
    "    c6DF = P6DF[extCols].copy()\n",
    "    c12DF = P12DF[extCols].copy()\n",
    "    extC3DF = extP3DF[extCols].copy()\n",
    "    extC4DF = extP4DF[extCols].copy()\n",
    "    extC6DF = extP6DF[extCols].copy()\n",
    "    extC12DF = extP12DF[extCols].copy()\n",
    "    # create empty tracking dictionaries\n",
    "    M3MonDict = dict()\n",
    "    M4MonDict = dict()\n",
    "    M6MonDict = dict()\n",
    "    M12MonDict = dict()\n",
    "    # loop through by integer month\n",
    "    for mI in range(1, 13, 1):\n",
    "        # get our basic arrays of values - these are calendar ordered\n",
    "        m3Mon = c3DF[c3DF[\"Month\"] == mI].copy()\n",
    "        a3Mon = m3Mon[tHdr].to_numpy()\n",
    "        extM3Mon = extC3DF[extC3DF[\"Month\"] == mI].copy()\n",
    "        extA3Mon = extM3Mon[tHdr].to_numpy()\n",
    "        m4Mon = c4DF[c4DF[\"Month\"] == mI].copy()\n",
    "        a4Mon = m4Mon[tHdr].to_numpy()\n",
    "        extM4Mon = extC4DF[extC4DF[\"Month\"] == mI].copy()\n",
    "        extA4Mon = extM4Mon[tHdr].to_numpy()\n",
    "        m6Mon = c6DF[c6DF[\"Month\"] == mI].copy()\n",
    "        a6Mon = m6Mon[tHdr].to_numpy()\n",
    "        extM6Mon = extC6DF[extC6DF[\"Month\"] == mI].copy()\n",
    "        extA6Mon = extM6Mon[tHdr].to_numpy()\n",
    "        m12Mon = c12DF[c12DF[\"Month\"] == mI].copy()\n",
    "        a12Mon = m12Mon[tHdr].to_numpy()\n",
    "        extM12Mon = extC12DF[extC12DF[\"Month\"] == mI].copy()\n",
    "        extA12Mon = extM12Mon[tHdr].to_numpy()\n",
    "        # fit Pearson Type III distributions to these arrays\n",
    "        fitT3Mon = sstats.pearson3.fit( a3Mon )\n",
    "        lD3Mon = { \"skew\" : fitT3Mon[0], \"location\" : fitT3Mon[1],\n",
    "                   \"scale\" : fitT3Mon[2], }\n",
    "        fitT4Mon = sstats.pearson3.fit( a4Mon )\n",
    "        lD4Mon = { \"skew\" : fitT4Mon[0], \"location\" : fitT4Mon[1],\n",
    "                   \"scale\" : fitT4Mon[2], }\n",
    "        fitT6Mon = sstats.pearson3.fit( a6Mon )\n",
    "        lD6Mon = { \"skew\" : fitT6Mon[0], \"location\" : fitT6Mon[1],\n",
    "                   \"scale\" : fitT6Mon[2], }\n",
    "        fitT12Mon = sstats.pearson3.fit( a12Mon )\n",
    "        lD12Mon = { \"skew\" : fitT12Mon[0], \"location\" : fitT12Mon[1],\n",
    "                   \"scale\" : fitT12Mon[2], }\n",
    "        # now get the cumulative probability values from the distributions\n",
    "        #   for the observed values.\n",
    "        data3MCDF = sstats.pearson3.cdf( extA3Mon, lD3Mon[\"skew\"], loc=lD3Mon[\"location\"], \n",
    "                                         scale=lD3Mon[\"scale\"] )\n",
    "        data4MCDF = sstats.pearson3.cdf( extA4Mon, lD4Mon[\"skew\"], loc=lD4Mon[\"location\"], \n",
    "                                         scale=lD4Mon[\"scale\"] )\n",
    "        data6MCDF = sstats.pearson3.cdf( extA6Mon, lD6Mon[\"skew\"], loc=lD6Mon[\"location\"], \n",
    "                                         scale=lD6Mon[\"scale\"] )\n",
    "        data12MCDF = sstats.pearson3.cdf( extA12Mon, lD12Mon[\"skew\"], loc=lD12Mon[\"location\"], \n",
    "                                          scale=lD12Mon[\"scale\"] )\n",
    "        # make sure the cumulative density is not less than 1.0 / (2* N years).\n",
    "        data3MCDF = np.where( data3MCDF < (1.0/60.0), (1.0/60.0), data3MCDF )\n",
    "        data4MCDF = np.where( data4MCDF < (1.0/60.0), (1.0/60.0), data4MCDF )\n",
    "        data6MCDF = np.where( data6MCDF < (1.0/60.0), (1.0/60.0), data6MCDF )\n",
    "        data12MCDF = np.where( data12MCDF < (1.0/60.0), (1.0/60.0), data12MCDF )\n",
    "        SPI3Mo = sstats.norm.ppf( data3MCDF, loc=ZMu, scale=ZStd )\n",
    "        SPI4Mo = sstats.norm.ppf( data4MCDF, loc=ZMu, scale=ZStd )\n",
    "        SPI6Mo = sstats.norm.ppf( data6MCDF, loc=ZMu, scale=ZStd )\n",
    "        SPI12Mo = sstats.norm.ppf( data12MCDF, loc=ZMu, scale=ZStd )\n",
    "        # dictionary entries for this month\n",
    "        M3MonDict[mI] = [ [data3MCDF, SPI3Mo, extA3Mon], lD3Mon ]\n",
    "        M4MonDict[mI] = [ [data4MCDF, SPI4Mo, extA4Mon], lD4Mon ]\n",
    "        M6MonDict[mI] = [ [data6MCDF, SPI6Mo, extA6Mon], lD6Mon ]\n",
    "        M12MonDict[mI] = [ [data12MCDF, SPI12Mo, extA12Mon], lD12Mon ]\n",
    "    # end for\n",
    "    # rebuild time series representation from calendar month lists\n",
    "    spi3mList = list()\n",
    "    spi4mList = list()\n",
    "    spi6mList = list()\n",
    "    spi12mList = list()\n",
    "    cprob3mList = list()\n",
    "    cprob4mList = list()\n",
    "    cprob6mList = list()\n",
    "    cprob12mList = list()\n",
    "    cumD3mList = list()\n",
    "    cumD4mList = list()\n",
    "    cumD6mList = list()\n",
    "    cumD12mList = list()\n",
    "    # loop through years and fill by month order\n",
    "    for yI in range(TotEstYears):\n",
    "        for mI in range(1, 13, 1):\n",
    "            m3ArraySP = M3MonDict[mI][0][1]\n",
    "            m4ArraySP = M4MonDict[mI][0][1]\n",
    "            m6ArraySP = M6MonDict[mI][0][1]\n",
    "            m12ArraySP = M12MonDict[mI][0][1]\n",
    "            m3ArrayCP = M3MonDict[mI][0][0]\n",
    "            m4ArrayCP = M4MonDict[mI][0][0]\n",
    "            m6ArrayCP = M6MonDict[mI][0][0]\n",
    "            m12ArrayCP = M12MonDict[mI][0][0]\n",
    "            m3ArrayCD = M3MonDict[mI][0][2]\n",
    "            m4ArrayCD = M4MonDict[mI][0][2]\n",
    "            m6ArrayCD = M6MonDict[mI][0][2]\n",
    "            m12ArrayCD = M12MonDict[mI][0][2]\n",
    "            if yI < len( m3ArrayCP ):\n",
    "                spi3mList.append( m3ArraySP[yI] )\n",
    "                cprob3mList.append( m3ArrayCP[yI] )\n",
    "                cumD3mList.append( m3ArrayCD[yI] )\n",
    "            if yI < len( m4ArrayCP ):\n",
    "                spi4mList.append( m4ArraySP[yI] )\n",
    "                cprob4mList.append( m4ArrayCP[yI] )\n",
    "                cumD4mList.append( m4ArrayCD[yI] )\n",
    "            if yI < len( m6ArrayCP ):\n",
    "                spi6mList.append( m6ArraySP[yI] )\n",
    "                cprob6mList.append( m3ArrayCP[yI] )\n",
    "                cumD6mList.append( m6ArrayCD[yI] )\n",
    "            if yI < len( m12ArrayCP ):\n",
    "                spi12mList.append( m12ArraySP[yI] )\n",
    "                cprob12mList.append( m3ArrayCP[yI] )\n",
    "                cumD12mList.append( m12ArrayCD[yI] )\n",
    "        # end inner for\n",
    "    # end outer for\n",
    "    # now build the time indexed DataFrame\n",
    "    DataDict = { \"CumPre\" : np.array( cumD3mList, dtype=np.float32 ),\n",
    "                 \"CumProb\" : np.array( cprob3mList, dtype=np.float32 ), \n",
    "                 \"SPI\" : np.array( spi3mList, dtype=np.float32 ), }\n",
    "    cSPI_3 = pd.DataFrame( index=extC3DF.index, data=DataDict )\n",
    "    cSPI_3[\"5xCumProb\"] = 5.0*cSPI_3[\"CumProb\"]\n",
    "    DataDict = { \"CumPre\" : np.array( cumD4mList, dtype=np.float32 ),\n",
    "                 \"CumProb\" : np.array( cprob4mList, dtype=np.float32 ), \n",
    "                 \"SPI\" : np.array( spi4mList, dtype=np.float32 ), }\n",
    "    cSPI_4 = pd.DataFrame( index=extC4DF.index, data=DataDict )\n",
    "    cSPI_4[\"5xCumProb\"] = 5.0*cSPI_4[\"CumProb\"]\n",
    "    DataDict = { \"CumPre\" : np.array( cumD6mList, dtype=np.float32 ),\n",
    "                 \"CumProb\" : np.array( cprob6mList, dtype=np.float32 ), \n",
    "                 \"SPI\" : np.array( spi6mList, dtype=np.float32 ), }\n",
    "    cSPI_6 = pd.DataFrame( index=extC6DF.index, data=DataDict )\n",
    "    cSPI_6[\"5xCumProb\"] = 5.0*cSPI_6[\"CumProb\"]\n",
    "    DataDict = { \"CumPre\" : np.array( cumD12mList, dtype=np.float32 ),\n",
    "                 \"CumProb\" : np.array( cprob12mList, dtype=np.float32 ), \n",
    "                 \"SPI\" : np.array( spi12mList, dtype=np.float32 ),  }\n",
    "    cSPI_12 = pd.DataFrame( index=extC12DF.index, data=DataDict )\n",
    "    cSPI_12[\"5xCumProb\"] = 5.0*cSPI_12[\"CumProb\"]\n",
    "    if hCnt == 0:\n",
    "        spi3DF = cSPI_3.copy()\n",
    "        spi4DF = cSPI_4.copy()\n",
    "        spi6DF = cSPI_6.copy()\n",
    "        spi12DF = cSPI_12.copy()\n",
    "    else:\n",
    "        spi3DF = spi3DF.merge( cSPI_3, how='inner', left_index=True, right_index=True )\n",
    "        spi4DF = spi4DF.merge( cSPI_4, how='inner', left_index=True, right_index=True )\n",
    "        spi6DF = spi6DF.merge( cSPI_6, how='inner', left_index=True, right_index=True )\n",
    "        spi12DF = spi12DF.merge( cSPI_12, how='inner', left_index=True, right_index=True )\n",
    "    # end if\n",
    "    # now do the stats\n",
    "    stats3List = list()\n",
    "    stats4List = list()\n",
    "    stats6List = list()\n",
    "    stats12List = list()\n",
    "    indNList = list()\n",
    "    for mI in range(1, 13, 1):\n",
    "        lD3Mon = M3MonDict[mI][1]\n",
    "        lD4Mon = M4MonDict[mI][1]\n",
    "        lD6Mon = M6MonDict[mI][1]\n",
    "        lD12Mon = M12MonDict[mI][1]\n",
    "        indNList.append( \"skew_%d\" % mI )\n",
    "        indNList.append( \"scale_%d\" % mI )\n",
    "        indNList.append( \"loc_%d\" % mI )\n",
    "        stats3List.append( lD3Mon[\"skew\"] )\n",
    "        stats3List.append( lD3Mon[\"scale\"] )\n",
    "        stats3List.append( lD3Mon[\"location\"] )\n",
    "        stats4List.append( lD4Mon[\"skew\"] )\n",
    "        stats4List.append( lD4Mon[\"scale\"] )\n",
    "        stats4List.append( lD4Mon[\"location\"] )\n",
    "        stats6List.append( lD6Mon[\"skew\"] )\n",
    "        stats6List.append( lD6Mon[\"scale\"] )\n",
    "        stats6List.append( lD6Mon[\"location\"] )\n",
    "        stats12List.append( lD12Mon[\"skew\"] )\n",
    "        stats12List.append( lD12Mon[\"scale\"] )\n",
    "        stats12List.append( lD12Mon[\"location\"] )\n",
    "    # end for\n",
    "    # build our DataFrames\n",
    "    c3StatsDF = pd.DataFrame( index=indNList, data={\"SPI Fit Stats\" : stats3List,} )\n",
    "    c4StatsDF = pd.DataFrame( index=indNList, data={\"SPI Fit Stats\" : stats4List,} )\n",
    "    c6StatsDF = pd.DataFrame( index=indNList, data={\"SPI Fit Stats\" : stats6List,} )\n",
    "    c12StatsDF = pd.DataFrame( index=indNList, data={\"SPI Fit Stats\" : stats12List,} )\n",
    "    if hCnt == 0:\n",
    "        stats3DF = c3StatsDF.copy()\n",
    "        stats4DF = c4StatsDF.copy()\n",
    "        stats6DF = c6StatsDF.copy()\n",
    "        stats12DF = c12StatsDF.copy()\n",
    "    else:\n",
    "        stats3DF = stats3DF.merge( c3StatsDF, how='inner', left_index=True, right_index=True )\n",
    "        stats4DF = stats4DF.merge( c4StatsDF, how='inner', left_index=True, right_index=True )\n",
    "        stats6DF = stats6DF.merge( c6StatsDF, how='inner', left_index=True, right_index=True )\n",
    "        stats12DF = stats12DF.merge( c12StatsDF, how='inner', left_index=True, right_index=True )\n",
    "    # end if\n",
    "    # increment the hCnt\n",
    "    hCnt += 1\n",
    "# end header for"
   ]
  },
  {
   "cell_type": "markdown",
   "metadata": {},
   "source": [
    "#### Output"
   ]
  },
  {
   "cell_type": "code",
   "execution_count": 40,
   "metadata": {},
   "outputs": [
    {
     "data": {
      "text/html": [
       "<table border=\"1\" class=\"dataframe\">\n",
       "  <thead>\n",
       "    <tr style=\"text-align: right;\">\n",
       "      <th></th>\n",
       "      <th>CumPre</th>\n",
       "      <th>CumProb</th>\n",
       "      <th>SPI</th>\n",
       "      <th>5xCumProb</th>\n",
       "    </tr>\n",
       "  </thead>\n",
       "  <tbody>\n",
       "    <tr>\n",
       "      <th>1981-01-01</th>\n",
       "      <td>135.926102</td>\n",
       "      <td>0.390516</td>\n",
       "      <td>-0.277975</td>\n",
       "      <td>1.952580</td>\n",
       "    </tr>\n",
       "    <tr>\n",
       "      <th>1981-02-01</th>\n",
       "      <td>149.628418</td>\n",
       "      <td>0.620777</td>\n",
       "      <td>0.307521</td>\n",
       "      <td>3.103884</td>\n",
       "    </tr>\n",
       "    <tr>\n",
       "      <th>1981-03-01</th>\n",
       "      <td>161.965027</td>\n",
       "      <td>0.676533</td>\n",
       "      <td>0.458026</td>\n",
       "      <td>3.382665</td>\n",
       "    </tr>\n",
       "    <tr>\n",
       "      <th>1981-04-01</th>\n",
       "      <td>282.114258</td>\n",
       "      <td>0.882003</td>\n",
       "      <td>1.185060</td>\n",
       "      <td>4.410016</td>\n",
       "    </tr>\n",
       "    <tr>\n",
       "      <th>1981-05-01</th>\n",
       "      <td>334.743896</td>\n",
       "      <td>0.867044</td>\n",
       "      <td>1.112524</td>\n",
       "      <td>4.335218</td>\n",
       "    </tr>\n",
       "  </tbody>\n",
       "</table>"
      ],
      "text/plain": [
       "<IPython.core.display.HTML object>"
      ]
     },
     "metadata": {},
     "output_type": "display_data"
    }
   ],
   "source": [
    "display( HTML( spi4DF.head().to_html() ) )"
   ]
  },
  {
   "cell_type": "code",
   "execution_count": 41,
   "metadata": {},
   "outputs": [
    {
     "data": {
      "text/html": [
       "<table border=\"1\" class=\"dataframe\">\n",
       "  <thead>\n",
       "    <tr style=\"text-align: right;\">\n",
       "      <th></th>\n",
       "      <th>SPI Fit Stats</th>\n",
       "    </tr>\n",
       "  </thead>\n",
       "  <tbody>\n",
       "    <tr>\n",
       "      <th>skew_1</th>\n",
       "      <td>1.346609</td>\n",
       "    </tr>\n",
       "    <tr>\n",
       "      <th>scale_1</th>\n",
       "      <td>208.551371</td>\n",
       "    </tr>\n",
       "    <tr>\n",
       "      <th>loc_1</th>\n",
       "      <td>659.579189</td>\n",
       "    </tr>\n",
       "    <tr>\n",
       "      <th>skew_2</th>\n",
       "      <td>1.178313</td>\n",
       "    </tr>\n",
       "    <tr>\n",
       "      <th>scale_2</th>\n",
       "      <td>207.775613</td>\n",
       "    </tr>\n",
       "  </tbody>\n",
       "</table>"
      ],
      "text/plain": [
       "<IPython.core.display.HTML object>"
      ]
     },
     "metadata": {},
     "output_type": "display_data"
    }
   ],
   "source": [
    "display( HTML( stats12DF.head().to_html() ) )"
   ]
  },
  {
   "cell_type": "markdown",
   "metadata": {},
   "source": [
    "Output to a spreadsheet"
   ]
  },
  {
   "cell_type": "code",
   "execution_count": 42,
   "metadata": {},
   "outputs": [],
   "source": [
    "outXLSX = os.path.normpath( os.path.join( OUT_DIR, BasKey, \"%s_SPI.xlsx\" % BasKey ) )\n",
    "writer = pd.ExcelWriter( outXLSX )\n",
    "workbook  = writer.book\n",
    "format1 = workbook.add_format({'num_format': '#,##0.00000'})\n",
    "cLabel = \"Monthly_CN\"\n",
    "PreMonDF.to_excel( writer, sheet_name=cLabel, index_label=\"DateTime\" )\n",
    "# adjust columns\n",
    "writer.sheets[cLabel].set_column( 0, 0, 18 )\n",
    "for column in PreMonDF:\n",
    "    column_width = max(PreMonDF[column].astype(str).map(len).max()+6, len(column)+6)\n",
    "    col_idx = PreMonDF.columns.get_loc(column)\n",
    "    writer.sheets[cLabel].set_column(col_idx+1, col_idx+1, column_width, format1)\n",
    "# end for\n",
    "cLabel = \"Monthly_Ext\"\n",
    "ExtPreMonDF.to_excel( writer, sheet_name=cLabel, index_label=\"DateTime\" )\n",
    "# adjust columns\n",
    "writer.sheets[cLabel].set_column( 0, 0, 18 )\n",
    "for column in ExtPreMonDF:\n",
    "    column_width = max(ExtPreMonDF[column].astype(str).map(len).max()+6, len(column)+6)\n",
    "    col_idx = ExtPreMonDF.columns.get_loc(column)\n",
    "    writer.sheets[cLabel].set_column(col_idx+1, col_idx+1, column_width, format1)\n",
    "# end for\n",
    "cLabel = \"Stats_3mo\"\n",
    "stats3DF.to_excel( writer, sheet_name=cLabel, index_label=\"DateTime\" )\n",
    "# adjust columns\n",
    "writer.sheets[cLabel].set_column( 0, 0, 18 )\n",
    "for column in stats3DF:\n",
    "    column_width = max(stats3DF[column].astype(str).map(len).max()+6, len(column)+6)\n",
    "    col_idx = stats3DF.columns.get_loc(column)\n",
    "    writer.sheets[cLabel].set_column(col_idx+1, col_idx+1, column_width, format1)\n",
    "# end for\n",
    "cLabel = \"Stats_4mo\"\n",
    "stats4DF.to_excel( writer, sheet_name=cLabel, index_label=\"DateTime\" )\n",
    "# adjust columns\n",
    "writer.sheets[cLabel].set_column( 0, 0, 18 )\n",
    "for column in stats4DF:\n",
    "    column_width = max(stats4DF[column].astype(str).map(len).max()+6, len(column)+6)\n",
    "    col_idx = stats4DF.columns.get_loc(column)\n",
    "    writer.sheets[cLabel].set_column(col_idx+1, col_idx+1, column_width, format1)\n",
    "# end for\n",
    "cLabel = \"Stats_6mo\"\n",
    "stats6DF.to_excel( writer, sheet_name=cLabel, index_label=\"DateTime\" )\n",
    "# adjust columns\n",
    "writer.sheets[cLabel].set_column( 0, 0, 18 )\n",
    "for column in stats6DF:\n",
    "    column_width = max(stats6DF[column].astype(str).map(len).max()+6, len(column)+6)\n",
    "    col_idx = stats6DF.columns.get_loc(column)\n",
    "    writer.sheets[cLabel].set_column(col_idx+1, col_idx+1, column_width, format1)\n",
    "# end for\n",
    "cLabel = \"Stats_12mo\"\n",
    "stats12DF.to_excel( writer, sheet_name=cLabel, index_label=\"DateTime\" )\n",
    "# adjust columns\n",
    "writer.sheets[cLabel].set_column( 0, 0, 18 )\n",
    "for column in stats12DF:\n",
    "    column_width = max(stats12DF[column].astype(str).map(len).max()+6, len(column)+6)\n",
    "    col_idx = stats12DF.columns.get_loc(column)\n",
    "    writer.sheets[cLabel].set_column(col_idx+1, col_idx+1, column_width, format1)\n",
    "# end for\n",
    "cLabel = \"SPI_3mo\"\n",
    "spi3DF.to_excel( writer, sheet_name=cLabel, index_label=\"DateTime\" )\n",
    "# adjust columns\n",
    "writer.sheets[cLabel].set_column( 0, 0, 18 )\n",
    "for column in spi3DF:\n",
    "    column_width = max(spi3DF[column].astype(str).map(len).max()+6, len(column)+6)\n",
    "    col_idx = spi3DF.columns.get_loc(column)\n",
    "    writer.sheets[cLabel].set_column(col_idx+1, col_idx+1, column_width, format1)\n",
    "# end for\n",
    "cLabel = \"SPI_4mo\"\n",
    "spi4DF.to_excel( writer, sheet_name=cLabel, index_label=\"DateTime\" )\n",
    "# adjust columns\n",
    "writer.sheets[cLabel].set_column( 0, 0, 18 )\n",
    "for column in spi4DF:\n",
    "    column_width = max(spi4DF[column].astype(str).map(len).max()+6, len(column)+6)\n",
    "    col_idx = spi4DF.columns.get_loc(column)\n",
    "    writer.sheets[cLabel].set_column(col_idx+1, col_idx+1, column_width, format1)\n",
    "# end for\n",
    "cLabel = \"SPI_6mo\"\n",
    "spi6DF.to_excel( writer, sheet_name=cLabel, index_label=\"DateTime\" )\n",
    "# adjust columns\n",
    "writer.sheets[cLabel].set_column( 0, 0, 18 )\n",
    "for column in spi6DF:\n",
    "    column_width = max(spi6DF[column].astype(str).map(len).max()+6, len(column)+6)\n",
    "    col_idx = spi6DF.columns.get_loc(column)\n",
    "    writer.sheets[cLabel].set_column(col_idx+1, col_idx+1, column_width, format1)\n",
    "# end for\n",
    "cLabel = \"SPI_12mo\"\n",
    "spi12DF.to_excel( writer, sheet_name=cLabel, index_label=\"DateTime\" )\n",
    "# adjust columns\n",
    "writer.sheets[cLabel].set_column( 0, 0, 18 )\n",
    "for column in spi12DF:\n",
    "    column_width = max(spi12DF[column].astype(str).map(len).max()+6, len(column)+6)\n",
    "    col_idx = spi12DF.columns.get_loc(column)\n",
    "    writer.sheets[cLabel].set_column(col_idx+1, col_idx+1, column_width, format1)\n",
    "# end for\n",
    "writer.close()"
   ]
  },
  {
   "cell_type": "markdown",
   "metadata": {},
   "source": [
    "### SPEI: Log-Logistic"
   ]
  },
  {
   "cell_type": "markdown",
   "metadata": {},
   "source": [
    "[Vicente-Serrano and others (2010)](https://journals.ametsoc.org/view/journals/clim/23/7/2009jcli2909.1.xml) developed the Standardized Precipitation Evapotranspiration Index (SPEI) to provide a climatic drought index that would be sensitive to global warming. The SPEI is congruent with the SPI; the primary difference is that monthly deficit (D) values are used in place of monthly precipitation (P) values. They also found that the log-logistic distribution (3 parameter) performed better than the Pearson Type III (or 3 parameter Gamma) distribution for calculating the SPEI from D values, which tend to be mostly negative in arid and semi-arid environments.\n",
    "\n",
    "Unfortunately, the log-logistic distribution is not currently included in [SciPy stats](https://docs.scipy.org/doc/scipy/tutorial/stats.html) which is the package used for other distributions in this notebook (i.e., [Pearson Type III](https://docs.scipy.org/doc/scipy/reference/generated/scipy.stats.pearson3.html) and [Normal](https://docs.scipy.org/doc/scipy/tutorial/stats/continuous_norm.html) ).\n",
    "\n",
    "In searching for a log-logistic implementation to use for the SPEI calculation, [Hosking and Wallis (1997) Regional Frequency Analysis](https://www.cambridge.org/core/books/regional-frequency-analysis/8C59835F9361705DAAE1ADFDEA7ECD30) provides a 'Generalized Logistic Distribution' in the Appendix with the information needed to estimate probability distribution values. The 'Generalized Logistic Distribution' is a reparameterized version of the log-logistic distribution of [Ahmad and others (1988)](https://www.sciencedirect.com/science/article/abs/pii/0022169488900157).\n",
    "\n",
    "Two custom functions are presented below to calculate the probability distribution values using the 'Generalized Logistic Distribution' which provides a log-logistic distribution when the shape parameter (or $k$) is not equal to zero. After developing and testing these functions against the [lmoment3 package](https://open-hydrology.readthedocs.io/projects/lmoments3/en/stable/), the [Generalized Logistic](https://docs.scipy.org/doc/scipy/reference/generated/scipy.stats.genlogistic.html#scipy.stats.genlogistic) implementation in Scipy stats was discovered.\n",
    "\n",
    "The custom function, L-moments approach is used going forward to calculate SPEI because:\n",
    "\n",
    "1. lmoment3 package is not up to date with current versions of SciPy and will throw errors\n",
    "2. SciPy Stats Genlogistic does not work with negative shape parameters and so cannot use the L-moment estimated distribution parameters. MLE-based parameter estimates seem close and reasonable but it is thought that the custom L-moments approach will be more stable in general."
   ]
  },
  {
   "cell_type": "code",
   "execution_count": 43,
   "metadata": {},
   "outputs": [],
   "source": [
    "def estimatellogparams( npArray ):\n",
    "    \"\"\"Estimate the parameters of a log-logistic distribution from an\n",
    "    array of annual values.\n",
    "    \n",
    "    Estimate is done using L-moments and the \"Generalized logistic distribution\".\n",
    "    This distribtion is a reparameterized version of the log-logistic\n",
    "    distribution of Ahmad et al. (1988). Estimation is done using \n",
    "    the equations and procedure in Appendix A.7 of \"Regional Frequency\n",
    "    Analysis\", Hosking and Wallis (1997)\n",
    "    \n",
    "    To estimate the distribution parameters (shape, scale, and location),\n",
    "    the L-moments l1, l2, and t3 need to be calculated. These three\n",
    "    L-moments can be estimated from the first three, sample weighted\n",
    "    probability moments (b0, b1, and b2).\n",
    "    \n",
    "    Args:\n",
    "        npArray (np.ndarray): Numpy, 1D array\n",
    "    \n",
    "    Returns:\n",
    "        log-logistic parameters in dictionary, D:\n",
    "            D[\"k\"]: k or shape\n",
    "            D[\"scale\"]: alpha or scale\n",
    "            D[\"loc\"]: Eta or location\n",
    "    \"\"\"\n",
    "    # imports\n",
    "    import math\n",
    "    # don't do any checking for type and assume that will always\n",
    "    #  be Numpy ndarray for single argument\n",
    "    totLen = len( npArray )\n",
    "    # need a sorted array in increasing order\n",
    "    srtAr = np.sort( npArray )\n",
    "    # calculate sample probability weighted moments: b0, b1, b2\n",
    "    b0 = srtAr.mean()\n",
    "    b1 = 0.0\n",
    "    for iI in range(2, totLen + 1):\n",
    "        b1 += ( ( iI - 1 ) / ( totLen - 1 ) ) * srtAr[iI-1]\n",
    "    # end for\n",
    "    b1 = b1 / totLen\n",
    "    b2 = 0.0\n",
    "    for iI in range( 3, totLen + 1 ):\n",
    "        b2 += ( ( ( iI - 1 ) * ( iI - 2 ) ) / ( ( totLen - 1 ) * (totLen - 2 ) ) ) * srtAr[iI-1]\n",
    "    # end for\n",
    "    b2 = b2 / totLen\n",
    "    # calculate sample L-moments: l1, l2, t3\n",
    "    l1 = b0\n",
    "    l2 = (2.0 * b1 ) - b0\n",
    "    l3 = ( 6.0 * b2 ) -  ( 6.0 * b1 ) + b0\n",
    "    t3 = l3 / l2\n",
    "    # estimate the distribution parameters\n",
    "    shape = -1.0 * t3\n",
    "    scale = ( l2 * math.sin( shape * math.pi ) ) / ( shape * math.pi )\n",
    "    location = l1 - ( scale * ( ( 1.0 / shape ) - ( math.pi / math.sin( shape * math.pi ) ) ) )\n",
    "    retDict = { \"k\" : shape,\n",
    "                \"scale\" : scale,\n",
    "                \"loc\" : location, }\n",
    "    # return\n",
    "    return retDict"
   ]
  },
  {
   "cell_type": "code",
   "execution_count": 44,
   "metadata": {},
   "outputs": [],
   "source": [
    "def probDistLLogis( paramDict, npArray ):\n",
    "    \"\"\"Uses generalized logistic probability distribution to estimate cumulative\n",
    "    probilities for each value in the Numpy array, npArray.\n",
    "    \n",
    "    Args:\n",
    "        paramDict (dict): dictionary with best-fit parameter values for a \n",
    "                log-logisitic distribution. Must have keys: \"k\", \"scale\",\n",
    "                \"loc\" which are the 3 required parameters\n",
    "        npArray (np.ndarray): array from time series of monthly, rolling\n",
    "                average values\n",
    "    \n",
    "    Returns:\n",
    "        retArray (np.ndarray): cumulative probabilies for each npArray value\n",
    "    \"\"\"\n",
    "    shape = paramDict[\"k\"]\n",
    "    location = paramDict[\"loc\"]\n",
    "    scale = paramDict[\"scale\"]\n",
    "    if shape == 0.0:\n",
    "        # this is the special case of a logistic distribution with 2 params\n",
    "        y = ( npArray - location ) / scale\n",
    "    else:\n",
    "        # this is the general case of the log-logistic distribution\n",
    "        takeLogArray = 1.0 - ( shape * ( npArray - location ) / scale )\n",
    "        useLogArray = np.where( takeLogArray <= 0.0, 1e-7, takeLogArray )\n",
    "        y = ( -1.0 * ( 1.0 / shape ) ) * np.log( useLogArray )\n",
    "    # end if\n",
    "    retArray = 1.0 / ( 1.0 + np.exp( -1.0 * y  ) )\n",
    "    # return\n",
    "    return retArray"
   ]
  },
  {
   "cell_type": "code",
   "execution_count": 45,
   "metadata": {},
   "outputs": [],
   "source": [
    "procCols = list( DefMonDF.columns )"
   ]
  },
  {
   "cell_type": "code",
   "execution_count": 46,
   "metadata": {},
   "outputs": [],
   "source": [
    "procCols.remove( \"Month\" )"
   ]
  },
  {
   "cell_type": "code",
   "execution_count": 47,
   "metadata": {},
   "outputs": [
    {
     "data": {
      "text/plain": [
       "['Def_mm']"
      ]
     },
     "execution_count": 47,
     "metadata": {},
     "output_type": "execute_result"
    }
   ],
   "source": [
    "procCols"
   ]
  },
  {
   "cell_type": "code",
   "execution_count": 48,
   "metadata": {},
   "outputs": [
    {
     "name": "stdout",
     "output_type": "stream",
     "text": [
      "Working on Def_mm\n"
     ]
    }
   ],
   "source": [
    "# outer loop by DataFrame columns\n",
    "hCnt = 0\n",
    "for tHdr in procCols:\n",
    "    print(\"Working on %s\" % tHdr)\n",
    "    # get the full arrays\n",
    "    extCols = [ tHdr, \"Month\"]\n",
    "    c3DF = D3DF[extCols].copy()\n",
    "    c4DF = D4DF[extCols].copy()\n",
    "    c6DF = D6DF[extCols].copy()\n",
    "    c12DF = D12DF[extCols].copy()\n",
    "    extC3DF = extD3DF[extCols].copy()\n",
    "    extC4DF = extD4DF[extCols].copy()\n",
    "    extC6DF = extD6DF[extCols].copy()\n",
    "    extC12DF = extD12DF[extCols].copy()\n",
    "    # create empty tracking dictionaries\n",
    "    M3MonDict = dict()\n",
    "    M4MonDict = dict()\n",
    "    M6MonDict = dict()\n",
    "    M12MonDict = dict()\n",
    "    # loop through by integer month\n",
    "    for mI in range(1, 13, 1):\n",
    "        # get our basic arrays of values - these are calendar ordered\n",
    "        m3Mon = c3DF[c3DF[\"Month\"] == mI].copy()\n",
    "        a3Mon = m3Mon[tHdr].to_numpy()\n",
    "        extM3Mon = extC3DF[extC3DF[\"Month\"] == mI].copy()\n",
    "        extA3Mon = extM3Mon[tHdr].to_numpy()\n",
    "        m4Mon = c4DF[c4DF[\"Month\"] == mI].copy()\n",
    "        a4Mon = m4Mon[tHdr].to_numpy()\n",
    "        extM4Mon = extC4DF[extC4DF[\"Month\"] == mI].copy()\n",
    "        extA4Mon = extM4Mon[tHdr].to_numpy()\n",
    "        m6Mon = c6DF[c6DF[\"Month\"] == mI].copy()\n",
    "        a6Mon = m6Mon[tHdr].to_numpy()\n",
    "        extM6Mon = extC6DF[extC6DF[\"Month\"] == mI].copy()\n",
    "        extA6Mon = extM6Mon[tHdr].to_numpy()\n",
    "        m12Mon = c12DF[c12DF[\"Month\"] == mI].copy()\n",
    "        a12Mon = m12Mon[tHdr].to_numpy()\n",
    "        extM12Mon = extC12DF[extC12DF[\"Month\"] == mI].copy()\n",
    "        extA12Mon = extM12Mon[tHdr].to_numpy()\n",
    "        # fit 'generalized logistic' distributions to these arrays\n",
    "        lD3Mon = estimatellogparams( a3Mon )\n",
    "        lD4Mon = estimatellogparams( a4Mon )\n",
    "        lD6Mon = estimatellogparams( a6Mon )\n",
    "        lD12Mon = estimatellogparams( a12Mon )\n",
    "        # now get the cumulative probability values from the distributions\n",
    "        #   for the observed values.\n",
    "        data3MCDF = probDistLLogis( lD3Mon, extA3Mon )\n",
    "        data4MCDF = probDistLLogis( lD4Mon, extA4Mon )\n",
    "        data6MCDF = probDistLLogis( lD6Mon, extA6Mon )\n",
    "        data12MCDF = probDistLLogis( lD12Mon, extA12Mon )\n",
    "        # make sure the cumulative density is not less than 1.0 / (2* N years).\n",
    "        data3MCDF = np.where( data3MCDF < (1.0/60.0), (1.0/60.0), data3MCDF )\n",
    "        data4MCDF = np.where( data4MCDF < (1.0/60.0), (1.0/60.0), data4MCDF )\n",
    "        data6MCDF = np.where( data6MCDF < (1.0/60.0), (1.0/60.0), data6MCDF )\n",
    "        data12MCDF = np.where( data12MCDF < (1.0/60.0), (1.0/60.0), data12MCDF )\n",
    "        SPEI3Mo = sstats.norm.ppf( data3MCDF, loc=ZMu, scale=ZStd )\n",
    "        SPEI4Mo = sstats.norm.ppf( data4MCDF, loc=ZMu, scale=ZStd )\n",
    "        SPEI6Mo = sstats.norm.ppf( data6MCDF, loc=ZMu, scale=ZStd )\n",
    "        SPEI12Mo = sstats.norm.ppf( data12MCDF, loc=ZMu, scale=ZStd )\n",
    "        # dictionary entries for this month\n",
    "        M3MonDict[mI] = [ [data3MCDF, SPEI3Mo, extA3Mon], lD3Mon ]\n",
    "        M4MonDict[mI] = [ [data4MCDF, SPEI4Mo, extA4Mon], lD4Mon ]\n",
    "        M6MonDict[mI] = [ [data6MCDF, SPEI6Mo, extA6Mon], lD6Mon ]\n",
    "        M12MonDict[mI] = [ [data12MCDF, SPEI12Mo, extA12Mon], lD12Mon ]\n",
    "    # end for\n",
    "    # rebuild time series representation from calendar month lists\n",
    "    spei3mList = list()\n",
    "    spei4mList = list()\n",
    "    spei6mList = list()\n",
    "    spei12mList = list()\n",
    "    cprob3mList = list()\n",
    "    cprob4mList = list()\n",
    "    cprob6mList = list()\n",
    "    cprob12mList = list()\n",
    "    cumD3mList = list()\n",
    "    cumD4mList = list()\n",
    "    cumD6mList = list()\n",
    "    cumD12mList = list()\n",
    "    # loop through years and fill by month order\n",
    "    for yI in range(TotEstYears):\n",
    "        for mI in range(1, 13, 1):\n",
    "            m3ArraySP = M3MonDict[mI][0][1]\n",
    "            m4ArraySP = M4MonDict[mI][0][1]\n",
    "            m6ArraySP = M6MonDict[mI][0][1]\n",
    "            m12ArraySP = M12MonDict[mI][0][1]\n",
    "            m3ArrayCP = M3MonDict[mI][0][0]\n",
    "            m4ArrayCP = M4MonDict[mI][0][0]\n",
    "            m6ArrayCP = M6MonDict[mI][0][0]\n",
    "            m12ArrayCP = M12MonDict[mI][0][0]\n",
    "            m3ArrayCD = M3MonDict[mI][0][2]\n",
    "            m4ArrayCD = M4MonDict[mI][0][2]\n",
    "            m6ArrayCD = M6MonDict[mI][0][2]\n",
    "            m12ArrayCD = M12MonDict[mI][0][2]\n",
    "            if yI < len( m3ArrayCP ):\n",
    "                spei3mList.append( m3ArraySP[yI] )\n",
    "                cprob3mList.append( m3ArrayCP[yI] )\n",
    "                cumD3mList.append( m3ArrayCD[yI] )\n",
    "            if yI < len( m4ArrayCP ):\n",
    "                spei4mList.append( m4ArraySP[yI] )\n",
    "                cprob4mList.append( m4ArrayCP[yI] )\n",
    "                cumD4mList.append( m4ArrayCD[yI] )\n",
    "            if yI < len( m6ArrayCP ):\n",
    "                spei6mList.append( m6ArraySP[yI] )\n",
    "                cprob6mList.append( m6ArrayCP[yI] )\n",
    "                cumD6mList.append( m6ArrayCD[yI] )\n",
    "            if yI < len( m12ArrayCP ):\n",
    "                spei12mList.append( m12ArraySP[yI] )\n",
    "                cprob12mList.append( m12ArrayCP[yI] )\n",
    "                cumD12mList.append( m12ArrayCD[yI] )\n",
    "        # end inner for\n",
    "    # end outer for\n",
    "    # now build the time indexed DataFrame\n",
    "    DataDict = { \"CumDef\" : np.array( cumD3mList, dtype=np.float32 ),\n",
    "                 \"CumProb\" : np.array( cprob3mList, dtype=np.float32 ), \n",
    "                 \"SPEI\" : np.array( spei3mList, dtype=np.float32 ),  }\n",
    "    cSPEI_3 = pd.DataFrame( index=extC3DF.index, data=DataDict )\n",
    "    cSPEI_3[\"5xCumProb\"] = 5.0*cSPEI_3[\"CumProb\"]\n",
    "    DataDict = { \"CumDef\" : np.array( cumD4mList, dtype=np.float32 ),\n",
    "                 \"CumProb\" : np.array( cprob4mList, dtype=np.float32 ), \n",
    "                 \"SPEI\" : np.array( spei4mList, dtype=np.float32 ),  }\n",
    "    cSPEI_4 = pd.DataFrame( index=extC4DF.index, data=DataDict )\n",
    "    cSPEI_4[\"5xCumProb\"] = 5.0*cSPEI_4[\"CumProb\"]\n",
    "    DataDict = { \"CumDef\" : np.array( cumD6mList, dtype=np.float32 ),\n",
    "                 \"CumProb\" : np.array( cprob3mList, dtype=np.float32 ), \n",
    "                 \"SPEI\" : np.array( spei3mList, dtype=np.float32 ),  }\n",
    "    cSPEI_6 = pd.DataFrame( index=extC6DF.index, data=DataDict )\n",
    "    cSPEI_6[\"5xCumProb\"] = 5.0*cSPEI_6[\"CumProb\"]\n",
    "    DataDict = { \"CumDef\" : np.array( cumD12mList, dtype=np.float32 ),\n",
    "                 \"CumProb\" : np.array( cprob3mList, dtype=np.float32 ), \n",
    "                 \"SPEI\" : np.array( spei3mList, dtype=np.float32 ),  }\n",
    "    cSPEI_12 = pd.DataFrame( index=extC12DF.index, data=DataDict )\n",
    "    cSPEI_12[\"5xCumProb\"] = 5.0*cSPEI_12[\"CumProb\"]\n",
    "    if hCnt == 0:\n",
    "        spei3DF = cSPEI_3.copy()\n",
    "        spei4DF = cSPEI_4.copy()\n",
    "        spei6DF = cSPEI_6.copy()\n",
    "        spei12DF = cSPEI_12.copy()\n",
    "    else:\n",
    "        spei3DF = spei3DF.merge( cSPEI_3, how='inner', left_index=True, right_index=True )\n",
    "        spei4DF = spei4DF.merge( cSPEI_4, how='inner', left_index=True, right_index=True )\n",
    "        spei6DF = spei6DF.merge( cSPEI_6, how='inner', left_index=True, right_index=True )\n",
    "        spei12DF = spei12DF.merge( cSPEI_12, how='inner', left_index=True, right_index=True )\n",
    "    # end if\n",
    "    # now do the stats\n",
    "    stats3List = list()\n",
    "    stats4List = list()\n",
    "    stats6List = list()\n",
    "    stats12List = list()\n",
    "    indNList = list()\n",
    "    for mI in range(1, 13, 1):\n",
    "        lD3Mon = M3MonDict[mI][1]\n",
    "        lD4Mon = M4MonDict[mI][1]\n",
    "        lD6Mon = M6MonDict[mI][1]\n",
    "        lD12Mon = M12MonDict[mI][1]\n",
    "        indNList.append( \"shape_%d\" % mI )\n",
    "        indNList.append( \"scale_%d\" % mI )\n",
    "        indNList.append( \"loc_%d\" % mI )\n",
    "        stats3List.append( lD3Mon[\"k\"] )\n",
    "        stats3List.append( lD3Mon[\"scale\"] )\n",
    "        stats3List.append( lD3Mon[\"loc\"] )\n",
    "        stats4List.append( lD4Mon[\"k\"] )\n",
    "        stats4List.append( lD4Mon[\"scale\"] )\n",
    "        stats4List.append( lD4Mon[\"loc\"] )\n",
    "        stats6List.append( lD6Mon[\"k\"] )\n",
    "        stats6List.append( lD6Mon[\"scale\"] )\n",
    "        stats6List.append( lD6Mon[\"loc\"] )\n",
    "        stats12List.append( lD12Mon[\"k\"] )\n",
    "        stats12List.append( lD12Mon[\"scale\"] )\n",
    "        stats12List.append( lD12Mon[\"loc\"] )\n",
    "    # end for\n",
    "    # build our DataFrames\n",
    "    c3StatsDF = pd.DataFrame( index=indNList, data={\"SPEI Fit Stats\": stats3List,} )\n",
    "    c4StatsDF = pd.DataFrame( index=indNList, data={\"SPEI Fit Stats\": stats4List,} )\n",
    "    c6StatsDF = pd.DataFrame( index=indNList, data={\"SPEI Fit Stats\": stats6List,} )\n",
    "    c12StatsDF = pd.DataFrame( index=indNList, data={\"SPEI Fit Stats\": stats12List,} )\n",
    "    if hCnt == 0:\n",
    "        stats3DDF = c3StatsDF.copy()\n",
    "        stats4DDF = c4StatsDF.copy()\n",
    "        stats6DDF = c6StatsDF.copy()\n",
    "        stats12DDF = c12StatsDF.copy()\n",
    "    else:\n",
    "        stats3DDF = stats3DDF.merge( c3StatsDF, how='inner', left_index=True, right_index=True )\n",
    "        stats4DDF = stats4DDF.merge( c4StatsDF, how='inner', left_index=True, right_index=True )\n",
    "        stats6DDF = stats6DDF.merge( c6StatsDF, how='inner', left_index=True, right_index=True )\n",
    "        stats12DDF = stats12DDF.merge( c12StatsDF, how='inner', left_index=True, right_index=True )\n",
    "    # end if\n",
    "    # increment the hCnt\n",
    "    hCnt += 1\n",
    "# end header for"
   ]
  },
  {
   "cell_type": "code",
   "execution_count": 49,
   "metadata": {},
   "outputs": [
    {
     "data": {
      "text/html": [
       "<table border=\"1\" class=\"dataframe\">\n",
       "  <thead>\n",
       "    <tr style=\"text-align: right;\">\n",
       "      <th></th>\n",
       "      <th>CumDef</th>\n",
       "      <th>CumProb</th>\n",
       "      <th>SPEI</th>\n",
       "      <th>5xCumProb</th>\n",
       "    </tr>\n",
       "  </thead>\n",
       "  <tbody>\n",
       "    <tr>\n",
       "      <th>1981-01-01</th>\n",
       "      <td>-177.220428</td>\n",
       "      <td>0.385981</td>\n",
       "      <td>-0.289810</td>\n",
       "      <td>1.929903</td>\n",
       "    </tr>\n",
       "    <tr>\n",
       "      <th>1981-02-01</th>\n",
       "      <td>-118.411407</td>\n",
       "      <td>0.636670</td>\n",
       "      <td>0.349573</td>\n",
       "      <td>3.183351</td>\n",
       "    </tr>\n",
       "    <tr>\n",
       "      <th>1981-03-01</th>\n",
       "      <td>-139.397461</td>\n",
       "      <td>0.705396</td>\n",
       "      <td>0.539983</td>\n",
       "      <td>3.526978</td>\n",
       "    </tr>\n",
       "    <tr>\n",
       "      <th>1981-04-01</th>\n",
       "      <td>-90.914421</td>\n",
       "      <td>0.909625</td>\n",
       "      <td>1.338452</td>\n",
       "      <td>4.548127</td>\n",
       "    </tr>\n",
       "    <tr>\n",
       "      <th>1981-05-01</th>\n",
       "      <td>-144.663269</td>\n",
       "      <td>0.881604</td>\n",
       "      <td>1.183041</td>\n",
       "      <td>4.408018</td>\n",
       "    </tr>\n",
       "  </tbody>\n",
       "</table>"
      ],
      "text/plain": [
       "<IPython.core.display.HTML object>"
      ]
     },
     "metadata": {},
     "output_type": "display_data"
    }
   ],
   "source": [
    "display( HTML( spei4DF.head().to_html() ) )"
   ]
  },
  {
   "cell_type": "code",
   "execution_count": 50,
   "metadata": {},
   "outputs": [
    {
     "data": {
      "text/html": [
       "<table border=\"1\" class=\"dataframe\">\n",
       "  <thead>\n",
       "    <tr style=\"text-align: right;\">\n",
       "      <th></th>\n",
       "      <th>SPEI Fit Stats</th>\n",
       "    </tr>\n",
       "  </thead>\n",
       "  <tbody>\n",
       "    <tr>\n",
       "      <th>shape_1</th>\n",
       "      <td>-0.158830</td>\n",
       "    </tr>\n",
       "    <tr>\n",
       "      <th>scale_1</th>\n",
       "      <td>130.542182</td>\n",
       "    </tr>\n",
       "    <tr>\n",
       "      <th>loc_1</th>\n",
       "      <td>-914.473605</td>\n",
       "    </tr>\n",
       "    <tr>\n",
       "      <th>shape_2</th>\n",
       "      <td>-0.154397</td>\n",
       "    </tr>\n",
       "    <tr>\n",
       "      <th>scale_2</th>\n",
       "      <td>132.229684</td>\n",
       "    </tr>\n",
       "  </tbody>\n",
       "</table>"
      ],
      "text/plain": [
       "<IPython.core.display.HTML object>"
      ]
     },
     "metadata": {},
     "output_type": "display_data"
    }
   ],
   "source": [
    "display( HTML( stats12DDF.head().to_html() ) )"
   ]
  },
  {
   "cell_type": "markdown",
   "metadata": {},
   "source": [
    "Output to a spreadsheet for later analysis"
   ]
  },
  {
   "cell_type": "code",
   "execution_count": 51,
   "metadata": {},
   "outputs": [],
   "source": [
    "outXLSX = os.path.normpath( os.path.join( OUT_DIR, BasKey, \"%s_SPEI.xlsx\" % BasKey ) )\n",
    "writer = pd.ExcelWriter( outXLSX )\n",
    "workbook  = writer.book\n",
    "format1 = workbook.add_format({'num_format': '#,##0.00000'})\n",
    "cLabel = \"Monthly_CN\"\n",
    "DefMonDF.to_excel( writer, sheet_name=cLabel, index_label=\"DateTime\" )\n",
    "# adjust columns\n",
    "writer.sheets[cLabel].set_column( 0, 0, 18 )\n",
    "for column in DefMonDF:\n",
    "    column_width = max(DefMonDF[column].astype(str).map(len).max()+6, len(column)+6)\n",
    "    col_idx = DefMonDF.columns.get_loc(column)\n",
    "    writer.sheets[cLabel].set_column(col_idx+1, col_idx+1, column_width, format1)\n",
    "# end for\n",
    "cLabel = \"Monthly_Ext\"\n",
    "ExtDefMonDF.to_excel( writer, sheet_name=cLabel, index_label=\"DateTime\" )\n",
    "# adjust columns\n",
    "writer.sheets[cLabel].set_column( 0, 0, 18 )\n",
    "for column in ExtDefMonDF:\n",
    "    column_width = max(ExtDefMonDF[column].astype(str).map(len).max()+6, len(column)+6)\n",
    "    col_idx = ExtDefMonDF.columns.get_loc(column)\n",
    "    writer.sheets[cLabel].set_column(col_idx+1, col_idx+1, column_width, format1)\n",
    "# end for\n",
    "cLabel = \"Stats_3mo\"\n",
    "stats3DDF.to_excel( writer, sheet_name=cLabel, index_label=\"DateTime\" )\n",
    "# adjust columns\n",
    "writer.sheets[cLabel].set_column( 0, 0, 18 )\n",
    "for column in stats3DDF:\n",
    "    column_width = max(stats3DDF[column].astype(str).map(len).max()+6, len(column)+6)\n",
    "    col_idx = stats3DDF.columns.get_loc(column)\n",
    "    writer.sheets[cLabel].set_column(col_idx+1, col_idx+1, column_width, format1)\n",
    "# end for\n",
    "cLabel = \"Stats_4mo\"\n",
    "stats4DDF.to_excel( writer, sheet_name=cLabel, index_label=\"DateTime\" )\n",
    "# adjust columns\n",
    "writer.sheets[cLabel].set_column( 0, 0, 18 )\n",
    "for column in stats4DDF:\n",
    "    column_width = max(stats4DDF[column].astype(str).map(len).max()+6, len(column)+6)\n",
    "    col_idx = stats4DDF.columns.get_loc(column)\n",
    "    writer.sheets[cLabel].set_column(col_idx+1, col_idx+1, column_width, format1)\n",
    "# end for\n",
    "cLabel = \"Stats_6mo\"\n",
    "stats6DDF.to_excel( writer, sheet_name=cLabel, index_label=\"DateTime\" )\n",
    "# adjust columns\n",
    "writer.sheets[cLabel].set_column( 0, 0, 18 )\n",
    "for column in stats6DDF:\n",
    "    column_width = max(stats6DDF[column].astype(str).map(len).max()+6, len(column)+6)\n",
    "    col_idx = stats6DDF.columns.get_loc(column)\n",
    "    writer.sheets[cLabel].set_column(col_idx+1, col_idx+1, column_width, format1)\n",
    "# end for\n",
    "cLabel = \"Stats_12mo\"\n",
    "stats12DDF.to_excel( writer, sheet_name=cLabel, index_label=\"DateTime\" )\n",
    "# adjust columns\n",
    "writer.sheets[cLabel].set_column( 0, 0, 18 )\n",
    "for column in stats12DDF:\n",
    "    column_width = max(stats12DDF[column].astype(str).map(len).max()+6, len(column)+6)\n",
    "    col_idx = stats12DDF.columns.get_loc(column)\n",
    "    writer.sheets[cLabel].set_column(col_idx+1, col_idx+1, column_width, format1)\n",
    "# end for\n",
    "cLabel = \"SPEI_3mo\"\n",
    "spei3DF.to_excel( writer, sheet_name=cLabel, index_label=\"DateTime\" )\n",
    "# adjust columns\n",
    "writer.sheets[cLabel].set_column( 0, 0, 18 )\n",
    "for column in spei3DF:\n",
    "    column_width = max(spei3DF[column].astype(str).map(len).max()+6, len(column)+6)\n",
    "    col_idx = spei3DF.columns.get_loc(column)\n",
    "    writer.sheets[cLabel].set_column(col_idx+1, col_idx+1, column_width, format1)\n",
    "# end for\n",
    "cLabel = \"SPEI_4mo\"\n",
    "spei4DF.to_excel( writer, sheet_name=cLabel, index_label=\"DateTime\" )\n",
    "# adjust columns\n",
    "writer.sheets[cLabel].set_column( 0, 0, 18 )\n",
    "for column in spei4DF:\n",
    "    column_width = max(spei4DF[column].astype(str).map(len).max()+6, len(column)+6)\n",
    "    col_idx = spei4DF.columns.get_loc(column)\n",
    "    writer.sheets[cLabel].set_column(col_idx+1, col_idx+1, column_width, format1)\n",
    "# end for\n",
    "cLabel = \"SPEI_6mo\"\n",
    "spei6DF.to_excel( writer, sheet_name=cLabel, index_label=\"DateTime\" )\n",
    "# adjust columns\n",
    "writer.sheets[cLabel].set_column( 0, 0, 18 )\n",
    "for column in spei6DF:\n",
    "    column_width = max(spei6DF[column].astype(str).map(len).max()+6, len(column)+6)\n",
    "    col_idx = spei6DF.columns.get_loc(column)\n",
    "    writer.sheets[cLabel].set_column(col_idx+1, col_idx+1, column_width, format1)\n",
    "# end for\n",
    "cLabel = \"SPEI_12mo\"\n",
    "spei12DF.to_excel( writer, sheet_name=cLabel, index_label=\"DateTime\" )\n",
    "# adjust columns\n",
    "writer.sheets[cLabel].set_column( 0, 0, 18 )\n",
    "for column in spei12DF:\n",
    "    column_width = max(spei12DF[column].astype(str).map(len).max()+6, len(column)+6)\n",
    "    col_idx = spei12DF.columns.get_loc(column)\n",
    "    writer.sheets[cLabel].set_column(col_idx+1, col_idx+1, column_width, format1)\n",
    "# end for\n",
    "writer.close()"
   ]
  },
  {
   "cell_type": "markdown",
   "metadata": {},
   "source": [
    "## Plots"
   ]
  },
  {
   "cell_type": "markdown",
   "metadata": {},
   "source": [
    "Want to do two different types of plots for graphically understanding what is going on\n",
    "\n",
    "1. Heatmap of SPI by aggregation interval\n",
    "2. Combined SPI columns with monthly discharge time series"
   ]
  },
  {
   "cell_type": "markdown",
   "metadata": {},
   "source": [
    "### Heatmaps"
   ]
  },
  {
   "cell_type": "code",
   "execution_count": 52,
   "metadata": {},
   "outputs": [
    {
     "data": {
      "text/html": [
       "<table border=\"1\" class=\"dataframe\">\n",
       "  <thead>\n",
       "    <tr style=\"text-align: right;\">\n",
       "      <th></th>\n",
       "      <th>CumPre</th>\n",
       "      <th>CumProb</th>\n",
       "      <th>SPI</th>\n",
       "      <th>5xCumProb</th>\n",
       "    </tr>\n",
       "  </thead>\n",
       "  <tbody>\n",
       "    <tr>\n",
       "      <th>count</th>\n",
       "      <td>504.000000</td>\n",
       "      <td>504.000000</td>\n",
       "      <td>504.000000</td>\n",
       "      <td>504.000000</td>\n",
       "    </tr>\n",
       "    <tr>\n",
       "      <th>mean</th>\n",
       "      <td>166.021835</td>\n",
       "      <td>0.514627</td>\n",
       "      <td>0.028592</td>\n",
       "      <td>2.573133</td>\n",
       "    </tr>\n",
       "    <tr>\n",
       "      <th>std</th>\n",
       "      <td>108.794632</td>\n",
       "      <td>0.284319</td>\n",
       "      <td>0.980839</td>\n",
       "      <td>1.421596</td>\n",
       "    </tr>\n",
       "    <tr>\n",
       "      <th>min</th>\n",
       "      <td>2.093899</td>\n",
       "      <td>0.016667</td>\n",
       "      <td>-2.128045</td>\n",
       "      <td>0.083333</td>\n",
       "    </tr>\n",
       "    <tr>\n",
       "      <th>25%</th>\n",
       "      <td>84.694113</td>\n",
       "      <td>0.289944</td>\n",
       "      <td>-0.553554</td>\n",
       "      <td>1.449722</td>\n",
       "    </tr>\n",
       "    <tr>\n",
       "      <th>50%</th>\n",
       "      <td>150.099411</td>\n",
       "      <td>0.526913</td>\n",
       "      <td>0.067511</td>\n",
       "      <td>2.634563</td>\n",
       "    </tr>\n",
       "    <tr>\n",
       "      <th>75%</th>\n",
       "      <td>221.752682</td>\n",
       "      <td>0.745111</td>\n",
       "      <td>0.659182</td>\n",
       "      <td>3.725553</td>\n",
       "    </tr>\n",
       "    <tr>\n",
       "      <th>max</th>\n",
       "      <td>709.334473</td>\n",
       "      <td>0.999083</td>\n",
       "      <td>3.116029</td>\n",
       "      <td>4.995417</td>\n",
       "    </tr>\n",
       "  </tbody>\n",
       "</table>"
      ],
      "text/plain": [
       "<IPython.core.display.HTML object>"
      ]
     },
     "metadata": {},
     "output_type": "display_data"
    }
   ],
   "source": [
    "display( HTML( spi3DF.describe().to_html() ) )"
   ]
  },
  {
   "cell_type": "code",
   "execution_count": 53,
   "metadata": {},
   "outputs": [
    {
     "data": {
      "text/html": [
       "<table border=\"1\" class=\"dataframe\">\n",
       "  <thead>\n",
       "    <tr style=\"text-align: right;\">\n",
       "      <th></th>\n",
       "      <th>CumPre</th>\n",
       "      <th>CumProb</th>\n",
       "      <th>SPI</th>\n",
       "      <th>5xCumProb</th>\n",
       "    </tr>\n",
       "  </thead>\n",
       "  <tbody>\n",
       "    <tr>\n",
       "      <th>count</th>\n",
       "      <td>504.000000</td>\n",
       "      <td>504.000000</td>\n",
       "      <td>504.000000</td>\n",
       "      <td>504.000000</td>\n",
       "    </tr>\n",
       "    <tr>\n",
       "      <th>mean</th>\n",
       "      <td>221.301178</td>\n",
       "      <td>0.503228</td>\n",
       "      <td>0.001290</td>\n",
       "      <td>2.516139</td>\n",
       "    </tr>\n",
       "    <tr>\n",
       "      <th>std</th>\n",
       "      <td>128.698639</td>\n",
       "      <td>0.285185</td>\n",
       "      <td>0.985803</td>\n",
       "      <td>1.425924</td>\n",
       "    </tr>\n",
       "    <tr>\n",
       "      <th>min</th>\n",
       "      <td>17.563904</td>\n",
       "      <td>0.016667</td>\n",
       "      <td>-2.128045</td>\n",
       "      <td>0.083333</td>\n",
       "    </tr>\n",
       "    <tr>\n",
       "      <th>25%</th>\n",
       "      <td>128.789688</td>\n",
       "      <td>0.273049</td>\n",
       "      <td>-0.603622</td>\n",
       "      <td>1.365247</td>\n",
       "    </tr>\n",
       "    <tr>\n",
       "      <th>50%</th>\n",
       "      <td>199.933357</td>\n",
       "      <td>0.493019</td>\n",
       "      <td>-0.017500</td>\n",
       "      <td>2.465095</td>\n",
       "    </tr>\n",
       "    <tr>\n",
       "      <th>75%</th>\n",
       "      <td>286.814369</td>\n",
       "      <td>0.743178</td>\n",
       "      <td>0.653175</td>\n",
       "      <td>3.715890</td>\n",
       "    </tr>\n",
       "    <tr>\n",
       "      <th>max</th>\n",
       "      <td>786.691467</td>\n",
       "      <td>0.998087</td>\n",
       "      <td>2.892109</td>\n",
       "      <td>4.990434</td>\n",
       "    </tr>\n",
       "  </tbody>\n",
       "</table>"
      ],
      "text/plain": [
       "<IPython.core.display.HTML object>"
      ]
     },
     "metadata": {},
     "output_type": "display_data"
    }
   ],
   "source": [
    "display( HTML( spi4DF.describe().to_html() ) )"
   ]
  },
  {
   "cell_type": "code",
   "execution_count": 54,
   "metadata": {},
   "outputs": [
    {
     "data": {
      "text/html": [
       "<table border=\"1\" class=\"dataframe\">\n",
       "  <thead>\n",
       "    <tr style=\"text-align: right;\">\n",
       "      <th></th>\n",
       "      <th>CumPre</th>\n",
       "      <th>CumProb</th>\n",
       "      <th>SPI</th>\n",
       "      <th>5xCumProb</th>\n",
       "    </tr>\n",
       "  </thead>\n",
       "  <tbody>\n",
       "    <tr>\n",
       "      <th>count</th>\n",
       "      <td>504.000000</td>\n",
       "      <td>504.000000</td>\n",
       "      <td>504.000000</td>\n",
       "      <td>504.000000</td>\n",
       "    </tr>\n",
       "    <tr>\n",
       "      <th>mean</th>\n",
       "      <td>332.076752</td>\n",
       "      <td>0.514627</td>\n",
       "      <td>0.012285</td>\n",
       "      <td>2.573133</td>\n",
       "    </tr>\n",
       "    <tr>\n",
       "      <th>std</th>\n",
       "      <td>158.879868</td>\n",
       "      <td>0.284319</td>\n",
       "      <td>0.994959</td>\n",
       "      <td>1.421596</td>\n",
       "    </tr>\n",
       "    <tr>\n",
       "      <th>min</th>\n",
       "      <td>47.995773</td>\n",
       "      <td>0.016667</td>\n",
       "      <td>-2.128045</td>\n",
       "      <td>0.083333</td>\n",
       "    </tr>\n",
       "    <tr>\n",
       "      <th>25%</th>\n",
       "      <td>223.178226</td>\n",
       "      <td>0.289944</td>\n",
       "      <td>-0.583313</td>\n",
       "      <td>1.449722</td>\n",
       "    </tr>\n",
       "    <tr>\n",
       "      <th>50%</th>\n",
       "      <td>308.830948</td>\n",
       "      <td>0.526913</td>\n",
       "      <td>0.044244</td>\n",
       "      <td>2.634563</td>\n",
       "    </tr>\n",
       "    <tr>\n",
       "      <th>75%</th>\n",
       "      <td>413.503540</td>\n",
       "      <td>0.745111</td>\n",
       "      <td>0.738067</td>\n",
       "      <td>3.725553</td>\n",
       "    </tr>\n",
       "    <tr>\n",
       "      <th>max</th>\n",
       "      <td>959.878418</td>\n",
       "      <td>0.999083</td>\n",
       "      <td>2.808708</td>\n",
       "      <td>4.995417</td>\n",
       "    </tr>\n",
       "  </tbody>\n",
       "</table>"
      ],
      "text/plain": [
       "<IPython.core.display.HTML object>"
      ]
     },
     "metadata": {},
     "output_type": "display_data"
    }
   ],
   "source": [
    "display( HTML( spi6DF.describe().to_html() ) )"
   ]
  },
  {
   "cell_type": "code",
   "execution_count": 55,
   "metadata": {},
   "outputs": [
    {
     "data": {
      "text/html": [
       "<table border=\"1\" class=\"dataframe\">\n",
       "  <thead>\n",
       "    <tr style=\"text-align: right;\">\n",
       "      <th></th>\n",
       "      <th>CumPre</th>\n",
       "      <th>CumProb</th>\n",
       "      <th>SPI</th>\n",
       "      <th>5xCumProb</th>\n",
       "    </tr>\n",
       "  </thead>\n",
       "  <tbody>\n",
       "    <tr>\n",
       "      <th>count</th>\n",
       "      <td>504.000000</td>\n",
       "      <td>504.000000</td>\n",
       "      <td>504.000000</td>\n",
       "      <td>504.000000</td>\n",
       "    </tr>\n",
       "    <tr>\n",
       "      <th>mean</th>\n",
       "      <td>664.515259</td>\n",
       "      <td>0.514627</td>\n",
       "      <td>0.019592</td>\n",
       "      <td>2.573133</td>\n",
       "    </tr>\n",
       "    <tr>\n",
       "      <th>std</th>\n",
       "      <td>208.785858</td>\n",
       "      <td>0.284319</td>\n",
       "      <td>0.990872</td>\n",
       "      <td>1.421596</td>\n",
       "    </tr>\n",
       "    <tr>\n",
       "      <th>min</th>\n",
       "      <td>211.808640</td>\n",
       "      <td>0.016667</td>\n",
       "      <td>-2.128045</td>\n",
       "      <td>0.083333</td>\n",
       "    </tr>\n",
       "    <tr>\n",
       "      <th>25%</th>\n",
       "      <td>511.436806</td>\n",
       "      <td>0.289944</td>\n",
       "      <td>-0.593194</td>\n",
       "      <td>1.449722</td>\n",
       "    </tr>\n",
       "    <tr>\n",
       "      <th>50%</th>\n",
       "      <td>627.127869</td>\n",
       "      <td>0.526913</td>\n",
       "      <td>0.043353</td>\n",
       "      <td>2.634563</td>\n",
       "    </tr>\n",
       "    <tr>\n",
       "      <th>75%</th>\n",
       "      <td>818.286194</td>\n",
       "      <td>0.745111</td>\n",
       "      <td>0.777608</td>\n",
       "      <td>3.725553</td>\n",
       "    </tr>\n",
       "    <tr>\n",
       "      <th>max</th>\n",
       "      <td>1247.660278</td>\n",
       "      <td>0.999083</td>\n",
       "      <td>1.973468</td>\n",
       "      <td>4.995417</td>\n",
       "    </tr>\n",
       "  </tbody>\n",
       "</table>"
      ],
      "text/plain": [
       "<IPython.core.display.HTML object>"
      ]
     },
     "metadata": {},
     "output_type": "display_data"
    }
   ],
   "source": [
    "display( HTML( spi12DF.describe().to_html() ) )"
   ]
  },
  {
   "cell_type": "code",
   "execution_count": 56,
   "metadata": {},
   "outputs": [],
   "source": [
    "pMax = 3.0\n",
    "pMin = -3.0"
   ]
  },
  {
   "cell_type": "code",
   "execution_count": 57,
   "metadata": {},
   "outputs": [
    {
     "data": {
      "text/plain": [
       "(13, 13)"
      ]
     },
     "execution_count": 57,
     "metadata": {},
     "output_type": "execute_result"
    }
   ],
   "source": [
    "cColors = [ \"darkred\", \"firebrick\", \"indianred\", \"lightcoral\", \"lightsalmon\", \"antiquewhite\",\n",
    "            \"antiquewhite\", \"antiquewhite\", \"lightblue\", \"cadetblue\", \"royalblue\", \"mediumblue\", \"midnightblue\" ]\n",
    "# -3.0, -2.5, -2.0, -1.5, -1.0, -0.5, 0.0, 0.5, 1.0, 1.5, 2.0, 2.5, 3.0\n",
    "cNodes = [0.0, 0.0833, 0.1666, 0.25, 0.3333, 0.4166, 0.50, 0.5833, 0.666, 0.75, 0.8333, 0.9166, 1.0 ]\n",
    "len(cColors), len(cNodes)"
   ]
  },
  {
   "cell_type": "code",
   "execution_count": 58,
   "metadata": {},
   "outputs": [],
   "source": [
    "SegCMap = mpl.colors.LinearSegmentedColormap.from_list(\"mycmap\", list(zip(cNodes, cColors)))"
   ]
  },
  {
   "cell_type": "markdown",
   "metadata": {},
   "source": [
    "#### SPEI"
   ]
  },
  {
   "cell_type": "code",
   "execution_count": 59,
   "metadata": {},
   "outputs": [
    {
     "data": {
      "text/html": [
       "<table border=\"1\" class=\"dataframe\">\n",
       "  <thead>\n",
       "    <tr style=\"text-align: right;\">\n",
       "      <th></th>\n",
       "      <th>CumDef</th>\n",
       "      <th>CumProb</th>\n",
       "      <th>SPEI</th>\n",
       "      <th>5xCumProb</th>\n",
       "    </tr>\n",
       "  </thead>\n",
       "  <tbody>\n",
       "    <tr>\n",
       "      <th>1981-01-01</th>\n",
       "      <td>-177.220428</td>\n",
       "      <td>0.385981</td>\n",
       "      <td>-0.289810</td>\n",
       "      <td>1.929903</td>\n",
       "    </tr>\n",
       "    <tr>\n",
       "      <th>1981-02-01</th>\n",
       "      <td>-118.411407</td>\n",
       "      <td>0.636670</td>\n",
       "      <td>0.349573</td>\n",
       "      <td>3.183351</td>\n",
       "    </tr>\n",
       "    <tr>\n",
       "      <th>1981-03-01</th>\n",
       "      <td>-139.397461</td>\n",
       "      <td>0.705396</td>\n",
       "      <td>0.539983</td>\n",
       "      <td>3.526978</td>\n",
       "    </tr>\n",
       "    <tr>\n",
       "      <th>1981-04-01</th>\n",
       "      <td>-90.914421</td>\n",
       "      <td>0.909625</td>\n",
       "      <td>1.338452</td>\n",
       "      <td>4.548127</td>\n",
       "    </tr>\n",
       "    <tr>\n",
       "      <th>1981-05-01</th>\n",
       "      <td>-144.663269</td>\n",
       "      <td>0.881604</td>\n",
       "      <td>1.183041</td>\n",
       "      <td>4.408018</td>\n",
       "    </tr>\n",
       "  </tbody>\n",
       "</table>"
      ],
      "text/plain": [
       "<IPython.core.display.HTML object>"
      ]
     },
     "metadata": {},
     "output_type": "display_data"
    }
   ],
   "source": [
    "display( HTML( spei4DF.head().to_html() ) )"
   ]
  },
  {
   "cell_type": "code",
   "execution_count": 60,
   "metadata": {},
   "outputs": [],
   "source": [
    "bT4Mo = spei4DF[[\"SPEI\"]].copy()"
   ]
  },
  {
   "cell_type": "code",
   "execution_count": 61,
   "metadata": {},
   "outputs": [],
   "source": [
    "bT4Mo[\"Month\"] = bT4Mo.index.month\n",
    "bT4Mo[\"Year\"] = bT4Mo.index.year"
   ]
  },
  {
   "cell_type": "code",
   "execution_count": 62,
   "metadata": {},
   "outputs": [],
   "source": [
    "pvbT4Mo = bT4Mo.pivot( index=\"Year\", columns=\"Month\", values=\"SPEI\")"
   ]
  },
  {
   "cell_type": "code",
   "execution_count": 63,
   "metadata": {},
   "outputs": [
    {
     "data": {
      "text/plain": [
       "(2.4238200187683105, -2.1256184577941895)"
      ]
     },
     "execution_count": 63,
     "metadata": {},
     "output_type": "execute_result"
    }
   ],
   "source": [
    "max( pvbT4Mo.max(axis=1).tolist() ), min( pvbT4Mo.min(axis=1).tolist() )"
   ]
  },
  {
   "cell_type": "code",
   "execution_count": 64,
   "metadata": {},
   "outputs": [],
   "source": [
    "# get the annotation stuff\n",
    "NumYrs = len( pvbT4Mo )\n",
    "allSPEI_1 = pvbT4Mo.to_numpy( dtype=np.float32 )\n",
    "matLister1 = list()\n",
    "for iI in range( NumYrs ):\n",
    "    rowLister = list()\n",
    "    for jJ in range(12):\n",
    "        cVal = allSPEI_1[iI, jJ]\n",
    "        if ( cVal >= 1.5 ) or ( cVal <= -1.5 ):\n",
    "            rowLister.append( \"%4.1f\" % cVal )\n",
    "        else:\n",
    "            rowLister.append( \"\" )\n",
    "        # end if\n",
    "    # end inner for\n",
    "    matLister1.append( rowLister )\n",
    "# end outer for\n",
    "AnnotMat_1 = np.array( matLister1 )"
   ]
  },
  {
   "cell_type": "code",
   "execution_count": 65,
   "metadata": {},
   "outputs": [
    {
     "data": {
      "image/png": "[encoded data removed]",
      "text/plain": [
       "<Figure size 750x1050 with 2 Axes>"
      ]
     },
     "metadata": {},
     "output_type": "display_data"
    }
   ],
   "source": [
    "Fig1 = plt.figure()\n",
    "Fig1.set_size_inches(7.5, 10.5)\n",
    "ax11 = Fig1.add_subplot(111)\n",
    "ax11 = sns.heatmap( pvbT4Mo, vmin=pMin, vmax=pMax, cmap=SegCMap, center=0.0,\n",
    "                        annot=AnnotMat_1, fmt=\"s\", linecolor=\"gainsboro\", linewidths=0.0,\n",
    "                        annot_kws={'fontsize':9, 'color':'xkcd:black'},\n",
    "                        cbar_kws={'label': 'SPEI',}, ax=ax11 )\n",
    "cbar = ax11.collections[0].colorbar\n",
    "cbar.ax.tick_params(labelsize=9)\n",
    "ax11.set_title( \"%s, 4-month SPEI (1981-2010 CN)\" % BasKey, fontsize=12 )\n",
    "ax11.set_xlabel('Month', fontsize=10 )\n",
    "ax11.set_ylabel('Year', fontsize=10)\n",
    "ax11.tick_params(axis='both', which='major', labelsize=10)"
   ]
  },
  {
   "cell_type": "markdown",
   "metadata": {},
   "source": [
    "Loop through headers and make individual plots for each subbasin and each rolling window"
   ]
  },
  {
   "cell_type": "code",
   "execution_count": 66,
   "metadata": {},
   "outputs": [],
   "source": [
    "for tHdr in [\"SPEI\"]:\n",
    "    svLabel = BasKey\n",
    "    # now need to work on the 3 month plot\n",
    "    bT3Mo = spei3DF[[tHdr]].loc[pd.Timestamp(1993, 1, 1,):].copy()\n",
    "    bT3Mo[\"Month\"] = bT3Mo.index.month\n",
    "    bT3Mo[\"Year\"] = bT3Mo.index.year\n",
    "    bT4Mo = spei4DF[[tHdr]].loc[pd.Timestamp(1993, 1, 1,):].copy()\n",
    "    bT4Mo[\"Month\"] = bT4Mo.index.month\n",
    "    bT4Mo[\"Year\"] = bT4Mo.index.year\n",
    "    bT6Mo = spei6DF[[tHdr]].loc[pd.Timestamp(1993, 1, 1,):].copy()\n",
    "    bT6Mo[\"Month\"] = bT6Mo.index.month\n",
    "    bT6Mo[\"Year\"] = bT6Mo.index.year\n",
    "    bT12Mo = spei12DF[[tHdr]].loc[pd.Timestamp(1993, 1, 1,):].copy()\n",
    "    bT12Mo[\"Month\"] = bT12Mo.index.month\n",
    "    bT12Mo[\"Year\"] = bT12Mo.index.year\n",
    "    # pivot\n",
    "    pvbT3Mo = bT3Mo.pivot( index=\"Year\", columns=\"Month\", values=tHdr)\n",
    "    pvbT4Mo = bT4Mo.pivot( index=\"Year\", columns=\"Month\", values=tHdr)\n",
    "    pvbT6Mo = bT6Mo.pivot( index=\"Year\", columns=\"Month\", values=tHdr)\n",
    "    pvbT12Mo = bT12Mo.pivot( index=\"Year\", columns=\"Month\", values=tHdr)\n",
    "    # do our plots\n",
    "    #   3 month\n",
    "    #   annotation stuff\n",
    "    # get the annotation stuff\n",
    "    NumYrs = len( pvbT3Mo )\n",
    "    allSPEI_1 = pvbT3Mo.to_numpy( dtype=np.float32 )\n",
    "    matLister1 = list()\n",
    "    for iI in range( NumYrs ):\n",
    "        rowLister = list()\n",
    "        for jJ in range(12):\n",
    "            cVal = allSPEI_1[iI, jJ]\n",
    "            if ( cVal >= 1.5 ) or ( cVal <= -1.5 ):\n",
    "                rowLister.append( \"%4.1f\" % cVal )\n",
    "            else:\n",
    "                rowLister.append( \"\" )\n",
    "            # end if\n",
    "        # end inner for\n",
    "        matLister1.append( rowLister )\n",
    "    # end outer for\n",
    "    AnnotMat_1 = np.array( matLister1 )\n",
    "    OutFilePDF = os.path.normpath( os.path.join( OUT_DIR, BasKey, \"Plots\", \"%s_SPEI_3mon.pdf\" % svLabel))\n",
    "    OutFileSVG = os.path.normpath( os.path.join( OUT_DIR, BasKey, \"Plots\", \"%s_SPEI_3mon.svg\" % svLabel))\n",
    "    OutFilePNG = os.path.normpath( os.path.join( OUT_DIR, BasKey, \"Plots\", \"%s_SPEI_3mon.png\" % svLabel))\n",
    "    Fig1 = plt.figure()\n",
    "    Fig1.set_size_inches(7.5, 10.5)\n",
    "    ax11 = Fig1.add_subplot(111)\n",
    "    ax11 = sns.heatmap( pvbT3Mo, vmin=pMin, vmax=pMax, cmap=SegCMap, center=0.0,\n",
    "                        annot=AnnotMat_1, fmt=\"s\", linecolor=\"gainsboro\", linewidths=0.0,\n",
    "                        annot_kws={'fontsize':9, 'color':'xkcd:black'},\n",
    "                        cbar_kws={'label': 'SPEI',}, ax=ax11 )\n",
    "    cbar = ax11.collections[0].colorbar\n",
    "    cbar.ax.tick_params(labelsize=9)\n",
    "    ax11.set_title( \"%s Basin, 3-month SPEI (1981-2010 CN)\" % svLabel, fontsize=12 )\n",
    "    ax11.set_xlabel('Month', fontsize=10 )\n",
    "    ax11.set_ylabel('Year', fontsize=10)\n",
    "    ax11.tick_params(axis='both', which='major', labelsize=10)\n",
    "    Fig1.savefig( OutFileSVG, dpi=600 )\n",
    "    Fig1.savefig( OutFilePNG, dpi=600 )\n",
    "    Fig1.savefig( OutFilePDF, dpi=600 )\n",
    "    # clear the figures\n",
    "    plt.cla()\n",
    "    plt.close(Fig1)\n",
    "    #   4 month\n",
    "    #   annotation stuff\n",
    "    # get the annotation stuff\n",
    "    NumYrs = len( pvbT4Mo )\n",
    "    allSPEI_1 = pvbT4Mo.to_numpy( dtype=np.float32 )\n",
    "    matLister1 = list()\n",
    "    for iI in range( NumYrs ):\n",
    "        rowLister = list()\n",
    "        for jJ in range(12):\n",
    "            cVal = allSPEI_1[iI, jJ]\n",
    "            if ( cVal >= 1.5 ) or ( cVal <= -1.5 ):\n",
    "                rowLister.append( \"%4.1f\" % cVal )\n",
    "            else:\n",
    "                rowLister.append( \"\" )\n",
    "            # end if\n",
    "        # end inner for\n",
    "        matLister1.append( rowLister )\n",
    "    # end outer for\n",
    "    AnnotMat_1 = np.array( matLister1 )\n",
    "    OutFilePDF = os.path.normpath( os.path.join( OUT_DIR, BasKey, \"Plots\", \"%s_SPEI_4mon.pdf\" % svLabel))\n",
    "    OutFileSVG = os.path.normpath( os.path.join( OUT_DIR, BasKey, \"Plots\", \"%s_SPEI_4mon.svg\" % svLabel))\n",
    "    OutFilePNG = os.path.normpath( os.path.join( OUT_DIR, BasKey, \"Plots\", \"%s_SPEI_4mon.png\" % svLabel))\n",
    "    Fig1 = plt.figure()\n",
    "    Fig1.set_size_inches(7.5, 10.5)\n",
    "    ax11 = Fig1.add_subplot(111)\n",
    "    ax11 = sns.heatmap( pvbT4Mo, vmin=pMin, vmax=pMax, cmap=SegCMap, center=0.0,\n",
    "                        annot=AnnotMat_1, fmt=\"s\", linecolor=\"gainsboro\", linewidths=0.0,\n",
    "                        annot_kws={'fontsize':9, 'color':'xkcd:black'},\n",
    "                        cbar_kws={'label': 'SPEI',}, ax=ax11 )\n",
    "    cbar = ax11.collections[0].colorbar\n",
    "    cbar.ax.tick_params(labelsize=9)\n",
    "    ax11.set_title( \"%s Basin, 4-month SPEI (1981-2010 CN)\" % svLabel, fontsize=12 )\n",
    "    ax11.set_xlabel('Month', fontsize=10 )\n",
    "    ax11.set_ylabel('Year', fontsize=10)\n",
    "    ax11.tick_params(axis='both', which='major', labelsize=10)\n",
    "    Fig1.savefig( OutFileSVG, dpi=600 )\n",
    "    Fig1.savefig( OutFilePNG, dpi=600 )\n",
    "    Fig1.savefig( OutFilePDF, dpi=600 )\n",
    "    # clear the figures\n",
    "    plt.cla()\n",
    "    plt.close(Fig1)\n",
    "    #   6 month\n",
    "    # get the annotation stuff\n",
    "    NumYrs = len( pvbT6Mo )\n",
    "    allSPEI_1 = pvbT6Mo.to_numpy( dtype=np.float32 )\n",
    "    matLister1 = list()\n",
    "    for iI in range( NumYrs ):\n",
    "        rowLister = list()\n",
    "        for jJ in range(12):\n",
    "            cVal = allSPEI_1[iI, jJ]\n",
    "            if ( cVal >= 1.5 ) or ( cVal <= -1.5 ):\n",
    "                rowLister.append( \"%4.1f\" % cVal )\n",
    "            else:\n",
    "                rowLister.append( \"\" )\n",
    "            # end if\n",
    "        # end inner for\n",
    "        matLister1.append( rowLister )\n",
    "    # end outer for\n",
    "    AnnotMat_1 = np.array( matLister1 )\n",
    "    OutFilePDF = os.path.normpath( os.path.join( OUT_DIR, BasKey, \"Plots\", \"%s_SPEI_6mon.pdf\" % svLabel))\n",
    "    OutFileSVG = os.path.normpath( os.path.join( OUT_DIR, BasKey, \"Plots\", \"%s_SPEI_6mon.svg\" % svLabel))\n",
    "    OutFilePNG = os.path.normpath( os.path.join( OUT_DIR, BasKey, \"Plots\", \"%s_SPEI_6mon.png\" % svLabel))\n",
    "    Fig1 = plt.figure()\n",
    "    Fig1.set_size_inches(7.5, 10.5)\n",
    "    ax11 = Fig1.add_subplot(111)\n",
    "    ax11 = sns.heatmap( pvbT6Mo, vmin=pMin, vmax=pMax, cmap=SegCMap, center=0.0,\n",
    "                        annot=AnnotMat_1, fmt=\"s\", linecolor=\"gainsboro\", linewidths=0.0,\n",
    "                        annot_kws={'fontsize':9, 'color':'xkcd:black'},\n",
    "                        cbar_kws={'label': 'SPEI',}, ax=ax11 )\n",
    "    cbar = ax11.collections[0].colorbar\n",
    "    cbar.ax.tick_params(labelsize=9)\n",
    "    ax11.set_title( \"%s Baasin, 6-month SPEI (1981-2010 CN)\" % svLabel, fontsize=12 )\n",
    "    ax11.set_xlabel('Month', fontsize=10 )\n",
    "    ax11.set_ylabel('Year', fontsize=10)\n",
    "    ax11.tick_params(axis='both', which='major', labelsize=10)\n",
    "    Fig1.savefig( OutFileSVG, dpi=600)\n",
    "    Fig1.savefig( OutFilePNG, dpi=600)\n",
    "    Fig1.savefig( OutFilePDF, dpi=600)\n",
    "    # clear the figures\n",
    "    plt.cla()\n",
    "    plt.close(Fig1)\n",
    "    #   12 month\n",
    "    # get the annotation stuff\n",
    "    NumYrs = len( pvbT12Mo )\n",
    "    allSPEI_1 = pvbT12Mo.to_numpy( dtype=np.float32 )\n",
    "    matLister1 = list()\n",
    "    for iI in range( NumYrs ):\n",
    "        rowLister = list()\n",
    "        for jJ in range(12):\n",
    "            cVal = allSPEI_1[iI, jJ]\n",
    "            if ( cVal >= 1.5 ) or ( cVal <= -1.5 ):\n",
    "                rowLister.append( \"%4.1f\" % cVal )\n",
    "            else:\n",
    "                rowLister.append( \"\" )\n",
    "            # end if\n",
    "        # end inner for\n",
    "        matLister1.append( rowLister )\n",
    "    # end outer for\n",
    "    AnnotMat_1 = np.array( matLister1 )\n",
    "    OutFilePDF = os.path.normpath( os.path.join( OUT_DIR, BasKey, \"Plots\", \"%s_SPEI_12mon.pdf\" % svLabel))\n",
    "    OutFileSVG = os.path.normpath( os.path.join( OUT_DIR, BasKey, \"Plots\", \"%s_SPEI_12mon.svg\" % svLabel))\n",
    "    OutFilePNG = os.path.normpath( os.path.join( OUT_DIR, BasKey, \"Plots\", \"%s_SPEI_12mon.png\" % svLabel))\n",
    "    Fig1 = plt.figure()\n",
    "    Fig1.set_size_inches(7.5, 10.5)\n",
    "    ax11 = Fig1.add_subplot(111)\n",
    "    ax11 = sns.heatmap( pvbT12Mo, vmin=pMin, vmax=pMax, cmap=SegCMap, center=0.0,\n",
    "                        annot=AnnotMat_1, fmt=\"s\", linecolor=\"gainsboro\", linewidths=0.0,\n",
    "                        annot_kws={'fontsize':9, 'color':'xkcd:black'},\n",
    "                        cbar_kws={'label': 'SPEI',}, ax=ax11 )\n",
    "    cbar = ax11.collections[0].colorbar\n",
    "    cbar.ax.tick_params(labelsize=9)\n",
    "    ax11.set_title( \"%s Basin, 12-month SPEI (1981-2010 CN)\" % svLabel, fontsize=12 )\n",
    "    ax11.set_xlabel('Month', fontsize=10 )\n",
    "    ax11.set_ylabel('Year', fontsize=10)\n",
    "    ax11.tick_params(axis='both', which='major', labelsize=10)\n",
    "    Fig1.savefig( OutFileSVG, dpi=600 )\n",
    "    Fig1.savefig( OutFilePNG, dpi=600 )\n",
    "    Fig1.savefig( OutFilePDF, dpi=600 )\n",
    "    # clear the figures\n",
    "    plt.cla()\n",
    "    plt.close(Fig1)\n",
    "# end for"
   ]
  },
  {
   "cell_type": "markdown",
   "metadata": {},
   "source": [
    "#### SPI"
   ]
  },
  {
   "cell_type": "code",
   "execution_count": 67,
   "metadata": {},
   "outputs": [],
   "source": [
    "for tHdr in [\"SPI\"]:\n",
    "    svLabel = BasKey\n",
    "    # now need to work on the 3 month plot\n",
    "    bT3Mo = spi3DF[[tHdr]].loc[pd.Timestamp(1993, 1, 1,):].copy()\n",
    "    bT3Mo[\"Month\"] = bT3Mo.index.month\n",
    "    bT3Mo[\"Year\"] = bT3Mo.index.year\n",
    "    bT4Mo = spi4DF[[tHdr]].loc[pd.Timestamp(1993, 1, 1,):].copy()\n",
    "    bT4Mo[\"Month\"] = bT4Mo.index.month\n",
    "    bT4Mo[\"Year\"] = bT4Mo.index.year\n",
    "    bT6Mo = spi6DF[[tHdr]].loc[pd.Timestamp(1993, 1, 1,):].copy()\n",
    "    bT6Mo[\"Month\"] = bT6Mo.index.month\n",
    "    bT6Mo[\"Year\"] = bT6Mo.index.year\n",
    "    bT12Mo = spi12DF[[tHdr]].loc[pd.Timestamp(1993, 1, 1,):].copy()\n",
    "    bT12Mo[\"Month\"] = bT12Mo.index.month\n",
    "    bT12Mo[\"Year\"] = bT12Mo.index.year\n",
    "    # pivot\n",
    "    pvbT3Mo = bT3Mo.pivot( index=\"Year\", columns=\"Month\", values=tHdr)\n",
    "    pvbT4Mo = bT4Mo.pivot( index=\"Year\", columns=\"Month\", values=tHdr)\n",
    "    pvbT6Mo = bT6Mo.pivot( index=\"Year\", columns=\"Month\", values=tHdr)\n",
    "    pvbT12Mo = bT12Mo.pivot( index=\"Year\", columns=\"Month\", values=tHdr)\n",
    "    # do our plots\n",
    "    #   3 month\n",
    "    #   annotation stuff\n",
    "    # get the annotation stuff\n",
    "    NumYrs = len( pvbT3Mo )\n",
    "    allSPEI_1 = pvbT3Mo.to_numpy( dtype=np.float32 )\n",
    "    matLister1 = list()\n",
    "    for iI in range( NumYrs ):\n",
    "        rowLister = list()\n",
    "        for jJ in range(12):\n",
    "            cVal = allSPEI_1[iI, jJ]\n",
    "            if ( cVal >= 1.5 ) or ( cVal <= -1.5 ):\n",
    "                rowLister.append( \"%4.1f\" % cVal )\n",
    "            else:\n",
    "                rowLister.append( \"\" )\n",
    "            # end if\n",
    "        # end inner for\n",
    "        matLister1.append( rowLister )\n",
    "    # end outer for\n",
    "    AnnotMat_1 = np.array( matLister1 )\n",
    "    OutFilePDF = os.path.normpath( os.path.join( OUT_DIR, BasKey, \"Plots\", \"%s_SPI_3mon.pdf\" % svLabel))\n",
    "    OutFileSVG = os.path.normpath( os.path.join( OUT_DIR, BasKey, \"Plots\", \"%s_SPI_3mon.svg\" % svLabel))\n",
    "    OutFilePNG = os.path.normpath( os.path.join( OUT_DIR, BasKey, \"Plots\", \"%s_SPI_3mon.png\" % svLabel))\n",
    "    Fig1 = plt.figure()\n",
    "    Fig1.set_size_inches(7.5, 10.5)\n",
    "    ax11 = Fig1.add_subplot(111)\n",
    "    ax11 = sns.heatmap( pvbT3Mo, vmin=pMin, vmax=pMax, cmap=SegCMap, center=0.0,\n",
    "                        annot=AnnotMat_1, fmt=\"s\", linecolor=\"gainsboro\", linewidths=0.0,\n",
    "                        annot_kws={'fontsize':9, 'color':'xkcd:black'},\n",
    "                        cbar_kws={'label': 'SPI',}, ax=ax11 )\n",
    "    cbar = ax11.collections[0].colorbar\n",
    "    cbar.ax.tick_params(labelsize=9)\n",
    "    ax11.set_title( \"%s Basin, 3-month SPI (1981-2010 CN)\" % svLabel, fontsize=12 )\n",
    "    ax11.set_xlabel('Month', fontsize=10 )\n",
    "    ax11.set_ylabel('Year', fontsize=10)\n",
    "    ax11.tick_params(axis='both', which='major', labelsize=10)\n",
    "    Fig1.savefig( OutFileSVG, dpi=600 )\n",
    "    Fig1.savefig( OutFilePNG, dpi=600 )\n",
    "    Fig1.savefig( OutFilePDF, dpi=600 )\n",
    "    # clear the figures\n",
    "    plt.cla()\n",
    "    plt.close(Fig1)\n",
    "    #   4 month\n",
    "    #   annotation stuff\n",
    "    # get the annotation stuff\n",
    "    NumYrs = len( pvbT4Mo )\n",
    "    allSPEI_1 = pvbT4Mo.to_numpy( dtype=np.float32 )\n",
    "    matLister1 = list()\n",
    "    for iI in range( NumYrs ):\n",
    "        rowLister = list()\n",
    "        for jJ in range(12):\n",
    "            cVal = allSPEI_1[iI, jJ]\n",
    "            if ( cVal >= 1.5 ) or ( cVal <= -1.5 ):\n",
    "                rowLister.append( \"%4.1f\" % cVal )\n",
    "            else:\n",
    "                rowLister.append( \"\" )\n",
    "            # end if\n",
    "        # end inner for\n",
    "        matLister1.append( rowLister )\n",
    "    # end outer for\n",
    "    AnnotMat_1 = np.array( matLister1 )\n",
    "    OutFilePDF = os.path.normpath( os.path.join( OUT_DIR, BasKey, \"Plots\", \"%s_SPI_4mon.pdf\" % svLabel))\n",
    "    OutFileSVG = os.path.normpath( os.path.join( OUT_DIR, BasKey, \"Plots\", \"%s_SPI_4mon.svg\" % svLabel))\n",
    "    OutFilePNG = os.path.normpath( os.path.join( OUT_DIR, BasKey, \"Plots\", \"%s_SPI_4mon.png\" % svLabel))\n",
    "    Fig1 = plt.figure()\n",
    "    Fig1.set_size_inches(7.5, 10.5)\n",
    "    ax11 = Fig1.add_subplot(111)\n",
    "    ax11 = sns.heatmap( pvbT4Mo, vmin=pMin, vmax=pMax, cmap=SegCMap, center=0.0,\n",
    "                        annot=AnnotMat_1, fmt=\"s\", linecolor=\"gainsboro\", linewidths=0.0,\n",
    "                        annot_kws={'fontsize':9, 'color':'xkcd:black'},\n",
    "                        cbar_kws={'label': 'SPI',}, ax=ax11 )\n",
    "    cbar = ax11.collections[0].colorbar\n",
    "    cbar.ax.tick_params(labelsize=9)\n",
    "    ax11.set_title( \"%s Basin, 4-month SPI (1981-2010 CN)\" % svLabel, fontsize=12 )\n",
    "    ax11.set_xlabel('Month', fontsize=10 )\n",
    "    ax11.set_ylabel('Year', fontsize=10)\n",
    "    ax11.tick_params(axis='both', which='major', labelsize=10)\n",
    "    Fig1.savefig( OutFileSVG, dpi=600 )\n",
    "    Fig1.savefig( OutFilePNG, dpi=600 )\n",
    "    Fig1.savefig( OutFilePDF, dpi=600 )\n",
    "    # clear the figures\n",
    "    plt.cla()\n",
    "    plt.close(Fig1)\n",
    "    #   6 month\n",
    "    #   annotation stuff\n",
    "    # get the annotation stuff\n",
    "    NumYrs = len( pvbT6Mo )\n",
    "    allSPEI_1 = pvbT6Mo.to_numpy( dtype=np.float32 )\n",
    "    matLister1 = list()\n",
    "    for iI in range( NumYrs ):\n",
    "        rowLister = list()\n",
    "        for jJ in range(12):\n",
    "            cVal = allSPEI_1[iI, jJ]\n",
    "            if ( cVal >= 1.5 ) or ( cVal <= -1.5 ):\n",
    "                rowLister.append( \"%4.1f\" % cVal )\n",
    "            else:\n",
    "                rowLister.append( \"\" )\n",
    "            # end if\n",
    "        # end inner for\n",
    "        matLister1.append( rowLister )\n",
    "    # end outer for\n",
    "    AnnotMat_1 = np.array( matLister1 )\n",
    "    OutFilePDF = os.path.normpath( os.path.join( OUT_DIR, BasKey, \"Plots\", \"%s_SPI_6mon.pdf\" % svLabel))\n",
    "    OutFileSVG = os.path.normpath( os.path.join( OUT_DIR, BasKey, \"Plots\", \"%s_SPI_6mon.svg\" % svLabel))\n",
    "    OutFilePNG = os.path.normpath( os.path.join( OUT_DIR, BasKey, \"Plots\", \"%s_SPI_6mon.png\" % svLabel))\n",
    "    Fig1 = plt.figure()\n",
    "    Fig1.set_size_inches(7.5, 10.5)\n",
    "    ax11 = Fig1.add_subplot(111)\n",
    "    ax11 = sns.heatmap( pvbT6Mo, vmin=pMin, vmax=pMax, cmap=SegCMap, center=0.0,\n",
    "                        annot=AnnotMat_1, fmt=\"s\", linecolor=\"gainsboro\", linewidths=0.0,\n",
    "                        annot_kws={'fontsize':9, 'color':'xkcd:black'},\n",
    "                        cbar_kws={'label': 'SPI',}, ax=ax11 )\n",
    "    cbar = ax11.collections[0].colorbar\n",
    "    cbar.ax.tick_params(labelsize=9)\n",
    "    ax11.set_title( \"%s Basin, 6-month SPI (1981-2010 CN)\" % svLabel, fontsize=12 )\n",
    "    ax11.set_xlabel('Month', fontsize=10 )\n",
    "    ax11.set_ylabel('Year', fontsize=10)\n",
    "    ax11.tick_params(axis='both', which='major', labelsize=10)\n",
    "    Fig1.savefig( OutFileSVG, dpi=600 )\n",
    "    Fig1.savefig( OutFilePNG, dpi=600 )\n",
    "    Fig1.savefig( OutFilePDF, dpi=600 )\n",
    "    # clear the figures\n",
    "    plt.cla()\n",
    "    plt.close(Fig1)\n",
    "    #   12 month\n",
    "    #   annotation stuff\n",
    "    # get the annotation stuff\n",
    "    NumYrs = len( pvbT12Mo )\n",
    "    allSPEI_1 = pvbT12Mo.to_numpy( dtype=np.float32 )\n",
    "    matLister1 = list()\n",
    "    for iI in range( NumYrs ):\n",
    "        rowLister = list()\n",
    "        for jJ in range(12):\n",
    "            cVal = allSPEI_1[iI, jJ]\n",
    "            if ( cVal >= 1.5 ) or ( cVal <= -1.5 ):\n",
    "                rowLister.append( \"%4.1f\" % cVal )\n",
    "            else:\n",
    "                rowLister.append( \"\" )\n",
    "            # end if\n",
    "        # end inner for\n",
    "        matLister1.append( rowLister )\n",
    "    # end outer for\n",
    "    AnnotMat_1 = np.array( matLister1 )\n",
    "    OutFilePDF = os.path.normpath( os.path.join( OUT_DIR, BasKey, \"Plots\", \"%s_SPI_12mon.pdf\" % svLabel))\n",
    "    OutFileSVG = os.path.normpath( os.path.join( OUT_DIR, BasKey, \"Plots\", \"%s_SPI_12mon.svg\" % svLabel))\n",
    "    OutFilePNG = os.path.normpath( os.path.join( OUT_DIR, BasKey, \"Plots\", \"%s_SPI_12mon.png\" % svLabel))\n",
    "    Fig1 = plt.figure()\n",
    "    Fig1.set_size_inches(7.5, 10.5)\n",
    "    ax11 = Fig1.add_subplot(111)\n",
    "    ax11 = sns.heatmap( pvbT12Mo, vmin=pMin, vmax=pMax, cmap=SegCMap, center=0.0,\n",
    "                        annot=AnnotMat_1, fmt=\"s\", linecolor=\"gainsboro\", linewidths=0.0,\n",
    "                        annot_kws={'fontsize':9, 'color':'xkcd:black'},\n",
    "                        cbar_kws={'label': 'SPI',}, ax=ax11 )\n",
    "    cbar = ax11.collections[0].colorbar\n",
    "    cbar.ax.tick_params(labelsize=9)\n",
    "    ax11.set_title( \"%s Basin, 12-month SPI (1981-2010 CN)\" % svLabel, fontsize=12 )\n",
    "    ax11.set_xlabel('Month', fontsize=10 )\n",
    "    ax11.set_ylabel('Year', fontsize=10)\n",
    "    ax11.tick_params(axis='both', which='major', labelsize=10)\n",
    "    Fig1.savefig( OutFileSVG, dpi=600 )\n",
    "    Fig1.savefig( OutFilePNG, dpi=600 )\n",
    "    Fig1.savefig( OutFilePDF, dpi=600 )\n",
    "    # clear the figures\n",
    "    plt.cla()\n",
    "    plt.close(Fig1)\n",
    "# end for"
   ]
  },
  {
   "cell_type": "code",
   "execution_count": null,
   "metadata": {},
   "outputs": [],
   "source": []
  }
 ],
 "metadata": {
  "kernelspec": {
   "display_name": "Python 3 (ipykernel)",
   "language": "python",
   "name": "python3"
  },
  "language_info": {
   "codemirror_mode": {
    "name": "ipython",
    "version": 3
   },
   "file_extension": ".py",
   "mimetype": "text/x-python",
   "name": "python",
   "nbconvert_exporter": "python",
   "pygments_lexer": "ipython3",
   "version": "3.9.15"
  }
 },
 "nbformat": 4,
 "nbformat_minor": 4
}
