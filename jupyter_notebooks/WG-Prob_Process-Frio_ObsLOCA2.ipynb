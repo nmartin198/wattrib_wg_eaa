{
 "cells": [
  {
   "cell_type": "markdown",
   "id": "5420450f-34b4-42ed-99aa-3afddf1722dc",
   "metadata": {},
   "source": [
    "# WG Probabilistic Results Processing: Frio Basin Observed to LOCA2"
   ]
  },
  {
   "cell_type": "markdown",
   "id": "7475e2be-ba98-4b33-9d7f-c442763e4d5c",
   "metadata": {},
   "source": [
    "The purpose of this notebook is to process weather generator results into Climate Normals and cones of uncertainty for comparison with CMIP projections and historical observations."
   ]
  },
  {
   "cell_type": "markdown",
   "id": "1a8a41e5-1aef-4b46-a684-f9de6aa42bd7",
   "metadata": {},
   "source": [
    "## Imports and Parameters"
   ]
  },
  {
   "cell_type": "code",
   "execution_count": 1,
   "id": "c16893d3-aca4-4bfe-aca7-42c75fe80d5f",
   "metadata": {},
   "outputs": [],
   "source": [
    "%matplotlib inline"
   ]
  },
  {
   "cell_type": "code",
   "execution_count": 2,
   "id": "2cbe275a-b9e7-4b04-af4e-f467e53d8ec5",
   "metadata": {},
   "outputs": [],
   "source": [
    "import os\n",
    "from IPython.display import display, HTML\n",
    "import pandas as pd\n",
    "import numpy as np\n",
    "import matplotlib as mpl\n",
    "import matplotlib.pyplot as plt\n",
    "from scipy import stats as sstats\n",
    "from math import exp\n",
    "import datetime as dt\n",
    "import pickle\n",
    "from copy import deepcopy"
   ]
  },
  {
   "cell_type": "code",
   "execution_count": 3,
   "id": "1dabeb7a-0521-4966-bdb6-127130b884df",
   "metadata": {},
   "outputs": [],
   "source": [
    "BasKey = \"Frio\""
   ]
  },
  {
   "cell_type": "code",
   "execution_count": 4,
   "id": "15c688b5-d5e5-4f84-b14b-68ea86279168",
   "metadata": {},
   "outputs": [],
   "source": [
    "NumReal = 1000"
   ]
  },
  {
   "cell_type": "code",
   "execution_count": 5,
   "id": "d23498e9-2cf7-4a33-a709-cdaecec6f0d5",
   "metadata": {},
   "outputs": [],
   "source": [
    "plt.rcParams['svg.fonttype'] = 'none'"
   ]
  },
  {
   "cell_type": "code",
   "execution_count": 6,
   "id": "5306e6d1-cd24-4f2c-8537-df644dacaf18",
   "metadata": {},
   "outputs": [],
   "source": [
    "IN_DIR1 = r'C:\\Users\\nmartin\\Documents\\EAA_Drought_Future_Weather\\NumModels\\Final\\%s\\Results\\Simulated' % BasKey\n",
    "IN_DIR2 = r'C:\\Users\\nmartin\\Documents\\EAA_HCP\\Data\\SwRI_Processed\\LOCA2'\n",
    "IN_DIR3 = r'C:\\Users\\nmartin\\Documents\\EAA_HCP\\Data\\SwRI_Processed\\Processed_Historical'\n",
    "IN_DIR4 = r'C:\\Users\\nmartin\\Documents\\EAA_HCP\\Data\\SwRI_Processed\\LOCA2\\Cones_of_Uncertainty'\n",
    "OUT_DIR = r'C:\\Users\\nmartin\\Documents\\EAA_Drought_Future_Weather\\NumModels\\Final\\%s\\Results\\Processed' % BasKey"
   ]
  },
  {
   "cell_type": "code",
   "execution_count": 7,
   "id": "700adda7-caf4-44d0-947d-76b2ba7c43ec",
   "metadata": {},
   "outputs": [
    {
     "data": {
      "text/plain": [
       "360"
      ]
     },
     "execution_count": 7,
     "metadata": {},
     "output_type": "execute_result"
    }
   ],
   "source": [
    "CNStartTS = pd.Timestamp( 2031, 1, 1, )\n",
    "CNStopTS = pd.Timestamp( 2060, 12, 31, 23, 59, )\n",
    "CNMonIndexer = pd.date_range( start=CNStartTS, end=CNStopTS, freq='MS' )\n",
    "len( CNMonIndexer )"
   ]
  },
  {
   "cell_type": "code",
   "execution_count": 8,
   "id": "07fd41be-8c52-4d76-8c85-2f1e8a8eebae",
   "metadata": {},
   "outputs": [
    {
     "data": {
      "text/plain": [
       "41"
      ]
     },
     "execution_count": 8,
     "metadata": {},
     "output_type": "execute_result"
    }
   ],
   "source": [
    "CUStartTS = pd.Timestamp( 2025, 1, 1, )\n",
    "CUStopTS = pd.Timestamp( 2065, 12, 31, 23, 59, )\n",
    "CUYearsIndexer = [ pd.Timestamp(x, 7, 1, 0) for x in range(CUStartTS.year, CUStopTS.year + 1) ]\n",
    "len( CUYearsIndexer )"
   ]
  },
  {
   "cell_type": "code",
   "execution_count": 9,
   "id": "5c41f7d3-2ff1-42b5-a044-5632b15172f9",
   "metadata": {},
   "outputs": [],
   "source": [
    "fillIndexer = deepcopy( CUYearsIndexer )\n",
    "fillIndexer[0] = pd.Timestamp(2025, 1, 1, 0)\n",
    "fillIndexer[len(fillIndexer)-1] = pd.Timestamp(2065, 12, 31, 23, 59, )"
   ]
  },
  {
   "cell_type": "code",
   "execution_count": 10,
   "id": "8f31c2ca-dffc-4de0-9c08-ec6c1e04d223",
   "metadata": {},
   "outputs": [
    {
     "data": {
      "text/plain": [
       "41"
      ]
     },
     "execution_count": 10,
     "metadata": {},
     "output_type": "execute_result"
    }
   ],
   "source": [
    "# make the Date indices\n",
    "NumPolyPlotPts = len( fillIndexer )\n",
    "NumPolyPlotPts"
   ]
  },
  {
   "cell_type": "code",
   "execution_count": 11,
   "id": "0249f403-1e5a-46cc-ad0e-1cbd6fe5f32e",
   "metadata": {},
   "outputs": [],
   "source": [
    "# make the time polygon list\n",
    "DTTimeList = deepcopy( fillIndexer )\n",
    "BackDTList = deepcopy( fillIndexer )\n",
    "BackDTTL = BackDTList[::-1]\n",
    "DTTimeList.extend( BackDTTL )"
   ]
  },
  {
   "cell_type": "code",
   "execution_count": 12,
   "id": "9d2c4136-aded-49a8-8418-5f5488d88457",
   "metadata": {},
   "outputs": [],
   "source": [
    "ColsList = list()\n",
    "for cR in range(1, NumReal+1):\n",
    "    ColsList.append( \"R%04d\" % cR )\n",
    "# end for"
   ]
  },
  {
   "cell_type": "code",
   "execution_count": 13,
   "id": "1b144745-5160-4281-af31-016b5b106454",
   "metadata": {},
   "outputs": [
    {
     "data": {
      "text/plain": [
       "21"
      ]
     },
     "execution_count": 13,
     "metadata": {},
     "output_type": "execute_result"
    }
   ],
   "source": [
    "OurQs = np.array( [ round( 0.05 * x, 2 ) for x in range(21) ], dtype=np.float32 )\n",
    "NumQs = len( OurQs )\n",
    "NumQs"
   ]
  },
  {
   "cell_type": "code",
   "execution_count": 14,
   "id": "571107d6-ebd4-40cc-90a7-aa7bc5fe0201",
   "metadata": {},
   "outputs": [],
   "source": [
    "InFiler = os.path.normpath( os.path.join( IN_DIR3, \"CN1991to2020_Basin_DictDF.pkl\" ) )\n",
    "with open( InFiler, 'rb' )  as IF:\n",
    "    CNObsBasinDict = pickle.load( IF )\n",
    "# end with\n",
    "ObsCN = CNObsBasinDict[BasKey]"
   ]
  },
  {
   "cell_type": "code",
   "execution_count": 15,
   "id": "8143fad5-87db-4dc0-aeea-f7b58c25b753",
   "metadata": {},
   "outputs": [],
   "source": [
    "InFiler = os.path.normpath( os.path.join( IN_DIR2, \"CN2031_2060\", \"EnsAveCNDictnp.pkl\" ) )\n",
    "with open( InFiler, 'rb' ) as IF:\n",
    "    L2CNBasinDict = pickle.load( IF )\n",
    "# end with\n",
    "L2CN = L2CNBasinDict[BasKey]"
   ]
  },
  {
   "cell_type": "code",
   "execution_count": 16,
   "id": "9e04c1ce-3a10-4a0f-9f11-303fce02b75d",
   "metadata": {},
   "outputs": [],
   "source": [
    "ProjFileRoot = \"%s_R%d_DF.pickle\"\n",
    "MonIndexer = [ x for x in range(1,13,1)]"
   ]
  },
  {
   "cell_type": "code",
   "execution_count": 17,
   "id": "030c55e7-51a5-453d-9198-fe1fa450555e",
   "metadata": {},
   "outputs": [],
   "source": [
    "TSTicks = [ pd.Timestamp( 2015, 1, 1, ), pd.Timestamp( 2020, 1, 1, ), pd.Timestamp( 2025, 1, 1, ), pd.Timestamp( 2030, 1, 1, ), \n",
    "            pd.Timestamp( 2035, 1, 1, ), pd.Timestamp( 2040, 1, 1, ), pd.Timestamp( 2045, 1, 1, ), pd.Timestamp( 2050, 1, 1, ), \n",
    "            pd.Timestamp( 2055, 1, 1, ), pd.Timestamp( 2060, 1, 1, ), pd.Timestamp( 2065, 1, 1, ), ]\n",
    "TSLabels = [ 2015, 2020, 2025, 2030, 2035, 2040, 2045, 2050, 2055, 2060, 2065, ]"
   ]
  },
  {
   "cell_type": "code",
   "execution_count": 18,
   "id": "aa0cdb2e-9dc6-47c3-85b1-d75468387226",
   "metadata": {},
   "outputs": [],
   "source": [
    "TempYVals = [ 18.0, 19.0, 20.0, 21.0, 22.0, 23.0, 24.0, 25.0, 26.0, ]\n",
    "PreYVals = [ 0.0, 250.0, 500.0, 750.0, 1000.0, 1250.0, 1500.0, 1750.0, 2000.0 ]"
   ]
  },
  {
   "cell_type": "markdown",
   "id": "08cfd443-49b3-430e-a9bd-4a3f7349bc3a",
   "metadata": {},
   "source": [
    "## Plots"
   ]
  },
  {
   "cell_type": "markdown",
   "id": "0ec1623c-f77f-44be-a5ee-ec36490bd23e",
   "metadata": {},
   "source": [
    "### Climate Normals"
   ]
  },
  {
   "cell_type": "code",
   "execution_count": 19,
   "id": "2edfff82-f226-4f24-8660-8499f74e8e55",
   "metadata": {},
   "outputs": [],
   "source": [
    "L2Pre = L2CN[\"Pre_mm\"]\n",
    "L2MaxT = L2CN[\"TMax_C\"]\n",
    "L2MinT = L2CN[\"TMin_C\"]"
   ]
  },
  {
   "cell_type": "code",
   "execution_count": 20,
   "id": "6fcb23b8-82c3-4b7c-9e6e-5c840b640cba",
   "metadata": {},
   "outputs": [],
   "source": [
    "bWidth = 0.30"
   ]
  },
  {
   "cell_type": "code",
   "execution_count": 21,
   "id": "76630b54-52bc-41c3-86cf-fafe8331d3b6",
   "metadata": {},
   "outputs": [],
   "source": [
    "monTLabels = [ \"Jan\", \"Feb\", \"Mar\", \"Apr\", \"May\", \"Jun\", \"Jul\", \"Aug\", \"Sep\", \"Oct\", \"Nov\", \"Dec\"]"
   ]
  },
  {
   "cell_type": "code",
   "execution_count": 22,
   "id": "d270c979-ded4-4f1b-b99c-43cd8ec1a5dd",
   "metadata": {},
   "outputs": [],
   "source": [
    "l2PreTicks = [ ( x + (0.5*bWidth)) for x in MonIndexer ]\n",
    "obsPreTicks = [ ( x - (0.5*bWidth)) for x in MonIndexer ]"
   ]
  },
  {
   "cell_type": "code",
   "execution_count": 23,
   "id": "307b8c77-0cbf-4396-b6bc-033e6cc593e5",
   "metadata": {},
   "outputs": [],
   "source": [
    "preTicks = [ 0.0, 50.0, 100.0, 150.0, 200.0, ]\n",
    "tmpTicks = [ 0.0, 10.0, 20.0, 30.0, 40.0, ]"
   ]
  },
  {
   "cell_type": "code",
   "execution_count": 26,
   "id": "f96d2c11-393b-41a3-80a6-c413beb8282a",
   "metadata": {},
   "outputs": [],
   "source": [
    "OutSVG = os.path.normpath( os.path.join( OUT_DIR, \"Plots\", \"%s_ClimateNormals_wg2obs_2031to2060.svg\" % BasKey ) )\n",
    "OutPNG = os.path.normpath( os.path.join( OUT_DIR, \"Plots\", \"%s_ClimateNormals_wg2obs_2031to2060.png\" % BasKey ) )\n",
    "OutPDF = os.path.normpath( os.path.join( OUT_DIR, \"Plots\", \"%s_ClimateNormals_wg2obs_2031to2060.pdf\" % BasKey ) )"
   ]
  },
  {
   "cell_type": "code",
   "execution_count": 27,
   "id": "3ca5d081-fc5f-4c80-908c-c72fe695db52",
   "metadata": {},
   "outputs": [
    {
     "data": {
      "image/png": "[encoded data removed]",
      "text/plain": [
       "<Figure size 700x450 with 2 Axes>"
      ]
     },
     "metadata": {},
     "output_type": "display_data"
    }
   ],
   "source": [
    "Fig1 = plt.figure()\n",
    "Fig1.set_size_inches(7.0, 4.5)\n",
    "ax11 = Fig1.add_subplot(111)\n",
    "l2Pre = ax11.bar( l2PreTicks, L2Pre, bWidth, color='xkcd:steel blue', edgecolor='xkcd:steel blue',\n",
    "                  label=\"LOCA2 2031-2060\" )\n",
    "obsPre = ax11.bar( obsPreTicks, ObsCN[\"Pre_mm\"], bWidth, color='xkcd:cobalt blue', edgecolor='xkcd:cobalt blue',\n",
    "                   label=\"Obs. 1991-2020\" )\n",
    "ax11.set_xticks( MonIndexer )\n",
    "ax11.set_yticks( preTicks )\n",
    "ax11.set_xticklabels( monTLabels, minor=False, rotation=0 )\n",
    "ax11.set_ylabel('Monthly Mean Precipitation Depth ($mm$)', fontsize=10, color='xkcd:ocean blue')\n",
    "ax11.set_xlim( (0.0, 13.0) )\n",
    "#ax11.set_ylim( (preTicks[0], preTicks[len(preTicks)-1]) )\n",
    "ax11.set_ylim( (preTicks[0], 225.0) )\n",
    "ax11.tick_params(axis='both', which='major', labelsize=10)\n",
    "ax11.tick_params(axis='y', colors='xkcd:ocean blue')\n",
    "ax11.spines[\"right\"].set_color('xkcd:ocean blue')\n",
    "ax11.yaxis.set_major_formatter( mpl.ticker.StrMethodFormatter( \"{x:,.0f}\" ) )\n",
    "# second plot - temperatures\n",
    "ax21 = ax11.twinx()\n",
    "l2MxT, = ax21.plot( MonIndexer, L2MaxT, linestyle='dashed', linewidth=2, color='xkcd:pale red',\n",
    "                    label=\"LOCA2 Max. Temp. 2031-2060\" )\n",
    "obsMxT, = ax21.plot( ObsCN.index, ObsCN[\"MaxT_C\"], linestyle='dotted', linewidth=2, color='xkcd:scarlet',\n",
    "                     label=\"Obs. Max. Temp. 1991-2020\" )\n",
    "l2MnT, = ax21.plot( MonIndexer, L2MinT, linestyle='dashed', linewidth=2, color='xkcd:pale orange',\n",
    "                    label=\"LOCA2 Min. Temp. 2031-2060\" )\n",
    "obsMnT, = ax21.plot( ObsCN.index, ObsCN[\"MinT_C\"], linestyle='dotted', linewidth=2, color='xkcd:pumpkin',\n",
    "                     label=\"Obs. Min. Temp. 1991-2020\" )\n",
    "ax21.set_yticks( tmpTicks )\n",
    "ax21.set_ylabel('Monthly Mean Temperature ($ ^{\\circ} C$)', fontsize=10, color='xkcd:burnt orange')\n",
    "ax21.spines[\"right\"].set_color('xkcd:burnt orange')\n",
    "#ax21.set_ylim( (tmpTicks[0], tmpTicks[len(tmpTicks)-1]) )\n",
    "ax21.set_ylim( (tmpTicks[0], 45.0) )\n",
    "ax21.tick_params(axis='y', which='major', labelsize=10, colors='xkcd:burnt orange')\n",
    "ax11.legend( ( l2Pre, obsPre, \n",
    "               l2MxT, obsMxT, \n",
    "               l2MnT, obsMnT, ), \n",
    "             ( \"LOCA2 Precip. 2031-2060\", \"Obs. Precip. 1991-2020\", \n",
    "               \"LOCA2 Max. Temp. 2031-2060\", \"Obs. Max. Temp. 1991-2020\", \n",
    "               \"LOCA2 Min. Temp. 2031-2060\", \"Obs. Min. Temp. 1991-2020\", ),\n",
    "             loc='upper center', fontsize=6, ncol=3 )\n",
    "ax11.grid(visible=True, which='major', axis='y' )\n",
    "ax21.yaxis.set_major_formatter( mpl.ticker.StrMethodFormatter( \"{x:,.0f}\" ) )\n",
    "Fig1.savefig( OutSVG, dpi=600.0 )\n",
    "Fig1.savefig( OutPNG, dpi=600.0 )\n",
    "Fig1.savefig( OutPDF, dpi=600.0 )"
   ]
  },
  {
   "cell_type": "markdown",
   "id": "c8064e5d-3c81-4c44-b845-b8b149c73305",
   "metadata": {},
   "source": [
    "### Cones of Uncertainty"
   ]
  },
  {
   "cell_type": "code",
   "execution_count": 26,
   "id": "84a35f6f-dfa9-43e9-ba23-5892ad603c31",
   "metadata": {},
   "outputs": [],
   "source": [
    "InFiler = os.path.normpath( os.path.join( IN_DIR4, \"Cones_of_Uncertainty_LOCA2_ssp585_2025to2065.xlsx\" ) )"
   ]
  },
  {
   "cell_type": "code",
   "execution_count": 27,
   "id": "7293c096-5843-4a4c-b3f6-d35638832145",
   "metadata": {},
   "outputs": [],
   "source": [
    "L2Pre = pd.read_excel( InFiler, sheet_name=\"%s_Pre_Stats\" % BasKey, header=0, index_col=0, parse_dates=True )\n",
    "L2Tmp = pd.read_excel( InFiler, sheet_name=\"%s_Temp_Stats\" % BasKey, header=0, index_col=0, parse_dates=True )"
   ]
  },
  {
   "cell_type": "code",
   "execution_count": 28,
   "id": "042b7ede-f6ad-453b-a7e9-e35335524608",
   "metadata": {},
   "outputs": [
    {
     "data": {
      "text/html": [
       "<table border=\"1\" class=\"dataframe\">\n",
       "  <thead>\n",
       "    <tr style=\"text-align: right;\">\n",
       "      <th></th>\n",
       "      <th>q0.00</th>\n",
       "      <th>q0.05</th>\n",
       "      <th>q0.10</th>\n",
       "      <th>q0.15</th>\n",
       "      <th>q0.20</th>\n",
       "      <th>q0.25</th>\n",
       "      <th>q0.30</th>\n",
       "      <th>q0.35</th>\n",
       "      <th>q0.40</th>\n",
       "      <th>q0.45</th>\n",
       "      <th>q0.50</th>\n",
       "      <th>q0.55</th>\n",
       "      <th>q0.60</th>\n",
       "      <th>q0.65</th>\n",
       "      <th>q0.70</th>\n",
       "      <th>q0.75</th>\n",
       "      <th>q0.80</th>\n",
       "      <th>q0.85</th>\n",
       "      <th>q0.90</th>\n",
       "      <th>q0.95</th>\n",
       "      <th>q1.00</th>\n",
       "      <th>Mean</th>\n",
       "      <th>StDev</th>\n",
       "    </tr>\n",
       "    <tr>\n",
       "      <th>DateTime</th>\n",
       "      <th></th>\n",
       "      <th></th>\n",
       "      <th></th>\n",
       "      <th></th>\n",
       "      <th></th>\n",
       "      <th></th>\n",
       "      <th></th>\n",
       "      <th></th>\n",
       "      <th></th>\n",
       "      <th></th>\n",
       "      <th></th>\n",
       "      <th></th>\n",
       "      <th></th>\n",
       "      <th></th>\n",
       "      <th></th>\n",
       "      <th></th>\n",
       "      <th></th>\n",
       "      <th></th>\n",
       "      <th></th>\n",
       "      <th></th>\n",
       "      <th></th>\n",
       "      <th></th>\n",
       "      <th></th>\n",
       "    </tr>\n",
       "  </thead>\n",
       "  <tbody>\n",
       "    <tr>\n",
       "      <th>2025-07-01</th>\n",
       "      <td>502.680450</td>\n",
       "      <td>508.465546</td>\n",
       "      <td>547.117493</td>\n",
       "      <td>578.638428</td>\n",
       "      <td>592.846008</td>\n",
       "      <td>606.242065</td>\n",
       "      <td>615.064880</td>\n",
       "      <td>631.075073</td>\n",
       "      <td>646.426025</td>\n",
       "      <td>654.047852</td>\n",
       "      <td>664.121460</td>\n",
       "      <td>680.291565</td>\n",
       "      <td>689.626160</td>\n",
       "      <td>706.205994</td>\n",
       "      <td>735.115540</td>\n",
       "      <td>741.228210</td>\n",
       "      <td>771.201050</td>\n",
       "      <td>817.451538</td>\n",
       "      <td>863.366638</td>\n",
       "      <td>950.866211</td>\n",
       "      <td>1019.907837</td>\n",
       "      <td>690.981384</td>\n",
       "      <td>133.574341</td>\n",
       "    </tr>\n",
       "    <tr>\n",
       "      <th>2026-07-01</th>\n",
       "      <td>302.051910</td>\n",
       "      <td>471.509155</td>\n",
       "      <td>480.910461</td>\n",
       "      <td>507.506256</td>\n",
       "      <td>562.846863</td>\n",
       "      <td>583.839355</td>\n",
       "      <td>597.934631</td>\n",
       "      <td>606.235352</td>\n",
       "      <td>653.698059</td>\n",
       "      <td>678.263428</td>\n",
       "      <td>691.195251</td>\n",
       "      <td>695.028992</td>\n",
       "      <td>702.111267</td>\n",
       "      <td>725.819397</td>\n",
       "      <td>781.841248</td>\n",
       "      <td>814.515320</td>\n",
       "      <td>842.782410</td>\n",
       "      <td>862.006653</td>\n",
       "      <td>878.825317</td>\n",
       "      <td>918.262390</td>\n",
       "      <td>924.701538</td>\n",
       "      <td>680.680725</td>\n",
       "      <td>162.412903</td>\n",
       "    </tr>\n",
       "    <tr>\n",
       "      <th>2027-07-01</th>\n",
       "      <td>357.514557</td>\n",
       "      <td>390.672974</td>\n",
       "      <td>442.555969</td>\n",
       "      <td>516.859192</td>\n",
       "      <td>529.110718</td>\n",
       "      <td>536.347412</td>\n",
       "      <td>565.090942</td>\n",
       "      <td>587.352905</td>\n",
       "      <td>632.408630</td>\n",
       "      <td>646.503601</td>\n",
       "      <td>680.265320</td>\n",
       "      <td>713.881226</td>\n",
       "      <td>716.479980</td>\n",
       "      <td>731.306946</td>\n",
       "      <td>760.680298</td>\n",
       "      <td>784.485718</td>\n",
       "      <td>819.209534</td>\n",
       "      <td>894.086365</td>\n",
       "      <td>1172.441406</td>\n",
       "      <td>1245.910278</td>\n",
       "      <td>1487.436035</td>\n",
       "      <td>722.612427</td>\n",
       "      <td>279.743317</td>\n",
       "    </tr>\n",
       "    <tr>\n",
       "      <th>2028-07-01</th>\n",
       "      <td>260.924530</td>\n",
       "      <td>457.280640</td>\n",
       "      <td>478.497253</td>\n",
       "      <td>505.845581</td>\n",
       "      <td>509.386536</td>\n",
       "      <td>528.875854</td>\n",
       "      <td>547.291199</td>\n",
       "      <td>584.482178</td>\n",
       "      <td>606.535156</td>\n",
       "      <td>614.405151</td>\n",
       "      <td>642.390198</td>\n",
       "      <td>711.960449</td>\n",
       "      <td>745.756531</td>\n",
       "      <td>777.867310</td>\n",
       "      <td>819.545959</td>\n",
       "      <td>825.290833</td>\n",
       "      <td>846.702209</td>\n",
       "      <td>867.327576</td>\n",
       "      <td>913.117859</td>\n",
       "      <td>1107.109009</td>\n",
       "      <td>1253.374634</td>\n",
       "      <td>695.086914</td>\n",
       "      <td>227.068359</td>\n",
       "    </tr>\n",
       "    <tr>\n",
       "      <th>2029-07-01</th>\n",
       "      <td>276.911560</td>\n",
       "      <td>450.816254</td>\n",
       "      <td>499.443451</td>\n",
       "      <td>514.603516</td>\n",
       "      <td>529.051392</td>\n",
       "      <td>541.489136</td>\n",
       "      <td>558.269897</td>\n",
       "      <td>578.706726</td>\n",
       "      <td>585.689819</td>\n",
       "      <td>593.334839</td>\n",
       "      <td>647.180603</td>\n",
       "      <td>659.484924</td>\n",
       "      <td>663.070312</td>\n",
       "      <td>672.332031</td>\n",
       "      <td>704.079651</td>\n",
       "      <td>737.784851</td>\n",
       "      <td>787.703186</td>\n",
       "      <td>878.350586</td>\n",
       "      <td>953.855774</td>\n",
       "      <td>1044.870483</td>\n",
       "      <td>1060.475586</td>\n",
       "      <td>663.722168</td>\n",
       "      <td>192.920044</td>\n",
       "    </tr>\n",
       "  </tbody>\n",
       "</table>"
      ],
      "text/plain": [
       "<IPython.core.display.HTML object>"
      ]
     },
     "metadata": {},
     "output_type": "display_data"
    }
   ],
   "source": [
    "display( HTML( L2Pre.head().to_html() ) )"
   ]
  },
  {
   "cell_type": "code",
   "execution_count": 29,
   "id": "54a59557-387b-4d5c-b830-c02ae78ed156",
   "metadata": {},
   "outputs": [
    {
     "data": {
      "text/html": [
       "<table border=\"1\" class=\"dataframe\">\n",
       "  <thead>\n",
       "    <tr style=\"text-align: right;\">\n",
       "      <th></th>\n",
       "      <th>q0.00</th>\n",
       "      <th>q0.05</th>\n",
       "      <th>q0.10</th>\n",
       "      <th>q0.15</th>\n",
       "      <th>q0.20</th>\n",
       "      <th>q0.25</th>\n",
       "      <th>q0.30</th>\n",
       "      <th>q0.35</th>\n",
       "      <th>q0.40</th>\n",
       "      <th>q0.45</th>\n",
       "      <th>q0.50</th>\n",
       "      <th>q0.55</th>\n",
       "      <th>q0.60</th>\n",
       "      <th>q0.65</th>\n",
       "      <th>q0.70</th>\n",
       "      <th>q0.75</th>\n",
       "      <th>q0.80</th>\n",
       "      <th>q0.85</th>\n",
       "      <th>q0.90</th>\n",
       "      <th>q0.95</th>\n",
       "      <th>q1.00</th>\n",
       "      <th>Mean</th>\n",
       "      <th>StDev</th>\n",
       "    </tr>\n",
       "    <tr>\n",
       "      <th>DateTime</th>\n",
       "      <th></th>\n",
       "      <th></th>\n",
       "      <th></th>\n",
       "      <th></th>\n",
       "      <th></th>\n",
       "      <th></th>\n",
       "      <th></th>\n",
       "      <th></th>\n",
       "      <th></th>\n",
       "      <th></th>\n",
       "      <th></th>\n",
       "      <th></th>\n",
       "      <th></th>\n",
       "      <th></th>\n",
       "      <th></th>\n",
       "      <th></th>\n",
       "      <th></th>\n",
       "      <th></th>\n",
       "      <th></th>\n",
       "      <th></th>\n",
       "      <th></th>\n",
       "      <th></th>\n",
       "      <th></th>\n",
       "    </tr>\n",
       "  </thead>\n",
       "  <tbody>\n",
       "    <tr>\n",
       "      <th>2061-07-01</th>\n",
       "      <td>21.390886</td>\n",
       "      <td>21.471058</td>\n",
       "      <td>22.006718</td>\n",
       "      <td>22.254269</td>\n",
       "      <td>22.444284</td>\n",
       "      <td>22.533409</td>\n",
       "      <td>22.601299</td>\n",
       "      <td>22.748007</td>\n",
       "      <td>22.860220</td>\n",
       "      <td>22.975527</td>\n",
       "      <td>23.005838</td>\n",
       "      <td>23.186102</td>\n",
       "      <td>23.189507</td>\n",
       "      <td>23.273264</td>\n",
       "      <td>23.452761</td>\n",
       "      <td>23.466969</td>\n",
       "      <td>23.702345</td>\n",
       "      <td>23.923195</td>\n",
       "      <td>24.061928</td>\n",
       "      <td>24.201693</td>\n",
       "      <td>24.965263</td>\n",
       "      <td>23.032770</td>\n",
       "      <td>0.871294</td>\n",
       "    </tr>\n",
       "    <tr>\n",
       "      <th>2062-07-01</th>\n",
       "      <td>21.503027</td>\n",
       "      <td>21.861893</td>\n",
       "      <td>21.949995</td>\n",
       "      <td>21.971025</td>\n",
       "      <td>22.027964</td>\n",
       "      <td>22.256351</td>\n",
       "      <td>22.586906</td>\n",
       "      <td>22.702719</td>\n",
       "      <td>22.725052</td>\n",
       "      <td>22.920843</td>\n",
       "      <td>23.081228</td>\n",
       "      <td>23.152220</td>\n",
       "      <td>23.222612</td>\n",
       "      <td>23.285858</td>\n",
       "      <td>23.334747</td>\n",
       "      <td>23.360516</td>\n",
       "      <td>23.382072</td>\n",
       "      <td>23.501078</td>\n",
       "      <td>23.612707</td>\n",
       "      <td>23.957983</td>\n",
       "      <td>24.209906</td>\n",
       "      <td>22.885374</td>\n",
       "      <td>0.729325</td>\n",
       "    </tr>\n",
       "    <tr>\n",
       "      <th>2063-07-01</th>\n",
       "      <td>21.073677</td>\n",
       "      <td>21.312792</td>\n",
       "      <td>21.722048</td>\n",
       "      <td>21.961681</td>\n",
       "      <td>22.343664</td>\n",
       "      <td>22.402660</td>\n",
       "      <td>22.409611</td>\n",
       "      <td>22.474966</td>\n",
       "      <td>22.532276</td>\n",
       "      <td>22.922934</td>\n",
       "      <td>23.098068</td>\n",
       "      <td>23.167519</td>\n",
       "      <td>23.200605</td>\n",
       "      <td>23.267523</td>\n",
       "      <td>23.320696</td>\n",
       "      <td>23.441265</td>\n",
       "      <td>23.605259</td>\n",
       "      <td>23.888996</td>\n",
       "      <td>24.061913</td>\n",
       "      <td>24.116898</td>\n",
       "      <td>24.836563</td>\n",
       "      <td>22.911152</td>\n",
       "      <td>0.940626</td>\n",
       "    </tr>\n",
       "    <tr>\n",
       "      <th>2064-07-01</th>\n",
       "      <td>21.158180</td>\n",
       "      <td>21.750528</td>\n",
       "      <td>21.881054</td>\n",
       "      <td>22.241669</td>\n",
       "      <td>22.383430</td>\n",
       "      <td>22.446663</td>\n",
       "      <td>22.512650</td>\n",
       "      <td>22.557579</td>\n",
       "      <td>22.620205</td>\n",
       "      <td>22.698647</td>\n",
       "      <td>22.774202</td>\n",
       "      <td>22.822002</td>\n",
       "      <td>22.933275</td>\n",
       "      <td>22.964834</td>\n",
       "      <td>23.198357</td>\n",
       "      <td>23.572796</td>\n",
       "      <td>23.782492</td>\n",
       "      <td>23.994644</td>\n",
       "      <td>24.218117</td>\n",
       "      <td>24.347332</td>\n",
       "      <td>24.526669</td>\n",
       "      <td>22.924610</td>\n",
       "      <td>0.877525</td>\n",
       "    </tr>\n",
       "    <tr>\n",
       "      <th>2065-07-01</th>\n",
       "      <td>21.433146</td>\n",
       "      <td>21.813623</td>\n",
       "      <td>22.188700</td>\n",
       "      <td>22.341934</td>\n",
       "      <td>22.769941</td>\n",
       "      <td>22.936956</td>\n",
       "      <td>23.007805</td>\n",
       "      <td>23.050192</td>\n",
       "      <td>23.123060</td>\n",
       "      <td>23.257582</td>\n",
       "      <td>23.382545</td>\n",
       "      <td>23.545721</td>\n",
       "      <td>23.604322</td>\n",
       "      <td>23.658125</td>\n",
       "      <td>23.676083</td>\n",
       "      <td>23.777447</td>\n",
       "      <td>24.016403</td>\n",
       "      <td>24.131710</td>\n",
       "      <td>24.223347</td>\n",
       "      <td>24.382973</td>\n",
       "      <td>24.562773</td>\n",
       "      <td>23.282442</td>\n",
       "      <td>0.826264</td>\n",
       "    </tr>\n",
       "  </tbody>\n",
       "</table>"
      ],
      "text/plain": [
       "<IPython.core.display.HTML object>"
      ]
     },
     "metadata": {},
     "output_type": "display_data"
    }
   ],
   "source": [
    "display( HTML( L2Tmp.tail().to_html() ) )"
   ]
  },
  {
   "cell_type": "code",
   "execution_count": 30,
   "id": "954d03e6-a277-4e7d-837e-571b4f2b76ec",
   "metadata": {},
   "outputs": [],
   "source": [
    "InFiler = os.path.normpath( os.path.join( IN_DIR3, \"FBas_MetTS_1980through2022_Dict.pkl\" ) )\n",
    "with open( InFiler, 'rb' )  as IF:\n",
    "    ObsMetTSDict = pickle.load( IF )\n",
    "# end with\n",
    "ObsTS = ObsMetTSDict[BasKey]"
   ]
  },
  {
   "cell_type": "code",
   "execution_count": 31,
   "id": "80f24687-fe8b-4bd7-bff4-8929e883719e",
   "metadata": {},
   "outputs": [
    {
     "data": {
      "text/html": [
       "<table border=\"1\" class=\"dataframe\">\n",
       "  <thead>\n",
       "    <tr style=\"text-align: right;\">\n",
       "      <th></th>\n",
       "      <th>Pre_mm</th>\n",
       "      <th>MaxT_C</th>\n",
       "      <th>MinT_C</th>\n",
       "      <th>AveT_C</th>\n",
       "      <th>ETo_mm</th>\n",
       "      <th>Def_mm</th>\n",
       "    </tr>\n",
       "  </thead>\n",
       "  <tbody>\n",
       "    <tr>\n",
       "      <th>1980-01-01</th>\n",
       "      <td>0.0</td>\n",
       "      <td>17.210241</td>\n",
       "      <td>-2.786118</td>\n",
       "      <td>7.212062</td>\n",
       "      <td>1.780014</td>\n",
       "      <td>-1.780014</td>\n",
       "    </tr>\n",
       "    <tr>\n",
       "      <th>1980-01-02</th>\n",
       "      <td>0.0</td>\n",
       "      <td>18.075875</td>\n",
       "      <td>0.884738</td>\n",
       "      <td>9.480307</td>\n",
       "      <td>1.946088</td>\n",
       "      <td>-1.946088</td>\n",
       "    </tr>\n",
       "    <tr>\n",
       "      <th>1980-01-03</th>\n",
       "      <td>0.0</td>\n",
       "      <td>14.485908</td>\n",
       "      <td>2.471285</td>\n",
       "      <td>8.478596</td>\n",
       "      <td>1.879541</td>\n",
       "      <td>-1.879541</td>\n",
       "    </tr>\n",
       "    <tr>\n",
       "      <th>1980-01-04</th>\n",
       "      <td>0.0</td>\n",
       "      <td>15.662555</td>\n",
       "      <td>-2.971982</td>\n",
       "      <td>6.345286</td>\n",
       "      <td>1.731770</td>\n",
       "      <td>-1.731770</td>\n",
       "    </tr>\n",
       "    <tr>\n",
       "      <th>1980-01-05</th>\n",
       "      <td>0.0</td>\n",
       "      <td>18.334945</td>\n",
       "      <td>-1.406646</td>\n",
       "      <td>8.464149</td>\n",
       "      <td>1.889346</td>\n",
       "      <td>-1.889346</td>\n",
       "    </tr>\n",
       "  </tbody>\n",
       "</table>"
      ],
      "text/plain": [
       "<IPython.core.display.HTML object>"
      ]
     },
     "metadata": {},
     "output_type": "display_data"
    }
   ],
   "source": [
    "display( HTML( ObsTS.head().to_html() ) )"
   ]
  },
  {
   "cell_type": "code",
   "execution_count": 32,
   "id": "e770557b-2730-4eaa-8cd9-d5731c235b1c",
   "metadata": {},
   "outputs": [
    {
     "data": {
      "text/html": [
       "<table border=\"1\" class=\"dataframe\">\n",
       "  <thead>\n",
       "    <tr style=\"text-align: right;\">\n",
       "      <th></th>\n",
       "      <th>Pre_mm</th>\n",
       "      <th>MaxT_C</th>\n",
       "      <th>MinT_C</th>\n",
       "      <th>AveT_C</th>\n",
       "      <th>ETo_mm</th>\n",
       "      <th>Def_mm</th>\n",
       "    </tr>\n",
       "  </thead>\n",
       "  <tbody>\n",
       "    <tr>\n",
       "      <th>2022-12-27</th>\n",
       "      <td>0.000000</td>\n",
       "      <td>17.293683</td>\n",
       "      <td>-3.491563</td>\n",
       "      <td>6.901060</td>\n",
       "      <td>1.625996</td>\n",
       "      <td>-1.625996</td>\n",
       "    </tr>\n",
       "    <tr>\n",
       "      <th>2022-12-28</th>\n",
       "      <td>0.000000</td>\n",
       "      <td>23.094785</td>\n",
       "      <td>0.425724</td>\n",
       "      <td>11.760255</td>\n",
       "      <td>1.948373</td>\n",
       "      <td>-1.948373</td>\n",
       "    </tr>\n",
       "    <tr>\n",
       "      <th>2022-12-29</th>\n",
       "      <td>0.000000</td>\n",
       "      <td>21.290023</td>\n",
       "      <td>7.363784</td>\n",
       "      <td>14.326904</td>\n",
       "      <td>2.120935</td>\n",
       "      <td>-2.120935</td>\n",
       "    </tr>\n",
       "    <tr>\n",
       "      <th>2022-12-30</th>\n",
       "      <td>0.406542</td>\n",
       "      <td>19.376818</td>\n",
       "      <td>6.042651</td>\n",
       "      <td>12.709735</td>\n",
       "      <td>2.017561</td>\n",
       "      <td>-1.611019</td>\n",
       "    </tr>\n",
       "    <tr>\n",
       "      <th>2022-12-31</th>\n",
       "      <td>0.406542</td>\n",
       "      <td>19.376818</td>\n",
       "      <td>6.042651</td>\n",
       "      <td>12.709735</td>\n",
       "      <td>2.021597</td>\n",
       "      <td>-1.615055</td>\n",
       "    </tr>\n",
       "  </tbody>\n",
       "</table>"
      ],
      "text/plain": [
       "<IPython.core.display.HTML object>"
      ]
     },
     "metadata": {},
     "output_type": "display_data"
    }
   ],
   "source": [
    "display( HTML( ObsTS.tail().to_html() ) )"
   ]
  },
  {
   "cell_type": "code",
   "execution_count": 33,
   "id": "3995b3c5-a2b2-4931-b05d-1fd9210da987",
   "metadata": {},
   "outputs": [],
   "source": [
    "AnnObsPreDF = ObsTS[[\"Pre_mm\"]].resample( 'AS' ).sum()\n",
    "AnnObsTempDF = ObsTS[[\"AveT_C\"]].resample( 'AS' ).mean()"
   ]
  },
  {
   "cell_type": "code",
   "execution_count": 34,
   "id": "8d4017a9-ed34-4acd-a123-783a483cfde0",
   "metadata": {},
   "outputs": [],
   "source": [
    "NewTimeIndexer = [ pd.Timestamp( x, 7, 1, ) for x in range( 1980, 2023 ) ]"
   ]
  },
  {
   "cell_type": "code",
   "execution_count": 35,
   "id": "7035537e-3410-42d1-a1c6-21d01acb901c",
   "metadata": {},
   "outputs": [],
   "source": [
    "AnnObsPreDF[\"NewIndexer\"] = NewTimeIndexer\n",
    "AnnObsTempDF[\"NewIndexer\"] = NewTimeIndexer"
   ]
  },
  {
   "cell_type": "code",
   "execution_count": 36,
   "id": "fbab6384-5c24-4804-b457-a30506d994d4",
   "metadata": {},
   "outputs": [],
   "source": [
    "AnnObsPreDF.set_index( \"NewIndexer\", inplace=True )\n",
    "AnnObsTempDF.set_index( \"NewIndexer\", inplace=True )"
   ]
  },
  {
   "cell_type": "code",
   "execution_count": 37,
   "id": "37630e61-dc67-42c5-894b-cae71afbdcae",
   "metadata": {},
   "outputs": [],
   "source": [
    "AnnObsPreDF[\"10year\"] = AnnObsPreDF[\"Pre_mm\"].rolling(window=10,).mean()\n",
    "AnnObsTempDF[\"5year\"] = AnnObsTempDF[\"AveT_C\"].rolling(window=5,).mean()"
   ]
  },
  {
   "cell_type": "code",
   "execution_count": 38,
   "id": "f5a03f9c-3ff4-4131-b427-19b650199232",
   "metadata": {},
   "outputs": [
    {
     "data": {
      "text/html": [
       "<table border=\"1\" class=\"dataframe\">\n",
       "  <thead>\n",
       "    <tr style=\"text-align: right;\">\n",
       "      <th></th>\n",
       "      <th>Pre_mm</th>\n",
       "      <th>10year</th>\n",
       "    </tr>\n",
       "    <tr>\n",
       "      <th>NewIndexer</th>\n",
       "      <th></th>\n",
       "      <th></th>\n",
       "    </tr>\n",
       "  </thead>\n",
       "  <tbody>\n",
       "    <tr>\n",
       "      <th>1980-07-01</th>\n",
       "      <td>685.889224</td>\n",
       "      <td>NaN</td>\n",
       "    </tr>\n",
       "    <tr>\n",
       "      <th>1981-07-01</th>\n",
       "      <td>1028.678974</td>\n",
       "      <td>NaN</td>\n",
       "    </tr>\n",
       "    <tr>\n",
       "      <th>1982-07-01</th>\n",
       "      <td>543.018086</td>\n",
       "      <td>NaN</td>\n",
       "    </tr>\n",
       "    <tr>\n",
       "      <th>1983-07-01</th>\n",
       "      <td>685.422590</td>\n",
       "      <td>NaN</td>\n",
       "    </tr>\n",
       "    <tr>\n",
       "      <th>1984-07-01</th>\n",
       "      <td>646.152534</td>\n",
       "      <td>NaN</td>\n",
       "    </tr>\n",
       "  </tbody>\n",
       "</table>"
      ],
      "text/plain": [
       "<IPython.core.display.HTML object>"
      ]
     },
     "metadata": {},
     "output_type": "display_data"
    }
   ],
   "source": [
    "display( HTML( AnnObsPreDF.head().to_html() ) )"
   ]
  },
  {
   "cell_type": "code",
   "execution_count": 39,
   "id": "b108a37c-944c-4b12-94b3-19d4cb8a66bb",
   "metadata": {},
   "outputs": [
    {
     "data": {
      "text/html": [
       "<table border=\"1\" class=\"dataframe\">\n",
       "  <thead>\n",
       "    <tr style=\"text-align: right;\">\n",
       "      <th></th>\n",
       "      <th>AveT_C</th>\n",
       "      <th>5year</th>\n",
       "    </tr>\n",
       "    <tr>\n",
       "      <th>NewIndexer</th>\n",
       "      <th></th>\n",
       "      <th></th>\n",
       "    </tr>\n",
       "  </thead>\n",
       "  <tbody>\n",
       "    <tr>\n",
       "      <th>2018-07-01</th>\n",
       "      <td>18.645146</td>\n",
       "      <td>18.806590</td>\n",
       "    </tr>\n",
       "    <tr>\n",
       "      <th>2019-07-01</th>\n",
       "      <td>18.732455</td>\n",
       "      <td>18.869132</td>\n",
       "    </tr>\n",
       "    <tr>\n",
       "      <th>2020-07-01</th>\n",
       "      <td>19.236113</td>\n",
       "      <td>19.036908</td>\n",
       "    </tr>\n",
       "    <tr>\n",
       "      <th>2021-07-01</th>\n",
       "      <td>19.947655</td>\n",
       "      <td>19.195355</td>\n",
       "    </tr>\n",
       "    <tr>\n",
       "      <th>2022-07-01</th>\n",
       "      <td>20.173494</td>\n",
       "      <td>19.346973</td>\n",
       "    </tr>\n",
       "  </tbody>\n",
       "</table>"
      ],
      "text/plain": [
       "<IPython.core.display.HTML object>"
      ]
     },
     "metadata": {},
     "output_type": "display_data"
    }
   ],
   "source": [
    "display( HTML( AnnObsTempDF.tail().to_html() ) )"
   ]
  },
  {
   "cell_type": "markdown",
   "id": "19f0274b-84bc-4786-9324-9d897fd0b64f",
   "metadata": {},
   "source": [
    "Build the plot polygons for cones of uncertainty"
   ]
  },
  {
   "cell_type": "code",
   "execution_count": 40,
   "id": "ddefcf75-9dfa-471d-854f-c28a16b7b05e",
   "metadata": {},
   "outputs": [],
   "source": [
    "PQ5thList = L2Pre[\"q0.05\"].tolist()\n",
    "PQ25thList = L2Pre[\"q0.25\"].tolist()\n",
    "PQ75thList = L2Pre[\"q0.75\"].tolist()\n",
    "PQ95thList = L2Pre[\"q0.95\"].tolist()"
   ]
  },
  {
   "cell_type": "code",
   "execution_count": 41,
   "id": "ea335d48-ebb5-40f5-bba0-2fcbdde9dff5",
   "metadata": {},
   "outputs": [],
   "source": [
    "TQ5thList = L2Tmp[\"q0.05\"].tolist()\n",
    "TQ25thList = L2Tmp[\"q0.25\"].tolist()\n",
    "TQ75thList = L2Tmp[\"q0.75\"].tolist()\n",
    "TQ95thList = L2Tmp[\"q0.95\"].tolist()"
   ]
  },
  {
   "cell_type": "code",
   "execution_count": 42,
   "id": "924c42de-006d-40e7-b02e-9ae029467f1a",
   "metadata": {},
   "outputs": [],
   "source": [
    "# 5th - 95th Envelope\n",
    "PEnv5to95List = deepcopy( PQ5thList )\n",
    "Back95List = deepcopy( PQ95thList )\n",
    "Back95DTTL = Back95List[::-1]\n",
    "PEnv5to95List.extend( Back95DTTL )"
   ]
  },
  {
   "cell_type": "code",
   "execution_count": 43,
   "id": "93d236c7-364d-4aea-833d-8b6c8211c15c",
   "metadata": {},
   "outputs": [],
   "source": [
    "# 25th - 75th Envelope\n",
    "PEnv25to75List = deepcopy( PQ25thList )\n",
    "Back75List = deepcopy( PQ75thList )\n",
    "Back75DTTL = Back75List[::-1]\n",
    "PEnv25to75List.extend( Back75DTTL )"
   ]
  },
  {
   "cell_type": "code",
   "execution_count": 44,
   "id": "d99ee124-74c9-42d8-84de-97b1356045ff",
   "metadata": {},
   "outputs": [],
   "source": [
    "# 5th - 95th Envelope\n",
    "TEnv5to95List = deepcopy( TQ5thList )\n",
    "Back95List = deepcopy( TQ95thList )\n",
    "Back95DTTL = Back95List[::-1]\n",
    "TEnv5to95List.extend( Back95DTTL )"
   ]
  },
  {
   "cell_type": "code",
   "execution_count": 45,
   "id": "f5fa423f-1048-492b-9f67-d9c8023906de",
   "metadata": {},
   "outputs": [],
   "source": [
    "# 25th - 75th Envelope\n",
    "TEnv25to75List = deepcopy( TQ25thList )\n",
    "Back75List = deepcopy( TQ75thList )\n",
    "Back75DTTL = Back75List[::-1]\n",
    "TEnv25to75List.extend( Back75DTTL )"
   ]
  },
  {
   "cell_type": "markdown",
   "id": "be0803fd-4e9d-46f8-b5b9-cffd44d53e03",
   "metadata": {},
   "source": [
    "### Plots"
   ]
  },
  {
   "cell_type": "code",
   "execution_count": 46,
   "id": "71823f03-85ad-49df-955b-655af8f4d41d",
   "metadata": {},
   "outputs": [],
   "source": [
    "OutPDF = os.path.normpath( os.path.join( OUT_DIR, \"Plots\", \"%s_AveTmp_ConeUnc_obs2loca_2025to2065.pdf\" % BasKey ) ) \n",
    "OutSVG = os.path.normpath( os.path.join( OUT_DIR, \"Plots\", \"%s_AveTmp_ConeUnc_obs2loca_2025to2065.svg\" % BasKey ) )\n",
    "OutPNG = os.path.normpath( os.path.join( OUT_DIR, \"Plots\", \"%s_AveTmp_ConeUnc_obs2loca_2025to2065.png\" % BasKey ) )"
   ]
  },
  {
   "cell_type": "code",
   "execution_count": 47,
   "id": "5f529fb9-299c-49e8-817f-ad910cf24af3",
   "metadata": {},
   "outputs": [
    {
     "data": {
      "image/png": "[encoded data removed]",
      "text/plain": [
       "<Figure size 750x365 with 1 Axes>"
      ]
     },
     "metadata": {},
     "output_type": "display_data"
    }
   ],
   "source": [
    "Fig1 = plt.figure()\n",
    "Fig1.set_size_inches(7.5, 3.65)\n",
    "ax11 = Fig1.add_subplot(1,1,1)\n",
    "f5to95 = ax11.fill( DTTimeList, TEnv5to95List, color='xkcd:pale orange', alpha=0.50, \n",
    "                    label=\"LOCA2 $5^{th}$ to $95^{th}$ envelope\", zorder=5 )\n",
    "f25to75 = ax11.fill( DTTimeList, TEnv25to75List, color='xkcd:pumpkin', alpha=0.50, \n",
    "                     label=\"LOCA2 $25^{th}$ to $75^{th}$ envelope\", zorder=8 )\n",
    "med, = ax11.plot( L2Tmp.index, L2Tmp[\"q0.50\"].tolist(), color='xkcd:burnt orange',\n",
    "                  linestyle='-', linewidth=2.0, label=\"LOCA2 Median\", zorder=11 )\n",
    "ave, = ax11.plot( L2Tmp.index, L2Tmp[\"Mean\"].tolist(), color='xkcd:burnt sienna',\n",
    "                  linestyle='dashed', linewidth=2.0, label=\"LOCA2 Mean\", zorder=10 )\n",
    "obsA, = ax11.plot( AnnObsTempDF.index, AnnObsTempDF[\"AveT_C\"], linewidth=2.0, label=\"Observed\",\n",
    "                   color='xkcd:black', linestyle='-', zorder=15 )\n",
    "obsA10, = ax11.plot( AnnObsTempDF.index, AnnObsTempDF[\"5year\"], linewidth=3.0, label=\"5-year Average\",\n",
    "                   color='xkcd:medium grey', linestyle='dashed', zorder=13 )\n",
    "ax11.set_ylabel( r'Annual Average Temperature ($^{\\circ}C$)', fontsize=10)\n",
    "ax11.set_yticks( TempYVals )\n",
    "ax11.set_xticks( TSTicks )\n",
    "ax11.set_xticklabels( TSLabels )\n",
    "ax11.grid( visible=True, which='major', axis='y' )\n",
    "ax11.set_xlim( (pd.Timestamp(2010, 1, 1,), fillIndexer[len(fillIndexer)-1]) )\n",
    "ax11.set_ylim( (17, 27.5 ) )\n",
    "ax11.legend( loc='upper center', ncol=3, framealpha=1.0, fontsize=9)\n",
    "ax11.tick_params(axis='both', which='major', labelsize=9)\n",
    "ax11.yaxis.set_major_formatter( mpl.ticker.StrMethodFormatter( \"{x:,.0f}\" ) )\n",
    "Fig1.savefig( OutPDF, dpi=600.0 )\n",
    "Fig1.savefig( OutSVG, dpi=600.0 )\n",
    "Fig1.savefig( OutPNG, dpi=600.0 )"
   ]
  },
  {
   "cell_type": "code",
   "execution_count": 48,
   "id": "b0bf5b49-dc57-4d8a-bbab-162ae88d6d30",
   "metadata": {},
   "outputs": [],
   "source": [
    "OutPDF = os.path.normpath( os.path.join( OUT_DIR, \"Plots\", \"%s_PreDep_ConeUnc_obs2loca_2025to2065.pdf\" % BasKey ) ) \n",
    "OutSVG = os.path.normpath( os.path.join( OUT_DIR, \"Plots\", \"%s_PreDep_ConeUnc_obs2loca_2025to2065.svg\" % BasKey ) )\n",
    "OutPNG = os.path.normpath( os.path.join( OUT_DIR, \"Plots\", \"%s_PreDep_ConeUnc_obs2loca_2025to2065.png\" % BasKey ) )"
   ]
  },
  {
   "cell_type": "code",
   "execution_count": 49,
   "id": "28a9944a-4e72-4594-8f2a-0ac48fafdb52",
   "metadata": {},
   "outputs": [
    {
     "data": {
      "image/png": "[encoded data removed]",
      "text/plain": [
       "<Figure size 750x365 with 1 Axes>"
      ]
     },
     "metadata": {},
     "output_type": "display_data"
    }
   ],
   "source": [
    "Fig1 = plt.figure()\n",
    "Fig1.set_size_inches(7.5, 3.65)\n",
    "ax11 = Fig1.add_subplot(1,1,1)\n",
    "f5to95 = ax11.fill( DTTimeList, PEnv5to95List, color='xkcd:light grey blue', alpha=0.50, \n",
    "                    label=\"LOCA2 $5^{th}$ to $95^{th}$ envelope\", zorder=5 )\n",
    "f25to75 = ax11.fill( DTTimeList, PEnv25to75List, color='xkcd:steel blue', alpha=0.50, \n",
    "                     label=\"LOCA2 $25^{th}$ to $75^{th}$ envelope\", zorder=8 )\n",
    "med, = ax11.plot( L2Pre.index, L2Pre[\"q0.50\"].tolist(), color='xkcd:bright blue',\n",
    "                  linestyle='-', linewidth=2.0, label=\"LOCA2 Median\", zorder=11 )\n",
    "ave, = ax11.plot( L2Pre.index, L2Pre[\"Mean\"].tolist(), color='xkcd:cyan',\n",
    "                  linestyle='dashed', linewidth=2.0, label=\"LOCA2 Mean\", zorder=10 )\n",
    "obsA, = ax11.plot( AnnObsPreDF.index, AnnObsPreDF[\"Pre_mm\"], linewidth=2.0, label=\"Observed\",\n",
    "                   color='xkcd:black', linestyle='-', zorder=15 )\n",
    "obsA10, = ax11.plot( AnnObsPreDF.index, AnnObsPreDF[\"10year\"], linewidth=3.0, label=\"10-year Average\",\n",
    "                   color='xkcd:medium grey', linestyle='dashed', zorder=13 )\n",
    "ax11.set_ylabel( r'Annual Total Precipitation ($mm$)', fontsize=10)\n",
    "ax11.set_yticks( PreYVals )\n",
    "ax11.set_xticks( TSTicks )\n",
    "ax11.set_xticklabels( TSLabels )\n",
    "ax11.grid( visible=True, which='major', axis='y' )\n",
    "ax11.set_xlim( (pd.Timestamp(2010, 1, 1,), fillIndexer[len(fillIndexer)-1]) )\n",
    "ax11.set_ylim( (PreYVals[0], 2100) )\n",
    "ax11.legend( loc='upper center', ncol=3, framealpha=1.0, fontsize=9)\n",
    "ax11.tick_params(axis='both', which='major', labelsize=9)\n",
    "ax11.yaxis.set_major_formatter( mpl.ticker.StrMethodFormatter( \"{x:,.0f}\" ) )\n",
    "Fig1.savefig( OutPDF, dpi=600.0 )\n",
    "Fig1.savefig( OutSVG, dpi=600.0 )\n",
    "Fig1.savefig( OutPNG, dpi=600.0 )"
   ]
  },
  {
   "cell_type": "code",
   "execution_count": null,
   "id": "207c7471-5c59-4746-b619-6722697e8703",
   "metadata": {},
   "outputs": [],
   "source": []
  }
 ],
 "metadata": {
  "kernelspec": {
   "display_name": "Python 3 (ipykernel)",
   "language": "python",
   "name": "python3"
  },
  "language_info": {
   "codemirror_mode": {
    "name": "ipython",
    "version": 3
   },
   "file_extension": ".py",
   "mimetype": "text/x-python",
   "name": "python",
   "nbconvert_exporter": "python",
   "pygments_lexer": "ipython3",
   "version": "3.9.15"
  }
 },
 "nbformat": 4,
 "nbformat_minor": 5
}
