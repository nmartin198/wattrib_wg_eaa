{
 "cells": [
  {
   "cell_type": "markdown",
   "metadata": {},
   "source": [
    "# Weather Generator (WG) Cibolo Basin: SPI and SPEI Calculations"
   ]
  },
  {
   "cell_type": "markdown",
   "metadata": {},
   "source": [
    "This workbook calculates the 3-month Standardized Precipitation Index (SPI) and Standardized Precipitation Evapotranspiration Index (SPEI) for the Cibolo basin from 2031-2060 from the calibrated weather generator results. These probabilistic indices are then used on 1993-2022 observed values and compared to 1) SPEI and SPI calculated from 1981-2010 and 2) SPEI and SPI calculated from LOCA2 2031-2060.\n",
    "\n",
    "These two 'standardized' indices are calculated by:\n",
    "\n",
    "1. Fitting a probability distribution to the data set\n",
    "2. Determining a probability value for each value in the data set\n",
    "3. Transforming this probability to an equivalent ZScore from the standard normal distribution.\n",
    "    * The ZScore value provides the index value\n",
    "\n",
    "The SPI is calculated from monthly total precipitation. The monthly totals are aggregated to 3-, 6-, and 12-month rolling windows to create the data set value generates the SPI.\n",
    "* Pearson Type III (or 3 parameter Gamma) distribution is used for SPI\n",
    "\n",
    "The SPEI uses the total monthly deficit and aggregated monthly deficits using 3-, 6-, and 12-month rolling windows to create the data set values for the SPEI.\n",
    "* Log-logistic distribution (3 parameter) is used for SPEI\n",
    "\n",
    "The deficit ($D$) is:"
   ]
  },
  {
   "cell_type": "markdown",
   "metadata": {},
   "source": [
    "\\begin{equation*}\n",
    "    D_{i} = P_{i} - PET_{i}\n",
    "\\end{equation*}"
   ]
  },
  {
   "cell_type": "markdown",
   "metadata": {},
   "source": [
    "## Imports and Parameters"
   ]
  },
  {
   "cell_type": "code",
   "execution_count": 1,
   "metadata": {},
   "outputs": [],
   "source": [
    "%matplotlib inline"
   ]
  },
  {
   "cell_type": "code",
   "execution_count": 2,
   "metadata": {},
   "outputs": [],
   "source": [
    "import os\n",
    "from IPython.display import display, HTML\n",
    "import pandas as pd\n",
    "import numpy as np\n",
    "import matplotlib as mpl\n",
    "import matplotlib.pyplot as plt\n",
    "import matplotlib.transforms as mtransforms\n",
    "from scipy import stats as sstats\n",
    "from math import exp\n",
    "import datetime as dt\n",
    "import seaborn as sns\n",
    "import pickle\n",
    "from copy import deepcopy"
   ]
  },
  {
   "cell_type": "code",
   "execution_count": 3,
   "metadata": {},
   "outputs": [],
   "source": [
    "BasKey = \"Cibolo\""
   ]
  },
  {
   "cell_type": "code",
   "execution_count": 4,
   "metadata": {},
   "outputs": [],
   "source": [
    "NumReal = 1000"
   ]
  },
  {
   "cell_type": "code",
   "execution_count": 5,
   "metadata": {},
   "outputs": [],
   "source": [
    "plt.rcParams['svg.fonttype'] = 'none'"
   ]
  },
  {
   "cell_type": "code",
   "execution_count": 6,
   "metadata": {},
   "outputs": [],
   "source": [
    "IN_DIR1 = r'C:\\Users\\nmartin\\Documents\\EAA_Drought_Future_Weather\\NumModels\\Final\\%s\\Results\\Simulated' % BasKey\n",
    "IN_DIR2 = r'C:\\Users\\nmartin\\Documents\\EAA_HCP\\Data\\SwRI_Processed\\LOCA2\\SPEI'\n",
    "IN_DIR3 = r'C:\\Users\\nmartin\\Documents\\EAA_HCP\\Data\\SwRI_Processed\\Processed_Historical\\SPEI'\n",
    "OUT_DIR = r'C:\\Users\\nmartin\\Documents\\EAA_Drought_Future_Weather\\NumModels\\Final\\%s\\Results\\Processed' % BasKey"
   ]
  },
  {
   "cell_type": "code",
   "execution_count": 7,
   "metadata": {},
   "outputs": [],
   "source": [
    "ProjFileRoot = \"%s_R%d_DF.pickle\"\n",
    "MonIndexer = [ x for x in range(1,13,1)]"
   ]
  },
  {
   "cell_type": "code",
   "execution_count": 8,
   "metadata": {},
   "outputs": [],
   "source": [
    "# our standard normal or ZScore parameters\n",
    "ZMu = 0.0\n",
    "ZStd = 1.0"
   ]
  },
  {
   "cell_type": "markdown",
   "metadata": {},
   "source": [
    "Lambdas"
   ]
  },
  {
   "cell_type": "code",
   "execution_count": 9,
   "metadata": {},
   "outputs": [],
   "source": [
    "# lambdas\n",
    "ConvCFStoM3D = lambda cfs: ( cfs * ( ( 24.0 * 60.0 * 60.0 ) / 1.0 ) ) * ( pow(1.0, 3.0) / pow( 3.280839895, 3.0 ) )\n",
    "setYrMo = lambda yr, mo: ( int(yr) * 100 ) + int(mo)\n",
    "calcYr = lambda indx: int( indx / 100 )\n",
    "calcMo = lambda indx, yr: int( indx - ( yr * 100 ) )"
   ]
  },
  {
   "cell_type": "markdown",
   "metadata": {},
   "source": [
    "## Load the LOCA2 Result which Include Historical results"
   ]
  },
  {
   "cell_type": "markdown",
   "metadata": {},
   "source": [
    "These are the 1993-2021 cumulative values for each month and the historical SPEI or SPI and the LOCA2 SPEI or SPI"
   ]
  },
  {
   "cell_type": "markdown",
   "metadata": {},
   "source": [
    "### SPEI"
   ]
  },
  {
   "cell_type": "code",
   "execution_count": 10,
   "metadata": {},
   "outputs": [],
   "source": [
    "InFiler = os.path.normpath( os.path.join( IN_DIR2, BasKey, \"%s_SPEI.xlsx\" % BasKey ) )"
   ]
  },
  {
   "cell_type": "code",
   "execution_count": 11,
   "metadata": {},
   "outputs": [],
   "source": [
    "CD3moObsDF = pd.read_excel( InFiler, sheet_name=\"SPEI_3mo\", header=0, index_col=0, parse_dates=True )"
   ]
  },
  {
   "cell_type": "code",
   "execution_count": 12,
   "metadata": {},
   "outputs": [],
   "source": [
    "CD3moObsDF[\"Month\"] = CD3moObsDF.index.month"
   ]
  },
  {
   "cell_type": "code",
   "execution_count": 13,
   "metadata": {},
   "outputs": [],
   "source": [
    "CD3moObsDF = CD3moObsDF.loc[pd.Timestamp( 1993, 1, 1, 0):pd.Timestamp(2022, 12, 31, 23, 59, )].copy()"
   ]
  },
  {
   "cell_type": "code",
   "execution_count": 14,
   "metadata": {},
   "outputs": [
    {
     "data": {
      "text/html": [
       "<table border=\"1\" class=\"dataframe\">\n",
       "  <thead>\n",
       "    <tr style=\"text-align: right;\">\n",
       "      <th></th>\n",
       "      <th>CumDef</th>\n",
       "      <th>CumProb (2031-2060)</th>\n",
       "      <th>LOCA2 SPEI (2031-2060)</th>\n",
       "      <th>CumProb (1981-2010)</th>\n",
       "      <th>SPEI (1981-2010)</th>\n",
       "      <th>Month</th>\n",
       "    </tr>\n",
       "    <tr>\n",
       "      <th>DateTime</th>\n",
       "      <th></th>\n",
       "      <th></th>\n",
       "      <th></th>\n",
       "      <th></th>\n",
       "      <th></th>\n",
       "      <th></th>\n",
       "    </tr>\n",
       "  </thead>\n",
       "  <tbody>\n",
       "    <tr>\n",
       "      <th>1993-01-01</th>\n",
       "      <td>62.625660</td>\n",
       "      <td>0.961365</td>\n",
       "      <td>1.766751</td>\n",
       "      <td>0.772983</td>\n",
       "      <td>0.748706</td>\n",
       "      <td>1</td>\n",
       "    </tr>\n",
       "    <tr>\n",
       "      <th>1993-02-01</th>\n",
       "      <td>23.665514</td>\n",
       "      <td>0.936179</td>\n",
       "      <td>1.523466</td>\n",
       "      <td>0.738263</td>\n",
       "      <td>0.637998</td>\n",
       "      <td>2</td>\n",
       "    </tr>\n",
       "    <tr>\n",
       "      <th>1993-03-01</th>\n",
       "      <td>-51.500134</td>\n",
       "      <td>0.869500</td>\n",
       "      <td>1.124030</td>\n",
       "      <td>0.629925</td>\n",
       "      <td>0.331654</td>\n",
       "      <td>3</td>\n",
       "    </tr>\n",
       "    <tr>\n",
       "      <th>1993-04-01</th>\n",
       "      <td>-112.074654</td>\n",
       "      <td>0.849103</td>\n",
       "      <td>1.032593</td>\n",
       "      <td>0.678450</td>\n",
       "      <td>0.463370</td>\n",
       "      <td>4</td>\n",
       "    </tr>\n",
       "    <tr>\n",
       "      <th>1993-05-01</th>\n",
       "      <td>-101.480698</td>\n",
       "      <td>0.883582</td>\n",
       "      <td>1.193087</td>\n",
       "      <td>0.778926</td>\n",
       "      <td>0.768573</td>\n",
       "      <td>5</td>\n",
       "    </tr>\n",
       "  </tbody>\n",
       "</table>"
      ],
      "text/plain": [
       "<IPython.core.display.HTML object>"
      ]
     },
     "metadata": {},
     "output_type": "display_data"
    }
   ],
   "source": [
    "display( HTML( CD3moObsDF.head().to_html() ) )"
   ]
  },
  {
   "cell_type": "code",
   "execution_count": 15,
   "metadata": {},
   "outputs": [
    {
     "data": {
      "text/html": [
       "<table border=\"1\" class=\"dataframe\">\n",
       "  <thead>\n",
       "    <tr style=\"text-align: right;\">\n",
       "      <th></th>\n",
       "      <th>CumDef</th>\n",
       "      <th>CumProb (2031-2060)</th>\n",
       "      <th>LOCA2 SPEI (2031-2060)</th>\n",
       "      <th>CumProb (1981-2010)</th>\n",
       "      <th>SPEI (1981-2010)</th>\n",
       "      <th>Month</th>\n",
       "    </tr>\n",
       "    <tr>\n",
       "      <th>DateTime</th>\n",
       "      <th></th>\n",
       "      <th></th>\n",
       "      <th></th>\n",
       "      <th></th>\n",
       "      <th></th>\n",
       "      <th></th>\n",
       "    </tr>\n",
       "  </thead>\n",
       "  <tbody>\n",
       "    <tr>\n",
       "      <th>2022-08-01</th>\n",
       "      <td>-431.528687</td>\n",
       "      <td>0.532929</td>\n",
       "      <td>0.082636</td>\n",
       "      <td>0.219653</td>\n",
       "      <td>-0.773365</td>\n",
       "      <td>8</td>\n",
       "    </tr>\n",
       "    <tr>\n",
       "      <th>2022-09-01</th>\n",
       "      <td>-357.642975</td>\n",
       "      <td>0.544856</td>\n",
       "      <td>0.112675</td>\n",
       "      <td>0.473337</td>\n",
       "      <td>-0.066885</td>\n",
       "      <td>9</td>\n",
       "    </tr>\n",
       "    <tr>\n",
       "      <th>2022-10-01</th>\n",
       "      <td>-226.744156</td>\n",
       "      <td>0.617331</td>\n",
       "      <td>0.298479</td>\n",
       "      <td>0.492387</td>\n",
       "      <td>-0.019083</td>\n",
       "      <td>10</td>\n",
       "    </tr>\n",
       "    <tr>\n",
       "      <th>2022-11-01</th>\n",
       "      <td>-196.665207</td>\n",
       "      <td>0.316584</td>\n",
       "      <td>-0.477272</td>\n",
       "      <td>0.225415</td>\n",
       "      <td>-0.754033</td>\n",
       "      <td>11</td>\n",
       "    </tr>\n",
       "    <tr>\n",
       "      <th>2022-12-01</th>\n",
       "      <td>-118.184311</td>\n",
       "      <td>0.508359</td>\n",
       "      <td>0.020955</td>\n",
       "      <td>0.266515</td>\n",
       "      <td>-0.623388</td>\n",
       "      <td>12</td>\n",
       "    </tr>\n",
       "  </tbody>\n",
       "</table>"
      ],
      "text/plain": [
       "<IPython.core.display.HTML object>"
      ]
     },
     "metadata": {},
     "output_type": "display_data"
    }
   ],
   "source": [
    "display( HTML( CD3moObsDF.tail().to_html() ) )"
   ]
  },
  {
   "cell_type": "markdown",
   "metadata": {},
   "source": [
    "### SPI"
   ]
  },
  {
   "cell_type": "code",
   "execution_count": 16,
   "metadata": {},
   "outputs": [],
   "source": [
    "InFiler = os.path.normpath( os.path.join( IN_DIR2, BasKey, \"%s_SPI.xlsx\" % BasKey ) )"
   ]
  },
  {
   "cell_type": "code",
   "execution_count": 17,
   "metadata": {},
   "outputs": [],
   "source": [
    "CP3moObsDF = pd.read_excel( InFiler, sheet_name=\"SPI_3mo\", header=0, index_col=0, parse_dates=True )"
   ]
  },
  {
   "cell_type": "code",
   "execution_count": 18,
   "metadata": {},
   "outputs": [],
   "source": [
    "CP3moObsDF[\"Month\"] = CP3moObsDF.index.month"
   ]
  },
  {
   "cell_type": "code",
   "execution_count": 19,
   "metadata": {},
   "outputs": [],
   "source": [
    "CP3moObsDF = CP3moObsDF.loc[pd.Timestamp( 1993, 1, 1, 0):pd.Timestamp(2022, 12, 31, 23, 59, )].copy()"
   ]
  },
  {
   "cell_type": "code",
   "execution_count": 20,
   "metadata": {},
   "outputs": [
    {
     "data": {
      "text/html": [
       "<table border=\"1\" class=\"dataframe\">\n",
       "  <thead>\n",
       "    <tr style=\"text-align: right;\">\n",
       "      <th></th>\n",
       "      <th>CumPre</th>\n",
       "      <th>CumProb (2031-2060)</th>\n",
       "      <th>LOCA2 SPI (2031-2060)</th>\n",
       "      <th>CumProb (1981-2010)</th>\n",
       "      <th>SPI (1981-2010)</th>\n",
       "      <th>Month</th>\n",
       "    </tr>\n",
       "    <tr>\n",
       "      <th>DateTime</th>\n",
       "      <th></th>\n",
       "      <th></th>\n",
       "      <th></th>\n",
       "      <th></th>\n",
       "      <th></th>\n",
       "      <th></th>\n",
       "    </tr>\n",
       "  </thead>\n",
       "  <tbody>\n",
       "    <tr>\n",
       "      <th>1993-01-01</th>\n",
       "      <td>248.580658</td>\n",
       "      <td>0.952331</td>\n",
       "      <td>1.667892</td>\n",
       "      <td>0.761426</td>\n",
       "      <td>0.710898</td>\n",
       "      <td>1</td>\n",
       "    </tr>\n",
       "    <tr>\n",
       "      <th>1993-02-01</th>\n",
       "      <td>210.578949</td>\n",
       "      <td>0.915747</td>\n",
       "      <td>1.377021</td>\n",
       "      <td>0.716525</td>\n",
       "      <td>0.572549</td>\n",
       "      <td>2</td>\n",
       "    </tr>\n",
       "    <tr>\n",
       "      <th>1993-03-01</th>\n",
       "      <td>187.131744</td>\n",
       "      <td>0.809757</td>\n",
       "      <td>0.877002</td>\n",
       "      <td>0.612669</td>\n",
       "      <td>0.286281</td>\n",
       "      <td>3</td>\n",
       "    </tr>\n",
       "    <tr>\n",
       "      <th>1993-04-01</th>\n",
       "      <td>206.357483</td>\n",
       "      <td>0.773941</td>\n",
       "      <td>0.751888</td>\n",
       "      <td>0.654097</td>\n",
       "      <td>0.396406</td>\n",
       "      <td>4</td>\n",
       "    </tr>\n",
       "    <tr>\n",
       "      <th>1993-05-01</th>\n",
       "      <td>311.267181</td>\n",
       "      <td>0.837510</td>\n",
       "      <td>0.984277</td>\n",
       "      <td>0.778248</td>\n",
       "      <td>0.766291</td>\n",
       "      <td>5</td>\n",
       "    </tr>\n",
       "  </tbody>\n",
       "</table>"
      ],
      "text/plain": [
       "<IPython.core.display.HTML object>"
      ]
     },
     "metadata": {},
     "output_type": "display_data"
    }
   ],
   "source": [
    "display( HTML( CP3moObsDF.head().to_html() ) ) "
   ]
  },
  {
   "cell_type": "code",
   "execution_count": 21,
   "metadata": {},
   "outputs": [
    {
     "data": {
      "text/html": [
       "<table border=\"1\" class=\"dataframe\">\n",
       "  <thead>\n",
       "    <tr style=\"text-align: right;\">\n",
       "      <th></th>\n",
       "      <th>CumPre</th>\n",
       "      <th>CumProb (2031-2060)</th>\n",
       "      <th>LOCA2 SPI (2031-2060)</th>\n",
       "      <th>CumProb (1981-2010)</th>\n",
       "      <th>SPI (1981-2010)</th>\n",
       "      <th>Month</th>\n",
       "    </tr>\n",
       "    <tr>\n",
       "      <th>DateTime</th>\n",
       "      <th></th>\n",
       "      <th></th>\n",
       "      <th></th>\n",
       "      <th></th>\n",
       "      <th></th>\n",
       "      <th></th>\n",
       "    </tr>\n",
       "  </thead>\n",
       "  <tbody>\n",
       "    <tr>\n",
       "      <th>2022-08-01</th>\n",
       "      <td>172.630402</td>\n",
       "      <td>0.554605</td>\n",
       "      <td>0.137305</td>\n",
       "      <td>0.402054</td>\n",
       "      <td>-0.248034</td>\n",
       "      <td>8</td>\n",
       "    </tr>\n",
       "    <tr>\n",
       "      <th>2022-09-01</th>\n",
       "      <td>187.399155</td>\n",
       "      <td>0.508348</td>\n",
       "      <td>0.020926</td>\n",
       "      <td>0.563500</td>\n",
       "      <td>0.159850</td>\n",
       "      <td>9</td>\n",
       "    </tr>\n",
       "    <tr>\n",
       "      <th>2022-10-01</th>\n",
       "      <td>220.271225</td>\n",
       "      <td>0.539550</td>\n",
       "      <td>0.099301</td>\n",
       "      <td>0.482066</td>\n",
       "      <td>-0.044968</td>\n",
       "      <td>10</td>\n",
       "    </tr>\n",
       "    <tr>\n",
       "      <th>2022-11-01</th>\n",
       "      <td>141.208359</td>\n",
       "      <td>0.253475</td>\n",
       "      <td>-0.663593</td>\n",
       "      <td>0.236472</td>\n",
       "      <td>-0.717697</td>\n",
       "      <td>11</td>\n",
       "    </tr>\n",
       "    <tr>\n",
       "      <th>2022-12-01</th>\n",
       "      <td>128.207840</td>\n",
       "      <td>0.405953</td>\n",
       "      <td>-0.237968</td>\n",
       "      <td>0.338404</td>\n",
       "      <td>-0.416823</td>\n",
       "      <td>12</td>\n",
       "    </tr>\n",
       "  </tbody>\n",
       "</table>"
      ],
      "text/plain": [
       "<IPython.core.display.HTML object>"
      ]
     },
     "metadata": {},
     "output_type": "display_data"
    }
   ],
   "source": [
    "display( HTML( CP3moObsDF.tail().to_html() ) )"
   ]
  },
  {
   "cell_type": "markdown",
   "metadata": {},
   "source": [
    "## Load the Weather Generator Projected Future Data and Aggregate to 3-month Windows"
   ]
  },
  {
   "cell_type": "markdown",
   "metadata": {},
   "source": [
    "Load all realizations to focused DataFrames of the needed quantities and store in a dictionary by realization."
   ]
  },
  {
   "cell_type": "code",
   "execution_count": 22,
   "metadata": {},
   "outputs": [],
   "source": [
    "ModPreDict = dict()\n",
    "ModDefDict = dict()"
   ]
  },
  {
   "cell_type": "code",
   "execution_count": 23,
   "metadata": {},
   "outputs": [],
   "source": [
    "for curReal in range(1, NumReal+1):\n",
    "    InFiler = os.path.normpath( os.path.join( IN_DIR1, ProjFileRoot % (BasKey, curReal) ) )\n",
    "    curDF = pd.read_pickle( InFiler, compression='zip' )\n",
    "    curPre = curDF[[\"Precip_mm\"]].copy()\n",
    "    curDef = curDF[[\"Def_mm\"]].copy()\n",
    "    curMonPreDF = curPre.resample('MS').sum()\n",
    "    curMonDefDF = curDef.resample('MS').sum()\n",
    "    curMonPreDF[\"Year\"] = curMonPreDF.index.year\n",
    "    curMonPreDF[\"Month\"] = curMonPreDF.index.month\n",
    "    curMonDefDF[\"Year\"] = curMonDefDF.index.year\n",
    "    curMonDefDF[\"Month\"] = curMonDefDF.index.month\n",
    "    curMonPreDF[\"3moCum\"] = curMonPreDF[\"Precip_mm\"].rolling(window=3,).sum()\n",
    "    curMonDefDF[\"3moCum\"] = curMonDefDF[\"Def_mm\"].rolling(window=3,).sum()\n",
    "    curMonPreDF = curMonPreDF.loc[pd.Timestamp( 2031, 1, 1, 0):pd.Timestamp( 2060, 12, 31, 23, 59, )].copy()\n",
    "    curMonDefDF = curMonDefDF.loc[pd.Timestamp( 2031, 1, 1, 0):pd.Timestamp( 2060, 12, 31, 23, 59, )].copy()\n",
    "    ModPreDict[curReal] = curMonPreDF.copy()\n",
    "    ModDefDict[curReal] = curMonDefDF.copy()\n",
    "# end for"
   ]
  },
  {
   "cell_type": "markdown",
   "metadata": {},
   "source": [
    "## Fit Distributions and Calculate Indices"
   ]
  },
  {
   "cell_type": "markdown",
   "metadata": {},
   "source": [
    "### SPI: Pearson Type III"
   ]
  },
  {
   "cell_type": "markdown",
   "metadata": {},
   "source": [
    "Fit Pearson Type III Distributions to each month and each window length.\n",
    "\n",
    "Scipy stats fit for Pearson Type III returns a tuple with:\n",
    "\n",
    "0. **skew**\n",
    "1. **location**\n",
    "2. **scale**\n",
    "\n",
    "The cumulative distribution function (for Pearson Type III) is then used to estimate a cumulative probability for each moving sum value (i.e., each calendar month across all years in the data set). The cumulative probability is then transformed into a Z-Score using the standard normal distribution."
   ]
  },
  {
   "cell_type": "code",
   "execution_count": 24,
   "metadata": {},
   "outputs": [
    {
     "data": {
      "text/plain": [
       "30"
      ]
     },
     "execution_count": 24,
     "metadata": {},
     "output_type": "execute_result"
    }
   ],
   "source": [
    "TotYears = ( 2060 - 2031 ) + 1\n",
    "TotYears"
   ]
  },
  {
   "cell_type": "code",
   "execution_count": 25,
   "metadata": {},
   "outputs": [
    {
     "data": {
      "text/plain": [
       "30"
      ]
     },
     "execution_count": 25,
     "metadata": {},
     "output_type": "execute_result"
    }
   ],
   "source": [
    "TotEstYears = (2022 - 1993) + 1\n",
    "TotEstYears"
   ]
  },
  {
   "cell_type": "code",
   "execution_count": 26,
   "metadata": {},
   "outputs": [],
   "source": [
    "# create empty tracking dictionaries\n",
    "M3MonDict = dict()\n",
    "# loop through by integer month\n",
    "for mI in MonIndexer:\n",
    "    # get the observed first first\n",
    "    obsDF = CP3moObsDF[CP3moObsDF[\"Month\"] == mI].copy()\n",
    "    extA3Mon = obsDF[\"CumPre\"].to_numpy(dtype=np.float32)\n",
    "    # next get a single array for the month from all models\n",
    "    allMonPreList = list()\n",
    "    for curReal in range(1,NumReal+1):\n",
    "        curDF = ModPreDict[curReal]\n",
    "        cMonDF = curDF[curDF[\"Month\"] == mI].copy()\n",
    "        allMonPreList.append( cMonDF[\"3moCum\"].to_numpy(dtype=np.float32) )\n",
    "    # end for\n",
    "    a3Mon = np.concatenate( allMonPreList )\n",
    "    # fit Pearson Type III distributions to these arrays\n",
    "    fitT3Mon = sstats.pearson3.fit( a3Mon )\n",
    "    lD3Mon = { \"skew\" : fitT3Mon[0], \"location\" : fitT3Mon[1],\n",
    "               \"scale\" : fitT3Mon[2], }\n",
    "    # now get the cumulative probability values from the distributions\n",
    "    #   for the observed values.\n",
    "    data3MCDF = sstats.pearson3.cdf( extA3Mon, lD3Mon[\"skew\"], loc=lD3Mon[\"location\"], \n",
    "                                     scale=lD3Mon[\"scale\"] )\n",
    "    SPI3Mo = sstats.norm.ppf( data3MCDF, loc=ZMu, scale=ZStd )\n",
    "    # dictionary entries for this month\n",
    "    M3MonDict[mI] = [ [data3MCDF, SPI3Mo, extA3Mon], lD3Mon ]\n",
    "# end month for\n",
    "# now rebuild to time series from the month tracking dictionary\n",
    "spi3mList = list()\n",
    "cprob3mList = list()\n",
    "cumD3mList = list()\n",
    "# loop through years and fill by month order\n",
    "for yI in range(TotEstYears):\n",
    "    for mI in MonIndexer:\n",
    "        m3ArraySP = M3MonDict[mI][0][1]\n",
    "        m3ArrayCP = M3MonDict[mI][0][0]\n",
    "        m3ArrayCD = M3MonDict[mI][0][2]\n",
    "        if yI < len( m3ArrayCP ):\n",
    "            spi3mList.append( m3ArraySP[yI] )\n",
    "            cprob3mList.append( m3ArrayCP[yI] )\n",
    "            cumD3mList.append( m3ArrayCD[yI] )\n",
    "        # end if\n",
    "    # end inner for\n",
    "# end outer for\n",
    "# now build the time indexed DataFrame\n",
    "DataDict = { \"CumPre\" : np.array( cumD3mList, dtype=np.float32 ),\n",
    "             \"WG CumProb (2031-2060)\" : np.array( cprob3mList, dtype=np.float32 ),\n",
    "             \"WG SPI (2031-2060)\" : np.array( spi3mList, dtype=np.float32 ),\n",
    "             \"LOCA2 CumProb (2031-2060)\" : CP3moObsDF[\"CumProb (2031-2060)\"].to_numpy(dtype=np.float32), \n",
    "             \"LOCA2 SPI (2031-2060)\" : CP3moObsDF[\"LOCA2 SPI (2031-2060)\"].to_numpy(dtype=np.float32),\n",
    "             \"CumProb (1981-2010)\" : CP3moObsDF[\"CumProb (1981-2010)\"].to_numpy(dtype=np.float32), \n",
    "             \"SPI (1981-2010)\" : CP3moObsDF[\"SPI (1981-2010)\"].to_numpy(dtype=np.float32), }\n",
    "spi3DF = pd.DataFrame( index=CP3moObsDF.index, data=DataDict )\n",
    "# now do the stats\n",
    "stats3List = list()\n",
    "indNList = list()\n",
    "for mI in MonIndexer:\n",
    "    lD3Mon = M3MonDict[mI][1]\n",
    "    indNList.append( \"skew_%d\" % mI )\n",
    "    indNList.append( \"scale_%d\" % mI )\n",
    "    indNList.append( \"loc_%d\" % mI )\n",
    "    stats3List.append( lD3Mon[\"skew\"] )\n",
    "    stats3List.append( lD3Mon[\"scale\"] )\n",
    "    stats3List.append( lD3Mon[\"location\"] )\n",
    "# end for\n",
    "# build the DataFrame\n",
    "stats3DF = pd.DataFrame( index=indNList, data={\"SPI Fit Stats\" : stats3List,} )"
   ]
  },
  {
   "cell_type": "markdown",
   "metadata": {},
   "source": [
    "#### Output"
   ]
  },
  {
   "cell_type": "code",
   "execution_count": 27,
   "metadata": {},
   "outputs": [
    {
     "data": {
      "text/html": [
       "<table border=\"1\" class=\"dataframe\">\n",
       "  <thead>\n",
       "    <tr style=\"text-align: right;\">\n",
       "      <th></th>\n",
       "      <th>CumPre</th>\n",
       "      <th>WG CumProb (2031-2060)</th>\n",
       "      <th>WG SPI (2031-2060)</th>\n",
       "      <th>LOCA2 CumProb (2031-2060)</th>\n",
       "      <th>LOCA2 SPI (2031-2060)</th>\n",
       "      <th>CumProb (1981-2010)</th>\n",
       "      <th>SPI (1981-2010)</th>\n",
       "    </tr>\n",
       "    <tr>\n",
       "      <th>DateTime</th>\n",
       "      <th></th>\n",
       "      <th></th>\n",
       "      <th></th>\n",
       "      <th></th>\n",
       "      <th></th>\n",
       "      <th></th>\n",
       "      <th></th>\n",
       "    </tr>\n",
       "  </thead>\n",
       "  <tbody>\n",
       "    <tr>\n",
       "      <th>1993-01-01</th>\n",
       "      <td>248.580658</td>\n",
       "      <td>0.842968</td>\n",
       "      <td>1.006731</td>\n",
       "      <td>0.952331</td>\n",
       "      <td>1.667892</td>\n",
       "      <td>0.761426</td>\n",
       "      <td>0.710898</td>\n",
       "    </tr>\n",
       "    <tr>\n",
       "      <th>1993-02-01</th>\n",
       "      <td>210.578949</td>\n",
       "      <td>0.701953</td>\n",
       "      <td>0.530026</td>\n",
       "      <td>0.915747</td>\n",
       "      <td>1.377021</td>\n",
       "      <td>0.716525</td>\n",
       "      <td>0.572549</td>\n",
       "    </tr>\n",
       "    <tr>\n",
       "      <th>1993-03-01</th>\n",
       "      <td>187.131744</td>\n",
       "      <td>0.401741</td>\n",
       "      <td>-0.248844</td>\n",
       "      <td>0.809757</td>\n",
       "      <td>0.877002</td>\n",
       "      <td>0.612669</td>\n",
       "      <td>0.286281</td>\n",
       "    </tr>\n",
       "    <tr>\n",
       "      <th>1993-04-01</th>\n",
       "      <td>206.357483</td>\n",
       "      <td>0.473903</td>\n",
       "      <td>-0.065463</td>\n",
       "      <td>0.773941</td>\n",
       "      <td>0.751888</td>\n",
       "      <td>0.654097</td>\n",
       "      <td>0.396406</td>\n",
       "    </tr>\n",
       "    <tr>\n",
       "      <th>1993-05-01</th>\n",
       "      <td>311.267181</td>\n",
       "      <td>0.746346</td>\n",
       "      <td>0.663036</td>\n",
       "      <td>0.837510</td>\n",
       "      <td>0.984277</td>\n",
       "      <td>0.778248</td>\n",
       "      <td>0.766291</td>\n",
       "    </tr>\n",
       "  </tbody>\n",
       "</table>"
      ],
      "text/plain": [
       "<IPython.core.display.HTML object>"
      ]
     },
     "metadata": {},
     "output_type": "display_data"
    }
   ],
   "source": [
    "display( HTML( spi3DF.head().to_html() ) )"
   ]
  },
  {
   "cell_type": "code",
   "execution_count": 28,
   "metadata": {},
   "outputs": [
    {
     "data": {
      "text/html": [
       "<table border=\"1\" class=\"dataframe\">\n",
       "  <thead>\n",
       "    <tr style=\"text-align: right;\">\n",
       "      <th></th>\n",
       "      <th>SPI Fit Stats</th>\n",
       "    </tr>\n",
       "  </thead>\n",
       "  <tbody>\n",
       "    <tr>\n",
       "      <th>skew_1</th>\n",
       "      <td>1.320574</td>\n",
       "    </tr>\n",
       "    <tr>\n",
       "      <th>scale_1</th>\n",
       "      <td>98.939800</td>\n",
       "    </tr>\n",
       "    <tr>\n",
       "      <th>loc_1</th>\n",
       "      <td>155.730765</td>\n",
       "    </tr>\n",
       "    <tr>\n",
       "      <th>skew_2</th>\n",
       "      <td>1.307198</td>\n",
       "    </tr>\n",
       "    <tr>\n",
       "      <th>scale_2</th>\n",
       "      <td>109.741070</td>\n",
       "    </tr>\n",
       "  </tbody>\n",
       "</table>"
      ],
      "text/plain": [
       "<IPython.core.display.HTML object>"
      ]
     },
     "metadata": {},
     "output_type": "display_data"
    }
   ],
   "source": [
    "display( HTML( stats3DF.head().to_html() ) )"
   ]
  },
  {
   "cell_type": "markdown",
   "metadata": {},
   "source": [
    "Output to a spreadsheet"
   ]
  },
  {
   "cell_type": "code",
   "execution_count": 29,
   "metadata": {},
   "outputs": [],
   "source": [
    "outXLSX = os.path.normpath( os.path.join( OUT_DIR, \"%s_SPI.xlsx\" % BasKey ) )\n",
    "writer = pd.ExcelWriter( outXLSX )\n",
    "workbook  = writer.book\n",
    "format1 = workbook.add_format({'num_format': '#,##0.00000'})\n",
    "cLabel = \"Stats_3mo\"\n",
    "stats3DF.to_excel( writer, sheet_name=cLabel, index_label=\"Stats\" )\n",
    "# adjust columns\n",
    "writer.sheets[cLabel].set_column( 0, 0, 12 )\n",
    "for column in stats3DF:\n",
    "    column_width = max(stats3DF[column].astype(str).map(len).max()+6, len(column)+6)\n",
    "    col_idx = stats3DF.columns.get_loc(column)\n",
    "    writer.sheets[cLabel].set_column(col_idx+1, col_idx+1, column_width, format1)\n",
    "# end for\n",
    "cLabel = \"SPI_3mo\"\n",
    "spi3DF.to_excel( writer, sheet_name=cLabel, index_label=\"DateTime\" )\n",
    "# adjust columns\n",
    "writer.sheets[cLabel].set_column( 0, 0, 18 )\n",
    "for column in spi3DF:\n",
    "    column_width = max(spi3DF[column].astype(str).map(len).max()+6, len(column)+6)\n",
    "    col_idx = spi3DF.columns.get_loc(column)\n",
    "    writer.sheets[cLabel].set_column(col_idx+1, col_idx+1, column_width, format1)\n",
    "# end for\n",
    "writer.close()"
   ]
  },
  {
   "cell_type": "markdown",
   "metadata": {},
   "source": [
    "### SPEI: Log-Logistic"
   ]
  },
  {
   "cell_type": "markdown",
   "metadata": {},
   "source": [
    "[Vicente-Serrano and others (2010)](https://journals.ametsoc.org/view/journals/clim/23/7/2009jcli2909.1.xml) developed the Standardized Precipitation Evapotranspiration Index (SPEI) to provide a climatic drought index that would be sensitive to global warming. The SPEI is congruent with the SPI; the primary difference is that monthly deficit (D) values are used in place of monthly precipitation (P) values. They also found that the log-logistic distribution (3 parameter) performed better than the Pearson Type III (or 3 parameter Gamma) distribution for calculating the SPEI from D values, which tend to be mostly negative in arid and semi-arid environments.\n",
    "\n",
    "Unfortunately, the log-logistic distribution is not currently included in [SciPy stats](https://docs.scipy.org/doc/scipy/tutorial/stats.html) which is the package used for other distributions in this notebook (i.e., [Pearson Type III](https://docs.scipy.org/doc/scipy/reference/generated/scipy.stats.pearson3.html) and [Normal](https://docs.scipy.org/doc/scipy/tutorial/stats/continuous_norm.html) ).\n",
    "\n",
    "In searching for a log-logistic implementation to use for the SPEI calculation, [Hosking and Wallis (1997) Regional Frequency Analysis](https://www.cambridge.org/core/books/regional-frequency-analysis/8C59835F9361705DAAE1ADFDEA7ECD30) provides a 'Generalized Logistic Distribution' in the Appendix with the information needed to estimate probability distribution values. The 'Generalized Logistic Distribution' is a reparameterized version of the log-logistic distribution of [Ahmad and others (1988)](https://www.sciencedirect.com/science/article/abs/pii/0022169488900157).\n",
    "\n",
    "Two custom functions are presented below to calculate the probability distribution values using the 'Generalized Logistic Distribution' which provides a log-logistic distribution when the shape parameter (or $k$) is not equal to zero. After developing and testing these functions against the [lmoment3 package](https://open-hydrology.readthedocs.io/projects/lmoments3/en/stable/), the [Generalized Logistic](https://docs.scipy.org/doc/scipy/reference/generated/scipy.stats.genlogistic.html#scipy.stats.genlogistic) implementation in Scipy stats was discovered.\n",
    "\n",
    "The custom function, L-moments approach is used going forward to calculate SPEI because:\n",
    "\n",
    "1. lmoment3 package is not up to date with current versions of SciPy and will throw errors\n",
    "2. SciPy Stats Genlogistic does not work with negative shape parameters and so cannot use the L-moment estimated distribution parameters. MLE-based parameter estimates seem close and reasonable but it is thought that the custom L-moments approach will be more stable in general."
   ]
  },
  {
   "cell_type": "code",
   "execution_count": 30,
   "metadata": {},
   "outputs": [],
   "source": [
    "def estimatellogparams( npArray ):\n",
    "    \"\"\"Estimate the parameters of a log-logistic distribution from an\n",
    "    array of annual values.\n",
    "    \n",
    "    Estimate is done using L-moments and the \"Generalized logistic distribution\".\n",
    "    This distribtion is a reparameterized version of the log-logistic\n",
    "    distribution of Ahmad et al. (1988). Estimation is done using \n",
    "    the equations and procedure in Appendix A.7 of \"Regional Frequency\n",
    "    Analysis\", Hosking and Wallis (1997)\n",
    "    \n",
    "    To estimate the distribution parameters (shape, scale, and location),\n",
    "    the L-moments l1, l2, and t3 need to be calculated. These three\n",
    "    L-moments can be estimated from the first three, sample weighted\n",
    "    probability moments (b0, b1, and b2).\n",
    "    \n",
    "    Args:\n",
    "        npArray (np.ndarray): Numpy, 1D array\n",
    "    \n",
    "    Returns:\n",
    "        log-logistic parameters in dictionary, D:\n",
    "            D[\"k\"]: k or shape\n",
    "            D[\"scale\"]: alpha or scale\n",
    "            D[\"loc\"]: Eta or location\n",
    "    \"\"\"\n",
    "    # imports\n",
    "    import math\n",
    "    # don't do any checking for type and assume that will always\n",
    "    #  be Numpy ndarray for single argument\n",
    "    totLen = len( npArray )\n",
    "    # need a sorted array in increasing order\n",
    "    srtAr = np.sort( npArray )\n",
    "    # calculate sample probability weighted moments: b0, b1, b2\n",
    "    b0 = srtAr.mean()\n",
    "    b1 = 0.0\n",
    "    for iI in range(2, totLen + 1):\n",
    "        b1 += ( ( iI - 1 ) / ( totLen - 1 ) ) * srtAr[iI-1]\n",
    "    # end for\n",
    "    b1 = b1 / totLen\n",
    "    b2 = 0.0\n",
    "    for iI in range( 3, totLen + 1 ):\n",
    "        b2 += ( ( ( iI - 1 ) * ( iI - 2 ) ) / ( ( totLen - 1 ) * (totLen - 2 ) ) ) * srtAr[iI-1]\n",
    "    # end for\n",
    "    b2 = b2 / totLen\n",
    "    # calculate sample L-moments: l1, l2, t3\n",
    "    l1 = b0\n",
    "    l2 = (2.0 * b1 ) - b0\n",
    "    l3 = ( 6.0 * b2 ) -  ( 6.0 * b1 ) + b0\n",
    "    t3 = l3 / l2\n",
    "    # estimate the distribution parameters\n",
    "    shape = -1.0 * t3\n",
    "    scale = ( l2 * math.sin( shape * math.pi ) ) / ( shape * math.pi )\n",
    "    location = l1 - ( scale * ( ( 1.0 / shape ) - ( math.pi / math.sin( shape * math.pi ) ) ) )\n",
    "    retDict = { \"k\" : shape,\n",
    "                \"scale\" : scale,\n",
    "                \"loc\" : location, }\n",
    "    # return\n",
    "    return retDict"
   ]
  },
  {
   "cell_type": "code",
   "execution_count": 31,
   "metadata": {},
   "outputs": [],
   "source": [
    "def probDistLLogis( paramDict, npArray ):\n",
    "    \"\"\"Uses generalized logistic probability distribution to estimate cumulative\n",
    "    probilities for each value in the Numpy array, npArray.\n",
    "    \n",
    "    Args:\n",
    "        paramDict (dict): dictionary with best-fit parameter values for a \n",
    "                log-logisitic distribution. Must have keys: \"k\", \"scale\",\n",
    "                \"loc\" which are the 3 required parameters\n",
    "        npArray (np.ndarray): array from time series of monthly, rolling\n",
    "                average values\n",
    "    \n",
    "    Returns:\n",
    "        retArray (np.ndarray): cumulative probabilies for each npArray value\n",
    "    \"\"\"\n",
    "    shape = paramDict[\"k\"]\n",
    "    location = paramDict[\"loc\"]\n",
    "    scale = paramDict[\"scale\"]\n",
    "    if shape == 0.0:\n",
    "        # this is the special case of a logistic distribution with 2 params\n",
    "        y = ( npArray - location ) / scale\n",
    "    else:\n",
    "        # this is the general case of the log-logistic distribution\n",
    "        takeLogArray = 1.0 - ( shape * ( npArray - location ) / scale )\n",
    "        useLogArray = np.where( takeLogArray <= 0.0, 1e-7, takeLogArray )\n",
    "        y = ( -1.0 * ( 1.0 / shape ) ) * np.log( useLogArray )\n",
    "    # end if\n",
    "    retArray = 1.0 / ( 1.0 + np.exp( -1.0 * y  ) )\n",
    "    # return\n",
    "    return retArray"
   ]
  },
  {
   "cell_type": "code",
   "execution_count": 32,
   "metadata": {},
   "outputs": [],
   "source": [
    "# create empty tracking dictionaries\n",
    "M3MonDict = dict()\n",
    "# loop through by integer month\n",
    "for mI in MonIndexer:\n",
    "    # get the observed first first\n",
    "    obsDF = CD3moObsDF[CD3moObsDF[\"Month\"] == mI].copy()\n",
    "    extA3Mon = obsDF[\"CumDef\"].to_numpy(dtype=np.float32)\n",
    "    # next get a single array for the month from all models\n",
    "    allMonDefList = list()\n",
    "    for curReal in range(1, NumReal+1):\n",
    "        curDF = ModDefDict[curReal]\n",
    "        cMonDF = curDF[curDF[\"Month\"] == mI].copy()\n",
    "        allMonDefList.append( cMonDF[\"3moCum\"].to_numpy(dtype=np.float32) )\n",
    "    # end for\n",
    "    a3Mon = np.concatenate( allMonDefList )\n",
    "    # fit 'generalized logistic' distributions to these arrays\n",
    "    lD3Mon = estimatellogparams( a3Mon )\n",
    "    # now get the cumulative probability values from the distributions\n",
    "    #   for the observed values.\n",
    "    data3MCDF = probDistLLogis( lD3Mon, extA3Mon )\n",
    "    # make sure the cumulative density is not less than 1.0 / (2* N years).\n",
    "    data3MCDF = np.where( data3MCDF < (1.0/60.0), (1.0/60.0), data3MCDF )\n",
    "    SPEI3Mo = sstats.norm.ppf( data3MCDF, loc=ZMu, scale=ZStd )\n",
    "    # dictionary entries for this month\n",
    "    M3MonDict[mI] = [ [data3MCDF, SPEI3Mo, extA3Mon], lD3Mon ]\n",
    "# end month for\n",
    "# now rebuild to time series from the month tracking dictionary\n",
    "spei3mList = list()\n",
    "cprob3mList = list()\n",
    "cumD3mList = list()\n",
    "# loop through years and fill by month order\n",
    "for yI in range(TotEstYears):\n",
    "    for mI in MonIndexer:\n",
    "        m3ArraySP = M3MonDict[mI][0][1]\n",
    "        m3ArrayCP = M3MonDict[mI][0][0]\n",
    "        m3ArrayCD = M3MonDict[mI][0][2]\n",
    "        if yI < len( m3ArrayCP ):\n",
    "            spei3mList.append( m3ArraySP[yI] )\n",
    "            cprob3mList.append( m3ArrayCP[yI] )\n",
    "            cumD3mList.append( m3ArrayCD[yI] )\n",
    "        # end if\n",
    "    # end inner for\n",
    "# end outer for\n",
    "# now build the time indexed DataFrame\n",
    "DataDict = { \"CumDef\" : np.array( cumD3mList, dtype=np.float32 ),\n",
    "             \"WG CumProb (2031-2060)\" : np.array( cprob3mList, dtype=np.float32 ), \n",
    "             \"WG SPEI (2031-2060)\" : np.array( spei3mList, dtype=np.float32 ),\n",
    "             \"LOCA2 CumProb (2031-2060)\" : CD3moObsDF[\"CumProb (2031-2060)\"].to_numpy(dtype=np.float32), \n",
    "             \"LOCA2 SPEI (2031-2060)\" : CD3moObsDF[\"LOCA2 SPEI (2031-2060)\"].to_numpy(dtype=np.float32),\n",
    "             \"CumProb (1981-2010)\" : CD3moObsDF[\"CumProb (1981-2010)\"].to_numpy(dtype=np.float32), \n",
    "             \"SPEI (1981-2010)\" : CD3moObsDF[\"SPEI (1981-2010)\"].to_numpy(dtype=np.float32), }\n",
    "spei3DF = pd.DataFrame( index=CD3moObsDF.index, data=DataDict )\n",
    "# now do the stats\n",
    "stats3List = list()\n",
    "indNList = list()\n",
    "for mI in MonIndexer:\n",
    "    lD3Mon = M3MonDict[mI][1]\n",
    "    indNList.append( \"shape_%d\" % mI )\n",
    "    indNList.append( \"scale_%d\" % mI )\n",
    "    indNList.append( \"loc_%d\" % mI )\n",
    "    stats3List.append( lD3Mon[\"k\"] )\n",
    "    stats3List.append( lD3Mon[\"scale\"] )\n",
    "    stats3List.append( lD3Mon[\"loc\"] )\n",
    "# end for\n",
    "# build the DataFrame\n",
    "stats3DDF = pd.DataFrame( index=indNList, data={\"SPEI Fit Stats\" : stats3List,} )"
   ]
  },
  {
   "cell_type": "code",
   "execution_count": 33,
   "metadata": {},
   "outputs": [
    {
     "data": {
      "text/html": [
       "<table border=\"1\" class=\"dataframe\">\n",
       "  <thead>\n",
       "    <tr style=\"text-align: right;\">\n",
       "      <th></th>\n",
       "      <th>CumDef</th>\n",
       "      <th>WG CumProb (2031-2060)</th>\n",
       "      <th>WG SPEI (2031-2060)</th>\n",
       "      <th>LOCA2 CumProb (2031-2060)</th>\n",
       "      <th>LOCA2 SPEI (2031-2060)</th>\n",
       "      <th>CumProb (1981-2010)</th>\n",
       "      <th>SPEI (1981-2010)</th>\n",
       "    </tr>\n",
       "    <tr>\n",
       "      <th>DateTime</th>\n",
       "      <th></th>\n",
       "      <th></th>\n",
       "      <th></th>\n",
       "      <th></th>\n",
       "      <th></th>\n",
       "      <th></th>\n",
       "      <th></th>\n",
       "    </tr>\n",
       "  </thead>\n",
       "  <tbody>\n",
       "    <tr>\n",
       "      <th>1993-01-01</th>\n",
       "      <td>62.625660</td>\n",
       "      <td>0.940277</td>\n",
       "      <td>1.557106</td>\n",
       "      <td>0.961365</td>\n",
       "      <td>1.766751</td>\n",
       "      <td>0.772983</td>\n",
       "      <td>0.748706</td>\n",
       "    </tr>\n",
       "    <tr>\n",
       "      <th>1993-02-01</th>\n",
       "      <td>23.665514</td>\n",
       "      <td>0.893362</td>\n",
       "      <td>1.244605</td>\n",
       "      <td>0.936179</td>\n",
       "      <td>1.523466</td>\n",
       "      <td>0.738263</td>\n",
       "      <td>0.637998</td>\n",
       "    </tr>\n",
       "    <tr>\n",
       "      <th>1993-03-01</th>\n",
       "      <td>-51.500134</td>\n",
       "      <td>0.747541</td>\n",
       "      <td>0.666772</td>\n",
       "      <td>0.869500</td>\n",
       "      <td>1.124030</td>\n",
       "      <td>0.629925</td>\n",
       "      <td>0.331654</td>\n",
       "    </tr>\n",
       "    <tr>\n",
       "      <th>1993-04-01</th>\n",
       "      <td>-112.074654</td>\n",
       "      <td>0.881093</td>\n",
       "      <td>1.180467</td>\n",
       "      <td>0.849103</td>\n",
       "      <td>1.032593</td>\n",
       "      <td>0.678450</td>\n",
       "      <td>0.463370</td>\n",
       "    </tr>\n",
       "    <tr>\n",
       "      <th>1993-05-01</th>\n",
       "      <td>-101.480698</td>\n",
       "      <td>0.964491</td>\n",
       "      <td>1.805362</td>\n",
       "      <td>0.883582</td>\n",
       "      <td>1.193087</td>\n",
       "      <td>0.778926</td>\n",
       "      <td>0.768573</td>\n",
       "    </tr>\n",
       "  </tbody>\n",
       "</table>"
      ],
      "text/plain": [
       "<IPython.core.display.HTML object>"
      ]
     },
     "metadata": {},
     "output_type": "display_data"
    }
   ],
   "source": [
    "display( HTML( spei3DF.head().to_html() ) )"
   ]
  },
  {
   "cell_type": "code",
   "execution_count": 34,
   "metadata": {},
   "outputs": [
    {
     "data": {
      "text/html": [
       "<table border=\"1\" class=\"dataframe\">\n",
       "  <thead>\n",
       "    <tr style=\"text-align: right;\">\n",
       "      <th></th>\n",
       "      <th>SPEI Fit Stats</th>\n",
       "    </tr>\n",
       "  </thead>\n",
       "  <tbody>\n",
       "    <tr>\n",
       "      <th>shape_1</th>\n",
       "      <td>-0.349224</td>\n",
       "    </tr>\n",
       "    <tr>\n",
       "      <th>scale_1</th>\n",
       "      <td>46.764868</td>\n",
       "    </tr>\n",
       "    <tr>\n",
       "      <th>loc_1</th>\n",
       "      <td>-154.116421</td>\n",
       "    </tr>\n",
       "    <tr>\n",
       "      <th>shape_2</th>\n",
       "      <td>-0.312699</td>\n",
       "    </tr>\n",
       "    <tr>\n",
       "      <th>scale_2</th>\n",
       "      <td>53.877245</td>\n",
       "    </tr>\n",
       "  </tbody>\n",
       "</table>"
      ],
      "text/plain": [
       "<IPython.core.display.HTML object>"
      ]
     },
     "metadata": {},
     "output_type": "display_data"
    }
   ],
   "source": [
    "display( HTML( stats3DDF.head().to_html() ) )"
   ]
  },
  {
   "cell_type": "markdown",
   "metadata": {},
   "source": [
    "Output to a spreadsheet for later analysis"
   ]
  },
  {
   "cell_type": "code",
   "execution_count": 35,
   "metadata": {},
   "outputs": [],
   "source": [
    "outXLSX = os.path.normpath( os.path.join( OUT_DIR, \"%s_SPEI.xlsx\" % BasKey ) )\n",
    "writer = pd.ExcelWriter( outXLSX )\n",
    "workbook  = writer.book\n",
    "format1 = workbook.add_format({'num_format': '#,##0.00000'})\n",
    "cLabel = \"Stats_3mo\"\n",
    "stats3DDF.to_excel( writer, sheet_name=cLabel, index_label=\"Stats\" )\n",
    "# adjust columns\n",
    "writer.sheets[cLabel].set_column( 0, 0, 12 )\n",
    "for column in stats3DDF:\n",
    "    column_width = max(stats3DDF[column].astype(str).map(len).max()+6, len(column)+6)\n",
    "    col_idx = stats3DDF.columns.get_loc(column)\n",
    "    writer.sheets[cLabel].set_column(col_idx+1, col_idx+1, column_width, format1)\n",
    "# end for\n",
    "cLabel = \"SPEI_3mo\"\n",
    "spei3DF.to_excel( writer, sheet_name=cLabel, index_label=\"DateTime\" )\n",
    "# adjust columns\n",
    "writer.sheets[cLabel].set_column( 0, 0, 18 )\n",
    "for column in spei3DF:\n",
    "    column_width = max(spei3DF[column].astype(str).map(len).max()+6, len(column)+6)\n",
    "    col_idx = spei3DF.columns.get_loc(column)\n",
    "    writer.sheets[cLabel].set_column(col_idx+1, col_idx+1, column_width, format1)\n",
    "# end for\n",
    "writer.close()"
   ]
  },
  {
   "cell_type": "markdown",
   "metadata": {},
   "source": [
    "## Plots"
   ]
  },
  {
   "cell_type": "markdown",
   "metadata": {},
   "source": [
    "Want to do two different types of plots for graphically understanding what is going on\n",
    "\n",
    "1. Heatmap of SPI by aggregation interval\n",
    "2. Combined SPI columns with monthly discharge time series"
   ]
  },
  {
   "cell_type": "markdown",
   "metadata": {},
   "source": [
    "### Heatmaps"
   ]
  },
  {
   "cell_type": "code",
   "execution_count": 36,
   "metadata": {},
   "outputs": [
    {
     "data": {
      "text/html": [
       "<table border=\"1\" class=\"dataframe\">\n",
       "  <thead>\n",
       "    <tr style=\"text-align: right;\">\n",
       "      <th></th>\n",
       "      <th>CumPre</th>\n",
       "      <th>WG CumProb (2031-2060)</th>\n",
       "      <th>WG SPI (2031-2060)</th>\n",
       "      <th>LOCA2 CumProb (2031-2060)</th>\n",
       "      <th>LOCA2 SPI (2031-2060)</th>\n",
       "      <th>CumProb (1981-2010)</th>\n",
       "      <th>SPI (1981-2010)</th>\n",
       "    </tr>\n",
       "  </thead>\n",
       "  <tbody>\n",
       "    <tr>\n",
       "      <th>count</th>\n",
       "      <td>360.000000</td>\n",
       "      <td>360.000000</td>\n",
       "      <td>360.000000</td>\n",
       "      <td>360.000000</td>\n",
       "      <td>360.000000</td>\n",
       "      <td>360.000000</td>\n",
       "      <td>360.000000</td>\n",
       "    </tr>\n",
       "    <tr>\n",
       "      <th>mean</th>\n",
       "      <td>221.007385</td>\n",
       "      <td>0.446715</td>\n",
       "      <td>-0.186300</td>\n",
       "      <td>0.573322</td>\n",
       "      <td>0.286627</td>\n",
       "      <td>0.489036</td>\n",
       "      <td>-0.056536</td>\n",
       "    </tr>\n",
       "    <tr>\n",
       "      <th>std</th>\n",
       "      <td>138.914337</td>\n",
       "      <td>0.343482</td>\n",
       "      <td>1.628035</td>\n",
       "      <td>0.305621</td>\n",
       "      <td>1.138850</td>\n",
       "      <td>0.292387</td>\n",
       "      <td>1.016352</td>\n",
       "    </tr>\n",
       "    <tr>\n",
       "      <th>min</th>\n",
       "      <td>14.885807</td>\n",
       "      <td>0.000003</td>\n",
       "      <td>-4.521278</td>\n",
       "      <td>0.003805</td>\n",
       "      <td>-2.668857</td>\n",
       "      <td>0.016667</td>\n",
       "      <td>-2.128045</td>\n",
       "    </tr>\n",
       "    <tr>\n",
       "      <th>25%</th>\n",
       "      <td>117.202354</td>\n",
       "      <td>0.110041</td>\n",
       "      <td>-1.226343</td>\n",
       "      <td>0.337025</td>\n",
       "      <td>-0.420595</td>\n",
       "      <td>0.235438</td>\n",
       "      <td>-0.721067</td>\n",
       "    </tr>\n",
       "    <tr>\n",
       "      <th>50%</th>\n",
       "      <td>190.749519</td>\n",
       "      <td>0.402992</td>\n",
       "      <td>-0.245612</td>\n",
       "      <td>0.614123</td>\n",
       "      <td>0.290083</td>\n",
       "      <td>0.496759</td>\n",
       "      <td>-0.008125</td>\n",
       "    </tr>\n",
       "    <tr>\n",
       "      <th>75%</th>\n",
       "      <td>290.060631</td>\n",
       "      <td>0.758930</td>\n",
       "      <td>0.702903</td>\n",
       "      <td>0.838990</td>\n",
       "      <td>0.990316</td>\n",
       "      <td>0.739217</td>\n",
       "      <td>0.640934</td>\n",
       "    </tr>\n",
       "    <tr>\n",
       "      <th>max</th>\n",
       "      <td>750.319824</td>\n",
       "      <td>1.000000</td>\n",
       "      <td>4.910082</td>\n",
       "      <td>0.999429</td>\n",
       "      <td>3.252777</td>\n",
       "      <td>0.995398</td>\n",
       "      <td>2.604387</td>\n",
       "    </tr>\n",
       "  </tbody>\n",
       "</table>"
      ],
      "text/plain": [
       "<IPython.core.display.HTML object>"
      ]
     },
     "metadata": {},
     "output_type": "display_data"
    }
   ],
   "source": [
    "display( HTML( spi3DF.describe().to_html() ) )"
   ]
  },
  {
   "cell_type": "code",
   "execution_count": 37,
   "metadata": {},
   "outputs": [],
   "source": [
    "pMax = 3.0\n",
    "pMin = -3.0"
   ]
  },
  {
   "cell_type": "code",
   "execution_count": 38,
   "metadata": {},
   "outputs": [
    {
     "data": {
      "text/plain": [
       "(13, 13)"
      ]
     },
     "execution_count": 38,
     "metadata": {},
     "output_type": "execute_result"
    }
   ],
   "source": [
    "cColors = [ \"darkred\", \"firebrick\", \"indianred\", \"lightcoral\", \"lightsalmon\", \"antiquewhite\",\n",
    "            \"antiquewhite\", \"antiquewhite\", \"lightblue\", \"cadetblue\", \"royalblue\", \"mediumblue\", \"midnightblue\" ]\n",
    "# -3.0, -2.5, -2.0, -1.5, -1.0, -0.5, 0.0, 0.5, 1.0, 1.5, 2.0, 2.5, 3.0\n",
    "cNodes = [0.0, 0.0833, 0.1666, 0.25, 0.3333, 0.4166, 0.50, 0.5833, 0.666, 0.75, 0.8333, 0.9166, 1.0 ]\n",
    "len(cColors), len(cNodes)"
   ]
  },
  {
   "cell_type": "code",
   "execution_count": 39,
   "metadata": {},
   "outputs": [],
   "source": [
    "SegCMap = mpl.colors.LinearSegmentedColormap.from_list(\"mycmap\", list(zip(cNodes, cColors)))"
   ]
  },
  {
   "cell_type": "markdown",
   "metadata": {},
   "source": [
    "#### SPEI"
   ]
  },
  {
   "cell_type": "code",
   "execution_count": 40,
   "metadata": {},
   "outputs": [
    {
     "data": {
      "text/html": [
       "<table border=\"1\" class=\"dataframe\">\n",
       "  <thead>\n",
       "    <tr style=\"text-align: right;\">\n",
       "      <th></th>\n",
       "      <th>CumDef</th>\n",
       "      <th>WG CumProb (2031-2060)</th>\n",
       "      <th>WG SPEI (2031-2060)</th>\n",
       "      <th>LOCA2 CumProb (2031-2060)</th>\n",
       "      <th>LOCA2 SPEI (2031-2060)</th>\n",
       "      <th>CumProb (1981-2010)</th>\n",
       "      <th>SPEI (1981-2010)</th>\n",
       "    </tr>\n",
       "    <tr>\n",
       "      <th>DateTime</th>\n",
       "      <th></th>\n",
       "      <th></th>\n",
       "      <th></th>\n",
       "      <th></th>\n",
       "      <th></th>\n",
       "      <th></th>\n",
       "      <th></th>\n",
       "    </tr>\n",
       "  </thead>\n",
       "  <tbody>\n",
       "    <tr>\n",
       "      <th>1993-01-01</th>\n",
       "      <td>62.625660</td>\n",
       "      <td>0.940277</td>\n",
       "      <td>1.557106</td>\n",
       "      <td>0.961365</td>\n",
       "      <td>1.766751</td>\n",
       "      <td>0.772983</td>\n",
       "      <td>0.748706</td>\n",
       "    </tr>\n",
       "    <tr>\n",
       "      <th>1993-02-01</th>\n",
       "      <td>23.665514</td>\n",
       "      <td>0.893362</td>\n",
       "      <td>1.244605</td>\n",
       "      <td>0.936179</td>\n",
       "      <td>1.523466</td>\n",
       "      <td>0.738263</td>\n",
       "      <td>0.637998</td>\n",
       "    </tr>\n",
       "    <tr>\n",
       "      <th>1993-03-01</th>\n",
       "      <td>-51.500134</td>\n",
       "      <td>0.747541</td>\n",
       "      <td>0.666772</td>\n",
       "      <td>0.869500</td>\n",
       "      <td>1.124030</td>\n",
       "      <td>0.629925</td>\n",
       "      <td>0.331654</td>\n",
       "    </tr>\n",
       "    <tr>\n",
       "      <th>1993-04-01</th>\n",
       "      <td>-112.074654</td>\n",
       "      <td>0.881093</td>\n",
       "      <td>1.180467</td>\n",
       "      <td>0.849103</td>\n",
       "      <td>1.032593</td>\n",
       "      <td>0.678450</td>\n",
       "      <td>0.463370</td>\n",
       "    </tr>\n",
       "    <tr>\n",
       "      <th>1993-05-01</th>\n",
       "      <td>-101.480698</td>\n",
       "      <td>0.964491</td>\n",
       "      <td>1.805362</td>\n",
       "      <td>0.883582</td>\n",
       "      <td>1.193087</td>\n",
       "      <td>0.778926</td>\n",
       "      <td>0.768573</td>\n",
       "    </tr>\n",
       "  </tbody>\n",
       "</table>"
      ],
      "text/plain": [
       "<IPython.core.display.HTML object>"
      ]
     },
     "metadata": {},
     "output_type": "display_data"
    }
   ],
   "source": [
    "display( HTML( spei3DF.head().to_html() ) )"
   ]
  },
  {
   "cell_type": "code",
   "execution_count": 41,
   "metadata": {},
   "outputs": [],
   "source": [
    "bT3MoFut = spei3DF[[\"WG SPEI (2031-2060)\"]].copy()\n",
    "bT3MoL2Fut = spei3DF[[\"LOCA2 SPEI (2031-2060)\"]].copy()\n",
    "bT3MoObs = spei3DF[[\"SPEI (1981-2010)\"]].copy()"
   ]
  },
  {
   "cell_type": "code",
   "execution_count": 42,
   "metadata": {},
   "outputs": [],
   "source": [
    "bT3MoFut[\"Month\"] = bT3MoFut.index.month\n",
    "bT3MoFut[\"Year\"] = bT3MoFut.index.year"
   ]
  },
  {
   "cell_type": "code",
   "execution_count": 43,
   "metadata": {},
   "outputs": [],
   "source": [
    "bT3MoL2Fut[\"Month\"] = bT3MoL2Fut.index.month\n",
    "bT3MoL2Fut[\"Year\"] = bT3MoL2Fut.index.year"
   ]
  },
  {
   "cell_type": "code",
   "execution_count": 44,
   "metadata": {},
   "outputs": [],
   "source": [
    "bT3MoObs[\"Month\"] = bT3MoObs.index.month\n",
    "bT3MoObs[\"Year\"] = bT3MoObs.index.year"
   ]
  },
  {
   "cell_type": "code",
   "execution_count": 45,
   "metadata": {},
   "outputs": [],
   "source": [
    "pvbT3MoFut = bT3MoFut.pivot( index=\"Year\", columns=\"Month\", values=\"WG SPEI (2031-2060)\" )\n",
    "pvbT3MoL2Fut = bT3MoL2Fut.pivot( index=\"Year\", columns=\"Month\", values=\"LOCA2 SPEI (2031-2060)\" )\n",
    "pvbT3MoObs = bT3MoObs.pivot( index=\"Year\", columns=\"Month\", values=\"SPEI (1981-2010)\" )"
   ]
  },
  {
   "cell_type": "code",
   "execution_count": 46,
   "metadata": {},
   "outputs": [
    {
     "data": {
      "text/plain": [
       "(3.7189745903015137, -1.3660624027252197)"
      ]
     },
     "execution_count": 46,
     "metadata": {},
     "output_type": "execute_result"
    }
   ],
   "source": [
    "max( pvbT3MoFut.max(axis=1).tolist() ), min( pvbT3MoFut.min(axis=1).tolist() )"
   ]
  },
  {
   "cell_type": "code",
   "execution_count": 47,
   "metadata": {},
   "outputs": [
    {
     "data": {
      "text/plain": [
       "(2.7683098316192627, -1.7773782014846802)"
      ]
     },
     "execution_count": 47,
     "metadata": {},
     "output_type": "execute_result"
    }
   ],
   "source": [
    "max( pvbT3MoL2Fut.max(axis=1).tolist() ), min( pvbT3MoL2Fut.min(axis=1).tolist() )"
   ]
  },
  {
   "cell_type": "code",
   "execution_count": 48,
   "metadata": {},
   "outputs": [
    {
     "data": {
      "text/plain": [
       "(2.3745343685150146, -2.1280453205108643)"
      ]
     },
     "execution_count": 48,
     "metadata": {},
     "output_type": "execute_result"
    }
   ],
   "source": [
    "max( pvbT3MoObs.max(axis=1).tolist() ), min( pvbT3MoObs.min(axis=1).tolist() )"
   ]
  },
  {
   "cell_type": "code",
   "execution_count": 49,
   "metadata": {},
   "outputs": [],
   "source": [
    "# get the annotation stuff\n",
    "NumYrs = len( pvbT3MoObs )\n",
    "allSPEI_1 = pvbT3MoObs.to_numpy( dtype=np.float32 )\n",
    "matLister1 = list()\n",
    "for iI in range( NumYrs ):\n",
    "    rowLister = list()\n",
    "    for jJ in range(12):\n",
    "        cVal = allSPEI_1[iI, jJ]\n",
    "        if ( cVal >= 1.5 ) or ( cVal <= -1.5 ):\n",
    "            rowLister.append( \"%4.1f\" % cVal )\n",
    "        else:\n",
    "            rowLister.append( \"\" )\n",
    "        # end if\n",
    "    # end inner for\n",
    "    matLister1.append( rowLister )\n",
    "# end outer for\n",
    "AnnotMat_Obs1 = np.array( matLister1 )"
   ]
  },
  {
   "cell_type": "code",
   "execution_count": 50,
   "metadata": {},
   "outputs": [],
   "source": [
    "# get the annotation stuff\n",
    "NumYrs = len( pvbT3MoFut )\n",
    "allSPEI_1 = pvbT3MoFut.to_numpy( dtype=np.float32 )\n",
    "matLister1 = list()\n",
    "for iI in range( NumYrs ):\n",
    "    rowLister = list()\n",
    "    for jJ in range(12):\n",
    "        cVal = allSPEI_1[iI, jJ]\n",
    "        if ( cVal >= 1.5 ) or ( cVal <= -1.5 ):\n",
    "            rowLister.append( \"%4.1f\" % cVal )\n",
    "        else:\n",
    "            rowLister.append( \"\" )\n",
    "        # end if\n",
    "    # end inner for\n",
    "    matLister1.append( rowLister )\n",
    "# end outer for\n",
    "AnnotMat_Fut1 = np.array( matLister1 )"
   ]
  },
  {
   "cell_type": "code",
   "execution_count": 51,
   "metadata": {},
   "outputs": [],
   "source": [
    "# get the annotation stuff\n",
    "NumYrs = len( pvbT3MoL2Fut )\n",
    "allSPEI_1 = pvbT3MoL2Fut.to_numpy( dtype=np.float32 )\n",
    "matLister1 = list()\n",
    "for iI in range( NumYrs ):\n",
    "    rowLister = list()\n",
    "    for jJ in range(12):\n",
    "        cVal = allSPEI_1[iI, jJ]\n",
    "        if ( cVal >= 1.5 ) or ( cVal <= -1.5 ):\n",
    "            rowLister.append( \"%4.1f\" % cVal )\n",
    "        else:\n",
    "            rowLister.append( \"\" )\n",
    "        # end if\n",
    "    # end inner for\n",
    "    matLister1.append( rowLister )\n",
    "# end outer for\n",
    "AnnotMat_L2Fut1 = np.array( matLister1 )"
   ]
  },
  {
   "cell_type": "code",
   "execution_count": 52,
   "metadata": {},
   "outputs": [],
   "source": [
    "OutFilePDF = os.path.normpath( os.path.join( OUT_DIR, \"Plots\", \"Compare_SPEI_3mon_%s.pdf\" % BasKey ) )\n",
    "OutFileSVG = os.path.normpath( os.path.join( OUT_DIR, \"Plots\", \"Compare_SPEI_3mon_%s.svg\" % BasKey ) )\n",
    "OutFilePNG = os.path.normpath( os.path.join( OUT_DIR, \"Plots\", \"Compare_SPEI_3mon_%s.png\" % BasKey ) )"
   ]
  },
  {
   "cell_type": "code",
   "execution_count": 53,
   "metadata": {},
   "outputs": [
    {
     "data": {
      "image/png": "[encoded data removed]",
      "text/plain": [
       "<Figure size 750x650 with 4 Axes>"
      ]
     },
     "metadata": {},
     "output_type": "display_data"
    }
   ],
   "source": [
    "Fig1 = plt.figure()\n",
    "Fig1.set_size_inches(7.5, 6.5)\n",
    "axs = Fig1.subplots(nrows=1, ncols=3, sharey=True)\n",
    "#ax11 = Fig1.add_subplot(1,3,1)\n",
    "axs[0] = sns.heatmap( pvbT3MoObs, vmin=pMin, vmax=pMax, cmap=SegCMap, center=0.0,\n",
    "                    annot=AnnotMat_Obs1, fmt=\"s\", linecolor=\"gainsboro\", linewidths=0.0,\n",
    "                    annot_kws={'fontsize':5, 'color':'xkcd:purple'}, ax=axs[0] )\n",
    "#                    cbar_kws={'label': 'SPEI (1981-2010)',}, ax=ax11 )\n",
    "cbar11 = axs[0].collections[0].colorbar\n",
    "cbar11.ax.tick_params(labelsize=6)\n",
    "cbar11.remove()\n",
    "axs[0].set_title( \"Observed 1981-2010\", fontsize=9 )\n",
    "axs[0].set_xlabel('Month', fontsize=8 )\n",
    "axs[0].set_ylabel('Year', fontsize=8)\n",
    "axs[0].tick_params(axis='both', which='major', labelsize=6)\n",
    "#ax21 = Fig1.add_subplot(1,3,2)\n",
    "axs[1] = sns.heatmap( pvbT3MoL2Fut, vmin=pMin, vmax=pMax, cmap=SegCMap, center=0.0,\n",
    "                    annot=AnnotMat_L2Fut1, fmt=\"s\", linecolor=\"gainsboro\", linewidths=0.0,\n",
    "                    annot_kws={'fontsize':5, 'color':'xkcd:purple'}, ax=axs[1] )\n",
    "#                    cbar_kws={'label': 'LOCA2 SPEI (2031-2060)',}, ax=ax21 )\n",
    "cbar21 = axs[1].collections[0].colorbar\n",
    "cbar21.ax.tick_params(labelsize=6)\n",
    "cbar21.remove()\n",
    "axs[1].set_title( \"LOCA2 2031-2060\", fontsize=9 )\n",
    "axs[1].set_xlabel('Month', fontsize=8 )\n",
    "#ax21.set_ylabel('Year', fontsize=10)\n",
    "axs[1].set_ylabel( '', fontsize=8 )\n",
    "axs[1].tick_params(axis='x', which='major', labelsize=6)\n",
    "axs[1].tick_params(axis='y', which='both', labelleft=False, labelright=False )\n",
    "#ax31 = Fig1.add_subplot(1,3,3)\n",
    "axs[2] = sns.heatmap( pvbT3MoFut, vmin=pMin, vmax=pMax, cmap=SegCMap, center=0.0,\n",
    "                    annot=AnnotMat_Fut1, fmt=\"s\", linecolor=\"gainsboro\", linewidths=0.0,\n",
    "                    annot_kws={'fontsize':5, 'color':'xkcd:purple'}, cbar_kws={'label': 'SPEI', }, ax=axs[2] )\n",
    "#                    cbar_kws={'label': 'WG SPEI (2031-2060)',}, ax=ax31 )\n",
    "cbar31 = axs[2].collections[0].colorbar\n",
    "cbar31.ax.tick_params(labelsize=6)\n",
    "cbar31.remove()\n",
    "axs[2].set_title( \"WG 2031-2060\", fontsize=9 )\n",
    "axs[2].set_xlabel('Month', fontsize=8 )\n",
    "#ax31.set_ylabel('Year', fontsize=10)\n",
    "axs[2].set_ylabel('', fontsize=8)\n",
    "axs[2].tick_params(axis='x', which='major', labelsize=6)\n",
    "axs[2].tick_params(axis='y', which='both', labelleft=False, labelright=False )\n",
    "# add the colorbar\n",
    "cbFig = Fig1.colorbar( axs[2].collections[0], ax=axs[:], shrink=0.8, location='bottom', aspect=40 )\n",
    "cbFig.set_label(\"SPEI\", fontsize=9, color='xkcd:purple')\n",
    "cbFig.ax.tick_params(labelsize=8, colors='xkcd:purple')\n",
    "# add subplot ids\n",
    "trans11 = mtransforms.ScaledTranslation(-15/72, -(3.8*75)/72, Fig1.dpi_scale_trans)\n",
    "txt11 = axs[0].text(0.0, 1.0, \"a)\", transform=axs[0].transAxes+trans11, fontsize=9 )\n",
    "trans22 = mtransforms.ScaledTranslation(-15/72, -(3.8*75)/72, Fig1.dpi_scale_trans)\n",
    "txt22 = axs[1].text(0.0, 1.0, \"b)\", transform=axs[1].transAxes+trans22, fontsize=9 )\n",
    "trans33 = mtransforms.ScaledTranslation(-15/72, -(3.8*75)/72, Fig1.dpi_scale_trans)\n",
    "txt33 = axs[2].text(0.0, 1.0, \"c)\", transform=axs[2].transAxes+trans33, fontsize=9 )\n",
    "Fig1.savefig( OutFileSVG, dpi=600 )\n",
    "Fig1.savefig( OutFilePNG, dpi=600 )\n",
    "Fig1.savefig( OutFilePDF, dpi=600 )"
   ]
  },
  {
   "cell_type": "markdown",
   "metadata": {},
   "source": [
    "#### SPI"
   ]
  },
  {
   "cell_type": "code",
   "execution_count": 54,
   "metadata": {},
   "outputs": [],
   "source": [
    "bT3MoFut = spi3DF[[\"WG SPI (2031-2060)\"]].copy()\n",
    "bT3MoL2Fut = spi3DF[[\"LOCA2 SPI (2031-2060)\"]].copy()\n",
    "bT3MoObs = spi3DF[[\"SPI (1981-2010)\"]].copy()"
   ]
  },
  {
   "cell_type": "code",
   "execution_count": 55,
   "metadata": {},
   "outputs": [],
   "source": [
    "bT3MoFut[\"Month\"] = bT3MoFut.index.month\n",
    "bT3MoFut[\"Year\"] = bT3MoFut.index.year"
   ]
  },
  {
   "cell_type": "code",
   "execution_count": 56,
   "metadata": {},
   "outputs": [],
   "source": [
    "bT3MoL2Fut[\"Month\"] = bT3MoL2Fut.index.month\n",
    "bT3MoL2Fut[\"Year\"] = bT3MoL2Fut.index.year"
   ]
  },
  {
   "cell_type": "code",
   "execution_count": 57,
   "metadata": {},
   "outputs": [],
   "source": [
    "bT3MoObs[\"Month\"] = bT3MoObs.index.month\n",
    "bT3MoObs[\"Year\"] = bT3MoObs.index.year"
   ]
  },
  {
   "cell_type": "code",
   "execution_count": 58,
   "metadata": {},
   "outputs": [],
   "source": [
    "pvbT3MoFut = bT3MoFut.pivot( index=\"Year\", columns=\"Month\", values=\"WG SPI (2031-2060)\" )\n",
    "pvbT3MoL2Fut = bT3MoL2Fut.pivot( index=\"Year\", columns=\"Month\", values=\"LOCA2 SPI (2031-2060)\" )\n",
    "pvbT3MoObs = bT3MoObs.pivot( index=\"Year\", columns=\"Month\", values=\"SPI (1981-2010)\" )"
   ]
  },
  {
   "cell_type": "code",
   "execution_count": 59,
   "metadata": {},
   "outputs": [],
   "source": [
    "# get the annotation stuff\n",
    "NumYrs = len( pvbT3MoObs )\n",
    "allSPEI_1 = pvbT3MoObs.to_numpy( dtype=np.float32 )\n",
    "matLister1 = list()\n",
    "for iI in range( NumYrs ):\n",
    "    rowLister = list()\n",
    "    for jJ in range(12):\n",
    "        cVal = allSPEI_1[iI, jJ]\n",
    "        if ( cVal >= 1.5 ) or ( cVal <= -1.5 ):\n",
    "            rowLister.append( \"%4.1f\" % cVal )\n",
    "        else:\n",
    "            rowLister.append( \"\" )\n",
    "        # end if\n",
    "    # end inner for\n",
    "    matLister1.append( rowLister )\n",
    "# end outer for\n",
    "AnnotMat_Obs1 = np.array( matLister1 )"
   ]
  },
  {
   "cell_type": "code",
   "execution_count": 60,
   "metadata": {},
   "outputs": [],
   "source": [
    "# get the annotation stuff\n",
    "NumYrs = len( pvbT3MoFut )\n",
    "allSPEI_1 = pvbT3MoFut.to_numpy( dtype=np.float32 )\n",
    "matLister1 = list()\n",
    "for iI in range( NumYrs ):\n",
    "    rowLister = list()\n",
    "    for jJ in range(12):\n",
    "        cVal = allSPEI_1[iI, jJ]\n",
    "        if ( cVal >= 1.5 ) or ( cVal <= -1.5 ):\n",
    "            rowLister.append( \"%4.1f\" % cVal )\n",
    "        else:\n",
    "            rowLister.append( \"\" )\n",
    "        # end if\n",
    "    # end inner for\n",
    "    matLister1.append( rowLister )\n",
    "# end outer for\n",
    "AnnotMat_Fut1 = np.array( matLister1 )"
   ]
  },
  {
   "cell_type": "code",
   "execution_count": 61,
   "metadata": {},
   "outputs": [],
   "source": [
    "# get the annotation stuff\n",
    "NumYrs = len( pvbT3MoL2Fut )\n",
    "allSPEI_1 = pvbT3MoL2Fut.to_numpy( dtype=np.float32 )\n",
    "matLister1 = list()\n",
    "for iI in range( NumYrs ):\n",
    "    rowLister = list()\n",
    "    for jJ in range(12):\n",
    "        cVal = allSPEI_1[iI, jJ]\n",
    "        if ( cVal >= 1.5 ) or ( cVal <= -1.5 ):\n",
    "            rowLister.append( \"%4.1f\" % cVal )\n",
    "        else:\n",
    "            rowLister.append( \"\" )\n",
    "        # end if\n",
    "    # end inner for\n",
    "    matLister1.append( rowLister )\n",
    "# end outer for\n",
    "AnnotMat_L2Fut1 = np.array( matLister1 )"
   ]
  },
  {
   "cell_type": "code",
   "execution_count": 62,
   "metadata": {},
   "outputs": [],
   "source": [
    "OutFilePDF = os.path.normpath( os.path.join( OUT_DIR, \"Plots\", \"Compare_SPI_3mon_%s.pdf\" % BasKey ) )\n",
    "OutFileSVG = os.path.normpath( os.path.join( OUT_DIR, \"Plots\", \"Compare_SPI_3mon_%s.svg\" % BasKey ) )\n",
    "OutFilePNG = os.path.normpath( os.path.join( OUT_DIR, \"Plots\", \"Compare_SPI_3mon_%s.png\" % BasKey ) )"
   ]
  },
  {
   "cell_type": "code",
   "execution_count": 63,
   "metadata": {},
   "outputs": [
    {
     "data": {
      "image/png": "[encoded data removed]",
      "text/plain": [
       "<Figure size 750x650 with 4 Axes>"
      ]
     },
     "metadata": {},
     "output_type": "display_data"
    }
   ],
   "source": [
    "Fig1 = plt.figure()\n",
    "Fig1.set_size_inches(7.5, 6.5)\n",
    "axs = Fig1.subplots(nrows=1, ncols=3, sharey=True)\n",
    "axs[0] = sns.heatmap( pvbT3MoObs, vmin=pMin, vmax=pMax, cmap=SegCMap, center=0.0,\n",
    "                    annot=AnnotMat_Obs1, fmt=\"s\", linecolor=\"gainsboro\", linewidths=0.0,\n",
    "                    annot_kws={'fontsize':5, 'color':'xkcd:purple'}, ax=axs[0] )\n",
    "cbar11 = axs[0].collections[0].colorbar\n",
    "cbar11.ax.tick_params(labelsize=6)\n",
    "cbar11.remove()\n",
    "axs[0].set_title( \"Observed 1981-2010\", fontsize=9 )\n",
    "axs[0].set_xlabel('Month', fontsize=8 )\n",
    "axs[0].set_ylabel('Year', fontsize=8)\n",
    "axs[0].tick_params(axis='both', which='major', labelsize=6)\n",
    "axs[1] = sns.heatmap( pvbT3MoL2Fut, vmin=pMin, vmax=pMax, cmap=SegCMap, center=0.0,\n",
    "                    annot=AnnotMat_L2Fut1, fmt=\"s\", linecolor=\"gainsboro\", linewidths=0.0,\n",
    "                    annot_kws={'fontsize':5, 'color':'xkcd:purple'}, ax = axs[1] )\n",
    "cbar21 = axs[1].collections[0].colorbar\n",
    "cbar21.ax.tick_params(labelsize=6)\n",
    "cbar21.remove()\n",
    "axs[1].set_title( \"LOCA2 2031-2060\", fontsize=9 )\n",
    "axs[1].set_xlabel('Month', fontsize=8 )\n",
    "axs[1].set_ylabel( '', fontsize=8 )\n",
    "axs[1].tick_params(axis='x', which='major', labelsize=6)\n",
    "axs[1].tick_params(axis='y', which='both', labelleft=False, labelright=False )\n",
    "axs[2] = sns.heatmap( pvbT3MoFut, vmin=pMin, vmax=pMax, cmap=SegCMap, center=0.0,\n",
    "                    annot=AnnotMat_Fut1, fmt=\"s\", linecolor=\"gainsboro\", linewidths=0.0,\n",
    "                    annot_kws={'fontsize':5, 'color':'xkcd:purple'}, ax=axs[2] )\n",
    "cbar31 = axs[2].collections[0].colorbar\n",
    "cbar31.ax.tick_params(labelsize=6)\n",
    "cbar31.remove()\n",
    "axs[2].set_title( \"WG 2031-2060\", fontsize=9 )\n",
    "axs[2].set_xlabel('Month', fontsize=8 )\n",
    "axs[2].set_ylabel( '', fontsize=8 )\n",
    "axs[2].tick_params(axis='x', which='major', labelsize=6)\n",
    "axs[2].tick_params(axis='y', which='both', labelleft=False, labelright=False )\n",
    "# add the colorbar\n",
    "cbFig = Fig1.colorbar( axs[2].collections[0], ax=axs[:], shrink=0.8, location='bottom', aspect=40 )\n",
    "cbFig.set_label(\"SPI\", fontsize=9, color='xkcd:purple')\n",
    "cbFig.ax.tick_params(labelsize=8, colors='xkcd:purple')\n",
    "# add subplot ids\n",
    "trans11 = mtransforms.ScaledTranslation(-15/72, -(3.8*75)/72, Fig1.dpi_scale_trans)\n",
    "txt11 = axs[0].text(0.0, 1.0, \"a)\", transform=axs[0].transAxes+trans11, fontsize=9 )\n",
    "trans22 = mtransforms.ScaledTranslation(-15/72, -(3.8*75)/72, Fig1.dpi_scale_trans)\n",
    "txt22 = axs[1].text(0.0, 1.0, \"b)\", transform=axs[1].transAxes+trans22, fontsize=9 )\n",
    "trans33 = mtransforms.ScaledTranslation(-15/72, -(3.8*75)/72, Fig1.dpi_scale_trans)\n",
    "txt33 = axs[2].text(0.0, 1.0, \"c)\", transform=axs[2].transAxes+trans33, fontsize=9 )\n",
    "# save\n",
    "Fig1.savefig( OutFileSVG, dpi=600 )\n",
    "Fig1.savefig( OutFilePNG, dpi=600 )\n",
    "Fig1.savefig( OutFilePDF, dpi=600 )"
   ]
  },
  {
   "cell_type": "code",
   "execution_count": null,
   "metadata": {},
   "outputs": [],
   "source": []
  }
 ],
 "metadata": {
  "kernelspec": {
   "display_name": "Python 3 (ipykernel)",
   "language": "python",
   "name": "python3"
  },
  "language_info": {
   "codemirror_mode": {
    "name": "ipython",
    "version": 3
   },
   "file_extension": ".py",
   "mimetype": "text/x-python",
   "name": "python",
   "nbconvert_exporter": "python",
   "pygments_lexer": "ipython3",
   "version": "3.9.15"
  }
 },
 "nbformat": 4,
 "nbformat_minor": 4
}
