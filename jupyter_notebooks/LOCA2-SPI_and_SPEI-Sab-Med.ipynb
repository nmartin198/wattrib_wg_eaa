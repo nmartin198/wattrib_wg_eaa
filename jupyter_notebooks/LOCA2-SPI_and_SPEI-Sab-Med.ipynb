{
 "cells": [
  {
   "cell_type": "markdown",
   "metadata": {},
   "source": [
    "# LOCA2 Sab-Med Basin: SPI and SPEI Calculations"
   ]
  },
  {
   "cell_type": "markdown",
   "metadata": {},
   "source": [
    "This workbook calculates the 3-month Standardized Precipitation Index (SPI) and Standardized Precipitation Evapotranspiration Index (SPEI) for the Sab-Med basin from 2031-2060 for CMIP6, ssp585 for LOCA2 downscaled results. These probabilistic indices are then used on 1993-2022 observed and compared to SPEI and SPI calculated from 1981-2010.\n",
    "\n",
    "These two 'standardized' indices are calculated by:\n",
    "\n",
    "1. Fitting a probability distribution to the data set\n",
    "2. Determining a probability value for each value in the data set\n",
    "3. Transforming this probability to an equivalent ZScore from the standard normal distribution.\n",
    "    * The ZScore value provides the index value\n",
    "\n",
    "The SPI is calculated from monthly total precipitation. The monthly totals are aggregated to 3-, 6-, and 12-month rolling windows to create the data set value generates the SPI.\n",
    "* Pearson Type III (or 3 parameter Gamma) distribution is used for SPI\n",
    "\n",
    "The SPEI uses the total monthly deficit and aggregated monthly deficits using 3-, 6-, and 12-month rolling windows to create the data set values for the SPEI.\n",
    "* Log-logistic distribution (3 parameter) is used for SPEI\n",
    "\n",
    "The deficit ($D$) is:"
   ]
  },
  {
   "cell_type": "markdown",
   "metadata": {},
   "source": [
    "\\begin{equation*}\n",
    "    D_{i} = P_{i} - PET_{i}\n",
    "\\end{equation*}"
   ]
  },
  {
   "cell_type": "markdown",
   "metadata": {},
   "source": [
    "## Imports and Parameters"
   ]
  },
  {
   "cell_type": "code",
   "execution_count": 1,
   "metadata": {},
   "outputs": [],
   "source": [
    "%matplotlib inline"
   ]
  },
  {
   "cell_type": "code",
   "execution_count": 2,
   "metadata": {},
   "outputs": [],
   "source": [
    "import os\n",
    "from IPython.display import display, HTML\n",
    "import pandas as pd\n",
    "import numpy as np\n",
    "import matplotlib as mpl\n",
    "import matplotlib.pyplot as plt\n",
    "from scipy import stats as sstats\n",
    "from math import exp\n",
    "import datetime as dt\n",
    "import seaborn as sns\n",
    "import pickle\n",
    "from copy import deepcopy"
   ]
  },
  {
   "cell_type": "code",
   "execution_count": 3,
   "metadata": {},
   "outputs": [],
   "source": [
    "plt.rcParams['svg.fonttype'] = 'none'"
   ]
  },
  {
   "cell_type": "code",
   "execution_count": 4,
   "metadata": {},
   "outputs": [],
   "source": [
    "IN_DIR1 = r'C:\\Users\\nmartin\\Documents\\EAA_HCP\\Data\\SwRI_Processed\\LOCA2'\n",
    "IN_DIR2 = r'C:\\Users\\nmartin\\Documents\\EAA_HCP\\Data\\SwRI_Processed\\Processed_Historical\\SPEI'\n",
    "OUT_DIR = r'C:\\Users\\nmartin\\Documents\\EAA_HCP\\Data\\SwRI_Processed\\LOCA2\\SPEI'"
   ]
  },
  {
   "cell_type": "code",
   "execution_count": 5,
   "metadata": {},
   "outputs": [],
   "source": [
    "ProjFileRoot = \"Mod_%02d_%s_2023through2065_%s_DF.pkl\"\n",
    "MonIndexer = [ x for x in range(1,13,1)]"
   ]
  },
  {
   "cell_type": "code",
   "execution_count": 6,
   "metadata": {},
   "outputs": [],
   "source": [
    "# our standard normal or ZScore parameters\n",
    "ZMu = 0.0\n",
    "ZStd = 1.0"
   ]
  },
  {
   "cell_type": "code",
   "execution_count": 7,
   "metadata": {},
   "outputs": [],
   "source": [
    "BasKey = \"Sab-Med\""
   ]
  },
  {
   "cell_type": "code",
   "execution_count": 8,
   "metadata": {},
   "outputs": [],
   "source": [
    "MODEL_DICT = { 51 : [\"CMIP6\", [\"ssp245\", \"ssp585\"], ], \n",
    "               52 : [\"CMIP6\", [\"ssp245\", \"ssp585\"], ], \n",
    "               53 : [\"CMIP6\", [\"ssp245\", \"ssp585\"], ], \n",
    "               55 : [\"CMIP6\", [\"ssp245\", \"ssp585\"], ], \n",
    "               56 : [\"CMIP6\", [\"ssp245\", \"ssp585\"], ], \n",
    "               57 : [\"CMIP6\", [\"ssp245\", \"ssp585\"], ], \n",
    "               58 : [\"CMIP6\", [\"ssp245\", \"ssp585\"], ], \n",
    "               59 : [\"CMIP6\", [\"ssp245\", \"ssp585\"], ], \n",
    "               60 : [\"CMIP6\", [\"ssp245\", \"ssp585\"], ], \n",
    "               61 : [\"CMIP6\", [\"ssp245\", \"ssp585\"], ], \n",
    "               62 : [\"CMIP6\", [\"ssp245\", \"ssp585\"], ], \n",
    "               63 : [\"CMIP6\", [\"ssp245\", \"ssp585\"], ], \n",
    "               64 : [\"CMIP6\", [\"ssp245\", \"ssp585\"], ], \n",
    "               65 : [\"CMIP6\", [\"ssp245\", \"ssp585\"], ], \n",
    "               66 : [\"CMIP6\", [\"ssp245\", \"ssp585\"], ], \n",
    "               67 : [\"CMIP6\", [\"ssp245\", \"ssp585\"], ], \n",
    "               68 : [\"CMIP6\", [\"ssp245\", \"ssp585\"], ], \n",
    "               69 : [\"CMIP6\", [\"ssp245\", \"ssp585\"], ], \n",
    "               70 : [\"CMIP6\", [\"ssp245\", \"ssp585\"], ], \n",
    "               71 : [\"CMIP6\", [\"ssp245\", \"ssp585\"], ], \n",
    "               72 : [\"CMIP6\", [\"ssp245\", \"ssp585\"], ], \n",
    "               73 : [\"CMIP6\", [\"ssp245\", \"ssp585\"], ], \n",
    "               74 : [\"CMIP6\", [\"ssp245\", \"ssp585\"], ], }\n",
    "MODEL_KEYS = list( MODEL_DICT.keys() )"
   ]
  },
  {
   "cell_type": "markdown",
   "metadata": {},
   "source": [
    "Lambdas"
   ]
  },
  {
   "cell_type": "code",
   "execution_count": 9,
   "metadata": {},
   "outputs": [],
   "source": [
    "# lambdas\n",
    "ConvCFStoM3D = lambda cfs: ( cfs * ( ( 24.0 * 60.0 * 60.0 ) / 1.0 ) ) * ( pow(1.0, 3.0) / pow( 3.280839895, 3.0 ) )\n",
    "setYrMo = lambda yr, mo: ( int(yr) * 100 ) + int(mo)\n",
    "calcYr = lambda indx: int( indx / 100 )\n",
    "calcMo = lambda indx, yr: int( indx - ( yr * 100 ) )"
   ]
  },
  {
   "cell_type": "markdown",
   "metadata": {},
   "source": [
    "## Load the Historical from 1981-2010"
   ]
  },
  {
   "cell_type": "markdown",
   "metadata": {},
   "source": [
    "These are the fitted distribution parameters from 1981-2010 that are used to set the drought targets."
   ]
  },
  {
   "cell_type": "markdown",
   "metadata": {},
   "source": [
    "### SPEI"
   ]
  },
  {
   "cell_type": "code",
   "execution_count": 10,
   "metadata": {},
   "outputs": [],
   "source": [
    "InFiler = os.path.normpath( os.path.join( IN_DIR2, BasKey, \"%s_SPEI.xlsx\" % BasKey ) )"
   ]
  },
  {
   "cell_type": "code",
   "execution_count": 11,
   "metadata": {},
   "outputs": [],
   "source": [
    "CD3moObsDF = pd.read_excel( InFiler, sheet_name=\"SPEI_3mo\", header=0, index_col=0, parse_dates=True )"
   ]
  },
  {
   "cell_type": "code",
   "execution_count": 12,
   "metadata": {},
   "outputs": [],
   "source": [
    "CD3moObsDF[\"Month\"] = CD3moObsDF.index.month"
   ]
  },
  {
   "cell_type": "code",
   "execution_count": 13,
   "metadata": {},
   "outputs": [],
   "source": [
    "CD3moObsDF = CD3moObsDF.loc[pd.Timestamp( 1993, 1, 1, 0):pd.Timestamp(2022, 12, 31, 23, 59, )].copy()"
   ]
  },
  {
   "cell_type": "code",
   "execution_count": 14,
   "metadata": {},
   "outputs": [
    {
     "data": {
      "text/html": [
       "<table border=\"1\" class=\"dataframe\">\n",
       "  <thead>\n",
       "    <tr style=\"text-align: right;\">\n",
       "      <th></th>\n",
       "      <th>CumDef</th>\n",
       "      <th>CumProb</th>\n",
       "      <th>SPEI</th>\n",
       "      <th>5xCumProb</th>\n",
       "      <th>Month</th>\n",
       "    </tr>\n",
       "    <tr>\n",
       "      <th>DateTime</th>\n",
       "      <th></th>\n",
       "      <th></th>\n",
       "      <th></th>\n",
       "      <th></th>\n",
       "      <th></th>\n",
       "    </tr>\n",
       "  </thead>\n",
       "  <tbody>\n",
       "    <tr>\n",
       "      <th>1993-01-01</th>\n",
       "      <td>24.873482</td>\n",
       "      <td>0.841334</td>\n",
       "      <td>0.999957</td>\n",
       "      <td>4.206672</td>\n",
       "      <td>1</td>\n",
       "    </tr>\n",
       "    <tr>\n",
       "      <th>1993-02-01</th>\n",
       "      <td>-38.902702</td>\n",
       "      <td>0.694240</td>\n",
       "      <td>0.507905</td>\n",
       "      <td>3.471200</td>\n",
       "      <td>2</td>\n",
       "    </tr>\n",
       "    <tr>\n",
       "      <th>1993-03-01</th>\n",
       "      <td>-108.027237</td>\n",
       "      <td>0.513766</td>\n",
       "      <td>0.034512</td>\n",
       "      <td>2.568829</td>\n",
       "      <td>3</td>\n",
       "    </tr>\n",
       "    <tr>\n",
       "      <th>1993-04-01</th>\n",
       "      <td>-186.887543</td>\n",
       "      <td>0.498657</td>\n",
       "      <td>-0.003367</td>\n",
       "      <td>2.493284</td>\n",
       "      <td>4</td>\n",
       "    </tr>\n",
       "    <tr>\n",
       "      <th>1993-05-01</th>\n",
       "      <td>-212.952789</td>\n",
       "      <td>0.556349</td>\n",
       "      <td>0.141719</td>\n",
       "      <td>2.781744</td>\n",
       "      <td>5</td>\n",
       "    </tr>\n",
       "  </tbody>\n",
       "</table>"
      ],
      "text/plain": [
       "<IPython.core.display.HTML object>"
      ]
     },
     "metadata": {},
     "output_type": "display_data"
    }
   ],
   "source": [
    "display( HTML( CD3moObsDF.head().to_html() ) )"
   ]
  },
  {
   "cell_type": "code",
   "execution_count": 15,
   "metadata": {},
   "outputs": [
    {
     "data": {
      "text/html": [
       "<table border=\"1\" class=\"dataframe\">\n",
       "  <thead>\n",
       "    <tr style=\"text-align: right;\">\n",
       "      <th></th>\n",
       "      <th>CumDef</th>\n",
       "      <th>CumProb</th>\n",
       "      <th>SPEI</th>\n",
       "      <th>5xCumProb</th>\n",
       "      <th>Month</th>\n",
       "    </tr>\n",
       "    <tr>\n",
       "      <th>DateTime</th>\n",
       "      <th></th>\n",
       "      <th></th>\n",
       "      <th></th>\n",
       "      <th></th>\n",
       "      <th></th>\n",
       "    </tr>\n",
       "  </thead>\n",
       "  <tbody>\n",
       "    <tr>\n",
       "      <th>2022-08-01</th>\n",
       "      <td>-475.155426</td>\n",
       "      <td>0.174960</td>\n",
       "      <td>-0.934743</td>\n",
       "      <td>0.874802</td>\n",
       "      <td>8</td>\n",
       "    </tr>\n",
       "    <tr>\n",
       "      <th>2022-09-01</th>\n",
       "      <td>-409.895050</td>\n",
       "      <td>0.335291</td>\n",
       "      <td>-0.425348</td>\n",
       "      <td>1.676457</td>\n",
       "      <td>9</td>\n",
       "    </tr>\n",
       "    <tr>\n",
       "      <th>2022-10-01</th>\n",
       "      <td>-277.744415</td>\n",
       "      <td>0.360193</td>\n",
       "      <td>-0.357943</td>\n",
       "      <td>1.800964</td>\n",
       "      <td>10</td>\n",
       "    </tr>\n",
       "    <tr>\n",
       "      <th>2022-11-01</th>\n",
       "      <td>-203.610107</td>\n",
       "      <td>0.237185</td>\n",
       "      <td>-0.715387</td>\n",
       "      <td>1.185925</td>\n",
       "      <td>11</td>\n",
       "    </tr>\n",
       "    <tr>\n",
       "      <th>2022-12-01</th>\n",
       "      <td>-117.007607</td>\n",
       "      <td>0.374655</td>\n",
       "      <td>-0.319549</td>\n",
       "      <td>1.873276</td>\n",
       "      <td>12</td>\n",
       "    </tr>\n",
       "  </tbody>\n",
       "</table>"
      ],
      "text/plain": [
       "<IPython.core.display.HTML object>"
      ]
     },
     "metadata": {},
     "output_type": "display_data"
    }
   ],
   "source": [
    "display( HTML( CD3moObsDF.tail().to_html() ) )"
   ]
  },
  {
   "cell_type": "code",
   "execution_count": 16,
   "metadata": {},
   "outputs": [],
   "source": [
    "SPEI3moObsParamsDF = pd.read_excel( InFiler, sheet_name=\"Stats_3mo\", header=0, index_col=0 )"
   ]
  },
  {
   "cell_type": "code",
   "execution_count": 17,
   "metadata": {},
   "outputs": [],
   "source": [
    "ObsLLogParams = dict()"
   ]
  },
  {
   "cell_type": "code",
   "execution_count": 18,
   "metadata": {},
   "outputs": [],
   "source": [
    "for mon in MonIndexer:\n",
    "    localDict = dict()\n",
    "    localDict[\"k\"] = SPEI3moObsParamsDF.at[\"shape_%d\" % mon, \"SPEI Fit Stats\"]\n",
    "    localDict[\"scale\"] = SPEI3moObsParamsDF.at[\"scale_%d\" % mon, \"SPEI Fit Stats\"]\n",
    "    localDict[\"loc\"] = SPEI3moObsParamsDF.at[\"loc_%d\" % mon, \"SPEI Fit Stats\"]\n",
    "    ObsLLogParams[mon] = deepcopy( localDict )\n",
    "# end for"
   ]
  },
  {
   "cell_type": "markdown",
   "metadata": {},
   "source": [
    "### SPI"
   ]
  },
  {
   "cell_type": "code",
   "execution_count": 19,
   "metadata": {},
   "outputs": [],
   "source": [
    "InFiler = os.path.normpath( os.path.join( IN_DIR2, BasKey, \"%s_SPI.xlsx\" % BasKey ) )"
   ]
  },
  {
   "cell_type": "code",
   "execution_count": 20,
   "metadata": {},
   "outputs": [],
   "source": [
    "CP3moObsDF = pd.read_excel( InFiler, sheet_name=\"SPI_3mo\", header=0, index_col=0, parse_dates=True )"
   ]
  },
  {
   "cell_type": "code",
   "execution_count": 21,
   "metadata": {},
   "outputs": [],
   "source": [
    "CP3moObsDF[\"Month\"] = CP3moObsDF.index.month"
   ]
  },
  {
   "cell_type": "code",
   "execution_count": 22,
   "metadata": {},
   "outputs": [],
   "source": [
    "CP3moObsDF = CP3moObsDF.loc[pd.Timestamp( 1993, 1, 1, 0):pd.Timestamp(2022, 12, 31, 23, 59, )].copy()"
   ]
  },
  {
   "cell_type": "code",
   "execution_count": 23,
   "metadata": {},
   "outputs": [
    {
     "data": {
      "text/html": [
       "<table border=\"1\" class=\"dataframe\">\n",
       "  <thead>\n",
       "    <tr style=\"text-align: right;\">\n",
       "      <th></th>\n",
       "      <th>CumPre</th>\n",
       "      <th>CumProb</th>\n",
       "      <th>SPI</th>\n",
       "      <th>5xCumProb</th>\n",
       "      <th>Month</th>\n",
       "    </tr>\n",
       "    <tr>\n",
       "      <th>DateTime</th>\n",
       "      <th></th>\n",
       "      <th></th>\n",
       "      <th></th>\n",
       "      <th></th>\n",
       "      <th></th>\n",
       "    </tr>\n",
       "  </thead>\n",
       "  <tbody>\n",
       "    <tr>\n",
       "      <th>1993-01-01</th>\n",
       "      <td>216.400177</td>\n",
       "      <td>0.823344</td>\n",
       "      <td>0.928184</td>\n",
       "      <td>4.116719</td>\n",
       "      <td>1</td>\n",
       "    </tr>\n",
       "    <tr>\n",
       "      <th>1993-02-01</th>\n",
       "      <td>153.225891</td>\n",
       "      <td>0.696119</td>\n",
       "      <td>0.513271</td>\n",
       "      <td>3.480596</td>\n",
       "      <td>2</td>\n",
       "    </tr>\n",
       "    <tr>\n",
       "      <th>1993-03-01</th>\n",
       "      <td>138.647141</td>\n",
       "      <td>0.529044</td>\n",
       "      <td>0.072868</td>\n",
       "      <td>2.645222</td>\n",
       "      <td>3</td>\n",
       "    </tr>\n",
       "    <tr>\n",
       "      <th>1993-04-01</th>\n",
       "      <td>143.069199</td>\n",
       "      <td>0.433341</td>\n",
       "      <td>-0.167875</td>\n",
       "      <td>2.166704</td>\n",
       "      <td>4</td>\n",
       "    </tr>\n",
       "    <tr>\n",
       "      <th>1993-05-01</th>\n",
       "      <td>216.997360</td>\n",
       "      <td>0.617892</td>\n",
       "      <td>0.299948</td>\n",
       "      <td>3.089458</td>\n",
       "      <td>5</td>\n",
       "    </tr>\n",
       "  </tbody>\n",
       "</table>"
      ],
      "text/plain": [
       "<IPython.core.display.HTML object>"
      ]
     },
     "metadata": {},
     "output_type": "display_data"
    }
   ],
   "source": [
    "display( HTML( CP3moObsDF.head().to_html() ) ) "
   ]
  },
  {
   "cell_type": "code",
   "execution_count": 24,
   "metadata": {},
   "outputs": [
    {
     "data": {
      "text/html": [
       "<table border=\"1\" class=\"dataframe\">\n",
       "  <thead>\n",
       "    <tr style=\"text-align: right;\">\n",
       "      <th></th>\n",
       "      <th>CumPre</th>\n",
       "      <th>CumProb</th>\n",
       "      <th>SPI</th>\n",
       "      <th>5xCumProb</th>\n",
       "      <th>Month</th>\n",
       "    </tr>\n",
       "    <tr>\n",
       "      <th>DateTime</th>\n",
       "      <th></th>\n",
       "      <th></th>\n",
       "      <th></th>\n",
       "      <th></th>\n",
       "      <th></th>\n",
       "    </tr>\n",
       "  </thead>\n",
       "  <tbody>\n",
       "    <tr>\n",
       "      <th>2022-08-01</th>\n",
       "      <td>133.103180</td>\n",
       "      <td>0.286544</td>\n",
       "      <td>-0.563508</td>\n",
       "      <td>1.432722</td>\n",
       "      <td>8</td>\n",
       "    </tr>\n",
       "    <tr>\n",
       "      <th>2022-09-01</th>\n",
       "      <td>141.115005</td>\n",
       "      <td>0.427738</td>\n",
       "      <td>-0.182135</td>\n",
       "      <td>2.138692</td>\n",
       "      <td>9</td>\n",
       "    </tr>\n",
       "    <tr>\n",
       "      <th>2022-10-01</th>\n",
       "      <td>176.093597</td>\n",
       "      <td>0.395275</td>\n",
       "      <td>-0.265597</td>\n",
       "      <td>1.976373</td>\n",
       "      <td>10</td>\n",
       "    </tr>\n",
       "    <tr>\n",
       "      <th>2022-11-01</th>\n",
       "      <td>138.766907</td>\n",
       "      <td>0.237100</td>\n",
       "      <td>-0.715663</td>\n",
       "      <td>1.185499</td>\n",
       "      <td>11</td>\n",
       "    </tr>\n",
       "    <tr>\n",
       "      <th>2022-12-01</th>\n",
       "      <td>131.842194</td>\n",
       "      <td>0.462537</td>\n",
       "      <td>-0.094043</td>\n",
       "      <td>2.312687</td>\n",
       "      <td>12</td>\n",
       "    </tr>\n",
       "  </tbody>\n",
       "</table>"
      ],
      "text/plain": [
       "<IPython.core.display.HTML object>"
      ]
     },
     "metadata": {},
     "output_type": "display_data"
    }
   ],
   "source": [
    "display( HTML( CP3moObsDF.tail().to_html() ) )"
   ]
  },
  {
   "cell_type": "code",
   "execution_count": 25,
   "metadata": {},
   "outputs": [],
   "source": [
    "SPI3moObsParamsDF = pd.read_excel( InFiler, sheet_name=\"Stats_3mo\", header=0, index_col=0 )"
   ]
  },
  {
   "cell_type": "code",
   "execution_count": 26,
   "metadata": {},
   "outputs": [],
   "source": [
    "ObsP3Params = dict()"
   ]
  },
  {
   "cell_type": "code",
   "execution_count": 27,
   "metadata": {},
   "outputs": [],
   "source": [
    "for mon in MonIndexer:\n",
    "    localDict = dict()\n",
    "    localDict[\"skew\"] = SPI3moObsParamsDF.at[\"skew_%d\" % mon, \"SPI Fit Stats\"]\n",
    "    localDict[\"scale\"] = SPI3moObsParamsDF.at[\"scale_%d\" % mon, \"SPI Fit Stats\"]\n",
    "    localDict[\"location\"] = SPI3moObsParamsDF.at[\"loc_%d\" % mon, \"SPI Fit Stats\"]\n",
    "    ObsP3Params[mon] = deepcopy( localDict )\n",
    "# end for"
   ]
  },
  {
   "cell_type": "markdown",
   "metadata": {},
   "source": [
    "## Load the Projected Future Data and Aggregate to 3-month Windows"
   ]
  },
  {
   "cell_type": "markdown",
   "metadata": {},
   "source": [
    "Load all models to focused DataFrames of the needed quantities and store in a dictionary by model."
   ]
  },
  {
   "cell_type": "code",
   "execution_count": 28,
   "metadata": {},
   "outputs": [],
   "source": [
    "tSen = \"ssp585\"\n",
    "dropCols = [\"Year\", \"Month\"]"
   ]
  },
  {
   "cell_type": "code",
   "execution_count": 29,
   "metadata": {},
   "outputs": [],
   "source": [
    "ModPreDict = dict()\n",
    "ModDefDict = dict()"
   ]
  },
  {
   "cell_type": "code",
   "execution_count": 30,
   "metadata": {},
   "outputs": [],
   "source": [
    "for mKey in MODEL_KEYS:\n",
    "    InFiler = os.path.normpath( os.path.join( IN_DIR1, ProjFileRoot % ( mKey, tSen, BasKey ) ) )\n",
    "    curDF = pd.read_pickle( InFiler )\n",
    "    curPre = curDF[[\"Year\", \"Month\", \"Pre_mm\"]].copy()\n",
    "    curDef = curDF[[\"Year\", \"Month\", \"Def_mm\"]].copy()\n",
    "    curPre[\"YrMo\"] = curPre.apply( lambda row: setYrMo( row[\"Year\"], row[\"Month\"] ), axis=1 )\n",
    "    curDef[\"YrMo\"] = curDef.apply( lambda row: setYrMo( row[\"Year\"], row[\"Month\"] ), axis=1 )\n",
    "    curPreDF1 = curPre.drop( columns=dropCols )\n",
    "    curMonPreDF = curPreDF1.groupby(by=\"YrMo\").sum()\n",
    "    curMonPreDF[\"Year\"] = [ int( x / 100 ) for x in curMonPreDF.index.to_list() ]\n",
    "    curMonPreDF[\"Month\"] = [ int( x - ( y * 100 ) ) for x,y in zip( curMonPreDF.index.to_list(), curMonPreDF[\"Year\"].to_list() ) ]\n",
    "    curMonPreDF[\"3moCum\"] = curMonPreDF[\"Pre_mm\"].rolling(window=3,).sum()\n",
    "    curMonPreDF = curMonPreDF[(curMonPreDF[\"Year\"] >= 2031) & (curMonPreDF[\"Year\"] <= 2060)].copy()\n",
    "    ModPreDict[mKey] = curMonPreDF.copy()\n",
    "    curDefDF1 = curDef.drop( columns=dropCols )\n",
    "    curMonDefDF = curDefDF1.groupby(by=\"YrMo\").sum()\n",
    "    curMonDefDF[\"Year\"] = [ int( x / 100 ) for x in curMonDefDF.index.to_list() ]\n",
    "    curMonDefDF[\"Month\"] = [ int( x - ( y * 100 ) ) for x,y in zip( curMonDefDF.index.to_list(), curMonDefDF[\"Year\"].to_list() ) ]\n",
    "    curMonDefDF[\"3moCum\"] = curMonDefDF[\"Def_mm\"].rolling(window=3,).sum()\n",
    "    curMonDefDF = curMonDefDF[(curMonDefDF[\"Year\"] >= 2031) & (curMonDefDF[\"Year\"] <= 2060)].copy()\n",
    "    ModDefDict[mKey] = curMonDefDF.copy()\n",
    "# end for"
   ]
  },
  {
   "cell_type": "markdown",
   "metadata": {},
   "source": [
    "## Fit Distributions and Calculate Indices"
   ]
  },
  {
   "cell_type": "markdown",
   "metadata": {},
   "source": [
    "### SPI: Pearson Type III"
   ]
  },
  {
   "cell_type": "markdown",
   "metadata": {},
   "source": [
    "Fit Pearson Type III Distributions to each month and each window length.\n",
    "\n",
    "Scipy stats fit for Pearson Type III returns a tuple with:\n",
    "\n",
    "0. **skew**\n",
    "1. **location**\n",
    "2. **scale**\n",
    "\n",
    "The cumulative distribution function (for Pearson Type III) is then used to estimate a cumulative probability for each moving sum value (i.e., each calendar month across all years in the data set). The cumulative probability is then transformed into a Z-Score using the standard normal distribution."
   ]
  },
  {
   "cell_type": "code",
   "execution_count": 31,
   "metadata": {},
   "outputs": [
    {
     "data": {
      "text/plain": [
       "30"
      ]
     },
     "execution_count": 31,
     "metadata": {},
     "output_type": "execute_result"
    }
   ],
   "source": [
    "TotYears = ( 2060 - 2031 ) + 1\n",
    "TotYears"
   ]
  },
  {
   "cell_type": "code",
   "execution_count": 32,
   "metadata": {},
   "outputs": [
    {
     "data": {
      "text/plain": [
       "30"
      ]
     },
     "execution_count": 32,
     "metadata": {},
     "output_type": "execute_result"
    }
   ],
   "source": [
    "TotEstYears = (2022 - 1993) + 1\n",
    "TotEstYears"
   ]
  },
  {
   "cell_type": "code",
   "execution_count": 33,
   "metadata": {},
   "outputs": [],
   "source": [
    "# create empty tracking dictionaries\n",
    "M3MonDict = dict()\n",
    "# loop through by integer month\n",
    "for mI in MonIndexer:\n",
    "    # get the observed first first\n",
    "    obsDF = CP3moObsDF[CP3moObsDF[\"Month\"] == mI].copy()\n",
    "    extA3Mon = obsDF[\"CumPre\"].to_numpy(dtype=np.float32)\n",
    "    # next get a single array for the month from all models\n",
    "    allMonPreList = list()\n",
    "    for mKey in MODEL_KEYS:\n",
    "        curDF = ModPreDict[mKey]\n",
    "        cMonDF = curDF[curDF[\"Month\"] == mI].copy()\n",
    "        allMonPreList.append( cMonDF[\"3moCum\"].to_numpy(dtype=np.float32) )\n",
    "    # end for\n",
    "    a3Mon = np.concatenate( allMonPreList )\n",
    "    # fit Pearson Type III distributions to these arrays\n",
    "    fitT3Mon = sstats.pearson3.fit( a3Mon )\n",
    "    lD3Mon = { \"skew\" : fitT3Mon[0], \"location\" : fitT3Mon[1],\n",
    "               \"scale\" : fitT3Mon[2], }\n",
    "    # now get the cumulative probability values from the distributions\n",
    "    #   for the observed values.\n",
    "    data3MCDF = sstats.pearson3.cdf( extA3Mon, lD3Mon[\"skew\"], loc=lD3Mon[\"location\"], \n",
    "                                     scale=lD3Mon[\"scale\"] )\n",
    "    SPI3Mo = sstats.norm.ppf( data3MCDF, loc=ZMu, scale=ZStd )\n",
    "    # dictionary entries for this month\n",
    "    M3MonDict[mI] = [ [data3MCDF, SPI3Mo, extA3Mon], lD3Mon ]\n",
    "# end month for\n",
    "# now rebuild to time series from the month tracking dictionary\n",
    "spi3mList = list()\n",
    "cprob3mList = list()\n",
    "cumD3mList = list()\n",
    "# loop through years and fill by month order\n",
    "for yI in range(TotEstYears):\n",
    "    for mI in MonIndexer:\n",
    "        m3ArraySP = M3MonDict[mI][0][1]\n",
    "        m3ArrayCP = M3MonDict[mI][0][0]\n",
    "        m3ArrayCD = M3MonDict[mI][0][2]\n",
    "        if yI < len( m3ArrayCP ):\n",
    "            spi3mList.append( m3ArraySP[yI] )\n",
    "            cprob3mList.append( m3ArrayCP[yI] )\n",
    "            cumD3mList.append( m3ArrayCD[yI] )\n",
    "        # end if\n",
    "    # end inner for\n",
    "# end outer for\n",
    "# now build the time indexed DataFrame\n",
    "DataDict = { \"CumPre\" : np.array( cumD3mList, dtype=np.float32 ),\n",
    "             \"CumProb (2031-2060)\" : np.array( cprob3mList, dtype=np.float32 ), \n",
    "             \"LOCA2 SPI (2031-2060)\" : np.array( spi3mList, dtype=np.float32 ),\n",
    "             \"CumProb (1981-2010)\" : CP3moObsDF[\"CumProb\"].to_numpy(dtype=np.float32), \n",
    "             \"SPI (1981-2010)\" : CP3moObsDF[\"SPI\"].to_numpy(dtype=np.float32), }\n",
    "spi3DF = pd.DataFrame( index=CP3moObsDF.index, data=DataDict )\n",
    "# now do the stats\n",
    "stats3List = list()\n",
    "indNList = list()\n",
    "for mI in MonIndexer:\n",
    "    lD3Mon = M3MonDict[mI][1]\n",
    "    indNList.append( \"skew_%d\" % mI )\n",
    "    indNList.append( \"scale_%d\" % mI )\n",
    "    indNList.append( \"loc_%d\" % mI )\n",
    "    stats3List.append( lD3Mon[\"skew\"] )\n",
    "    stats3List.append( lD3Mon[\"scale\"] )\n",
    "    stats3List.append( lD3Mon[\"location\"] )\n",
    "# end for\n",
    "# build the DataFrame\n",
    "stats3DF = pd.DataFrame( index=indNList, data={\"SPI Fit Stats\" : stats3List,} )"
   ]
  },
  {
   "cell_type": "markdown",
   "metadata": {},
   "source": [
    "#### Output"
   ]
  },
  {
   "cell_type": "code",
   "execution_count": 34,
   "metadata": {},
   "outputs": [
    {
     "data": {
      "text/html": [
       "<table border=\"1\" class=\"dataframe\">\n",
       "  <thead>\n",
       "    <tr style=\"text-align: right;\">\n",
       "      <th></th>\n",
       "      <th>CumPre</th>\n",
       "      <th>CumProb (2031-2060)</th>\n",
       "      <th>LOCA2 SPI (2031-2060)</th>\n",
       "      <th>CumProb (1981-2010)</th>\n",
       "      <th>SPI (1981-2010)</th>\n",
       "    </tr>\n",
       "    <tr>\n",
       "      <th>DateTime</th>\n",
       "      <th></th>\n",
       "      <th></th>\n",
       "      <th></th>\n",
       "      <th></th>\n",
       "      <th></th>\n",
       "    </tr>\n",
       "  </thead>\n",
       "  <tbody>\n",
       "    <tr>\n",
       "      <th>1993-01-01</th>\n",
       "      <td>216.400177</td>\n",
       "      <td>0.942043</td>\n",
       "      <td>1.572158</td>\n",
       "      <td>0.823344</td>\n",
       "      <td>0.928184</td>\n",
       "    </tr>\n",
       "    <tr>\n",
       "      <th>1993-02-01</th>\n",
       "      <td>153.225891</td>\n",
       "      <td>0.839694</td>\n",
       "      <td>0.993200</td>\n",
       "      <td>0.696119</td>\n",
       "      <td>0.513271</td>\n",
       "    </tr>\n",
       "    <tr>\n",
       "      <th>1993-03-01</th>\n",
       "      <td>138.647141</td>\n",
       "      <td>0.717833</td>\n",
       "      <td>0.576417</td>\n",
       "      <td>0.529044</td>\n",
       "      <td>0.072868</td>\n",
       "    </tr>\n",
       "    <tr>\n",
       "      <th>1993-04-01</th>\n",
       "      <td>143.069199</td>\n",
       "      <td>0.596203</td>\n",
       "      <td>0.243531</td>\n",
       "      <td>0.433341</td>\n",
       "      <td>-0.167875</td>\n",
       "    </tr>\n",
       "    <tr>\n",
       "      <th>1993-05-01</th>\n",
       "      <td>216.997360</td>\n",
       "      <td>0.647143</td>\n",
       "      <td>0.377619</td>\n",
       "      <td>0.617892</td>\n",
       "      <td>0.299948</td>\n",
       "    </tr>\n",
       "  </tbody>\n",
       "</table>"
      ],
      "text/plain": [
       "<IPython.core.display.HTML object>"
      ]
     },
     "metadata": {},
     "output_type": "display_data"
    }
   ],
   "source": [
    "display( HTML( spi3DF.head().to_html() ) )"
   ]
  },
  {
   "cell_type": "code",
   "execution_count": 35,
   "metadata": {},
   "outputs": [
    {
     "data": {
      "text/html": [
       "<table border=\"1\" class=\"dataframe\">\n",
       "  <thead>\n",
       "    <tr style=\"text-align: right;\">\n",
       "      <th></th>\n",
       "      <th>SPI Fit Stats</th>\n",
       "    </tr>\n",
       "  </thead>\n",
       "  <tbody>\n",
       "    <tr>\n",
       "      <th>skew_1</th>\n",
       "      <td>0.983382</td>\n",
       "    </tr>\n",
       "    <tr>\n",
       "      <th>scale_1</th>\n",
       "      <td>60.269491</td>\n",
       "    </tr>\n",
       "    <tr>\n",
       "      <th>loc_1</th>\n",
       "      <td>110.139216</td>\n",
       "    </tr>\n",
       "    <tr>\n",
       "      <th>skew_2</th>\n",
       "      <td>1.046062</td>\n",
       "    </tr>\n",
       "    <tr>\n",
       "      <th>scale_2</th>\n",
       "      <td>55.268000</td>\n",
       "    </tr>\n",
       "  </tbody>\n",
       "</table>"
      ],
      "text/plain": [
       "<IPython.core.display.HTML object>"
      ]
     },
     "metadata": {},
     "output_type": "display_data"
    }
   ],
   "source": [
    "display( HTML( stats3DF.head().to_html() ) )"
   ]
  },
  {
   "cell_type": "markdown",
   "metadata": {},
   "source": [
    "Output to a spreadsheet"
   ]
  },
  {
   "cell_type": "code",
   "execution_count": 36,
   "metadata": {},
   "outputs": [],
   "source": [
    "outXLSX = os.path.normpath( os.path.join( OUT_DIR, BasKey, \"%s_SPI.xlsx\" % BasKey ) )\n",
    "writer = pd.ExcelWriter( outXLSX )\n",
    "workbook  = writer.book\n",
    "format1 = workbook.add_format({'num_format': '#,##0.00000'})\n",
    "cLabel = \"Stats_3mo\"\n",
    "stats3DF.to_excel( writer, sheet_name=cLabel, index_label=\"Stats\" )\n",
    "# adjust columns\n",
    "writer.sheets[cLabel].set_column( 0, 0, 12 )\n",
    "for column in stats3DF:\n",
    "    column_width = max(stats3DF[column].astype(str).map(len).max()+6, len(column)+6)\n",
    "    col_idx = stats3DF.columns.get_loc(column)\n",
    "    writer.sheets[cLabel].set_column(col_idx+1, col_idx+1, column_width, format1)\n",
    "# end for\n",
    "cLabel = \"SPI_3mo\"\n",
    "spi3DF.to_excel( writer, sheet_name=cLabel, index_label=\"DateTime\" )\n",
    "# adjust columns\n",
    "writer.sheets[cLabel].set_column( 0, 0, 18 )\n",
    "for column in spi3DF:\n",
    "    column_width = max(spi3DF[column].astype(str).map(len).max()+6, len(column)+6)\n",
    "    col_idx = spi3DF.columns.get_loc(column)\n",
    "    writer.sheets[cLabel].set_column(col_idx+1, col_idx+1, column_width, format1)\n",
    "# end for\n",
    "writer.close()"
   ]
  },
  {
   "cell_type": "markdown",
   "metadata": {},
   "source": [
    "### SPEI: Log-Logistic"
   ]
  },
  {
   "cell_type": "markdown",
   "metadata": {},
   "source": [
    "[Vicente-Serrano and others (2010)](https://journals.ametsoc.org/view/journals/clim/23/7/2009jcli2909.1.xml) developed the Standardized Precipitation Evapotranspiration Index (SPEI) to provide a climatic drought index that would be sensitive to global warming. The SPEI is congruent with the SPI; the primary difference is that monthly deficit (D) values are used in place of monthly precipitation (P) values. They also found that the log-logistic distribution (3 parameter) performed better than the Pearson Type III (or 3 parameter Gamma) distribution for calculating the SPEI from D values, which tend to be mostly negative in arid and semi-arid environments.\n",
    "\n",
    "Unfortunately, the log-logistic distribution is not currently included in [SciPy stats](https://docs.scipy.org/doc/scipy/tutorial/stats.html) which is the package used for other distributions in this notebook (i.e., [Pearson Type III](https://docs.scipy.org/doc/scipy/reference/generated/scipy.stats.pearson3.html) and [Normal](https://docs.scipy.org/doc/scipy/tutorial/stats/continuous_norm.html) ).\n",
    "\n",
    "In searching for a log-logistic implementation to use for the SPEI calculation, [Hosking and Wallis (1997) Regional Frequency Analysis](https://www.cambridge.org/core/books/regional-frequency-analysis/8C59835F9361705DAAE1ADFDEA7ECD30) provides a 'Generalized Logistic Distribution' in the Appendix with the information needed to estimate probability distribution values. The 'Generalized Logistic Distribution' is a reparameterized version of the log-logistic distribution of [Ahmad and others (1988)](https://www.sciencedirect.com/science/article/abs/pii/0022169488900157).\n",
    "\n",
    "Two custom functions are presented below to calculate the probability distribution values using the 'Generalized Logistic Distribution' which provides a log-logistic distribution when the shape parameter (or $k$) is not equal to zero. After developing and testing these functions against the [lmoment3 package](https://open-hydrology.readthedocs.io/projects/lmoments3/en/stable/), the [Generalized Logistic](https://docs.scipy.org/doc/scipy/reference/generated/scipy.stats.genlogistic.html#scipy.stats.genlogistic) implementation in Scipy stats was discovered.\n",
    "\n",
    "The custom function, L-moments approach is used going forward to calculate SPEI because:\n",
    "\n",
    "1. lmoment3 package is not up to date with current versions of SciPy and will throw errors\n",
    "2. SciPy Stats Genlogistic does not work with negative shape parameters and so cannot use the L-moment estimated distribution parameters. MLE-based parameter estimates seem close and reasonable but it is thought that the custom L-moments approach will be more stable in general."
   ]
  },
  {
   "cell_type": "code",
   "execution_count": 37,
   "metadata": {},
   "outputs": [],
   "source": [
    "def estimatellogparams( npArray ):\n",
    "    \"\"\"Estimate the parameters of a log-logistic distribution from an\n",
    "    array of annual values.\n",
    "    \n",
    "    Estimate is done using L-moments and the \"Generalized logistic distribution\".\n",
    "    This distribtion is a reparameterized version of the log-logistic\n",
    "    distribution of Ahmad et al. (1988). Estimation is done using \n",
    "    the equations and procedure in Appendix A.7 of \"Regional Frequency\n",
    "    Analysis\", Hosking and Wallis (1997)\n",
    "    \n",
    "    To estimate the distribution parameters (shape, scale, and location),\n",
    "    the L-moments l1, l2, and t3 need to be calculated. These three\n",
    "    L-moments can be estimated from the first three, sample weighted\n",
    "    probability moments (b0, b1, and b2).\n",
    "    \n",
    "    Args:\n",
    "        npArray (np.ndarray): Numpy, 1D array\n",
    "    \n",
    "    Returns:\n",
    "        log-logistic parameters in dictionary, D:\n",
    "            D[\"k\"]: k or shape\n",
    "            D[\"scale\"]: alpha or scale\n",
    "            D[\"loc\"]: Eta or location\n",
    "    \"\"\"\n",
    "    # imports\n",
    "    import math\n",
    "    # don't do any checking for type and assume that will always\n",
    "    #  be Numpy ndarray for single argument\n",
    "    totLen = len( npArray )\n",
    "    # need a sorted array in increasing order\n",
    "    srtAr = np.sort( npArray )\n",
    "    # calculate sample probability weighted moments: b0, b1, b2\n",
    "    b0 = srtAr.mean()\n",
    "    b1 = 0.0\n",
    "    for iI in range(2, totLen + 1):\n",
    "        b1 += ( ( iI - 1 ) / ( totLen - 1 ) ) * srtAr[iI-1]\n",
    "    # end for\n",
    "    b1 = b1 / totLen\n",
    "    b2 = 0.0\n",
    "    for iI in range( 3, totLen + 1 ):\n",
    "        b2 += ( ( ( iI - 1 ) * ( iI - 2 ) ) / ( ( totLen - 1 ) * (totLen - 2 ) ) ) * srtAr[iI-1]\n",
    "    # end for\n",
    "    b2 = b2 / totLen\n",
    "    # calculate sample L-moments: l1, l2, t3\n",
    "    l1 = b0\n",
    "    l2 = (2.0 * b1 ) - b0\n",
    "    l3 = ( 6.0 * b2 ) -  ( 6.0 * b1 ) + b0\n",
    "    t3 = l3 / l2\n",
    "    # estimate the distribution parameters\n",
    "    shape = -1.0 * t3\n",
    "    scale = ( l2 * math.sin( shape * math.pi ) ) / ( shape * math.pi )\n",
    "    location = l1 - ( scale * ( ( 1.0 / shape ) - ( math.pi / math.sin( shape * math.pi ) ) ) )\n",
    "    retDict = { \"k\" : shape,\n",
    "                \"scale\" : scale,\n",
    "                \"loc\" : location, }\n",
    "    # return\n",
    "    return retDict"
   ]
  },
  {
   "cell_type": "code",
   "execution_count": 38,
   "metadata": {},
   "outputs": [],
   "source": [
    "def probDistLLogis( paramDict, npArray ):\n",
    "    \"\"\"Uses generalized logistic probability distribution to estimate cumulative\n",
    "    probilities for each value in the Numpy array, npArray.\n",
    "    \n",
    "    Args:\n",
    "        paramDict (dict): dictionary with best-fit parameter values for a \n",
    "                log-logisitic distribution. Must have keys: \"k\", \"scale\",\n",
    "                \"loc\" which are the 3 required parameters\n",
    "        npArray (np.ndarray): array from time series of monthly, rolling\n",
    "                average values\n",
    "    \n",
    "    Returns:\n",
    "        retArray (np.ndarray): cumulative probabilies for each npArray value\n",
    "    \"\"\"\n",
    "    shape = paramDict[\"k\"]\n",
    "    location = paramDict[\"loc\"]\n",
    "    scale = paramDict[\"scale\"]\n",
    "    if shape == 0.0:\n",
    "        # this is the special case of a logistic distribution with 2 params\n",
    "        y = ( npArray - location ) / scale\n",
    "    else:\n",
    "        # this is the general case of the log-logistic distribution\n",
    "        takeLogArray = 1.0 - ( shape * ( npArray - location ) / scale )\n",
    "        useLogArray = np.where( takeLogArray <= 0.0, 1e-7, takeLogArray )\n",
    "        y = ( -1.0 * ( 1.0 / shape ) ) * np.log( useLogArray )\n",
    "    # end if\n",
    "    retArray = 1.0 / ( 1.0 + np.exp( -1.0 * y  ) )\n",
    "    # return\n",
    "    return retArray"
   ]
  },
  {
   "cell_type": "code",
   "execution_count": 39,
   "metadata": {},
   "outputs": [],
   "source": [
    "# create empty tracking dictionaries\n",
    "M3MonDict = dict()\n",
    "# loop through by integer month\n",
    "for mI in MonIndexer:\n",
    "    # get the observed first first\n",
    "    obsDF = CD3moObsDF[CD3moObsDF[\"Month\"] == mI].copy()\n",
    "    extA3Mon = obsDF[\"CumDef\"].to_numpy(dtype=np.float32)\n",
    "    # next get a single array for the month from all models\n",
    "    allMonDefList = list()\n",
    "    for mKey in MODEL_KEYS:\n",
    "        curDF = ModDefDict[mKey]\n",
    "        cMonDF = curDF[curDF[\"Month\"] == mI].copy()\n",
    "        allMonDefList.append( cMonDF[\"3moCum\"].to_numpy(dtype=np.float32) )\n",
    "    # end for\n",
    "    a3Mon = np.concatenate( allMonDefList )\n",
    "    # fit 'generalized logistic' distributions to these arrays\n",
    "    lD3Mon = estimatellogparams( a3Mon )\n",
    "    # now get the cumulative probability values from the distributions\n",
    "    #   for the observed values.\n",
    "    data3MCDF = probDistLLogis( lD3Mon, extA3Mon )\n",
    "    # make sure the cumulative density is not less than 1.0 / (2* N years).\n",
    "    data3MCDF = np.where( data3MCDF < (1.0/60.0), (1.0/60.0), data3MCDF )\n",
    "    SPEI3Mo = sstats.norm.ppf( data3MCDF, loc=ZMu, scale=ZStd )\n",
    "    # dictionary entries for this month\n",
    "    M3MonDict[mI] = [ [data3MCDF, SPEI3Mo, extA3Mon], lD3Mon ]\n",
    "# end month for\n",
    "# now rebuild to time series from the month tracking dictionary\n",
    "spei3mList = list()\n",
    "cprob3mList = list()\n",
    "cumD3mList = list()\n",
    "# loop through years and fill by month order\n",
    "for yI in range(TotEstYears):\n",
    "    for mI in MonIndexer:\n",
    "        m3ArraySP = M3MonDict[mI][0][1]\n",
    "        m3ArrayCP = M3MonDict[mI][0][0]\n",
    "        m3ArrayCD = M3MonDict[mI][0][2]\n",
    "        if yI < len( m3ArrayCP ):\n",
    "            spei3mList.append( m3ArraySP[yI] )\n",
    "            cprob3mList.append( m3ArrayCP[yI] )\n",
    "            cumD3mList.append( m3ArrayCD[yI] )\n",
    "        # end if\n",
    "    # end inner for\n",
    "# end outer for\n",
    "# now build the time indexed DataFrame\n",
    "DataDict = { \"CumDef\" : np.array( cumD3mList, dtype=np.float32 ),\n",
    "             \"CumProb (2031-2060)\" : np.array( cprob3mList, dtype=np.float32 ), \n",
    "             \"LOCA2 SPEI (2031-2060)\" : np.array( spei3mList, dtype=np.float32 ),\n",
    "             \"CumProb (1981-2010)\" : CD3moObsDF[\"CumProb\"].to_numpy(dtype=np.float32), \n",
    "             \"SPEI (1981-2010)\" : CD3moObsDF[\"SPEI\"].to_numpy(dtype=np.float32), }\n",
    "spei3DF = pd.DataFrame( index=CD3moObsDF.index, data=DataDict )\n",
    "# now do the stats\n",
    "stats3List = list()\n",
    "indNList = list()\n",
    "for mI in MonIndexer:\n",
    "    lD3Mon = M3MonDict[mI][1]\n",
    "    indNList.append( \"shape_%d\" % mI )\n",
    "    indNList.append( \"scale_%d\" % mI )\n",
    "    indNList.append( \"loc_%d\" % mI )\n",
    "    stats3List.append( lD3Mon[\"k\"] )\n",
    "    stats3List.append( lD3Mon[\"scale\"] )\n",
    "    stats3List.append( lD3Mon[\"loc\"] )\n",
    "# end for\n",
    "# build the DataFrame\n",
    "stats3DDF = pd.DataFrame( index=indNList, data={\"SPEI Fit Stats\" : stats3List,} )"
   ]
  },
  {
   "cell_type": "code",
   "execution_count": 40,
   "metadata": {},
   "outputs": [
    {
     "data": {
      "text/html": [
       "<table border=\"1\" class=\"dataframe\">\n",
       "  <thead>\n",
       "    <tr style=\"text-align: right;\">\n",
       "      <th></th>\n",
       "      <th>CumDef</th>\n",
       "      <th>CumProb (2031-2060)</th>\n",
       "      <th>LOCA2 SPEI (2031-2060)</th>\n",
       "      <th>CumProb (1981-2010)</th>\n",
       "      <th>SPEI (1981-2010)</th>\n",
       "    </tr>\n",
       "    <tr>\n",
       "      <th>DateTime</th>\n",
       "      <th></th>\n",
       "      <th></th>\n",
       "      <th></th>\n",
       "      <th></th>\n",
       "      <th></th>\n",
       "    </tr>\n",
       "  </thead>\n",
       "  <tbody>\n",
       "    <tr>\n",
       "      <th>1993-01-01</th>\n",
       "      <td>24.873482</td>\n",
       "      <td>0.954038</td>\n",
       "      <td>1.685334</td>\n",
       "      <td>0.841334</td>\n",
       "      <td>0.999957</td>\n",
       "    </tr>\n",
       "    <tr>\n",
       "      <th>1993-02-01</th>\n",
       "      <td>-38.902702</td>\n",
       "      <td>0.889426</td>\n",
       "      <td>1.223481</td>\n",
       "      <td>0.694240</td>\n",
       "      <td>0.507905</td>\n",
       "    </tr>\n",
       "    <tr>\n",
       "      <th>1993-03-01</th>\n",
       "      <td>-108.027237</td>\n",
       "      <td>0.811859</td>\n",
       "      <td>0.884768</td>\n",
       "      <td>0.513766</td>\n",
       "      <td>0.034512</td>\n",
       "    </tr>\n",
       "    <tr>\n",
       "      <th>1993-04-01</th>\n",
       "      <td>-186.887543</td>\n",
       "      <td>0.733818</td>\n",
       "      <td>0.624403</td>\n",
       "      <td>0.498657</td>\n",
       "      <td>-0.003367</td>\n",
       "    </tr>\n",
       "    <tr>\n",
       "      <th>1993-05-01</th>\n",
       "      <td>-212.952789</td>\n",
       "      <td>0.747723</td>\n",
       "      <td>0.667341</td>\n",
       "      <td>0.556349</td>\n",
       "      <td>0.141719</td>\n",
       "    </tr>\n",
       "  </tbody>\n",
       "</table>"
      ],
      "text/plain": [
       "<IPython.core.display.HTML object>"
      ]
     },
     "metadata": {},
     "output_type": "display_data"
    }
   ],
   "source": [
    "display( HTML( spei3DF.head().to_html() ) )"
   ]
  },
  {
   "cell_type": "code",
   "execution_count": 41,
   "metadata": {},
   "outputs": [
    {
     "data": {
      "text/html": [
       "<table border=\"1\" class=\"dataframe\">\n",
       "  <thead>\n",
       "    <tr style=\"text-align: right;\">\n",
       "      <th></th>\n",
       "      <th>SPEI Fit Stats</th>\n",
       "    </tr>\n",
       "  </thead>\n",
       "  <tbody>\n",
       "    <tr>\n",
       "      <th>shape_1</th>\n",
       "      <td>-0.111064</td>\n",
       "    </tr>\n",
       "    <tr>\n",
       "      <th>scale_1</th>\n",
       "      <td>39.657363</td>\n",
       "    </tr>\n",
       "    <tr>\n",
       "      <th>loc_1</th>\n",
       "      <td>-118.139887</td>\n",
       "    </tr>\n",
       "    <tr>\n",
       "      <th>shape_2</th>\n",
       "      <td>-0.108253</td>\n",
       "    </tr>\n",
       "    <tr>\n",
       "      <th>scale_2</th>\n",
       "      <td>37.307033</td>\n",
       "    </tr>\n",
       "  </tbody>\n",
       "</table>"
      ],
      "text/plain": [
       "<IPython.core.display.HTML object>"
      ]
     },
     "metadata": {},
     "output_type": "display_data"
    }
   ],
   "source": [
    "display( HTML( stats3DDF.head().to_html() ) )"
   ]
  },
  {
   "cell_type": "markdown",
   "metadata": {},
   "source": [
    "Output to a spreadsheet for later analysis"
   ]
  },
  {
   "cell_type": "code",
   "execution_count": 42,
   "metadata": {},
   "outputs": [],
   "source": [
    "outXLSX = os.path.normpath( os.path.join( OUT_DIR, BasKey, \"%s_SPEI.xlsx\" % BasKey ) )\n",
    "writer = pd.ExcelWriter( outXLSX )\n",
    "workbook  = writer.book\n",
    "format1 = workbook.add_format({'num_format': '#,##0.00000'})\n",
    "cLabel = \"Stats_3mo\"\n",
    "stats3DDF.to_excel( writer, sheet_name=cLabel, index_label=\"Stats\" )\n",
    "# adjust columns\n",
    "writer.sheets[cLabel].set_column( 0, 0, 12 )\n",
    "for column in stats3DDF:\n",
    "    column_width = max(stats3DDF[column].astype(str).map(len).max()+6, len(column)+6)\n",
    "    col_idx = stats3DDF.columns.get_loc(column)\n",
    "    writer.sheets[cLabel].set_column(col_idx+1, col_idx+1, column_width, format1)\n",
    "# end for\n",
    "cLabel = \"SPEI_3mo\"\n",
    "spei3DF.to_excel( writer, sheet_name=cLabel, index_label=\"DateTime\" )\n",
    "# adjust columns\n",
    "writer.sheets[cLabel].set_column( 0, 0, 18 )\n",
    "for column in spei3DF:\n",
    "    column_width = max(spei3DF[column].astype(str).map(len).max()+6, len(column)+6)\n",
    "    col_idx = spei3DF.columns.get_loc(column)\n",
    "    writer.sheets[cLabel].set_column(col_idx+1, col_idx+1, column_width, format1)\n",
    "# end for\n",
    "writer.close()"
   ]
  },
  {
   "cell_type": "markdown",
   "metadata": {},
   "source": [
    "## Plots"
   ]
  },
  {
   "cell_type": "markdown",
   "metadata": {},
   "source": [
    "Want to do two different types of plots for graphically understanding what is going on\n",
    "\n",
    "1. Heatmap of SPI by aggregation interval\n",
    "2. Combined SPI columns with monthly discharge time series"
   ]
  },
  {
   "cell_type": "markdown",
   "metadata": {},
   "source": [
    "### Heatmaps"
   ]
  },
  {
   "cell_type": "code",
   "execution_count": 43,
   "metadata": {},
   "outputs": [
    {
     "data": {
      "text/html": [
       "<table border=\"1\" class=\"dataframe\">\n",
       "  <thead>\n",
       "    <tr style=\"text-align: right;\">\n",
       "      <th></th>\n",
       "      <th>CumPre</th>\n",
       "      <th>CumProb (2031-2060)</th>\n",
       "      <th>LOCA2 SPI (2031-2060)</th>\n",
       "      <th>CumProb (1981-2010)</th>\n",
       "      <th>SPI (1981-2010)</th>\n",
       "    </tr>\n",
       "  </thead>\n",
       "  <tbody>\n",
       "    <tr>\n",
       "      <th>count</th>\n",
       "      <td>360.000000</td>\n",
       "      <td>360.000000</td>\n",
       "      <td>360.000000</td>\n",
       "      <td>360.000000</td>\n",
       "      <td>360.000000</td>\n",
       "    </tr>\n",
       "    <tr>\n",
       "      <th>mean</th>\n",
       "      <td>200.604324</td>\n",
       "      <td>0.560471</td>\n",
       "      <td>0.251942</td>\n",
       "      <td>0.499334</td>\n",
       "      <td>-0.028305</td>\n",
       "    </tr>\n",
       "    <tr>\n",
       "      <th>std</th>\n",
       "      <td>134.664230</td>\n",
       "      <td>0.302027</td>\n",
       "      <td>1.135863</td>\n",
       "      <td>0.281618</td>\n",
       "      <td>0.993628</td>\n",
       "    </tr>\n",
       "    <tr>\n",
       "      <th>min</th>\n",
       "      <td>7.837421</td>\n",
       "      <td>0.002025</td>\n",
       "      <td>-2.874180</td>\n",
       "      <td>0.016667</td>\n",
       "      <td>-2.128045</td>\n",
       "    </tr>\n",
       "    <tr>\n",
       "      <th>25%</th>\n",
       "      <td>111.568953</td>\n",
       "      <td>0.306910</td>\n",
       "      <td>-0.504630</td>\n",
       "      <td>0.293698</td>\n",
       "      <td>-0.542652</td>\n",
       "    </tr>\n",
       "    <tr>\n",
       "      <th>50%</th>\n",
       "      <td>172.920029</td>\n",
       "      <td>0.589365</td>\n",
       "      <td>0.225913</td>\n",
       "      <td>0.511786</td>\n",
       "      <td>0.029547</td>\n",
       "    </tr>\n",
       "    <tr>\n",
       "      <th>75%</th>\n",
       "      <td>254.135948</td>\n",
       "      <td>0.817662</td>\n",
       "      <td>0.906545</td>\n",
       "      <td>0.726745</td>\n",
       "      <td>0.602999</td>\n",
       "    </tr>\n",
       "    <tr>\n",
       "      <th>max</th>\n",
       "      <td>737.842041</td>\n",
       "      <td>0.999408</td>\n",
       "      <td>3.242923</td>\n",
       "      <td>0.997126</td>\n",
       "      <td>2.761871</td>\n",
       "    </tr>\n",
       "  </tbody>\n",
       "</table>"
      ],
      "text/plain": [
       "<IPython.core.display.HTML object>"
      ]
     },
     "metadata": {},
     "output_type": "display_data"
    }
   ],
   "source": [
    "display( HTML( spi3DF.describe().to_html() ) )"
   ]
  },
  {
   "cell_type": "code",
   "execution_count": 44,
   "metadata": {},
   "outputs": [],
   "source": [
    "pMax = 3.0\n",
    "pMin = -3.0"
   ]
  },
  {
   "cell_type": "code",
   "execution_count": 45,
   "metadata": {},
   "outputs": [
    {
     "data": {
      "text/plain": [
       "(13, 13)"
      ]
     },
     "execution_count": 45,
     "metadata": {},
     "output_type": "execute_result"
    }
   ],
   "source": [
    "cColors = [ \"darkred\", \"firebrick\", \"indianred\", \"lightcoral\", \"lightsalmon\", \"antiquewhite\",\n",
    "            \"antiquewhite\", \"antiquewhite\", \"lightblue\", \"cadetblue\", \"royalblue\", \"mediumblue\", \"midnightblue\" ]\n",
    "# -3.0, -2.5, -2.0, -1.5, -1.0, -0.5, 0.0, 0.5, 1.0, 1.5, 2.0, 2.5, 3.0\n",
    "cNodes = [0.0, 0.0833, 0.1666, 0.25, 0.3333, 0.4166, 0.50, 0.5833, 0.666, 0.75, 0.8333, 0.9166, 1.0 ]\n",
    "len(cColors), len(cNodes)"
   ]
  },
  {
   "cell_type": "code",
   "execution_count": 46,
   "metadata": {},
   "outputs": [],
   "source": [
    "SegCMap = mpl.colors.LinearSegmentedColormap.from_list(\"mycmap\", list(zip(cNodes, cColors)))"
   ]
  },
  {
   "cell_type": "markdown",
   "metadata": {},
   "source": [
    "#### SPEI"
   ]
  },
  {
   "cell_type": "code",
   "execution_count": 47,
   "metadata": {},
   "outputs": [
    {
     "data": {
      "text/html": [
       "<table border=\"1\" class=\"dataframe\">\n",
       "  <thead>\n",
       "    <tr style=\"text-align: right;\">\n",
       "      <th></th>\n",
       "      <th>CumDef</th>\n",
       "      <th>CumProb (2031-2060)</th>\n",
       "      <th>LOCA2 SPEI (2031-2060)</th>\n",
       "      <th>CumProb (1981-2010)</th>\n",
       "      <th>SPEI (1981-2010)</th>\n",
       "    </tr>\n",
       "    <tr>\n",
       "      <th>DateTime</th>\n",
       "      <th></th>\n",
       "      <th></th>\n",
       "      <th></th>\n",
       "      <th></th>\n",
       "      <th></th>\n",
       "    </tr>\n",
       "  </thead>\n",
       "  <tbody>\n",
       "    <tr>\n",
       "      <th>1993-01-01</th>\n",
       "      <td>24.873482</td>\n",
       "      <td>0.954038</td>\n",
       "      <td>1.685334</td>\n",
       "      <td>0.841334</td>\n",
       "      <td>0.999957</td>\n",
       "    </tr>\n",
       "    <tr>\n",
       "      <th>1993-02-01</th>\n",
       "      <td>-38.902702</td>\n",
       "      <td>0.889426</td>\n",
       "      <td>1.223481</td>\n",
       "      <td>0.694240</td>\n",
       "      <td>0.507905</td>\n",
       "    </tr>\n",
       "    <tr>\n",
       "      <th>1993-03-01</th>\n",
       "      <td>-108.027237</td>\n",
       "      <td>0.811859</td>\n",
       "      <td>0.884768</td>\n",
       "      <td>0.513766</td>\n",
       "      <td>0.034512</td>\n",
       "    </tr>\n",
       "    <tr>\n",
       "      <th>1993-04-01</th>\n",
       "      <td>-186.887543</td>\n",
       "      <td>0.733818</td>\n",
       "      <td>0.624403</td>\n",
       "      <td>0.498657</td>\n",
       "      <td>-0.003367</td>\n",
       "    </tr>\n",
       "    <tr>\n",
       "      <th>1993-05-01</th>\n",
       "      <td>-212.952789</td>\n",
       "      <td>0.747723</td>\n",
       "      <td>0.667341</td>\n",
       "      <td>0.556349</td>\n",
       "      <td>0.141719</td>\n",
       "    </tr>\n",
       "  </tbody>\n",
       "</table>"
      ],
      "text/plain": [
       "<IPython.core.display.HTML object>"
      ]
     },
     "metadata": {},
     "output_type": "display_data"
    }
   ],
   "source": [
    "display( HTML( spei3DF.head().to_html() ) )"
   ]
  },
  {
   "cell_type": "code",
   "execution_count": 48,
   "metadata": {},
   "outputs": [],
   "source": [
    "bT3MoFut = spei3DF[[\"LOCA2 SPEI (2031-2060)\"]].copy()\n",
    "bT3MoObs = spei3DF[[\"SPEI (1981-2010)\"]].copy()"
   ]
  },
  {
   "cell_type": "code",
   "execution_count": 49,
   "metadata": {},
   "outputs": [],
   "source": [
    "bT3MoFut[\"Month\"] = bT3MoFut.index.month\n",
    "bT3MoFut[\"Year\"] = bT3MoFut.index.year"
   ]
  },
  {
   "cell_type": "code",
   "execution_count": 50,
   "metadata": {},
   "outputs": [],
   "source": [
    "bT3MoObs[\"Month\"] = bT3MoObs.index.month\n",
    "bT3MoObs[\"Year\"] = bT3MoObs.index.year"
   ]
  },
  {
   "cell_type": "code",
   "execution_count": 51,
   "metadata": {},
   "outputs": [],
   "source": [
    "pvbT3MoFut = bT3MoFut.pivot( index=\"Year\", columns=\"Month\", values=\"LOCA2 SPEI (2031-2060)\" )\n",
    "pvbT3MoObs = bT3MoObs.pivot( index=\"Year\", columns=\"Month\", values=\"SPEI (1981-2010)\" )"
   ]
  },
  {
   "cell_type": "code",
   "execution_count": 52,
   "metadata": {},
   "outputs": [
    {
     "data": {
      "text/plain": [
       "(2.7415075302124023, -1.988270878791809)"
      ]
     },
     "execution_count": 52,
     "metadata": {},
     "output_type": "execute_result"
    }
   ],
   "source": [
    "max( pvbT3MoFut.max(axis=1).tolist() ), min( pvbT3MoFut.min(axis=1).tolist() )"
   ]
  },
  {
   "cell_type": "code",
   "execution_count": 53,
   "metadata": {},
   "outputs": [
    {
     "data": {
      "text/plain": [
       "(2.5663628578186035, -2.1280453205108643)"
      ]
     },
     "execution_count": 53,
     "metadata": {},
     "output_type": "execute_result"
    }
   ],
   "source": [
    "max( pvbT3MoObs.max(axis=1).tolist() ), min( pvbT3MoObs.min(axis=1).tolist() )"
   ]
  },
  {
   "cell_type": "code",
   "execution_count": 54,
   "metadata": {},
   "outputs": [],
   "source": [
    "# get the annotation stuff\n",
    "NumYrs = len( pvbT3MoObs )\n",
    "allSPEI_1 = pvbT3MoObs.to_numpy( dtype=np.float32 )\n",
    "matLister1 = list()\n",
    "for iI in range( NumYrs ):\n",
    "    rowLister = list()\n",
    "    for jJ in range(12):\n",
    "        cVal = allSPEI_1[iI, jJ]\n",
    "        if ( cVal >= 1.5 ) or ( cVal <= -1.5 ):\n",
    "            rowLister.append( \"%4.1f\" % cVal )\n",
    "        else:\n",
    "            rowLister.append( \"\" )\n",
    "        # end if\n",
    "    # end inner for\n",
    "    matLister1.append( rowLister )\n",
    "# end outer for\n",
    "AnnotMat_Obs1 = np.array( matLister1 )"
   ]
  },
  {
   "cell_type": "code",
   "execution_count": 55,
   "metadata": {},
   "outputs": [],
   "source": [
    "# get the annotation stuff\n",
    "NumYrs = len( pvbT3MoFut )\n",
    "allSPEI_1 = pvbT3MoFut.to_numpy( dtype=np.float32 )\n",
    "matLister1 = list()\n",
    "for iI in range( NumYrs ):\n",
    "    rowLister = list()\n",
    "    for jJ in range(12):\n",
    "        cVal = allSPEI_1[iI, jJ]\n",
    "        if ( cVal >= 1.5 ) or ( cVal <= -1.5 ):\n",
    "            rowLister.append( \"%4.1f\" % cVal )\n",
    "        else:\n",
    "            rowLister.append( \"\" )\n",
    "        # end if\n",
    "    # end inner for\n",
    "    matLister1.append( rowLister )\n",
    "# end outer for\n",
    "AnnotMat_Fut1 = np.array( matLister1 )"
   ]
  },
  {
   "cell_type": "code",
   "execution_count": 56,
   "metadata": {},
   "outputs": [],
   "source": [
    "OutFilePDF = os.path.normpath( os.path.join( OUT_DIR, BasKey, \"Compare_SPEI_3mon_%s.pdf\" % BasKey ) )\n",
    "OutFileSVG = os.path.normpath( os.path.join( OUT_DIR, BasKey, \"Compare_SPEI_3mon_%s.svg\" % BasKey ) )\n",
    "OutFilePNG = os.path.normpath( os.path.join( OUT_DIR, BasKey, \"Compare_SPEI_3mon_%s.png\" % BasKey ) )"
   ]
  },
  {
   "cell_type": "code",
   "execution_count": 57,
   "metadata": {},
   "outputs": [
    {
     "data": {
      "image/png": "[encoded data removed]",
      "text/plain": [
       "<Figure size 1350x800 with 4 Axes>"
      ]
     },
     "metadata": {},
     "output_type": "display_data"
    }
   ],
   "source": [
    "Fig1 = plt.figure()\n",
    "Fig1.set_size_inches(13.5, 8.0)\n",
    "ax11 = Fig1.add_subplot(1,2,1)\n",
    "ax11 = sns.heatmap( pvbT3MoObs, vmin=pMin, vmax=pMax, cmap=SegCMap, center=0.0,\n",
    "                    annot=AnnotMat_Obs1, fmt=\"s\", linecolor=\"gainsboro\", linewidths=0.0,\n",
    "                    annot_kws={'fontsize':9, 'color':'xkcd:black'},\n",
    "                    cbar_kws={'label': 'SPEI (1981-2010)',}, ax=ax11 )\n",
    "cbar = ax11.collections[0].colorbar\n",
    "cbar.ax.tick_params(labelsize=9)\n",
    "ax11.set_title( \"%s, 3-month SPEI (1981-2010 CN)\" % BasKey, fontsize=12 )\n",
    "ax11.set_xlabel('Month', fontsize=10 )\n",
    "ax11.set_ylabel('Year', fontsize=10)\n",
    "ax11.tick_params(axis='both', which='major', labelsize=10)\n",
    "ax21 = Fig1.add_subplot(1,2,2)\n",
    "ax21 = sns.heatmap( pvbT3MoFut, vmin=pMin, vmax=pMax, cmap=SegCMap, center=0.0,\n",
    "                    annot=AnnotMat_Fut1, fmt=\"s\", linecolor=\"gainsboro\", linewidths=0.0,\n",
    "                    annot_kws={'fontsize':9, 'color':'xkcd:black'},\n",
    "                    cbar_kws={'label': 'SPEI (2031-2060)',}, ax=ax21 )\n",
    "cbar = ax21.collections[0].colorbar\n",
    "cbar.ax.tick_params(labelsize=9)\n",
    "ax21.set_title( \"%s, 3-month SPEI (LOCA2 2031-2060 CN)\" % BasKey, fontsize=12 )\n",
    "ax21.set_xlabel('Month', fontsize=10 )\n",
    "ax21.set_ylabel('Year', fontsize=10)\n",
    "ax21.tick_params(axis='both', which='major', labelsize=10)\n",
    "Fig1.savefig( OutFileSVG, dpi=600 )\n",
    "Fig1.savefig( OutFilePNG, dpi=600 )\n",
    "Fig1.savefig( OutFilePDF, dpi=600 )"
   ]
  },
  {
   "cell_type": "markdown",
   "metadata": {},
   "source": [
    "#### SPI"
   ]
  },
  {
   "cell_type": "code",
   "execution_count": 58,
   "metadata": {},
   "outputs": [],
   "source": [
    "bT3MoFut = spi3DF[[\"LOCA2 SPI (2031-2060)\"]].copy()\n",
    "bT3MoObs = spi3DF[[\"SPI (1981-2010)\"]].copy()"
   ]
  },
  {
   "cell_type": "code",
   "execution_count": 59,
   "metadata": {},
   "outputs": [],
   "source": [
    "bT3MoFut[\"Month\"] = bT3MoFut.index.month\n",
    "bT3MoFut[\"Year\"] = bT3MoFut.index.year"
   ]
  },
  {
   "cell_type": "code",
   "execution_count": 60,
   "metadata": {},
   "outputs": [],
   "source": [
    "bT3MoObs[\"Month\"] = bT3MoObs.index.month\n",
    "bT3MoObs[\"Year\"] = bT3MoObs.index.year"
   ]
  },
  {
   "cell_type": "code",
   "execution_count": 61,
   "metadata": {},
   "outputs": [],
   "source": [
    "pvbT3MoFut = bT3MoFut.pivot( index=\"Year\", columns=\"Month\", values=\"LOCA2 SPI (2031-2060)\" )\n",
    "pvbT3MoObs = bT3MoObs.pivot( index=\"Year\", columns=\"Month\", values=\"SPI (1981-2010)\" )"
   ]
  },
  {
   "cell_type": "code",
   "execution_count": 62,
   "metadata": {},
   "outputs": [],
   "source": [
    "# get the annotation stuff\n",
    "NumYrs = len( pvbT3MoObs )\n",
    "allSPEI_1 = pvbT3MoObs.to_numpy( dtype=np.float32 )\n",
    "matLister1 = list()\n",
    "for iI in range( NumYrs ):\n",
    "    rowLister = list()\n",
    "    for jJ in range(12):\n",
    "        cVal = allSPEI_1[iI, jJ]\n",
    "        if ( cVal >= 1.5 ) or ( cVal <= -1.5 ):\n",
    "            rowLister.append( \"%4.1f\" % cVal )\n",
    "        else:\n",
    "            rowLister.append( \"\" )\n",
    "        # end if\n",
    "    # end inner for\n",
    "    matLister1.append( rowLister )\n",
    "# end outer for\n",
    "AnnotMat_Obs1 = np.array( matLister1 )"
   ]
  },
  {
   "cell_type": "code",
   "execution_count": 63,
   "metadata": {},
   "outputs": [],
   "source": [
    "# get the annotation stuff\n",
    "NumYrs = len( pvbT3MoFut )\n",
    "allSPEI_1 = pvbT3MoFut.to_numpy( dtype=np.float32 )\n",
    "matLister1 = list()\n",
    "for iI in range( NumYrs ):\n",
    "    rowLister = list()\n",
    "    for jJ in range(12):\n",
    "        cVal = allSPEI_1[iI, jJ]\n",
    "        if ( cVal >= 1.5 ) or ( cVal <= -1.5 ):\n",
    "            rowLister.append( \"%4.1f\" % cVal )\n",
    "        else:\n",
    "            rowLister.append( \"\" )\n",
    "        # end if\n",
    "    # end inner for\n",
    "    matLister1.append( rowLister )\n",
    "# end outer for\n",
    "AnnotMat_Fut1 = np.array( matLister1 )"
   ]
  },
  {
   "cell_type": "code",
   "execution_count": 64,
   "metadata": {},
   "outputs": [],
   "source": [
    "OutFilePDF = os.path.normpath( os.path.join( OUT_DIR, BasKey, \"Compare_SPI_3mon_%s.pdf\" % BasKey ) )\n",
    "OutFileSVG = os.path.normpath( os.path.join( OUT_DIR, BasKey, \"Compare_SPI_3mon_%s.svg\" % BasKey ) )\n",
    "OutFilePNG = os.path.normpath( os.path.join( OUT_DIR, BasKey, \"Compare_SPI_3mon_%s.png\" % BasKey ) )"
   ]
  },
  {
   "cell_type": "code",
   "execution_count": 65,
   "metadata": {},
   "outputs": [
    {
     "data": {
      "image/png": "[encoded data removed]",
      "text/plain": [
       "<Figure size 1350x800 with 4 Axes>"
      ]
     },
     "metadata": {},
     "output_type": "display_data"
    }
   ],
   "source": [
    "Fig1 = plt.figure()\n",
    "Fig1.set_size_inches(13.5, 8.0)\n",
    "ax11 = Fig1.add_subplot(1,2,1)\n",
    "ax11 = sns.heatmap( pvbT3MoObs, vmin=pMin, vmax=pMax, cmap=SegCMap, center=0.0,\n",
    "                    annot=AnnotMat_Obs1, fmt=\"s\", linecolor=\"gainsboro\", linewidths=0.0,\n",
    "                    annot_kws={'fontsize':9, 'color':'xkcd:black'},\n",
    "                    cbar_kws={'label': 'SPI (1981-2010)',}, ax=ax11 )\n",
    "cbar = ax11.collections[0].colorbar\n",
    "cbar.ax.tick_params(labelsize=9)\n",
    "ax11.set_title( \"%s, 3-month SPI (1981-2010 CN)\" % BasKey, fontsize=12 )\n",
    "ax11.set_xlabel('Month', fontsize=10 )\n",
    "ax11.set_ylabel('Year', fontsize=10)\n",
    "ax11.tick_params(axis='both', which='major', labelsize=10)\n",
    "ax21 = Fig1.add_subplot(1,2,2)\n",
    "ax21 = sns.heatmap( pvbT3MoFut, vmin=pMin, vmax=pMax, cmap=SegCMap, center=0.0,\n",
    "                    annot=AnnotMat_Fut1, fmt=\"s\", linecolor=\"gainsboro\", linewidths=0.0,\n",
    "                    annot_kws={'fontsize':9, 'color':'xkcd:black'},\n",
    "                    cbar_kws={'label': 'SPI (2031-2060)',}, ax=ax21 )\n",
    "cbar = ax21.collections[0].colorbar\n",
    "cbar.ax.tick_params(labelsize=9)\n",
    "ax21.set_title( \"%s, 3-month SPI (LOCA2 2031-2060 CN)\" % BasKey, fontsize=12 )\n",
    "ax21.set_xlabel('Month', fontsize=10 )\n",
    "ax21.set_ylabel('Year', fontsize=10)\n",
    "ax21.tick_params(axis='both', which='major', labelsize=10)\n",
    "Fig1.savefig( OutFileSVG, dpi=600 )\n",
    "Fig1.savefig( OutFilePNG, dpi=600 )\n",
    "Fig1.savefig( OutFilePDF, dpi=600 )"
   ]
  }
 ],
 "metadata": {
  "kernelspec": {
   "display_name": "Python 3 (ipykernel)",
   "language": "python",
   "name": "python3"
  },
  "language_info": {
   "codemirror_mode": {
    "name": "ipython",
    "version": 3
   },
   "file_extension": ".py",
   "mimetype": "text/x-python",
   "name": "python",
   "nbconvert_exporter": "python",
   "pygments_lexer": "ipython3",
   "version": "3.9.15"
  }
 },
 "nbformat": 4,
 "nbformat_minor": 4
}
